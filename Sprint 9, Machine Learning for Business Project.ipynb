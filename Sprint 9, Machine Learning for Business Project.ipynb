{
 "cells": [
  {
   "cell_type": "markdown",
   "metadata": {},
   "source": [
    "<div class=\"alert alert-success\">\n",
    "<b>Reviewer's comment V2</b>\n",
    "\n",
    "Thanks for taking the time to improve the project! It is now accepted. Good luck on the next sprint!\n",
    "\n",
    "</div>"
   ]
  },
  {
   "cell_type": "markdown",
   "metadata": {},
   "source": [
    "**Review**\n",
    "\n",
    "Hello Aryslan!\n",
    "\n",
    "I'm happy to review your project today.\n",
    "  \n",
    "You can find my comments in colored markdown cells:\n",
    "  \n",
    "<div class=\"alert alert-success\">\n",
    "  If everything is done successfully.\n",
    "</div>\n",
    "  \n",
    "<div class=\"alert alert-warning\">\n",
    "  If I have some (optional) suggestions, or questions to think about, or general comments.\n",
    "</div>\n",
    "  \n",
    "<div class=\"alert alert-danger\">\n",
    "  If a section requires some corrections. Work can't be accepted with red comments.\n",
    "</div>\n",
    "  \n",
    "Please don't remove my comments, as it will make further review iterations much harder for me.\n",
    "  \n",
    "Feel free to reply to my comments or ask questions using the following template:\n",
    "  \n",
    "<div class=\"alert alert-info\">\n",
    "  For your comments and questions.\n",
    "</div>\n",
    "  \n",
    "First of all, thank you for turning in the project! You did a pretty good job on modeling, but there are some issues with profit distribution estimation that need to be corrected before the project is accepted. Let me know if you have questions!"
   ]
  },
  {
   "cell_type": "markdown",
   "metadata": {},
   "source": [
    "Title:\n",
    "    \n",
    "Identifying the Optimal Region for New Oil Well Development"
   ]
  },
  {
   "cell_type": "markdown",
   "metadata": {},
   "source": [
    "Introduction:\n",
    "\n",
    "In the competitive and capital-intensive oil mining industry, making informed decisions about where to develop new wells is crucial for maximizing returns and minimizing financial risks. The OilyGiant mining company aims to leverage data-driven approaches to identify the optimal region for the development of a new oil well. This report presents a comprehensive analysis using machine learning models to predict oil well productivity and the bootstrapping technique to assess potential profit and associated risks across three distinct regions."
   ]
  },
  {
   "cell_type": "code",
   "execution_count": 1,
   "metadata": {},
   "outputs": [],
   "source": [
    "import pandas as pd\n",
    "from sklearn.model_selection import GridSearchCV, train_test_split\n",
    "from sklearn.metrics import accuracy_score, f1_score\n",
    "from sklearn.ensemble import RandomForestRegressor\n",
    "from sklearn.metrics import r2_score\n",
    "from sklearn.metrics import mean_absolute_error\n",
    "from sklearn.preprocessing import StandardScaler\n",
    "from sklearn.ensemble import RandomForestClassifier\n",
    "from sklearn.tree import DecisionTreeClassifier\n",
    "from sklearn.linear_model import LogisticRegression\n",
    "from sklearn.metrics import mean_squared_error\n",
    "from sklearn.dummy import DummyClassifier\n",
    "import matplotlib.pyplot as plt\n",
    "import numpy as np\n",
    "from sklearn.utils import shuffle\n",
    "from sklearn.metrics import roc_auc_score\n",
    "from sklearn.linear_model import LinearRegression"
   ]
  },
  {
   "cell_type": "markdown",
   "metadata": {},
   "source": [
    "- Download and prepare the data. Explain the procedure.\n"
   ]
  },
  {
   "cell_type": "code",
   "execution_count": 2,
   "metadata": {},
   "outputs": [
    {
     "data": {
      "text/html": [
       "<div>\n",
       "<style scoped>\n",
       "    .dataframe tbody tr th:only-of-type {\n",
       "        vertical-align: middle;\n",
       "    }\n",
       "\n",
       "    .dataframe tbody tr th {\n",
       "        vertical-align: top;\n",
       "    }\n",
       "\n",
       "    .dataframe thead th {\n",
       "        text-align: right;\n",
       "    }\n",
       "</style>\n",
       "<table border=\"1\" class=\"dataframe\">\n",
       "  <thead>\n",
       "    <tr style=\"text-align: right;\">\n",
       "      <th></th>\n",
       "      <th>id</th>\n",
       "      <th>f0</th>\n",
       "      <th>f1</th>\n",
       "      <th>f2</th>\n",
       "      <th>product</th>\n",
       "    </tr>\n",
       "  </thead>\n",
       "  <tbody>\n",
       "    <tr>\n",
       "      <th>0</th>\n",
       "      <td>txEyH</td>\n",
       "      <td>0.705745</td>\n",
       "      <td>-0.497823</td>\n",
       "      <td>1.221170</td>\n",
       "      <td>105.280062</td>\n",
       "    </tr>\n",
       "    <tr>\n",
       "      <th>1</th>\n",
       "      <td>2acmU</td>\n",
       "      <td>1.334711</td>\n",
       "      <td>-0.340164</td>\n",
       "      <td>4.365080</td>\n",
       "      <td>73.037750</td>\n",
       "    </tr>\n",
       "    <tr>\n",
       "      <th>2</th>\n",
       "      <td>409Wp</td>\n",
       "      <td>1.022732</td>\n",
       "      <td>0.151990</td>\n",
       "      <td>1.419926</td>\n",
       "      <td>85.265647</td>\n",
       "    </tr>\n",
       "    <tr>\n",
       "      <th>3</th>\n",
       "      <td>iJLyR</td>\n",
       "      <td>-0.032172</td>\n",
       "      <td>0.139033</td>\n",
       "      <td>2.978566</td>\n",
       "      <td>168.620776</td>\n",
       "    </tr>\n",
       "    <tr>\n",
       "      <th>4</th>\n",
       "      <td>Xdl7t</td>\n",
       "      <td>1.988431</td>\n",
       "      <td>0.155413</td>\n",
       "      <td>4.751769</td>\n",
       "      <td>154.036647</td>\n",
       "    </tr>\n",
       "  </tbody>\n",
       "</table>\n",
       "</div>"
      ],
      "text/plain": [
       "      id        f0        f1        f2     product\n",
       "0  txEyH  0.705745 -0.497823  1.221170  105.280062\n",
       "1  2acmU  1.334711 -0.340164  4.365080   73.037750\n",
       "2  409Wp  1.022732  0.151990  1.419926   85.265647\n",
       "3  iJLyR -0.032172  0.139033  2.978566  168.620776\n",
       "4  Xdl7t  1.988431  0.155413  4.751769  154.036647"
      ]
     },
     "execution_count": 2,
     "metadata": {},
     "output_type": "execute_result"
    }
   ],
   "source": [
    "data_0 = pd.read_csv('/datasets/geo_data_0.csv')\n",
    "data_1 = pd.read_csv('/datasets/geo_data_1.csv')\n",
    "data_2 = pd.read_csv('/datasets/geo_data_2.csv')\n",
    "data_0.head()"
   ]
  },
  {
   "cell_type": "markdown",
   "metadata": {},
   "source": [
    "Remove the extra (id) column and collect into one list"
   ]
  },
  {
   "cell_type": "code",
   "execution_count": 3,
   "metadata": {},
   "outputs": [],
   "source": [
    "data_all = [\n",
    "    data_0.drop('id', axis=1),\n",
    "    data_1.drop('id', axis=1),\n",
    "    data_2.drop('id', axis=1),\n",
    "]"
   ]
  },
  {
   "cell_type": "markdown",
   "metadata": {},
   "source": [
    "Target distribution"
   ]
  },
  {
   "cell_type": "code",
   "execution_count": 4,
   "metadata": {},
   "outputs": [
    {
     "data": {
      "text/html": [
       "<div>\n",
       "<style scoped>\n",
       "    .dataframe tbody tr th:only-of-type {\n",
       "        vertical-align: middle;\n",
       "    }\n",
       "\n",
       "    .dataframe tbody tr th {\n",
       "        vertical-align: top;\n",
       "    }\n",
       "\n",
       "    .dataframe thead th {\n",
       "        text-align: right;\n",
       "    }\n",
       "</style>\n",
       "<table border=\"1\" class=\"dataframe\">\n",
       "  <thead>\n",
       "    <tr style=\"text-align: right;\">\n",
       "      <th></th>\n",
       "      <th>id</th>\n",
       "      <th>f0</th>\n",
       "      <th>f1</th>\n",
       "      <th>f2</th>\n",
       "      <th>product</th>\n",
       "    </tr>\n",
       "  </thead>\n",
       "  <tbody>\n",
       "    <tr>\n",
       "      <th>0</th>\n",
       "      <td>txEyH</td>\n",
       "      <td>0.705745</td>\n",
       "      <td>-0.497823</td>\n",
       "      <td>1.221170</td>\n",
       "      <td>105.280062</td>\n",
       "    </tr>\n",
       "    <tr>\n",
       "      <th>1</th>\n",
       "      <td>2acmU</td>\n",
       "      <td>1.334711</td>\n",
       "      <td>-0.340164</td>\n",
       "      <td>4.365080</td>\n",
       "      <td>73.037750</td>\n",
       "    </tr>\n",
       "    <tr>\n",
       "      <th>2</th>\n",
       "      <td>409Wp</td>\n",
       "      <td>1.022732</td>\n",
       "      <td>0.151990</td>\n",
       "      <td>1.419926</td>\n",
       "      <td>85.265647</td>\n",
       "    </tr>\n",
       "    <tr>\n",
       "      <th>3</th>\n",
       "      <td>iJLyR</td>\n",
       "      <td>-0.032172</td>\n",
       "      <td>0.139033</td>\n",
       "      <td>2.978566</td>\n",
       "      <td>168.620776</td>\n",
       "    </tr>\n",
       "    <tr>\n",
       "      <th>4</th>\n",
       "      <td>Xdl7t</td>\n",
       "      <td>1.988431</td>\n",
       "      <td>0.155413</td>\n",
       "      <td>4.751769</td>\n",
       "      <td>154.036647</td>\n",
       "    </tr>\n",
       "  </tbody>\n",
       "</table>\n",
       "</div>"
      ],
      "text/plain": [
       "      id        f0        f1        f2     product\n",
       "0  txEyH  0.705745 -0.497823  1.221170  105.280062\n",
       "1  2acmU  1.334711 -0.340164  4.365080   73.037750\n",
       "2  409Wp  1.022732  0.151990  1.419926   85.265647\n",
       "3  iJLyR -0.032172  0.139033  2.978566  168.620776\n",
       "4  Xdl7t  1.988431  0.155413  4.751769  154.036647"
      ]
     },
     "execution_count": 4,
     "metadata": {},
     "output_type": "execute_result"
    }
   ],
   "source": [
    "data_0.head()"
   ]
  },
  {
   "cell_type": "code",
   "execution_count": 5,
   "metadata": {},
   "outputs": [
    {
     "data": {
      "text/html": [
       "<div>\n",
       "<style scoped>\n",
       "    .dataframe tbody tr th:only-of-type {\n",
       "        vertical-align: middle;\n",
       "    }\n",
       "\n",
       "    .dataframe tbody tr th {\n",
       "        vertical-align: top;\n",
       "    }\n",
       "\n",
       "    .dataframe thead th {\n",
       "        text-align: right;\n",
       "    }\n",
       "</style>\n",
       "<table border=\"1\" class=\"dataframe\">\n",
       "  <thead>\n",
       "    <tr style=\"text-align: right;\">\n",
       "      <th></th>\n",
       "      <th>id</th>\n",
       "      <th>f0</th>\n",
       "      <th>f1</th>\n",
       "      <th>f2</th>\n",
       "      <th>product</th>\n",
       "    </tr>\n",
       "  </thead>\n",
       "  <tbody>\n",
       "    <tr>\n",
       "      <th>0</th>\n",
       "      <td>kBEdx</td>\n",
       "      <td>-15.001348</td>\n",
       "      <td>-8.276000</td>\n",
       "      <td>-0.005876</td>\n",
       "      <td>3.179103</td>\n",
       "    </tr>\n",
       "    <tr>\n",
       "      <th>1</th>\n",
       "      <td>62mP7</td>\n",
       "      <td>14.272088</td>\n",
       "      <td>-3.475083</td>\n",
       "      <td>0.999183</td>\n",
       "      <td>26.953261</td>\n",
       "    </tr>\n",
       "    <tr>\n",
       "      <th>2</th>\n",
       "      <td>vyE1P</td>\n",
       "      <td>6.263187</td>\n",
       "      <td>-5.948386</td>\n",
       "      <td>5.001160</td>\n",
       "      <td>134.766305</td>\n",
       "    </tr>\n",
       "    <tr>\n",
       "      <th>3</th>\n",
       "      <td>KcrkZ</td>\n",
       "      <td>-13.081196</td>\n",
       "      <td>-11.506057</td>\n",
       "      <td>4.999415</td>\n",
       "      <td>137.945408</td>\n",
       "    </tr>\n",
       "    <tr>\n",
       "      <th>4</th>\n",
       "      <td>AHL4O</td>\n",
       "      <td>12.702195</td>\n",
       "      <td>-8.147433</td>\n",
       "      <td>5.004363</td>\n",
       "      <td>134.766305</td>\n",
       "    </tr>\n",
       "  </tbody>\n",
       "</table>\n",
       "</div>"
      ],
      "text/plain": [
       "      id         f0         f1        f2     product\n",
       "0  kBEdx -15.001348  -8.276000 -0.005876    3.179103\n",
       "1  62mP7  14.272088  -3.475083  0.999183   26.953261\n",
       "2  vyE1P   6.263187  -5.948386  5.001160  134.766305\n",
       "3  KcrkZ -13.081196 -11.506057  4.999415  137.945408\n",
       "4  AHL4O  12.702195  -8.147433  5.004363  134.766305"
      ]
     },
     "execution_count": 5,
     "metadata": {},
     "output_type": "execute_result"
    }
   ],
   "source": [
    "data_1.head()"
   ]
  },
  {
   "cell_type": "code",
   "execution_count": 6,
   "metadata": {},
   "outputs": [
    {
     "data": {
      "text/html": [
       "<div>\n",
       "<style scoped>\n",
       "    .dataframe tbody tr th:only-of-type {\n",
       "        vertical-align: middle;\n",
       "    }\n",
       "\n",
       "    .dataframe tbody tr th {\n",
       "        vertical-align: top;\n",
       "    }\n",
       "\n",
       "    .dataframe thead th {\n",
       "        text-align: right;\n",
       "    }\n",
       "</style>\n",
       "<table border=\"1\" class=\"dataframe\">\n",
       "  <thead>\n",
       "    <tr style=\"text-align: right;\">\n",
       "      <th></th>\n",
       "      <th>id</th>\n",
       "      <th>f0</th>\n",
       "      <th>f1</th>\n",
       "      <th>f2</th>\n",
       "      <th>product</th>\n",
       "    </tr>\n",
       "  </thead>\n",
       "  <tbody>\n",
       "    <tr>\n",
       "      <th>0</th>\n",
       "      <td>fwXo0</td>\n",
       "      <td>-1.146987</td>\n",
       "      <td>0.963328</td>\n",
       "      <td>-0.828965</td>\n",
       "      <td>27.758673</td>\n",
       "    </tr>\n",
       "    <tr>\n",
       "      <th>1</th>\n",
       "      <td>WJtFt</td>\n",
       "      <td>0.262778</td>\n",
       "      <td>0.269839</td>\n",
       "      <td>-2.530187</td>\n",
       "      <td>56.069697</td>\n",
       "    </tr>\n",
       "    <tr>\n",
       "      <th>2</th>\n",
       "      <td>ovLUW</td>\n",
       "      <td>0.194587</td>\n",
       "      <td>0.289035</td>\n",
       "      <td>-5.586433</td>\n",
       "      <td>62.871910</td>\n",
       "    </tr>\n",
       "    <tr>\n",
       "      <th>3</th>\n",
       "      <td>q6cA6</td>\n",
       "      <td>2.236060</td>\n",
       "      <td>-0.553760</td>\n",
       "      <td>0.930038</td>\n",
       "      <td>114.572842</td>\n",
       "    </tr>\n",
       "    <tr>\n",
       "      <th>4</th>\n",
       "      <td>WPMUX</td>\n",
       "      <td>-0.515993</td>\n",
       "      <td>1.716266</td>\n",
       "      <td>5.899011</td>\n",
       "      <td>149.600746</td>\n",
       "    </tr>\n",
       "  </tbody>\n",
       "</table>\n",
       "</div>"
      ],
      "text/plain": [
       "      id        f0        f1        f2     product\n",
       "0  fwXo0 -1.146987  0.963328 -0.828965   27.758673\n",
       "1  WJtFt  0.262778  0.269839 -2.530187   56.069697\n",
       "2  ovLUW  0.194587  0.289035 -5.586433   62.871910\n",
       "3  q6cA6  2.236060 -0.553760  0.930038  114.572842\n",
       "4  WPMUX -0.515993  1.716266  5.899011  149.600746"
      ]
     },
     "execution_count": 6,
     "metadata": {},
     "output_type": "execute_result"
    }
   ],
   "source": [
    "data_2.head()"
   ]
  },
  {
   "cell_type": "code",
   "execution_count": 7,
   "metadata": {},
   "outputs": [
    {
     "data": {
      "image/png": "[encoded data removed]",
      "text/plain": [
       "<Figure size 640x480 with 1 Axes>"
      ]
     },
     "metadata": {},
     "output_type": "display_data"
    },
    {
     "data": {
      "image/png": "[encoded data removed]",
      "text/plain": [
       "<Figure size 640x480 with 1 Axes>"
      ]
     },
     "metadata": {},
     "output_type": "display_data"
    },
    {
     "data": {
      "image/png": "[encoded data removed]",
      "text/plain": [
       "<Figure size 640x480 with 1 Axes>"
      ]
     },
     "metadata": {},
     "output_type": "display_data"
    }
   ],
   "source": [
    "for data in data_all:\n",
    "    plt.figure()\n",
    "    data['product'].hist()\n",
    "  "
   ]
  },
  {
   "cell_type": "markdown",
   "metadata": {},
   "source": [
    "<div class=\"alert alert-success\">\n",
    "<b>Reviewer's comment</b>\n",
    "\n",
    "The data was loaded and inspected\n",
    "\n",
    "</div>"
   ]
  },
  {
   "cell_type": "markdown",
   "metadata": {},
   "source": [
    "- Training and testing the model for each region:"
   ]
  },
  {
   "cell_type": "code",
   "execution_count": 8,
   "metadata": {},
   "outputs": [
    {
     "data": {
      "text/plain": [
       "((75000, 3), (25000, 3), (75000,), (25000,))"
      ]
     },
     "execution_count": 8,
     "metadata": {},
     "output_type": "execute_result"
    }
   ],
   "source": [
    "features = data.drop('product', axis=1)\n",
    "target = data['product']\n",
    "\n",
    "features_train, features_val, target_train, target_val = train_test_split(\n",
    "        features, target, test_size=0.25, random_state=42)\n",
    "    \n",
    "features_train.shape, features_val.shape, target_train.shape, target_val.shape"
   ]
  },
  {
   "cell_type": "code",
   "execution_count": 9,
   "metadata": {},
   "outputs": [
    {
     "name": "stdout",
     "output_type": "stream",
     "text": [
      "--Region 0 --\n",
      "mean product amount = 92.50000000000001\n",
      "Model RMSE: 37.756600350261685\n",
      "\n",
      "--Region 1 --\n",
      "mean product amount = 68.82500000000002\n",
      "Model RMSE: 0.890280100102884\n",
      "\n",
      "--Region 2 --\n",
      "mean product amount = 95.00000000000004\n",
      "Model RMSE: 40.14587231134218\n",
      "\n"
     ]
    }
   ],
   "source": [
    "state = np.random.RandomState(42)\n",
    "\n",
    "samples_target = []\n",
    "samples_predictions = []\n",
    "for region in range(len(data_all)):\n",
    "    data = data_all[region]\n",
    "    features = data.drop('product', axis=1)\n",
    "    target = data['product']\n",
    "    features_train, features_val, target_train, target_val = train_test_split(\n",
    "        features, target, test_size=0.25, random_state=42)\n",
    "    \n",
    "    model = LinearRegression()\n",
    "    model.fit(features_train, target_train)\n",
    "    predictions = model.predict(features_val)\n",
    "    \n",
    "    samples_target.append(target_val.reset_index(drop=True))\n",
    "    samples_predictions.append(pd.Series(predictions))\n",
    "    \n",
    "    mean_product = target.mean()\n",
    "    model_rmse = mean_squared_error(target_val, predictions)**0.5\n",
    "    \n",
    "    print(\"--Region\", region, \"--\")\n",
    "    print(\"mean product amount =\", mean_product)\n",
    "    print(\"Model RMSE:\", model_rmse)\n",
    "    print()"
   ]
  },
  {
   "cell_type": "markdown",
   "metadata": {},
   "source": [
    "<div class=\"alert alert-success\">\n",
    "<b>Reviewer's comment</b>\n",
    "\n",
    "The data for each region was split into train and validation sets, the models were trained and evaluated correctly\n",
    "\n",
    "</div>"
   ]
  },
  {
   "cell_type": "markdown",
   "metadata": {},
   "source": [
    "- Preparing for profit calculation"
   ]
  },
  {
   "cell_type": "code",
   "execution_count": 10,
   "metadata": {},
   "outputs": [],
   "source": [
    "Budget = 100_000_000\n",
    "Revenue_per_unit = 4500\n",
    "Units_per_budget = Budget // Revenue_per_unit\n",
    "\n",
    "Product_price = 45\n",
    "\n",
    "def profit(target, predictions):\n",
    "    predictions_sorted = pd.Series(predictions).sort_values(ascending=False)\n",
    "    selected_units = target[predictions_sorted.index] [:200]\n",
    "    product = selected_units.sum()\n",
    "    revenue = product * Revenue_per_unit\n",
    "    price = Budget\n",
    "    return revenue - price"
   ]
  },
  {
   "cell_type": "markdown",
   "metadata": {},
   "source": [
    "<div class=\"alert alert-danger\">\n",
    "<b>Reviewer's comment</b>\n",
    "\n",
    "Profit calculation function is not quite correct: \n",
    "    \n",
    "1. Our budget is for developing 200 wells. So, after sorting the wells by predictions, you need to select the best 200 wells (that is not the value your `Units_per_budget` variable contains).\n",
    "    \n",
    "2. The amount of proiduct in the wells is measured in units of 1000 barrels. To find revenue you need to multiply the total product by `Revenue_per_unit = 4500`, not `Product_price = 45`.\n",
    "\n",
    "</div>"
   ]
  },
  {
   "cell_type": "markdown",
   "metadata": {},
   "source": [
    "<div class=\"alert alert-success\">\n",
    "<b>Reviewer's comment V2</b>\n",
    "\n",
    "Ok, fixed!\n",
    "\n",
    "</div>"
   ]
  },
  {
   "cell_type": "code",
   "execution_count": 11,
   "metadata": {},
   "outputs": [
    {
     "name": "stdout",
     "output_type": "stream",
     "text": [
      "Amount of product for 0 profit: 100.0\n",
      "Profit: -15914686.494915396\n"
     ]
    }
   ],
   "source": [
    "profit(target, predictions) \n",
    "\n",
    "Price_per_units = Budget / Units_per_budget\n",
    "zero_profit_product = Revenue_per_unit / Product_price\n",
    "print(\"Amount of product for 0 profit:\", zero_profit_product)\n",
    "print(\"Profit:\", profit(target, predictions))"
   ]
  },
  {
   "cell_type": "code",
   "execution_count": 12,
   "metadata": {},
   "outputs": [
    {
     "data": {
      "text/plain": [
       "22222"
      ]
     },
     "execution_count": 12,
     "metadata": {},
     "output_type": "execute_result"
    }
   ],
   "source": [
    "Units_per_budget = Budget // Revenue_per_unit\n",
    "Units_per_budget"
   ]
  },
  {
   "cell_type": "markdown",
   "metadata": {},
   "source": [
    "Finding: \n",
    "The calculated zero-profit product amount provides a clear benchmark for evaluating the feasibility of new oil well projects. Ensuring that the projected production meets or exceeds this amount is crucial for achieving financial viability and avoiding losses in oil well development initiatives."
   ]
  },
  {
   "cell_type": "markdown",
   "metadata": {},
   "source": [
    "<div class=\"alert alert-danger\">\n",
    "<b>Reviewer's comment</b>\n",
    "\n",
    "Ok, so what we want to calculate is the average amount of product per well to break even (that is so that revenue would be equal to the costs, i.e. budget). What you calculated in the following line is the total amount of product needed to break even:\n",
    "    \n",
    "> Units_per_budget = Budget // Revenue_per_unit\n",
    "    \n",
    "Can you find the average amount of product per well needed to break even if we're developing 200 wells? After calculating it, please compare that value to the average predicted amount of product per well in each region.\n",
    "\n",
    "</div>"
   ]
  },
  {
   "cell_type": "markdown",
   "metadata": {},
   "source": [
    "<div class=\"alert alert-warning\">\n",
    "<b>Reviewer's comment V2</b>\n",
    "\n",
    "Alright, so the 22222 figure is the total amount of product from 200 wells required to break even. Then the average is 22222/200 ~= 111. That is higher than the average amount of product in each region, which means that if we simply select the wells to develop randomly we're going to lose money on average, and we actually need our models to select better wells if we hope to make a profit.\n",
    "\n",
    "</div>"
   ]
  },
  {
   "cell_type": "markdown",
   "metadata": {},
   "source": [
    "- Calculate risks and profit for each region:"
   ]
  },
  {
   "cell_type": "code",
   "execution_count": 13,
   "metadata": {},
   "outputs": [
    {
     "data": {
      "text/plain": [
       "array([ 98.30191642, 101.59246124,  52.4490989 , ...,  64.09839   ,\n",
       "        83.76413542,  86.55864415])"
      ]
     },
     "execution_count": 13,
     "metadata": {},
     "output_type": "execute_result"
    }
   ],
   "source": [
    "predictions"
   ]
  },
  {
   "cell_type": "code",
   "execution_count": 14,
   "metadata": {},
   "outputs": [],
   "source": [
    "Sample_size = 500\n",
    "Bootstrap_size = 1000\n",
    "\n",
    "#samples_target = [pd.Series(np.random.rand(1000) * 100) for _ in range(3)]\n",
    "#samples_predictions = [pd.Series(np.random.rand(1000) * 100) for _ in range(3)]"
   ]
  },
  {
   "cell_type": "code",
   "execution_count": 15,
   "metadata": {},
   "outputs": [
    {
     "name": "stdout",
     "output_type": "stream",
     "text": [
      "--Region 0 --\n",
      "Mean profit = 4203604.300282125\n",
      "95% confidence interval: (-1104251.6286958347, 9722989.182375599)\n",
      "Risk of losses= 5.800000000000001 %\n",
      "\n",
      "--Region 1 --\n",
      "Mean profit = 4958938.020930194\n",
      "95% confidence interval: (817034.9595345858, 9273537.675069306)\n",
      "Risk of losses= 1.4000000000000001 %\n",
      "\n",
      "--Region 2 --\n",
      "Mean profit = 3957167.6290754755\n",
      "95% confidence interval: (-1498442.26506278, 9401867.189307444)\n",
      "Risk of losses= 8.0 %\n",
      "\n"
     ]
    }
   ],
   "source": [
    "for region in range(3):\n",
    "    target = samples_target[region]\n",
    "    predictions = samples_predictions[region]\n",
    "    \n",
    "    profit_values = []\n",
    "    for i in range(Bootstrap_size):\n",
    "        target_sample = target.sample(Sample_size, replace=True)\n",
    "        predictions_sample = predictions[target_sample.index]\n",
    "        profit_values.append(profit(target_sample, predictions_sample))\n",
    "    \n",
    "    profit_values = pd.Series(profit_values)\n",
    "    \n",
    "    mean_profit = profit_values.mean()\n",
    "    confidence_interval = (profit_values.quantile(0.025), profit_values.quantile(0.975))\n",
    "    negative_profit_chance = (profit_values <0).mean()\n",
    "    \n",
    "    print(\"--Region\", region, \"--\")\n",
    "    print(\"Mean profit =\", mean_profit)\n",
    "    print(\"95% confidence interval:\", confidence_interval)\n",
    "    print(\"Risk of losses=\", negative_profit_chance * 100, \"%\")\n",
    "    print()"
   ]
  },
  {
   "cell_type": "markdown",
   "metadata": {},
   "source": [
    "<div class=\"alert alert-danger\">\n",
    "<b>Reviewer's comment</b>\n",
    "\n",
    "Bootstrapping looks good, except you need to remove `random_state` parameter when sampling, otherwise all 1000 samples will be exactly the same, thus all profits in the list will be the same, and it won't be possible to use them to estimate profit distribution.\n",
    "    \n",
    "The code used to calculate statistics of the profit distribution is correct\n",
    "\n",
    "</div>"
   ]
  },
  {
   "cell_type": "markdown",
   "metadata": {},
   "source": [
    "<div class=\"alert alert-success\">\n",
    "<b>Reviewer's comment V2</b>\n",
    "\n",
    "All good now!\n",
    "\n",
    "</div>"
   ]
  },
  {
   "cell_type": "markdown",
   "metadata": {},
   "source": [
    "Conclusion:\n",
    "\n",
    "Using the bootstrapping technique for distribution of profit the analysis found following results. Region 1 is the best choice for developing new oil wells due to its highest mean profit and the lowest risk of financial losses. Region 0 is also a good option, though with a slightly higher risk. Region 2, while still profitable on average, has the highest risk of losses among the three regions and may require more careful consideration before investment."
   ]
  },
  {
   "cell_type": "markdown",
   "metadata": {},
   "source": [
    "Recommendation: \n",
    " \n",
    "Based on the analysis, Region 1 is the best choice for developing new oil wells due to its highest mean profit and lowest risk of financial losses."
   ]
  },
  {
   "cell_type": "markdown",
   "metadata": {},
   "source": [
    "<div class=\"alert alert-danger\">\n",
    "<b>Reviewer's comment</b>\n",
    "\n",
    "Please check the conclusions after fixing the problems above\n",
    "\n",
    "</div>"
   ]
  },
  {
   "cell_type": "markdown",
   "metadata": {},
   "source": [
    "<div class=\"alert alert-success\">\n",
    "<b>Reviewer's comment V2</b>\n",
    "\n",
    "Conclusion makes sense, region choice is correct and justified\n",
    "\n",
    "</div>"
   ]
  }
 ],
 "metadata": {
  "ExecuteTimeLog": [
   {
    "duration": 322,
    "start_time": "2024-05-25T13:51:11.573Z"
   },
   {
    "duration": 8,
    "start_time": "2024-05-25T13:51:32.824Z"
   },
   {
    "duration": 21,
    "start_time": "2024-05-25T13:51:36.864Z"
   },
   {
    "duration": 21,
    "start_time": "2024-05-25T13:53:06.814Z"
   },
   {
    "duration": 21,
    "start_time": "2024-05-25T13:53:32.874Z"
   },
   {
    "duration": 445,
    "start_time": "2024-05-25T13:53:55.503Z"
   },
   {
    "duration": 205,
    "start_time": "2024-05-25T13:53:55.952Z"
   },
   {
    "duration": 3,
    "start_time": "2024-05-25T13:54:27.891Z"
   },
   {
    "duration": 5,
    "start_time": "2024-05-25T13:54:30.834Z"
   },
   {
    "duration": 464,
    "start_time": "2024-05-25T18:56:25.810Z"
   },
   {
    "duration": 193,
    "start_time": "2024-05-25T18:56:26.277Z"
   },
   {
    "duration": 4,
    "start_time": "2024-05-25T18:56:26.475Z"
   },
   {
    "duration": 6,
    "start_time": "2024-05-25T18:56:26.481Z"
   },
   {
    "duration": 177,
    "start_time": "2024-05-25T18:57:31.177Z"
   },
   {
    "duration": 165,
    "start_time": "2024-05-25T18:57:52.060Z"
   },
   {
    "duration": 4651,
    "start_time": "2024-05-25T18:58:36.920Z"
   },
   {
    "duration": 140,
    "start_time": "2024-05-25T18:58:41.575Z"
   },
   {
    "duration": 146,
    "start_time": "2024-05-25T18:58:44.434Z"
   },
   {
    "duration": 127,
    "start_time": "2024-05-25T18:58:47.384Z"
   },
   {
    "duration": 127,
    "start_time": "2024-05-25T19:05:48.657Z"
   },
   {
    "duration": 128,
    "start_time": "2024-05-25T19:05:49.779Z"
   },
   {
    "duration": 137,
    "start_time": "2024-05-25T19:05:59.903Z"
   },
   {
    "duration": 126,
    "start_time": "2024-05-25T19:06:25.234Z"
   },
   {
    "duration": 127,
    "start_time": "2024-05-25T19:06:39.213Z"
   },
   {
    "duration": 128,
    "start_time": "2024-05-25T19:06:44.639Z"
   },
   {
    "duration": 1380,
    "start_time": "2024-05-25T19:06:59.163Z"
   },
   {
    "duration": 182,
    "start_time": "2024-05-25T19:07:00.546Z"
   },
   {
    "duration": 142,
    "start_time": "2024-05-25T19:07:00.731Z"
   },
   {
    "duration": 144,
    "start_time": "2024-05-25T19:07:00.877Z"
   },
   {
    "duration": 6,
    "start_time": "2024-05-25T19:09:35.884Z"
   },
   {
    "duration": 130,
    "start_time": "2024-05-25T19:09:36.746Z"
   },
   {
    "duration": 130,
    "start_time": "2024-05-25T19:09:37.677Z"
   },
   {
    "duration": 130,
    "start_time": "2024-05-25T19:09:39.197Z"
   },
   {
    "duration": 128,
    "start_time": "2024-05-25T19:10:10.382Z"
   },
   {
    "duration": 127,
    "start_time": "2024-05-25T19:10:18.820Z"
   },
   {
    "duration": 476,
    "start_time": "2024-05-25T19:20:47.936Z"
   },
   {
    "duration": 9,
    "start_time": "2024-05-25T19:21:56.411Z"
   },
   {
    "duration": 10,
    "start_time": "2024-05-25T19:28:24.027Z"
   },
   {
    "duration": 1458,
    "start_time": "2024-05-25T19:30:07.780Z"
   },
   {
    "duration": 176,
    "start_time": "2024-05-25T19:30:09.242Z"
   },
   {
    "duration": 149,
    "start_time": "2024-05-25T19:30:09.421Z"
   },
   {
    "duration": 148,
    "start_time": "2024-05-25T19:30:09.574Z"
   },
   {
    "duration": 10,
    "start_time": "2024-05-25T19:30:09.727Z"
   },
   {
    "duration": 14837,
    "start_time": "2024-05-25T19:30:09.740Z"
   },
   {
    "duration": 0,
    "start_time": "2024-05-25T19:30:24.581Z"
   },
   {
    "duration": 119655,
    "start_time": "2024-05-25T19:30:26.906Z"
   },
   {
    "duration": 157,
    "start_time": "2024-05-25T19:32:26.564Z"
   },
   {
    "duration": 790,
    "start_time": "2024-05-25T19:43:45.523Z"
   },
   {
    "duration": 6,
    "start_time": "2024-05-25T19:45:34.314Z"
   },
   {
    "duration": 24,
    "start_time": "2024-05-25T19:48:50.612Z"
   },
   {
    "duration": 23,
    "start_time": "2024-05-25T19:49:03.659Z"
   },
   {
    "duration": 100,
    "start_time": "2024-05-25T19:49:07.017Z"
   },
   {
    "duration": 36,
    "start_time": "2024-05-25T19:50:22.730Z"
   },
   {
    "duration": 79,
    "start_time": "2024-05-25T19:51:06.700Z"
   },
   {
    "duration": 5,
    "start_time": "2024-05-25T19:51:14.211Z"
   },
   {
    "duration": 6,
    "start_time": "2024-05-25T19:51:35.063Z"
   },
   {
    "duration": 12,
    "start_time": "2024-05-25T19:51:52.193Z"
   },
   {
    "duration": 16,
    "start_time": "2024-05-25T19:52:01.816Z"
   },
   {
    "duration": 12,
    "start_time": "2024-05-25T19:52:14.936Z"
   },
   {
    "duration": 8,
    "start_time": "2024-05-25T19:52:25.315Z"
   },
   {
    "duration": 12,
    "start_time": "2024-05-25T19:52:33.644Z"
   },
   {
    "duration": 80,
    "start_time": "2024-05-25T19:52:37.905Z"
   },
   {
    "duration": 25,
    "start_time": "2024-05-25T19:53:10.598Z"
   },
   {
    "duration": 26,
    "start_time": "2024-05-25T19:53:29.640Z"
   },
   {
    "duration": 29,
    "start_time": "2024-05-25T19:53:38.538Z"
   },
   {
    "duration": 25,
    "start_time": "2024-05-25T19:53:53.984Z"
   },
   {
    "duration": 75,
    "start_time": "2024-05-25T19:53:56.224Z"
   },
   {
    "duration": 24,
    "start_time": "2024-05-25T19:54:51.238Z"
   },
   {
    "duration": 15,
    "start_time": "2024-05-25T20:01:42.867Z"
   },
   {
    "duration": 307,
    "start_time": "2024-05-25T20:01:48.652Z"
   },
   {
    "duration": 5,
    "start_time": "2024-05-25T20:02:24.028Z"
   },
   {
    "duration": 81,
    "start_time": "2024-05-25T20:02:27.792Z"
   },
   {
    "duration": 18,
    "start_time": "2024-05-25T20:03:53.416Z"
   },
   {
    "duration": 190,
    "start_time": "2024-05-25T20:04:43.377Z"
   },
   {
    "duration": 1408,
    "start_time": "2024-05-25T20:05:07.118Z"
   },
   {
    "duration": 145,
    "start_time": "2024-05-25T20:05:08.529Z"
   },
   {
    "duration": 146,
    "start_time": "2024-05-25T20:05:08.677Z"
   },
   {
    "duration": 144,
    "start_time": "2024-05-25T20:05:08.827Z"
   },
   {
    "duration": 483,
    "start_time": "2024-05-25T20:05:08.976Z"
   },
   {
    "duration": 0,
    "start_time": "2024-05-25T20:05:09.462Z"
   },
   {
    "duration": 0,
    "start_time": "2024-05-25T20:05:09.464Z"
   },
   {
    "duration": 0,
    "start_time": "2024-05-25T20:05:09.466Z"
   },
   {
    "duration": 0,
    "start_time": "2024-05-25T20:05:09.467Z"
   },
   {
    "duration": 15,
    "start_time": "2024-05-25T20:05:31.601Z"
   },
   {
    "duration": 6,
    "start_time": "2024-05-25T20:05:48.882Z"
   },
   {
    "duration": 16,
    "start_time": "2024-05-25T20:05:53.138Z"
   },
   {
    "duration": 192,
    "start_time": "2024-05-25T20:05:55.809Z"
   },
   {
    "duration": 5525,
    "start_time": "2024-05-26T00:30:10.400Z"
   },
   {
    "duration": 230,
    "start_time": "2024-05-26T00:30:15.930Z"
   },
   {
    "duration": 203,
    "start_time": "2024-05-26T00:30:16.165Z"
   },
   {
    "duration": 181,
    "start_time": "2024-05-26T00:30:16.371Z"
   },
   {
    "duration": 13,
    "start_time": "2024-05-26T00:30:16.557Z"
   },
   {
    "duration": 6,
    "start_time": "2024-05-26T00:30:16.573Z"
   },
   {
    "duration": 49,
    "start_time": "2024-05-26T00:30:16.582Z"
   },
   {
    "duration": 729,
    "start_time": "2024-05-26T00:30:16.634Z"
   },
   {
    "duration": 0,
    "start_time": "2024-05-26T00:30:17.366Z"
   },
   {
    "duration": 82,
    "start_time": "2024-05-26T00:37:07.075Z"
   },
   {
    "duration": 73,
    "start_time": "2024-05-26T00:48:31.821Z"
   },
   {
    "duration": 7,
    "start_time": "2024-05-26T00:50:23.151Z"
   },
   {
    "duration": 151,
    "start_time": "2024-05-26T00:50:26.719Z"
   },
   {
    "duration": 139,
    "start_time": "2024-05-26T00:50:27.916Z"
   },
   {
    "duration": 136,
    "start_time": "2024-05-26T00:50:29.211Z"
   },
   {
    "duration": 16,
    "start_time": "2024-05-26T00:50:32.546Z"
   },
   {
    "duration": 13,
    "start_time": "2024-05-26T00:50:41.142Z"
   },
   {
    "duration": 5,
    "start_time": "2024-05-26T00:50:42.919Z"
   },
   {
    "duration": 16,
    "start_time": "2024-05-26T00:50:48.655Z"
   },
   {
    "duration": 80,
    "start_time": "2024-05-26T00:50:50.987Z"
   },
   {
    "duration": 13,
    "start_time": "2024-05-26T00:51:31.397Z"
   },
   {
    "duration": 8,
    "start_time": "2024-05-26T00:51:41.464Z"
   },
   {
    "duration": 11,
    "start_time": "2024-05-26T00:51:58.028Z"
   },
   {
    "duration": 7,
    "start_time": "2024-05-26T00:52:31.282Z"
   },
   {
    "duration": 41,
    "start_time": "2024-05-26T00:52:32.300Z"
   },
   {
    "duration": 87,
    "start_time": "2024-05-26T00:52:34.373Z"
   },
   {
    "duration": 105,
    "start_time": "2024-05-26T01:08:22.908Z"
   },
   {
    "duration": 34,
    "start_time": "2024-05-26T01:08:49.611Z"
   },
   {
    "duration": 6,
    "start_time": "2024-05-26T01:10:55.534Z"
   },
   {
    "duration": 1527,
    "start_time": "2024-05-26T01:11:24.675Z"
   },
   {
    "duration": 156,
    "start_time": "2024-05-26T01:11:26.206Z"
   },
   {
    "duration": 151,
    "start_time": "2024-05-26T01:11:26.365Z"
   },
   {
    "duration": 155,
    "start_time": "2024-05-26T01:11:26.519Z"
   },
   {
    "duration": 16,
    "start_time": "2024-05-26T01:11:26.678Z"
   },
   {
    "duration": 9,
    "start_time": "2024-05-26T01:11:26.697Z"
   },
   {
    "duration": 37,
    "start_time": "2024-05-26T01:11:26.712Z"
   },
   {
    "duration": 701,
    "start_time": "2024-05-26T01:11:26.752Z"
   },
   {
    "duration": 0,
    "start_time": "2024-05-26T01:11:27.456Z"
   },
   {
    "duration": 40,
    "start_time": "2024-05-26T01:13:48.734Z"
   },
   {
    "duration": 28,
    "start_time": "2024-05-26T01:15:06.664Z"
   },
   {
    "duration": 32,
    "start_time": "2024-05-26T01:15:51.442Z"
   },
   {
    "duration": 6,
    "start_time": "2024-05-26T01:16:09.927Z"
   },
   {
    "duration": 32,
    "start_time": "2024-05-26T01:16:15.258Z"
   },
   {
    "duration": 85,
    "start_time": "2024-05-26T01:16:17.013Z"
   },
   {
    "duration": 32,
    "start_time": "2024-05-26T01:16:23.486Z"
   },
   {
    "duration": 14,
    "start_time": "2024-05-26T01:20:56.882Z"
   },
   {
    "duration": 71,
    "start_time": "2024-05-26T01:21:12.961Z"
   },
   {
    "duration": 87,
    "start_time": "2024-05-26T01:23:13.822Z"
   },
   {
    "duration": 27,
    "start_time": "2024-05-26T01:23:18.662Z"
   },
   {
    "duration": 10,
    "start_time": "2024-05-26T01:26:50.064Z"
   },
   {
    "duration": 6,
    "start_time": "2024-05-26T01:27:18.048Z"
   },
   {
    "duration": 35,
    "start_time": "2024-05-26T01:27:44.962Z"
   },
   {
    "duration": 71,
    "start_time": "2024-05-26T01:28:42.300Z"
   },
   {
    "duration": 5083,
    "start_time": "2024-05-26T02:05:23.554Z"
   },
   {
    "duration": 166,
    "start_time": "2024-05-26T02:05:28.640Z"
   },
   {
    "duration": 166,
    "start_time": "2024-05-26T02:05:28.809Z"
   },
   {
    "duration": 174,
    "start_time": "2024-05-26T02:05:28.978Z"
   },
   {
    "duration": 15,
    "start_time": "2024-05-26T02:05:29.156Z"
   },
   {
    "duration": 6,
    "start_time": "2024-05-26T02:05:29.174Z"
   },
   {
    "duration": 4,
    "start_time": "2024-05-26T02:05:29.212Z"
   },
   {
    "duration": 33,
    "start_time": "2024-05-26T02:05:29.220Z"
   },
   {
    "duration": 12,
    "start_time": "2024-05-26T02:05:29.257Z"
   },
   {
    "duration": 671,
    "start_time": "2024-05-26T02:05:29.273Z"
   },
   {
    "duration": 0,
    "start_time": "2024-05-26T02:05:29.947Z"
   },
   {
    "duration": 67,
    "start_time": "2024-05-26T02:06:20.766Z"
   },
   {
    "duration": 75,
    "start_time": "2024-05-26T02:07:58.090Z"
   },
   {
    "duration": 6,
    "start_time": "2024-05-26T02:09:28.282Z"
   },
   {
    "duration": 34280,
    "start_time": "2024-05-26T02:09:35.759Z"
   },
   {
    "duration": 35143,
    "start_time": "2024-05-26T02:10:27.414Z"
   },
   {
    "duration": 33,
    "start_time": "2024-05-26T02:15:24.533Z"
   },
   {
    "duration": 6,
    "start_time": "2024-05-26T02:35:28.210Z"
   },
   {
    "duration": 34052,
    "start_time": "2024-05-26T02:35:40.021Z"
   },
   {
    "duration": 29,
    "start_time": "2024-05-26T02:41:52.846Z"
   },
   {
    "duration": 5241,
    "start_time": "2024-05-26T15:20:49.156Z"
   },
   {
    "duration": 168,
    "start_time": "2024-05-26T15:20:54.401Z"
   },
   {
    "duration": 164,
    "start_time": "2024-05-26T15:20:54.572Z"
   },
   {
    "duration": 162,
    "start_time": "2024-05-26T15:20:54.739Z"
   },
   {
    "duration": 13,
    "start_time": "2024-05-26T15:20:54.906Z"
   },
   {
    "duration": 10,
    "start_time": "2024-05-26T15:20:54.933Z"
   },
   {
    "duration": 3,
    "start_time": "2024-05-26T15:20:54.946Z"
   },
   {
    "duration": 29,
    "start_time": "2024-05-26T15:20:54.952Z"
   },
   {
    "duration": 12,
    "start_time": "2024-05-26T15:20:54.984Z"
   },
   {
    "duration": 519,
    "start_time": "2024-05-26T15:21:28.974Z"
   },
   {
    "duration": 0,
    "start_time": "2024-05-26T15:21:29.496Z"
   },
   {
    "duration": 25,
    "start_time": "2024-05-26T15:21:36.013Z"
   },
   {
    "duration": 34096,
    "start_time": "2024-05-26T15:21:40.581Z"
   },
   {
    "duration": 7,
    "start_time": "2024-05-26T15:24:11.307Z"
   },
   {
    "duration": 139,
    "start_time": "2024-05-26T15:24:15.651Z"
   },
   {
    "duration": 175,
    "start_time": "2024-05-26T15:24:21.900Z"
   },
   {
    "duration": 154,
    "start_time": "2024-05-26T15:24:24.380Z"
   },
   {
    "duration": 24,
    "start_time": "2024-05-26T15:25:25.481Z"
   },
   {
    "duration": 25,
    "start_time": "2024-05-26T15:25:32.662Z"
   },
   {
    "duration": 32,
    "start_time": "2024-05-26T15:25:51.432Z"
   },
   {
    "duration": 114,
    "start_time": "2024-05-26T15:26:11.522Z"
   },
   {
    "duration": 5056,
    "start_time": "2024-05-26T16:19:57.127Z"
   },
   {
    "duration": 1392,
    "start_time": "2024-05-26T16:20:09.846Z"
   },
   {
    "duration": 173,
    "start_time": "2024-05-26T16:20:11.241Z"
   },
   {
    "duration": 184,
    "start_time": "2024-05-26T16:20:11.417Z"
   },
   {
    "duration": 167,
    "start_time": "2024-05-26T16:20:11.604Z"
   },
   {
    "duration": 13,
    "start_time": "2024-05-26T16:20:11.777Z"
   },
   {
    "duration": 24,
    "start_time": "2024-05-26T16:20:11.793Z"
   },
   {
    "duration": 3,
    "start_time": "2024-05-26T16:20:11.820Z"
   },
   {
    "duration": 28,
    "start_time": "2024-05-26T16:20:11.827Z"
   },
   {
    "duration": 16,
    "start_time": "2024-05-26T16:20:11.858Z"
   },
   {
    "duration": 590,
    "start_time": "2024-05-26T16:20:11.877Z"
   },
   {
    "duration": 0,
    "start_time": "2024-05-26T16:20:12.470Z"
   },
   {
    "duration": 31,
    "start_time": "2024-05-26T16:24:10.568Z"
   },
   {
    "duration": 57,
    "start_time": "2024-05-26T16:24:33.268Z"
   },
   {
    "duration": 14,
    "start_time": "2024-05-26T16:24:42.657Z"
   },
   {
    "duration": 5,
    "start_time": "2024-05-26T16:27:23.978Z"
   },
   {
    "duration": 26,
    "start_time": "2024-05-26T16:31:27.923Z"
   },
   {
    "duration": 313,
    "start_time": "2024-05-26T16:37:15.929Z"
   },
   {
    "duration": 5,
    "start_time": "2024-05-26T16:39:05.050Z"
   },
   {
    "duration": 12,
    "start_time": "2024-05-26T17:18:34.969Z"
   },
   {
    "duration": 321,
    "start_time": "2024-05-26T17:23:01.171Z"
   },
   {
    "duration": 5498,
    "start_time": "2024-05-26T17:23:20.254Z"
   },
   {
    "duration": 182,
    "start_time": "2024-05-26T17:23:25.755Z"
   },
   {
    "duration": 167,
    "start_time": "2024-05-26T17:23:25.941Z"
   },
   {
    "duration": 173,
    "start_time": "2024-05-26T17:23:26.112Z"
   },
   {
    "duration": 25,
    "start_time": "2024-05-26T17:23:26.291Z"
   },
   {
    "duration": 13,
    "start_time": "2024-05-26T17:23:26.318Z"
   },
   {
    "duration": 36,
    "start_time": "2024-05-26T17:23:26.334Z"
   },
   {
    "duration": 19,
    "start_time": "2024-05-26T17:23:26.373Z"
   },
   {
    "duration": 79,
    "start_time": "2024-05-26T17:23:26.395Z"
   },
   {
    "duration": 10,
    "start_time": "2024-05-26T17:23:26.539Z"
   },
   {
    "duration": 386,
    "start_time": "2024-05-26T17:23:26.559Z"
   },
   {
    "duration": 5,
    "start_time": "2024-05-26T17:23:26.949Z"
   },
   {
    "duration": 75,
    "start_time": "2024-05-26T17:23:26.957Z"
   },
   {
    "duration": 28,
    "start_time": "2024-05-26T17:41:31.255Z"
   },
   {
    "duration": 21,
    "start_time": "2024-05-26T17:41:38.163Z"
   },
   {
    "duration": 6,
    "start_time": "2024-05-26T17:43:04.910Z"
   },
   {
    "duration": 5,
    "start_time": "2024-05-26T17:44:35.036Z"
   },
   {
    "duration": 15,
    "start_time": "2024-05-26T17:45:24.760Z"
   },
   {
    "duration": 5126,
    "start_time": "2024-05-27T15:23:54.647Z"
   },
   {
    "duration": 184,
    "start_time": "2024-05-27T15:23:59.777Z"
   },
   {
    "duration": 173,
    "start_time": "2024-05-27T15:23:59.964Z"
   },
   {
    "duration": 184,
    "start_time": "2024-05-27T15:24:00.141Z"
   },
   {
    "duration": 14,
    "start_time": "2024-05-27T15:24:00.328Z"
   },
   {
    "duration": 6,
    "start_time": "2024-05-27T15:24:00.346Z"
   },
   {
    "duration": 62,
    "start_time": "2024-05-27T15:24:00.356Z"
   },
   {
    "duration": 13,
    "start_time": "2024-05-27T15:24:00.420Z"
   },
   {
    "duration": 16,
    "start_time": "2024-05-27T15:24:00.436Z"
   },
   {
    "duration": 5,
    "start_time": "2024-05-27T15:24:00.513Z"
   },
   {
    "duration": 392,
    "start_time": "2024-05-27T15:24:00.522Z"
   },
   {
    "duration": 6,
    "start_time": "2024-05-27T15:24:00.917Z"
   },
   {
    "duration": 24,
    "start_time": "2024-05-27T15:24:00.926Z"
   },
   {
    "duration": 62,
    "start_time": "2024-05-27T15:24:00.952Z"
   },
   {
    "duration": 5,
    "start_time": "2024-05-27T15:24:01.017Z"
   },
   {
    "duration": 90,
    "start_time": "2024-05-27T15:24:01.026Z"
   },
   {
    "duration": 1270,
    "start_time": "2024-05-27T15:51:24.543Z"
   },
   {
    "duration": 8,
    "start_time": "2024-05-27T15:51:45.980Z"
   },
   {
    "duration": 129,
    "start_time": "2024-05-27T15:57:59.002Z"
   },
   {
    "duration": 46,
    "start_time": "2024-05-27T16:00:02.836Z"
   },
   {
    "duration": 45,
    "start_time": "2024-05-27T16:00:23.720Z"
   },
   {
    "duration": 44,
    "start_time": "2024-05-27T16:01:19.128Z"
   },
   {
    "duration": 5149,
    "start_time": "2024-05-27T18:58:53.987Z"
   },
   {
    "duration": 180,
    "start_time": "2024-05-27T18:58:59.140Z"
   },
   {
    "duration": 187,
    "start_time": "2024-05-27T18:58:59.323Z"
   },
   {
    "duration": 187,
    "start_time": "2024-05-27T18:58:59.514Z"
   },
   {
    "duration": 18,
    "start_time": "2024-05-27T18:58:59.705Z"
   },
   {
    "duration": 7,
    "start_time": "2024-05-27T18:58:59.727Z"
   },
   {
    "duration": 37,
    "start_time": "2024-05-27T18:58:59.739Z"
   },
   {
    "duration": 48,
    "start_time": "2024-05-27T18:58:59.779Z"
   },
   {
    "duration": 27,
    "start_time": "2024-05-27T18:58:59.832Z"
   },
   {
    "duration": 5,
    "start_time": "2024-05-27T18:58:59.924Z"
   },
   {
    "duration": 399,
    "start_time": "2024-05-27T18:58:59.932Z"
   },
   {
    "duration": 5,
    "start_time": "2024-05-27T18:59:00.335Z"
   },
   {
    "duration": 20,
    "start_time": "2024-05-27T18:59:00.343Z"
   },
   {
    "duration": 58,
    "start_time": "2024-05-27T18:59:00.366Z"
   },
   {
    "duration": 5,
    "start_time": "2024-05-27T18:59:00.428Z"
   },
   {
    "duration": 86,
    "start_time": "2024-05-27T18:59:00.437Z"
   },
   {
    "duration": 8,
    "start_time": "2024-05-27T18:59:00.527Z"
   },
   {
    "duration": 548,
    "start_time": "2024-05-27T18:59:00.538Z"
   },
   {
    "duration": 5138,
    "start_time": "2024-05-27T21:33:02.295Z"
   },
   {
    "duration": 181,
    "start_time": "2024-05-27T21:33:07.437Z"
   },
   {
    "duration": 178,
    "start_time": "2024-05-27T21:33:07.621Z"
   },
   {
    "duration": 174,
    "start_time": "2024-05-27T21:33:07.802Z"
   },
   {
    "duration": 14,
    "start_time": "2024-05-27T21:33:07.981Z"
   },
   {
    "duration": 6,
    "start_time": "2024-05-27T21:33:07.998Z"
   },
   {
    "duration": 50,
    "start_time": "2024-05-27T21:33:08.007Z"
   },
   {
    "duration": 12,
    "start_time": "2024-05-27T21:33:08.060Z"
   },
   {
    "duration": 64,
    "start_time": "2024-05-27T21:33:08.076Z"
   },
   {
    "duration": 5,
    "start_time": "2024-05-27T21:33:08.142Z"
   },
   {
    "duration": 459,
    "start_time": "2024-05-27T21:33:08.150Z"
   },
   {
    "duration": 6,
    "start_time": "2024-05-27T21:33:08.612Z"
   },
   {
    "duration": 28,
    "start_time": "2024-05-27T21:33:08.634Z"
   },
   {
    "duration": 64,
    "start_time": "2024-05-27T21:33:08.670Z"
   },
   {
    "duration": 12,
    "start_time": "2024-05-27T21:33:08.737Z"
   },
   {
    "duration": 86,
    "start_time": "2024-05-27T21:33:08.752Z"
   },
   {
    "duration": 9,
    "start_time": "2024-05-27T21:33:08.840Z"
   },
   {
    "duration": 527,
    "start_time": "2024-05-27T21:33:08.853Z"
   },
   {
    "duration": 8,
    "start_time": "2024-05-27T21:43:25.052Z"
   },
   {
    "duration": 1383,
    "start_time": "2024-05-27T21:43:37.578Z"
   },
   {
    "duration": 149,
    "start_time": "2024-05-27T21:43:38.965Z"
   },
   {
    "duration": 139,
    "start_time": "2024-05-27T21:43:39.117Z"
   },
   {
    "duration": 159,
    "start_time": "2024-05-27T21:43:39.260Z"
   },
   {
    "duration": 18,
    "start_time": "2024-05-27T21:43:39.424Z"
   },
   {
    "duration": 6,
    "start_time": "2024-05-27T21:43:39.445Z"
   },
   {
    "duration": 28,
    "start_time": "2024-05-27T21:43:39.454Z"
   },
   {
    "duration": 49,
    "start_time": "2024-05-27T21:43:39.485Z"
   },
   {
    "duration": 20,
    "start_time": "2024-05-27T21:43:39.537Z"
   },
   {
    "duration": 5,
    "start_time": "2024-05-27T21:43:39.559Z"
   },
   {
    "duration": 527,
    "start_time": "2024-05-27T21:43:39.566Z"
   },
   {
    "duration": 5,
    "start_time": "2024-05-27T21:43:40.096Z"
   },
   {
    "duration": 43,
    "start_time": "2024-05-27T21:43:40.104Z"
   },
   {
    "duration": 5,
    "start_time": "2024-05-27T21:43:40.152Z"
   },
   {
    "duration": 74,
    "start_time": "2024-05-27T21:43:40.160Z"
   },
   {
    "duration": 15,
    "start_time": "2024-05-27T21:43:40.237Z"
   },
   {
    "duration": 80,
    "start_time": "2024-05-27T21:43:40.255Z"
   },
   {
    "duration": 450,
    "start_time": "2024-05-27T21:43:40.339Z"
   },
   {
    "duration": 4,
    "start_time": "2024-05-27T21:56:03.326Z"
   },
   {
    "duration": 8,
    "start_time": "2024-05-27T21:56:08.104Z"
   },
   {
    "duration": 4,
    "start_time": "2024-05-27T21:56:10.365Z"
   },
   {
    "duration": 1379,
    "start_time": "2024-05-27T22:52:24.172Z"
   },
   {
    "duration": 151,
    "start_time": "2024-05-27T22:52:25.554Z"
   },
   {
    "duration": 144,
    "start_time": "2024-05-27T22:52:25.708Z"
   },
   {
    "duration": 139,
    "start_time": "2024-05-27T22:52:25.856Z"
   },
   {
    "duration": 14,
    "start_time": "2024-05-27T22:52:25.999Z"
   },
   {
    "duration": 6,
    "start_time": "2024-05-27T22:52:26.032Z"
   },
   {
    "duration": 31,
    "start_time": "2024-05-27T22:52:26.042Z"
   },
   {
    "duration": 14,
    "start_time": "2024-05-27T22:52:26.077Z"
   },
   {
    "duration": 53,
    "start_time": "2024-05-27T22:52:26.095Z"
   },
   {
    "duration": 7,
    "start_time": "2024-05-27T22:52:26.154Z"
   },
   {
    "duration": 516,
    "start_time": "2024-05-27T22:52:26.164Z"
   },
   {
    "duration": 4,
    "start_time": "2024-05-27T22:52:26.683Z"
   },
   {
    "duration": 44,
    "start_time": "2024-05-27T22:52:26.690Z"
   },
   {
    "duration": 6,
    "start_time": "2024-05-27T22:52:26.737Z"
   },
   {
    "duration": 5,
    "start_time": "2024-05-27T22:52:26.745Z"
   },
   {
    "duration": 90,
    "start_time": "2024-05-27T22:52:26.753Z"
   },
   {
    "duration": 8,
    "start_time": "2024-05-27T22:52:26.846Z"
   },
   {
    "duration": 4,
    "start_time": "2024-05-27T22:52:26.857Z"
   },
   {
    "duration": 485,
    "start_time": "2024-05-27T22:52:26.867Z"
   },
   {
    "duration": 420,
    "start_time": "2024-05-27T22:57:52.205Z"
   },
   {
    "duration": 369,
    "start_time": "2024-05-27T22:58:37.608Z"
   },
   {
    "duration": 371,
    "start_time": "2024-05-27T23:01:24.896Z"
   },
   {
    "duration": 12,
    "start_time": "2024-05-27T23:04:24.689Z"
   },
   {
    "duration": 37,
    "start_time": "2024-05-27T23:07:14.951Z"
   },
   {
    "duration": 621,
    "start_time": "2024-05-27T23:07:32.424Z"
   },
   {
    "duration": 28,
    "start_time": "2024-05-27T23:08:16.393Z"
   },
   {
    "duration": 15,
    "start_time": "2024-05-27T23:08:43.926Z"
   },
   {
    "duration": 14,
    "start_time": "2024-05-27T23:09:08.108Z"
   },
   {
    "duration": 15,
    "start_time": "2024-05-27T23:09:39.722Z"
   },
   {
    "duration": 3,
    "start_time": "2024-05-27T23:13:21.760Z"
   },
   {
    "duration": 28,
    "start_time": "2024-05-27T23:16:04.850Z"
   },
   {
    "duration": 5109,
    "start_time": "2024-05-28T00:18:50.526Z"
   },
   {
    "duration": 481,
    "start_time": "2024-05-28T00:18:55.638Z"
   },
   {
    "duration": 11,
    "start_time": "2024-05-28T00:18:56.130Z"
   },
   {
    "duration": 13,
    "start_time": "2024-05-28T00:18:56.144Z"
   },
   {
    "duration": 12,
    "start_time": "2024-05-28T00:18:56.163Z"
   },
   {
    "duration": 13,
    "start_time": "2024-05-28T00:18:56.178Z"
   },
   {
    "duration": 665,
    "start_time": "2024-05-28T00:18:56.230Z"
   },
   {
    "duration": 417,
    "start_time": "2024-05-28T00:18:56.898Z"
   },
   {
    "duration": 0,
    "start_time": "2024-05-28T00:18:57.319Z"
   },
   {
    "duration": 0,
    "start_time": "2024-05-28T00:18:57.321Z"
   },
   {
    "duration": 0,
    "start_time": "2024-05-28T00:18:57.330Z"
   },
   {
    "duration": 0,
    "start_time": "2024-05-28T00:18:57.332Z"
   },
   {
    "duration": 0,
    "start_time": "2024-05-28T00:18:57.334Z"
   },
   {
    "duration": 0,
    "start_time": "2024-05-28T00:18:57.335Z"
   },
   {
    "duration": 0,
    "start_time": "2024-05-28T00:18:57.337Z"
   },
   {
    "duration": 0,
    "start_time": "2024-05-28T00:18:57.339Z"
   },
   {
    "duration": 0,
    "start_time": "2024-05-28T00:18:57.340Z"
   },
   {
    "duration": 0,
    "start_time": "2024-05-28T00:18:57.342Z"
   },
   {
    "duration": 0,
    "start_time": "2024-05-28T00:18:57.344Z"
   },
   {
    "duration": 0,
    "start_time": "2024-05-28T00:18:57.345Z"
   },
   {
    "duration": 0,
    "start_time": "2024-05-28T00:18:57.347Z"
   },
   {
    "duration": 26,
    "start_time": "2024-05-28T00:28:50.428Z"
   },
   {
    "duration": 25,
    "start_time": "2024-05-28T00:47:08.191Z"
   },
   {
    "duration": 12,
    "start_time": "2024-05-28T00:47:26.532Z"
   },
   {
    "duration": 36,
    "start_time": "2024-05-28T00:47:28.531Z"
   },
   {
    "duration": 37,
    "start_time": "2024-05-28T00:49:29.103Z"
   },
   {
    "duration": 102,
    "start_time": "2024-05-28T00:57:26.450Z"
   },
   {
    "duration": 218,
    "start_time": "2024-05-28T01:03:37.515Z"
   },
   {
    "duration": 3,
    "start_time": "2024-05-28T01:03:44.437Z"
   },
   {
    "duration": 8,
    "start_time": "2024-05-28T01:05:23.259Z"
   },
   {
    "duration": 5,
    "start_time": "2024-05-28T01:06:06.839Z"
   },
   {
    "duration": 17,
    "start_time": "2024-05-28T01:06:57.939Z"
   },
   {
    "duration": 18,
    "start_time": "2024-05-28T01:07:20.273Z"
   },
   {
    "duration": 146,
    "start_time": "2024-05-28T01:08:12.807Z"
   },
   {
    "duration": 20,
    "start_time": "2024-05-28T01:10:57.128Z"
   },
   {
    "duration": 6,
    "start_time": "2024-05-28T01:11:08.731Z"
   },
   {
    "duration": 96,
    "start_time": "2024-05-28T01:11:39.837Z"
   },
   {
    "duration": 63,
    "start_time": "2024-05-28T01:12:09.673Z"
   },
   {
    "duration": 14,
    "start_time": "2024-05-28T01:12:16.989Z"
   },
   {
    "duration": 5,
    "start_time": "2024-05-28T01:12:19.112Z"
   },
   {
    "duration": 27,
    "start_time": "2024-05-28T01:12:23.010Z"
   },
   {
    "duration": 107,
    "start_time": "2024-05-28T01:12:31.040Z"
   },
   {
    "duration": 28,
    "start_time": "2024-05-28T01:12:40.890Z"
   },
   {
    "duration": 26,
    "start_time": "2024-05-28T01:12:48.624Z"
   },
   {
    "duration": 319,
    "start_time": "2024-05-28T01:12:58.477Z"
   },
   {
    "duration": 313,
    "start_time": "2024-05-28T01:13:07.956Z"
   },
   {
    "duration": 7,
    "start_time": "2024-05-28T01:13:15.381Z"
   },
   {
    "duration": 23,
    "start_time": "2024-05-28T01:13:23.361Z"
   },
   {
    "duration": 6,
    "start_time": "2024-05-28T01:13:30.376Z"
   },
   {
    "duration": 5,
    "start_time": "2024-05-28T01:13:36.106Z"
   },
   {
    "duration": 13,
    "start_time": "2024-05-28T01:14:31.141Z"
   },
   {
    "duration": 6,
    "start_time": "2024-05-28T01:53:03.001Z"
   },
   {
    "duration": 5,
    "start_time": "2024-05-28T01:53:17.723Z"
   },
   {
    "duration": 5181,
    "start_time": "2024-05-28T17:59:47.985Z"
   },
   {
    "duration": 527,
    "start_time": "2024-05-28T17:59:53.170Z"
   },
   {
    "duration": 24,
    "start_time": "2024-05-28T17:59:53.701Z"
   },
   {
    "duration": 15,
    "start_time": "2024-05-28T17:59:53.729Z"
   },
   {
    "duration": 12,
    "start_time": "2024-05-28T17:59:53.751Z"
   },
   {
    "duration": 46,
    "start_time": "2024-05-28T17:59:53.767Z"
   },
   {
    "duration": 686,
    "start_time": "2024-05-28T17:59:53.816Z"
   },
   {
    "duration": 498,
    "start_time": "2024-05-28T17:59:54.505Z"
   },
   {
    "duration": 0,
    "start_time": "2024-05-28T17:59:55.006Z"
   },
   {
    "duration": 0,
    "start_time": "2024-05-28T17:59:55.011Z"
   },
   {
    "duration": 0,
    "start_time": "2024-05-28T17:59:55.014Z"
   },
   {
    "duration": 0,
    "start_time": "2024-05-28T17:59:55.016Z"
   },
   {
    "duration": 0,
    "start_time": "2024-05-28T17:59:55.017Z"
   },
   {
    "duration": 0,
    "start_time": "2024-05-28T17:59:55.019Z"
   },
   {
    "duration": 0,
    "start_time": "2024-05-28T17:59:55.020Z"
   },
   {
    "duration": 0,
    "start_time": "2024-05-28T17:59:55.023Z"
   },
   {
    "duration": 0,
    "start_time": "2024-05-28T17:59:55.026Z"
   },
   {
    "duration": 0,
    "start_time": "2024-05-28T17:59:55.029Z"
   },
   {
    "duration": 0,
    "start_time": "2024-05-28T17:59:55.031Z"
   },
   {
    "duration": 1458,
    "start_time": "2024-05-28T18:01:11.334Z"
   },
   {
    "duration": 415,
    "start_time": "2024-05-28T18:01:12.796Z"
   },
   {
    "duration": 11,
    "start_time": "2024-05-28T18:01:13.220Z"
   },
   {
    "duration": 13,
    "start_time": "2024-05-28T18:01:13.237Z"
   },
   {
    "duration": 12,
    "start_time": "2024-05-28T18:01:13.253Z"
   },
   {
    "duration": 46,
    "start_time": "2024-05-28T18:01:13.268Z"
   },
   {
    "duration": 753,
    "start_time": "2024-05-28T18:01:13.318Z"
   },
   {
    "duration": 449,
    "start_time": "2024-05-28T18:01:14.074Z"
   },
   {
    "duration": 0,
    "start_time": "2024-05-28T18:01:14.527Z"
   },
   {
    "duration": 0,
    "start_time": "2024-05-28T18:01:14.530Z"
   },
   {
    "duration": 0,
    "start_time": "2024-05-28T18:01:14.532Z"
   },
   {
    "duration": 0,
    "start_time": "2024-05-28T18:01:14.534Z"
   },
   {
    "duration": 0,
    "start_time": "2024-05-28T18:01:14.537Z"
   },
   {
    "duration": 0,
    "start_time": "2024-05-28T18:01:14.541Z"
   },
   {
    "duration": 0,
    "start_time": "2024-05-28T18:01:14.543Z"
   },
   {
    "duration": 0,
    "start_time": "2024-05-28T18:01:14.546Z"
   },
   {
    "duration": 0,
    "start_time": "2024-05-28T18:01:14.549Z"
   },
   {
    "duration": 0,
    "start_time": "2024-05-28T18:01:14.551Z"
   },
   {
    "duration": 0,
    "start_time": "2024-05-28T18:01:14.553Z"
   },
   {
    "duration": 1614,
    "start_time": "2024-05-28T18:01:29.912Z"
   },
   {
    "duration": 401,
    "start_time": "2024-05-28T18:01:31.532Z"
   },
   {
    "duration": 11,
    "start_time": "2024-05-28T18:01:31.935Z"
   },
   {
    "duration": 13,
    "start_time": "2024-05-28T18:01:31.950Z"
   },
   {
    "duration": 12,
    "start_time": "2024-05-28T18:01:31.969Z"
   },
   {
    "duration": 13,
    "start_time": "2024-05-28T18:01:32.013Z"
   },
   {
    "duration": 761,
    "start_time": "2024-05-28T18:01:32.030Z"
   },
   {
    "duration": 4,
    "start_time": "2024-05-28T18:01:32.794Z"
   },
   {
    "duration": 621,
    "start_time": "2024-05-28T18:01:32.813Z"
   },
   {
    "duration": 0,
    "start_time": "2024-05-28T18:01:33.438Z"
   },
   {
    "duration": 0,
    "start_time": "2024-05-28T18:01:33.441Z"
   },
   {
    "duration": 0,
    "start_time": "2024-05-28T18:01:33.444Z"
   },
   {
    "duration": 0,
    "start_time": "2024-05-28T18:01:33.446Z"
   },
   {
    "duration": 0,
    "start_time": "2024-05-28T18:01:33.449Z"
   },
   {
    "duration": 0,
    "start_time": "2024-05-28T18:01:33.450Z"
   },
   {
    "duration": 0,
    "start_time": "2024-05-28T18:01:33.452Z"
   },
   {
    "duration": 0,
    "start_time": "2024-05-28T18:01:33.455Z"
   },
   {
    "duration": 0,
    "start_time": "2024-05-28T18:01:33.457Z"
   },
   {
    "duration": 0,
    "start_time": "2024-05-28T18:01:33.459Z"
   },
   {
    "duration": 1421,
    "start_time": "2024-05-28T18:03:03.573Z"
   },
   {
    "duration": 410,
    "start_time": "2024-05-28T18:03:04.998Z"
   },
   {
    "duration": 11,
    "start_time": "2024-05-28T18:03:05.414Z"
   },
   {
    "duration": 14,
    "start_time": "2024-05-28T18:03:05.428Z"
   },
   {
    "duration": 12,
    "start_time": "2024-05-28T18:03:05.447Z"
   },
   {
    "duration": 50,
    "start_time": "2024-05-28T18:03:05.462Z"
   },
   {
    "duration": 722,
    "start_time": "2024-05-28T18:03:05.516Z"
   },
   {
    "duration": 428,
    "start_time": "2024-05-28T18:03:06.241Z"
   },
   {
    "duration": 0,
    "start_time": "2024-05-28T18:03:06.672Z"
   },
   {
    "duration": 0,
    "start_time": "2024-05-28T18:03:06.674Z"
   },
   {
    "duration": 0,
    "start_time": "2024-05-28T18:03:06.676Z"
   },
   {
    "duration": 0,
    "start_time": "2024-05-28T18:03:06.677Z"
   },
   {
    "duration": 0,
    "start_time": "2024-05-28T18:03:06.679Z"
   },
   {
    "duration": 0,
    "start_time": "2024-05-28T18:03:06.682Z"
   },
   {
    "duration": 0,
    "start_time": "2024-05-28T18:03:06.684Z"
   },
   {
    "duration": 0,
    "start_time": "2024-05-28T18:03:06.686Z"
   },
   {
    "duration": 0,
    "start_time": "2024-05-28T18:03:06.713Z"
   },
   {
    "duration": 0,
    "start_time": "2024-05-28T18:03:06.715Z"
   },
   {
    "duration": 0,
    "start_time": "2024-05-28T18:03:06.720Z"
   },
   {
    "duration": 1472,
    "start_time": "2024-05-28T18:04:44.028Z"
   },
   {
    "duration": 397,
    "start_time": "2024-05-28T18:04:45.504Z"
   },
   {
    "duration": 17,
    "start_time": "2024-05-28T18:04:45.904Z"
   },
   {
    "duration": 15,
    "start_time": "2024-05-28T18:04:45.923Z"
   },
   {
    "duration": 12,
    "start_time": "2024-05-28T18:04:45.943Z"
   },
   {
    "duration": 52,
    "start_time": "2024-05-28T18:04:45.960Z"
   },
   {
    "duration": 749,
    "start_time": "2024-05-28T18:04:46.015Z"
   },
   {
    "duration": 29,
    "start_time": "2024-05-28T18:04:46.768Z"
   },
   {
    "duration": 587,
    "start_time": "2024-05-28T18:04:46.814Z"
   },
   {
    "duration": 0,
    "start_time": "2024-05-28T18:04:47.404Z"
   },
   {
    "duration": 0,
    "start_time": "2024-05-28T18:04:47.411Z"
   },
   {
    "duration": 0,
    "start_time": "2024-05-28T18:04:47.414Z"
   },
   {
    "duration": 0,
    "start_time": "2024-05-28T18:04:47.416Z"
   },
   {
    "duration": 0,
    "start_time": "2024-05-28T18:04:47.419Z"
   },
   {
    "duration": 0,
    "start_time": "2024-05-28T18:04:47.422Z"
   },
   {
    "duration": 0,
    "start_time": "2024-05-28T18:04:47.424Z"
   },
   {
    "duration": 0,
    "start_time": "2024-05-28T18:04:47.426Z"
   },
   {
    "duration": 0,
    "start_time": "2024-05-28T18:04:47.429Z"
   },
   {
    "duration": 0,
    "start_time": "2024-05-28T18:04:47.431Z"
   },
   {
    "duration": 0,
    "start_time": "2024-05-28T18:04:47.434Z"
   },
   {
    "duration": 24,
    "start_time": "2024-05-28T18:05:35.251Z"
   },
   {
    "duration": 182,
    "start_time": "2024-05-28T18:05:36.229Z"
   },
   {
    "duration": 1464,
    "start_time": "2024-05-28T18:05:47.512Z"
   },
   {
    "duration": 394,
    "start_time": "2024-05-28T18:05:48.980Z"
   },
   {
    "duration": 12,
    "start_time": "2024-05-28T18:05:49.377Z"
   },
   {
    "duration": 28,
    "start_time": "2024-05-28T18:05:49.393Z"
   },
   {
    "duration": 12,
    "start_time": "2024-05-28T18:05:49.425Z"
   },
   {
    "duration": 13,
    "start_time": "2024-05-28T18:05:49.440Z"
   },
   {
    "duration": 763,
    "start_time": "2024-05-28T18:05:49.457Z"
   },
   {
    "duration": 24,
    "start_time": "2024-05-28T18:05:50.223Z"
   },
   {
    "duration": 176,
    "start_time": "2024-05-28T18:05:50.249Z"
   },
   {
    "duration": 91,
    "start_time": "2024-05-28T18:05:50.432Z"
   },
   {
    "duration": 4,
    "start_time": "2024-05-28T18:05:50.526Z"
   },
   {
    "duration": 482,
    "start_time": "2024-05-28T18:05:50.534Z"
   },
   {
    "duration": 6,
    "start_time": "2024-05-28T18:05:51.018Z"
   },
   {
    "duration": 25,
    "start_time": "2024-05-28T18:05:51.026Z"
   },
   {
    "duration": 59,
    "start_time": "2024-05-28T18:05:51.054Z"
   },
   {
    "duration": 6,
    "start_time": "2024-05-28T18:05:51.116Z"
   },
   {
    "duration": 88,
    "start_time": "2024-05-28T18:05:51.125Z"
   },
   {
    "duration": 435,
    "start_time": "2024-05-28T18:05:51.216Z"
   },
   {
    "duration": 0,
    "start_time": "2024-05-28T18:05:51.654Z"
   },
   {
    "duration": 0,
    "start_time": "2024-05-28T18:05:51.657Z"
   },
   {
    "duration": 21,
    "start_time": "2024-05-28T18:07:45.804Z"
   },
   {
    "duration": 147,
    "start_time": "2024-05-28T18:07:47.274Z"
   },
   {
    "duration": 192,
    "start_time": "2024-05-28T18:30:36.523Z"
   },
   {
    "duration": 5,
    "start_time": "2024-05-28T18:48:33.921Z"
   },
   {
    "duration": 26,
    "start_time": "2024-05-28T18:57:18.556Z"
   },
   {
    "duration": 5341,
    "start_time": "2024-05-28T19:32:59.202Z"
   },
   {
    "duration": 535,
    "start_time": "2024-05-28T19:33:04.547Z"
   },
   {
    "duration": 13,
    "start_time": "2024-05-28T19:33:05.085Z"
   },
   {
    "duration": 21,
    "start_time": "2024-05-28T19:33:05.101Z"
   },
   {
    "duration": 13,
    "start_time": "2024-05-28T19:33:05.128Z"
   },
   {
    "duration": 13,
    "start_time": "2024-05-28T19:33:05.145Z"
   },
   {
    "duration": 685,
    "start_time": "2024-05-28T19:33:05.162Z"
   },
   {
    "duration": 22,
    "start_time": "2024-05-28T19:33:05.850Z"
   },
   {
    "duration": 247,
    "start_time": "2024-05-28T19:33:05.874Z"
   },
   {
    "duration": 5,
    "start_time": "2024-05-28T19:33:06.124Z"
   },
   {
    "duration": 79,
    "start_time": "2024-05-28T19:33:06.132Z"
   },
   {
    "duration": 23,
    "start_time": "2024-05-28T19:33:06.214Z"
   },
   {
    "duration": 5,
    "start_time": "2024-05-28T19:33:06.312Z"
   },
   {
    "duration": 392,
    "start_time": "2024-05-28T19:33:06.323Z"
   },
   {
    "duration": 5,
    "start_time": "2024-05-28T19:33:06.718Z"
   },
   {
    "duration": 21,
    "start_time": "2024-05-28T19:33:06.727Z"
   },
   {
    "duration": 62,
    "start_time": "2024-05-28T19:33:06.755Z"
   },
   {
    "duration": 6,
    "start_time": "2024-05-28T19:33:06.820Z"
   },
   {
    "duration": 86,
    "start_time": "2024-05-28T19:33:06.836Z"
   },
   {
    "duration": 516,
    "start_time": "2024-05-28T19:33:06.925Z"
   },
   {
    "duration": 0,
    "start_time": "2024-05-28T19:33:07.444Z"
   },
   {
    "duration": 0,
    "start_time": "2024-05-28T19:33:07.448Z"
   },
   {
    "duration": 6,
    "start_time": "2024-05-28T19:37:29.524Z"
   },
   {
    "duration": 4,
    "start_time": "2024-05-28T19:49:57.687Z"
   },
   {
    "duration": 10,
    "start_time": "2024-05-28T20:03:40.872Z"
   },
   {
    "duration": 1479,
    "start_time": "2024-05-28T20:07:54.709Z"
   },
   {
    "duration": 394,
    "start_time": "2024-05-28T20:07:56.192Z"
   },
   {
    "duration": 12,
    "start_time": "2024-05-28T20:07:56.588Z"
   },
   {
    "duration": 13,
    "start_time": "2024-05-28T20:07:56.612Z"
   },
   {
    "duration": 13,
    "start_time": "2024-05-28T20:07:56.631Z"
   },
   {
    "duration": 13,
    "start_time": "2024-05-28T20:07:56.646Z"
   },
   {
    "duration": 757,
    "start_time": "2024-05-28T20:07:56.661Z"
   },
   {
    "duration": 27,
    "start_time": "2024-05-28T20:07:57.421Z"
   },
   {
    "duration": 181,
    "start_time": "2024-05-28T20:07:57.451Z"
   },
   {
    "duration": 78,
    "start_time": "2024-05-28T20:07:57.638Z"
   },
   {
    "duration": 5,
    "start_time": "2024-05-28T20:07:57.719Z"
   },
   {
    "duration": 7,
    "start_time": "2024-05-28T20:07:57.727Z"
   },
   {
    "duration": 4,
    "start_time": "2024-05-28T20:07:57.813Z"
   },
   {
    "duration": 8,
    "start_time": "2024-05-28T20:07:57.825Z"
   },
   {
    "duration": 0,
    "start_time": "2024-05-28T20:07:57.836Z"
   },
   {
    "duration": 0,
    "start_time": "2024-05-28T20:07:57.838Z"
   },
   {
    "duration": 0,
    "start_time": "2024-05-28T20:07:57.842Z"
   },
   {
    "duration": 0,
    "start_time": "2024-05-28T20:07:57.845Z"
   },
   {
    "duration": 0,
    "start_time": "2024-05-28T20:07:57.848Z"
   },
   {
    "duration": 0,
    "start_time": "2024-05-28T20:07:57.851Z"
   },
   {
    "duration": 0,
    "start_time": "2024-05-28T20:07:57.853Z"
   },
   {
    "duration": 0,
    "start_time": "2024-05-28T20:07:57.855Z"
   },
   {
    "duration": 0,
    "start_time": "2024-05-28T20:07:57.857Z"
   },
   {
    "duration": 0,
    "start_time": "2024-05-28T20:07:57.912Z"
   },
   {
    "duration": 0,
    "start_time": "2024-05-28T20:07:57.914Z"
   },
   {
    "duration": 5207,
    "start_time": "2024-05-28T21:45:05.465Z"
   },
   {
    "duration": 540,
    "start_time": "2024-05-28T21:45:10.677Z"
   },
   {
    "duration": 11,
    "start_time": "2024-05-28T21:45:11.220Z"
   },
   {
    "duration": 12,
    "start_time": "2024-05-28T21:45:11.234Z"
   },
   {
    "duration": 11,
    "start_time": "2024-05-28T21:45:11.253Z"
   },
   {
    "duration": 48,
    "start_time": "2024-05-28T21:45:11.268Z"
   },
   {
    "duration": 706,
    "start_time": "2024-05-28T21:45:11.318Z"
   },
   {
    "duration": 22,
    "start_time": "2024-05-28T21:45:12.027Z"
   },
   {
    "duration": 263,
    "start_time": "2024-05-28T21:45:12.052Z"
   },
   {
    "duration": 6,
    "start_time": "2024-05-28T21:45:12.318Z"
   },
   {
    "duration": 80,
    "start_time": "2024-05-28T21:45:12.333Z"
   },
   {
    "duration": 6,
    "start_time": "2024-05-28T21:45:12.417Z"
   },
   {
    "duration": 4,
    "start_time": "2024-05-28T21:45:12.427Z"
   },
   {
    "duration": 10,
    "start_time": "2024-05-28T21:45:12.438Z"
   },
   {
    "duration": 0,
    "start_time": "2024-05-28T21:45:12.451Z"
   },
   {
    "duration": 0,
    "start_time": "2024-05-28T21:45:12.453Z"
   },
   {
    "duration": 0,
    "start_time": "2024-05-28T21:45:12.456Z"
   },
   {
    "duration": 0,
    "start_time": "2024-05-28T21:45:12.458Z"
   },
   {
    "duration": 0,
    "start_time": "2024-05-28T21:45:12.460Z"
   },
   {
    "duration": 0,
    "start_time": "2024-05-28T21:45:12.463Z"
   },
   {
    "duration": 0,
    "start_time": "2024-05-28T21:45:12.465Z"
   },
   {
    "duration": 0,
    "start_time": "2024-05-28T21:45:12.513Z"
   },
   {
    "duration": 0,
    "start_time": "2024-05-28T21:45:12.516Z"
   },
   {
    "duration": 0,
    "start_time": "2024-05-28T21:45:12.518Z"
   },
   {
    "duration": 1,
    "start_time": "2024-05-28T21:45:12.520Z"
   },
   {
    "duration": 5293,
    "start_time": "2024-05-29T01:04:05.118Z"
   },
   {
    "duration": 534,
    "start_time": "2024-05-29T01:04:10.416Z"
   },
   {
    "duration": 12,
    "start_time": "2024-05-29T01:04:10.953Z"
   },
   {
    "duration": 13,
    "start_time": "2024-05-29T01:04:10.970Z"
   },
   {
    "duration": 28,
    "start_time": "2024-05-29T01:04:10.988Z"
   },
   {
    "duration": 14,
    "start_time": "2024-05-29T01:04:11.021Z"
   },
   {
    "duration": 690,
    "start_time": "2024-05-29T01:04:11.038Z"
   },
   {
    "duration": 23,
    "start_time": "2024-05-29T01:04:11.731Z"
   },
   {
    "duration": 175,
    "start_time": "2024-05-29T01:04:11.757Z"
   },
   {
    "duration": 72,
    "start_time": "2024-05-29T01:04:11.938Z"
   },
   {
    "duration": 10,
    "start_time": "2024-05-29T01:04:12.014Z"
   },
   {
    "duration": 76,
    "start_time": "2024-05-29T01:04:12.032Z"
   },
   {
    "duration": 3,
    "start_time": "2024-05-29T01:04:12.111Z"
   },
   {
    "duration": 17,
    "start_time": "2024-05-29T01:04:12.116Z"
   },
   {
    "duration": 3,
    "start_time": "2024-05-29T01:05:31.592Z"
   },
   {
    "duration": 9,
    "start_time": "2024-05-29T01:05:32.796Z"
   },
   {
    "duration": 10,
    "start_time": "2024-05-29T01:13:17.710Z"
   },
   {
    "duration": 263,
    "start_time": "2024-05-29T01:14:17.958Z"
   },
   {
    "duration": 38,
    "start_time": "2024-05-29T01:20:14.627Z"
   },
   {
    "duration": 5337,
    "start_time": "2024-05-29T02:05:04.301Z"
   },
   {
    "duration": 580,
    "start_time": "2024-05-29T02:05:09.643Z"
   },
   {
    "duration": 11,
    "start_time": "2024-05-29T02:05:10.229Z"
   },
   {
    "duration": 16,
    "start_time": "2024-05-29T02:05:10.243Z"
   },
   {
    "duration": 14,
    "start_time": "2024-05-29T02:05:10.263Z"
   },
   {
    "duration": 38,
    "start_time": "2024-05-29T02:05:10.279Z"
   },
   {
    "duration": 726,
    "start_time": "2024-05-29T02:05:10.320Z"
   },
   {
    "duration": 24,
    "start_time": "2024-05-29T02:05:11.049Z"
   },
   {
    "duration": 246,
    "start_time": "2024-05-29T02:05:11.076Z"
   },
   {
    "duration": 8,
    "start_time": "2024-05-29T02:05:11.325Z"
   },
   {
    "duration": 8,
    "start_time": "2024-05-29T02:05:11.410Z"
   },
   {
    "duration": 9,
    "start_time": "2024-05-29T02:05:11.425Z"
   },
   {
    "duration": 5,
    "start_time": "2024-05-29T02:05:11.505Z"
   },
   {
    "duration": 265,
    "start_time": "2024-05-29T02:05:11.515Z"
   },
   {
    "duration": 5,
    "start_time": "2024-05-29T02:11:48.179Z"
   },
   {
    "duration": 7,
    "start_time": "2024-05-29T02:11:56.975Z"
   },
   {
    "duration": 5,
    "start_time": "2024-05-29T02:12:44.193Z"
   },
   {
    "duration": 4,
    "start_time": "2024-05-29T02:12:46.275Z"
   },
   {
    "duration": 6,
    "start_time": "2024-05-29T02:14:14.251Z"
   },
   {
    "duration": 5,
    "start_time": "2024-05-29T02:14:14.784Z"
   },
   {
    "duration": 6,
    "start_time": "2024-05-29T02:14:31.571Z"
   },
   {
    "duration": 34,
    "start_time": "2024-05-29T02:19:34.066Z"
   },
   {
    "duration": 5,
    "start_time": "2024-05-29T02:24:17.916Z"
   },
   {
    "duration": 6,
    "start_time": "2024-05-29T02:30:14.223Z"
   },
   {
    "duration": 5,
    "start_time": "2024-05-29T02:30:14.882Z"
   },
   {
    "duration": 5,
    "start_time": "2024-05-29T02:30:25.909Z"
   },
   {
    "duration": 6,
    "start_time": "2024-05-29T02:38:50.353Z"
   },
   {
    "duration": 12,
    "start_time": "2024-05-29T02:38:51.004Z"
   },
   {
    "duration": 9,
    "start_time": "2024-05-29T02:38:53.322Z"
   },
   {
    "duration": 6,
    "start_time": "2024-05-29T02:38:55.140Z"
   },
   {
    "duration": 9,
    "start_time": "2024-05-29T02:39:05.935Z"
   },
   {
    "duration": 6,
    "start_time": "2024-05-29T02:39:11.663Z"
   },
   {
    "duration": 4,
    "start_time": "2024-05-29T02:39:26.872Z"
   },
   {
    "duration": 53,
    "start_time": "2024-05-29T02:39:27.484Z"
   },
   {
    "duration": 5503,
    "start_time": "2024-05-29T05:18:01.623Z"
   },
   {
    "duration": 588,
    "start_time": "2024-05-29T05:18:07.131Z"
   },
   {
    "duration": 14,
    "start_time": "2024-05-29T05:18:07.722Z"
   },
   {
    "duration": 16,
    "start_time": "2024-05-29T05:18:07.741Z"
   },
   {
    "duration": 13,
    "start_time": "2024-05-29T05:18:07.763Z"
   },
   {
    "duration": 53,
    "start_time": "2024-05-29T05:18:07.779Z"
   },
   {
    "duration": 752,
    "start_time": "2024-05-29T05:18:07.836Z"
   },
   {
    "duration": 35,
    "start_time": "2024-05-29T05:18:08.592Z"
   },
   {
    "duration": 322,
    "start_time": "2024-05-29T05:18:08.632Z"
   },
   {
    "duration": 69,
    "start_time": "2024-05-29T05:18:08.957Z"
   },
   {
    "duration": 4,
    "start_time": "2024-05-29T05:18:09.030Z"
   },
   {
    "duration": 614,
    "start_time": "2024-05-29T05:18:09.038Z"
   },
   {
    "duration": 0,
    "start_time": "2024-05-29T05:18:09.660Z"
   },
   {
    "duration": 0,
    "start_time": "2024-05-29T05:18:09.662Z"
   },
   {
    "duration": 0,
    "start_time": "2024-05-29T05:18:09.666Z"
   },
   {
    "duration": 7,
    "start_time": "2024-05-29T05:19:54.128Z"
   },
   {
    "duration": 7,
    "start_time": "2024-05-29T05:20:03.175Z"
   },
   {
    "duration": 4,
    "start_time": "2024-05-29T05:24:59.535Z"
   },
   {
    "duration": 49,
    "start_time": "2024-05-29T05:25:01.296Z"
   },
   {
    "duration": 7,
    "start_time": "2024-05-29T05:31:32.378Z"
   },
   {
    "duration": 43,
    "start_time": "2024-05-29T05:34:19.052Z"
   },
   {
    "duration": 7,
    "start_time": "2024-05-29T05:34:23.154Z"
   },
   {
    "duration": 52,
    "start_time": "2024-05-29T05:34:24.055Z"
   },
   {
    "duration": 1523,
    "start_time": "2024-05-29T05:36:58.045Z"
   },
   {
    "duration": 460,
    "start_time": "2024-05-29T05:36:59.571Z"
   },
   {
    "duration": 14,
    "start_time": "2024-05-29T05:37:00.034Z"
   },
   {
    "duration": 15,
    "start_time": "2024-05-29T05:37:00.054Z"
   },
   {
    "duration": 13,
    "start_time": "2024-05-29T05:37:00.073Z"
   },
   {
    "duration": 48,
    "start_time": "2024-05-29T05:37:00.089Z"
   },
   {
    "duration": 813,
    "start_time": "2024-05-29T05:37:00.140Z"
   },
   {
    "duration": 26,
    "start_time": "2024-05-29T05:37:00.956Z"
   },
   {
    "duration": 345,
    "start_time": "2024-05-29T05:37:00.985Z"
   },
   {
    "duration": 8,
    "start_time": "2024-05-29T05:37:01.341Z"
   },
   {
    "duration": 81,
    "start_time": "2024-05-29T05:37:01.355Z"
   },
   {
    "duration": 5,
    "start_time": "2024-05-29T05:37:01.443Z"
   },
   {
    "duration": 6,
    "start_time": "2024-05-29T05:37:01.451Z"
   },
   {
    "duration": 8,
    "start_time": "2024-05-29T05:37:01.524Z"
   },
   {
    "duration": 312,
    "start_time": "2024-05-29T05:37:01.537Z"
   },
   {
    "duration": 5,
    "start_time": "2024-05-29T05:50:34.820Z"
   },
   {
    "duration": 6,
    "start_time": "2024-05-29T05:50:35.276Z"
   },
   {
    "duration": 6,
    "start_time": "2024-05-29T05:50:37.457Z"
   },
   {
    "duration": 5,
    "start_time": "2024-05-29T05:51:12.867Z"
   },
   {
    "duration": 8,
    "start_time": "2024-05-29T05:51:13.343Z"
   },
   {
    "duration": 5,
    "start_time": "2024-05-29T05:53:26.413Z"
   },
   {
    "duration": 8,
    "start_time": "2024-05-29T05:53:26.902Z"
   },
   {
    "duration": 18,
    "start_time": "2024-05-29T05:53:28.320Z"
   },
   {
    "duration": 5,
    "start_time": "2024-05-29T05:53:36.438Z"
   },
   {
    "duration": 5,
    "start_time": "2024-05-29T05:53:36.884Z"
   },
   {
    "duration": 13,
    "start_time": "2024-05-29T05:53:38.142Z"
   },
   {
    "duration": 12,
    "start_time": "2024-05-29T05:54:48.891Z"
   },
   {
    "duration": 5,
    "start_time": "2024-05-29T05:54:49.568Z"
   },
   {
    "duration": 7,
    "start_time": "2024-05-29T05:54:52.082Z"
   },
   {
    "duration": 10,
    "start_time": "2024-05-29T05:55:07.388Z"
   },
   {
    "duration": 1973,
    "start_time": "2024-05-29T05:56:35.581Z"
   },
   {
    "duration": 614,
    "start_time": "2024-05-29T05:56:37.558Z"
   },
   {
    "duration": 14,
    "start_time": "2024-05-29T05:56:38.176Z"
   },
   {
    "duration": 18,
    "start_time": "2024-05-29T05:56:38.195Z"
   },
   {
    "duration": 23,
    "start_time": "2024-05-29T05:56:38.216Z"
   },
   {
    "duration": 18,
    "start_time": "2024-05-29T05:56:38.243Z"
   },
   {
    "duration": 1165,
    "start_time": "2024-05-29T05:56:38.264Z"
   },
   {
    "duration": 31,
    "start_time": "2024-05-29T05:56:39.433Z"
   },
   {
    "duration": 169,
    "start_time": "2024-05-29T05:56:39.468Z"
   },
   {
    "duration": 5,
    "start_time": "2024-05-29T05:56:39.644Z"
   },
   {
    "duration": 656,
    "start_time": "2024-05-29T05:56:39.653Z"
   },
   {
    "duration": 0,
    "start_time": "2024-05-29T05:56:40.314Z"
   },
   {
    "duration": 1,
    "start_time": "2024-05-29T05:56:40.316Z"
   },
   {
    "duration": 0,
    "start_time": "2024-05-29T05:56:40.327Z"
   },
   {
    "duration": 0,
    "start_time": "2024-05-29T05:56:40.330Z"
   },
   {
    "duration": 1865,
    "start_time": "2024-05-29T05:57:28.489Z"
   },
   {
    "duration": 517,
    "start_time": "2024-05-29T05:57:30.358Z"
   },
   {
    "duration": 18,
    "start_time": "2024-05-29T05:57:30.879Z"
   },
   {
    "duration": 24,
    "start_time": "2024-05-29T05:57:30.901Z"
   },
   {
    "duration": 24,
    "start_time": "2024-05-29T05:57:30.930Z"
   },
   {
    "duration": 16,
    "start_time": "2024-05-29T05:57:30.959Z"
   },
   {
    "duration": 904,
    "start_time": "2024-05-29T05:57:30.979Z"
   },
   {
    "duration": 40,
    "start_time": "2024-05-29T05:57:31.886Z"
   },
   {
    "duration": 233,
    "start_time": "2024-05-29T05:57:31.930Z"
   },
   {
    "duration": 2,
    "start_time": "2024-05-29T05:57:32.169Z"
   },
   {
    "duration": 11,
    "start_time": "2024-05-29T05:57:32.224Z"
   },
   {
    "duration": 7,
    "start_time": "2024-05-29T05:57:32.239Z"
   },
   {
    "duration": 10,
    "start_time": "2024-05-29T05:57:32.250Z"
   },
   {
    "duration": 63,
    "start_time": "2024-05-29T05:57:32.263Z"
   },
   {
    "duration": 308,
    "start_time": "2024-05-29T05:57:32.336Z"
   },
   {
    "duration": 8,
    "start_time": "2024-05-29T06:02:35.671Z"
   },
   {
    "duration": 4,
    "start_time": "2024-05-29T06:02:36.091Z"
   },
   {
    "duration": 8,
    "start_time": "2024-05-29T06:02:38.545Z"
   },
   {
    "duration": 8,
    "start_time": "2024-05-29T06:02:46.302Z"
   },
   {
    "duration": 6,
    "start_time": "2024-05-29T06:02:46.941Z"
   },
   {
    "duration": 8,
    "start_time": "2024-05-29T06:03:05.009Z"
   },
   {
    "duration": 54,
    "start_time": "2024-05-29T06:03:05.709Z"
   },
   {
    "duration": 40,
    "start_time": "2024-05-29T06:16:02.261Z"
   },
   {
    "duration": 37,
    "start_time": "2024-05-29T06:18:47.788Z"
   },
   {
    "duration": 6,
    "start_time": "2024-05-29T06:19:07.435Z"
   },
   {
    "duration": 40,
    "start_time": "2024-05-29T06:19:07.979Z"
   },
   {
    "duration": 37,
    "start_time": "2024-05-29T06:20:23.111Z"
   },
   {
    "duration": 43,
    "start_time": "2024-05-29T06:20:59.723Z"
   },
   {
    "duration": 6,
    "start_time": "2024-05-29T06:22:01.796Z"
   },
   {
    "duration": 34,
    "start_time": "2024-05-29T06:22:02.127Z"
   },
   {
    "duration": 34,
    "start_time": "2024-05-29T06:24:20.091Z"
   },
   {
    "duration": 36,
    "start_time": "2024-05-29T06:24:33.957Z"
   },
   {
    "duration": 45,
    "start_time": "2024-05-29T06:24:53.463Z"
   },
   {
    "duration": 7,
    "start_time": "2024-05-29T06:25:18.514Z"
   },
   {
    "duration": 33,
    "start_time": "2024-05-29T06:25:18.928Z"
   },
   {
    "duration": 46,
    "start_time": "2024-05-29T06:26:33.398Z"
   },
   {
    "duration": 5122,
    "start_time": "2024-05-29T15:38:51.194Z"
   },
   {
    "duration": 488,
    "start_time": "2024-05-29T15:38:56.320Z"
   },
   {
    "duration": 20,
    "start_time": "2024-05-29T15:38:56.811Z"
   },
   {
    "duration": 14,
    "start_time": "2024-05-29T15:38:56.835Z"
   },
   {
    "duration": 14,
    "start_time": "2024-05-29T15:38:56.855Z"
   },
   {
    "duration": 13,
    "start_time": "2024-05-29T15:38:56.873Z"
   },
   {
    "duration": 684,
    "start_time": "2024-05-29T15:38:56.889Z"
   },
   {
    "duration": 22,
    "start_time": "2024-05-29T15:38:57.575Z"
   },
   {
    "duration": 246,
    "start_time": "2024-05-29T15:38:57.600Z"
   },
   {
    "duration": 80,
    "start_time": "2024-05-29T15:38:57.850Z"
   },
   {
    "duration": 6,
    "start_time": "2024-05-29T15:38:57.934Z"
   },
   {
    "duration": 4,
    "start_time": "2024-05-29T15:38:57.943Z"
   },
   {
    "duration": 4,
    "start_time": "2024-05-29T15:38:57.950Z"
   },
   {
    "duration": 6,
    "start_time": "2024-05-29T15:38:58.035Z"
   },
   {
    "duration": 253,
    "start_time": "2024-05-29T15:38:58.045Z"
   },
   {
    "duration": 1440,
    "start_time": "2024-05-29T15:50:33.211Z"
   },
   {
    "duration": 372,
    "start_time": "2024-05-29T15:50:34.654Z"
   },
   {
    "duration": 11,
    "start_time": "2024-05-29T15:50:35.031Z"
   },
   {
    "duration": 14,
    "start_time": "2024-05-29T15:50:35.045Z"
   },
   {
    "duration": 12,
    "start_time": "2024-05-29T15:50:35.065Z"
   },
   {
    "duration": 51,
    "start_time": "2024-05-29T15:50:35.080Z"
   },
   {
    "duration": 755,
    "start_time": "2024-05-29T15:50:35.134Z"
   },
   {
    "duration": 25,
    "start_time": "2024-05-29T15:50:35.892Z"
   },
   {
    "duration": 221,
    "start_time": "2024-05-29T15:50:35.932Z"
   },
   {
    "duration": 3,
    "start_time": "2024-05-29T15:50:36.156Z"
   },
   {
    "duration": 5,
    "start_time": "2024-05-29T15:50:36.232Z"
   },
   {
    "duration": 5,
    "start_time": "2024-05-29T15:50:36.240Z"
   },
   {
    "duration": 5,
    "start_time": "2024-05-29T15:50:36.248Z"
   },
   {
    "duration": 79,
    "start_time": "2024-05-29T15:50:36.257Z"
   },
   {
    "duration": 248,
    "start_time": "2024-05-29T15:50:36.339Z"
   },
   {
    "duration": 8,
    "start_time": "2024-05-29T15:52:01.747Z"
   },
   {
    "duration": 33,
    "start_time": "2024-05-29T15:52:02.642Z"
   },
   {
    "duration": 5,
    "start_time": "2024-05-29T15:54:31.880Z"
   },
   {
    "duration": 5,
    "start_time": "2024-05-29T15:54:32.458Z"
   },
   {
    "duration": 6,
    "start_time": "2024-05-29T15:54:33.665Z"
   },
   {
    "duration": 6,
    "start_time": "2024-05-29T15:54:35.370Z"
   },
   {
    "duration": 40,
    "start_time": "2024-05-29T15:54:37.165Z"
   },
   {
    "duration": 9,
    "start_time": "2024-05-29T16:09:13.547Z"
   },
   {
    "duration": 5,
    "start_time": "2024-05-29T16:19:57.562Z"
   },
   {
    "duration": 4,
    "start_time": "2024-05-29T16:20:00.886Z"
   },
   {
    "duration": 8,
    "start_time": "2024-05-29T16:20:02.832Z"
   },
   {
    "duration": 8,
    "start_time": "2024-05-29T16:20:06.100Z"
   },
   {
    "duration": 6,
    "start_time": "2024-05-29T16:20:07.685Z"
   },
   {
    "duration": 251,
    "start_time": "2024-05-29T16:20:08.561Z"
   },
   {
    "duration": 5387,
    "start_time": "2024-05-29T18:41:10.239Z"
   },
   {
    "duration": 609,
    "start_time": "2024-05-29T18:41:15.630Z"
   },
   {
    "duration": 11,
    "start_time": "2024-05-29T18:41:16.243Z"
   },
   {
    "duration": 15,
    "start_time": "2024-05-29T18:41:16.257Z"
   },
   {
    "duration": 43,
    "start_time": "2024-05-29T18:41:16.280Z"
   },
   {
    "duration": 12,
    "start_time": "2024-05-29T18:41:16.326Z"
   },
   {
    "duration": 700,
    "start_time": "2024-05-29T18:41:16.342Z"
   },
   {
    "duration": 23,
    "start_time": "2024-05-29T18:41:17.046Z"
   },
   {
    "duration": 261,
    "start_time": "2024-05-29T18:41:17.072Z"
   },
   {
    "duration": 8,
    "start_time": "2024-05-29T18:41:17.338Z"
   },
   {
    "duration": 74,
    "start_time": "2024-05-29T18:41:17.349Z"
   },
   {
    "duration": 4,
    "start_time": "2024-05-29T18:41:17.426Z"
   },
   {
    "duration": 9,
    "start_time": "2024-05-29T18:41:17.433Z"
   },
   {
    "duration": 77,
    "start_time": "2024-05-29T18:41:17.449Z"
   },
   {
    "duration": 7,
    "start_time": "2024-05-29T18:41:17.529Z"
   },
   {
    "duration": 567,
    "start_time": "2024-05-29T18:41:17.539Z"
   },
   {
    "duration": 26,
    "start_time": "2024-05-29T18:43:07.768Z"
   },
   {
    "duration": 6,
    "start_time": "2024-05-29T18:46:46.328Z"
   },
   {
    "duration": 5,
    "start_time": "2024-05-29T18:46:46.860Z"
   },
   {
    "duration": 5,
    "start_time": "2024-05-29T18:46:49.688Z"
   },
   {
    "duration": 7,
    "start_time": "2024-05-29T18:46:52.896Z"
   },
   {
    "duration": 7,
    "start_time": "2024-05-29T18:46:53.978Z"
   },
   {
    "duration": 61,
    "start_time": "2024-05-29T18:46:56.024Z"
   },
   {
    "duration": 6,
    "start_time": "2024-05-29T18:47:13.675Z"
   },
   {
    "duration": 4,
    "start_time": "2024-05-29T18:47:15.250Z"
   },
   {
    "duration": 7,
    "start_time": "2024-05-29T18:47:16.518Z"
   },
   {
    "duration": 8,
    "start_time": "2024-05-29T18:47:18.484Z"
   },
   {
    "duration": 7,
    "start_time": "2024-05-29T18:47:19.087Z"
   },
   {
    "duration": 56,
    "start_time": "2024-05-29T18:47:20.766Z"
   },
   {
    "duration": 5,
    "start_time": "2024-05-29T18:48:54.213Z"
   },
   {
    "duration": 5,
    "start_time": "2024-05-29T18:48:54.729Z"
   },
   {
    "duration": 5,
    "start_time": "2024-05-29T18:48:56.664Z"
   },
   {
    "duration": 8,
    "start_time": "2024-05-29T18:48:58.044Z"
   },
   {
    "duration": 8,
    "start_time": "2024-05-29T18:48:58.811Z"
   },
   {
    "duration": 53,
    "start_time": "2024-05-29T18:49:00.491Z"
   },
   {
    "duration": 6,
    "start_time": "2024-05-29T18:49:11.994Z"
   },
   {
    "duration": 5,
    "start_time": "2024-05-29T18:49:12.616Z"
   },
   {
    "duration": 6,
    "start_time": "2024-05-29T18:49:13.142Z"
   },
   {
    "duration": 9,
    "start_time": "2024-05-29T18:49:14.806Z"
   },
   {
    "duration": 6,
    "start_time": "2024-05-29T18:49:15.250Z"
   },
   {
    "duration": 6619,
    "start_time": "2024-05-29T18:49:15.931Z"
   },
   {
    "duration": 4,
    "start_time": "2024-05-29T18:52:41.783Z"
   },
   {
    "duration": 6312,
    "start_time": "2024-05-29T18:52:43.070Z"
   },
   {
    "duration": 6,
    "start_time": "2024-05-29T18:56:47.551Z"
   },
   {
    "duration": 5,
    "start_time": "2024-05-29T18:56:48.699Z"
   },
   {
    "duration": 6,
    "start_time": "2024-05-29T18:56:49.635Z"
   },
   {
    "duration": 9,
    "start_time": "2024-05-29T18:56:51.448Z"
   },
   {
    "duration": 4,
    "start_time": "2024-05-29T18:56:54.411Z"
   },
   {
    "duration": 6160,
    "start_time": "2024-05-29T18:56:55.291Z"
   },
   {
    "duration": 5,
    "start_time": "2024-05-29T18:57:45.394Z"
   },
   {
    "duration": 5,
    "start_time": "2024-05-29T18:57:45.874Z"
   },
   {
    "duration": 3,
    "start_time": "2024-05-29T18:57:46.727Z"
   },
   {
    "duration": 8,
    "start_time": "2024-05-29T18:57:48.184Z"
   },
   {
    "duration": 4,
    "start_time": "2024-05-29T18:57:48.760Z"
   },
   {
    "duration": 6978,
    "start_time": "2024-05-29T18:57:49.551Z"
   },
   {
    "duration": 6,
    "start_time": "2024-05-29T18:58:05.894Z"
   },
   {
    "duration": 1571,
    "start_time": "2024-05-29T18:58:16.615Z"
   },
   {
    "duration": 411,
    "start_time": "2024-05-29T18:58:18.190Z"
   },
   {
    "duration": 20,
    "start_time": "2024-05-29T18:58:18.604Z"
   },
   {
    "duration": 14,
    "start_time": "2024-05-29T18:58:18.627Z"
   },
   {
    "duration": 16,
    "start_time": "2024-05-29T18:58:18.647Z"
   },
   {
    "duration": 58,
    "start_time": "2024-05-29T18:58:18.666Z"
   },
   {
    "duration": 774,
    "start_time": "2024-05-29T18:58:18.731Z"
   },
   {
    "duration": 36,
    "start_time": "2024-05-29T18:58:19.508Z"
   },
   {
    "duration": 198,
    "start_time": "2024-05-29T18:58:19.547Z"
   },
   {
    "duration": 76,
    "start_time": "2024-05-29T18:58:19.748Z"
   },
   {
    "duration": 8,
    "start_time": "2024-05-29T18:58:19.828Z"
   },
   {
    "duration": 83,
    "start_time": "2024-05-29T18:58:19.840Z"
   },
   {
    "duration": 8,
    "start_time": "2024-05-29T18:58:19.929Z"
   },
   {
    "duration": 8,
    "start_time": "2024-05-29T18:58:19.944Z"
   },
   {
    "duration": 5,
    "start_time": "2024-05-29T18:58:19.955Z"
   },
   {
    "duration": 6800,
    "start_time": "2024-05-29T18:58:19.963Z"
   },
   {
    "duration": 1606,
    "start_time": "2024-05-29T19:04:27.757Z"
   },
   {
    "duration": 514,
    "start_time": "2024-05-29T19:04:29.367Z"
   },
   {
    "duration": 15,
    "start_time": "2024-05-29T19:04:29.885Z"
   },
   {
    "duration": 36,
    "start_time": "2024-05-29T19:04:29.904Z"
   },
   {
    "duration": 16,
    "start_time": "2024-05-29T19:04:29.947Z"
   },
   {
    "duration": 15,
    "start_time": "2024-05-29T19:04:29.967Z"
   },
   {
    "duration": 832,
    "start_time": "2024-05-29T19:04:30.026Z"
   },
   {
    "duration": 28,
    "start_time": "2024-05-29T19:04:30.861Z"
   },
   {
    "duration": 261,
    "start_time": "2024-05-29T19:04:30.893Z"
   },
   {
    "duration": 4,
    "start_time": "2024-05-29T19:04:31.222Z"
   },
   {
    "duration": 15,
    "start_time": "2024-05-29T19:04:31.231Z"
   },
   {
    "duration": 74,
    "start_time": "2024-05-29T19:04:31.251Z"
   },
   {
    "duration": 7,
    "start_time": "2024-05-29T19:04:31.331Z"
   },
   {
    "duration": 7,
    "start_time": "2024-05-29T19:04:31.345Z"
   },
   {
    "duration": 4,
    "start_time": "2024-05-29T19:04:31.356Z"
   },
   {
    "duration": 7685,
    "start_time": "2024-05-29T19:04:31.364Z"
   },
   {
    "duration": 303,
    "start_time": "2024-05-30T18:21:58.515Z"
   },
   {
    "duration": 8,
    "start_time": "2024-05-30T18:22:01.436Z"
   },
   {
    "duration": 6,
    "start_time": "2024-05-30T18:22:04.196Z"
   },
   {
    "duration": 5,
    "start_time": "2024-05-30T18:23:50.642Z"
   },
   {
    "duration": 5283,
    "start_time": "2024-05-30T18:26:53.709Z"
   },
   {
    "duration": 534,
    "start_time": "2024-05-30T18:26:58.998Z"
   },
   {
    "duration": 11,
    "start_time": "2024-05-30T18:26:59.536Z"
   },
   {
    "duration": 12,
    "start_time": "2024-05-30T18:26:59.552Z"
   },
   {
    "duration": 33,
    "start_time": "2024-05-30T18:26:59.567Z"
   },
   {
    "duration": 12,
    "start_time": "2024-05-30T18:26:59.604Z"
   },
   {
    "duration": 673,
    "start_time": "2024-05-30T18:26:59.619Z"
   },
   {
    "duration": 27,
    "start_time": "2024-05-30T18:27:00.295Z"
   },
   {
    "duration": 273,
    "start_time": "2024-05-30T18:27:00.325Z"
   },
   {
    "duration": 4,
    "start_time": "2024-05-30T18:27:00.604Z"
   },
   {
    "duration": 81,
    "start_time": "2024-05-30T18:27:00.615Z"
   },
   {
    "duration": 7,
    "start_time": "2024-05-30T18:27:00.702Z"
   },
   {
    "duration": 82,
    "start_time": "2024-05-30T18:27:00.712Z"
   },
   {
    "duration": 6,
    "start_time": "2024-05-30T18:27:00.797Z"
   },
   {
    "duration": 6,
    "start_time": "2024-05-30T18:27:08.557Z"
   },
   {
    "duration": 3,
    "start_time": "2024-05-30T18:27:08.824Z"
   },
   {
    "duration": 8,
    "start_time": "2024-05-30T18:27:16.430Z"
   },
   {
    "duration": 6341,
    "start_time": "2024-05-30T18:27:23.024Z"
   },
   {
    "duration": 6,
    "start_time": "2024-05-30T18:27:33.017Z"
   },
   {
    "duration": 8,
    "start_time": "2024-05-30T18:27:39.469Z"
   },
   {
    "duration": 8,
    "start_time": "2024-05-30T18:27:52.070Z"
   },
   {
    "duration": 8,
    "start_time": "2024-05-30T18:27:53.049Z"
   },
   {
    "duration": 132,
    "start_time": "2024-05-30T18:28:00.867Z"
   },
   {
    "duration": 17,
    "start_time": "2024-05-30T18:28:04.694Z"
   },
   {
    "duration": 8,
    "start_time": "2024-05-30T18:28:05.618Z"
   },
   {
    "duration": 10,
    "start_time": "2024-05-30T18:28:06.919Z"
   },
   {
    "duration": 9,
    "start_time": "2024-05-30T18:28:08.157Z"
   },
   {
    "duration": 5,
    "start_time": "2024-05-30T18:28:24.908Z"
   },
   {
    "duration": 5351,
    "start_time": "2024-05-30T18:28:29.196Z"
   },
   {
    "duration": 5,
    "start_time": "2024-05-30T18:28:47.201Z"
   },
   {
    "duration": 5006,
    "start_time": "2024-05-30T18:28:49.719Z"
   },
   {
    "duration": 5794,
    "start_time": "2024-05-30T18:30:48.430Z"
   },
   {
    "duration": 5,
    "start_time": "2024-05-30T18:30:54.228Z"
   },
   {
    "duration": 5773,
    "start_time": "2024-05-30T18:30:55.403Z"
   },
   {
    "duration": 5177,
    "start_time": "2024-05-30T18:45:09.703Z"
   },
   {
    "duration": 514,
    "start_time": "2024-05-30T18:45:14.884Z"
   },
   {
    "duration": 14,
    "start_time": "2024-05-30T18:45:15.401Z"
   },
   {
    "duration": 15,
    "start_time": "2024-05-30T18:45:15.430Z"
   },
   {
    "duration": 14,
    "start_time": "2024-05-30T18:45:15.452Z"
   },
   {
    "duration": 15,
    "start_time": "2024-05-30T18:45:15.469Z"
   },
   {
    "duration": 703,
    "start_time": "2024-05-30T18:45:15.487Z"
   },
   {
    "duration": 38,
    "start_time": "2024-05-30T18:45:16.193Z"
   },
   {
    "duration": 298,
    "start_time": "2024-05-30T18:45:16.233Z"
   },
   {
    "duration": 3,
    "start_time": "2024-05-30T18:45:16.535Z"
   },
   {
    "duration": 6,
    "start_time": "2024-05-30T18:45:16.541Z"
   },
   {
    "duration": 4,
    "start_time": "2024-05-30T18:45:16.550Z"
   },
   {
    "duration": 78,
    "start_time": "2024-05-30T18:45:16.557Z"
   },
   {
    "duration": 6,
    "start_time": "2024-05-30T18:45:16.640Z"
   },
   {
    "duration": 4,
    "start_time": "2024-05-30T18:45:16.649Z"
   },
   {
    "duration": 5789,
    "start_time": "2024-05-30T18:45:16.657Z"
   },
   {
    "duration": 5,
    "start_time": "2024-05-30T18:53:56.740Z"
   },
   {
    "duration": 4,
    "start_time": "2024-05-30T18:53:59.404Z"
   },
   {
    "duration": 6,
    "start_time": "2024-05-30T19:00:34.670Z"
   },
   {
    "duration": 11,
    "start_time": "2024-05-30T19:00:36.362Z"
   },
   {
    "duration": 6,
    "start_time": "2024-05-30T19:00:39.171Z"
   },
   {
    "duration": 11,
    "start_time": "2024-05-30T19:01:45.944Z"
   },
   {
    "duration": 18,
    "start_time": "2024-05-30T19:02:14.068Z"
   },
   {
    "duration": 6,
    "start_time": "2024-05-30T19:02:44.123Z"
   },
   {
    "duration": 3,
    "start_time": "2024-05-30T19:04:03.201Z"
   },
   {
    "duration": 4,
    "start_time": "2024-05-30T19:04:18.293Z"
   },
   {
    "duration": 5,
    "start_time": "2024-05-30T19:04:36.707Z"
   },
   {
    "duration": 4981,
    "start_time": "2024-05-30T19:06:09.077Z"
   },
   {
    "duration": 1407,
    "start_time": "2024-05-30T19:07:55.447Z"
   },
   {
    "duration": 406,
    "start_time": "2024-05-30T19:07:56.858Z"
   },
   {
    "duration": 12,
    "start_time": "2024-05-30T19:07:57.267Z"
   },
   {
    "duration": 12,
    "start_time": "2024-05-30T19:07:57.284Z"
   },
   {
    "duration": 36,
    "start_time": "2024-05-30T19:07:57.299Z"
   },
   {
    "duration": 12,
    "start_time": "2024-05-30T19:07:57.339Z"
   },
   {
    "duration": 725,
    "start_time": "2024-05-30T19:07:57.354Z"
   },
   {
    "duration": 22,
    "start_time": "2024-05-30T19:07:58.082Z"
   },
   {
    "duration": 234,
    "start_time": "2024-05-30T19:07:58.108Z"
   },
   {
    "duration": 3,
    "start_time": "2024-05-30T19:07:58.347Z"
   },
   {
    "duration": 78,
    "start_time": "2024-05-30T19:07:58.353Z"
   },
   {
    "duration": 499,
    "start_time": "2024-05-30T19:07:58.434Z"
   },
   {
    "duration": 0,
    "start_time": "2024-05-30T19:07:58.935Z"
   },
   {
    "duration": 0,
    "start_time": "2024-05-30T19:07:58.937Z"
   },
   {
    "duration": 0,
    "start_time": "2024-05-30T19:07:58.940Z"
   },
   {
    "duration": 0,
    "start_time": "2024-05-30T19:07:58.941Z"
   },
   {
    "duration": 1609,
    "start_time": "2024-05-30T19:09:24.643Z"
   },
   {
    "duration": 478,
    "start_time": "2024-05-30T19:09:26.257Z"
   },
   {
    "duration": 12,
    "start_time": "2024-05-30T19:09:26.738Z"
   },
   {
    "duration": 13,
    "start_time": "2024-05-30T19:09:26.753Z"
   },
   {
    "duration": 12,
    "start_time": "2024-05-30T19:09:26.771Z"
   },
   {
    "duration": 49,
    "start_time": "2024-05-30T19:09:26.786Z"
   },
   {
    "duration": 744,
    "start_time": "2024-05-30T19:09:26.838Z"
   },
   {
    "duration": 28,
    "start_time": "2024-05-30T19:09:27.585Z"
   },
   {
    "duration": 321,
    "start_time": "2024-05-30T19:09:27.616Z"
   },
   {
    "duration": 7,
    "start_time": "2024-05-30T19:09:27.940Z"
   },
   {
    "duration": 11,
    "start_time": "2024-05-30T19:09:27.949Z"
   },
   {
    "duration": 571,
    "start_time": "2024-05-30T19:09:27.963Z"
   },
   {
    "duration": 0,
    "start_time": "2024-05-30T19:09:28.538Z"
   },
   {
    "duration": 0,
    "start_time": "2024-05-30T19:09:28.542Z"
   },
   {
    "duration": 0,
    "start_time": "2024-05-30T19:09:28.545Z"
   },
   {
    "duration": 0,
    "start_time": "2024-05-30T19:09:28.554Z"
   },
   {
    "duration": 36,
    "start_time": "2024-05-30T19:10:11.229Z"
   },
   {
    "duration": 41,
    "start_time": "2024-05-30T19:10:37.309Z"
   },
   {
    "duration": 7,
    "start_time": "2024-05-30T19:12:02.328Z"
   },
   {
    "duration": 36,
    "start_time": "2024-05-30T19:12:48.000Z"
   },
   {
    "duration": 5,
    "start_time": "2024-05-30T19:12:55.139Z"
   },
   {
    "duration": 43,
    "start_time": "2024-05-30T19:13:28.403Z"
   },
   {
    "duration": 4,
    "start_time": "2024-05-30T19:15:40.429Z"
   },
   {
    "duration": 4938,
    "start_time": "2024-05-30T19:15:40.756Z"
   },
   {
    "duration": 6,
    "start_time": "2024-05-30T19:25:01.090Z"
   },
   {
    "duration": 40,
    "start_time": "2024-05-30T19:25:03.630Z"
   },
   {
    "duration": 5,
    "start_time": "2024-05-30T19:25:28.078Z"
   },
   {
    "duration": 38,
    "start_time": "2024-05-30T19:25:30.221Z"
   },
   {
    "duration": 5,
    "start_time": "2024-05-30T19:26:39.130Z"
   },
   {
    "duration": 17,
    "start_time": "2024-05-30T19:26:39.612Z"
   },
   {
    "duration": 1565,
    "start_time": "2024-05-30T19:27:05.036Z"
   },
   {
    "duration": 471,
    "start_time": "2024-05-30T19:27:06.605Z"
   },
   {
    "duration": 12,
    "start_time": "2024-05-30T19:27:07.080Z"
   },
   {
    "duration": 35,
    "start_time": "2024-05-30T19:27:07.096Z"
   },
   {
    "duration": 14,
    "start_time": "2024-05-30T19:27:07.138Z"
   },
   {
    "duration": 14,
    "start_time": "2024-05-30T19:27:07.156Z"
   },
   {
    "duration": 775,
    "start_time": "2024-05-30T19:27:07.173Z"
   },
   {
    "duration": 29,
    "start_time": "2024-05-30T19:27:07.955Z"
   },
   {
    "duration": 269,
    "start_time": "2024-05-30T19:27:07.988Z"
   },
   {
    "duration": 4,
    "start_time": "2024-05-30T19:27:08.329Z"
   },
   {
    "duration": 9,
    "start_time": "2024-05-30T19:27:08.337Z"
   },
   {
    "duration": 528,
    "start_time": "2024-05-30T19:27:08.349Z"
   },
   {
    "duration": 0,
    "start_time": "2024-05-30T19:27:08.880Z"
   },
   {
    "duration": 0,
    "start_time": "2024-05-30T19:27:08.882Z"
   },
   {
    "duration": 0,
    "start_time": "2024-05-30T19:27:08.885Z"
   },
   {
    "duration": 0,
    "start_time": "2024-05-30T19:27:08.887Z"
   },
   {
    "duration": 5,
    "start_time": "2024-05-30T19:28:35.723Z"
   },
   {
    "duration": 18,
    "start_time": "2024-05-30T19:28:39.165Z"
   },
   {
    "duration": 6,
    "start_time": "2024-05-30T19:28:57.212Z"
   },
   {
    "duration": 1599,
    "start_time": "2024-05-30T19:29:12.604Z"
   },
   {
    "duration": 494,
    "start_time": "2024-05-30T19:29:14.206Z"
   },
   {
    "duration": 21,
    "start_time": "2024-05-30T19:29:14.705Z"
   },
   {
    "duration": 20,
    "start_time": "2024-05-30T19:29:14.748Z"
   },
   {
    "duration": 20,
    "start_time": "2024-05-30T19:29:14.771Z"
   },
   {
    "duration": 23,
    "start_time": "2024-05-30T19:29:14.794Z"
   },
   {
    "duration": 858,
    "start_time": "2024-05-30T19:29:14.830Z"
   },
   {
    "duration": 40,
    "start_time": "2024-05-30T19:29:15.692Z"
   },
   {
    "duration": 122,
    "start_time": "2024-05-30T19:29:15.737Z"
   },
   {
    "duration": 71,
    "start_time": "2024-05-30T19:29:15.864Z"
   },
   {
    "duration": 11,
    "start_time": "2024-05-30T19:29:15.940Z"
   },
   {
    "duration": 86,
    "start_time": "2024-05-30T19:29:15.955Z"
   },
   {
    "duration": 7,
    "start_time": "2024-05-30T19:29:16.048Z"
   },
   {
    "duration": 8,
    "start_time": "2024-05-30T19:29:16.058Z"
   },
   {
    "duration": 4,
    "start_time": "2024-05-30T19:29:16.071Z"
   },
   {
    "duration": 5307,
    "start_time": "2024-05-30T19:29:16.081Z"
   },
   {
    "duration": 1522,
    "start_time": "2024-05-30T19:31:18.535Z"
   },
   {
    "duration": 466,
    "start_time": "2024-05-30T19:31:20.060Z"
   },
   {
    "duration": 16,
    "start_time": "2024-05-30T19:31:20.534Z"
   },
   {
    "duration": 17,
    "start_time": "2024-05-30T19:31:20.555Z"
   },
   {
    "duration": 16,
    "start_time": "2024-05-30T19:31:20.579Z"
   },
   {
    "duration": 41,
    "start_time": "2024-05-30T19:31:20.598Z"
   },
   {
    "duration": 751,
    "start_time": "2024-05-30T19:31:20.643Z"
   },
   {
    "duration": 38,
    "start_time": "2024-05-30T19:31:21.397Z"
   },
   {
    "duration": 329,
    "start_time": "2024-05-30T19:31:21.438Z"
   },
   {
    "duration": 60,
    "start_time": "2024-05-30T19:31:21.772Z"
   },
   {
    "duration": 35,
    "start_time": "2024-05-30T19:31:21.836Z"
   },
   {
    "duration": 6,
    "start_time": "2024-05-30T19:31:21.930Z"
   },
   {
    "duration": 6,
    "start_time": "2024-05-30T19:31:21.940Z"
   },
   {
    "duration": 3,
    "start_time": "2024-05-30T19:31:21.951Z"
   },
   {
    "duration": 5279,
    "start_time": "2024-05-30T19:31:21.957Z"
   },
   {
    "duration": 1505,
    "start_time": "2024-05-30T19:45:41.090Z"
   },
   {
    "duration": 456,
    "start_time": "2024-05-30T19:45:42.599Z"
   },
   {
    "duration": 19,
    "start_time": "2024-05-30T19:45:43.059Z"
   },
   {
    "duration": 17,
    "start_time": "2024-05-30T19:45:43.082Z"
   },
   {
    "duration": 33,
    "start_time": "2024-05-30T19:45:43.105Z"
   },
   {
    "duration": 16,
    "start_time": "2024-05-30T19:45:43.142Z"
   },
   {
    "duration": 767,
    "start_time": "2024-05-30T19:45:43.162Z"
   },
   {
    "duration": 23,
    "start_time": "2024-05-30T19:45:43.932Z"
   },
   {
    "duration": 284,
    "start_time": "2024-05-30T19:45:43.959Z"
   },
   {
    "duration": 77,
    "start_time": "2024-05-30T19:45:44.253Z"
   },
   {
    "duration": 20,
    "start_time": "2024-05-30T19:45:44.333Z"
   },
   {
    "duration": 7,
    "start_time": "2024-05-30T19:45:44.356Z"
   },
   {
    "duration": 10,
    "start_time": "2024-05-30T19:45:44.366Z"
   },
   {
    "duration": 5,
    "start_time": "2024-05-30T19:45:44.430Z"
   },
   {
    "duration": 5308,
    "start_time": "2024-05-30T19:45:44.437Z"
   }
  ],
  "kernelspec": {
   "display_name": "Python 3 (ipykernel)",
   "language": "python",
   "name": "python3"
  },
  "language_info": {
   "codemirror_mode": {
    "name": "ipython",
    "version": 3
   },
   "file_extension": ".py",
   "mimetype": "text/x-python",
   "name": "python",
   "nbconvert_exporter": "python",
   "pygments_lexer": "ipython3",
   "version": "3.9.19"
  },
  "toc": {
   "base_numbering": 1,
   "nav_menu": {},
   "number_sections": true,
   "sideBar": true,
   "skip_h1_title": true,
   "title_cell": "Table of Contents",
   "title_sidebar": "Contents",
   "toc_cell": false,
   "toc_position": {},
   "toc_section_display": true,
   "toc_window_display": false
  }
 },
 "nbformat": 4,
 "nbformat_minor": 2
}
