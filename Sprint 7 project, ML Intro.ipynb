{
 "cells": [
  {
   "cell_type": "markdown",
   "metadata": {},
   "source": [
    "<div class=\"alert alert-success\">\n",
    "<b>Reviewer's comment V4</b>\n",
    "\n",
    "Thanks for taking the time to improve the project! It is now accepted. Good luck on the next sprint!\n",
    "\n",
    "</div>"
   ]
  },
  {
   "cell_type": "markdown",
   "metadata": {},
   "source": [
    "**Review**\n",
    "\n",
    "Hi, my name is Dmitry and I will be reviewing your project.\n",
    "  \n",
    "You can find my comments in colored markdown cells:\n",
    "  \n",
    "<div class=\"alert alert-success\">\n",
    "  If everything is done successfully.\n",
    "</div>\n",
    "  \n",
    "<div class=\"alert alert-warning\">\n",
    "  If I have some (optional) suggestions, or questions to think about, or general comments.\n",
    "</div>\n",
    "  \n",
    "<div class=\"alert alert-danger\">\n",
    "  If a section requires some corrections. Work can't be accepted with red comments.\n",
    "</div>\n",
    "  \n",
    "Please don't remove my comments, as it will make further review iterations much harder for me.\n",
    "  \n",
    "Feel free to reply to my comments or ask questions using the following template:\n",
    "  \n",
    "<div class=\"alert alert-info\">\n",
    "  For your comments and questions.\n",
    "</div>\n",
    "  \n",
    "First of all, thank you for turning in the project! You did a pretty good job overall, but there are a couple of problems that need to be fixed before the project is accepted. Let me know if you have questions!"
   ]
  },
  {
   "cell_type": "code",
   "execution_count": 1,
   "metadata": {},
   "outputs": [],
   "source": [
    "import pandas as pd\n",
    "from sklearn.model_selection import train_test_split\n",
    "from sklearn.tree import DecisionTreeClassifier\n",
    "from sklearn.ensemble import RandomForestClassifier\n",
    "from sklearn.metrics import accuracy_score\n",
    "from sklearn.ensemble import GradientBoostingClassifier\n",
    "import joblib \n",
    "import seaborn as sns\n",
    "import matplotlib.pyplot as plt\n",
    "from sklearn.metrics import confusion_matrix\n"
   ]
  },
  {
   "cell_type": "markdown",
   "metadata": {},
   "source": [
    "Title:\n",
    "\n",
    "Predictive Modeling for Megaline's Plan Recommendation: Smart vs. Ultra    "
   ]
  },
  {
   "cell_type": "markdown",
   "metadata": {},
   "source": [
    "Introduction:\n",
    "\n",
    "In today's competitive telecom market, mobile carriers like Megaline face the challenge of retaining customers and optimizing their service offerings. Megaline has observed that many subscribers are still using legacy plans and are unaware of the benefits offered by their newer plans: Smart and Ultra. To address this issue, Megaline aims to develop a predictive modeling solution that can analyze subscribers' behavior and recommend the most suitable plan (Smart or Ultra) based on their usage patterns and preferences."
   ]
  },
  {
   "cell_type": "code",
   "execution_count": 2,
   "metadata": {
    "scrolled": true
   },
   "outputs": [
    {
     "data": {
      "text/html": [
       "<div>\n",
       "<style scoped>\n",
       "    .dataframe tbody tr th:only-of-type {\n",
       "        vertical-align: middle;\n",
       "    }\n",
       "\n",
       "    .dataframe tbody tr th {\n",
       "        vertical-align: top;\n",
       "    }\n",
       "\n",
       "    .dataframe thead th {\n",
       "        text-align: right;\n",
       "    }\n",
       "</style>\n",
       "<table border=\"1\" class=\"dataframe\">\n",
       "  <thead>\n",
       "    <tr style=\"text-align: right;\">\n",
       "      <th></th>\n",
       "      <th>calls</th>\n",
       "      <th>minutes</th>\n",
       "      <th>messages</th>\n",
       "      <th>mb_used</th>\n",
       "      <th>is_ultra</th>\n",
       "    </tr>\n",
       "  </thead>\n",
       "  <tbody>\n",
       "    <tr>\n",
       "      <th>0</th>\n",
       "      <td>40.0</td>\n",
       "      <td>311.90</td>\n",
       "      <td>83.0</td>\n",
       "      <td>19915.42</td>\n",
       "      <td>0</td>\n",
       "    </tr>\n",
       "    <tr>\n",
       "      <th>1</th>\n",
       "      <td>85.0</td>\n",
       "      <td>516.75</td>\n",
       "      <td>56.0</td>\n",
       "      <td>22696.96</td>\n",
       "      <td>0</td>\n",
       "    </tr>\n",
       "    <tr>\n",
       "      <th>2</th>\n",
       "      <td>77.0</td>\n",
       "      <td>467.66</td>\n",
       "      <td>86.0</td>\n",
       "      <td>21060.45</td>\n",
       "      <td>0</td>\n",
       "    </tr>\n",
       "    <tr>\n",
       "      <th>3</th>\n",
       "      <td>106.0</td>\n",
       "      <td>745.53</td>\n",
       "      <td>81.0</td>\n",
       "      <td>8437.39</td>\n",
       "      <td>1</td>\n",
       "    </tr>\n",
       "    <tr>\n",
       "      <th>4</th>\n",
       "      <td>66.0</td>\n",
       "      <td>418.74</td>\n",
       "      <td>1.0</td>\n",
       "      <td>14502.75</td>\n",
       "      <td>0</td>\n",
       "    </tr>\n",
       "  </tbody>\n",
       "</table>\n",
       "</div>"
      ],
      "text/plain": [
       "   calls  minutes  messages   mb_used  is_ultra\n",
       "0   40.0   311.90      83.0  19915.42         0\n",
       "1   85.0   516.75      56.0  22696.96         0\n",
       "2   77.0   467.66      86.0  21060.45         0\n",
       "3  106.0   745.53      81.0   8437.39         1\n",
       "4   66.0   418.74       1.0  14502.75         0"
      ]
     },
     "execution_count": 2,
     "metadata": {},
     "output_type": "execute_result"
    }
   ],
   "source": [
    "df = pd.read_csv('/datasets/users_behavior.csv')\n",
    "df.head()"
   ]
  },
  {
   "cell_type": "markdown",
   "metadata": {},
   "source": [
    "<div class=\"alert alert-success\">\n",
    "<b>Reviewer's comment</b>\n",
    "\n",
    "The data was loaded and inspected\n",
    "\n",
    "</div>"
   ]
  },
  {
   "cell_type": "markdown",
   "metadata": {},
   "source": [
    " - Split the source data into a training set, a validation set, and a test set."
   ]
  },
  {
   "cell_type": "code",
   "execution_count": 3,
   "metadata": {},
   "outputs": [
    {
     "name": "stdout",
     "output_type": "stream",
     "text": [
      "Training set size: 2249\n",
      "Validation set size: 482\n",
      "Test set size: 483\n"
     ]
    }
   ],
   "source": [
    "# Splitting data into a training set\n",
    "train_temp, test = train_test_split(df, test_size=0.3, random_state=42)\n",
    "\n",
    "#Splitting temporary set into a validation set\n",
    "validation, test = train_test_split(test, test_size=0.5, random_state=42)\n",
    "\n",
    "#Print the sizes of each dataset\n",
    "print(\"Training set size:\", len(train_temp))\n",
    "print(\"Validation set size:\", len(validation))\n",
    "print(\"Test set size:\", len(test))"
   ]
  },
  {
   "cell_type": "markdown",
   "metadata": {},
   "source": [
    "By following these steps, we ensure that our machine learning model is trained, validated, and tested on different subsets of the original data, facilitating robust model evaluation and performance assessment."
   ]
  },
  {
   "cell_type": "markdown",
   "metadata": {},
   "source": [
    "<div class=\"alert alert-success\">\n",
    "<b>Reviewer's comment</b>\n",
    "\n",
    "The data split is reasonable\n",
    "\n",
    "</div>"
   ]
  },
  {
   "cell_type": "code",
   "execution_count": 4,
   "metadata": {},
   "outputs": [],
   "source": [
    "X = df[['calls', 'minutes', 'messages', 'mb_used']]\n",
    "y = df['is_ultra']\n",
    "\n",
    "X_train, X_temp, y_train, y_temp = train_test_split(X, y, test_size=0.4, random_state=42)\n",
    "X_val, X_test, y_val, y_test = train_test_split(X_temp, y_temp, test_size=0.5, random_state=42)\n",
    "\n",
    "X_train_val, X_test, y_train_val, y_test = train_test_split(X, y, test_size=0.2, random_state=42)\n",
    "X_train, X_val, y_train, y_val = train_test_split(X_train_val, y_train_val, test_size=0.25, random_state=42)"
   ]
  },
  {
   "cell_type": "markdown",
   "metadata": {},
   "source": [
    "- Split the source data into a training set, a validation set, and a test set."
   ]
  },
  {
   "cell_type": "code",
   "execution_count": 5,
   "metadata": {},
   "outputs": [],
   "source": [
    "# Decision Tree\n",
    "#dt = DecisionTreeClassifier()\n",
    "\n",
    "# Random Forest\n",
    "#rf = RandomForestClassifier()\n",
    "\n",
    "# Gradient Boosting\n",
    "#gb = GradientBoostingClassifier()\n",
    "\n",
    "#Model Training\n",
    "#dt.fit(X_train, y_train)\n",
    "#rf.fit(X_train, y_train)\n",
    "#gb.fit(X_train, y_train)\n",
    "\n",
    "#dt_pred = dt.predict(X_test)\n",
    "#rf_pred = rf.predict(X_test)\n",
    "#gb_pred = gb.predict(X_test)\n",
    "\n",
    "#print(\"Decision Tree Accuracy:\", accuracy_score(y_test, dt_pred))\n",
    "#print(\"Random Forest Accuracy:\", accuracy_score(y_test, rf_pred))\n",
    "#print(\"Gradient Boosting Accuracy:\", accuracy_score(y_test, gb_pred))"
   ]
  },
  {
   "cell_type": "code",
   "execution_count": 6,
   "metadata": {},
   "outputs": [
    {
     "name": "stdout",
     "output_type": "stream",
     "text": [
      "Validation Accuracy (n_estimators=50): 0.7884914463452566\n",
      "Validation Accuracy (n_estimators=100): 0.7947122861586314\n",
      "Validation Accuracy (n_estimators=150): 0.7947122861586314\n"
     ]
    },
    {
     "data": {
      "text/plain": [
       "RandomForestClassifier(random_state=42)"
      ]
     },
     "execution_count": 6,
     "metadata": {},
     "output_type": "execute_result"
    }
   ],
   "source": [
    "rf_classifier = RandomForestClassifier(random_state=42)\n",
    "\n",
    "for n_estimators in [50, 100, 150]:\n",
    "    rf_classifier.n_estimators = n_estimators\n",
    "    rf_classifier.fit(X_train, y_train)\n",
    "    y_val_pred = rf_classifier.predict(X_val)\n",
    "    accuracy = accuracy_score(y_val, y_val_pred)\n",
    "    print(f\"Validation Accuracy (n_estimators={n_estimators}): {accuracy}\")\n",
    "    \n",
    "rf_classifier.n_estimators = 100  # Choose the best value found during tuning\n",
    "rf_classifier.fit(X_train, y_train)\n",
    "\n",
    "#y_test_pred = rf_classifier.predict(X_test)\n",
    "#test_accuracy = accuracy_score(y_test, y_test_pred)\n",
    "#print(f\"Test Accuracy (Final Model): {test_accuracy}\")"
   ]
  },
  {
   "cell_type": "markdown",
   "metadata": {},
   "source": [
    "<div class=\"alert alert-danger\">\n",
    "<S><b>Reviewer's comment</b>\n",
    "\n",
    "There's no need to split the data again. Please use validation set to compare different models and leave the test set for final model evaluation.\n",
    "    \n",
    "Also please add some hyperparameter tuning using the validation set for at least one model\n",
    "\n",
    "</div>"
   ]
  },
  {
   "cell_type": "markdown",
   "metadata": {},
   "source": [
    "<div class=\"alert alert-success\">\n",
    "<b>Reviewer's comment V2</b>\n",
    "\n",
    "Great!\n",
    "\n",
    "</div>"
   ]
  },
  {
   "cell_type": "markdown",
   "metadata": {},
   "source": [
    "- Investigate the quality of different models by changing hyperparameters. Briefly describe the findings of the study."
   ]
  },
  {
   "cell_type": "code",
   "execution_count": 7,
   "metadata": {},
   "outputs": [
    {
     "name": "stdout",
     "output_type": "stream",
     "text": [
      "Best Model: Random Forest\n",
      "Accuracy: 0.8164852255054432\n"
     ]
    }
   ],
   "source": [
    "#Choose Models\n",
    "models = {\n",
    "    'Decision Tree': DecisionTreeClassifier(),\n",
    "    'Random Forest': RandomForestClassifier(),\n",
    "    'Gradient Boosting': GradientBoostingClassifier()\n",
    "}\n",
    "\n",
    "#Define hyperparameters to tune for each model\n",
    "results = {}\n",
    "for name, model in models.items():\n",
    "    model.fit(X_train, y_train)\n",
    "    y_pred = model.predict(X_test)\n",
    "    accuracy = accuracy_score(y_test, y_pred)\n",
    "    results[name] = accuracy\n",
    "   \n",
    "best_model = max(results, key=results.get)\n",
    "print(\"Best Model:\", best_model)\n",
    "print(\"Accuracy:\", results[best_model])"
   ]
  },
  {
   "cell_type": "markdown",
   "metadata": {},
   "source": [
    "<div class=\"alert alert-danger\">\n",
    "<s><b>Reviewer's comment</b>\n",
    "\n",
    "This cell does pretty much the same thing as the previous one, although a bit more efficiently. There's no need to train and evalaute the same models twice :)\n",
    "\n",
    "</div>"
   ]
  },
  {
   "cell_type": "markdown",
   "metadata": {},
   "source": [
    "<div class=\"alert alert-success\">\n",
    "<b>Reviewer's comment V2</b>\n",
    "\n",
    "Fixed!\n",
    "\n",
    "</div>"
   ]
  },
  {
   "cell_type": "markdown",
   "metadata": {},
   "source": [
    "- Check the quality of the model using the test set."
   ]
  },
  {
   "cell_type": "markdown",
   "metadata": {},
   "source": [
    "Regarding the comment about choosing the decision tree as the best model, it seems there might be a misunderstanding. The code provided does not explicitly mention decision tree as the best model. Instead, it initializes and trains a Random Forest classifier. However, if a decision tree model was evaluated earlier and deemed the best, it would be necessary to load that specific trained model for evaluation on the test set."
   ]
  },
  {
   "cell_type": "markdown",
   "metadata": {},
   "source": [
    "<div class=\"alert alert-danger\">\n",
    "<s><b>Reviewer's comment</b>\n",
    "\n",
    "Could you explain why you chose decision tree as the best model? Didn't it have worse results than other models on the validation set? Or, if the 'load the trained model' code is commented out, you're using the last evaluated model (which is not necessarily the best)\n",
    "\n",
    "</div>"
   ]
  },
  {
   "cell_type": "markdown",
   "metadata": {},
   "source": [
    "<div class=\"alert alert-danger\">\n",
    "<s><b>Reviewer's comment V2</b>\n",
    "\n",
    "> Regarding the comment about choosing the decision tree as the best model, it seems there might be a misunderstanding. The code provided does not explicitly mention decision tree as the best model. Instead, it initializes and trains a Random Forest classifier. However, if a decision tree model was evaluated earlier and deemed the best, it would be necessary to load that specific trained model for evaluation on the test set.\n",
    "    \n",
    "Ok, I see!\n",
    "    \n",
    "Still then, it's unclear why you chose random forest as the best model, as far as I can tell it had lower accuracy than the gradient boosting model?\n",
    "    \n",
    "Another thing is that you're making a different split and the test set data in the new split may well have been in train/validation of the old split. While it's a good idea to retrain the best model on the combined train+validation set before evaluating it on the test set, you need to make sure that you use the same data split as earlier.\n",
    "    \n",
    "Also in the cell below, you're making predictions using `model` which contains the last trained model in the loop from before: `for name, model in models.items()...`\n",
    "\n",
    "</div>"
   ]
  },
  {
   "cell_type": "markdown",
   "metadata": {},
   "source": [
    "With these modifications, we'll ensure a fair comparison of models, maintain consistency in data splits, and make predictions using the best-performing model identified through proper validation."
   ]
  },
  {
   "cell_type": "markdown",
   "metadata": {},
   "source": [
    "<div class=\"alert alert-danger\">\n",
    "<s><b>Reviewer's comment V3</b>\n",
    "\n",
    "> you're making predictions using `model` which contains the last trained model in the loop from before: `for name, model in models.items()...`\n",
    "    \n",
    "The above cell is the cell I meant in the earlier comment\n",
    "</div>"
   ]
  },
  {
   "cell_type": "markdown",
   "metadata": {},
   "source": [
    "<div class=\"alert alert-danger\">\n",
    "<s><b>Reviewer's comment V3</b>\n",
    "\n",
    "It seems that you misunderstood my point about retraining the final model on the combined train+validation data. If you train the models on the combined train+validation set before selecting the best model and evaluate those models that will lead to useless results like validation accuracy equal to 1 (this amount to evaluating the models on the train set, and a sufficiently complex model can simply memorize the train set).\n",
    "    \n",
    "The complete process is as follows:\n",
    "    \n",
    "1. Train the models using the train set, evaluate them using the validation set (you can also tune hyperparameters using the validation set).\n",
    "2. Choose the best model by validation set score.\n",
    "3. The optionally you can train that model on the combined train+validation data, as now we no longer need the validation set.\n",
    "4. Evaluate the best model on the test set for an unbiased estimate of its generalization performance\n",
    "\n",
    "</div>"
   ]
  },
  {
   "cell_type": "code",
   "execution_count": 8,
   "metadata": {},
   "outputs": [
    {
     "name": "stdout",
     "output_type": "stream",
     "text": [
      "Random Forest Validation Accuracy: 0.7947\n",
      "Gradient Boosting Validation Accuracy: 0.7947\n",
      "\n",
      "Best Model: RandomForestClassifier\n",
      "Test Accuracy: 0.8118\n"
     ]
    }
   ],
   "source": [
    "models = {\n",
    "    'Random Forest': RandomForestClassifier(random_state=42),\n",
    "    'Gradient Boosting': GradientBoostingClassifier(random_state=42)\n",
    "}\n",
    "\n",
    "best_val_accuracy = 0\n",
    "for name, model in models.items():\n",
    "    model.fit(X_train, y_train)\n",
    "    y_val_pred = model.predict(X_val)\n",
    "    val_accuracy = accuracy_score(y_val, y_val_pred)\n",
    "    print(f\"{name} Validation Accuracy: {val_accuracy:.4f}\")\n",
    "    if val_accuracy > best_val_accuracy:\n",
    "        best_model = model\n",
    "        best_val_accuracy = val_accuracy\n",
    "\n",
    "best_model.fit(X_train_val, y_train_val)  \n",
    "y_test_pred = best_model.predict(X_test)\n",
    "test_accuracy = accuracy_score(y_test, y_test_pred)\n",
    "\n",
    "print(f\"\\nBest Model: {type(best_model).__name__}\")\n",
    "print(f\"Test Accuracy: {test_accuracy:.4f}\")"
   ]
  },
  {
   "cell_type": "markdown",
   "metadata": {},
   "source": [
    "<div class=\"alert alert-success\">\n",
    "<b>Reviewer's comment V4</b>\n",
    "\n",
    "Ok, looks good, though it would be better to use the best hyperparameters for the random forest model you found earlier :)\n",
    "\n",
    "</div>"
   ]
  },
  {
   "cell_type": "markdown",
   "metadata": {},
   "source": [
    "- Additional task: sanity check the model. This data is more complex than what you’re used to working with, so it's not an easy task. We'll take a closer look at it later."
   ]
  },
  {
   "cell_type": "code",
   "execution_count": 9,
   "metadata": {},
   "outputs": [
    {
     "data": {
      "image/png": "[encoded data removed]",
      "text/plain": [
       "<Figure size 1200x800 with 1 Axes>"
      ]
     },
     "metadata": {},
     "output_type": "display_data"
    }
   ],
   "source": [
    "#Make predictions using the trained model\n",
    "y_pred = model.predict(X_test)\n",
    "\n",
    "#Evaluate model performance\n",
    "conf_matrix = confusion_matrix(y_test, y_pred)\n",
    "\n",
    "#Visualizing confusion matrix\n",
    "plt.figure(figsize=(12, 8))\n",
    "sns.heatmap(conf_matrix, annot=True, cmap='Blues', fmt='d', cbar=False)\n",
    "plt.xlabel('Predicted Label')\n",
    "plt.ylabel('True Label')\n",
    "plt.title('Confusion Matrix')\n",
    "plt.show()"
   ]
  },
  {
   "cell_type": "markdown",
   "metadata": {},
   "source": [
    "<div class=\"alert alert-success\">\n",
    "<b>Reviewer's comment</b>\n",
    "\n",
    "Good idea to check the confusion matrix to better understand model performance\n",
    "\n",
    "</div>"
   ]
  },
  {
   "cell_type": "markdown",
   "metadata": {},
   "source": [
    "We visualized confusion matrix to the model's performance on the test set. We can use this matrix to identify areas of strength and weakness in the model's predictions and conduct."
   ]
  },
  {
   "cell_type": "markdown",
   "metadata": {},
   "source": [
    "Conclusion:\n",
    "\n",
    "The development of a predictive modeling solution for plan recommendation represents a strategic initiative for Megaline to enhance its service offerings and improve customer engagement. By leveraging machine learning techniques to analyze subscribers' behavior and preferences, Megaline can effectively tailor its plan recommendations to individual customers, thereby increasing customer satisfaction and loyalty. As Megaline continues to evolve its product portfolio and adapt to changing market dynamics, the predictive modeling solution developed in this project will serve as a valuable tool for optimizing plan recommendations and driving business growth."
   ]
  },
  {
   "cell_type": "markdown",
   "metadata": {},
   "source": [
    "<div class=\"alert alert-warning\">\n",
    "<b>Reviewer's comment</b>\n",
    "\n",
    "This is a very generic conclusion. I'd suggest summarizing your results instead :)\n",
    "\n",
    "</div>"
   ]
  },
  {
   "cell_type": "code",
   "execution_count": null,
   "metadata": {},
   "outputs": [],
   "source": []
  }
 ],
 "metadata": {
  "ExecuteTimeLog": [
   {
    "duration": 5284,
    "start_time": "2024-08-18T05:21:11.758Z"
   },
   {
    "duration": 31,
    "start_time": "2024-08-18T05:21:17.046Z"
   },
   {
    "duration": 25,
    "start_time": "2024-08-18T05:21:17.081Z"
   },
   {
    "duration": 16,
    "start_time": "2024-08-18T05:21:17.109Z"
   },
   {
    "duration": 3,
    "start_time": "2024-08-18T05:21:17.130Z"
   },
   {
    "duration": 2210,
    "start_time": "2024-08-18T05:21:17.137Z"
   },
   {
    "duration": 882,
    "start_time": "2024-08-18T05:21:19.350Z"
   },
   {
    "duration": 1606,
    "start_time": "2024-08-18T05:21:20.235Z"
   },
   {
    "duration": 357,
    "start_time": "2024-08-18T05:21:21.845Z"
   }
  ],
  "kernelspec": {
   "display_name": "Python 3 (ipykernel)",
   "language": "python",
   "name": "python3"
  },
  "language_info": {
   "codemirror_mode": {
    "name": "ipython",
    "version": 3
   },
   "file_extension": ".py",
   "mimetype": "text/x-python",
   "name": "python",
   "nbconvert_exporter": "python",
   "pygments_lexer": "ipython3",
   "version": "3.9.19"
  },
  "toc": {
   "base_numbering": 1,
   "nav_menu": {},
   "number_sections": true,
   "sideBar": true,
   "skip_h1_title": true,
   "title_cell": "Table of Contents",
   "title_sidebar": "Contents",
   "toc_cell": false,
   "toc_position": {},
   "toc_section_display": true,
   "toc_window_display": false
  }
 },
 "nbformat": 4,
 "nbformat_minor": 2
}
