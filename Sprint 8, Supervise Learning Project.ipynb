{
 "cells": [
  {
   "cell_type": "markdown",
   "metadata": {},
   "source": [
    "<div style=\"border-radius: 15px; border: 3px solid indigo; padding: 15px;\">\n",
    "<b> Reviewer's comment</b>\n",
    "    \n",
    "Hi, it's Sveta again. I was the reviewer on one of your previous projects, and I am going to review this one as well. \n",
    "    \n",
    "\n",
    "I will be using the same color marking:\n",
    "    \n",
    "<div class=\"alert alert-success\" style=\"border-radius: 15px; box-shadow: 4px 4px 4px; border: 1px solid \">\n",
    "<b> Reviewer's comment ✔️</b>\n",
    "    \n",
    "Great solutions and ideas that can and should be used in the future are in green comments.   \n",
    "</div>    \n",
    "    \n",
    "    \n",
    "<div class=\"alert alert-warning\" style=\"border-radius: 15px; box-shadow: 4px 4px 4px; border: 1px solid \">\n",
    "<b> Reviewer's comment ⚠️</b>\n",
    "\n",
    "Yellow color indicates what should be optimized. This is not necessary, but it will be great if you make changes to this project.\n",
    "</div>      \n",
    "    \n",
    "    \n",
    "<div class=\"alert alert-danger\" style=\"border-radius: 15px; box-shadow: 4px 4px 4px; border: 1px solid \">\n",
    "<b> Reviewer's comment ❌</b>\n",
    "\n",
    "Issues that need to be corrected to get right results are indicated in red comments. Note that the project cannot be accepted until these issues are resolved.\n",
    "</div>    \n",
    "\n",
    "<hr>\n",
    "    \n",
    "**Please, use some color other than those listed to highlight answers to my comments.**\n",
    "I would also ask you **not to change, move or delete my comments** so that it would be easier for me to navigate during the next review.\n",
    "    \n",
    "In addition, my comments are defined as headings. \n",
    "They can mess up the content; however, they are convenient, since you can immediately go to them. I will remove the headings from my comments in the next review. \n",
    "   \n",
    "    \n",
    "    \n",
    "<hr>\n",
    "    \n",
    "<font color='dodgerblue'>**A few words about the project:**</font> you did a good job here, thank you so much! You compared several models and received scores, which is great. However, there are several issues we need to fix. I wrote everything in my comments. Please take a look.\n",
    "    \n",
    "    \n",
    "    \n",
    "\n",
    "</div>"
   ]
  },
  {
   "cell_type": "markdown",
   "metadata": {},
   "source": [
    "\n",
    "<div style=\"border-radius: 15px; border: 3px solid indigo; padding: 15px;\">\n",
    "<b> Reviewer's comment 2</b>\n",
    "\n",
    "\n",
    "Thank you for the updates. I've left a few comments titled as **Reviewer's comment 2**. Please take a look at these comments and the one large comment I left last time where I outlined the steps we should take. Try to follow these steps :) This project is quite hard and its description may seem confusing, so I tried to explain what we are supposed to do here. I hope my comments were useful. Anyway, please feel free to ask questions. I'm here to help. \n",
    "\n",
    "    \n",
    "\n",
    "    \n",
    "</div>"
   ]
  },
  {
   "cell_type": "markdown",
   "metadata": {},
   "source": [
    "\n",
    "<div style=\"border-radius: 15px; border: 3px solid indigo; padding: 15px;\">\n",
    "<b> Reviewer's comment 3</b>\n",
    "\n",
    "\n",
    "I've left new comments titled as **Reviewer's comment 3**. Please take a look :) Feel free to ask our tutors for help.\n",
    "\n",
    "    \n",
    "\n",
    "    \n",
    "</div>"
   ]
  },
  {
   "cell_type": "code",
   "execution_count": 1,
   "metadata": {},
   "outputs": [],
   "source": [
    "import pandas as pd\n",
    "from sklearn.model_selection import GridSearchCV, train_test_split\n",
    "from sklearn.metrics import accuracy_score, f1_score\n",
    "from sklearn.ensemble import RandomForestClassifier\n",
    "from sklearn.metrics import r2_score\n",
    "from sklearn.metrics import mean_absolute_error\n",
    "from sklearn.preprocessing import StandardScaler\n",
    "from sklearn.ensemble import RandomForestClassifier\n",
    "from sklearn.tree import DecisionTreeClassifier\n",
    "from sklearn.linear_model import LogisticRegression\n",
    "from sklearn.dummy import DummyClassifier\n",
    "import matplotlib.pyplot as plt\n",
    "import numpy as np\n",
    "from sklearn.utils import shuffle\n",
    "from sklearn.metrics import roc_auc_score"
   ]
  },
  {
   "cell_type": "markdown",
   "metadata": {},
   "source": [
    "Title:\n",
    "\n",
    "Predicting Customer Churn in Beta Bank"
   ]
  },
  {
   "cell_type": "markdown",
   "metadata": {},
   "source": [
    "Introduction:\n",
    "\n",
    "In today's competitive banking industry, retaining customers is paramount for sustainable growth and profitability. Beta Bank has noticed a concerning trend a gradual loss of customers over time. To address this issue, Beta Bank aims to predict whether a customer is likely to leave the bank soon, allowing proactive measures to retain them. By identifying customers at risk of leaving, Beta Bank can implement targeted retention strategies, ultimately reducing churn rates and enhancing customer satisfaction."
   ]
  },
  {
   "cell_type": "markdown",
   "metadata": {},
   "source": [
    "<div class=\"alert alert-success\" style=\"border-radius: 15px; box-shadow: 4px 4px 4px; border: 1px solid \">\n",
    "<h2>   Reviewer's comment </h2>\n",
    "    \n",
    "Good introduction! \n",
    "    \n",
    "</div>"
   ]
  },
  {
   "cell_type": "markdown",
   "metadata": {},
   "source": [
    "- Download and prepare the data. Explain the procedure."
   ]
  },
  {
   "cell_type": "code",
   "execution_count": 2,
   "metadata": {},
   "outputs": [
    {
     "data": {
      "text/html": [
       "<div>\n",
       "<style scoped>\n",
       "    .dataframe tbody tr th:only-of-type {\n",
       "        vertical-align: middle;\n",
       "    }\n",
       "\n",
       "    .dataframe tbody tr th {\n",
       "        vertical-align: top;\n",
       "    }\n",
       "\n",
       "    .dataframe thead th {\n",
       "        text-align: right;\n",
       "    }\n",
       "</style>\n",
       "<table border=\"1\" class=\"dataframe\">\n",
       "  <thead>\n",
       "    <tr style=\"text-align: right;\">\n",
       "      <th></th>\n",
       "      <th>RowNumber</th>\n",
       "      <th>CustomerId</th>\n",
       "      <th>Surname</th>\n",
       "      <th>CreditScore</th>\n",
       "      <th>Geography</th>\n",
       "      <th>Gender</th>\n",
       "      <th>Age</th>\n",
       "      <th>Tenure</th>\n",
       "      <th>Balance</th>\n",
       "      <th>NumOfProducts</th>\n",
       "      <th>HasCrCard</th>\n",
       "      <th>IsActiveMember</th>\n",
       "      <th>EstimatedSalary</th>\n",
       "      <th>Exited</th>\n",
       "    </tr>\n",
       "  </thead>\n",
       "  <tbody>\n",
       "    <tr>\n",
       "      <th>0</th>\n",
       "      <td>1</td>\n",
       "      <td>15634602</td>\n",
       "      <td>Hargrave</td>\n",
       "      <td>619</td>\n",
       "      <td>France</td>\n",
       "      <td>Female</td>\n",
       "      <td>42</td>\n",
       "      <td>2.0</td>\n",
       "      <td>0.00</td>\n",
       "      <td>1</td>\n",
       "      <td>1</td>\n",
       "      <td>1</td>\n",
       "      <td>101348.88</td>\n",
       "      <td>1</td>\n",
       "    </tr>\n",
       "    <tr>\n",
       "      <th>1</th>\n",
       "      <td>2</td>\n",
       "      <td>15647311</td>\n",
       "      <td>Hill</td>\n",
       "      <td>608</td>\n",
       "      <td>Spain</td>\n",
       "      <td>Female</td>\n",
       "      <td>41</td>\n",
       "      <td>1.0</td>\n",
       "      <td>83807.86</td>\n",
       "      <td>1</td>\n",
       "      <td>0</td>\n",
       "      <td>1</td>\n",
       "      <td>112542.58</td>\n",
       "      <td>0</td>\n",
       "    </tr>\n",
       "    <tr>\n",
       "      <th>2</th>\n",
       "      <td>3</td>\n",
       "      <td>15619304</td>\n",
       "      <td>Onio</td>\n",
       "      <td>502</td>\n",
       "      <td>France</td>\n",
       "      <td>Female</td>\n",
       "      <td>42</td>\n",
       "      <td>8.0</td>\n",
       "      <td>159660.80</td>\n",
       "      <td>3</td>\n",
       "      <td>1</td>\n",
       "      <td>0</td>\n",
       "      <td>113931.57</td>\n",
       "      <td>1</td>\n",
       "    </tr>\n",
       "    <tr>\n",
       "      <th>3</th>\n",
       "      <td>4</td>\n",
       "      <td>15701354</td>\n",
       "      <td>Boni</td>\n",
       "      <td>699</td>\n",
       "      <td>France</td>\n",
       "      <td>Female</td>\n",
       "      <td>39</td>\n",
       "      <td>1.0</td>\n",
       "      <td>0.00</td>\n",
       "      <td>2</td>\n",
       "      <td>0</td>\n",
       "      <td>0</td>\n",
       "      <td>93826.63</td>\n",
       "      <td>0</td>\n",
       "    </tr>\n",
       "    <tr>\n",
       "      <th>4</th>\n",
       "      <td>5</td>\n",
       "      <td>15737888</td>\n",
       "      <td>Mitchell</td>\n",
       "      <td>850</td>\n",
       "      <td>Spain</td>\n",
       "      <td>Female</td>\n",
       "      <td>43</td>\n",
       "      <td>2.0</td>\n",
       "      <td>125510.82</td>\n",
       "      <td>1</td>\n",
       "      <td>1</td>\n",
       "      <td>1</td>\n",
       "      <td>79084.10</td>\n",
       "      <td>0</td>\n",
       "    </tr>\n",
       "  </tbody>\n",
       "</table>\n",
       "</div>"
      ],
      "text/plain": [
       "   RowNumber  CustomerId   Surname  CreditScore Geography  Gender  Age  \\\n",
       "0          1    15634602  Hargrave          619    France  Female   42   \n",
       "1          2    15647311      Hill          608     Spain  Female   41   \n",
       "2          3    15619304      Onio          502    France  Female   42   \n",
       "3          4    15701354      Boni          699    France  Female   39   \n",
       "4          5    15737888  Mitchell          850     Spain  Female   43   \n",
       "\n",
       "   Tenure    Balance  NumOfProducts  HasCrCard  IsActiveMember  \\\n",
       "0     2.0       0.00              1          1               1   \n",
       "1     1.0   83807.86              1          0               1   \n",
       "2     8.0  159660.80              3          1               0   \n",
       "3     1.0       0.00              2          0               0   \n",
       "4     2.0  125510.82              1          1               1   \n",
       "\n",
       "   EstimatedSalary  Exited  \n",
       "0        101348.88       1  \n",
       "1        112542.58       0  \n",
       "2        113931.57       1  \n",
       "3         93826.63       0  \n",
       "4         79084.10       0  "
      ]
     },
     "execution_count": 2,
     "metadata": {},
     "output_type": "execute_result"
    }
   ],
   "source": [
    "data = pd.read_csv('/datasets/Churn.csv')\n",
    "data.head()"
   ]
  },
  {
   "cell_type": "code",
   "execution_count": 3,
   "metadata": {},
   "outputs": [
    {
     "data": {
      "text/plain": [
       "(10000, 14)"
      ]
     },
     "execution_count": 3,
     "metadata": {},
     "output_type": "execute_result"
    }
   ],
   "source": [
    "data.shape"
   ]
  },
  {
   "cell_type": "code",
   "execution_count": 4,
   "metadata": {},
   "outputs": [
    {
     "data": {
      "text/plain": [
       "RowNumber            0\n",
       "CustomerId           0\n",
       "Surname              0\n",
       "CreditScore          0\n",
       "Geography            0\n",
       "Gender               0\n",
       "Age                  0\n",
       "Tenure             909\n",
       "Balance              0\n",
       "NumOfProducts        0\n",
       "HasCrCard            0\n",
       "IsActiveMember       0\n",
       "EstimatedSalary      0\n",
       "Exited               0\n",
       "dtype: int64"
      ]
     },
     "execution_count": 4,
     "metadata": {},
     "output_type": "execute_result"
    }
   ],
   "source": [
    "data.isnull().sum()"
   ]
  },
  {
   "cell_type": "code",
   "execution_count": null,
   "metadata": {},
   "outputs": [],
   "source": []
  },
  {
   "cell_type": "code",
   "execution_count": 5,
   "metadata": {},
   "outputs": [
    {
     "data": {
      "text/html": [
       "<div>\n",
       "<style scoped>\n",
       "    .dataframe tbody tr th:only-of-type {\n",
       "        vertical-align: middle;\n",
       "    }\n",
       "\n",
       "    .dataframe tbody tr th {\n",
       "        vertical-align: top;\n",
       "    }\n",
       "\n",
       "    .dataframe thead th {\n",
       "        text-align: right;\n",
       "    }\n",
       "</style>\n",
       "<table border=\"1\" class=\"dataframe\">\n",
       "  <thead>\n",
       "    <tr style=\"text-align: right;\">\n",
       "      <th></th>\n",
       "      <th>RowNumber</th>\n",
       "      <th>CustomerId</th>\n",
       "      <th>Surname</th>\n",
       "      <th>CreditScore</th>\n",
       "      <th>Geography</th>\n",
       "      <th>Gender</th>\n",
       "      <th>Age</th>\n",
       "      <th>Tenure</th>\n",
       "      <th>Balance</th>\n",
       "      <th>NumOfProducts</th>\n",
       "      <th>HasCrCard</th>\n",
       "      <th>IsActiveMember</th>\n",
       "      <th>EstimatedSalary</th>\n",
       "      <th>Exited</th>\n",
       "    </tr>\n",
       "  </thead>\n",
       "  <tbody>\n",
       "    <tr>\n",
       "      <th>30</th>\n",
       "      <td>31</td>\n",
       "      <td>15589475</td>\n",
       "      <td>Azikiwe</td>\n",
       "      <td>591</td>\n",
       "      <td>Spain</td>\n",
       "      <td>Female</td>\n",
       "      <td>39</td>\n",
       "      <td>NaN</td>\n",
       "      <td>0.00</td>\n",
       "      <td>3</td>\n",
       "      <td>1</td>\n",
       "      <td>0</td>\n",
       "      <td>140469.38</td>\n",
       "      <td>1</td>\n",
       "    </tr>\n",
       "    <tr>\n",
       "      <th>48</th>\n",
       "      <td>49</td>\n",
       "      <td>15766205</td>\n",
       "      <td>Yin</td>\n",
       "      <td>550</td>\n",
       "      <td>Germany</td>\n",
       "      <td>Male</td>\n",
       "      <td>38</td>\n",
       "      <td>NaN</td>\n",
       "      <td>103391.38</td>\n",
       "      <td>1</td>\n",
       "      <td>0</td>\n",
       "      <td>1</td>\n",
       "      <td>90878.13</td>\n",
       "      <td>0</td>\n",
       "    </tr>\n",
       "    <tr>\n",
       "      <th>51</th>\n",
       "      <td>52</td>\n",
       "      <td>15768193</td>\n",
       "      <td>Trevisani</td>\n",
       "      <td>585</td>\n",
       "      <td>Germany</td>\n",
       "      <td>Male</td>\n",
       "      <td>36</td>\n",
       "      <td>NaN</td>\n",
       "      <td>146050.97</td>\n",
       "      <td>2</td>\n",
       "      <td>0</td>\n",
       "      <td>0</td>\n",
       "      <td>86424.57</td>\n",
       "      <td>0</td>\n",
       "    </tr>\n",
       "    <tr>\n",
       "      <th>53</th>\n",
       "      <td>54</td>\n",
       "      <td>15702298</td>\n",
       "      <td>Parkhill</td>\n",
       "      <td>655</td>\n",
       "      <td>Germany</td>\n",
       "      <td>Male</td>\n",
       "      <td>41</td>\n",
       "      <td>NaN</td>\n",
       "      <td>125561.97</td>\n",
       "      <td>1</td>\n",
       "      <td>0</td>\n",
       "      <td>0</td>\n",
       "      <td>164040.94</td>\n",
       "      <td>1</td>\n",
       "    </tr>\n",
       "    <tr>\n",
       "      <th>60</th>\n",
       "      <td>61</td>\n",
       "      <td>15651280</td>\n",
       "      <td>Hunter</td>\n",
       "      <td>742</td>\n",
       "      <td>Germany</td>\n",
       "      <td>Male</td>\n",
       "      <td>35</td>\n",
       "      <td>NaN</td>\n",
       "      <td>136857.00</td>\n",
       "      <td>1</td>\n",
       "      <td>0</td>\n",
       "      <td>0</td>\n",
       "      <td>84509.57</td>\n",
       "      <td>0</td>\n",
       "    </tr>\n",
       "    <tr>\n",
       "      <th>...</th>\n",
       "      <td>...</td>\n",
       "      <td>...</td>\n",
       "      <td>...</td>\n",
       "      <td>...</td>\n",
       "      <td>...</td>\n",
       "      <td>...</td>\n",
       "      <td>...</td>\n",
       "      <td>...</td>\n",
       "      <td>...</td>\n",
       "      <td>...</td>\n",
       "      <td>...</td>\n",
       "      <td>...</td>\n",
       "      <td>...</td>\n",
       "      <td>...</td>\n",
       "    </tr>\n",
       "    <tr>\n",
       "      <th>9944</th>\n",
       "      <td>9945</td>\n",
       "      <td>15703923</td>\n",
       "      <td>Cameron</td>\n",
       "      <td>744</td>\n",
       "      <td>Germany</td>\n",
       "      <td>Male</td>\n",
       "      <td>41</td>\n",
       "      <td>NaN</td>\n",
       "      <td>190409.34</td>\n",
       "      <td>2</td>\n",
       "      <td>1</td>\n",
       "      <td>1</td>\n",
       "      <td>138361.48</td>\n",
       "      <td>0</td>\n",
       "    </tr>\n",
       "    <tr>\n",
       "      <th>9956</th>\n",
       "      <td>9957</td>\n",
       "      <td>15707861</td>\n",
       "      <td>Nucci</td>\n",
       "      <td>520</td>\n",
       "      <td>France</td>\n",
       "      <td>Female</td>\n",
       "      <td>46</td>\n",
       "      <td>NaN</td>\n",
       "      <td>85216.61</td>\n",
       "      <td>1</td>\n",
       "      <td>1</td>\n",
       "      <td>0</td>\n",
       "      <td>117369.52</td>\n",
       "      <td>1</td>\n",
       "    </tr>\n",
       "    <tr>\n",
       "      <th>9964</th>\n",
       "      <td>9965</td>\n",
       "      <td>15642785</td>\n",
       "      <td>Douglas</td>\n",
       "      <td>479</td>\n",
       "      <td>France</td>\n",
       "      <td>Male</td>\n",
       "      <td>34</td>\n",
       "      <td>NaN</td>\n",
       "      <td>117593.48</td>\n",
       "      <td>2</td>\n",
       "      <td>0</td>\n",
       "      <td>0</td>\n",
       "      <td>113308.29</td>\n",
       "      <td>0</td>\n",
       "    </tr>\n",
       "    <tr>\n",
       "      <th>9985</th>\n",
       "      <td>9986</td>\n",
       "      <td>15586914</td>\n",
       "      <td>Nepean</td>\n",
       "      <td>659</td>\n",
       "      <td>France</td>\n",
       "      <td>Male</td>\n",
       "      <td>36</td>\n",
       "      <td>NaN</td>\n",
       "      <td>123841.49</td>\n",
       "      <td>2</td>\n",
       "      <td>1</td>\n",
       "      <td>0</td>\n",
       "      <td>96833.00</td>\n",
       "      <td>0</td>\n",
       "    </tr>\n",
       "    <tr>\n",
       "      <th>9999</th>\n",
       "      <td>10000</td>\n",
       "      <td>15628319</td>\n",
       "      <td>Walker</td>\n",
       "      <td>792</td>\n",
       "      <td>France</td>\n",
       "      <td>Female</td>\n",
       "      <td>28</td>\n",
       "      <td>NaN</td>\n",
       "      <td>130142.79</td>\n",
       "      <td>1</td>\n",
       "      <td>1</td>\n",
       "      <td>0</td>\n",
       "      <td>38190.78</td>\n",
       "      <td>0</td>\n",
       "    </tr>\n",
       "  </tbody>\n",
       "</table>\n",
       "<p>909 rows × 14 columns</p>\n",
       "</div>"
      ],
      "text/plain": [
       "      RowNumber  CustomerId    Surname  CreditScore Geography  Gender  Age  \\\n",
       "30           31    15589475    Azikiwe          591     Spain  Female   39   \n",
       "48           49    15766205        Yin          550   Germany    Male   38   \n",
       "51           52    15768193  Trevisani          585   Germany    Male   36   \n",
       "53           54    15702298   Parkhill          655   Germany    Male   41   \n",
       "60           61    15651280     Hunter          742   Germany    Male   35   \n",
       "...         ...         ...        ...          ...       ...     ...  ...   \n",
       "9944       9945    15703923    Cameron          744   Germany    Male   41   \n",
       "9956       9957    15707861      Nucci          520    France  Female   46   \n",
       "9964       9965    15642785    Douglas          479    France    Male   34   \n",
       "9985       9986    15586914     Nepean          659    France    Male   36   \n",
       "9999      10000    15628319     Walker          792    France  Female   28   \n",
       "\n",
       "      Tenure    Balance  NumOfProducts  HasCrCard  IsActiveMember  \\\n",
       "30       NaN       0.00              3          1               0   \n",
       "48       NaN  103391.38              1          0               1   \n",
       "51       NaN  146050.97              2          0               0   \n",
       "53       NaN  125561.97              1          0               0   \n",
       "60       NaN  136857.00              1          0               0   \n",
       "...      ...        ...            ...        ...             ...   \n",
       "9944     NaN  190409.34              2          1               1   \n",
       "9956     NaN   85216.61              1          1               0   \n",
       "9964     NaN  117593.48              2          0               0   \n",
       "9985     NaN  123841.49              2          1               0   \n",
       "9999     NaN  130142.79              1          1               0   \n",
       "\n",
       "      EstimatedSalary  Exited  \n",
       "30          140469.38       1  \n",
       "48           90878.13       0  \n",
       "51           86424.57       0  \n",
       "53          164040.94       1  \n",
       "60           84509.57       0  \n",
       "...               ...     ...  \n",
       "9944        138361.48       0  \n",
       "9956        117369.52       1  \n",
       "9964        113308.29       0  \n",
       "9985         96833.00       0  \n",
       "9999         38190.78       0  \n",
       "\n",
       "[909 rows x 14 columns]"
      ]
     },
     "execution_count": 5,
     "metadata": {},
     "output_type": "execute_result"
    }
   ],
   "source": [
    "data[data[\"Tenure\"].isna()]"
   ]
  },
  {
   "cell_type": "code",
   "execution_count": 6,
   "metadata": {},
   "outputs": [],
   "source": [
    "# data.dropna(subset=['Tenure'], inplace=True)\n",
    "data[\"Tenure\"].fillna(data[\"Tenure\"].median(), inplace=True)"
   ]
  },
  {
   "cell_type": "markdown",
   "metadata": {},
   "source": [
    "We noticed that only Tenure columns has missing values. It was giving us some error on the below tasks, we decided to drop them for right now. Surely it would help for further tasks."
   ]
  },
  {
   "cell_type": "code",
   "execution_count": 7,
   "metadata": {},
   "outputs": [
    {
     "data": {
      "text/plain": [
       "0"
      ]
     },
     "execution_count": 7,
     "metadata": {},
     "output_type": "execute_result"
    }
   ],
   "source": [
    "data['CustomerId'].duplicated().sum()"
   ]
  },
  {
   "cell_type": "markdown",
   "metadata": {},
   "source": [
    "We didn’t notice any duplicates on CustomerId column."
   ]
  },
  {
   "cell_type": "markdown",
   "metadata": {},
   "source": [
    "<div class=\"alert alert-success\" style=\"border-radius: 15px; box-shadow: 4px 4px 4px; border: 1px solid \">\n",
    "<h2> Reviewer's comment</h2>\n",
    "    \n",
    "Good! However, let's explore the dataframe.\n",
    "</div>\n",
    "<div class=\"alert alert-danger\" style=\"border-radius: 15px; box-shadow: 4px 4px 4px; border: 1px solid \">\n",
    "<h2> Reviewer's comment</h2>\n",
    "    \n",
    "Are there any duplicates? \n",
    "    \n",
    "    \n",
    "Are there any duplicates in `CustomerId` column? \n",
    "\n",
    "</div>"
   ]
  },
  {
   "cell_type": "code",
   "execution_count": 8,
   "metadata": {},
   "outputs": [
    {
     "name": "stdout",
     "output_type": "stream",
     "text": [
      "Class Balance:\n",
      "0    0.7963\n",
      "1    0.2037\n",
      "Name: Exited, dtype: float64\n"
     ]
    }
   ],
   "source": [
    "class_balance = data['Exited'].value_counts(normalize=True)\n",
    "print(\"Class Balance:\")\n",
    "print(class_balance)"
   ]
  },
  {
   "cell_type": "code",
   "execution_count": 9,
   "metadata": {},
   "outputs": [
    {
     "data": {
      "text/plain": [
       "RowNumber            int64\n",
       "CustomerId           int64\n",
       "Surname             object\n",
       "CreditScore          int64\n",
       "Geography           object\n",
       "Gender              object\n",
       "Age                  int64\n",
       "Tenure             float64\n",
       "Balance            float64\n",
       "NumOfProducts        int64\n",
       "HasCrCard            int64\n",
       "IsActiveMember       int64\n",
       "EstimatedSalary    float64\n",
       "Exited               int64\n",
       "dtype: object"
      ]
     },
     "execution_count": 9,
     "metadata": {},
     "output_type": "execute_result"
    }
   ],
   "source": [
    "data.dtypes"
   ]
  },
  {
   "cell_type": "markdown",
   "metadata": {},
   "source": [
    "<div class=\"alert alert-danger\" style=\"border-radius: 15px; box-shadow: 4px 4px 4px; border: 1px solid \">\n",
    "<b> Reviewer's comment</b>\n",
    "    \n",
    "Before we move on to the machine learning models, let's display some charts to evaluate the dataframe.  Don't forget to add titles and axes labels so that the reader could easily understand what's going on here.    \n",
    "</div>\n"
   ]
  },
  {
   "cell_type": "code",
   "execution_count": 10,
   "metadata": {},
   "outputs": [
    {
     "data": {
      "text/plain": [
       "CustomerId  CreditScore\n",
       "15565701    698            161993.89\n",
       "15565706    612                 0.00\n",
       "15565714    601             64430.06\n",
       "15565779    627             57809.32\n",
       "15565796    745             96048.55\n",
       "Name: Balance, dtype: float64"
      ]
     },
     "execution_count": 10,
     "metadata": {},
     "output_type": "execute_result"
    }
   ],
   "source": [
    "mean_df = data.groupby(['CustomerId','CreditScore'])['Balance'].mean()\n",
    "mean_df.head()"
   ]
  },
  {
   "cell_type": "markdown",
   "metadata": {},
   "source": [
    "We want to see how imbalanced is the dataset. "
   ]
  },
  {
   "cell_type": "code",
   "execution_count": 11,
   "metadata": {},
   "outputs": [
    {
     "data": {
      "text/plain": [
       "Text(0.5, 0, 'Exited')"
      ]
     },
     "execution_count": 11,
     "metadata": {},
     "output_type": "execute_result"
    },
    {
     "data": {
      "image/png": "[encoded data removed]",
      "text/plain": [
       "<Figure size 640x480 with 1 Axes>"
      ]
     },
     "metadata": {},
     "output_type": "display_data"
    }
   ],
   "source": [
    "data['Exited'].value_counts(normalize=True).plot(kind='bar')\n",
    "#plt.legend(title='Customer Status')\n",
    "plt.title('Beta Bank Customers')\n",
    "plt.ylabel('Mean Values')\n",
    "plt.xlabel('Exited')"
   ]
  },
  {
   "cell_type": "markdown",
   "metadata": {},
   "source": [
    "<div class=\"alert alert-danger\" style=\"border-radius: 15px; box-shadow: 4px 4px 4px; border: 1px solid \">\n",
    "<h2> Reviewer's comment 2</h2>\n",
    "    \n",
    "Yes,  this is exactly what we've learned in the previous projects. We learned how to read data, for instance, but does that mean that each project must explicitly state \"read the data using pandas\"? Or does the fact that we learned how to conduct exploratory data analysis, look for the duplicates, look for the missing values, and analyze outliers mean that each next project should include these steps in its description? :) These are the basics we have to keep in mind.\n",
    "\n",
    "\n",
    "In real life, you are unlikely to see a project from your supervisor that would explicitly state what to do, so you will be the one who is going to decide which actions you should take. In order to understand what you can or should do, you have to understand the data you have. That is why we need EDA.\n",
    "\n",
    "\n",
    "Answering your question: just analyze the distributions here. Do we have anything strange in the data?\n",
    "\n",
    "</div>\n",
    "<div class=\"alert alert-danger\" style=\"border-radius: 15px; box-shadow: 4px 4px 4px; border: 1px solid \">\n",
    "<h2> Reviewer's comment 3</h2>\n",
    "    \n",
    "So would you do that? :) There a lot of columns, and only the number of active users is displayed on the chart above. \n",
    "\n",
    "</div>"
   ]
  },
  {
   "cell_type": "code",
   "execution_count": 12,
   "metadata": {},
   "outputs": [],
   "source": [
    "selected_features = ['CreditScore', 'Geography', 'Gender', 'Age', 'Tenure', \n",
    "                     'Balance', 'NumOfProducts', 'HasCrCard', 'IsActiveMember', \n",
    "                     'EstimatedSalary', 'Exited']\n",
    "\n",
    "data = data[selected_features]"
   ]
  },
  {
   "cell_type": "markdown",
   "metadata": {},
   "source": [
    "<div class=\"alert alert-warning\" style=\"border-radius: 15px; box-shadow: 4px 4px 4px; border: 1px solid \">\n",
    "<h2> Reviewer's comment </h2>\n",
    "    \n",
    "\n",
    "It would be faster to type names you want to delete :) \n",
    "\n",
    "</div>"
   ]
  },
  {
   "cell_type": "code",
   "execution_count": 13,
   "metadata": {},
   "outputs": [],
   "source": [
    "data = pd.get_dummies(data, columns=['Geography', 'Gender'], drop_first=True)"
   ]
  },
  {
   "cell_type": "code",
   "execution_count": 14,
   "metadata": {},
   "outputs": [],
   "source": [
    "features = data.drop('Exited', axis=1)\n",
    "target = data['Exited']"
   ]
  },
  {
   "cell_type": "code",
   "execution_count": 15,
   "metadata": {},
   "outputs": [
    {
     "data": {
      "text/plain": [
       "((6000, 11), (2000, 11), (2000, 11))"
      ]
     },
     "execution_count": 15,
     "metadata": {},
     "output_type": "execute_result"
    }
   ],
   "source": [
    "features_train_val, features_test, target_train_val, target_test = train_test_split(features, target, test_size=0.2, random_state=42)\n",
    "features_train, features_val, target_train, target_val = train_test_split(features_train_val, target_train_val, test_size=0.25, random_state=42)\n",
    "\n",
    "features_train.shape, features_val.shape, features_test.shape"
   ]
  },
  {
   "cell_type": "markdown",
   "metadata": {},
   "source": [
    "<div class=\"alert alert-success\" style=\"border-radius: 15px; box-shadow: 4px 4px 4px; border: 1px solid \">\n",
    "<h2> Reviewer's comment </h2>\n",
    "    \n",
    "Correct!\n",
    "    \n",
    "</div>\n",
    "<div class=\"alert alert-warning\" style=\"border-radius: 15px; box-shadow: 4px 4px 4px; border: 1px solid \">\n",
    "<h2> Reviewer's comment </h2>\n",
    "   \n",
    "\n",
    "It may be a good idea to print their sizes. \n",
    "    \n",
    "</div>"
   ]
  },
  {
   "cell_type": "code",
   "execution_count": 16,
   "metadata": {},
   "outputs": [],
   "source": [
    "scaler = StandardScaler()\n",
    "\n",
    "features_train = scaler.fit_transform(features_train)\n",
    "features_test = scaler.transform(features_test)\n",
    "features_val = scaler.transform(features_val)"
   ]
  },
  {
   "cell_type": "markdown",
   "metadata": {},
   "source": [
    "<div class=\"alert alert-danger\" style=\"border-radius: 15px; box-shadow: 4px 4px 4px; border: 1px solid \">\n",
    "<b> Reviewer's comment</b>\n",
    "    \n",
    "\n",
    "Let's transform validation as well.     \n",
    "    \n",
    "</div>\n",
    "<div class=\"alert alert-success\" style=\"border-radius: 15px; box-shadow: 4px 4px 4px; border: 1px solid \">\n",
    "<h2>   Reviewer's comment 2 </h2>\n",
    "    \n",
    "👍    \n",
    "    \n",
    "</div>"
   ]
  },
  {
   "cell_type": "code",
   "execution_count": 17,
   "metadata": {},
   "outputs": [
    {
     "data": {
      "text/plain": [
       "((2000, 11), (2000,))"
      ]
     },
     "execution_count": 17,
     "metadata": {},
     "output_type": "execute_result"
    }
   ],
   "source": [
    "features_train.shape, target_train.shape\n",
    "features_test.shape, target_test.shape\n",
    "features_val.shape, target_val.shape"
   ]
  },
  {
   "cell_type": "markdown",
   "metadata": {},
   "source": [
    "<div class=\"alert alert-warning\" style=\"border-radius: 15px; box-shadow: 4px 4px 4px; border: 1px solid \">\n",
    "<h2>   Reviewer's comment 2 </h2>\n",
    "    \n",
    "The cell above prints only the last two lines.    \n",
    "</div>"
   ]
  },
  {
   "cell_type": "markdown",
   "metadata": {},
   "source": [
    "- Examine the balance of classes. Train the model without taking into account the imbalance. Briefly describe your findings."
   ]
  },
  {
   "cell_type": "code",
   "execution_count": 18,
   "metadata": {},
   "outputs": [
    {
     "data": {
      "text/plain": [
       "0    7963\n",
       "1    2037\n",
       "Name: Exited, dtype: int64"
      ]
     },
     "execution_count": 18,
     "metadata": {},
     "output_type": "execute_result"
    }
   ],
   "source": [
    "class_distribution = data['Exited'].value_counts()\n",
    "class_distribution"
   ]
  },
  {
   "cell_type": "markdown",
   "metadata": {},
   "source": [
    "Data was loaded and filtered. Also checked for missing values and duplicates. Using scaler tranform, we transformed train, test and validation sets. Class distribution was identified by Exited column, we had result with 7237 zeros and 1854 ones. Now we can go ahead and do the next step."
   ]
  },
  {
   "cell_type": "markdown",
   "metadata": {},
   "source": [
    "<div class=\"alert alert-danger\" style=\"border-radius: 15px; box-shadow: 4px 4px 4px; border: 1px solid \">\n",
    "<b> Reviewer's comment</b>\n",
    "    \n",
    "\n",
    "Please don't forget about the conclusions.     \n",
    "    \n",
    "</div>\n",
    "<div class=\"alert alert-warning\" style=\"border-radius: 15px; box-shadow: 4px 4px 4px; border: 1px solid \">\n",
    "<h2> Reviewer's comment 2</h2>\n",
    "    \n",
    "There's a noticeable imbalance. This is an important thing to point out. \n",
    "    \n",
    "</div>"
   ]
  },
  {
   "cell_type": "code",
   "execution_count": 19,
   "metadata": {},
   "outputs": [
    {
     "data": {
      "text/html": [
       "<div>\n",
       "<style scoped>\n",
       "    .dataframe tbody tr th:only-of-type {\n",
       "        vertical-align: middle;\n",
       "    }\n",
       "\n",
       "    .dataframe tbody tr th {\n",
       "        vertical-align: top;\n",
       "    }\n",
       "\n",
       "    .dataframe thead th {\n",
       "        text-align: right;\n",
       "    }\n",
       "</style>\n",
       "<table border=\"1\" class=\"dataframe\">\n",
       "  <thead>\n",
       "    <tr style=\"text-align: right;\">\n",
       "      <th></th>\n",
       "      <th>CreditScore</th>\n",
       "      <th>Age</th>\n",
       "      <th>Tenure</th>\n",
       "      <th>Balance</th>\n",
       "      <th>NumOfProducts</th>\n",
       "      <th>HasCrCard</th>\n",
       "      <th>IsActiveMember</th>\n",
       "      <th>EstimatedSalary</th>\n",
       "      <th>Exited</th>\n",
       "      <th>Geography_Germany</th>\n",
       "      <th>Geography_Spain</th>\n",
       "      <th>Gender_Male</th>\n",
       "    </tr>\n",
       "  </thead>\n",
       "  <tbody>\n",
       "    <tr>\n",
       "      <th>0</th>\n",
       "      <td>619</td>\n",
       "      <td>42</td>\n",
       "      <td>2.0</td>\n",
       "      <td>0.00</td>\n",
       "      <td>1</td>\n",
       "      <td>1</td>\n",
       "      <td>1</td>\n",
       "      <td>101348.88</td>\n",
       "      <td>1</td>\n",
       "      <td>0</td>\n",
       "      <td>0</td>\n",
       "      <td>0</td>\n",
       "    </tr>\n",
       "    <tr>\n",
       "      <th>1</th>\n",
       "      <td>608</td>\n",
       "      <td>41</td>\n",
       "      <td>1.0</td>\n",
       "      <td>83807.86</td>\n",
       "      <td>1</td>\n",
       "      <td>0</td>\n",
       "      <td>1</td>\n",
       "      <td>112542.58</td>\n",
       "      <td>0</td>\n",
       "      <td>0</td>\n",
       "      <td>1</td>\n",
       "      <td>0</td>\n",
       "    </tr>\n",
       "    <tr>\n",
       "      <th>2</th>\n",
       "      <td>502</td>\n",
       "      <td>42</td>\n",
       "      <td>8.0</td>\n",
       "      <td>159660.80</td>\n",
       "      <td>3</td>\n",
       "      <td>1</td>\n",
       "      <td>0</td>\n",
       "      <td>113931.57</td>\n",
       "      <td>1</td>\n",
       "      <td>0</td>\n",
       "      <td>0</td>\n",
       "      <td>0</td>\n",
       "    </tr>\n",
       "    <tr>\n",
       "      <th>3</th>\n",
       "      <td>699</td>\n",
       "      <td>39</td>\n",
       "      <td>1.0</td>\n",
       "      <td>0.00</td>\n",
       "      <td>2</td>\n",
       "      <td>0</td>\n",
       "      <td>0</td>\n",
       "      <td>93826.63</td>\n",
       "      <td>0</td>\n",
       "      <td>0</td>\n",
       "      <td>0</td>\n",
       "      <td>0</td>\n",
       "    </tr>\n",
       "    <tr>\n",
       "      <th>4</th>\n",
       "      <td>850</td>\n",
       "      <td>43</td>\n",
       "      <td>2.0</td>\n",
       "      <td>125510.82</td>\n",
       "      <td>1</td>\n",
       "      <td>1</td>\n",
       "      <td>1</td>\n",
       "      <td>79084.10</td>\n",
       "      <td>0</td>\n",
       "      <td>0</td>\n",
       "      <td>1</td>\n",
       "      <td>0</td>\n",
       "    </tr>\n",
       "  </tbody>\n",
       "</table>\n",
       "</div>"
      ],
      "text/plain": [
       "   CreditScore  Age  Tenure    Balance  NumOfProducts  HasCrCard  \\\n",
       "0          619   42     2.0       0.00              1          1   \n",
       "1          608   41     1.0   83807.86              1          0   \n",
       "2          502   42     8.0  159660.80              3          1   \n",
       "3          699   39     1.0       0.00              2          0   \n",
       "4          850   43     2.0  125510.82              1          1   \n",
       "\n",
       "   IsActiveMember  EstimatedSalary  Exited  Geography_Germany  \\\n",
       "0               1        101348.88       1                  0   \n",
       "1               1        112542.58       0                  0   \n",
       "2               0        113931.57       1                  0   \n",
       "3               0         93826.63       0                  0   \n",
       "4               1         79084.10       0                  0   \n",
       "\n",
       "   Geography_Spain  Gender_Male  \n",
       "0                0            0  \n",
       "1                1            0  \n",
       "2                0            0  \n",
       "3                0            0  \n",
       "4                1            0  "
      ]
     },
     "execution_count": 19,
     "metadata": {},
     "output_type": "execute_result"
    }
   ],
   "source": [
    "data.head()"
   ]
  },
  {
   "cell_type": "code",
   "execution_count": 21,
   "metadata": {},
   "outputs": [],
   "source": [
    "# best_model = RandomForestClassifier(random_state=42)\n",
    "# best_model.fit(features_train_val, target_train_val)\n",
    "# target_test_pred = best_model.predict(features_test)\n",
    "# #test_accuracy = accuracy_score(y_test, y_test_pred)\n",
    "# #print(f\"Test Accuracy of the best model (RandomForest): {test_accuracy:.4f}\")\n",
    "\n",
    "# test_f1_score = f1_score(target_test, target_test_pred, average='weighted')\n",
    "# print(f\"Test F1 Score of the best model (RandomForest): {test_f1_score:.4f}\")"
   ]
  },
  {
   "cell_type": "markdown",
   "metadata": {},
   "source": [
    "<div class=\"alert alert-danger\" style=\"border-radius: 15px; box-shadow: 4px 4px 4px; border: 1px solid \">\n",
    "<b> Reviewer's comment 2</b>\n",
    "    \n",
    "- We use validation set to choose the best model, not test set.    \n",
    "\n",
    "\n",
    "- We choose the best model based on F1 score, not accuracy. </div>\n",
    "<div class=\"alert alert-danger\" style=\"border-radius: 15px; box-shadow: 4px 4px 4px; border: 1px solid \">\n",
    "<h2> Reviewer's comment 3</h2>\n",
    "    \n",
    "    \n",
    "- Please do not split the data again, since we don't want to have a leakage, right? If we splitted it into three parts, used train and validation set, and if then we split it again into two parts, doesn't that mean that some of the data we used to evaluate the model will be in the test set this time? \n",
    "\n",
    "\n",
    "- Please conduct the final test in the very end, after we choose the best model. We choose the best model after we compare different methods: training on unbalanced data, on balanced data, and on resampled data. \n",
    "\n",
    "\n",
    "Here you trained it on unbalanced data and got F1 scores, good. Now, let's repeat it on balanced data and get F1 scores there. Then we repeat training on downsampled and upsampled data and get F1 scores. \n",
    "\n",
    "\n",
    "\n",
    "Then we find the model and method where we got the highest F1. \n",
    "</div>"
   ]
  },
  {
   "cell_type": "code",
   "execution_count": 22,
   "metadata": {},
   "outputs": [],
   "source": [
    "# target_val_pred = best_model.predict(features_val)\n",
    "# val_accuracy = accuracy_score(target_val, target_val_pred)\n",
    "# print(f\"Accuracy on Validation Set: {val_accuracy:.4f}\")\n",
    "\n",
    "# val_f1_score = f1_score(target_val, target_val_pred, average='weighted')\n",
    "# print(f\"F1 Score on Validation Set: {val_f1_score:.4f}\")"
   ]
  },
  {
   "cell_type": "markdown",
   "metadata": {},
   "source": [
    "<div class=\"alert alert-warning\" style=\"border-radius: 15px; box-shadow: 4px 4px 4px; border: 1px solid \">\n",
    "<h2> Reviewer's comment 2</h2>\n",
    "    \n",
    "Random forest has already been trained above. Do we need to repeat the code?    \n",
    "</div>"
   ]
  },
  {
   "cell_type": "markdown",
   "metadata": {},
   "source": [
    "The model is evaluated on the test set using accuracy and the classification report, on the validation set to check for overfitting. This approach ensures that you're assessing the model's performance on unseen data (test set) and using the validation set and F1 score on validation for hyperparameter tuning or model selection. "
   ]
  },
  {
   "cell_type": "markdown",
   "metadata": {},
   "source": [
    "<div class=\"alert alert-danger\" style=\"border-radius: 15px; box-shadow: 4px 4px 4px; border: 1px solid \">\n",
    "<h2> Reviewer's comment</h2>\n",
    "    \n",
    "\n",
    "- In the code cells below, you use additional models. Since we are supposed to compare several models and techniques, let's train these models on unbalanced data as you have done above with the forest model. \n",
    "    \n",
    "    \n",
    "- Please do not forget about the F1 score. \n",
    "\n",
    "\n",
    "\n",
    "Let me clarify the task a little bit. We need to take several steps we need to take here: \n",
    "\n",
    "1. Compare several imbalanced models (without `class_weight='balanced'`).\n",
    "    \n",
    "\n",
    "2. Compare the same models with `balanced` parameter value. \n",
    "    \n",
    "\n",
    "3. Compare the same models on resampled data (up- and downsampling). \n",
    "    \n",
    "\n",
    "4. Choose the best model and the best settings based on their F1 score. \n",
    "    \n",
    "\n",
    "5. Use test set to conduct the final test on a chosen model with the chosen settings. For this purpose, I recommend that you train the best model on full data (valid + train).\n",
    "</div>\n",
    "<div class=\"alert alert-warning\" style=\"border-radius: 15px; box-shadow: 4px 4px 4px; border: 1px solid \">\n",
    "<h2> Reviewer's comment 2</h2>\n",
    "    \n",
    "Here I outlined the steps you can take. \n",
    "\n",
    "</div>\n",
    "<div class=\"alert alert-warning\" style=\"border-radius: 15px; box-shadow: 4px 4px 4px; border: 1px solid \">\n",
    "<h2> Reviewer's comment 3</h2>\n",
    "    \n",
    "Please read the comment above carefully. \n",
    "</div>"
   ]
  },
  {
   "cell_type": "markdown",
   "metadata": {},
   "source": [
    "- Improve the quality of the model. Make sure you use at least two approaches to fixing class imbalance. Use the training set to pick the best parameters. Train different models on training and validation sets. Find the best one. Briefly describe your findings."
   ]
  },
  {
   "cell_type": "code",
   "execution_count": 23,
   "metadata": {},
   "outputs": [],
   "source": [
    "# models = {\n",
    "#     'RandomForest': RandomForestClassifier(random_state=42, class_weight='balanced'),\n",
    "#     'DecisionTree': DecisionTreeClassifier(random_state=42, class_weight='balanced'),\n",
    "#     'DummyClassifier': DummyClassifier(strategy='most_frequent', random_state=42)\n",
    "# }\n",
    "\n",
    "# for name, model in models.items():\n",
    "#     model.fit(features_train, target_train)\n",
    "#     target_pred = model.predict(features_val)\n",
    "#     accuracy = accuracy_score(target_val, target_pred)\n",
    "#     f1 = f1_score(target_val, target_pred, average='weighted')\n",
    "#     print(f'{name} - Accuracy: {accuracy:.4f}, F1 Score: {f1:.4f}')\n",
    "\n",
    "# best_model = RandomForestClassifier(random_state=42, class_weight='balanced')\n",
    "# best_model.fit(features_train_val, target_train_val)\n",
    "\n",
    "\n",
    "# test_f1_score = f1_score(target_test, target_test_pred, average='weighted')\n",
    "# print(f\"Test F1 Score of the best model (RandomForest): {test_f1_score:.4f}\")"
   ]
  },
  {
   "cell_type": "markdown",
   "metadata": {},
   "source": [
    "<div class=\"alert alert-success\" style=\"border-radius: 15px; box-shadow: 4px 4px 4px; border: 1px solid \">\n",
    "<h2> Reviewer's comment 2</h2>\n",
    "    \n",
    "Here we are using balanced data, good!     \n",
    "</div>\n",
    "<div class=\"alert alert-danger\" style=\"border-radius: 15px; box-shadow: 4px 4px 4px; border: 1px solid \">\n",
    "<h2> Reviewer's comment 2</h2>\n",
    "    \n",
    "- However, we should not use test set here.    \n",
    "\n",
    "\n",
    "\n",
    "- Please use F1 to choose the best model. We are not interested in accuracy in this project, since our main goal is to gain high F1 score. </div>\n",
    "<div class=\"alert alert-danger\" style=\"border-radius: 15px; box-shadow: 4px 4px 4px; border: 1px solid \">\n",
    "<h2> Reviewer's comment 3</h2>\n",
    "    \n",
    "Same issues. \n",
    "\n",
    "</div>"
   ]
  },
  {
   "cell_type": "markdown",
   "metadata": {},
   "source": [
    "By comparing the accuracies printed for each model, we can understand which model performs the best on the validation set. Based on typical expectations, RandomForestClassifier would likely be the best-performing model, followed by DecisionTreeClassifier, and DummyClassifier with F1 score would serve as a benchmark for baseline performance."
   ]
  },
  {
   "cell_type": "code",
   "execution_count": 24,
   "metadata": {},
   "outputs": [],
   "source": [
    "# test_f1_score = f1_score(target_test, target_test_pred, average='weighted')\n",
    "\n",
    "# print(f\"Test F1 Score of the best model (RandomForest): {test_f1_score:.4f}\")\n",
    "\n",
    "# y_pred = model.predict(features_val)\n",
    "\n",
    "# accuracy = accuracy_score(target_val, target_pred)\n",
    "# print(f'Model accuracy: {accuracy}')\n"
   ]
  },
  {
   "cell_type": "markdown",
   "metadata": {},
   "source": [
    "<div class=\"alert alert-warning\" style=\"border-radius: 15px; box-shadow: 4px 4px 4px; border: 1px solid \">\n",
    "<h2> Reviewer's comment 3</h2>\n",
    "    \n",
    "It's too early to conduct any tests.</div>"
   ]
  },
  {
   "cell_type": "markdown",
   "metadata": {},
   "source": [
    "The best model is further evaluated on the test set to ensure its generalizability. We will do the test accuracy which confirms the effectiveness of the RandomForestClassifier in this context."
   ]
  },
  {
   "cell_type": "markdown",
   "metadata": {},
   "source": [
    "<div class=\"alert alert-danger\" style=\"border-radius: 15px; box-shadow: 4px 4px 4px; border: 1px solid \">\n",
    "<b> Reviewer's comment</b>\n",
    "    \n",
    "After we trained the models on unbalanced and balanced (`class_weight='balanced'`) data, we have to try resampling (up- and downsampling) on all models we used above. \n",
    "    \n",
    "    \n",
    "    \n",
    "Keep in mind that we have to choose the best model based on F1 score, not accuracy. \n",
    "\n",
    "</div>\n",
    "<div class=\"alert alert-danger\" style=\"border-radius: 15px; box-shadow: 4px 4px 4px; border: 1px solid \">\n",
    "<b> Reviewer's comment 2</b>\n",
    "    \n",
    "Please consider the comments I left above.    \n",
    "</div>"
   ]
  },
  {
   "cell_type": "markdown",
   "metadata": {},
   "source": [
    "- Upsampling"
   ]
  },
  {
   "cell_type": "code",
   "execution_count": 25,
   "metadata": {},
   "outputs": [],
   "source": [
    "def upsample(features, target, repeat):\n",
    "    features_zeros = features[target == 0]\n",
    "    features_ones = features[target == 1]\n",
    "    target_zeros = target[target == 0]\n",
    "    target_ones = target[target == 1]\n",
    "    \n",
    "    features_upsampled = pd.concat([features_zeros] + [features_ones]* repeat)\n",
    "    target_upsampled = pd.concat([target_zeros] + [target_ones]* repeat)\n",
    "    \n",
    "    features_upsampled, target_upsampled = shuffle(features_upsampled, target_upsampled, random_state=42)\n",
    "    \n",
    "    return features_upsampled, target_upsampled"
   ]
  },
  {
   "cell_type": "code",
   "execution_count": 26,
   "metadata": {},
   "outputs": [
    {
     "data": {
      "text/plain": [
       "1    4924\n",
       "0    4769\n",
       "Name: Exited, dtype: int64"
      ]
     },
     "execution_count": 26,
     "metadata": {},
     "output_type": "execute_result"
    }
   ],
   "source": [
    "features_upsampled, target_upsampled = upsample(\n",
    "    pd.DataFrame(features_train), \n",
    "    target_train.reset_index(drop=True), \n",
    "    4\n",
    ")\n",
    "\n",
    "target_upsampled.value_counts()"
   ]
  },
  {
   "cell_type": "code",
   "execution_count": 27,
   "metadata": {},
   "outputs": [
    {
     "name": "stdout",
     "output_type": "stream",
     "text": [
      "DummyClassifier - AUC-ROC: 0.5000, F1 Score: 0.5514\n",
      "LogisticRegression - AUC-ROC: 0.7848, F1 Score: 0.7413\n",
      "DecisionTree - AUC-ROC: 0.6705, F1 Score: 0.7850\n",
      "RandomForest - AUC-ROC: 0.8586, F1 Score: 0.8507\n"
     ]
    }
   ],
   "source": [
    "models = {\n",
    "    'DummyClassifier': DummyClassifier(strategy='uniform', random_state=42),\n",
    "    'LogisticRegression': LogisticRegression(),\n",
    "    'DecisionTree': DecisionTreeClassifier(random_state=42),\n",
    "    'RandomForest': RandomForestClassifier(random_state=42),\n",
    "}\n",
    "\n",
    "for name, model in models.items():\n",
    "    model.fit(features_upsampled, target_upsampled)\n",
    "    \n",
    "    target_pred = model.predict(features_val)\n",
    "    target_pred_a = model.predict_proba(features_val)[:, 1]\n",
    "    \n",
    "    roc_score = roc_auc_score(target_val, target_pred_a)\n",
    "    f1 = f1_score(target_val, target_pred, average='weighted')\n",
    "    \n",
    "    print(f'{name} - AUC-ROC: {roc_score:.4f}, F1 Score: {f1:.4f}')"
   ]
  },
  {
   "cell_type": "code",
   "execution_count": 29,
   "metadata": {},
   "outputs": [],
   "source": [
    "# model = RandomForestClassifier(random_state=42)\n",
    "\n",
    "# model.fit(features_upsampled, target_upsampled)\n",
    "# predicted_valid = model.predict(features_val)\n",
    "# probabilities_valid = model.predict_proba(features_val) [:,1]\n",
    "\n",
    "# print('F1 =', f1_score(target_val, predicted_valid))\n",
    "# print('AUC-ROC =', roc_auc_score(target_val, probabilities_valid))"
   ]
  },
  {
   "cell_type": "code",
   "execution_count": 30,
   "metadata": {},
   "outputs": [],
   "source": [
    "# target_upsampled.value_counts()\n",
    "\n",
    "# target_train.reset_index(drop=True)\n",
    "\n",
    "# pd.DataFrame(features_train)"
   ]
  },
  {
   "cell_type": "markdown",
   "metadata": {},
   "source": [
    "<div class=\"alert alert-danger\" style=\"border-radius: 15px; box-shadow: 4px 4px 4px; border: 1px solid \">\n",
    "<h2> Reviewer's comment 3</h2>\n",
    "    \n",
    "- Don't we need to **apply** resampling to our training data? \n",
    "\n",
    "\n",
    "- We have to **compare different models on resampled data**, not just one model (forest). \n",
    "</div>"
   ]
  },
  {
   "cell_type": "markdown",
   "metadata": {},
   "source": [
    "- Downsampling"
   ]
  },
  {
   "cell_type": "code",
   "execution_count": 31,
   "metadata": {},
   "outputs": [],
   "source": [
    "def downsample(features, target, fraction):\n",
    "    features_zeros = features[target == 0]\n",
    "    features_ones = features[target == 1]\n",
    "    target_zeros = target[target == 0]\n",
    "    target_ones = target[target == 1]\n",
    "    \n",
    "    features_downsampled = pd.concat(\n",
    "        [features_zeros.sample(frac=fraction, random_state=42)] + [features_ones])\n",
    "    target_downsampled = pd.concat(\n",
    "        [target_zeros.sample(frac=fraction, random_state=42)] + [target_ones])\n",
    "    \n",
    "    features_downsampled, target_downsampled = shuffle(features_downsampled, target_downsampled, random_state=42)\n",
    "    \n",
    "    return features_downsampled, target_downsampled"
   ]
  },
  {
   "cell_type": "code",
   "execution_count": 32,
   "metadata": {},
   "outputs": [],
   "source": [
    "features_downsampled, target_downsampled = downsample(\n",
    "    pd.DataFrame(features_train),target_train.reset_index(drop=True), 0.25)"
   ]
  },
  {
   "cell_type": "code",
   "execution_count": 33,
   "metadata": {},
   "outputs": [
    {
     "data": {
      "text/plain": [
       "1    1231\n",
       "0    1192\n",
       "Name: Exited, dtype: int64"
      ]
     },
     "execution_count": 33,
     "metadata": {},
     "output_type": "execute_result"
    }
   ],
   "source": [
    "target_downsampled.value_counts()"
   ]
  },
  {
   "cell_type": "code",
   "execution_count": 34,
   "metadata": {},
   "outputs": [
    {
     "name": "stdout",
     "output_type": "stream",
     "text": [
      "DummyClassifier - AUC-ROC: 0.5000, F1 Score: 0.5514\n",
      "LogisticRegression - AUC-ROC: 0.7840, F1 Score: 0.7416\n",
      "DecisionTree - AUC-ROC: 0.6825, F1 Score: 0.7012\n",
      "RandomForest - AUC-ROC: 0.8543, F1 Score: 0.8009\n"
     ]
    }
   ],
   "source": [
    "models = {\n",
    "    'DummyClassifier': DummyClassifier(strategy='uniform', random_state=42),\n",
    "    'LogisticRegression': LogisticRegression(),\n",
    "    'DecisionTree': DecisionTreeClassifier(random_state=42),\n",
    "    'RandomForest': RandomForestClassifier(random_state=42),\n",
    "}\n",
    "\n",
    "for name, model in models.items():\n",
    "    model.fit(features_downsampled, target_downsampled)\n",
    "    \n",
    "    target_pred = model.predict(features_val)\n",
    "    target_pred_a = model.predict_proba(features_val)[:, 1]\n",
    "    \n",
    "    roc_score = roc_auc_score(target_val, target_pred_a)\n",
    "    f1 = f1_score(target_val, target_pred, average='weighted')\n",
    "    \n",
    "    print(f'{name} - AUC-ROC: {roc_score:.4f}, F1 Score: {f1:.4f}')"
   ]
  },
  {
   "cell_type": "code",
   "execution_count": 36,
   "metadata": {},
   "outputs": [],
   "source": [
    "# model = RandomForestClassifier(random_state=42)\n",
    "\n",
    "# model.fit(features_downsampled, target_downsampled)\n",
    "# predicted_valid = model.predict(features_val)\n",
    "# probabilities_valid = model.predict_proba(features_val) [:,1]\n",
    "\n",
    "# print('F1 =', f1_score(target_val, predicted_valid))\n",
    "# print('AUC-ROC =', roc_auc_score(target_val, probabilities_valid))"
   ]
  },
  {
   "cell_type": "code",
   "execution_count": null,
   "metadata": {},
   "outputs": [],
   "source": []
  },
  {
   "cell_type": "markdown",
   "metadata": {},
   "source": [
    "<div class=\"alert alert-danger\" style=\"border-radius: 15px; box-shadow: 4px 4px 4px; border: 1px solid \">\n",
    "<h2> Reviewer's comment 3</h2>\n",
    "    \n",
    "- Don't we need to **apply** resampling to our training data? \n",
    "\n",
    "\n",
    "- We have to **compare different models on resampled data**. \n",
    "\n",
    "</div>"
   ]
  },
  {
   "cell_type": "markdown",
   "metadata": {},
   "source": [
    "- Model testing."
   ]
  },
  {
   "cell_type": "code",
   "execution_count": 39,
   "metadata": {},
   "outputs": [
    {
     "data": {
      "text/plain": [
       "RandomForestClassifier(random_state=42)"
      ]
     },
     "execution_count": 39,
     "metadata": {},
     "output_type": "execute_result"
    }
   ],
   "source": [
    "features_full_train = pd.concat([pd.DataFrame(features_train), pd.DataFrame(features_val)])\n",
    "target_full_train = pd.concat([target_train.reset_index(drop=True), target_val.reset_index(drop=True)])\n",
    "\n",
    "features_upsampled, target_upsampled = upsample(features_full_train, target_full_train, 4)\n",
    "\n",
    "model = RandomForestClassifier(random_state=42, n_estimators=100)\n",
    "model.fit(features_upsampled, target_upsampled)"
   ]
  },
  {
   "cell_type": "code",
   "execution_count": 40,
   "metadata": {},
   "outputs": [
    {
     "name": "stdout",
     "output_type": "stream",
     "text": [
      "F1= 0.5989010989010989\n",
      "AUC-ROC = 0.8531638775015795\n"
     ]
    }
   ],
   "source": [
    "predicted_test = model.predict(features_test)\n",
    "probabilities_test = model.predict_proba(features_test)[:,1]\n",
    "\n",
    "print('F1=', f1_score(target_test, predicted_test))\n",
    "print('AUC-ROC =', roc_auc_score(target_test, probabilities_test))"
   ]
  },
  {
   "cell_type": "markdown",
   "metadata": {},
   "source": [
    "<div class=\"alert alert-danger\" style=\"border-radius: 15px; box-shadow: 4px 4px 4px; border: 1px solid \">\n",
    "<b> Reviewer's comment 2</b>\n",
    "    \n",
    "Before we move on to final testing, we have to try upsampling and downsampling.     \n",
    "</div>"
   ]
  },
  {
   "cell_type": "markdown",
   "metadata": {},
   "source": [
    "<div class=\"alert alert-danger\" style=\"border-radius: 15px; box-shadow: 4px 4px 4px; border: 1px solid \">\n",
    "<h2> Reviewer's comment 3</h2>\n",
    "    \n",
    "Do not split the data please. We hgave already done that, it's enough.\n",
    "\n",
    "</div>"
   ]
  },
  {
   "cell_type": "code",
   "execution_count": null,
   "metadata": {},
   "outputs": [],
   "source": [
    "model = RandomForestClassifier(random_state=42, class_weight='balanced')\n",
    "\n",
    "model.fit(features_train_val, target_train_val)\n",
    "\n",
    "target_test_pred = model.predict(features_test)\n",
    "test_accuracy = accuracy_score(target_test, target_test_pred)\n",
    "test_f1 = f1_score(target_test, target_test_pred)\n",
    "\n",
    "print(f\"Test Accuracy: {test_accuracy:.4f}\")\n",
    "print(f\"Test F1 Score: {test_f1:.4f}\")"
   ]
  },
  {
   "cell_type": "markdown",
   "metadata": {},
   "source": [
    "<div class=\"alert alert-danger\" style=\"border-radius: 15px; box-shadow: 4px 4px 4px; border: 1px solid \">\n",
    "<b> Reviewer's comment 2</b>\n",
    "    \n",
    "Here's a phrase from the task description: \n",
    "    \n",
    "    Build a model with the maximum possible F1 score. To pass the project, you need an F1 score of at least 0.59. Check the F1 for the test set.\n",
    "    \n",
    "    \n",
    "Please specify why we need accuracy. Do we really need it? Shouldn't we estimate F1 instead? :)\n",
    "</div>"
   ]
  },
  {
   "cell_type": "markdown",
   "metadata": {},
   "source": [
    "The model achieved a F1 test of 0.5406. This indicates that the RandomForestClassifier with class weight balancing performs well on the test set, correctly predicting the labels for approximately 54% of the instances."
   ]
  },
  {
   "cell_type": "markdown",
   "metadata": {},
   "source": [
    "<div class=\"alert alert-danger\" style=\"border-radius: 15px; box-shadow: 4px 4px 4px; border: 1px solid \">\n",
    "<h2> Reviewer's comment 3</h2>\n",
    "    \n",
    "Our goal is to get 0.59 F1. This is a necessary thing for the project to be accepted. Please follow my recommendations. \n",
    "    \n",
    "    \n",
    "If you are still unable to get a high F1, consider hyperparameters tuning.\n",
    "</div>"
   ]
  },
  {
   "cell_type": "markdown",
   "metadata": {},
   "source": [
    "<div class=\"alert alert-danger\" style=\"border-radius: 15px; box-shadow: 4px 4px 4px; border: 1px solid \">\n",
    "<b> Reviewer's comment</b>\n",
    "    \n",
    "In this section, we take the model that yielded the highest F1 score and run it on test data. Our goal (see project description) is to get F1 of at least 0.59.\n",
    "    \n",
    "    \n",
    "\n",
    "</div>\n",
    "<div class=\"alert alert-warning\" style=\"border-radius: 15px; box-shadow: 4px 4px 4px; border: 1px solid \">\n",
    "<h2>  Reviewer's comment </h2>\n",
    "   \n",
    "\n",
    "I recommend that you train data again on a combined train+valid dataset.     \n",
    "    \n",
    "</div>"
   ]
  },
  {
   "cell_type": "markdown",
   "metadata": {},
   "source": [
    "Conclusion:\n",
    "\n",
    "We tried several models (RandomForest, Logistic Regression, DecisionTree) and performed hyperparameter. Based on the results, the RandomForestClassifier is recommended for predicting customer churn at Beta Bank. This approach ensures a robust model that can help Beta Bank reduce customer churn by identifying at-risk customers efficiently."
   ]
  },
  {
   "cell_type": "markdown",
   "metadata": {},
   "source": [
    "<div class=\"alert alert-success\" style=\"border-radius: 15px; box-shadow: 4px 4px 4px; border: 1px solid \">\n",
    "<h2> Reviewer's comment</h2>\n",
    "\n",
    "    \n",
    "Very good! </div>    \n",
    "<div class=\"alert alert-warning\" style=\"border-radius: 15px; box-shadow: 4px 4px 4px; border: 1px solid \">\n",
    "<h2> Reviewer's comment</h2>\n",
    "\n",
    "    \n",
    "You can make it a little broader and add more info about different models you compared. \n",
    "\n",
    "</div>  \n",
    "<div class=\"alert alert-danger\" style=\"border-radius: 15px; box-shadow: 4px 4px 4px; border: 1px solid \">\n",
    "<h2> Reviewer's comment</h2>\n",
    "    \n",
    "Don't forget to update the conclusion. \n",
    "\n",
    "</div>"
   ]
  },
  {
   "cell_type": "code",
   "execution_count": null,
   "metadata": {},
   "outputs": [],
   "source": []
  },
  {
   "cell_type": "code",
   "execution_count": null,
   "metadata": {},
   "outputs": [],
   "source": []
  }
 ],
 "metadata": {
  "ExecuteTimeLog": [
   {
    "duration": 1701,
    "start_time": "2024-05-16T21:54:07.948Z"
   },
   {
    "duration": 4,
    "start_time": "2024-05-16T21:54:37.308Z"
   },
   {
    "duration": 60,
    "start_time": "2024-05-16T21:57:01.008Z"
   },
   {
    "duration": 6,
    "start_time": "2024-05-16T21:57:11.480Z"
   },
   {
    "duration": 32,
    "start_time": "2024-05-16T22:22:50.912Z"
   },
   {
    "duration": 38,
    "start_time": "2024-05-16T22:22:56.692Z"
   },
   {
    "duration": 5,
    "start_time": "2024-05-16T22:22:58.109Z"
   },
   {
    "duration": 6,
    "start_time": "2024-05-16T22:23:52.301Z"
   },
   {
    "duration": 8,
    "start_time": "2024-05-16T22:24:15.361Z"
   },
   {
    "duration": 419,
    "start_time": "2024-05-16T22:25:16.182Z"
   },
   {
    "duration": 14,
    "start_time": "2024-05-16T22:26:15.373Z"
   },
   {
    "duration": 7,
    "start_time": "2024-05-16T22:26:16.192Z"
   },
   {
    "duration": 7,
    "start_time": "2024-05-16T22:26:19.820Z"
   },
   {
    "duration": 194,
    "start_time": "2024-05-16T22:26:23.707Z"
   },
   {
    "duration": 7,
    "start_time": "2024-05-17T00:45:31.030Z"
   },
   {
    "duration": 5,
    "start_time": "2024-05-17T00:51:01.952Z"
   },
   {
    "duration": 10,
    "start_time": "2024-05-17T00:51:48.543Z"
   },
   {
    "duration": 7,
    "start_time": "2024-05-17T00:52:03.712Z"
   },
   {
    "duration": 5,
    "start_time": "2024-05-17T00:55:18.213Z"
   },
   {
    "duration": 13,
    "start_time": "2024-05-17T00:55:57.009Z"
   },
   {
    "duration": 7,
    "start_time": "2024-05-17T00:56:32.055Z"
   },
   {
    "duration": 3,
    "start_time": "2024-05-17T00:58:17.596Z"
   },
   {
    "duration": 12,
    "start_time": "2024-05-17T00:58:32.513Z"
   },
   {
    "duration": 6,
    "start_time": "2024-05-17T00:59:26.131Z"
   },
   {
    "duration": 7,
    "start_time": "2024-05-17T01:02:28.419Z"
   },
   {
    "duration": 1305,
    "start_time": "2024-05-17T01:07:56.648Z"
   },
   {
    "duration": 74,
    "start_time": "2024-05-17T01:10:20.683Z"
   },
   {
    "duration": 9,
    "start_time": "2024-05-17T01:10:35.566Z"
   },
   {
    "duration": 1270,
    "start_time": "2024-05-17T01:10:44.265Z"
   },
   {
    "duration": 52,
    "start_time": "2024-05-17T01:10:45.541Z"
   },
   {
    "duration": 36,
    "start_time": "2024-05-17T01:10:45.597Z"
   },
   {
    "duration": 12,
    "start_time": "2024-05-17T01:10:45.638Z"
   },
   {
    "duration": 9,
    "start_time": "2024-05-17T01:10:45.653Z"
   },
   {
    "duration": 8,
    "start_time": "2024-05-17T01:10:45.665Z"
   },
   {
    "duration": 7,
    "start_time": "2024-05-17T01:10:45.676Z"
   },
   {
    "duration": 16,
    "start_time": "2024-05-17T01:10:45.733Z"
   },
   {
    "duration": 7,
    "start_time": "2024-05-17T01:10:45.752Z"
   },
   {
    "duration": 9,
    "start_time": "2024-05-17T01:10:45.764Z"
   },
   {
    "duration": 57,
    "start_time": "2024-05-17T01:10:45.776Z"
   },
   {
    "duration": 6,
    "start_time": "2024-05-17T01:10:45.836Z"
   },
   {
    "duration": 9,
    "start_time": "2024-05-17T01:10:45.845Z"
   },
   {
    "duration": 1856,
    "start_time": "2024-05-17T01:10:45.859Z"
   },
   {
    "duration": 72,
    "start_time": "2024-05-17T01:13:13.211Z"
   },
   {
    "duration": 16,
    "start_time": "2024-05-17T01:13:54.905Z"
   },
   {
    "duration": 373,
    "start_time": "2024-05-17T01:15:33.183Z"
   },
   {
    "duration": 134,
    "start_time": "2024-05-17T01:48:21.601Z"
   },
   {
    "duration": 8,
    "start_time": "2024-05-17T02:02:44.962Z"
   },
   {
    "duration": 8,
    "start_time": "2024-05-17T02:05:44.265Z"
   },
   {
    "duration": 131,
    "start_time": "2024-05-17T02:06:30.903Z"
   },
   {
    "duration": 136,
    "start_time": "2024-05-17T02:07:25.310Z"
   },
   {
    "duration": 8,
    "start_time": "2024-05-17T02:10:35.281Z"
   },
   {
    "duration": 1305,
    "start_time": "2024-05-17T02:10:44.302Z"
   },
   {
    "duration": 56,
    "start_time": "2024-05-17T02:10:45.611Z"
   },
   {
    "duration": 6,
    "start_time": "2024-05-17T02:10:45.671Z"
   },
   {
    "duration": 12,
    "start_time": "2024-05-17T02:10:45.684Z"
   },
   {
    "duration": 34,
    "start_time": "2024-05-17T02:10:45.700Z"
   },
   {
    "duration": 10,
    "start_time": "2024-05-17T02:10:45.738Z"
   },
   {
    "duration": 10,
    "start_time": "2024-05-17T02:10:45.753Z"
   },
   {
    "duration": 8,
    "start_time": "2024-05-17T02:10:45.767Z"
   },
   {
    "duration": 62,
    "start_time": "2024-05-17T02:10:45.779Z"
   },
   {
    "duration": 9,
    "start_time": "2024-05-17T02:10:45.848Z"
   },
   {
    "duration": 13,
    "start_time": "2024-05-17T02:10:45.860Z"
   },
   {
    "duration": 14,
    "start_time": "2024-05-17T02:10:45.876Z"
   },
   {
    "duration": 44,
    "start_time": "2024-05-17T02:10:45.894Z"
   },
   {
    "duration": 10,
    "start_time": "2024-05-17T02:10:45.941Z"
   },
   {
    "duration": 20,
    "start_time": "2024-05-17T02:10:45.955Z"
   },
   {
    "duration": 1795,
    "start_time": "2024-05-17T02:10:45.978Z"
   },
   {
    "duration": 9,
    "start_time": "2024-05-17T02:13:22.403Z"
   },
   {
    "duration": 1165,
    "start_time": "2024-05-17T02:14:21.413Z"
   },
   {
    "duration": 1160,
    "start_time": "2024-05-17T02:14:51.713Z"
   },
   {
    "duration": 1263,
    "start_time": "2024-05-17T02:15:40.317Z"
   },
   {
    "duration": 52,
    "start_time": "2024-05-17T02:15:41.583Z"
   },
   {
    "duration": 7,
    "start_time": "2024-05-17T02:15:41.639Z"
   },
   {
    "duration": 13,
    "start_time": "2024-05-17T02:15:41.649Z"
   },
   {
    "duration": 10,
    "start_time": "2024-05-17T02:15:41.668Z"
   },
   {
    "duration": 55,
    "start_time": "2024-05-17T02:15:41.681Z"
   },
   {
    "duration": 9,
    "start_time": "2024-05-17T02:15:41.741Z"
   },
   {
    "duration": 8,
    "start_time": "2024-05-17T02:15:41.753Z"
   },
   {
    "duration": 6,
    "start_time": "2024-05-17T02:15:41.764Z"
   },
   {
    "duration": 12,
    "start_time": "2024-05-17T02:15:41.774Z"
   },
   {
    "duration": 8,
    "start_time": "2024-05-17T02:15:41.832Z"
   },
   {
    "duration": 5,
    "start_time": "2024-05-17T02:15:41.844Z"
   },
   {
    "duration": 14,
    "start_time": "2024-05-17T02:15:41.852Z"
   },
   {
    "duration": 12,
    "start_time": "2024-05-17T02:15:41.871Z"
   },
   {
    "duration": 47,
    "start_time": "2024-05-17T02:15:41.886Z"
   },
   {
    "duration": 9,
    "start_time": "2024-05-17T02:15:41.936Z"
   },
   {
    "duration": 17,
    "start_time": "2024-05-17T02:15:41.950Z"
   },
   {
    "duration": 951,
    "start_time": "2024-05-17T02:15:41.970Z"
   },
   {
    "duration": 1217,
    "start_time": "2024-05-17T13:25:42.191Z"
   },
   {
    "duration": 59,
    "start_time": "2024-05-17T13:25:43.412Z"
   },
   {
    "duration": 6,
    "start_time": "2024-05-17T13:25:43.474Z"
   },
   {
    "duration": 12,
    "start_time": "2024-05-17T13:25:43.483Z"
   },
   {
    "duration": 33,
    "start_time": "2024-05-17T13:25:43.500Z"
   },
   {
    "duration": 9,
    "start_time": "2024-05-17T13:25:43.536Z"
   },
   {
    "duration": 8,
    "start_time": "2024-05-17T13:25:43.548Z"
   },
   {
    "duration": 9,
    "start_time": "2024-05-17T13:25:43.559Z"
   },
   {
    "duration": 6,
    "start_time": "2024-05-17T13:25:43.571Z"
   },
   {
    "duration": 14,
    "start_time": "2024-05-17T13:25:43.627Z"
   },
   {
    "duration": 6,
    "start_time": "2024-05-17T13:25:43.644Z"
   },
   {
    "duration": 4,
    "start_time": "2024-05-17T13:25:43.653Z"
   },
   {
    "duration": 13,
    "start_time": "2024-05-17T13:25:43.660Z"
   },
   {
    "duration": 56,
    "start_time": "2024-05-17T13:25:43.679Z"
   },
   {
    "duration": 7,
    "start_time": "2024-05-17T13:25:43.738Z"
   },
   {
    "duration": 9,
    "start_time": "2024-05-17T13:25:43.748Z"
   },
   {
    "duration": 19,
    "start_time": "2024-05-17T13:25:43.760Z"
   },
   {
    "duration": 941,
    "start_time": "2024-05-17T13:25:43.826Z"
   },
   {
    "duration": 1223,
    "start_time": "2024-05-17T21:10:28.243Z"
   },
   {
    "duration": 58,
    "start_time": "2024-05-17T21:10:29.471Z"
   },
   {
    "duration": 6,
    "start_time": "2024-05-17T21:10:29.532Z"
   },
   {
    "duration": 10,
    "start_time": "2024-05-17T21:10:29.542Z"
   },
   {
    "duration": 10,
    "start_time": "2024-05-17T21:10:29.557Z"
   },
   {
    "duration": 9,
    "start_time": "2024-05-17T21:10:29.569Z"
   },
   {
    "duration": 53,
    "start_time": "2024-05-17T21:10:29.581Z"
   },
   {
    "duration": 7,
    "start_time": "2024-05-17T21:10:29.637Z"
   },
   {
    "duration": 7,
    "start_time": "2024-05-17T21:10:29.648Z"
   },
   {
    "duration": 14,
    "start_time": "2024-05-17T21:10:29.658Z"
   },
   {
    "duration": 7,
    "start_time": "2024-05-17T21:10:29.675Z"
   },
   {
    "duration": 3,
    "start_time": "2024-05-17T21:10:29.732Z"
   },
   {
    "duration": 12,
    "start_time": "2024-05-17T21:10:29.738Z"
   },
   {
    "duration": 14,
    "start_time": "2024-05-17T21:10:29.756Z"
   },
   {
    "duration": 8,
    "start_time": "2024-05-17T21:10:29.772Z"
   },
   {
    "duration": 49,
    "start_time": "2024-05-17T21:10:29.783Z"
   },
   {
    "duration": 16,
    "start_time": "2024-05-17T21:10:29.835Z"
   },
   {
    "duration": 923,
    "start_time": "2024-05-17T21:10:29.856Z"
   },
   {
    "duration": 1180,
    "start_time": "2024-05-17T21:16:16.929Z"
   },
   {
    "duration": 57,
    "start_time": "2024-05-17T21:16:18.112Z"
   },
   {
    "duration": 7,
    "start_time": "2024-05-17T21:16:18.172Z"
   },
   {
    "duration": 12,
    "start_time": "2024-05-17T21:16:18.182Z"
   },
   {
    "duration": 10,
    "start_time": "2024-05-17T21:16:18.230Z"
   },
   {
    "duration": 8,
    "start_time": "2024-05-17T21:16:18.244Z"
   },
   {
    "duration": 8,
    "start_time": "2024-05-17T21:16:18.256Z"
   },
   {
    "duration": 8,
    "start_time": "2024-05-17T21:16:18.268Z"
   },
   {
    "duration": 7,
    "start_time": "2024-05-17T21:16:18.279Z"
   },
   {
    "duration": 14,
    "start_time": "2024-05-17T21:16:18.332Z"
   },
   {
    "duration": 7,
    "start_time": "2024-05-17T21:16:18.348Z"
   },
   {
    "duration": 3,
    "start_time": "2024-05-17T21:16:18.358Z"
   },
   {
    "duration": 16,
    "start_time": "2024-05-17T21:16:18.364Z"
   },
   {
    "duration": 13,
    "start_time": "2024-05-17T21:16:18.430Z"
   },
   {
    "duration": 6,
    "start_time": "2024-05-17T21:16:18.446Z"
   },
   {
    "duration": 9,
    "start_time": "2024-05-17T21:16:18.455Z"
   },
   {
    "duration": 22,
    "start_time": "2024-05-17T21:16:18.466Z"
   },
   {
    "duration": 914,
    "start_time": "2024-05-17T21:16:18.531Z"
   },
   {
    "duration": 399,
    "start_time": "2024-05-17T21:16:25.293Z"
   },
   {
    "duration": 1179,
    "start_time": "2024-05-17T21:16:41.925Z"
   },
   {
    "duration": 1158,
    "start_time": "2024-05-17T21:18:12.222Z"
   },
   {
    "duration": 1149,
    "start_time": "2024-05-17T21:20:00.071Z"
   },
   {
    "duration": 1145,
    "start_time": "2024-05-17T21:20:52.767Z"
   },
   {
    "duration": 1120,
    "start_time": "2024-05-17T21:21:12.574Z"
   },
   {
    "duration": 33,
    "start_time": "2024-05-17T21:35:42.658Z"
   },
   {
    "duration": 30,
    "start_time": "2024-05-17T21:36:35.829Z"
   },
   {
    "duration": 33,
    "start_time": "2024-05-17T21:37:02.052Z"
   },
   {
    "duration": 29,
    "start_time": "2024-05-17T21:37:11.578Z"
   },
   {
    "duration": 29,
    "start_time": "2024-05-17T21:37:49.552Z"
   },
   {
    "duration": 836,
    "start_time": "2024-05-17T22:20:33.471Z"
   },
   {
    "duration": 846,
    "start_time": "2024-05-17T22:22:42.592Z"
   },
   {
    "duration": 8,
    "start_time": "2024-05-17T22:25:15.160Z"
   },
   {
    "duration": 843,
    "start_time": "2024-05-17T22:25:23.499Z"
   },
   {
    "duration": 1291,
    "start_time": "2024-05-18T01:12:14.222Z"
   },
   {
    "duration": 67,
    "start_time": "2024-05-18T01:12:15.517Z"
   },
   {
    "duration": 8,
    "start_time": "2024-05-18T01:12:15.587Z"
   },
   {
    "duration": 11,
    "start_time": "2024-05-18T01:12:15.599Z"
   },
   {
    "duration": 10,
    "start_time": "2024-05-18T01:12:15.628Z"
   },
   {
    "duration": 10,
    "start_time": "2024-05-18T01:12:15.642Z"
   },
   {
    "duration": 9,
    "start_time": "2024-05-18T01:12:15.655Z"
   },
   {
    "duration": 9,
    "start_time": "2024-05-18T01:12:15.667Z"
   },
   {
    "duration": 52,
    "start_time": "2024-05-18T01:12:15.679Z"
   },
   {
    "duration": 16,
    "start_time": "2024-05-18T01:12:15.735Z"
   },
   {
    "duration": 10,
    "start_time": "2024-05-18T01:12:15.754Z"
   },
   {
    "duration": 7,
    "start_time": "2024-05-18T01:12:15.767Z"
   },
   {
    "duration": 57,
    "start_time": "2024-05-18T01:12:15.777Z"
   },
   {
    "duration": 13,
    "start_time": "2024-05-18T01:12:15.840Z"
   },
   {
    "duration": 6,
    "start_time": "2024-05-18T01:12:15.856Z"
   },
   {
    "duration": 12,
    "start_time": "2024-05-18T01:12:15.865Z"
   },
   {
    "duration": 57,
    "start_time": "2024-05-18T01:12:15.879Z"
   },
   {
    "duration": 928,
    "start_time": "2024-05-18T01:12:15.939Z"
   },
   {
    "duration": 1161,
    "start_time": "2024-05-18T01:12:16.871Z"
   },
   {
    "duration": 881,
    "start_time": "2024-05-18T01:12:18.035Z"
   },
   {
    "duration": 415,
    "start_time": "2024-05-18T01:16:05.796Z"
   },
   {
    "duration": 5,
    "start_time": "2024-05-18T01:16:43.907Z"
   },
   {
    "duration": 35,
    "start_time": "2024-05-18T01:16:47.954Z"
   },
   {
    "duration": 1258,
    "start_time": "2024-05-18T02:30:10.939Z"
   },
   {
    "duration": 60,
    "start_time": "2024-05-18T02:30:12.201Z"
   },
   {
    "duration": 7,
    "start_time": "2024-05-18T02:30:12.264Z"
   },
   {
    "duration": 12,
    "start_time": "2024-05-18T02:30:12.274Z"
   },
   {
    "duration": 35,
    "start_time": "2024-05-18T02:30:12.291Z"
   },
   {
    "duration": 9,
    "start_time": "2024-05-18T02:30:12.329Z"
   },
   {
    "duration": 10,
    "start_time": "2024-05-18T02:30:12.341Z"
   },
   {
    "duration": 7,
    "start_time": "2024-05-18T02:30:12.354Z"
   },
   {
    "duration": 6,
    "start_time": "2024-05-18T02:30:12.365Z"
   },
   {
    "duration": 62,
    "start_time": "2024-05-18T02:30:12.374Z"
   },
   {
    "duration": 8,
    "start_time": "2024-05-18T02:30:12.439Z"
   },
   {
    "duration": 3,
    "start_time": "2024-05-18T02:30:12.451Z"
   },
   {
    "duration": 14,
    "start_time": "2024-05-18T02:30:12.458Z"
   },
   {
    "duration": 13,
    "start_time": "2024-05-18T02:30:12.526Z"
   },
   {
    "duration": 6,
    "start_time": "2024-05-18T02:30:12.542Z"
   },
   {
    "duration": 9,
    "start_time": "2024-05-18T02:30:12.552Z"
   },
   {
    "duration": 16,
    "start_time": "2024-05-18T02:30:12.565Z"
   },
   {
    "duration": 939,
    "start_time": "2024-05-18T02:30:12.627Z"
   },
   {
    "duration": 1168,
    "start_time": "2024-05-18T02:30:13.570Z"
   },
   {
    "duration": 885,
    "start_time": "2024-05-18T02:30:14.741Z"
   },
   {
    "duration": 29,
    "start_time": "2024-05-18T02:34:13.533Z"
   },
   {
    "duration": 1546,
    "start_time": "2024-05-18T02:37:06.584Z"
   },
   {
    "duration": 873,
    "start_time": "2024-05-18T02:37:45.442Z"
   },
   {
    "duration": 1318,
    "start_time": "2024-05-18T05:16:38.432Z"
   },
   {
    "duration": 52,
    "start_time": "2024-05-18T05:16:39.754Z"
   },
   {
    "duration": 18,
    "start_time": "2024-05-18T05:16:39.809Z"
   },
   {
    "duration": 12,
    "start_time": "2024-05-18T05:16:39.834Z"
   },
   {
    "duration": 14,
    "start_time": "2024-05-18T05:16:39.849Z"
   },
   {
    "duration": 17,
    "start_time": "2024-05-18T05:16:39.867Z"
   },
   {
    "duration": 45,
    "start_time": "2024-05-18T05:16:39.887Z"
   },
   {
    "duration": 8,
    "start_time": "2024-05-18T05:16:39.935Z"
   },
   {
    "duration": 6,
    "start_time": "2024-05-18T05:16:39.947Z"
   },
   {
    "duration": 14,
    "start_time": "2024-05-18T05:16:39.960Z"
   },
   {
    "duration": 54,
    "start_time": "2024-05-18T05:16:39.977Z"
   },
   {
    "duration": 4,
    "start_time": "2024-05-18T05:16:40.035Z"
   },
   {
    "duration": 12,
    "start_time": "2024-05-18T05:16:40.042Z"
   },
   {
    "duration": 14,
    "start_time": "2024-05-18T05:16:40.057Z"
   },
   {
    "duration": 8,
    "start_time": "2024-05-18T05:16:40.074Z"
   },
   {
    "duration": 8,
    "start_time": "2024-05-18T05:16:40.128Z"
   },
   {
    "duration": 17,
    "start_time": "2024-05-18T05:16:40.139Z"
   },
   {
    "duration": 926,
    "start_time": "2024-05-18T05:16:40.160Z"
   },
   {
    "duration": 44,
    "start_time": "2024-05-18T05:16:41.089Z"
   },
   {
    "duration": 1152,
    "start_time": "2024-05-18T05:16:41.137Z"
   },
   {
    "duration": 1287,
    "start_time": "2024-05-18T05:19:07.841Z"
   },
   {
    "duration": 55,
    "start_time": "2024-05-18T05:19:09.131Z"
   },
   {
    "duration": 7,
    "start_time": "2024-05-18T05:19:09.189Z"
   },
   {
    "duration": 11,
    "start_time": "2024-05-18T05:19:09.227Z"
   },
   {
    "duration": 11,
    "start_time": "2024-05-18T05:19:09.240Z"
   },
   {
    "duration": 9,
    "start_time": "2024-05-18T05:19:09.254Z"
   },
   {
    "duration": 7,
    "start_time": "2024-05-18T05:19:09.267Z"
   },
   {
    "duration": 52,
    "start_time": "2024-05-18T05:19:09.279Z"
   },
   {
    "duration": 9,
    "start_time": "2024-05-18T05:19:09.335Z"
   },
   {
    "duration": 17,
    "start_time": "2024-05-18T05:19:09.351Z"
   },
   {
    "duration": 9,
    "start_time": "2024-05-18T05:19:09.372Z"
   },
   {
    "duration": 4,
    "start_time": "2024-05-18T05:19:09.426Z"
   },
   {
    "duration": 12,
    "start_time": "2024-05-18T05:19:09.434Z"
   },
   {
    "duration": 15,
    "start_time": "2024-05-18T05:19:09.449Z"
   },
   {
    "duration": 8,
    "start_time": "2024-05-18T05:19:09.466Z"
   },
   {
    "duration": 54,
    "start_time": "2024-05-18T05:19:09.480Z"
   },
   {
    "duration": 18,
    "start_time": "2024-05-18T05:19:09.537Z"
   },
   {
    "duration": 926,
    "start_time": "2024-05-18T05:19:09.558Z"
   },
   {
    "duration": 48,
    "start_time": "2024-05-18T05:19:10.488Z"
   },
   {
    "duration": 1149,
    "start_time": "2024-05-18T05:19:10.540Z"
   },
   {
    "duration": 1129,
    "start_time": "2024-05-18T05:25:44.963Z"
   },
   {
    "duration": 6,
    "start_time": "2024-05-18T05:34:26.448Z"
   },
   {
    "duration": 11,
    "start_time": "2024-05-18T05:36:03.109Z"
   },
   {
    "duration": 8,
    "start_time": "2024-05-18T05:36:37.225Z"
   },
   {
    "duration": 56,
    "start_time": "2024-05-18T05:39:58.190Z"
   },
   {
    "duration": 55,
    "start_time": "2024-05-18T05:40:31.278Z"
   },
   {
    "duration": 1277,
    "start_time": "2024-05-18T05:41:04.361Z"
   },
   {
    "duration": 48,
    "start_time": "2024-05-18T05:41:05.642Z"
   },
   {
    "duration": 7,
    "start_time": "2024-05-18T05:41:05.693Z"
   },
   {
    "duration": 31,
    "start_time": "2024-05-18T05:41:05.704Z"
   },
   {
    "duration": 9,
    "start_time": "2024-05-18T05:41:05.740Z"
   },
   {
    "duration": 9,
    "start_time": "2024-05-18T05:41:05.752Z"
   },
   {
    "duration": 8,
    "start_time": "2024-05-18T05:41:05.765Z"
   },
   {
    "duration": 53,
    "start_time": "2024-05-18T05:41:05.776Z"
   },
   {
    "duration": 7,
    "start_time": "2024-05-18T05:41:05.832Z"
   },
   {
    "duration": 15,
    "start_time": "2024-05-18T05:41:05.843Z"
   },
   {
    "duration": 7,
    "start_time": "2024-05-18T05:41:05.862Z"
   },
   {
    "duration": 4,
    "start_time": "2024-05-18T05:41:05.872Z"
   },
   {
    "duration": 12,
    "start_time": "2024-05-18T05:41:05.929Z"
   },
   {
    "duration": 15,
    "start_time": "2024-05-18T05:41:05.946Z"
   },
   {
    "duration": 7,
    "start_time": "2024-05-18T05:41:05.964Z"
   },
   {
    "duration": 51,
    "start_time": "2024-05-18T05:41:05.975Z"
   },
   {
    "duration": 19,
    "start_time": "2024-05-18T05:41:06.030Z"
   },
   {
    "duration": 919,
    "start_time": "2024-05-18T05:41:06.053Z"
   },
   {
    "duration": 31,
    "start_time": "2024-05-18T05:41:06.975Z"
   },
   {
    "duration": 1186,
    "start_time": "2024-05-18T05:41:07.008Z"
   },
   {
    "duration": 2354,
    "start_time": "2024-05-18T05:44:13.664Z"
   },
   {
    "duration": 2364,
    "start_time": "2024-05-18T05:45:18.398Z"
   },
   {
    "duration": 1149,
    "start_time": "2024-05-18T05:49:56.111Z"
   },
   {
    "duration": 1203,
    "start_time": "2024-05-18T05:56:05.175Z"
   },
   {
    "duration": 50,
    "start_time": "2024-05-18T05:56:06.381Z"
   },
   {
    "duration": 6,
    "start_time": "2024-05-18T05:56:06.434Z"
   },
   {
    "duration": 12,
    "start_time": "2024-05-18T05:56:06.444Z"
   },
   {
    "duration": 11,
    "start_time": "2024-05-18T05:56:06.461Z"
   },
   {
    "duration": 56,
    "start_time": "2024-05-18T05:56:06.475Z"
   },
   {
    "duration": 8,
    "start_time": "2024-05-18T05:56:06.535Z"
   },
   {
    "duration": 9,
    "start_time": "2024-05-18T05:56:06.546Z"
   },
   {
    "duration": 6,
    "start_time": "2024-05-18T05:56:06.559Z"
   },
   {
    "duration": 59,
    "start_time": "2024-05-18T05:56:06.569Z"
   },
   {
    "duration": 8,
    "start_time": "2024-05-18T05:56:06.630Z"
   },
   {
    "duration": 4,
    "start_time": "2024-05-18T05:56:06.640Z"
   },
   {
    "duration": 11,
    "start_time": "2024-05-18T05:56:06.648Z"
   },
   {
    "duration": 13,
    "start_time": "2024-05-18T05:56:06.665Z"
   },
   {
    "duration": 10,
    "start_time": "2024-05-18T05:56:06.726Z"
   },
   {
    "duration": 8,
    "start_time": "2024-05-18T05:56:06.742Z"
   },
   {
    "duration": 18,
    "start_time": "2024-05-18T05:56:06.753Z"
   },
   {
    "duration": 929,
    "start_time": "2024-05-18T05:56:06.774Z"
   },
   {
    "duration": 2124,
    "start_time": "2024-05-18T05:56:07.706Z"
   },
   {
    "duration": 7,
    "start_time": "2024-05-18T05:56:09.833Z"
   },
   {
    "duration": 1215,
    "start_time": "2024-05-18T05:56:09.844Z"
   },
   {
    "duration": 1190,
    "start_time": "2024-05-18T10:35:06.493Z"
   },
   {
    "duration": 59,
    "start_time": "2024-05-18T10:35:07.687Z"
   },
   {
    "duration": 6,
    "start_time": "2024-05-18T10:35:07.749Z"
   },
   {
    "duration": 10,
    "start_time": "2024-05-18T10:35:07.759Z"
   },
   {
    "duration": 9,
    "start_time": "2024-05-18T10:35:07.774Z"
   },
   {
    "duration": 49,
    "start_time": "2024-05-18T10:35:07.786Z"
   },
   {
    "duration": 7,
    "start_time": "2024-05-18T10:35:07.838Z"
   },
   {
    "duration": 8,
    "start_time": "2024-05-18T10:35:07.849Z"
   },
   {
    "duration": 6,
    "start_time": "2024-05-18T10:35:07.861Z"
   },
   {
    "duration": 60,
    "start_time": "2024-05-18T10:35:07.870Z"
   },
   {
    "duration": 7,
    "start_time": "2024-05-18T10:35:07.933Z"
   },
   {
    "duration": 4,
    "start_time": "2024-05-18T10:35:07.942Z"
   },
   {
    "duration": 11,
    "start_time": "2024-05-18T10:35:07.949Z"
   },
   {
    "duration": 13,
    "start_time": "2024-05-18T10:35:07.966Z"
   },
   {
    "duration": 51,
    "start_time": "2024-05-18T10:35:07.981Z"
   },
   {
    "duration": 8,
    "start_time": "2024-05-18T10:35:08.035Z"
   },
   {
    "duration": 16,
    "start_time": "2024-05-18T10:35:08.046Z"
   },
   {
    "duration": 897,
    "start_time": "2024-05-18T10:35:08.065Z"
   },
   {
    "duration": 2049,
    "start_time": "2024-05-18T10:35:08.965Z"
   },
   {
    "duration": 15,
    "start_time": "2024-05-18T10:35:11.017Z"
   },
   {
    "duration": 1179,
    "start_time": "2024-05-18T10:35:11.035Z"
   },
   {
    "duration": 435,
    "start_time": "2024-05-18T15:21:27.333Z"
   },
   {
    "duration": 26,
    "start_time": "2024-05-18T15:21:37.055Z"
   },
   {
    "duration": 32,
    "start_time": "2024-05-18T15:22:04.960Z"
   },
   {
    "duration": 27,
    "start_time": "2024-05-18T15:22:38.664Z"
   },
   {
    "duration": 25,
    "start_time": "2024-05-18T15:22:51.652Z"
   },
   {
    "duration": 24,
    "start_time": "2024-05-18T15:22:55.794Z"
   },
   {
    "duration": 1466,
    "start_time": "2024-05-18T15:23:04.175Z"
   },
   {
    "duration": 81,
    "start_time": "2024-05-18T15:23:05.645Z"
   },
   {
    "duration": 6,
    "start_time": "2024-05-18T15:23:05.729Z"
   },
   {
    "duration": 13,
    "start_time": "2024-05-18T15:23:05.739Z"
   },
   {
    "duration": 11,
    "start_time": "2024-05-18T15:23:05.758Z"
   },
   {
    "duration": 42,
    "start_time": "2024-05-18T15:23:05.773Z"
   },
   {
    "duration": 10,
    "start_time": "2024-05-18T15:23:05.822Z"
   },
   {
    "duration": 9,
    "start_time": "2024-05-18T15:23:05.835Z"
   },
   {
    "duration": 8,
    "start_time": "2024-05-18T15:23:05.847Z"
   },
   {
    "duration": 6,
    "start_time": "2024-05-18T15:23:05.859Z"
   },
   {
    "duration": 54,
    "start_time": "2024-05-18T15:23:05.870Z"
   },
   {
    "duration": 8,
    "start_time": "2024-05-18T15:23:05.928Z"
   },
   {
    "duration": 4,
    "start_time": "2024-05-18T15:23:05.940Z"
   },
   {
    "duration": 13,
    "start_time": "2024-05-18T15:23:05.951Z"
   },
   {
    "duration": 44,
    "start_time": "2024-05-18T15:23:05.968Z"
   },
   {
    "duration": 13,
    "start_time": "2024-05-18T15:23:06.015Z"
   },
   {
    "duration": 11,
    "start_time": "2024-05-18T15:23:06.031Z"
   },
   {
    "duration": 25,
    "start_time": "2024-05-18T15:23:06.045Z"
   },
   {
    "duration": 1535,
    "start_time": "2024-05-18T15:23:06.073Z"
   },
   {
    "duration": 2434,
    "start_time": "2024-05-18T15:23:07.614Z"
   },
   {
    "duration": 6,
    "start_time": "2024-05-18T15:23:10.053Z"
   },
   {
    "duration": 1448,
    "start_time": "2024-05-18T15:23:10.062Z"
   },
   {
    "duration": 1266,
    "start_time": "2024-05-18T15:23:55.573Z"
   },
   {
    "duration": 75,
    "start_time": "2024-05-18T15:26:56.766Z"
   },
   {
    "duration": 78,
    "start_time": "2024-05-18T15:27:00.551Z"
   },
   {
    "duration": 97,
    "start_time": "2024-05-18T15:29:34.706Z"
   },
   {
    "duration": 76,
    "start_time": "2024-05-18T15:29:40.304Z"
   },
   {
    "duration": 78,
    "start_time": "2024-05-18T15:29:50.077Z"
   },
   {
    "duration": 1187,
    "start_time": "2024-05-18T15:29:56.726Z"
   },
   {
    "duration": 45,
    "start_time": "2024-05-18T15:29:57.917Z"
   },
   {
    "duration": 5,
    "start_time": "2024-05-18T15:29:57.965Z"
   },
   {
    "duration": 38,
    "start_time": "2024-05-18T15:29:57.976Z"
   },
   {
    "duration": 9,
    "start_time": "2024-05-18T15:29:58.017Z"
   },
   {
    "duration": 8,
    "start_time": "2024-05-18T15:29:58.029Z"
   },
   {
    "duration": 8,
    "start_time": "2024-05-18T15:29:58.040Z"
   },
   {
    "duration": 7,
    "start_time": "2024-05-18T15:29:58.051Z"
   },
   {
    "duration": 7,
    "start_time": "2024-05-18T15:29:58.108Z"
   },
   {
    "duration": 6,
    "start_time": "2024-05-18T15:29:58.121Z"
   },
   {
    "duration": 13,
    "start_time": "2024-05-18T15:29:58.130Z"
   },
   {
    "duration": 8,
    "start_time": "2024-05-18T15:29:58.145Z"
   },
   {
    "duration": 4,
    "start_time": "2024-05-18T15:29:58.156Z"
   },
   {
    "duration": 11,
    "start_time": "2024-05-18T15:29:58.208Z"
   },
   {
    "duration": 17,
    "start_time": "2024-05-18T15:29:58.222Z"
   },
   {
    "duration": 5,
    "start_time": "2024-05-18T15:29:58.242Z"
   },
   {
    "duration": 8,
    "start_time": "2024-05-18T15:29:58.251Z"
   },
   {
    "duration": 51,
    "start_time": "2024-05-18T15:29:58.263Z"
   },
   {
    "duration": 899,
    "start_time": "2024-05-18T15:29:58.318Z"
   },
   {
    "duration": 2002,
    "start_time": "2024-05-18T15:29:59.220Z"
   },
   {
    "duration": 8,
    "start_time": "2024-05-18T15:30:01.225Z"
   },
   {
    "duration": 1165,
    "start_time": "2024-05-18T15:30:01.236Z"
   },
   {
    "duration": 1244,
    "start_time": "2024-05-18T15:30:25.233Z"
   },
   {
    "duration": 92,
    "start_time": "2024-05-18T15:30:30.557Z"
   },
   {
    "duration": 92,
    "start_time": "2024-05-18T15:30:33.988Z"
   },
   {
    "duration": 6,
    "start_time": "2024-05-18T15:30:35.187Z"
   },
   {
    "duration": 1226,
    "start_time": "2024-05-18T15:30:43.572Z"
   },
   {
    "duration": 54,
    "start_time": "2024-05-18T15:30:44.802Z"
   },
   {
    "duration": 7,
    "start_time": "2024-05-18T15:30:44.859Z"
   },
   {
    "duration": 39,
    "start_time": "2024-05-18T15:30:44.870Z"
   },
   {
    "duration": 9,
    "start_time": "2024-05-18T15:30:44.912Z"
   },
   {
    "duration": 12,
    "start_time": "2024-05-18T15:30:44.926Z"
   },
   {
    "duration": 7,
    "start_time": "2024-05-18T15:30:44.944Z"
   },
   {
    "duration": 7,
    "start_time": "2024-05-18T15:30:44.955Z"
   },
   {
    "duration": 44,
    "start_time": "2024-05-18T15:30:44.966Z"
   },
   {
    "duration": 9,
    "start_time": "2024-05-18T15:30:45.016Z"
   },
   {
    "duration": 15,
    "start_time": "2024-05-18T15:30:45.028Z"
   },
   {
    "duration": 7,
    "start_time": "2024-05-18T15:30:45.046Z"
   },
   {
    "duration": 4,
    "start_time": "2024-05-18T15:30:45.056Z"
   },
   {
    "duration": 53,
    "start_time": "2024-05-18T15:30:45.063Z"
   },
   {
    "duration": 17,
    "start_time": "2024-05-18T15:30:45.118Z"
   },
   {
    "duration": 7,
    "start_time": "2024-05-18T15:30:45.139Z"
   },
   {
    "duration": 8,
    "start_time": "2024-05-18T15:30:45.150Z"
   },
   {
    "duration": 57,
    "start_time": "2024-05-18T15:30:45.161Z"
   },
   {
    "duration": 876,
    "start_time": "2024-05-18T15:30:45.221Z"
   },
   {
    "duration": 2098,
    "start_time": "2024-05-18T15:30:46.100Z"
   },
   {
    "duration": 11,
    "start_time": "2024-05-18T15:30:48.201Z"
   },
   {
    "duration": 1215,
    "start_time": "2024-05-18T15:30:48.215Z"
   },
   {
    "duration": 1245,
    "start_time": "2024-05-18T18:41:57.517Z"
   },
   {
    "duration": 48,
    "start_time": "2024-05-18T18:41:58.768Z"
   },
   {
    "duration": 7,
    "start_time": "2024-05-18T18:41:58.818Z"
   },
   {
    "duration": 11,
    "start_time": "2024-05-18T18:41:58.829Z"
   },
   {
    "duration": 10,
    "start_time": "2024-05-18T18:41:58.843Z"
   },
   {
    "duration": 53,
    "start_time": "2024-05-18T18:41:58.856Z"
   },
   {
    "duration": 8,
    "start_time": "2024-05-18T18:41:58.912Z"
   },
   {
    "duration": 12,
    "start_time": "2024-05-18T18:41:58.923Z"
   },
   {
    "duration": 8,
    "start_time": "2024-05-18T18:41:58.939Z"
   },
   {
    "duration": 8,
    "start_time": "2024-05-18T18:41:58.953Z"
   },
   {
    "duration": 14,
    "start_time": "2024-05-18T18:41:59.008Z"
   },
   {
    "duration": 7,
    "start_time": "2024-05-18T18:41:59.026Z"
   },
   {
    "duration": 4,
    "start_time": "2024-05-18T18:41:59.036Z"
   },
   {
    "duration": 17,
    "start_time": "2024-05-18T18:41:59.043Z"
   },
   {
    "duration": 57,
    "start_time": "2024-05-18T18:41:59.066Z"
   },
   {
    "duration": 7,
    "start_time": "2024-05-18T18:41:59.126Z"
   },
   {
    "duration": 8,
    "start_time": "2024-05-18T18:41:59.135Z"
   },
   {
    "duration": 19,
    "start_time": "2024-05-18T18:41:59.146Z"
   },
   {
    "duration": 886,
    "start_time": "2024-05-18T18:41:59.168Z"
   },
   {
    "duration": 2008,
    "start_time": "2024-05-18T18:42:00.057Z"
   },
   {
    "duration": 7,
    "start_time": "2024-05-18T18:42:02.067Z"
   },
   {
    "duration": 1151,
    "start_time": "2024-05-18T18:42:02.077Z"
   },
   {
    "duration": 14,
    "start_time": "2024-05-18T18:43:05.460Z"
   },
   {
    "duration": 1225,
    "start_time": "2024-05-18T18:43:30.973Z"
   },
   {
    "duration": 17,
    "start_time": "2024-05-18T18:43:56.926Z"
   },
   {
    "duration": 36,
    "start_time": "2024-05-18T18:45:41.799Z"
   },
   {
    "duration": 5,
    "start_time": "2024-05-18T18:45:47.136Z"
   },
   {
    "duration": 9,
    "start_time": "2024-05-18T18:45:48.121Z"
   },
   {
    "duration": 8,
    "start_time": "2024-05-18T18:45:56.794Z"
   },
   {
    "duration": 9,
    "start_time": "2024-05-18T18:46:02.064Z"
   },
   {
    "duration": 11,
    "start_time": "2024-05-18T18:46:23.891Z"
   },
   {
    "duration": 8,
    "start_time": "2024-05-18T18:49:57.415Z"
   },
   {
    "duration": 11,
    "start_time": "2024-05-18T18:54:22.752Z"
   },
   {
    "duration": 10,
    "start_time": "2024-05-18T18:55:55.491Z"
   },
   {
    "duration": 6,
    "start_time": "2024-05-18T18:56:03.227Z"
   },
   {
    "duration": 7,
    "start_time": "2024-05-18T18:56:51.606Z"
   },
   {
    "duration": 8,
    "start_time": "2024-05-18T18:56:58.802Z"
   },
   {
    "duration": 6,
    "start_time": "2024-05-18T19:10:18.907Z"
   },
   {
    "duration": 2014,
    "start_time": "2024-05-18T19:15:59.330Z"
   },
   {
    "duration": 874,
    "start_time": "2024-05-18T19:23:36.070Z"
   },
   {
    "duration": 1206,
    "start_time": "2024-05-18T19:23:49.926Z"
   },
   {
    "duration": 46,
    "start_time": "2024-05-18T19:23:51.136Z"
   },
   {
    "duration": 24,
    "start_time": "2024-05-18T19:23:51.185Z"
   },
   {
    "duration": 12,
    "start_time": "2024-05-18T19:23:51.213Z"
   },
   {
    "duration": 10,
    "start_time": "2024-05-18T19:23:51.228Z"
   },
   {
    "duration": 8,
    "start_time": "2024-05-18T19:23:51.241Z"
   },
   {
    "duration": 13,
    "start_time": "2024-05-18T19:23:51.252Z"
   },
   {
    "duration": 43,
    "start_time": "2024-05-18T19:23:51.269Z"
   },
   {
    "duration": 9,
    "start_time": "2024-05-18T19:23:51.315Z"
   },
   {
    "duration": 6,
    "start_time": "2024-05-18T19:23:51.330Z"
   },
   {
    "duration": 14,
    "start_time": "2024-05-18T19:23:51.340Z"
   },
   {
    "duration": 53,
    "start_time": "2024-05-18T19:23:51.357Z"
   },
   {
    "duration": 3,
    "start_time": "2024-05-18T19:23:51.414Z"
   },
   {
    "duration": 12,
    "start_time": "2024-05-18T19:23:51.421Z"
   },
   {
    "duration": 16,
    "start_time": "2024-05-18T19:23:51.436Z"
   },
   {
    "duration": 14,
    "start_time": "2024-05-18T19:23:51.455Z"
   },
   {
    "duration": 52,
    "start_time": "2024-05-18T19:23:51.471Z"
   },
   {
    "duration": 18,
    "start_time": "2024-05-18T19:23:51.528Z"
   },
   {
    "duration": 2167,
    "start_time": "2024-05-18T19:23:51.550Z"
   },
   {
    "duration": 1391,
    "start_time": "2024-05-18T19:23:53.722Z"
   },
   {
    "duration": 0,
    "start_time": "2024-05-18T19:23:55.116Z"
   },
   {
    "duration": 0,
    "start_time": "2024-05-18T19:23:55.118Z"
   },
   {
    "duration": 0,
    "start_time": "2024-05-18T19:23:55.119Z"
   },
   {
    "duration": 6,
    "start_time": "2024-05-18T19:25:25.491Z"
   },
   {
    "duration": 2175,
    "start_time": "2024-05-18T19:25:36.509Z"
   },
   {
    "duration": 937,
    "start_time": "2024-05-18T19:25:40.515Z"
   },
   {
    "duration": 2016,
    "start_time": "2024-05-18T19:28:20.149Z"
   },
   {
    "duration": 1140,
    "start_time": "2024-05-18T19:28:47.873Z"
   },
   {
    "duration": 30,
    "start_time": "2024-05-18T19:28:57.146Z"
   },
   {
    "duration": 2059,
    "start_time": "2024-05-18T19:44:48.258Z"
   },
   {
    "duration": 2041,
    "start_time": "2024-05-18T19:45:19.328Z"
   },
   {
    "duration": 2095,
    "start_time": "2024-05-18T19:47:42.551Z"
   },
   {
    "duration": 2061,
    "start_time": "2024-05-18T19:48:01.275Z"
   },
   {
    "duration": 2039,
    "start_time": "2024-05-18T19:48:10.659Z"
   },
   {
    "duration": 857,
    "start_time": "2024-05-18T19:48:22.776Z"
   },
   {
    "duration": 2020,
    "start_time": "2024-05-18T19:48:30.789Z"
   },
   {
    "duration": 2020,
    "start_time": "2024-05-18T19:49:01.765Z"
   },
   {
    "duration": 2032,
    "start_time": "2024-05-18T19:49:21.076Z"
   },
   {
    "duration": 2050,
    "start_time": "2024-05-18T19:49:36.233Z"
   },
   {
    "duration": 2053,
    "start_time": "2024-05-18T19:49:47.829Z"
   },
   {
    "duration": 2076,
    "start_time": "2024-05-18T19:49:53.916Z"
   },
   {
    "duration": 8,
    "start_time": "2024-05-18T19:52:25.718Z"
   },
   {
    "duration": 1250,
    "start_time": "2024-05-18T21:22:17.012Z"
   },
   {
    "duration": 57,
    "start_time": "2024-05-18T21:22:18.266Z"
   },
   {
    "duration": 7,
    "start_time": "2024-05-18T21:22:18.326Z"
   },
   {
    "duration": 12,
    "start_time": "2024-05-18T21:22:18.336Z"
   },
   {
    "duration": 9,
    "start_time": "2024-05-18T21:22:18.353Z"
   },
   {
    "duration": 8,
    "start_time": "2024-05-18T21:22:18.365Z"
   },
   {
    "duration": 55,
    "start_time": "2024-05-18T21:22:18.377Z"
   },
   {
    "duration": 8,
    "start_time": "2024-05-18T21:22:18.436Z"
   },
   {
    "duration": 8,
    "start_time": "2024-05-18T21:22:18.448Z"
   },
   {
    "duration": 7,
    "start_time": "2024-05-18T21:22:18.459Z"
   },
   {
    "duration": 15,
    "start_time": "2024-05-18T21:22:18.469Z"
   },
   {
    "duration": 8,
    "start_time": "2024-05-18T21:22:18.531Z"
   },
   {
    "duration": 4,
    "start_time": "2024-05-18T21:22:18.543Z"
   },
   {
    "duration": 11,
    "start_time": "2024-05-18T21:22:18.553Z"
   },
   {
    "duration": 16,
    "start_time": "2024-05-18T21:22:18.567Z"
   },
   {
    "duration": 45,
    "start_time": "2024-05-18T21:22:18.587Z"
   },
   {
    "duration": 9,
    "start_time": "2024-05-18T21:22:18.635Z"
   },
   {
    "duration": 17,
    "start_time": "2024-05-18T21:22:18.647Z"
   },
   {
    "duration": 2125,
    "start_time": "2024-05-18T21:22:18.667Z"
   },
   {
    "duration": 894,
    "start_time": "2024-05-18T21:22:20.795Z"
   },
   {
    "duration": 2102,
    "start_time": "2024-05-18T21:22:21.692Z"
   },
   {
    "duration": 594,
    "start_time": "2024-05-18T21:22:23.799Z"
   },
   {
    "duration": 0,
    "start_time": "2024-05-18T21:22:24.400Z"
   },
   {
    "duration": 7,
    "start_time": "2024-05-18T21:22:39.840Z"
   },
   {
    "duration": 1181,
    "start_time": "2024-05-18T21:22:52.342Z"
   },
   {
    "duration": 1233,
    "start_time": "2024-05-19T01:45:59.154Z"
   },
   {
    "duration": 53,
    "start_time": "2024-05-19T01:46:00.393Z"
   },
   {
    "duration": 6,
    "start_time": "2024-05-19T01:46:00.449Z"
   },
   {
    "duration": 12,
    "start_time": "2024-05-19T01:46:00.459Z"
   },
   {
    "duration": 43,
    "start_time": "2024-05-19T01:46:00.474Z"
   },
   {
    "duration": 10,
    "start_time": "2024-05-19T01:46:00.520Z"
   },
   {
    "duration": 8,
    "start_time": "2024-05-19T01:46:00.533Z"
   },
   {
    "duration": 10,
    "start_time": "2024-05-19T01:46:00.545Z"
   },
   {
    "duration": 53,
    "start_time": "2024-05-19T01:46:00.558Z"
   },
   {
    "duration": 6,
    "start_time": "2024-05-19T01:46:00.619Z"
   },
   {
    "duration": 17,
    "start_time": "2024-05-19T01:46:00.629Z"
   },
   {
    "duration": 7,
    "start_time": "2024-05-19T01:46:00.650Z"
   },
   {
    "duration": 3,
    "start_time": "2024-05-19T01:46:00.661Z"
   },
   {
    "duration": 14,
    "start_time": "2024-05-19T01:46:00.711Z"
   },
   {
    "duration": 17,
    "start_time": "2024-05-19T01:46:00.728Z"
   },
   {
    "duration": 7,
    "start_time": "2024-05-19T01:46:00.748Z"
   },
   {
    "duration": 52,
    "start_time": "2024-05-19T01:46:00.759Z"
   },
   {
    "duration": 16,
    "start_time": "2024-05-19T01:46:00.817Z"
   },
   {
    "duration": 2146,
    "start_time": "2024-05-19T01:46:00.836Z"
   },
   {
    "duration": 918,
    "start_time": "2024-05-19T01:46:02.985Z"
   },
   {
    "duration": 2130,
    "start_time": "2024-05-19T01:46:03.909Z"
   },
   {
    "duration": 8,
    "start_time": "2024-05-19T01:46:06.043Z"
   },
   {
    "duration": 1187,
    "start_time": "2024-05-19T01:46:06.054Z"
   },
   {
    "duration": 514,
    "start_time": "2024-05-19T01:56:28.784Z"
   },
   {
    "duration": 41,
    "start_time": "2024-05-19T01:58:54.269Z"
   },
   {
    "duration": 39,
    "start_time": "2024-05-19T02:00:20.201Z"
   },
   {
    "duration": 1197,
    "start_time": "2024-05-19T05:49:53.365Z"
   },
   {
    "duration": 64,
    "start_time": "2024-05-19T05:49:54.566Z"
   },
   {
    "duration": 6,
    "start_time": "2024-05-19T05:49:54.633Z"
   },
   {
    "duration": 11,
    "start_time": "2024-05-19T05:49:54.644Z"
   },
   {
    "duration": 10,
    "start_time": "2024-05-19T05:49:54.657Z"
   },
   {
    "duration": 8,
    "start_time": "2024-05-19T05:49:54.703Z"
   },
   {
    "duration": 9,
    "start_time": "2024-05-19T05:49:54.714Z"
   },
   {
    "duration": 8,
    "start_time": "2024-05-19T05:49:54.726Z"
   },
   {
    "duration": 8,
    "start_time": "2024-05-19T05:49:54.736Z"
   },
   {
    "duration": 455,
    "start_time": "2024-05-19T05:49:54.752Z"
   },
   {
    "duration": 0,
    "start_time": "2024-05-19T05:49:55.210Z"
   },
   {
    "duration": 0,
    "start_time": "2024-05-19T05:49:55.212Z"
   },
   {
    "duration": 0,
    "start_time": "2024-05-19T05:49:55.214Z"
   },
   {
    "duration": 0,
    "start_time": "2024-05-19T05:49:55.222Z"
   },
   {
    "duration": 0,
    "start_time": "2024-05-19T05:49:55.223Z"
   },
   {
    "duration": 0,
    "start_time": "2024-05-19T05:49:55.225Z"
   },
   {
    "duration": 0,
    "start_time": "2024-05-19T05:49:55.226Z"
   },
   {
    "duration": 0,
    "start_time": "2024-05-19T05:49:55.228Z"
   },
   {
    "duration": 0,
    "start_time": "2024-05-19T05:49:55.230Z"
   },
   {
    "duration": 0,
    "start_time": "2024-05-19T05:49:55.231Z"
   },
   {
    "duration": 0,
    "start_time": "2024-05-19T05:49:55.233Z"
   },
   {
    "duration": 1,
    "start_time": "2024-05-19T05:49:55.234Z"
   },
   {
    "duration": 0,
    "start_time": "2024-05-19T05:49:55.237Z"
   },
   {
    "duration": 0,
    "start_time": "2024-05-19T05:49:55.238Z"
   },
   {
    "duration": 1097,
    "start_time": "2024-05-19T05:56:27.355Z"
   },
   {
    "duration": 104,
    "start_time": "2024-05-19T06:01:05.373Z"
   },
   {
    "duration": 4992,
    "start_time": "2024-05-19T06:03:52.384Z"
   },
   {
    "duration": 1545,
    "start_time": "2024-05-19T06:05:18.586Z"
   },
   {
    "duration": 46,
    "start_time": "2024-05-19T06:05:20.135Z"
   },
   {
    "duration": 17,
    "start_time": "2024-05-19T06:05:20.185Z"
   },
   {
    "duration": 12,
    "start_time": "2024-05-19T06:05:20.207Z"
   },
   {
    "duration": 11,
    "start_time": "2024-05-19T06:05:20.223Z"
   },
   {
    "duration": 11,
    "start_time": "2024-05-19T06:05:20.240Z"
   },
   {
    "duration": 8,
    "start_time": "2024-05-19T06:05:20.254Z"
   },
   {
    "duration": 8,
    "start_time": "2024-05-19T06:05:20.304Z"
   },
   {
    "duration": 9,
    "start_time": "2024-05-19T06:05:20.316Z"
   },
   {
    "duration": 1798,
    "start_time": "2024-05-19T06:06:01.819Z"
   },
   {
    "duration": 131,
    "start_time": "2024-05-19T06:06:03.622Z"
   },
   {
    "duration": 10,
    "start_time": "2024-05-19T06:06:03.758Z"
   },
   {
    "duration": 23,
    "start_time": "2024-05-19T06:06:03.777Z"
   },
   {
    "duration": 21,
    "start_time": "2024-05-19T06:06:03.803Z"
   },
   {
    "duration": 17,
    "start_time": "2024-05-19T06:06:03.830Z"
   },
   {
    "duration": 13,
    "start_time": "2024-05-19T06:06:03.853Z"
   },
   {
    "duration": 18,
    "start_time": "2024-05-19T06:06:03.869Z"
   },
   {
    "duration": 16,
    "start_time": "2024-05-19T06:06:03.890Z"
   },
   {
    "duration": 655,
    "start_time": "2024-05-19T06:06:03.914Z"
   },
   {
    "duration": 0,
    "start_time": "2024-05-19T06:06:04.580Z"
   },
   {
    "duration": 0,
    "start_time": "2024-05-19T06:06:04.590Z"
   },
   {
    "duration": 0,
    "start_time": "2024-05-19T06:06:04.596Z"
   },
   {
    "duration": 0,
    "start_time": "2024-05-19T06:06:04.604Z"
   },
   {
    "duration": 0,
    "start_time": "2024-05-19T06:06:04.607Z"
   },
   {
    "duration": 0,
    "start_time": "2024-05-19T06:06:04.612Z"
   },
   {
    "duration": 0,
    "start_time": "2024-05-19T06:06:04.614Z"
   },
   {
    "duration": 0,
    "start_time": "2024-05-19T06:06:04.621Z"
   },
   {
    "duration": 0,
    "start_time": "2024-05-19T06:06:04.623Z"
   },
   {
    "duration": 0,
    "start_time": "2024-05-19T06:06:04.625Z"
   },
   {
    "duration": 0,
    "start_time": "2024-05-19T06:06:04.631Z"
   },
   {
    "duration": 0,
    "start_time": "2024-05-19T06:06:04.635Z"
   },
   {
    "duration": 0,
    "start_time": "2024-05-19T06:06:04.643Z"
   },
   {
    "duration": 3,
    "start_time": "2024-05-19T06:06:04.646Z"
   },
   {
    "duration": 1065,
    "start_time": "2024-05-19T06:09:52.573Z"
   },
   {
    "duration": 1566,
    "start_time": "2024-05-19T06:10:05.527Z"
   },
   {
    "duration": 54,
    "start_time": "2024-05-19T06:10:07.096Z"
   },
   {
    "duration": 6,
    "start_time": "2024-05-19T06:10:07.153Z"
   },
   {
    "duration": 11,
    "start_time": "2024-05-19T06:10:07.164Z"
   },
   {
    "duration": 32,
    "start_time": "2024-05-19T06:10:07.177Z"
   },
   {
    "duration": 10,
    "start_time": "2024-05-19T06:10:07.212Z"
   },
   {
    "duration": 7,
    "start_time": "2024-05-19T06:10:07.225Z"
   },
   {
    "duration": 7,
    "start_time": "2024-05-19T06:10:07.235Z"
   },
   {
    "duration": 8,
    "start_time": "2024-05-19T06:10:07.245Z"
   },
   {
    "duration": 1689,
    "start_time": "2024-05-19T06:10:07.259Z"
   },
   {
    "duration": 0,
    "start_time": "2024-05-19T06:10:08.961Z"
   },
   {
    "duration": 0,
    "start_time": "2024-05-19T06:10:08.964Z"
   },
   {
    "duration": 0,
    "start_time": "2024-05-19T06:10:08.966Z"
   },
   {
    "duration": 0,
    "start_time": "2024-05-19T06:10:08.968Z"
   },
   {
    "duration": 0,
    "start_time": "2024-05-19T06:10:08.970Z"
   },
   {
    "duration": 0,
    "start_time": "2024-05-19T06:10:08.972Z"
   },
   {
    "duration": 0,
    "start_time": "2024-05-19T06:10:08.974Z"
   },
   {
    "duration": 0,
    "start_time": "2024-05-19T06:10:08.976Z"
   },
   {
    "duration": 0,
    "start_time": "2024-05-19T06:10:08.978Z"
   },
   {
    "duration": 0,
    "start_time": "2024-05-19T06:10:08.980Z"
   },
   {
    "duration": 1,
    "start_time": "2024-05-19T06:10:08.981Z"
   },
   {
    "duration": 0,
    "start_time": "2024-05-19T06:10:08.983Z"
   },
   {
    "duration": 0,
    "start_time": "2024-05-19T06:10:08.985Z"
   },
   {
    "duration": 0,
    "start_time": "2024-05-19T06:10:08.987Z"
   },
   {
    "duration": 1720,
    "start_time": "2024-05-19T06:15:54.982Z"
   },
   {
    "duration": 50,
    "start_time": "2024-05-19T06:15:56.711Z"
   },
   {
    "duration": 15,
    "start_time": "2024-05-19T06:15:56.763Z"
   },
   {
    "duration": 23,
    "start_time": "2024-05-19T06:15:56.784Z"
   },
   {
    "duration": 15,
    "start_time": "2024-05-19T06:15:56.813Z"
   },
   {
    "duration": 12,
    "start_time": "2024-05-19T06:15:56.832Z"
   },
   {
    "duration": 8,
    "start_time": "2024-05-19T06:15:56.848Z"
   },
   {
    "duration": 13,
    "start_time": "2024-05-19T06:15:56.861Z"
   },
   {
    "duration": 27,
    "start_time": "2024-05-19T06:15:56.877Z"
   },
   {
    "duration": 1613,
    "start_time": "2024-05-19T06:17:24.620Z"
   },
   {
    "duration": 49,
    "start_time": "2024-05-19T06:17:26.236Z"
   },
   {
    "duration": 13,
    "start_time": "2024-05-19T06:17:26.303Z"
   },
   {
    "duration": 24,
    "start_time": "2024-05-19T06:17:26.328Z"
   },
   {
    "duration": 11,
    "start_time": "2024-05-19T06:17:26.355Z"
   },
   {
    "duration": 12,
    "start_time": "2024-05-19T06:17:26.372Z"
   },
   {
    "duration": 7,
    "start_time": "2024-05-19T06:17:26.386Z"
   },
   {
    "duration": 22,
    "start_time": "2024-05-19T06:17:26.397Z"
   },
   {
    "duration": 17,
    "start_time": "2024-05-19T06:17:26.424Z"
   },
   {
    "duration": 260,
    "start_time": "2024-05-19T06:17:26.448Z"
   },
   {
    "duration": 12,
    "start_time": "2024-05-19T06:17:26.716Z"
   },
   {
    "duration": 19,
    "start_time": "2024-05-19T06:17:26.735Z"
   },
   {
    "duration": 8,
    "start_time": "2024-05-19T06:17:26.763Z"
   },
   {
    "duration": 6,
    "start_time": "2024-05-19T06:17:26.780Z"
   },
   {
    "duration": 87,
    "start_time": "2024-05-19T06:17:26.790Z"
   },
   {
    "duration": 26,
    "start_time": "2024-05-19T06:17:26.879Z"
   },
   {
    "duration": 12,
    "start_time": "2024-05-19T06:17:26.909Z"
   },
   {
    "duration": 8,
    "start_time": "2024-05-19T06:17:26.924Z"
   },
   {
    "duration": 17,
    "start_time": "2024-05-19T06:17:26.935Z"
   },
   {
    "duration": 2412,
    "start_time": "2024-05-19T06:17:26.956Z"
   },
   {
    "duration": 995,
    "start_time": "2024-05-19T06:17:29.371Z"
   },
   {
    "duration": 2125,
    "start_time": "2024-05-19T06:17:30.370Z"
   },
   {
    "duration": 12,
    "start_time": "2024-05-19T06:17:32.503Z"
   },
   {
    "duration": 1238,
    "start_time": "2024-05-19T06:17:32.519Z"
   },
   {
    "duration": 1673,
    "start_time": "2024-05-19T06:19:05.481Z"
   },
   {
    "duration": 58,
    "start_time": "2024-05-19T06:19:07.158Z"
   },
   {
    "duration": 7,
    "start_time": "2024-05-19T06:19:07.218Z"
   },
   {
    "duration": 12,
    "start_time": "2024-05-19T06:19:07.229Z"
   },
   {
    "duration": 9,
    "start_time": "2024-05-19T06:19:07.246Z"
   },
   {
    "duration": 46,
    "start_time": "2024-05-19T06:19:07.258Z"
   },
   {
    "duration": 14,
    "start_time": "2024-05-19T06:19:07.309Z"
   },
   {
    "duration": 11,
    "start_time": "2024-05-19T06:19:07.328Z"
   },
   {
    "duration": 12,
    "start_time": "2024-05-19T06:19:07.342Z"
   },
   {
    "duration": 335,
    "start_time": "2024-05-20T06:27:04.527Z"
   },
   {
    "duration": 21,
    "start_time": "2024-05-20T06:27:42.503Z"
   },
   {
    "duration": 4,
    "start_time": "2024-05-20T06:27:48.447Z"
   },
   {
    "duration": 5136,
    "start_time": "2024-05-20T06:28:01.390Z"
   },
   {
    "duration": 49,
    "start_time": "2024-05-20T06:28:06.530Z"
   },
   {
    "duration": 5,
    "start_time": "2024-05-20T06:28:06.582Z"
   },
   {
    "duration": 10,
    "start_time": "2024-05-20T06:28:06.609Z"
   },
   {
    "duration": 9,
    "start_time": "2024-05-20T06:28:06.622Z"
   },
   {
    "duration": 11,
    "start_time": "2024-05-20T06:28:06.634Z"
   },
   {
    "duration": 8,
    "start_time": "2024-05-20T06:28:06.648Z"
   },
   {
    "duration": 50,
    "start_time": "2024-05-20T06:28:06.659Z"
   },
   {
    "duration": 8,
    "start_time": "2024-05-20T06:28:06.712Z"
   },
   {
    "duration": 3,
    "start_time": "2024-05-20T06:28:06.727Z"
   },
   {
    "duration": 6,
    "start_time": "2024-05-20T06:28:06.734Z"
   },
   {
    "duration": 14,
    "start_time": "2024-05-20T06:28:06.743Z"
   },
   {
    "duration": 7,
    "start_time": "2024-05-20T06:28:06.808Z"
   },
   {
    "duration": 4,
    "start_time": "2024-05-20T06:28:06.818Z"
   },
   {
    "duration": 11,
    "start_time": "2024-05-20T06:28:06.825Z"
   },
   {
    "duration": 16,
    "start_time": "2024-05-20T06:28:06.839Z"
   },
   {
    "duration": 51,
    "start_time": "2024-05-20T06:28:06.857Z"
   },
   {
    "duration": 8,
    "start_time": "2024-05-20T06:28:06.911Z"
   },
   {
    "duration": 18,
    "start_time": "2024-05-20T06:28:06.922Z"
   },
   {
    "duration": 2107,
    "start_time": "2024-05-20T06:28:06.943Z"
   },
   {
    "duration": 888,
    "start_time": "2024-05-20T06:28:09.053Z"
   },
   {
    "duration": 2056,
    "start_time": "2024-05-20T06:28:09.945Z"
   },
   {
    "duration": 10,
    "start_time": "2024-05-20T06:28:12.004Z"
   },
   {
    "duration": 1170,
    "start_time": "2024-05-20T06:28:12.016Z"
   },
   {
    "duration": 1435,
    "start_time": "2024-05-20T06:38:27.048Z"
   },
   {
    "duration": 50,
    "start_time": "2024-05-20T06:38:28.486Z"
   },
   {
    "duration": 7,
    "start_time": "2024-05-20T06:38:28.539Z"
   },
   {
    "duration": 11,
    "start_time": "2024-05-20T06:38:28.550Z"
   },
   {
    "duration": 41,
    "start_time": "2024-05-20T06:38:28.567Z"
   },
   {
    "duration": 8,
    "start_time": "2024-05-20T06:38:28.611Z"
   },
   {
    "duration": 7,
    "start_time": "2024-05-20T06:38:28.622Z"
   },
   {
    "duration": 7,
    "start_time": "2024-05-20T06:38:28.632Z"
   },
   {
    "duration": 7,
    "start_time": "2024-05-20T06:38:28.643Z"
   },
   {
    "duration": 3,
    "start_time": "2024-05-20T06:38:28.657Z"
   },
   {
    "duration": 7,
    "start_time": "2024-05-20T06:38:28.711Z"
   },
   {
    "duration": 15,
    "start_time": "2024-05-20T06:38:28.722Z"
   },
   {
    "duration": 7,
    "start_time": "2024-05-20T06:38:28.740Z"
   },
   {
    "duration": 4,
    "start_time": "2024-05-20T06:38:28.750Z"
   },
   {
    "duration": 56,
    "start_time": "2024-05-20T06:38:28.757Z"
   },
   {
    "duration": 20,
    "start_time": "2024-05-20T06:38:28.820Z"
   },
   {
    "duration": 9,
    "start_time": "2024-05-20T06:38:28.845Z"
   },
   {
    "duration": 9,
    "start_time": "2024-05-20T06:38:28.857Z"
   },
   {
    "duration": 47,
    "start_time": "2024-05-20T06:38:28.869Z"
   },
   {
    "duration": 2164,
    "start_time": "2024-05-20T06:38:28.921Z"
   },
   {
    "duration": 895,
    "start_time": "2024-05-20T06:38:31.088Z"
   },
   {
    "duration": 2109,
    "start_time": "2024-05-20T06:38:31.986Z"
   },
   {
    "duration": 18,
    "start_time": "2024-05-20T06:38:34.098Z"
   },
   {
    "duration": 1178,
    "start_time": "2024-05-20T06:38:34.119Z"
   },
   {
    "duration": 5829,
    "start_time": "2024-05-20T12:14:11.332Z"
   },
   {
    "duration": 59,
    "start_time": "2024-05-20T12:14:17.165Z"
   },
   {
    "duration": 6,
    "start_time": "2024-05-20T12:14:17.227Z"
   },
   {
    "duration": 12,
    "start_time": "2024-05-20T12:14:17.235Z"
   },
   {
    "duration": 9,
    "start_time": "2024-05-20T12:14:17.253Z"
   },
   {
    "duration": 44,
    "start_time": "2024-05-20T12:14:17.264Z"
   },
   {
    "duration": 10,
    "start_time": "2024-05-20T12:14:17.311Z"
   },
   {
    "duration": 8,
    "start_time": "2024-05-20T12:14:17.324Z"
   },
   {
    "duration": 10,
    "start_time": "2024-05-20T12:14:17.337Z"
   },
   {
    "duration": 10,
    "start_time": "2024-05-20T12:14:17.350Z"
   },
   {
    "duration": 47,
    "start_time": "2024-05-20T12:14:17.365Z"
   },
   {
    "duration": 13,
    "start_time": "2024-05-20T12:14:17.414Z"
   },
   {
    "duration": 7,
    "start_time": "2024-05-20T12:14:17.430Z"
   },
   {
    "duration": 4,
    "start_time": "2024-05-20T12:14:17.444Z"
   },
   {
    "duration": 57,
    "start_time": "2024-05-20T12:14:17.451Z"
   },
   {
    "duration": 17,
    "start_time": "2024-05-20T12:14:17.512Z"
   },
   {
    "duration": 7,
    "start_time": "2024-05-20T12:14:17.531Z"
   },
   {
    "duration": 8,
    "start_time": "2024-05-20T12:14:17.541Z"
   },
   {
    "duration": 57,
    "start_time": "2024-05-20T12:14:17.552Z"
   },
   {
    "duration": 2071,
    "start_time": "2024-05-20T12:14:17.613Z"
   },
   {
    "duration": 889,
    "start_time": "2024-05-20T12:14:19.689Z"
   },
   {
    "duration": 2046,
    "start_time": "2024-05-20T12:14:20.582Z"
   },
   {
    "duration": 10,
    "start_time": "2024-05-20T12:14:22.631Z"
   },
   {
    "duration": 1161,
    "start_time": "2024-05-20T12:14:22.644Z"
   },
   {
    "duration": 391,
    "start_time": "2024-05-20T15:25:23.124Z"
   },
   {
    "duration": 5167,
    "start_time": "2024-05-20T15:25:45.873Z"
   },
   {
    "duration": 51,
    "start_time": "2024-05-20T15:25:51.044Z"
   },
   {
    "duration": 5,
    "start_time": "2024-05-20T15:25:51.098Z"
   },
   {
    "duration": 30,
    "start_time": "2024-05-20T15:25:51.107Z"
   },
   {
    "duration": 11,
    "start_time": "2024-05-20T15:25:51.141Z"
   },
   {
    "duration": 9,
    "start_time": "2024-05-20T15:25:51.155Z"
   },
   {
    "duration": 7,
    "start_time": "2024-05-20T15:25:51.168Z"
   },
   {
    "duration": 57,
    "start_time": "2024-05-20T15:25:51.178Z"
   },
   {
    "duration": 7,
    "start_time": "2024-05-20T15:25:51.238Z"
   },
   {
    "duration": 1435,
    "start_time": "2024-05-20T15:28:27.485Z"
   },
   {
    "duration": 51,
    "start_time": "2024-05-20T15:28:28.925Z"
   },
   {
    "duration": 6,
    "start_time": "2024-05-20T15:28:28.979Z"
   },
   {
    "duration": 11,
    "start_time": "2024-05-20T15:28:28.989Z"
   },
   {
    "duration": 36,
    "start_time": "2024-05-20T15:28:29.004Z"
   },
   {
    "duration": 10,
    "start_time": "2024-05-20T15:28:29.043Z"
   },
   {
    "duration": 7,
    "start_time": "2024-05-20T15:28:29.057Z"
   },
   {
    "duration": 7,
    "start_time": "2024-05-20T15:28:29.067Z"
   },
   {
    "duration": 53,
    "start_time": "2024-05-20T15:28:29.077Z"
   },
   {
    "duration": 0,
    "start_time": "2024-05-20T15:28:58.352Z"
   },
   {
    "duration": 0,
    "start_time": "2024-05-20T15:28:58.354Z"
   },
   {
    "duration": 0,
    "start_time": "2024-05-20T15:28:58.355Z"
   },
   {
    "duration": 0,
    "start_time": "2024-05-20T15:28:58.357Z"
   },
   {
    "duration": 0,
    "start_time": "2024-05-20T15:28:58.358Z"
   },
   {
    "duration": 0,
    "start_time": "2024-05-20T15:28:58.360Z"
   },
   {
    "duration": 0,
    "start_time": "2024-05-20T15:28:58.363Z"
   },
   {
    "duration": 0,
    "start_time": "2024-05-20T15:28:58.364Z"
   },
   {
    "duration": 0,
    "start_time": "2024-05-20T15:28:58.366Z"
   },
   {
    "duration": 0,
    "start_time": "2024-05-20T15:28:58.368Z"
   },
   {
    "duration": 0,
    "start_time": "2024-05-20T15:28:58.371Z"
   },
   {
    "duration": 0,
    "start_time": "2024-05-20T15:28:58.372Z"
   },
   {
    "duration": 0,
    "start_time": "2024-05-20T15:28:58.375Z"
   },
   {
    "duration": 0,
    "start_time": "2024-05-20T15:28:58.377Z"
   },
   {
    "duration": 0,
    "start_time": "2024-05-20T15:28:58.379Z"
   },
   {
    "duration": 15506,
    "start_time": "2024-05-20T15:29:04.045Z"
   },
   {
    "duration": 14,
    "start_time": "2024-05-20T15:30:19.357Z"
   },
   {
    "duration": 7,
    "start_time": "2024-05-20T15:36:38.058Z"
   },
   {
    "duration": 153564,
    "start_time": "2024-05-20T15:39:34.039Z"
   },
   {
    "duration": 151886,
    "start_time": "2024-05-20T15:43:38.322Z"
   },
   {
    "duration": 7,
    "start_time": "2024-05-20T15:54:51.120Z"
   },
   {
    "duration": 7,
    "start_time": "2024-05-20T15:55:24.185Z"
   },
   {
    "duration": 1388,
    "start_time": "2024-05-20T15:57:08.274Z"
   },
   {
    "duration": 42,
    "start_time": "2024-05-20T15:57:09.666Z"
   },
   {
    "duration": 17,
    "start_time": "2024-05-20T15:57:09.712Z"
   },
   {
    "duration": 11,
    "start_time": "2024-05-20T15:57:09.734Z"
   },
   {
    "duration": 12,
    "start_time": "2024-05-20T15:57:09.747Z"
   },
   {
    "duration": 8,
    "start_time": "2024-05-20T15:57:09.761Z"
   },
   {
    "duration": 8,
    "start_time": "2024-05-20T15:57:09.772Z"
   },
   {
    "duration": 52,
    "start_time": "2024-05-20T15:57:09.783Z"
   },
   {
    "duration": 8,
    "start_time": "2024-05-20T15:57:09.837Z"
   },
   {
    "duration": 14,
    "start_time": "2024-05-20T15:57:09.851Z"
   },
   {
    "duration": 87920,
    "start_time": "2024-05-20T15:57:09.867Z"
   },
   {
    "duration": 0,
    "start_time": "2024-05-20T15:58:37.790Z"
   },
   {
    "duration": 0,
    "start_time": "2024-05-20T15:58:37.792Z"
   },
   {
    "duration": 0,
    "start_time": "2024-05-20T15:58:37.794Z"
   },
   {
    "duration": 0,
    "start_time": "2024-05-20T15:58:37.796Z"
   },
   {
    "duration": 0,
    "start_time": "2024-05-20T15:58:37.798Z"
   },
   {
    "duration": 0,
    "start_time": "2024-05-20T15:58:37.800Z"
   },
   {
    "duration": 0,
    "start_time": "2024-05-20T15:58:37.802Z"
   },
   {
    "duration": 0,
    "start_time": "2024-05-20T15:58:37.831Z"
   },
   {
    "duration": 0,
    "start_time": "2024-05-20T15:58:37.836Z"
   },
   {
    "duration": 0,
    "start_time": "2024-05-20T15:58:37.839Z"
   },
   {
    "duration": 0,
    "start_time": "2024-05-20T15:58:37.841Z"
   },
   {
    "duration": 0,
    "start_time": "2024-05-20T15:58:37.844Z"
   },
   {
    "duration": 0,
    "start_time": "2024-05-20T15:58:37.846Z"
   },
   {
    "duration": 0,
    "start_time": "2024-05-20T15:58:37.849Z"
   },
   {
    "duration": 164,
    "start_time": "2024-05-20T16:05:40.279Z"
   },
   {
    "duration": 5262,
    "start_time": "2024-05-20T17:52:28.703Z"
   },
   {
    "duration": 55,
    "start_time": "2024-05-20T17:52:33.968Z"
   },
   {
    "duration": 6,
    "start_time": "2024-05-20T17:52:34.026Z"
   },
   {
    "duration": 12,
    "start_time": "2024-05-20T17:52:34.036Z"
   },
   {
    "duration": 11,
    "start_time": "2024-05-20T17:52:34.050Z"
   },
   {
    "duration": 41,
    "start_time": "2024-05-20T17:52:34.064Z"
   },
   {
    "duration": 7,
    "start_time": "2024-05-20T17:52:34.109Z"
   },
   {
    "duration": 8,
    "start_time": "2024-05-20T17:52:34.119Z"
   },
   {
    "duration": 8,
    "start_time": "2024-05-20T17:52:34.130Z"
   },
   {
    "duration": 64,
    "start_time": "2024-05-20T17:52:34.143Z"
   },
   {
    "duration": 195,
    "start_time": "2024-05-20T17:52:34.210Z"
   },
   {
    "duration": 6,
    "start_time": "2024-05-20T17:52:34.409Z"
   },
   {
    "duration": 13,
    "start_time": "2024-05-20T17:52:34.419Z"
   },
   {
    "duration": 7,
    "start_time": "2024-05-20T17:52:34.434Z"
   },
   {
    "duration": 3,
    "start_time": "2024-05-20T17:52:34.444Z"
   },
   {
    "duration": 57,
    "start_time": "2024-05-20T17:52:34.451Z"
   },
   {
    "duration": 15,
    "start_time": "2024-05-20T17:52:34.511Z"
   },
   {
    "duration": 6,
    "start_time": "2024-05-20T17:52:34.529Z"
   },
   {
    "duration": 8,
    "start_time": "2024-05-20T17:52:34.538Z"
   },
   {
    "duration": 52,
    "start_time": "2024-05-20T17:52:34.549Z"
   },
   {
    "duration": 2115,
    "start_time": "2024-05-20T17:52:34.604Z"
   },
   {
    "duration": 895,
    "start_time": "2024-05-20T17:52:36.722Z"
   },
   {
    "duration": 2086,
    "start_time": "2024-05-20T17:52:37.621Z"
   },
   {
    "duration": 10,
    "start_time": "2024-05-20T17:52:39.710Z"
   },
   {
    "duration": 1170,
    "start_time": "2024-05-20T17:52:39.723Z"
   },
   {
    "duration": 5,
    "start_time": "2024-05-20T17:55:30.663Z"
   },
   {
    "duration": 6,
    "start_time": "2024-05-20T17:55:39.433Z"
   },
   {
    "duration": 2129,
    "start_time": "2024-05-20T18:10:03.686Z"
   },
   {
    "duration": 2069,
    "start_time": "2024-05-20T18:26:02.192Z"
   },
   {
    "duration": 2059,
    "start_time": "2024-05-20T18:30:13.243Z"
   },
   {
    "duration": 8,
    "start_time": "2024-05-20T18:33:14.785Z"
   },
   {
    "duration": 31,
    "start_time": "2024-05-20T18:33:45.724Z"
   },
   {
    "duration": 2002,
    "start_time": "2024-05-20T18:35:19.470Z"
   },
   {
    "duration": 1997,
    "start_time": "2024-05-20T18:36:14.119Z"
   },
   {
    "duration": 502,
    "start_time": "2024-05-20T18:50:42.158Z"
   },
   {
    "duration": 28,
    "start_time": "2024-05-20T19:07:02.278Z"
   },
   {
    "duration": 15997,
    "start_time": "2024-05-20T19:14:54.590Z"
   },
   {
    "duration": 42,
    "start_time": "2024-05-20T19:15:29.818Z"
   },
   {
    "duration": 2425,
    "start_time": "2024-05-20T19:15:41.810Z"
   },
   {
    "duration": 1922,
    "start_time": "2024-05-20T19:15:44.239Z"
   },
   {
    "duration": 0,
    "start_time": "2024-05-20T19:15:46.165Z"
   },
   {
    "duration": 0,
    "start_time": "2024-05-20T19:15:46.167Z"
   },
   {
    "duration": 0,
    "start_time": "2024-05-20T19:15:46.169Z"
   },
   {
    "duration": 0,
    "start_time": "2024-05-20T19:15:46.171Z"
   },
   {
    "duration": 0,
    "start_time": "2024-05-20T19:15:46.173Z"
   },
   {
    "duration": 0,
    "start_time": "2024-05-20T19:15:46.175Z"
   },
   {
    "duration": 0,
    "start_time": "2024-05-20T19:15:46.178Z"
   },
   {
    "duration": 0,
    "start_time": "2024-05-20T19:15:46.179Z"
   },
   {
    "duration": 0,
    "start_time": "2024-05-20T19:15:46.181Z"
   },
   {
    "duration": 0,
    "start_time": "2024-05-20T19:15:46.203Z"
   },
   {
    "duration": 0,
    "start_time": "2024-05-20T19:15:46.208Z"
   },
   {
    "duration": 0,
    "start_time": "2024-05-20T19:15:46.210Z"
   },
   {
    "duration": 0,
    "start_time": "2024-05-20T19:15:46.213Z"
   },
   {
    "duration": 0,
    "start_time": "2024-05-20T19:15:46.215Z"
   },
   {
    "duration": 0,
    "start_time": "2024-05-20T19:15:46.218Z"
   },
   {
    "duration": 0,
    "start_time": "2024-05-20T19:15:46.221Z"
   },
   {
    "duration": 0,
    "start_time": "2024-05-20T19:15:46.223Z"
   },
   {
    "duration": 0,
    "start_time": "2024-05-20T19:15:46.225Z"
   },
   {
    "duration": 0,
    "start_time": "2024-05-20T19:15:46.229Z"
   },
   {
    "duration": 0,
    "start_time": "2024-05-20T19:15:46.231Z"
   },
   {
    "duration": 0,
    "start_time": "2024-05-20T19:15:46.234Z"
   },
   {
    "duration": 0,
    "start_time": "2024-05-20T19:15:46.236Z"
   },
   {
    "duration": 0,
    "start_time": "2024-05-20T19:15:46.239Z"
   },
   {
    "duration": 0,
    "start_time": "2024-05-20T19:15:46.240Z"
   },
   {
    "duration": 0,
    "start_time": "2024-05-20T19:15:46.242Z"
   },
   {
    "duration": 31,
    "start_time": "2024-05-20T19:15:58.457Z"
   },
   {
    "duration": 30,
    "start_time": "2024-05-20T19:17:32.822Z"
   },
   {
    "duration": 27,
    "start_time": "2024-05-20T19:17:38.317Z"
   },
   {
    "duration": 2614,
    "start_time": "2024-05-20T19:18:24.915Z"
   },
   {
    "duration": 31,
    "start_time": "2024-05-20T19:18:33.028Z"
   },
   {
    "duration": 2409,
    "start_time": "2024-05-20T19:18:38.754Z"
   },
   {
    "duration": 1929,
    "start_time": "2024-05-20T19:18:41.168Z"
   },
   {
    "duration": 0,
    "start_time": "2024-05-20T19:18:43.102Z"
   },
   {
    "duration": 0,
    "start_time": "2024-05-20T19:18:43.104Z"
   },
   {
    "duration": 1,
    "start_time": "2024-05-20T19:18:43.107Z"
   },
   {
    "duration": 0,
    "start_time": "2024-05-20T19:18:43.110Z"
   },
   {
    "duration": 0,
    "start_time": "2024-05-20T19:18:43.113Z"
   },
   {
    "duration": 0,
    "start_time": "2024-05-20T19:18:43.115Z"
   },
   {
    "duration": 0,
    "start_time": "2024-05-20T19:18:43.118Z"
   },
   {
    "duration": 0,
    "start_time": "2024-05-20T19:18:43.121Z"
   },
   {
    "duration": 0,
    "start_time": "2024-05-20T19:18:43.124Z"
   },
   {
    "duration": 0,
    "start_time": "2024-05-20T19:18:43.126Z"
   },
   {
    "duration": 0,
    "start_time": "2024-05-20T19:18:43.129Z"
   },
   {
    "duration": 0,
    "start_time": "2024-05-20T19:18:43.130Z"
   },
   {
    "duration": 0,
    "start_time": "2024-05-20T19:18:43.133Z"
   },
   {
    "duration": 0,
    "start_time": "2024-05-20T19:18:43.136Z"
   },
   {
    "duration": 0,
    "start_time": "2024-05-20T19:18:43.138Z"
   },
   {
    "duration": 0,
    "start_time": "2024-05-20T19:18:43.141Z"
   },
   {
    "duration": 0,
    "start_time": "2024-05-20T19:18:43.142Z"
   },
   {
    "duration": 0,
    "start_time": "2024-05-20T19:18:43.202Z"
   },
   {
    "duration": 0,
    "start_time": "2024-05-20T19:18:43.205Z"
   },
   {
    "duration": 0,
    "start_time": "2024-05-20T19:18:43.208Z"
   },
   {
    "duration": 0,
    "start_time": "2024-05-20T19:18:43.210Z"
   },
   {
    "duration": 0,
    "start_time": "2024-05-20T19:18:43.212Z"
   },
   {
    "duration": 0,
    "start_time": "2024-05-20T19:18:43.215Z"
   },
   {
    "duration": 0,
    "start_time": "2024-05-20T19:18:43.217Z"
   },
   {
    "duration": 0,
    "start_time": "2024-05-20T19:18:43.219Z"
   },
   {
    "duration": 2454,
    "start_time": "2024-05-20T19:18:53.200Z"
   },
   {
    "duration": 31,
    "start_time": "2024-05-20T19:18:56.153Z"
   },
   {
    "duration": 1092,
    "start_time": "2024-05-20T19:20:20.836Z"
   },
   {
    "duration": 2400,
    "start_time": "2024-05-20T19:20:32.803Z"
   },
   {
    "duration": 2527,
    "start_time": "2024-05-20T19:21:31.005Z"
   },
   {
    "duration": 34,
    "start_time": "2024-05-20T19:21:40.938Z"
   },
   {
    "duration": 2518,
    "start_time": "2024-05-20T19:21:47.991Z"
   },
   {
    "duration": 2031,
    "start_time": "2024-05-20T19:21:50.513Z"
   },
   {
    "duration": 0,
    "start_time": "2024-05-20T19:21:52.549Z"
   },
   {
    "duration": 0,
    "start_time": "2024-05-20T19:21:52.552Z"
   },
   {
    "duration": 0,
    "start_time": "2024-05-20T19:21:52.554Z"
   },
   {
    "duration": 0,
    "start_time": "2024-05-20T19:21:52.557Z"
   },
   {
    "duration": 0,
    "start_time": "2024-05-20T19:21:52.559Z"
   },
   {
    "duration": 0,
    "start_time": "2024-05-20T19:21:52.561Z"
   },
   {
    "duration": 0,
    "start_time": "2024-05-20T19:21:52.564Z"
   },
   {
    "duration": 0,
    "start_time": "2024-05-20T19:21:52.565Z"
   },
   {
    "duration": 0,
    "start_time": "2024-05-20T19:21:52.568Z"
   },
   {
    "duration": 0,
    "start_time": "2024-05-20T19:21:52.570Z"
   },
   {
    "duration": 0,
    "start_time": "2024-05-20T19:21:52.602Z"
   },
   {
    "duration": 0,
    "start_time": "2024-05-20T19:21:52.604Z"
   },
   {
    "duration": 0,
    "start_time": "2024-05-20T19:21:52.607Z"
   },
   {
    "duration": 0,
    "start_time": "2024-05-20T19:21:52.608Z"
   },
   {
    "duration": 0,
    "start_time": "2024-05-20T19:21:52.610Z"
   },
   {
    "duration": 0,
    "start_time": "2024-05-20T19:21:52.612Z"
   },
   {
    "duration": 0,
    "start_time": "2024-05-20T19:21:52.614Z"
   },
   {
    "duration": 0,
    "start_time": "2024-05-20T19:21:52.616Z"
   },
   {
    "duration": 0,
    "start_time": "2024-05-20T19:21:52.619Z"
   },
   {
    "duration": 0,
    "start_time": "2024-05-20T19:21:52.621Z"
   },
   {
    "duration": 0,
    "start_time": "2024-05-20T19:21:52.622Z"
   },
   {
    "duration": 0,
    "start_time": "2024-05-20T19:21:52.624Z"
   },
   {
    "duration": 0,
    "start_time": "2024-05-20T19:21:52.627Z"
   },
   {
    "duration": 0,
    "start_time": "2024-05-20T19:21:52.629Z"
   },
   {
    "duration": 0,
    "start_time": "2024-05-20T19:21:52.630Z"
   },
   {
    "duration": 28,
    "start_time": "2024-05-20T19:22:03.135Z"
   },
   {
    "duration": 2618,
    "start_time": "2024-05-20T19:22:27.378Z"
   },
   {
    "duration": 1999,
    "start_time": "2024-05-20T19:22:30.725Z"
   },
   {
    "duration": 60070,
    "start_time": "2024-05-20T19:24:54.814Z"
   },
   {
    "duration": 33,
    "start_time": "2024-05-20T19:26:01.947Z"
   },
   {
    "duration": 16020,
    "start_time": "2024-05-20T19:26:19.490Z"
   },
   {
    "duration": 1988,
    "start_time": "2024-05-20T19:26:35.514Z"
   },
   {
    "duration": 0,
    "start_time": "2024-05-20T19:26:37.506Z"
   },
   {
    "duration": 0,
    "start_time": "2024-05-20T19:26:37.508Z"
   },
   {
    "duration": 0,
    "start_time": "2024-05-20T19:26:37.510Z"
   },
   {
    "duration": 0,
    "start_time": "2024-05-20T19:26:37.512Z"
   },
   {
    "duration": 0,
    "start_time": "2024-05-20T19:26:37.515Z"
   },
   {
    "duration": 0,
    "start_time": "2024-05-20T19:26:37.517Z"
   },
   {
    "duration": 0,
    "start_time": "2024-05-20T19:26:37.519Z"
   },
   {
    "duration": 0,
    "start_time": "2024-05-20T19:26:37.521Z"
   },
   {
    "duration": 0,
    "start_time": "2024-05-20T19:26:37.523Z"
   },
   {
    "duration": 0,
    "start_time": "2024-05-20T19:26:37.525Z"
   },
   {
    "duration": 0,
    "start_time": "2024-05-20T19:26:37.529Z"
   },
   {
    "duration": 0,
    "start_time": "2024-05-20T19:26:37.532Z"
   },
   {
    "duration": 0,
    "start_time": "2024-05-20T19:26:37.533Z"
   },
   {
    "duration": 0,
    "start_time": "2024-05-20T19:26:37.535Z"
   },
   {
    "duration": 0,
    "start_time": "2024-05-20T19:26:37.538Z"
   },
   {
    "duration": 0,
    "start_time": "2024-05-20T19:26:37.540Z"
   },
   {
    "duration": 0,
    "start_time": "2024-05-20T19:26:37.542Z"
   },
   {
    "duration": 0,
    "start_time": "2024-05-20T19:26:37.544Z"
   },
   {
    "duration": 0,
    "start_time": "2024-05-20T19:26:37.602Z"
   },
   {
    "duration": 0,
    "start_time": "2024-05-20T19:26:37.604Z"
   },
   {
    "duration": 0,
    "start_time": "2024-05-20T19:26:37.606Z"
   },
   {
    "duration": 0,
    "start_time": "2024-05-20T19:26:37.608Z"
   },
   {
    "duration": 0,
    "start_time": "2024-05-20T19:26:37.610Z"
   },
   {
    "duration": 0,
    "start_time": "2024-05-20T19:26:37.612Z"
   },
   {
    "duration": 1,
    "start_time": "2024-05-20T19:26:37.613Z"
   },
   {
    "duration": 27,
    "start_time": "2024-05-20T19:27:18.965Z"
   },
   {
    "duration": 16461,
    "start_time": "2024-05-20T19:27:29.201Z"
   },
   {
    "duration": 30,
    "start_time": "2024-05-20T19:27:45.667Z"
   },
   {
    "duration": 26,
    "start_time": "2024-05-20T19:27:58.588Z"
   },
   {
    "duration": 27,
    "start_time": "2024-05-20T19:31:04.698Z"
   },
   {
    "duration": 5,
    "start_time": "2024-05-20T19:31:24.026Z"
   },
   {
    "duration": 26,
    "start_time": "2024-05-20T19:31:29.452Z"
   },
   {
    "duration": 30,
    "start_time": "2024-05-20T19:33:57.892Z"
   },
   {
    "duration": 26,
    "start_time": "2024-05-20T19:34:04.341Z"
   },
   {
    "duration": 25,
    "start_time": "2024-05-20T19:34:11.629Z"
   },
   {
    "duration": 30,
    "start_time": "2024-05-20T19:36:22.227Z"
   },
   {
    "duration": 2503,
    "start_time": "2024-05-20T19:37:44.230Z"
   },
   {
    "duration": 32,
    "start_time": "2024-05-20T19:37:54.069Z"
   },
   {
    "duration": 27,
    "start_time": "2024-05-20T19:38:15.820Z"
   },
   {
    "duration": 2900,
    "start_time": "2024-05-20T19:40:31.803Z"
   },
   {
    "duration": 2399,
    "start_time": "2024-05-20T19:40:45.756Z"
   },
   {
    "duration": 1976,
    "start_time": "2024-05-20T19:40:48.160Z"
   },
   {
    "duration": 0,
    "start_time": "2024-05-20T19:40:50.140Z"
   },
   {
    "duration": 0,
    "start_time": "2024-05-20T19:40:50.142Z"
   },
   {
    "duration": 0,
    "start_time": "2024-05-20T19:40:50.144Z"
   },
   {
    "duration": 0,
    "start_time": "2024-05-20T19:40:50.146Z"
   },
   {
    "duration": 0,
    "start_time": "2024-05-20T19:40:50.149Z"
   },
   {
    "duration": 0,
    "start_time": "2024-05-20T19:40:50.152Z"
   },
   {
    "duration": 0,
    "start_time": "2024-05-20T19:40:50.155Z"
   },
   {
    "duration": 0,
    "start_time": "2024-05-20T19:40:50.158Z"
   },
   {
    "duration": 0,
    "start_time": "2024-05-20T19:40:50.161Z"
   },
   {
    "duration": 0,
    "start_time": "2024-05-20T19:40:50.164Z"
   },
   {
    "duration": 0,
    "start_time": "2024-05-20T19:40:50.202Z"
   },
   {
    "duration": 0,
    "start_time": "2024-05-20T19:40:50.204Z"
   },
   {
    "duration": 0,
    "start_time": "2024-05-20T19:40:50.206Z"
   },
   {
    "duration": 0,
    "start_time": "2024-05-20T19:40:50.209Z"
   },
   {
    "duration": 0,
    "start_time": "2024-05-20T19:40:50.210Z"
   },
   {
    "duration": 0,
    "start_time": "2024-05-20T19:40:50.212Z"
   },
   {
    "duration": 0,
    "start_time": "2024-05-20T19:40:50.214Z"
   },
   {
    "duration": 0,
    "start_time": "2024-05-20T19:40:50.215Z"
   },
   {
    "duration": 0,
    "start_time": "2024-05-20T19:40:50.217Z"
   },
   {
    "duration": 0,
    "start_time": "2024-05-20T19:40:50.219Z"
   },
   {
    "duration": 0,
    "start_time": "2024-05-20T19:40:50.221Z"
   },
   {
    "duration": 0,
    "start_time": "2024-05-20T19:40:50.223Z"
   },
   {
    "duration": 0,
    "start_time": "2024-05-20T19:40:50.226Z"
   },
   {
    "duration": 0,
    "start_time": "2024-05-20T19:40:50.228Z"
   },
   {
    "duration": 0,
    "start_time": "2024-05-20T19:40:50.230Z"
   },
   {
    "duration": 0,
    "start_time": "2024-05-20T19:40:50.233Z"
   },
   {
    "duration": 26,
    "start_time": "2024-05-20T19:41:03.015Z"
   },
   {
    "duration": 22,
    "start_time": "2024-05-20T19:41:06.470Z"
   },
   {
    "duration": 27,
    "start_time": "2024-05-20T19:41:10.931Z"
   },
   {
    "duration": 2951,
    "start_time": "2024-05-20T19:41:28.601Z"
   },
   {
    "duration": 31,
    "start_time": "2024-05-20T19:41:39.683Z"
   },
   {
    "duration": 29,
    "start_time": "2024-05-20T19:41:45.562Z"
   },
   {
    "duration": 2433,
    "start_time": "2024-05-20T19:42:59.154Z"
   },
   {
    "duration": 31,
    "start_time": "2024-05-20T19:43:06.912Z"
   },
   {
    "duration": 27,
    "start_time": "2024-05-20T19:43:11.365Z"
   },
   {
    "duration": 2428,
    "start_time": "2024-05-20T19:44:45.276Z"
   },
   {
    "duration": 1970,
    "start_time": "2024-05-20T19:44:47.709Z"
   },
   {
    "duration": 0,
    "start_time": "2024-05-20T19:44:49.684Z"
   },
   {
    "duration": 0,
    "start_time": "2024-05-20T19:44:49.685Z"
   },
   {
    "duration": 0,
    "start_time": "2024-05-20T19:44:49.688Z"
   },
   {
    "duration": 0,
    "start_time": "2024-05-20T19:44:49.690Z"
   },
   {
    "duration": 0,
    "start_time": "2024-05-20T19:44:49.691Z"
   },
   {
    "duration": 0,
    "start_time": "2024-05-20T19:44:49.701Z"
   },
   {
    "duration": 0,
    "start_time": "2024-05-20T19:44:49.704Z"
   },
   {
    "duration": 0,
    "start_time": "2024-05-20T19:44:49.706Z"
   },
   {
    "duration": 0,
    "start_time": "2024-05-20T19:44:49.708Z"
   },
   {
    "duration": 0,
    "start_time": "2024-05-20T19:44:49.710Z"
   },
   {
    "duration": 0,
    "start_time": "2024-05-20T19:44:49.712Z"
   },
   {
    "duration": 0,
    "start_time": "2024-05-20T19:44:49.715Z"
   },
   {
    "duration": 0,
    "start_time": "2024-05-20T19:44:49.717Z"
   },
   {
    "duration": 0,
    "start_time": "2024-05-20T19:44:49.720Z"
   },
   {
    "duration": 0,
    "start_time": "2024-05-20T19:44:49.722Z"
   },
   {
    "duration": 0,
    "start_time": "2024-05-20T19:44:49.724Z"
   },
   {
    "duration": 0,
    "start_time": "2024-05-20T19:44:49.727Z"
   },
   {
    "duration": 0,
    "start_time": "2024-05-20T19:44:49.729Z"
   },
   {
    "duration": 0,
    "start_time": "2024-05-20T19:44:49.731Z"
   },
   {
    "duration": 0,
    "start_time": "2024-05-20T19:44:49.732Z"
   },
   {
    "duration": 0,
    "start_time": "2024-05-20T19:44:49.735Z"
   },
   {
    "duration": 0,
    "start_time": "2024-05-20T19:44:49.737Z"
   },
   {
    "duration": 0,
    "start_time": "2024-05-20T19:44:49.740Z"
   },
   {
    "duration": 0,
    "start_time": "2024-05-20T19:44:49.742Z"
   },
   {
    "duration": 0,
    "start_time": "2024-05-20T19:44:49.802Z"
   },
   {
    "duration": 0,
    "start_time": "2024-05-20T19:44:49.804Z"
   },
   {
    "duration": 27,
    "start_time": "2024-05-20T19:45:05.157Z"
   },
   {
    "duration": 4923,
    "start_time": "2024-05-20T19:46:29.145Z"
   },
   {
    "duration": 33,
    "start_time": "2024-05-20T19:46:40.577Z"
   },
   {
    "duration": 2923,
    "start_time": "2024-05-20T19:47:28.695Z"
   },
   {
    "duration": 37,
    "start_time": "2024-05-20T19:47:45.942Z"
   },
   {
    "duration": 30,
    "start_time": "2024-05-20T19:48:11.518Z"
   },
   {
    "duration": 27,
    "start_time": "2024-05-20T19:49:59.766Z"
   },
   {
    "duration": 2645,
    "start_time": "2024-05-20T19:50:10.805Z"
   },
   {
    "duration": 2322,
    "start_time": "2024-05-20T19:50:13.455Z"
   },
   {
    "duration": 1911,
    "start_time": "2024-05-20T19:50:15.781Z"
   },
   {
    "duration": 0,
    "start_time": "2024-05-20T19:50:17.697Z"
   },
   {
    "duration": 0,
    "start_time": "2024-05-20T19:50:17.702Z"
   },
   {
    "duration": 0,
    "start_time": "2024-05-20T19:50:17.705Z"
   },
   {
    "duration": 0,
    "start_time": "2024-05-20T19:50:17.708Z"
   },
   {
    "duration": 0,
    "start_time": "2024-05-20T19:50:17.710Z"
   },
   {
    "duration": 0,
    "start_time": "2024-05-20T19:50:17.712Z"
   },
   {
    "duration": 0,
    "start_time": "2024-05-20T19:50:17.715Z"
   },
   {
    "duration": 0,
    "start_time": "2024-05-20T19:50:17.717Z"
   },
   {
    "duration": 0,
    "start_time": "2024-05-20T19:50:17.719Z"
   },
   {
    "duration": 0,
    "start_time": "2024-05-20T19:50:17.722Z"
   },
   {
    "duration": 0,
    "start_time": "2024-05-20T19:50:17.725Z"
   },
   {
    "duration": 0,
    "start_time": "2024-05-20T19:50:17.728Z"
   },
   {
    "duration": 0,
    "start_time": "2024-05-20T19:50:17.730Z"
   },
   {
    "duration": 0,
    "start_time": "2024-05-20T19:50:17.731Z"
   },
   {
    "duration": 0,
    "start_time": "2024-05-20T19:50:17.733Z"
   },
   {
    "duration": 0,
    "start_time": "2024-05-20T19:50:17.736Z"
   },
   {
    "duration": 0,
    "start_time": "2024-05-20T19:50:17.738Z"
   },
   {
    "duration": 0,
    "start_time": "2024-05-20T19:50:17.739Z"
   },
   {
    "duration": 0,
    "start_time": "2024-05-20T19:50:17.741Z"
   },
   {
    "duration": 0,
    "start_time": "2024-05-20T19:50:17.802Z"
   },
   {
    "duration": 0,
    "start_time": "2024-05-20T19:50:17.804Z"
   },
   {
    "duration": 0,
    "start_time": "2024-05-20T19:50:17.806Z"
   },
   {
    "duration": 0,
    "start_time": "2024-05-20T19:50:17.810Z"
   },
   {
    "duration": 0,
    "start_time": "2024-05-20T19:50:17.812Z"
   },
   {
    "duration": 0,
    "start_time": "2024-05-20T19:50:17.815Z"
   },
   {
    "duration": 2573,
    "start_time": "2024-05-20T19:50:47.185Z"
   },
   {
    "duration": 2397,
    "start_time": "2024-05-20T19:50:49.762Z"
   },
   {
    "duration": 1396,
    "start_time": "2024-05-20T19:50:52.161Z"
   },
   {
    "duration": 46,
    "start_time": "2024-05-20T19:50:53.561Z"
   },
   {
    "duration": 5,
    "start_time": "2024-05-20T19:50:53.612Z"
   },
   {
    "duration": 10,
    "start_time": "2024-05-20T19:50:53.621Z"
   },
   {
    "duration": 10,
    "start_time": "2024-05-20T19:50:53.634Z"
   },
   {
    "duration": 8,
    "start_time": "2024-05-20T19:50:53.647Z"
   },
   {
    "duration": 7,
    "start_time": "2024-05-20T19:50:53.702Z"
   },
   {
    "duration": 8,
    "start_time": "2024-05-20T19:50:53.711Z"
   },
   {
    "duration": 8,
    "start_time": "2024-05-20T19:50:53.722Z"
   },
   {
    "duration": 14,
    "start_time": "2024-05-20T19:50:53.733Z"
   },
   {
    "duration": 301,
    "start_time": "2024-05-20T19:50:53.751Z"
   },
   {
    "duration": 6,
    "start_time": "2024-05-20T19:50:54.059Z"
   },
   {
    "duration": 36,
    "start_time": "2024-05-20T19:50:54.068Z"
   },
   {
    "duration": 7,
    "start_time": "2024-05-20T19:50:54.107Z"
   },
   {
    "duration": 5,
    "start_time": "2024-05-20T19:50:54.116Z"
   },
   {
    "duration": 11,
    "start_time": "2024-05-20T19:50:54.125Z"
   },
   {
    "duration": 16,
    "start_time": "2024-05-20T19:50:54.139Z"
   },
   {
    "duration": 45,
    "start_time": "2024-05-20T19:50:54.158Z"
   },
   {
    "duration": 8,
    "start_time": "2024-05-20T19:50:54.206Z"
   },
   {
    "duration": 16,
    "start_time": "2024-05-20T19:50:54.217Z"
   },
   {
    "duration": 2159,
    "start_time": "2024-05-20T19:50:54.237Z"
   },
   {
    "duration": 32,
    "start_time": "2024-05-20T19:50:56.403Z"
   },
   {
    "duration": 2046,
    "start_time": "2024-05-20T19:50:56.439Z"
   },
   {
    "duration": 18,
    "start_time": "2024-05-20T19:50:58.487Z"
   },
   {
    "duration": 430,
    "start_time": "2024-05-20T19:50:58.508Z"
   },
   {
    "duration": 0,
    "start_time": "2024-05-20T19:50:58.941Z"
   },
   {
    "duration": 4650,
    "start_time": "2024-05-20T22:06:42.863Z"
   },
   {
    "duration": 15196,
    "start_time": "2024-05-20T22:06:50.458Z"
   },
   {
    "duration": 5547,
    "start_time": "2024-05-20T22:07:05.658Z"
   },
   {
    "duration": 2448,
    "start_time": "2024-05-20T22:09:35.759Z"
   },
   {
    "duration": 32,
    "start_time": "2024-05-20T22:09:44.379Z"
   },
   {
    "duration": 27,
    "start_time": "2024-05-20T22:09:48.954Z"
   },
   {
    "duration": 2562,
    "start_time": "2024-05-20T22:10:03.377Z"
   },
   {
    "duration": 2410,
    "start_time": "2024-05-20T22:10:05.944Z"
   },
   {
    "duration": 1885,
    "start_time": "2024-05-20T22:10:08.357Z"
   },
   {
    "duration": 0,
    "start_time": "2024-05-20T22:10:10.247Z"
   },
   {
    "duration": 0,
    "start_time": "2024-05-20T22:10:10.250Z"
   },
   {
    "duration": 0,
    "start_time": "2024-05-20T22:10:10.253Z"
   },
   {
    "duration": 0,
    "start_time": "2024-05-20T22:10:10.255Z"
   },
   {
    "duration": 0,
    "start_time": "2024-05-20T22:10:10.258Z"
   },
   {
    "duration": 0,
    "start_time": "2024-05-20T22:10:10.261Z"
   },
   {
    "duration": 0,
    "start_time": "2024-05-20T22:10:10.264Z"
   },
   {
    "duration": 0,
    "start_time": "2024-05-20T22:10:10.266Z"
   },
   {
    "duration": 0,
    "start_time": "2024-05-20T22:10:10.301Z"
   },
   {
    "duration": 0,
    "start_time": "2024-05-20T22:10:10.303Z"
   },
   {
    "duration": 0,
    "start_time": "2024-05-20T22:10:10.306Z"
   },
   {
    "duration": 0,
    "start_time": "2024-05-20T22:10:10.309Z"
   },
   {
    "duration": 0,
    "start_time": "2024-05-20T22:10:10.311Z"
   },
   {
    "duration": 0,
    "start_time": "2024-05-20T22:10:10.314Z"
   },
   {
    "duration": 0,
    "start_time": "2024-05-20T22:10:10.316Z"
   },
   {
    "duration": 0,
    "start_time": "2024-05-20T22:10:10.319Z"
   },
   {
    "duration": 0,
    "start_time": "2024-05-20T22:10:10.322Z"
   },
   {
    "duration": 0,
    "start_time": "2024-05-20T22:10:10.325Z"
   },
   {
    "duration": 0,
    "start_time": "2024-05-20T22:10:10.327Z"
   },
   {
    "duration": 0,
    "start_time": "2024-05-20T22:10:10.328Z"
   },
   {
    "duration": 0,
    "start_time": "2024-05-20T22:10:10.331Z"
   },
   {
    "duration": 0,
    "start_time": "2024-05-20T22:10:10.334Z"
   },
   {
    "duration": 0,
    "start_time": "2024-05-20T22:10:10.335Z"
   },
   {
    "duration": 0,
    "start_time": "2024-05-20T22:10:10.338Z"
   },
   {
    "duration": 0,
    "start_time": "2024-05-20T22:10:10.340Z"
   },
   {
    "duration": 1026,
    "start_time": "2024-05-20T22:14:23.302Z"
   },
   {
    "duration": 2498,
    "start_time": "2024-05-20T22:14:29.756Z"
   },
   {
    "duration": 1213,
    "start_time": "2024-05-20T22:16:05.275Z"
   },
   {
    "duration": 9,
    "start_time": "2024-05-20T22:17:23.464Z"
   },
   {
    "duration": 7,
    "start_time": "2024-05-20T22:17:37.122Z"
   },
   {
    "duration": 7,
    "start_time": "2024-05-20T22:17:44.146Z"
   },
   {
    "duration": 8,
    "start_time": "2024-05-20T22:18:35.962Z"
   },
   {
    "duration": 34,
    "start_time": "2024-05-20T22:19:10.494Z"
   },
   {
    "duration": 7233,
    "start_time": "2024-05-20T22:22:28.146Z"
   },
   {
    "duration": 34,
    "start_time": "2024-05-20T22:22:56.889Z"
   },
   {
    "duration": 4360,
    "start_time": "2024-05-20T22:23:48.558Z"
   },
   {
    "duration": 2865,
    "start_time": "2024-05-20T22:23:58.139Z"
   },
   {
    "duration": 30,
    "start_time": "2024-05-20T22:24:09.981Z"
   },
   {
    "duration": 2526,
    "start_time": "2024-05-20T22:24:21.841Z"
   },
   {
    "duration": 1054,
    "start_time": "2024-05-20T22:24:24.371Z"
   },
   {
    "duration": 1139,
    "start_time": "2024-05-20T22:24:25.428Z"
   },
   {
    "duration": 6870,
    "start_time": "2024-05-20T22:24:26.569Z"
   },
   {
    "duration": 2836,
    "start_time": "2024-05-20T22:24:33.444Z"
   },
   {
    "duration": 1970,
    "start_time": "2024-05-20T22:24:36.283Z"
   },
   {
    "duration": 0,
    "start_time": "2024-05-20T22:24:38.258Z"
   },
   {
    "duration": 0,
    "start_time": "2024-05-20T22:24:38.260Z"
   },
   {
    "duration": 0,
    "start_time": "2024-05-20T22:24:38.263Z"
   },
   {
    "duration": 0,
    "start_time": "2024-05-20T22:24:38.266Z"
   },
   {
    "duration": 0,
    "start_time": "2024-05-20T22:24:38.269Z"
   },
   {
    "duration": 0,
    "start_time": "2024-05-20T22:24:38.270Z"
   },
   {
    "duration": 0,
    "start_time": "2024-05-20T22:24:38.273Z"
   },
   {
    "duration": 0,
    "start_time": "2024-05-20T22:24:38.303Z"
   },
   {
    "duration": 0,
    "start_time": "2024-05-20T22:24:38.306Z"
   },
   {
    "duration": 0,
    "start_time": "2024-05-20T22:24:38.309Z"
   },
   {
    "duration": 0,
    "start_time": "2024-05-20T22:24:38.311Z"
   },
   {
    "duration": 0,
    "start_time": "2024-05-20T22:24:38.314Z"
   },
   {
    "duration": 0,
    "start_time": "2024-05-20T22:24:38.316Z"
   },
   {
    "duration": 0,
    "start_time": "2024-05-20T22:24:38.319Z"
   },
   {
    "duration": 0,
    "start_time": "2024-05-20T22:24:38.321Z"
   },
   {
    "duration": 0,
    "start_time": "2024-05-20T22:24:38.323Z"
   },
   {
    "duration": 0,
    "start_time": "2024-05-20T22:24:38.326Z"
   },
   {
    "duration": 0,
    "start_time": "2024-05-20T22:24:38.328Z"
   },
   {
    "duration": 0,
    "start_time": "2024-05-20T22:24:38.330Z"
   },
   {
    "duration": 0,
    "start_time": "2024-05-20T22:24:38.333Z"
   },
   {
    "duration": 0,
    "start_time": "2024-05-20T22:24:38.335Z"
   },
   {
    "duration": 0,
    "start_time": "2024-05-20T22:24:38.337Z"
   },
   {
    "duration": 0,
    "start_time": "2024-05-20T22:24:38.340Z"
   },
   {
    "duration": 0,
    "start_time": "2024-05-20T22:24:38.402Z"
   },
   {
    "duration": 0,
    "start_time": "2024-05-20T22:24:38.404Z"
   },
   {
    "duration": 17,
    "start_time": "2024-05-21T02:13:51.983Z"
   },
   {
    "duration": 4733,
    "start_time": "2024-05-21T02:14:31.937Z"
   },
   {
    "duration": 1133,
    "start_time": "2024-05-21T02:14:39.032Z"
   },
   {
    "duration": 2515,
    "start_time": "2024-05-21T02:15:09.821Z"
   },
   {
    "duration": 1083,
    "start_time": "2024-05-21T02:15:12.340Z"
   },
   {
    "duration": 1095,
    "start_time": "2024-05-21T02:15:13.426Z"
   },
   {
    "duration": 19516,
    "start_time": "2024-05-21T02:15:14.527Z"
   },
   {
    "duration": 3005,
    "start_time": "2024-05-21T02:15:34.047Z"
   },
   {
    "duration": 5531,
    "start_time": "2024-05-21T02:15:37.055Z"
   },
   {
    "duration": 0,
    "start_time": "2024-05-21T02:15:42.595Z"
   },
   {
    "duration": 0,
    "start_time": "2024-05-21T02:15:42.602Z"
   },
   {
    "duration": 0,
    "start_time": "2024-05-21T02:15:42.605Z"
   },
   {
    "duration": 0,
    "start_time": "2024-05-21T02:15:42.607Z"
   },
   {
    "duration": 0,
    "start_time": "2024-05-21T02:15:42.610Z"
   },
   {
    "duration": 0,
    "start_time": "2024-05-21T02:15:42.612Z"
   },
   {
    "duration": 0,
    "start_time": "2024-05-21T02:15:42.614Z"
   },
   {
    "duration": 0,
    "start_time": "2024-05-21T02:15:42.616Z"
   },
   {
    "duration": 0,
    "start_time": "2024-05-21T02:15:42.619Z"
   },
   {
    "duration": 0,
    "start_time": "2024-05-21T02:15:42.621Z"
   },
   {
    "duration": 0,
    "start_time": "2024-05-21T02:15:42.624Z"
   },
   {
    "duration": 0,
    "start_time": "2024-05-21T02:15:42.630Z"
   },
   {
    "duration": 0,
    "start_time": "2024-05-21T02:15:42.632Z"
   },
   {
    "duration": 0,
    "start_time": "2024-05-21T02:15:42.635Z"
   },
   {
    "duration": 0,
    "start_time": "2024-05-21T02:15:42.637Z"
   },
   {
    "duration": 0,
    "start_time": "2024-05-21T02:15:42.639Z"
   },
   {
    "duration": 0,
    "start_time": "2024-05-21T02:15:42.642Z"
   },
   {
    "duration": 0,
    "start_time": "2024-05-21T02:15:42.644Z"
   },
   {
    "duration": 0,
    "start_time": "2024-05-21T02:15:42.646Z"
   },
   {
    "duration": 0,
    "start_time": "2024-05-21T02:15:42.704Z"
   },
   {
    "duration": 0,
    "start_time": "2024-05-21T02:15:42.706Z"
   },
   {
    "duration": 0,
    "start_time": "2024-05-21T02:15:42.708Z"
   },
   {
    "duration": 0,
    "start_time": "2024-05-21T02:15:42.710Z"
   },
   {
    "duration": 0,
    "start_time": "2024-05-21T02:15:42.712Z"
   },
   {
    "duration": 0,
    "start_time": "2024-05-21T02:15:42.715Z"
   },
   {
    "duration": 26,
    "start_time": "2024-05-21T02:15:54.783Z"
   },
   {
    "duration": 1088,
    "start_time": "2024-05-21T02:16:19.982Z"
   },
   {
    "duration": 5971,
    "start_time": "2024-05-21T15:42:16.523Z"
   },
   {
    "duration": 1116,
    "start_time": "2024-05-21T15:42:22.498Z"
   },
   {
    "duration": 1152,
    "start_time": "2024-05-21T15:42:23.617Z"
   },
   {
    "duration": 15614,
    "start_time": "2024-05-21T15:42:24.772Z"
   },
   {
    "duration": 5226,
    "start_time": "2024-05-21T15:42:40.390Z"
   },
   {
    "duration": 56,
    "start_time": "2024-05-21T15:42:45.619Z"
   },
   {
    "duration": 6,
    "start_time": "2024-05-21T15:42:45.678Z"
   },
   {
    "duration": 31,
    "start_time": "2024-05-21T15:42:45.688Z"
   },
   {
    "duration": 10,
    "start_time": "2024-05-21T15:42:45.722Z"
   },
   {
    "duration": 9,
    "start_time": "2024-05-21T15:42:45.735Z"
   },
   {
    "duration": 7,
    "start_time": "2024-05-21T15:42:45.747Z"
   },
   {
    "duration": 55,
    "start_time": "2024-05-21T15:42:45.757Z"
   },
   {
    "duration": 9,
    "start_time": "2024-05-21T15:42:45.815Z"
   },
   {
    "duration": 14,
    "start_time": "2024-05-21T15:42:45.830Z"
   },
   {
    "duration": 197,
    "start_time": "2024-05-21T15:42:45.847Z"
   },
   {
    "duration": 6,
    "start_time": "2024-05-21T15:42:46.047Z"
   },
   {
    "duration": 12,
    "start_time": "2024-05-21T15:42:46.056Z"
   },
   {
    "duration": 7,
    "start_time": "2024-05-21T15:42:46.071Z"
   },
   {
    "duration": 3,
    "start_time": "2024-05-21T15:42:46.112Z"
   },
   {
    "duration": 11,
    "start_time": "2024-05-21T15:42:46.118Z"
   },
   {
    "duration": 16,
    "start_time": "2024-05-21T15:42:46.132Z"
   },
   {
    "duration": 6,
    "start_time": "2024-05-21T15:42:46.151Z"
   },
   {
    "duration": 8,
    "start_time": "2024-05-21T15:42:46.160Z"
   },
   {
    "duration": 17,
    "start_time": "2024-05-21T15:42:46.213Z"
   },
   {
    "duration": 2090,
    "start_time": "2024-05-21T15:42:46.234Z"
   },
   {
    "duration": 30,
    "start_time": "2024-05-21T15:42:48.327Z"
   },
   {
    "duration": 2012,
    "start_time": "2024-05-21T15:42:48.360Z"
   },
   {
    "duration": 12,
    "start_time": "2024-05-21T15:42:50.375Z"
   },
   {
    "duration": 503,
    "start_time": "2024-05-21T15:42:50.392Z"
   },
   {
    "duration": 0,
    "start_time": "2024-05-21T15:42:50.898Z"
   },
   {
    "duration": 2596,
    "start_time": "2024-05-21T15:45:48.324Z"
   },
   {
    "duration": 1114,
    "start_time": "2024-05-21T15:45:50.924Z"
   },
   {
    "duration": 2496,
    "start_time": "2024-05-21T15:45:52.041Z"
   },
   {
    "duration": 9,
    "start_time": "2024-05-21T15:45:54.540Z"
   },
   {
    "duration": 0,
    "start_time": "2024-05-21T15:45:54.555Z"
   },
   {
    "duration": 0,
    "start_time": "2024-05-21T15:45:54.558Z"
   },
   {
    "duration": 0,
    "start_time": "2024-05-21T15:45:54.561Z"
   },
   {
    "duration": 0,
    "start_time": "2024-05-21T15:45:54.564Z"
   },
   {
    "duration": 0,
    "start_time": "2024-05-21T15:45:54.566Z"
   },
   {
    "duration": 0,
    "start_time": "2024-05-21T15:45:54.570Z"
   },
   {
    "duration": 0,
    "start_time": "2024-05-21T15:45:54.572Z"
   },
   {
    "duration": 0,
    "start_time": "2024-05-21T15:45:54.574Z"
   },
   {
    "duration": 0,
    "start_time": "2024-05-21T15:45:54.578Z"
   },
   {
    "duration": 0,
    "start_time": "2024-05-21T15:45:54.580Z"
   },
   {
    "duration": 0,
    "start_time": "2024-05-21T15:45:54.582Z"
   },
   {
    "duration": 0,
    "start_time": "2024-05-21T15:45:54.584Z"
   },
   {
    "duration": 1,
    "start_time": "2024-05-21T15:45:54.612Z"
   },
   {
    "duration": 0,
    "start_time": "2024-05-21T15:45:54.614Z"
   },
   {
    "duration": 0,
    "start_time": "2024-05-21T15:45:54.618Z"
   },
   {
    "duration": 0,
    "start_time": "2024-05-21T15:45:54.620Z"
   },
   {
    "duration": 0,
    "start_time": "2024-05-21T15:45:54.622Z"
   },
   {
    "duration": 0,
    "start_time": "2024-05-21T15:45:54.624Z"
   },
   {
    "duration": 0,
    "start_time": "2024-05-21T15:45:54.627Z"
   },
   {
    "duration": 0,
    "start_time": "2024-05-21T15:45:54.629Z"
   },
   {
    "duration": 0,
    "start_time": "2024-05-21T15:45:54.631Z"
   },
   {
    "duration": 0,
    "start_time": "2024-05-21T15:45:54.633Z"
   },
   {
    "duration": 0,
    "start_time": "2024-05-21T15:45:54.635Z"
   },
   {
    "duration": 0,
    "start_time": "2024-05-21T15:45:54.637Z"
   },
   {
    "duration": 0,
    "start_time": "2024-05-21T15:45:54.640Z"
   },
   {
    "duration": 1879,
    "start_time": "2024-05-21T15:49:53.857Z"
   },
   {
    "duration": 2495,
    "start_time": "2024-05-21T15:50:30.578Z"
   },
   {
    "duration": 1068,
    "start_time": "2024-05-21T15:50:34.146Z"
   },
   {
    "duration": 13,
    "start_time": "2024-05-21T15:51:32.415Z"
   },
   {
    "duration": 34,
    "start_time": "2024-05-21T16:06:14.878Z"
   },
   {
    "duration": 31,
    "start_time": "2024-05-21T16:06:24.949Z"
   },
   {
    "duration": 26,
    "start_time": "2024-05-21T16:07:37.285Z"
   },
   {
    "duration": 1871,
    "start_time": "2024-05-21T16:07:44.976Z"
   },
   {
    "duration": 0,
    "start_time": "2024-05-21T16:07:46.852Z"
   },
   {
    "duration": 0,
    "start_time": "2024-05-21T16:07:46.855Z"
   },
   {
    "duration": 0,
    "start_time": "2024-05-21T16:07:46.857Z"
   },
   {
    "duration": 0,
    "start_time": "2024-05-21T16:07:46.860Z"
   },
   {
    "duration": 0,
    "start_time": "2024-05-21T16:07:46.862Z"
   },
   {
    "duration": 0,
    "start_time": "2024-05-21T16:07:46.864Z"
   },
   {
    "duration": 0,
    "start_time": "2024-05-21T16:07:46.867Z"
   },
   {
    "duration": 0,
    "start_time": "2024-05-21T16:07:46.868Z"
   },
   {
    "duration": 0,
    "start_time": "2024-05-21T16:07:46.870Z"
   },
   {
    "duration": 0,
    "start_time": "2024-05-21T16:07:46.872Z"
   },
   {
    "duration": 0,
    "start_time": "2024-05-21T16:07:46.874Z"
   },
   {
    "duration": 0,
    "start_time": "2024-05-21T16:07:46.914Z"
   },
   {
    "duration": 0,
    "start_time": "2024-05-21T16:07:46.916Z"
   },
   {
    "duration": 0,
    "start_time": "2024-05-21T16:07:46.918Z"
   },
   {
    "duration": 0,
    "start_time": "2024-05-21T16:07:46.920Z"
   },
   {
    "duration": 0,
    "start_time": "2024-05-21T16:07:46.922Z"
   },
   {
    "duration": 0,
    "start_time": "2024-05-21T16:07:46.924Z"
   },
   {
    "duration": 0,
    "start_time": "2024-05-21T16:07:46.926Z"
   },
   {
    "duration": 0,
    "start_time": "2024-05-21T16:07:46.928Z"
   },
   {
    "duration": 0,
    "start_time": "2024-05-21T16:07:46.930Z"
   },
   {
    "duration": 0,
    "start_time": "2024-05-21T16:07:46.932Z"
   },
   {
    "duration": 0,
    "start_time": "2024-05-21T16:07:46.935Z"
   },
   {
    "duration": 0,
    "start_time": "2024-05-21T16:07:46.937Z"
   },
   {
    "duration": 0,
    "start_time": "2024-05-21T16:07:46.939Z"
   },
   {
    "duration": 0,
    "start_time": "2024-05-21T16:07:46.940Z"
   },
   {
    "duration": 5,
    "start_time": "2024-05-21T16:08:32.411Z"
   },
   {
    "duration": 6,
    "start_time": "2024-05-21T16:11:54.862Z"
   },
   {
    "duration": 24,
    "start_time": "2024-05-21T16:13:09.740Z"
   },
   {
    "duration": 1419,
    "start_time": "2024-05-21T16:13:24.956Z"
   },
   {
    "duration": 47,
    "start_time": "2024-05-21T16:13:26.378Z"
   },
   {
    "duration": 8,
    "start_time": "2024-05-21T16:13:26.428Z"
   },
   {
    "duration": 11,
    "start_time": "2024-05-21T16:13:26.441Z"
   },
   {
    "duration": 10,
    "start_time": "2024-05-21T16:13:26.455Z"
   },
   {
    "duration": 50,
    "start_time": "2024-05-21T16:13:26.468Z"
   },
   {
    "duration": 7,
    "start_time": "2024-05-21T16:13:26.521Z"
   },
   {
    "duration": 7,
    "start_time": "2024-05-21T16:13:26.531Z"
   },
   {
    "duration": 7,
    "start_time": "2024-05-21T16:13:26.542Z"
   },
   {
    "duration": 63,
    "start_time": "2024-05-21T16:13:26.556Z"
   },
   {
    "duration": 245,
    "start_time": "2024-05-21T16:13:26.622Z"
   },
   {
    "duration": 6,
    "start_time": "2024-05-21T16:13:26.870Z"
   },
   {
    "duration": 33,
    "start_time": "2024-05-21T16:13:26.880Z"
   },
   {
    "duration": 7,
    "start_time": "2024-05-21T16:13:26.916Z"
   },
   {
    "duration": 3,
    "start_time": "2024-05-21T16:13:26.926Z"
   },
   {
    "duration": 11,
    "start_time": "2024-05-21T16:13:26.933Z"
   },
   {
    "duration": 16,
    "start_time": "2024-05-21T16:13:26.947Z"
   },
   {
    "duration": 50,
    "start_time": "2024-05-21T16:13:26.966Z"
   },
   {
    "duration": 8,
    "start_time": "2024-05-21T16:13:27.019Z"
   },
   {
    "duration": 18,
    "start_time": "2024-05-21T16:13:27.029Z"
   },
   {
    "duration": 2106,
    "start_time": "2024-05-21T16:13:27.050Z"
   },
   {
    "duration": 32,
    "start_time": "2024-05-21T16:13:29.160Z"
   },
   {
    "duration": 2002,
    "start_time": "2024-05-21T16:13:29.211Z"
   },
   {
    "duration": 9,
    "start_time": "2024-05-21T16:13:31.216Z"
   },
   {
    "duration": 6,
    "start_time": "2024-05-21T16:13:31.228Z"
   },
   {
    "duration": 561,
    "start_time": "2024-05-21T16:13:31.237Z"
   },
   {
    "duration": 0,
    "start_time": "2024-05-21T16:13:31.800Z"
   },
   {
    "duration": 73,
    "start_time": "2024-05-21T16:14:19.376Z"
   },
   {
    "duration": 23,
    "start_time": "2024-05-21T16:14:24.146Z"
   },
   {
    "duration": 5,
    "start_time": "2024-05-21T16:15:19.980Z"
   },
   {
    "duration": 23,
    "start_time": "2024-05-21T16:15:21.903Z"
   },
   {
    "duration": 232,
    "start_time": "2024-05-21T16:28:33.159Z"
   },
   {
    "duration": 11,
    "start_time": "2024-05-21T16:28:59.969Z"
   },
   {
    "duration": 32,
    "start_time": "2024-05-21T16:33:20.558Z"
   },
   {
    "duration": 31,
    "start_time": "2024-05-21T16:34:53.126Z"
   },
   {
    "duration": 10,
    "start_time": "2024-05-21T16:35:49.682Z"
   },
   {
    "duration": 29,
    "start_time": "2024-05-21T16:35:52.217Z"
   },
   {
    "duration": 44,
    "start_time": "2024-05-21T16:36:26.257Z"
   },
   {
    "duration": 30,
    "start_time": "2024-05-21T16:38:46.431Z"
   },
   {
    "duration": 1412,
    "start_time": "2024-05-21T16:40:04.644Z"
   },
   {
    "duration": 42,
    "start_time": "2024-05-21T16:40:06.060Z"
   },
   {
    "duration": 6,
    "start_time": "2024-05-21T16:40:06.113Z"
   },
   {
    "duration": 12,
    "start_time": "2024-05-21T16:40:06.122Z"
   },
   {
    "duration": 9,
    "start_time": "2024-05-21T16:40:06.142Z"
   },
   {
    "duration": 9,
    "start_time": "2024-05-21T16:40:06.154Z"
   },
   {
    "duration": 51,
    "start_time": "2024-05-21T16:40:06.166Z"
   },
   {
    "duration": 9,
    "start_time": "2024-05-21T16:40:06.220Z"
   },
   {
    "duration": 9,
    "start_time": "2024-05-21T16:40:06.232Z"
   },
   {
    "duration": 14,
    "start_time": "2024-05-21T16:40:06.244Z"
   },
   {
    "duration": 286,
    "start_time": "2024-05-21T16:40:06.261Z"
   },
   {
    "duration": 6,
    "start_time": "2024-05-21T16:40:06.552Z"
   },
   {
    "duration": 13,
    "start_time": "2024-05-21T16:40:06.561Z"
   },
   {
    "duration": 32,
    "start_time": "2024-05-21T16:40:06.580Z"
   },
   {
    "duration": 12,
    "start_time": "2024-05-21T16:40:06.615Z"
   },
   {
    "duration": 15,
    "start_time": "2024-05-21T16:40:06.630Z"
   },
   {
    "duration": 6,
    "start_time": "2024-05-21T16:40:06.648Z"
   },
   {
    "duration": 8,
    "start_time": "2024-05-21T16:40:06.657Z"
   },
   {
    "duration": 57,
    "start_time": "2024-05-21T16:40:06.668Z"
   },
   {
    "duration": 2071,
    "start_time": "2024-05-21T16:40:06.728Z"
   },
   {
    "duration": 37,
    "start_time": "2024-05-21T16:40:08.802Z"
   },
   {
    "duration": 2002,
    "start_time": "2024-05-21T16:40:08.842Z"
   },
   {
    "duration": 9,
    "start_time": "2024-05-21T16:40:10.847Z"
   },
   {
    "duration": 11,
    "start_time": "2024-05-21T16:40:10.859Z"
   },
   {
    "duration": 475,
    "start_time": "2024-05-21T16:40:10.872Z"
   },
   {
    "duration": 0,
    "start_time": "2024-05-21T16:40:11.351Z"
   },
   {
    "duration": 0,
    "start_time": "2024-05-21T16:40:11.354Z"
   },
   {
    "duration": 30,
    "start_time": "2024-05-21T16:40:31.924Z"
   },
   {
    "duration": 31,
    "start_time": "2024-05-21T16:48:13.436Z"
   },
   {
    "duration": 1163,
    "start_time": "2024-05-21T16:48:50.665Z"
   },
   {
    "duration": 3,
    "start_time": "2024-05-21T16:49:21.262Z"
   },
   {
    "duration": 1186,
    "start_time": "2024-05-21T16:49:22.056Z"
   },
   {
    "duration": 1151,
    "start_time": "2024-05-21T16:54:21.502Z"
   },
   {
    "duration": 5178,
    "start_time": "2024-05-21T17:45:56.043Z"
   },
   {
    "duration": 67,
    "start_time": "2024-05-21T17:46:01.227Z"
   },
   {
    "duration": 6,
    "start_time": "2024-05-21T17:46:01.299Z"
   },
   {
    "duration": 11,
    "start_time": "2024-05-21T17:46:01.311Z"
   },
   {
    "duration": 11,
    "start_time": "2024-05-21T17:46:01.325Z"
   },
   {
    "duration": 8,
    "start_time": "2024-05-21T17:46:01.339Z"
   },
   {
    "duration": 7,
    "start_time": "2024-05-21T17:46:01.350Z"
   },
   {
    "duration": 8,
    "start_time": "2024-05-21T17:46:01.407Z"
   },
   {
    "duration": 8,
    "start_time": "2024-05-21T17:46:01.417Z"
   },
   {
    "duration": 15,
    "start_time": "2024-05-21T17:46:01.432Z"
   },
   {
    "duration": 214,
    "start_time": "2024-05-21T17:46:01.449Z"
   },
   {
    "duration": 8,
    "start_time": "2024-05-21T17:46:01.666Z"
   },
   {
    "duration": 34,
    "start_time": "2024-05-21T17:46:01.677Z"
   },
   {
    "duration": 7,
    "start_time": "2024-05-21T17:46:01.714Z"
   },
   {
    "duration": 12,
    "start_time": "2024-05-21T17:46:01.723Z"
   },
   {
    "duration": 16,
    "start_time": "2024-05-21T17:46:01.738Z"
   },
   {
    "duration": 7,
    "start_time": "2024-05-21T17:46:01.758Z"
   },
   {
    "duration": 10,
    "start_time": "2024-05-21T17:46:01.808Z"
   },
   {
    "duration": 16,
    "start_time": "2024-05-21T17:46:01.822Z"
   },
   {
    "duration": 2136,
    "start_time": "2024-05-21T17:46:01.842Z"
   },
   {
    "duration": 43,
    "start_time": "2024-05-21T17:46:03.981Z"
   },
   {
    "duration": 1995,
    "start_time": "2024-05-21T17:46:04.027Z"
   },
   {
    "duration": 10,
    "start_time": "2024-05-21T17:46:06.025Z"
   },
   {
    "duration": 5,
    "start_time": "2024-05-21T17:46:06.038Z"
   },
   {
    "duration": 912,
    "start_time": "2024-05-21T17:46:06.046Z"
   },
   {
    "duration": 884,
    "start_time": "2024-05-21T17:46:06.961Z"
   },
   {
    "duration": 1180,
    "start_time": "2024-05-21T17:46:07.850Z"
   },
   {
    "duration": 1123,
    "start_time": "2024-05-21T17:49:11.058Z"
   },
   {
    "duration": 1198,
    "start_time": "2024-05-21T17:50:56.868Z"
   },
   {
    "duration": 1123,
    "start_time": "2024-05-21T17:52:15.334Z"
   },
   {
    "duration": 6,
    "start_time": "2024-05-21T18:02:30.484Z"
   },
   {
    "duration": 5,
    "start_time": "2024-05-21T18:02:56.232Z"
   },
   {
    "duration": 1134,
    "start_time": "2024-05-21T18:03:16.029Z"
   },
   {
    "duration": 56,
    "start_time": "2024-05-21T18:03:25.203Z"
   },
   {
    "duration": 54,
    "start_time": "2024-05-21T18:03:29.310Z"
   },
   {
    "duration": 10,
    "start_time": "2024-05-21T18:05:08.252Z"
   },
   {
    "duration": 58,
    "start_time": "2024-05-21T18:05:11.042Z"
   },
   {
    "duration": 1431,
    "start_time": "2024-05-21T18:09:19.789Z"
   },
   {
    "duration": 42,
    "start_time": "2024-05-21T18:09:21.224Z"
   },
   {
    "duration": 10,
    "start_time": "2024-05-21T18:09:21.269Z"
   },
   {
    "duration": 27,
    "start_time": "2024-05-21T18:09:21.284Z"
   },
   {
    "duration": 9,
    "start_time": "2024-05-21T18:09:21.314Z"
   },
   {
    "duration": 9,
    "start_time": "2024-05-21T18:09:21.326Z"
   },
   {
    "duration": 7,
    "start_time": "2024-05-21T18:09:21.338Z"
   },
   {
    "duration": 57,
    "start_time": "2024-05-21T18:09:21.348Z"
   },
   {
    "duration": 8,
    "start_time": "2024-05-21T18:09:21.408Z"
   },
   {
    "duration": 17,
    "start_time": "2024-05-21T18:09:21.421Z"
   },
   {
    "duration": 264,
    "start_time": "2024-05-21T18:09:21.441Z"
   },
   {
    "duration": 7,
    "start_time": "2024-05-21T18:09:21.707Z"
   },
   {
    "duration": 13,
    "start_time": "2024-05-21T18:09:21.717Z"
   },
   {
    "duration": 7,
    "start_time": "2024-05-21T18:09:21.732Z"
   },
   {
    "duration": 15,
    "start_time": "2024-05-21T18:09:21.743Z"
   },
   {
    "duration": 56,
    "start_time": "2024-05-21T18:09:21.761Z"
   },
   {
    "duration": 6,
    "start_time": "2024-05-21T18:09:21.820Z"
   },
   {
    "duration": 8,
    "start_time": "2024-05-21T18:09:21.830Z"
   },
   {
    "duration": 17,
    "start_time": "2024-05-21T18:09:21.842Z"
   },
   {
    "duration": 2198,
    "start_time": "2024-05-21T18:09:21.862Z"
   },
   {
    "duration": 46,
    "start_time": "2024-05-21T18:09:24.064Z"
   },
   {
    "duration": 2006,
    "start_time": "2024-05-21T18:09:24.114Z"
   },
   {
    "duration": 9,
    "start_time": "2024-05-21T18:09:26.126Z"
   },
   {
    "duration": 891,
    "start_time": "2024-05-21T18:09:26.139Z"
   },
   {
    "duration": 900,
    "start_time": "2024-05-21T18:09:27.033Z"
   },
   {
    "duration": 11,
    "start_time": "2024-05-21T18:09:27.936Z"
   },
   {
    "duration": 1461,
    "start_time": "2024-05-21T18:11:28.194Z"
   },
   {
    "duration": 50,
    "start_time": "2024-05-21T18:11:29.659Z"
   },
   {
    "duration": 6,
    "start_time": "2024-05-21T18:11:29.712Z"
   },
   {
    "duration": 11,
    "start_time": "2024-05-21T18:11:29.721Z"
   },
   {
    "duration": 9,
    "start_time": "2024-05-21T18:11:29.737Z"
   },
   {
    "duration": 9,
    "start_time": "2024-05-21T18:11:29.749Z"
   },
   {
    "duration": 7,
    "start_time": "2024-05-21T18:11:29.805Z"
   },
   {
    "duration": 7,
    "start_time": "2024-05-21T18:11:29.815Z"
   },
   {
    "duration": 8,
    "start_time": "2024-05-21T18:11:29.825Z"
   },
   {
    "duration": 15,
    "start_time": "2024-05-21T18:11:29.836Z"
   },
   {
    "duration": 281,
    "start_time": "2024-05-21T18:11:29.854Z"
   },
   {
    "duration": 6,
    "start_time": "2024-05-21T18:11:30.138Z"
   },
   {
    "duration": 14,
    "start_time": "2024-05-21T18:11:30.147Z"
   },
   {
    "duration": 6,
    "start_time": "2024-05-21T18:11:30.167Z"
   },
   {
    "duration": 12,
    "start_time": "2024-05-21T18:11:30.206Z"
   },
   {
    "duration": 17,
    "start_time": "2024-05-21T18:11:30.220Z"
   },
   {
    "duration": 7,
    "start_time": "2024-05-21T18:11:30.241Z"
   },
   {
    "duration": 9,
    "start_time": "2024-05-21T18:11:30.253Z"
   },
   {
    "duration": 57,
    "start_time": "2024-05-21T18:11:30.265Z"
   },
   {
    "duration": 2086,
    "start_time": "2024-05-21T18:11:30.325Z"
   },
   {
    "duration": 30,
    "start_time": "2024-05-21T18:11:32.415Z"
   },
   {
    "duration": 2013,
    "start_time": "2024-05-21T18:11:32.448Z"
   },
   {
    "duration": 12,
    "start_time": "2024-05-21T18:11:34.464Z"
   },
   {
    "duration": 897,
    "start_time": "2024-05-21T18:11:34.481Z"
   },
   {
    "duration": 884,
    "start_time": "2024-05-21T18:11:35.381Z"
   },
   {
    "duration": 12,
    "start_time": "2024-05-21T18:11:36.268Z"
   },
   {
    "duration": 1156,
    "start_time": "2024-05-21T18:11:36.283Z"
   },
   {
    "duration": 192,
    "start_time": "2024-05-21T18:13:42.553Z"
   },
   {
    "duration": 333,
    "start_time": "2024-05-21T18:14:27.513Z"
   },
   {
    "duration": 174,
    "start_time": "2024-05-21T18:14:54.051Z"
   },
   {
    "duration": 144,
    "start_time": "2024-05-21T18:15:02.889Z"
   },
   {
    "duration": 175,
    "start_time": "2024-05-21T18:15:12.087Z"
   },
   {
    "duration": 7,
    "start_time": "2024-05-21T18:16:09.079Z"
   },
   {
    "duration": 234,
    "start_time": "2024-05-21T18:16:41.792Z"
   },
   {
    "duration": 222,
    "start_time": "2024-05-21T18:16:54.570Z"
   },
   {
    "duration": 225,
    "start_time": "2024-05-21T18:17:15.785Z"
   },
   {
    "duration": 214,
    "start_time": "2024-05-21T18:17:38.826Z"
   },
   {
    "duration": 200,
    "start_time": "2024-05-21T18:18:25.010Z"
   },
   {
    "duration": 216,
    "start_time": "2024-05-21T18:19:19.624Z"
   },
   {
    "duration": 1416,
    "start_time": "2024-05-21T18:20:03.278Z"
   },
   {
    "duration": 44,
    "start_time": "2024-05-21T18:20:04.699Z"
   },
   {
    "duration": 6,
    "start_time": "2024-05-21T18:20:04.746Z"
   },
   {
    "duration": 11,
    "start_time": "2024-05-21T18:20:04.756Z"
   },
   {
    "duration": 41,
    "start_time": "2024-05-21T18:20:04.771Z"
   },
   {
    "duration": 9,
    "start_time": "2024-05-21T18:20:04.814Z"
   },
   {
    "duration": 8,
    "start_time": "2024-05-21T18:20:04.825Z"
   },
   {
    "duration": 7,
    "start_time": "2024-05-21T18:20:04.836Z"
   },
   {
    "duration": 7,
    "start_time": "2024-05-21T18:20:04.847Z"
   },
   {
    "duration": 14,
    "start_time": "2024-05-21T18:20:04.907Z"
   },
   {
    "duration": 313,
    "start_time": "2024-05-21T18:20:04.925Z"
   },
   {
    "duration": 6,
    "start_time": "2024-05-21T18:20:05.241Z"
   },
   {
    "duration": 13,
    "start_time": "2024-05-21T18:20:05.251Z"
   },
   {
    "duration": 35,
    "start_time": "2024-05-21T18:20:05.271Z"
   },
   {
    "duration": 13,
    "start_time": "2024-05-21T18:20:05.309Z"
   },
   {
    "duration": 15,
    "start_time": "2024-05-21T18:20:05.324Z"
   },
   {
    "duration": 7,
    "start_time": "2024-05-21T18:20:05.342Z"
   },
   {
    "duration": 9,
    "start_time": "2024-05-21T18:20:05.352Z"
   },
   {
    "duration": 17,
    "start_time": "2024-05-21T18:20:05.407Z"
   },
   {
    "duration": 2112,
    "start_time": "2024-05-21T18:20:05.427Z"
   },
   {
    "duration": 31,
    "start_time": "2024-05-21T18:20:07.542Z"
   },
   {
    "duration": 2029,
    "start_time": "2024-05-21T18:20:07.576Z"
   },
   {
    "duration": 10,
    "start_time": "2024-05-21T18:20:09.608Z"
   },
   {
    "duration": 903,
    "start_time": "2024-05-21T18:20:09.620Z"
   },
   {
    "duration": 894,
    "start_time": "2024-05-21T18:20:10.526Z"
   },
   {
    "duration": 12,
    "start_time": "2024-05-21T18:20:11.423Z"
   },
   {
    "duration": 1152,
    "start_time": "2024-05-21T18:20:11.438Z"
   },
   {
    "duration": 1510,
    "start_time": "2024-05-22T05:21:28.731Z"
   },
   {
    "duration": 87,
    "start_time": "2024-05-22T05:21:30.245Z"
   },
   {
    "duration": 6,
    "start_time": "2024-05-22T05:21:30.335Z"
   },
   {
    "duration": 12,
    "start_time": "2024-05-22T05:21:30.344Z"
   },
   {
    "duration": 10,
    "start_time": "2024-05-22T05:21:30.363Z"
   },
   {
    "duration": 9,
    "start_time": "2024-05-22T05:21:30.432Z"
   },
   {
    "duration": 7,
    "start_time": "2024-05-22T05:21:30.445Z"
   },
   {
    "duration": 7,
    "start_time": "2024-05-22T05:21:30.455Z"
   },
   {
    "duration": 8,
    "start_time": "2024-05-22T05:21:30.464Z"
   },
   {
    "duration": 14,
    "start_time": "2024-05-22T05:21:30.532Z"
   },
   {
    "duration": 703,
    "start_time": "2024-05-22T05:21:30.549Z"
   },
   {
    "duration": 6,
    "start_time": "2024-05-22T05:21:31.255Z"
   },
   {
    "duration": 67,
    "start_time": "2024-05-22T05:21:31.264Z"
   },
   {
    "duration": 6,
    "start_time": "2024-05-22T05:21:31.337Z"
   },
   {
    "duration": 13,
    "start_time": "2024-05-22T05:21:31.346Z"
   },
   {
    "duration": 73,
    "start_time": "2024-05-22T05:21:31.362Z"
   },
   {
    "duration": 9,
    "start_time": "2024-05-22T05:21:31.438Z"
   },
   {
    "duration": 11,
    "start_time": "2024-05-22T05:21:31.452Z"
   },
   {
    "duration": 69,
    "start_time": "2024-05-22T05:21:31.469Z"
   },
   {
    "duration": 2598,
    "start_time": "2024-05-22T05:21:31.540Z"
   },
   {
    "duration": 31,
    "start_time": "2024-05-22T05:21:34.141Z"
   },
   {
    "duration": 2026,
    "start_time": "2024-05-22T05:21:34.174Z"
   },
   {
    "duration": 10,
    "start_time": "2024-05-22T05:21:36.202Z"
   },
   {
    "duration": 891,
    "start_time": "2024-05-22T05:21:36.229Z"
   },
   {
    "duration": 879,
    "start_time": "2024-05-22T05:21:37.123Z"
   },
   {
    "duration": 25,
    "start_time": "2024-05-22T05:21:38.005Z"
   },
   {
    "duration": 1142,
    "start_time": "2024-05-22T05:21:38.034Z"
   },
   {
    "duration": 336,
    "start_time": "2024-05-22T05:59:40.325Z"
   },
   {
    "duration": 33,
    "start_time": "2024-05-22T05:59:49.921Z"
   },
   {
    "duration": 5229,
    "start_time": "2024-05-22T06:00:08.008Z"
   },
   {
    "duration": 53,
    "start_time": "2024-05-22T06:00:13.241Z"
   },
   {
    "duration": 6,
    "start_time": "2024-05-22T06:00:13.297Z"
   },
   {
    "duration": 24,
    "start_time": "2024-05-22T06:00:13.308Z"
   },
   {
    "duration": 11,
    "start_time": "2024-05-22T06:00:13.336Z"
   },
   {
    "duration": 9,
    "start_time": "2024-05-22T06:00:13.349Z"
   },
   {
    "duration": 6,
    "start_time": "2024-05-22T06:00:13.361Z"
   },
   {
    "duration": 9,
    "start_time": "2024-05-22T06:00:13.371Z"
   },
   {
    "duration": 7,
    "start_time": "2024-05-22T06:00:13.431Z"
   },
   {
    "duration": 14,
    "start_time": "2024-05-22T06:00:13.445Z"
   },
   {
    "duration": 256,
    "start_time": "2024-05-22T06:00:13.462Z"
   },
   {
    "duration": 10,
    "start_time": "2024-05-22T06:00:13.722Z"
   },
   {
    "duration": 13,
    "start_time": "2024-05-22T06:00:13.735Z"
   },
   {
    "duration": 7,
    "start_time": "2024-05-22T06:00:13.751Z"
   },
   {
    "duration": 11,
    "start_time": "2024-05-22T06:00:13.761Z"
   },
   {
    "duration": 59,
    "start_time": "2024-05-22T06:00:13.775Z"
   },
   {
    "duration": 7,
    "start_time": "2024-05-22T06:00:13.836Z"
   },
   {
    "duration": 8,
    "start_time": "2024-05-22T06:00:13.846Z"
   },
   {
    "duration": 17,
    "start_time": "2024-05-22T06:00:13.858Z"
   },
   {
    "duration": 2080,
    "start_time": "2024-05-22T06:00:13.879Z"
   },
   {
    "duration": 30,
    "start_time": "2024-05-22T06:00:15.962Z"
   },
   {
    "duration": 2007,
    "start_time": "2024-05-22T06:00:15.996Z"
   },
   {
    "duration": 24,
    "start_time": "2024-05-22T06:00:18.006Z"
   },
   {
    "duration": 902,
    "start_time": "2024-05-22T06:00:18.033Z"
   },
   {
    "duration": 890,
    "start_time": "2024-05-22T06:00:18.937Z"
   },
   {
    "duration": 12,
    "start_time": "2024-05-22T06:00:19.831Z"
   },
   {
    "duration": 1142,
    "start_time": "2024-05-22T06:00:19.846Z"
   },
   {
    "duration": 2373,
    "start_time": "2024-05-22T06:01:59.949Z"
   },
   {
    "duration": 2345,
    "start_time": "2024-05-22T06:02:27.027Z"
   },
   {
    "duration": 2289,
    "start_time": "2024-05-22T06:02:37.701Z"
   },
   {
    "duration": 5738,
    "start_time": "2024-05-22T21:18:18.174Z"
   },
   {
    "duration": 61,
    "start_time": "2024-05-22T21:18:23.916Z"
   },
   {
    "duration": 8,
    "start_time": "2024-05-22T21:18:23.980Z"
   },
   {
    "duration": 14,
    "start_time": "2024-05-22T21:18:23.991Z"
   },
   {
    "duration": 12,
    "start_time": "2024-05-22T21:18:24.033Z"
   },
   {
    "duration": 11,
    "start_time": "2024-05-22T21:18:24.048Z"
   },
   {
    "duration": 9,
    "start_time": "2024-05-22T21:18:24.063Z"
   },
   {
    "duration": 56,
    "start_time": "2024-05-22T21:18:24.076Z"
   },
   {
    "duration": 8,
    "start_time": "2024-05-22T21:18:24.136Z"
   },
   {
    "duration": 18,
    "start_time": "2024-05-22T21:18:24.148Z"
   },
   {
    "duration": 307,
    "start_time": "2024-05-22T21:18:24.170Z"
   },
   {
    "duration": 7,
    "start_time": "2024-05-22T21:18:24.481Z"
   },
   {
    "duration": 15,
    "start_time": "2024-05-22T21:18:24.492Z"
   },
   {
    "duration": 8,
    "start_time": "2024-05-22T21:18:24.534Z"
   },
   {
    "duration": 13,
    "start_time": "2024-05-22T21:18:24.545Z"
   },
   {
    "duration": 16,
    "start_time": "2024-05-22T21:18:24.562Z"
   },
   {
    "duration": 51,
    "start_time": "2024-05-22T21:18:24.581Z"
   },
   {
    "duration": 11,
    "start_time": "2024-05-22T21:18:24.636Z"
   },
   {
    "duration": 23,
    "start_time": "2024-05-22T21:18:24.650Z"
   },
   {
    "duration": 2860,
    "start_time": "2024-05-22T21:18:24.676Z"
   },
   {
    "duration": 0,
    "start_time": "2024-05-22T21:18:27.539Z"
   },
   {
    "duration": 0,
    "start_time": "2024-05-22T21:18:27.540Z"
   },
   {
    "duration": 0,
    "start_time": "2024-05-22T21:18:27.543Z"
   },
   {
    "duration": 0,
    "start_time": "2024-05-22T21:18:27.545Z"
   },
   {
    "duration": 0,
    "start_time": "2024-05-22T21:18:27.547Z"
   },
   {
    "duration": 0,
    "start_time": "2024-05-22T21:18:27.549Z"
   },
   {
    "duration": 0,
    "start_time": "2024-05-22T21:18:27.551Z"
   },
   {
    "duration": 349,
    "start_time": "2024-05-22T21:48:02.923Z"
   },
   {
    "duration": 5489,
    "start_time": "2024-05-22T21:48:08.895Z"
   },
   {
    "duration": 55,
    "start_time": "2024-05-22T21:48:15.996Z"
   },
   {
    "duration": 6,
    "start_time": "2024-05-22T21:48:19.352Z"
   },
   {
    "duration": 1807,
    "start_time": "2024-05-22T21:48:25.720Z"
   },
   {
    "duration": 45,
    "start_time": "2024-05-22T21:48:27.531Z"
   },
   {
    "duration": 8,
    "start_time": "2024-05-22T21:48:27.579Z"
   },
   {
    "duration": 43,
    "start_time": "2024-05-22T21:48:27.591Z"
   },
   {
    "duration": 11,
    "start_time": "2024-05-22T21:48:27.641Z"
   },
   {
    "duration": 12,
    "start_time": "2024-05-22T21:48:27.655Z"
   },
   {
    "duration": 8,
    "start_time": "2024-05-22T21:48:27.671Z"
   },
   {
    "duration": 50,
    "start_time": "2024-05-22T21:48:27.683Z"
   },
   {
    "duration": 10,
    "start_time": "2024-05-22T21:48:27.742Z"
   },
   {
    "duration": 22,
    "start_time": "2024-05-22T21:48:27.755Z"
   },
   {
    "duration": 328,
    "start_time": "2024-05-22T21:48:27.783Z"
   },
   {
    "duration": 19,
    "start_time": "2024-05-22T21:48:28.114Z"
   },
   {
    "duration": 16,
    "start_time": "2024-05-22T21:48:28.137Z"
   },
   {
    "duration": 8,
    "start_time": "2024-05-22T21:48:28.161Z"
   },
   {
    "duration": 14,
    "start_time": "2024-05-22T21:48:28.173Z"
   },
   {
    "duration": 56,
    "start_time": "2024-05-22T21:48:28.190Z"
   },
   {
    "duration": 8,
    "start_time": "2024-05-22T21:48:28.250Z"
   },
   {
    "duration": 9,
    "start_time": "2024-05-22T21:48:28.261Z"
   },
   {
    "duration": 59,
    "start_time": "2024-05-22T21:48:28.274Z"
   },
   {
    "duration": 2861,
    "start_time": "2024-05-22T21:48:28.336Z"
   },
   {
    "duration": 0,
    "start_time": "2024-05-22T21:48:31.201Z"
   },
   {
    "duration": 0,
    "start_time": "2024-05-22T21:48:31.204Z"
   },
   {
    "duration": 0,
    "start_time": "2024-05-22T21:48:31.206Z"
   },
   {
    "duration": 0,
    "start_time": "2024-05-22T21:48:31.209Z"
   },
   {
    "duration": 0,
    "start_time": "2024-05-22T21:48:31.211Z"
   },
   {
    "duration": 0,
    "start_time": "2024-05-22T21:48:31.213Z"
   },
   {
    "duration": 0,
    "start_time": "2024-05-22T21:48:31.214Z"
   },
   {
    "duration": 2136,
    "start_time": "2024-05-22T21:49:06.698Z"
   },
   {
    "duration": 2366,
    "start_time": "2024-05-22T21:49:28.522Z"
   },
   {
    "duration": 2153,
    "start_time": "2024-05-22T21:50:26.939Z"
   },
   {
    "duration": 2106,
    "start_time": "2024-05-22T21:51:19.387Z"
   },
   {
    "duration": 33,
    "start_time": "2024-05-22T21:52:20.741Z"
   },
   {
    "duration": 10,
    "start_time": "2024-05-22T21:53:06.022Z"
   },
   {
    "duration": 13,
    "start_time": "2024-05-22T21:53:45.642Z"
   },
   {
    "duration": 926,
    "start_time": "2024-05-22T21:54:02.543Z"
   },
   {
    "duration": 946,
    "start_time": "2024-05-22T21:54:13.887Z"
   },
   {
    "duration": 1188,
    "start_time": "2024-05-22T21:54:41.877Z"
   },
   {
    "duration": 7,
    "start_time": "2024-05-22T22:20:18.811Z"
   },
   {
    "duration": 866,
    "start_time": "2024-05-22T22:25:49.113Z"
   },
   {
    "duration": 217,
    "start_time": "2024-05-22T22:38:57.252Z"
   },
   {
    "duration": 174,
    "start_time": "2024-05-22T22:39:45.682Z"
   },
   {
    "duration": 190,
    "start_time": "2024-05-22T22:40:35.805Z"
   },
   {
    "duration": 227,
    "start_time": "2024-05-22T22:41:44.908Z"
   },
   {
    "duration": 200,
    "start_time": "2024-05-22T22:42:27.488Z"
   },
   {
    "duration": 25,
    "start_time": "2024-05-22T22:42:49.496Z"
   },
   {
    "duration": 200,
    "start_time": "2024-05-22T22:43:01.993Z"
   },
   {
    "duration": 263,
    "start_time": "2024-05-22T22:43:20.311Z"
   },
   {
    "duration": 663,
    "start_time": "2024-05-22T22:44:18.255Z"
   },
   {
    "duration": 1467,
    "start_time": "2024-05-22T22:44:28.996Z"
   },
   {
    "duration": 47,
    "start_time": "2024-05-22T22:44:30.466Z"
   },
   {
    "duration": 26,
    "start_time": "2024-05-22T22:44:30.517Z"
   },
   {
    "duration": 12,
    "start_time": "2024-05-22T22:44:30.548Z"
   },
   {
    "duration": 11,
    "start_time": "2024-05-22T22:44:30.562Z"
   },
   {
    "duration": 13,
    "start_time": "2024-05-22T22:44:30.576Z"
   },
   {
    "duration": 45,
    "start_time": "2024-05-22T22:44:30.592Z"
   },
   {
    "duration": 7,
    "start_time": "2024-05-22T22:44:30.641Z"
   },
   {
    "duration": 8,
    "start_time": "2024-05-22T22:44:30.651Z"
   },
   {
    "duration": 15,
    "start_time": "2024-05-22T22:44:30.668Z"
   },
   {
    "duration": 329,
    "start_time": "2024-05-22T22:44:30.686Z"
   },
   {
    "duration": 17,
    "start_time": "2024-05-22T22:44:31.019Z"
   },
   {
    "duration": 13,
    "start_time": "2024-05-22T22:44:31.040Z"
   },
   {
    "duration": 7,
    "start_time": "2024-05-22T22:44:31.057Z"
   },
   {
    "duration": 12,
    "start_time": "2024-05-22T22:44:31.067Z"
   },
   {
    "duration": 57,
    "start_time": "2024-05-22T22:44:31.082Z"
   },
   {
    "duration": 9,
    "start_time": "2024-05-22T22:44:31.145Z"
   },
   {
    "duration": 8,
    "start_time": "2024-05-22T22:44:31.159Z"
   },
   {
    "duration": 19,
    "start_time": "2024-05-22T22:44:31.169Z"
   },
   {
    "duration": 2299,
    "start_time": "2024-05-22T22:44:31.192Z"
   },
   {
    "duration": 45,
    "start_time": "2024-05-22T22:44:33.495Z"
   },
   {
    "duration": 2159,
    "start_time": "2024-05-22T22:44:33.544Z"
   },
   {
    "duration": 11,
    "start_time": "2024-05-22T22:44:35.706Z"
   },
   {
    "duration": 950,
    "start_time": "2024-05-22T22:44:35.734Z"
   },
   {
    "duration": 1002,
    "start_time": "2024-05-22T22:44:36.688Z"
   },
   {
    "duration": 13,
    "start_time": "2024-05-22T22:44:37.693Z"
   },
   {
    "duration": 1240,
    "start_time": "2024-05-22T22:44:37.710Z"
   },
   {
    "duration": 1174,
    "start_time": "2024-05-22T22:45:02.158Z"
   },
   {
    "duration": 1400,
    "start_time": "2024-05-22T22:45:25.283Z"
   },
   {
    "duration": 48,
    "start_time": "2024-05-22T22:45:26.686Z"
   },
   {
    "duration": 6,
    "start_time": "2024-05-22T22:45:26.736Z"
   },
   {
    "duration": 11,
    "start_time": "2024-05-22T22:45:26.747Z"
   },
   {
    "duration": 10,
    "start_time": "2024-05-22T22:45:26.761Z"
   },
   {
    "duration": 10,
    "start_time": "2024-05-22T22:45:26.773Z"
   },
   {
    "duration": 51,
    "start_time": "2024-05-22T22:45:26.786Z"
   },
   {
    "duration": 7,
    "start_time": "2024-05-22T22:45:26.841Z"
   },
   {
    "duration": 7,
    "start_time": "2024-05-22T22:45:26.851Z"
   },
   {
    "duration": 15,
    "start_time": "2024-05-22T22:45:26.864Z"
   },
   {
    "duration": 291,
    "start_time": "2024-05-22T22:45:26.932Z"
   },
   {
    "duration": 8,
    "start_time": "2024-05-22T22:45:27.226Z"
   },
   {
    "duration": 13,
    "start_time": "2024-05-22T22:45:27.237Z"
   },
   {
    "duration": 7,
    "start_time": "2024-05-22T22:45:27.252Z"
   },
   {
    "duration": 11,
    "start_time": "2024-05-22T22:45:27.262Z"
   },
   {
    "duration": 60,
    "start_time": "2024-05-22T22:45:27.275Z"
   },
   {
    "duration": 8,
    "start_time": "2024-05-22T22:45:27.337Z"
   },
   {
    "duration": 9,
    "start_time": "2024-05-22T22:45:27.348Z"
   },
   {
    "duration": 16,
    "start_time": "2024-05-22T22:45:27.359Z"
   },
   {
    "duration": 2070,
    "start_time": "2024-05-22T22:45:27.378Z"
   },
   {
    "duration": 30,
    "start_time": "2024-05-22T22:45:29.451Z"
   },
   {
    "duration": 1996,
    "start_time": "2024-05-22T22:45:29.484Z"
   },
   {
    "duration": 11,
    "start_time": "2024-05-22T22:45:31.483Z"
   },
   {
    "duration": 907,
    "start_time": "2024-05-22T22:45:31.497Z"
   },
   {
    "duration": 902,
    "start_time": "2024-05-22T22:45:32.407Z"
   },
   {
    "duration": 23,
    "start_time": "2024-05-22T22:45:33.312Z"
   },
   {
    "duration": 1133,
    "start_time": "2024-05-22T22:45:33.338Z"
   },
   {
    "duration": 1139,
    "start_time": "2024-05-22T22:46:47.274Z"
   },
   {
    "duration": 457,
    "start_time": "2024-05-22T23:06:29.085Z"
   },
   {
    "duration": 255,
    "start_time": "2024-05-22T23:06:51.140Z"
   },
   {
    "duration": 1179,
    "start_time": "2024-05-22T23:12:16.757Z"
   },
   {
    "duration": 67,
    "start_time": "2024-05-22T23:24:26.519Z"
   },
   {
    "duration": 31,
    "start_time": "2024-05-22T23:25:12.801Z"
   },
   {
    "duration": 341,
    "start_time": "2024-05-23T00:07:52.069Z"
   },
   {
    "duration": 26,
    "start_time": "2024-05-23T00:08:04.644Z"
   },
   {
    "duration": 5854,
    "start_time": "2024-05-23T00:08:18.122Z"
   },
   {
    "duration": 85,
    "start_time": "2024-05-23T00:08:23.980Z"
   },
   {
    "duration": 8,
    "start_time": "2024-05-23T00:08:24.069Z"
   },
   {
    "duration": 13,
    "start_time": "2024-05-23T00:08:24.083Z"
   },
   {
    "duration": 19,
    "start_time": "2024-05-23T00:08:24.107Z"
   },
   {
    "duration": 9,
    "start_time": "2024-05-23T00:08:24.129Z"
   },
   {
    "duration": 9,
    "start_time": "2024-05-23T00:08:24.142Z"
   },
   {
    "duration": 8,
    "start_time": "2024-05-23T00:08:24.154Z"
   },
   {
    "duration": 9,
    "start_time": "2024-05-23T00:08:24.207Z"
   },
   {
    "duration": 23,
    "start_time": "2024-05-23T00:08:24.225Z"
   },
   {
    "duration": 288,
    "start_time": "2024-05-23T00:08:24.262Z"
   },
   {
    "duration": 7,
    "start_time": "2024-05-23T00:08:24.554Z"
   },
   {
    "duration": 18,
    "start_time": "2024-05-23T00:08:24.565Z"
   },
   {
    "duration": 10,
    "start_time": "2024-05-23T00:08:24.606Z"
   },
   {
    "duration": 15,
    "start_time": "2024-05-23T00:08:24.619Z"
   },
   {
    "duration": 572,
    "start_time": "2024-05-23T00:08:24.638Z"
   },
   {
    "duration": 0,
    "start_time": "2024-05-23T00:08:25.213Z"
   },
   {
    "duration": 0,
    "start_time": "2024-05-23T00:08:25.216Z"
   },
   {
    "duration": 0,
    "start_time": "2024-05-23T00:08:25.218Z"
   },
   {
    "duration": 0,
    "start_time": "2024-05-23T00:08:25.220Z"
   },
   {
    "duration": 0,
    "start_time": "2024-05-23T00:08:25.222Z"
   },
   {
    "duration": 0,
    "start_time": "2024-05-23T00:08:25.225Z"
   },
   {
    "duration": 0,
    "start_time": "2024-05-23T00:08:25.226Z"
   },
   {
    "duration": 0,
    "start_time": "2024-05-23T00:08:25.229Z"
   },
   {
    "duration": 0,
    "start_time": "2024-05-23T00:08:25.234Z"
   },
   {
    "duration": 0,
    "start_time": "2024-05-23T00:08:25.236Z"
   },
   {
    "duration": 1,
    "start_time": "2024-05-23T00:08:25.238Z"
   },
   {
    "duration": 0,
    "start_time": "2024-05-23T00:08:25.240Z"
   },
   {
    "duration": 13,
    "start_time": "2024-05-23T00:08:44.845Z"
   },
   {
    "duration": 15,
    "start_time": "2024-05-23T00:09:30.648Z"
   },
   {
    "duration": 24,
    "start_time": "2024-05-23T00:09:38.383Z"
   },
   {
    "duration": 6,
    "start_time": "2024-05-23T00:10:14.484Z"
   },
   {
    "duration": 7,
    "start_time": "2024-05-23T00:10:23.989Z"
   },
   {
    "duration": 15,
    "start_time": "2024-05-23T00:10:33.513Z"
   },
   {
    "duration": 35,
    "start_time": "2024-05-23T00:10:39.594Z"
   },
   {
    "duration": 933,
    "start_time": "2024-05-23T00:11:40.348Z"
   },
   {
    "duration": 2038,
    "start_time": "2024-05-23T00:12:22.436Z"
   },
   {
    "duration": 25,
    "start_time": "2024-05-23T00:12:37.310Z"
   },
   {
    "duration": 31,
    "start_time": "2024-05-23T00:13:33.385Z"
   },
   {
    "duration": 34,
    "start_time": "2024-05-23T00:13:45.183Z"
   },
   {
    "duration": 2002,
    "start_time": "2024-05-23T00:14:50.720Z"
   },
   {
    "duration": 2026,
    "start_time": "2024-05-23T00:15:17.364Z"
   },
   {
    "duration": 10,
    "start_time": "2024-05-23T00:16:02.354Z"
   },
   {
    "duration": 133,
    "start_time": "2024-05-23T00:16:10.113Z"
   },
   {
    "duration": 25,
    "start_time": "2024-05-23T00:21:39.899Z"
   },
   {
    "duration": 88,
    "start_time": "2024-05-23T00:22:19.237Z"
   },
   {
    "duration": 86,
    "start_time": "2024-05-23T00:22:44.999Z"
   },
   {
    "duration": 83,
    "start_time": "2024-05-23T00:25:34.373Z"
   },
   {
    "duration": 38,
    "start_time": "2024-05-23T00:27:44.063Z"
   },
   {
    "duration": 37,
    "start_time": "2024-05-23T00:28:26.607Z"
   },
   {
    "duration": 36,
    "start_time": "2024-05-23T00:29:58.945Z"
   },
   {
    "duration": 48,
    "start_time": "2024-05-23T00:30:10.698Z"
   },
   {
    "duration": 119,
    "start_time": "2024-05-23T00:30:31.346Z"
   },
   {
    "duration": 91,
    "start_time": "2024-05-23T00:30:48.578Z"
   },
   {
    "duration": 1450,
    "start_time": "2024-05-23T01:56:13.433Z"
   },
   {
    "duration": 50,
    "start_time": "2024-05-23T01:56:14.886Z"
   },
   {
    "duration": 6,
    "start_time": "2024-05-23T01:56:14.939Z"
   },
   {
    "duration": 11,
    "start_time": "2024-05-23T01:56:14.950Z"
   },
   {
    "duration": 45,
    "start_time": "2024-05-23T01:56:14.964Z"
   },
   {
    "duration": 8,
    "start_time": "2024-05-23T01:56:15.011Z"
   },
   {
    "duration": 6,
    "start_time": "2024-05-23T01:56:15.023Z"
   },
   {
    "duration": 8,
    "start_time": "2024-05-23T01:56:15.032Z"
   },
   {
    "duration": 8,
    "start_time": "2024-05-23T01:56:15.043Z"
   },
   {
    "duration": 61,
    "start_time": "2024-05-23T01:56:15.057Z"
   },
   {
    "duration": 292,
    "start_time": "2024-05-23T01:56:15.121Z"
   },
   {
    "duration": 6,
    "start_time": "2024-05-23T01:56:15.416Z"
   },
   {
    "duration": 13,
    "start_time": "2024-05-23T01:56:15.425Z"
   },
   {
    "duration": 7,
    "start_time": "2024-05-23T01:56:15.441Z"
   },
   {
    "duration": 12,
    "start_time": "2024-05-23T01:56:15.450Z"
   },
   {
    "duration": 59,
    "start_time": "2024-05-23T01:56:15.464Z"
   },
   {
    "duration": 6,
    "start_time": "2024-05-23T01:56:15.526Z"
   },
   {
    "duration": 8,
    "start_time": "2024-05-23T01:56:15.535Z"
   },
   {
    "duration": 16,
    "start_time": "2024-05-23T01:56:15.546Z"
   },
   {
    "duration": 2491,
    "start_time": "2024-05-23T01:56:15.610Z"
   },
   {
    "duration": 0,
    "start_time": "2024-05-23T01:56:18.108Z"
   },
   {
    "duration": 0,
    "start_time": "2024-05-23T01:56:18.110Z"
   },
   {
    "duration": 0,
    "start_time": "2024-05-23T01:56:18.113Z"
   },
   {
    "duration": 0,
    "start_time": "2024-05-23T01:56:18.115Z"
   },
   {
    "duration": 0,
    "start_time": "2024-05-23T01:56:18.120Z"
   },
   {
    "duration": 1,
    "start_time": "2024-05-23T01:56:18.123Z"
   },
   {
    "duration": 0,
    "start_time": "2024-05-23T01:56:18.127Z"
   },
   {
    "duration": 0,
    "start_time": "2024-05-23T01:56:18.130Z"
   },
   {
    "duration": 2038,
    "start_time": "2024-05-23T01:57:23.982Z"
   },
   {
    "duration": 30,
    "start_time": "2024-05-23T01:57:32.114Z"
   },
   {
    "duration": 2030,
    "start_time": "2024-05-23T01:57:37.890Z"
   },
   {
    "duration": 10,
    "start_time": "2024-05-23T01:57:44.960Z"
   },
   {
    "duration": 33,
    "start_time": "2024-05-23T01:57:48.626Z"
   },
   {
    "duration": 158,
    "start_time": "2024-05-23T02:05:52.221Z"
   },
   {
    "duration": 6,
    "start_time": "2024-05-23T02:07:31.974Z"
   },
   {
    "duration": 21,
    "start_time": "2024-05-23T02:09:46.086Z"
   },
   {
    "duration": 749,
    "start_time": "2024-05-23T02:11:26.699Z"
   },
   {
    "duration": 85,
    "start_time": "2024-05-23T02:12:51.068Z"
   },
   {
    "duration": 7,
    "start_time": "2024-05-23T02:14:59.851Z"
   },
   {
    "duration": 13,
    "start_time": "2024-05-23T02:16:07.677Z"
   },
   {
    "duration": 8,
    "start_time": "2024-05-23T02:16:23.123Z"
   },
   {
    "duration": 53,
    "start_time": "2024-05-23T02:17:43.438Z"
   },
   {
    "duration": 6,
    "start_time": "2024-05-23T02:19:32.756Z"
   },
   {
    "duration": 1304,
    "start_time": "2024-05-23T02:19:41.623Z"
   },
   {
    "duration": 9,
    "start_time": "2024-05-23T02:21:09.358Z"
   },
   {
    "duration": 6,
    "start_time": "2024-05-23T02:26:49.605Z"
   },
   {
    "duration": 1301,
    "start_time": "2024-05-23T02:26:57.894Z"
   },
   {
    "duration": 35,
    "start_time": "2024-05-23T02:32:17.111Z"
   },
   {
    "duration": 43,
    "start_time": "2024-05-23T02:32:44.758Z"
   },
   {
    "duration": 35,
    "start_time": "2024-05-23T02:33:53.927Z"
   },
   {
    "duration": 51,
    "start_time": "2024-05-23T02:34:33.509Z"
   },
   {
    "duration": 52,
    "start_time": "2024-05-23T02:34:49.898Z"
   },
   {
    "duration": 43,
    "start_time": "2024-05-23T02:45:28.908Z"
   },
   {
    "duration": 12,
    "start_time": "2024-05-23T02:47:24.114Z"
   },
   {
    "duration": 9,
    "start_time": "2024-05-23T02:49:50.582Z"
   },
   {
    "duration": 9,
    "start_time": "2024-05-23T02:49:55.377Z"
   },
   {
    "duration": 5166,
    "start_time": "2024-05-23T18:22:37.487Z"
   },
   {
    "duration": 55,
    "start_time": "2024-05-23T18:22:42.657Z"
   },
   {
    "duration": 18,
    "start_time": "2024-05-23T18:22:42.716Z"
   },
   {
    "duration": 11,
    "start_time": "2024-05-23T18:22:42.738Z"
   },
   {
    "duration": 10,
    "start_time": "2024-05-23T18:22:42.752Z"
   },
   {
    "duration": 9,
    "start_time": "2024-05-23T18:22:42.764Z"
   },
   {
    "duration": 7,
    "start_time": "2024-05-23T18:22:42.776Z"
   },
   {
    "duration": 53,
    "start_time": "2024-05-23T18:22:42.786Z"
   },
   {
    "duration": 21,
    "start_time": "2024-05-23T18:22:42.842Z"
   },
   {
    "duration": 14,
    "start_time": "2024-05-23T18:22:42.869Z"
   },
   {
    "duration": 256,
    "start_time": "2024-05-23T18:22:42.886Z"
   },
   {
    "duration": 7,
    "start_time": "2024-05-23T18:22:43.146Z"
   },
   {
    "duration": 14,
    "start_time": "2024-05-23T18:22:43.157Z"
   },
   {
    "duration": 10,
    "start_time": "2024-05-23T18:22:43.174Z"
   },
   {
    "duration": 51,
    "start_time": "2024-05-23T18:22:43.187Z"
   },
   {
    "duration": 16,
    "start_time": "2024-05-23T18:22:43.241Z"
   },
   {
    "duration": 6,
    "start_time": "2024-05-23T18:22:43.260Z"
   },
   {
    "duration": 8,
    "start_time": "2024-05-23T18:22:43.269Z"
   },
   {
    "duration": 56,
    "start_time": "2024-05-23T18:22:43.280Z"
   },
   {
    "duration": 2072,
    "start_time": "2024-05-23T18:22:43.339Z"
   },
   {
    "duration": 44,
    "start_time": "2024-05-23T18:22:45.414Z"
   },
   {
    "duration": 2012,
    "start_time": "2024-05-23T18:22:45.461Z"
   },
   {
    "duration": 10,
    "start_time": "2024-05-23T18:22:47.477Z"
   },
   {
    "duration": 1320,
    "start_time": "2024-05-23T18:22:47.490Z"
   },
   {
    "duration": 8,
    "start_time": "2024-05-23T18:22:48.814Z"
   },
   {
    "duration": 9,
    "start_time": "2024-05-23T18:22:48.835Z"
   },
   {
    "duration": 21,
    "start_time": "2024-05-23T18:22:48.848Z"
   },
   {
    "duration": 1302,
    "start_time": "2024-05-23T18:22:48.876Z"
   },
   {
    "duration": 11,
    "start_time": "2024-05-23T18:22:50.181Z"
   },
   {
    "duration": 0,
    "start_time": "2024-05-23T18:22:50.194Z"
   },
   {
    "duration": 0,
    "start_time": "2024-05-23T18:22:50.197Z"
   },
   {
    "duration": 0,
    "start_time": "2024-05-23T18:22:50.199Z"
   },
   {
    "duration": 12,
    "start_time": "2024-05-23T18:24:26.228Z"
   },
   {
    "duration": 19,
    "start_time": "2024-05-23T18:24:36.207Z"
   },
   {
    "duration": 2014,
    "start_time": "2024-05-23T18:24:41.098Z"
   },
   {
    "duration": 5273,
    "start_time": "2024-05-23T18:47:58.910Z"
   },
   {
    "duration": 53,
    "start_time": "2024-05-23T18:48:04.187Z"
   },
   {
    "duration": 6,
    "start_time": "2024-05-23T18:48:04.243Z"
   },
   {
    "duration": 13,
    "start_time": "2024-05-23T18:48:04.253Z"
   },
   {
    "duration": 9,
    "start_time": "2024-05-23T18:48:04.269Z"
   },
   {
    "duration": 9,
    "start_time": "2024-05-23T18:48:04.281Z"
   },
   {
    "duration": 7,
    "start_time": "2024-05-23T18:48:04.333Z"
   },
   {
    "duration": 8,
    "start_time": "2024-05-23T18:48:04.343Z"
   },
   {
    "duration": 7,
    "start_time": "2024-05-23T18:48:04.354Z"
   },
   {
    "duration": 14,
    "start_time": "2024-05-23T18:48:04.367Z"
   },
   {
    "duration": 259,
    "start_time": "2024-05-23T18:48:04.383Z"
   },
   {
    "duration": 7,
    "start_time": "2024-05-23T18:48:04.645Z"
   },
   {
    "duration": 14,
    "start_time": "2024-05-23T18:48:04.655Z"
   },
   {
    "duration": 7,
    "start_time": "2024-05-23T18:48:04.673Z"
   },
   {
    "duration": 53,
    "start_time": "2024-05-23T18:48:04.684Z"
   },
   {
    "duration": 17,
    "start_time": "2024-05-23T18:48:04.739Z"
   },
   {
    "duration": 7,
    "start_time": "2024-05-23T18:48:04.759Z"
   },
   {
    "duration": 8,
    "start_time": "2024-05-23T18:48:04.769Z"
   },
   {
    "duration": 56,
    "start_time": "2024-05-23T18:48:04.780Z"
   },
   {
    "duration": 2040,
    "start_time": "2024-05-23T18:48:04.840Z"
   },
   {
    "duration": 50,
    "start_time": "2024-05-23T18:48:06.883Z"
   },
   {
    "duration": 1998,
    "start_time": "2024-05-23T18:48:06.936Z"
   },
   {
    "duration": 10,
    "start_time": "2024-05-23T18:48:08.936Z"
   },
   {
    "duration": 1317,
    "start_time": "2024-05-23T18:48:08.949Z"
   },
   {
    "duration": 8,
    "start_time": "2024-05-23T18:48:10.269Z"
   },
   {
    "duration": 9,
    "start_time": "2024-05-23T18:48:10.280Z"
   },
   {
    "duration": 54,
    "start_time": "2024-05-23T18:48:10.292Z"
   },
   {
    "duration": 1306,
    "start_time": "2024-05-23T18:48:10.352Z"
   },
   {
    "duration": 11,
    "start_time": "2024-05-23T18:48:11.661Z"
   },
   {
    "duration": 0,
    "start_time": "2024-05-23T18:48:11.675Z"
   },
   {
    "duration": 0,
    "start_time": "2024-05-23T18:48:11.678Z"
   },
   {
    "duration": 0,
    "start_time": "2024-05-23T18:48:11.680Z"
   },
   {
    "duration": 1568,
    "start_time": "2024-05-23T18:48:55.425Z"
   },
   {
    "duration": 49,
    "start_time": "2024-05-23T18:48:56.997Z"
   },
   {
    "duration": 7,
    "start_time": "2024-05-23T18:48:57.048Z"
   },
   {
    "duration": 13,
    "start_time": "2024-05-23T18:48:57.058Z"
   },
   {
    "duration": 9,
    "start_time": "2024-05-23T18:48:57.076Z"
   },
   {
    "duration": 49,
    "start_time": "2024-05-23T18:48:57.088Z"
   },
   {
    "duration": 13,
    "start_time": "2024-05-23T18:48:57.143Z"
   },
   {
    "duration": 10,
    "start_time": "2024-05-23T18:48:57.159Z"
   },
   {
    "duration": 10,
    "start_time": "2024-05-23T18:48:57.171Z"
   },
   {
    "duration": 50,
    "start_time": "2024-05-23T18:48:57.184Z"
   },
   {
    "duration": 285,
    "start_time": "2024-05-23T18:48:57.236Z"
   },
   {
    "duration": 11,
    "start_time": "2024-05-23T18:48:57.524Z"
   },
   {
    "duration": 14,
    "start_time": "2024-05-23T18:48:57.538Z"
   },
   {
    "duration": 6,
    "start_time": "2024-05-23T18:48:57.560Z"
   },
   {
    "duration": 11,
    "start_time": "2024-05-23T18:48:57.569Z"
   },
   {
    "duration": 59,
    "start_time": "2024-05-23T18:48:57.583Z"
   },
   {
    "duration": 7,
    "start_time": "2024-05-23T18:48:57.645Z"
   },
   {
    "duration": 8,
    "start_time": "2024-05-23T18:48:57.655Z"
   },
   {
    "duration": 16,
    "start_time": "2024-05-23T18:48:57.665Z"
   },
   {
    "duration": 2063,
    "start_time": "2024-05-23T18:48:57.684Z"
   },
   {
    "duration": 31,
    "start_time": "2024-05-23T18:48:59.753Z"
   },
   {
    "duration": 1994,
    "start_time": "2024-05-23T18:48:59.787Z"
   },
   {
    "duration": 10,
    "start_time": "2024-05-23T18:49:01.784Z"
   },
   {
    "duration": 1322,
    "start_time": "2024-05-23T18:49:01.798Z"
   },
   {
    "duration": 14,
    "start_time": "2024-05-23T18:49:03.123Z"
   },
   {
    "duration": 8,
    "start_time": "2024-05-23T18:49:03.139Z"
   },
   {
    "duration": 21,
    "start_time": "2024-05-23T18:49:03.150Z"
   },
   {
    "duration": 1308,
    "start_time": "2024-05-23T18:49:03.174Z"
   },
   {
    "duration": 9,
    "start_time": "2024-05-23T18:49:04.485Z"
   },
   {
    "duration": 0,
    "start_time": "2024-05-23T18:49:04.498Z"
   },
   {
    "duration": 0,
    "start_time": "2024-05-23T18:49:04.501Z"
   },
   {
    "duration": 0,
    "start_time": "2024-05-23T18:49:04.503Z"
   },
   {
    "duration": 1269,
    "start_time": "2024-05-23T18:51:37.376Z"
   },
   {
    "duration": 8,
    "start_time": "2024-05-23T18:51:43.759Z"
   },
   {
    "duration": 8,
    "start_time": "2024-05-23T18:51:46.116Z"
   },
   {
    "duration": 14,
    "start_time": "2024-05-23T18:54:59.000Z"
   },
   {
    "duration": 1252,
    "start_time": "2024-05-23T18:55:03.506Z"
   },
   {
    "duration": 8,
    "start_time": "2024-05-23T18:56:49.112Z"
   },
   {
    "duration": 416,
    "start_time": "2024-05-23T18:56:55.916Z"
   },
   {
    "duration": 10,
    "start_time": "2024-05-23T18:58:21.810Z"
   },
   {
    "duration": 27,
    "start_time": "2024-05-23T18:58:24.521Z"
   },
   {
    "duration": 9,
    "start_time": "2024-05-23T19:03:52.873Z"
   },
   {
    "duration": 10,
    "start_time": "2024-05-23T19:15:43.200Z"
   },
   {
    "duration": 11,
    "start_time": "2024-05-23T19:31:50.315Z"
   },
   {
    "duration": 5444,
    "start_time": "2024-05-23T20:50:03.000Z"
   },
   {
    "duration": 72,
    "start_time": "2024-05-23T20:50:08.448Z"
   },
   {
    "duration": 6,
    "start_time": "2024-05-23T20:50:08.523Z"
   },
   {
    "duration": 14,
    "start_time": "2024-05-23T20:50:08.533Z"
   },
   {
    "duration": 12,
    "start_time": "2024-05-23T20:50:08.552Z"
   },
   {
    "duration": 41,
    "start_time": "2024-05-23T20:50:08.569Z"
   },
   {
    "duration": 11,
    "start_time": "2024-05-23T20:50:08.612Z"
   },
   {
    "duration": 9,
    "start_time": "2024-05-23T20:50:08.627Z"
   },
   {
    "duration": 8,
    "start_time": "2024-05-23T20:50:08.640Z"
   },
   {
    "duration": 58,
    "start_time": "2024-05-23T20:50:08.651Z"
   },
   {
    "duration": 242,
    "start_time": "2024-05-23T20:50:08.712Z"
   },
   {
    "duration": 6,
    "start_time": "2024-05-23T20:50:08.959Z"
   },
   {
    "duration": 38,
    "start_time": "2024-05-23T20:50:08.968Z"
   },
   {
    "duration": 11,
    "start_time": "2024-05-23T20:50:09.020Z"
   },
   {
    "duration": 12,
    "start_time": "2024-05-23T20:50:09.034Z"
   },
   {
    "duration": 21,
    "start_time": "2024-05-23T20:50:09.049Z"
   },
   {
    "duration": 32,
    "start_time": "2024-05-23T20:50:09.074Z"
   },
   {
    "duration": 10,
    "start_time": "2024-05-23T20:50:09.110Z"
   },
   {
    "duration": 20,
    "start_time": "2024-05-23T20:50:09.124Z"
   },
   {
    "duration": 2118,
    "start_time": "2024-05-23T20:50:09.147Z"
   },
   {
    "duration": 50,
    "start_time": "2024-05-23T20:50:11.268Z"
   },
   {
    "duration": 2030,
    "start_time": "2024-05-23T20:50:11.321Z"
   },
   {
    "duration": 13,
    "start_time": "2024-05-23T20:50:13.354Z"
   },
   {
    "duration": 36,
    "start_time": "2024-05-23T20:50:13.371Z"
   },
   {
    "duration": 1387,
    "start_time": "2024-05-23T20:50:13.409Z"
   },
   {
    "duration": 12,
    "start_time": "2024-05-23T20:50:14.798Z"
   },
   {
    "duration": 9,
    "start_time": "2024-05-23T20:50:14.814Z"
   },
   {
    "duration": 22,
    "start_time": "2024-05-23T20:50:14.826Z"
   },
   {
    "duration": 11,
    "start_time": "2024-05-23T20:50:14.851Z"
   },
   {
    "duration": 0,
    "start_time": "2024-05-23T20:50:14.907Z"
   },
   {
    "duration": 0,
    "start_time": "2024-05-23T20:50:14.910Z"
   },
   {
    "duration": 0,
    "start_time": "2024-05-23T20:50:14.912Z"
   },
   {
    "duration": 0,
    "start_time": "2024-05-23T20:50:14.914Z"
   },
   {
    "duration": 10,
    "start_time": "2024-05-23T20:54:59.247Z"
   },
   {
    "duration": 1492,
    "start_time": "2024-05-23T20:56:27.241Z"
   },
   {
    "duration": 33,
    "start_time": "2024-05-23T20:57:02.657Z"
   },
   {
    "duration": 1462,
    "start_time": "2024-05-23T21:44:38.033Z"
   },
   {
    "duration": 42,
    "start_time": "2024-05-23T21:44:39.498Z"
   },
   {
    "duration": 6,
    "start_time": "2024-05-23T21:44:39.543Z"
   },
   {
    "duration": 12,
    "start_time": "2024-05-23T21:44:39.554Z"
   },
   {
    "duration": 40,
    "start_time": "2024-05-23T21:44:39.572Z"
   },
   {
    "duration": 8,
    "start_time": "2024-05-23T21:44:39.615Z"
   },
   {
    "duration": 7,
    "start_time": "2024-05-23T21:44:39.626Z"
   },
   {
    "duration": 9,
    "start_time": "2024-05-23T21:44:39.636Z"
   },
   {
    "duration": 7,
    "start_time": "2024-05-23T21:44:39.648Z"
   },
   {
    "duration": 59,
    "start_time": "2024-05-23T21:44:39.660Z"
   },
   {
    "duration": 286,
    "start_time": "2024-05-23T21:44:39.723Z"
   },
   {
    "duration": 6,
    "start_time": "2024-05-23T21:44:40.012Z"
   },
   {
    "duration": 12,
    "start_time": "2024-05-23T21:44:40.021Z"
   },
   {
    "duration": 6,
    "start_time": "2024-05-23T21:44:40.036Z"
   },
   {
    "duration": 11,
    "start_time": "2024-05-23T21:44:40.045Z"
   },
   {
    "duration": 61,
    "start_time": "2024-05-23T21:44:40.059Z"
   },
   {
    "duration": 6,
    "start_time": "2024-05-23T21:44:40.123Z"
   },
   {
    "duration": 10,
    "start_time": "2024-05-23T21:44:40.132Z"
   },
   {
    "duration": 18,
    "start_time": "2024-05-23T21:44:40.144Z"
   },
   {
    "duration": 2053,
    "start_time": "2024-05-23T21:44:40.205Z"
   },
   {
    "duration": 45,
    "start_time": "2024-05-23T21:44:42.261Z"
   },
   {
    "duration": 1978,
    "start_time": "2024-05-23T21:44:42.309Z"
   },
   {
    "duration": 17,
    "start_time": "2024-05-23T21:44:44.290Z"
   },
   {
    "duration": 15,
    "start_time": "2024-05-23T21:44:44.310Z"
   },
   {
    "duration": 1297,
    "start_time": "2024-05-23T21:44:44.328Z"
   },
   {
    "duration": 9,
    "start_time": "2024-05-23T21:44:45.630Z"
   },
   {
    "duration": 8,
    "start_time": "2024-05-23T21:44:45.642Z"
   },
   {
    "duration": 57,
    "start_time": "2024-05-23T21:44:45.659Z"
   },
   {
    "duration": 8,
    "start_time": "2024-05-23T21:44:45.719Z"
   },
   {
    "duration": 0,
    "start_time": "2024-05-23T21:44:45.730Z"
   },
   {
    "duration": 0,
    "start_time": "2024-05-23T21:44:45.733Z"
   },
   {
    "duration": 0,
    "start_time": "2024-05-23T21:44:45.735Z"
   },
   {
    "duration": 0,
    "start_time": "2024-05-23T21:44:45.736Z"
   },
   {
    "duration": 8,
    "start_time": "2024-05-23T21:45:04.834Z"
   },
   {
    "duration": 412,
    "start_time": "2024-05-23T21:47:06.116Z"
   },
   {
    "duration": 1456,
    "start_time": "2024-05-23T21:47:21.500Z"
   },
   {
    "duration": 57,
    "start_time": "2024-05-23T21:47:22.960Z"
   },
   {
    "duration": 5,
    "start_time": "2024-05-23T21:47:23.020Z"
   },
   {
    "duration": 13,
    "start_time": "2024-05-23T21:47:23.028Z"
   },
   {
    "duration": 9,
    "start_time": "2024-05-23T21:47:23.046Z"
   },
   {
    "duration": 11,
    "start_time": "2024-05-23T21:47:23.058Z"
   },
   {
    "duration": 39,
    "start_time": "2024-05-23T21:47:23.073Z"
   },
   {
    "duration": 7,
    "start_time": "2024-05-23T21:47:23.116Z"
   },
   {
    "duration": 8,
    "start_time": "2024-05-23T21:47:23.125Z"
   },
   {
    "duration": 14,
    "start_time": "2024-05-23T21:47:23.136Z"
   },
   {
    "duration": 336,
    "start_time": "2024-05-23T21:47:23.153Z"
   },
   {
    "duration": 6,
    "start_time": "2024-05-23T21:47:23.492Z"
   },
   {
    "duration": 12,
    "start_time": "2024-05-23T21:47:23.506Z"
   },
   {
    "duration": 7,
    "start_time": "2024-05-23T21:47:23.523Z"
   },
   {
    "duration": 11,
    "start_time": "2024-05-23T21:47:23.533Z"
   },
   {
    "duration": 16,
    "start_time": "2024-05-23T21:47:23.547Z"
   },
   {
    "duration": 9,
    "start_time": "2024-05-23T21:47:23.605Z"
   },
   {
    "duration": 8,
    "start_time": "2024-05-23T21:47:23.617Z"
   },
   {
    "duration": 16,
    "start_time": "2024-05-23T21:47:23.627Z"
   },
   {
    "duration": 2280,
    "start_time": "2024-05-23T21:47:23.646Z"
   },
   {
    "duration": 38,
    "start_time": "2024-05-23T21:47:25.929Z"
   },
   {
    "duration": 2114,
    "start_time": "2024-05-23T21:47:25.971Z"
   },
   {
    "duration": 22,
    "start_time": "2024-05-23T21:47:28.088Z"
   },
   {
    "duration": 16,
    "start_time": "2024-05-23T21:47:28.116Z"
   },
   {
    "duration": 1340,
    "start_time": "2024-05-23T21:47:28.138Z"
   },
   {
    "duration": 10,
    "start_time": "2024-05-23T21:47:29.482Z"
   },
   {
    "duration": 17,
    "start_time": "2024-05-23T21:47:29.494Z"
   },
   {
    "duration": 25,
    "start_time": "2024-05-23T21:47:29.514Z"
   },
   {
    "duration": 9,
    "start_time": "2024-05-23T21:47:29.541Z"
   },
   {
    "duration": 0,
    "start_time": "2024-05-23T21:47:29.555Z"
   },
   {
    "duration": 0,
    "start_time": "2024-05-23T21:47:29.558Z"
   },
   {
    "duration": 0,
    "start_time": "2024-05-23T21:47:29.560Z"
   },
   {
    "duration": 1,
    "start_time": "2024-05-23T21:47:29.605Z"
   },
   {
    "duration": 13,
    "start_time": "2024-05-23T21:49:05.664Z"
   },
   {
    "duration": 1448,
    "start_time": "2024-05-23T21:49:21.898Z"
   },
   {
    "duration": 41,
    "start_time": "2024-05-23T21:49:23.351Z"
   },
   {
    "duration": 8,
    "start_time": "2024-05-23T21:49:23.407Z"
   },
   {
    "duration": 11,
    "start_time": "2024-05-23T21:49:23.419Z"
   },
   {
    "duration": 10,
    "start_time": "2024-05-23T21:49:23.437Z"
   },
   {
    "duration": 10,
    "start_time": "2024-05-23T21:49:23.450Z"
   },
   {
    "duration": 49,
    "start_time": "2024-05-23T21:49:23.463Z"
   },
   {
    "duration": 7,
    "start_time": "2024-05-23T21:49:23.515Z"
   },
   {
    "duration": 7,
    "start_time": "2024-05-23T21:49:23.525Z"
   },
   {
    "duration": 14,
    "start_time": "2024-05-23T21:49:23.535Z"
   },
   {
    "duration": 315,
    "start_time": "2024-05-23T21:49:23.552Z"
   },
   {
    "duration": 6,
    "start_time": "2024-05-23T21:49:23.870Z"
   },
   {
    "duration": 33,
    "start_time": "2024-05-23T21:49:23.880Z"
   },
   {
    "duration": 5,
    "start_time": "2024-05-23T21:49:23.919Z"
   },
   {
    "duration": 11,
    "start_time": "2024-05-23T21:49:23.927Z"
   },
   {
    "duration": 16,
    "start_time": "2024-05-23T21:49:23.941Z"
   },
   {
    "duration": 45,
    "start_time": "2024-05-23T21:49:23.960Z"
   },
   {
    "duration": 7,
    "start_time": "2024-05-23T21:49:24.008Z"
   },
   {
    "duration": 16,
    "start_time": "2024-05-23T21:49:24.018Z"
   },
   {
    "duration": 2069,
    "start_time": "2024-05-23T21:49:24.037Z"
   },
   {
    "duration": 32,
    "start_time": "2024-05-23T21:49:26.109Z"
   },
   {
    "duration": 2022,
    "start_time": "2024-05-23T21:49:26.143Z"
   },
   {
    "duration": 9,
    "start_time": "2024-05-23T21:49:28.168Z"
   },
   {
    "duration": 33,
    "start_time": "2024-05-23T21:49:28.180Z"
   },
   {
    "duration": 1299,
    "start_time": "2024-05-23T21:49:28.216Z"
   },
   {
    "duration": 9,
    "start_time": "2024-05-23T21:49:29.518Z"
   },
   {
    "duration": 9,
    "start_time": "2024-05-23T21:49:29.529Z"
   },
   {
    "duration": 22,
    "start_time": "2024-05-23T21:49:29.541Z"
   },
   {
    "duration": 50,
    "start_time": "2024-05-23T21:49:29.566Z"
   },
   {
    "duration": 9,
    "start_time": "2024-05-23T21:49:29.619Z"
   },
   {
    "duration": 0,
    "start_time": "2024-05-23T21:49:29.630Z"
   },
   {
    "duration": 0,
    "start_time": "2024-05-23T21:49:29.632Z"
   },
   {
    "duration": 0,
    "start_time": "2024-05-23T21:49:29.634Z"
   },
   {
    "duration": 14,
    "start_time": "2024-05-23T21:49:39.362Z"
   },
   {
    "duration": 583,
    "start_time": "2024-05-23T21:50:07.107Z"
   },
   {
    "duration": 14,
    "start_time": "2024-05-23T21:50:42.280Z"
   },
   {
    "duration": 579,
    "start_time": "2024-05-23T21:50:42.914Z"
   },
   {
    "duration": 583,
    "start_time": "2024-05-23T21:50:52.996Z"
   },
   {
    "duration": 1433,
    "start_time": "2024-05-23T21:51:34.627Z"
   },
   {
    "duration": 53,
    "start_time": "2024-05-23T21:51:36.063Z"
   },
   {
    "duration": 5,
    "start_time": "2024-05-23T21:51:36.119Z"
   },
   {
    "duration": 12,
    "start_time": "2024-05-23T21:51:36.127Z"
   },
   {
    "duration": 9,
    "start_time": "2024-05-23T21:51:36.144Z"
   },
   {
    "duration": 50,
    "start_time": "2024-05-23T21:51:36.156Z"
   },
   {
    "duration": 9,
    "start_time": "2024-05-23T21:51:36.209Z"
   },
   {
    "duration": 9,
    "start_time": "2024-05-23T21:51:36.221Z"
   },
   {
    "duration": 8,
    "start_time": "2024-05-23T21:51:36.234Z"
   },
   {
    "duration": 64,
    "start_time": "2024-05-23T21:51:36.245Z"
   },
   {
    "duration": 276,
    "start_time": "2024-05-23T21:51:36.312Z"
   },
   {
    "duration": 16,
    "start_time": "2024-05-23T21:51:36.591Z"
   },
   {
    "duration": 13,
    "start_time": "2024-05-23T21:51:36.610Z"
   },
   {
    "duration": 6,
    "start_time": "2024-05-23T21:51:36.629Z"
   },
   {
    "duration": 11,
    "start_time": "2024-05-23T21:51:36.638Z"
   },
   {
    "duration": 55,
    "start_time": "2024-05-23T21:51:36.652Z"
   },
   {
    "duration": 6,
    "start_time": "2024-05-23T21:51:36.710Z"
   },
   {
    "duration": 8,
    "start_time": "2024-05-23T21:51:36.719Z"
   },
   {
    "duration": 16,
    "start_time": "2024-05-23T21:51:36.730Z"
   },
   {
    "duration": 2109,
    "start_time": "2024-05-23T21:51:36.749Z"
   },
   {
    "duration": 45,
    "start_time": "2024-05-23T21:51:38.861Z"
   },
   {
    "duration": 1996,
    "start_time": "2024-05-23T21:51:38.909Z"
   },
   {
    "duration": 11,
    "start_time": "2024-05-23T21:51:40.908Z"
   },
   {
    "duration": 15,
    "start_time": "2024-05-23T21:51:40.921Z"
   },
   {
    "duration": 1299,
    "start_time": "2024-05-23T21:51:40.939Z"
   },
   {
    "duration": 7,
    "start_time": "2024-05-23T21:51:42.241Z"
   },
   {
    "duration": 10,
    "start_time": "2024-05-23T21:51:42.251Z"
   },
   {
    "duration": 46,
    "start_time": "2024-05-23T21:51:42.264Z"
   },
   {
    "duration": 14,
    "start_time": "2024-05-23T21:51:42.313Z"
   },
   {
    "duration": 604,
    "start_time": "2024-05-23T21:51:42.330Z"
   },
   {
    "duration": 3,
    "start_time": "2024-05-23T21:51:42.937Z"
   },
   {
    "duration": 447,
    "start_time": "2024-05-23T21:51:42.943Z"
   },
   {
    "duration": 112,
    "start_time": "2024-05-23T21:57:43.084Z"
   },
   {
    "duration": 237,
    "start_time": "2024-05-23T22:01:40.292Z"
   },
   {
    "duration": 26,
    "start_time": "2024-05-23T22:02:45.416Z"
   },
   {
    "duration": 68,
    "start_time": "2024-05-23T22:03:00.558Z"
   },
   {
    "duration": 1451,
    "start_time": "2024-05-23T22:04:27.660Z"
   },
   {
    "duration": 40,
    "start_time": "2024-05-23T22:04:29.115Z"
   },
   {
    "duration": 6,
    "start_time": "2024-05-23T22:04:29.158Z"
   },
   {
    "duration": 39,
    "start_time": "2024-05-23T22:04:29.168Z"
   },
   {
    "duration": 10,
    "start_time": "2024-05-23T22:04:29.210Z"
   },
   {
    "duration": 8,
    "start_time": "2024-05-23T22:04:29.223Z"
   },
   {
    "duration": 7,
    "start_time": "2024-05-23T22:04:29.233Z"
   },
   {
    "duration": 7,
    "start_time": "2024-05-23T22:04:29.243Z"
   },
   {
    "duration": 52,
    "start_time": "2024-05-23T22:04:29.253Z"
   },
   {
    "duration": 14,
    "start_time": "2024-05-23T22:04:29.314Z"
   },
   {
    "duration": 315,
    "start_time": "2024-05-23T22:04:29.331Z"
   },
   {
    "duration": 6,
    "start_time": "2024-05-23T22:04:29.649Z"
   },
   {
    "duration": 13,
    "start_time": "2024-05-23T22:04:29.658Z"
   },
   {
    "duration": 35,
    "start_time": "2024-05-23T22:04:29.674Z"
   },
   {
    "duration": 12,
    "start_time": "2024-05-23T22:04:29.711Z"
   },
   {
    "duration": 15,
    "start_time": "2024-05-23T22:04:29.725Z"
   },
   {
    "duration": 6,
    "start_time": "2024-05-23T22:04:29.743Z"
   },
   {
    "duration": 7,
    "start_time": "2024-05-23T22:04:29.752Z"
   },
   {
    "duration": 55,
    "start_time": "2024-05-23T22:04:29.763Z"
   },
   {
    "duration": 2206,
    "start_time": "2024-05-23T22:04:29.821Z"
   },
   {
    "duration": 30,
    "start_time": "2024-05-23T22:04:32.030Z"
   },
   {
    "duration": 2016,
    "start_time": "2024-05-23T22:04:32.063Z"
   },
   {
    "duration": 25,
    "start_time": "2024-05-23T22:04:34.084Z"
   },
   {
    "duration": 17,
    "start_time": "2024-05-23T22:04:34.113Z"
   },
   {
    "duration": 1349,
    "start_time": "2024-05-23T22:04:34.140Z"
   },
   {
    "duration": 16,
    "start_time": "2024-05-23T22:04:35.491Z"
   },
   {
    "duration": 7,
    "start_time": "2024-05-23T22:04:35.511Z"
   },
   {
    "duration": 21,
    "start_time": "2024-05-23T22:04:35.525Z"
   },
   {
    "duration": 14,
    "start_time": "2024-05-23T22:04:35.549Z"
   },
   {
    "duration": 610,
    "start_time": "2024-05-23T22:04:35.566Z"
   },
   {
    "duration": 553,
    "start_time": "2024-05-23T22:04:36.180Z"
   },
   {
    "duration": 0,
    "start_time": "2024-05-23T22:04:36.737Z"
   },
   {
    "duration": 0,
    "start_time": "2024-05-23T22:04:36.739Z"
   },
   {
    "duration": 0,
    "start_time": "2024-05-23T22:04:36.741Z"
   },
   {
    "duration": 63,
    "start_time": "2024-05-23T22:05:29.411Z"
   },
   {
    "duration": 48,
    "start_time": "2024-05-23T22:07:33.792Z"
   },
   {
    "duration": 66,
    "start_time": "2024-05-23T22:08:50.020Z"
   },
   {
    "duration": 63,
    "start_time": "2024-05-23T22:10:32.600Z"
   },
   {
    "duration": 5282,
    "start_time": "2024-05-23T22:51:21.487Z"
   },
   {
    "duration": 51,
    "start_time": "2024-05-23T22:51:26.773Z"
   },
   {
    "duration": 8,
    "start_time": "2024-05-23T22:51:26.827Z"
   },
   {
    "duration": 12,
    "start_time": "2024-05-23T22:51:26.840Z"
   },
   {
    "duration": 11,
    "start_time": "2024-05-23T22:51:26.856Z"
   },
   {
    "duration": 10,
    "start_time": "2024-05-23T22:51:26.906Z"
   },
   {
    "duration": 9,
    "start_time": "2024-05-23T22:51:26.919Z"
   },
   {
    "duration": 11,
    "start_time": "2024-05-23T22:51:26.931Z"
   },
   {
    "duration": 8,
    "start_time": "2024-05-23T22:51:26.944Z"
   },
   {
    "duration": 60,
    "start_time": "2024-05-23T22:51:26.958Z"
   },
   {
    "duration": 232,
    "start_time": "2024-05-23T22:51:27.021Z"
   },
   {
    "duration": 6,
    "start_time": "2024-05-23T22:51:27.256Z"
   },
   {
    "duration": 12,
    "start_time": "2024-05-23T22:51:27.266Z"
   },
   {
    "duration": 27,
    "start_time": "2024-05-23T22:51:27.281Z"
   },
   {
    "duration": 12,
    "start_time": "2024-05-23T22:51:27.311Z"
   },
   {
    "duration": 17,
    "start_time": "2024-05-23T22:51:27.325Z"
   },
   {
    "duration": 6,
    "start_time": "2024-05-23T22:51:27.344Z"
   },
   {
    "duration": 53,
    "start_time": "2024-05-23T22:51:27.353Z"
   },
   {
    "duration": 17,
    "start_time": "2024-05-23T22:51:27.409Z"
   },
   {
    "duration": 2094,
    "start_time": "2024-05-23T22:51:27.429Z"
   },
   {
    "duration": 32,
    "start_time": "2024-05-23T22:51:29.526Z"
   },
   {
    "duration": 2018,
    "start_time": "2024-05-23T22:51:29.561Z"
   },
   {
    "duration": 10,
    "start_time": "2024-05-23T22:51:31.582Z"
   },
   {
    "duration": 15,
    "start_time": "2024-05-23T22:51:31.608Z"
   },
   {
    "duration": 1332,
    "start_time": "2024-05-23T22:51:31.625Z"
   },
   {
    "duration": 8,
    "start_time": "2024-05-23T22:51:32.960Z"
   },
   {
    "duration": 10,
    "start_time": "2024-05-23T22:51:32.972Z"
   },
   {
    "duration": 22,
    "start_time": "2024-05-23T22:51:33.009Z"
   },
   {
    "duration": 14,
    "start_time": "2024-05-23T22:51:33.034Z"
   },
   {
    "duration": 613,
    "start_time": "2024-05-23T22:51:33.050Z"
   },
   {
    "duration": 598,
    "start_time": "2024-05-23T22:51:33.666Z"
   },
   {
    "duration": 0,
    "start_time": "2024-05-23T22:51:34.268Z"
   },
   {
    "duration": 0,
    "start_time": "2024-05-23T22:51:34.270Z"
   },
   {
    "duration": 0,
    "start_time": "2024-05-23T22:51:34.273Z"
   },
   {
    "duration": 65,
    "start_time": "2024-05-23T22:53:32.465Z"
   },
   {
    "duration": 596,
    "start_time": "2024-05-23T22:59:48.168Z"
   },
   {
    "duration": 15,
    "start_time": "2024-05-23T22:59:58.120Z"
   },
   {
    "duration": 596,
    "start_time": "2024-05-23T23:00:01.738Z"
   },
   {
    "duration": 3,
    "start_time": "2024-05-23T23:00:26.888Z"
   },
   {
    "duration": 103,
    "start_time": "2024-05-23T23:00:32.631Z"
   },
   {
    "duration": 8,
    "start_time": "2024-05-23T23:00:43.612Z"
   },
   {
    "duration": 27,
    "start_time": "2024-05-23T23:03:22.062Z"
   },
   {
    "duration": 64,
    "start_time": "2024-05-23T23:03:43.604Z"
   },
   {
    "duration": 22,
    "start_time": "2024-05-23T23:04:49.992Z"
   },
   {
    "duration": 22,
    "start_time": "2024-05-23T23:05:02.624Z"
   },
   {
    "duration": 78,
    "start_time": "2024-05-23T23:05:08.519Z"
   },
   {
    "duration": 1110,
    "start_time": "2024-05-23T23:08:10.608Z"
   },
   {
    "duration": 11,
    "start_time": "2024-05-23T23:09:21.303Z"
   },
   {
    "duration": 10,
    "start_time": "2024-05-23T23:09:44.489Z"
   },
   {
    "duration": 56,
    "start_time": "2024-05-23T23:09:45.198Z"
   },
   {
    "duration": 12,
    "start_time": "2024-05-23T23:09:57.465Z"
   },
   {
    "duration": 2020,
    "start_time": "2024-05-23T23:09:58.183Z"
   },
   {
    "duration": 53,
    "start_time": "2024-05-23T23:10:08.019Z"
   },
   {
    "duration": 1119,
    "start_time": "2024-05-23T23:10:18.277Z"
   },
   {
    "duration": 5214,
    "start_time": "2024-05-24T00:33:46.992Z"
   },
   {
    "duration": 62,
    "start_time": "2024-05-24T00:33:52.209Z"
   },
   {
    "duration": 6,
    "start_time": "2024-05-24T00:33:52.275Z"
   },
   {
    "duration": 11,
    "start_time": "2024-05-24T00:33:52.285Z"
   },
   {
    "duration": 43,
    "start_time": "2024-05-24T00:33:52.299Z"
   },
   {
    "duration": 13,
    "start_time": "2024-05-24T00:33:52.346Z"
   },
   {
    "duration": 7,
    "start_time": "2024-05-24T00:33:52.362Z"
   },
   {
    "duration": 8,
    "start_time": "2024-05-24T00:33:52.371Z"
   },
   {
    "duration": 48,
    "start_time": "2024-05-24T00:33:52.382Z"
   },
   {
    "duration": 16,
    "start_time": "2024-05-24T00:33:52.440Z"
   },
   {
    "duration": 236,
    "start_time": "2024-05-24T00:33:52.458Z"
   },
   {
    "duration": 6,
    "start_time": "2024-05-24T00:33:52.697Z"
   },
   {
    "duration": 25,
    "start_time": "2024-05-24T00:33:52.706Z"
   },
   {
    "duration": 8,
    "start_time": "2024-05-24T00:33:52.735Z"
   },
   {
    "duration": 11,
    "start_time": "2024-05-24T00:33:52.745Z"
   },
   {
    "duration": 15,
    "start_time": "2024-05-24T00:33:52.759Z"
   },
   {
    "duration": 6,
    "start_time": "2024-05-24T00:33:52.777Z"
   },
   {
    "duration": 8,
    "start_time": "2024-05-24T00:33:52.830Z"
   },
   {
    "duration": 16,
    "start_time": "2024-05-24T00:33:52.843Z"
   },
   {
    "duration": 2069,
    "start_time": "2024-05-24T00:33:52.862Z"
   },
   {
    "duration": 30,
    "start_time": "2024-05-24T00:33:54.935Z"
   },
   {
    "duration": 2006,
    "start_time": "2024-05-24T00:33:54.969Z"
   },
   {
    "duration": 10,
    "start_time": "2024-05-24T00:33:56.977Z"
   },
   {
    "duration": 40,
    "start_time": "2024-05-24T00:33:56.990Z"
   },
   {
    "duration": 1266,
    "start_time": "2024-05-24T00:33:57.033Z"
   },
   {
    "duration": 7,
    "start_time": "2024-05-24T00:33:58.302Z"
   },
   {
    "duration": 22,
    "start_time": "2024-05-24T00:33:58.313Z"
   },
   {
    "duration": 22,
    "start_time": "2024-05-24T00:33:58.342Z"
   },
   {
    "duration": 16,
    "start_time": "2024-05-24T00:33:58.367Z"
   },
   {
    "duration": 626,
    "start_time": "2024-05-24T00:33:58.386Z"
   },
   {
    "duration": 21,
    "start_time": "2024-05-24T00:33:59.015Z"
   },
   {
    "duration": 2005,
    "start_time": "2024-05-24T00:33:59.039Z"
   },
   {
    "duration": 55,
    "start_time": "2024-05-24T00:34:01.048Z"
   },
   {
    "duration": 1168,
    "start_time": "2024-05-24T00:34:01.106Z"
   },
   {
    "duration": 1125,
    "start_time": "2024-05-24T00:44:12.616Z"
   },
   {
    "duration": 2031,
    "start_time": "2024-05-24T00:44:28.990Z"
   },
   {
    "duration": 57,
    "start_time": "2024-05-24T00:44:33.247Z"
   },
   {
    "duration": 6323,
    "start_time": "2024-05-24T04:56:50.545Z"
   },
   {
    "duration": 81,
    "start_time": "2024-05-24T04:56:56.872Z"
   },
   {
    "duration": 11,
    "start_time": "2024-05-24T04:56:56.965Z"
   },
   {
    "duration": 14,
    "start_time": "2024-05-24T04:56:56.982Z"
   },
   {
    "duration": 10,
    "start_time": "2024-05-24T04:56:56.999Z"
   },
   {
    "duration": 12,
    "start_time": "2024-05-24T04:56:57.033Z"
   },
   {
    "duration": 10,
    "start_time": "2024-05-24T04:56:57.055Z"
   },
   {
    "duration": 8,
    "start_time": "2024-05-24T04:56:57.076Z"
   },
   {
    "duration": 11,
    "start_time": "2024-05-24T04:56:57.088Z"
   },
   {
    "duration": 33,
    "start_time": "2024-05-24T04:56:57.128Z"
   },
   {
    "duration": 251,
    "start_time": "2024-05-24T04:56:57.164Z"
   },
   {
    "duration": 11,
    "start_time": "2024-05-24T04:56:57.425Z"
   },
   {
    "duration": 32,
    "start_time": "2024-05-24T04:56:57.442Z"
   },
   {
    "duration": 10,
    "start_time": "2024-05-24T04:56:57.486Z"
   },
   {
    "duration": 13,
    "start_time": "2024-05-24T04:56:57.500Z"
   },
   {
    "duration": 61,
    "start_time": "2024-05-24T04:56:57.517Z"
   },
   {
    "duration": 18,
    "start_time": "2024-05-24T04:56:57.589Z"
   },
   {
    "duration": 10,
    "start_time": "2024-05-24T04:56:57.609Z"
   },
   {
    "duration": 37,
    "start_time": "2024-05-24T04:56:57.623Z"
   },
   {
    "duration": 2380,
    "start_time": "2024-05-24T04:56:57.678Z"
   },
   {
    "duration": 32,
    "start_time": "2024-05-24T04:57:00.066Z"
   },
   {
    "duration": 2319,
    "start_time": "2024-05-24T04:57:00.101Z"
   },
   {
    "duration": 14,
    "start_time": "2024-05-24T04:57:02.424Z"
   },
   {
    "duration": 27,
    "start_time": "2024-05-24T04:57:02.441Z"
   },
   {
    "duration": 1475,
    "start_time": "2024-05-24T04:57:02.471Z"
   },
   {
    "duration": 15,
    "start_time": "2024-05-24T04:57:03.950Z"
   },
   {
    "duration": 11,
    "start_time": "2024-05-24T04:57:03.968Z"
   },
   {
    "duration": 66,
    "start_time": "2024-05-24T04:57:03.988Z"
   },
   {
    "duration": 19,
    "start_time": "2024-05-24T04:57:04.061Z"
   },
   {
    "duration": 678,
    "start_time": "2024-05-24T04:57:04.083Z"
   },
   {
    "duration": 15,
    "start_time": "2024-05-24T04:57:04.764Z"
   },
   {
    "duration": 2369,
    "start_time": "2024-05-24T04:57:04.782Z"
   },
   {
    "duration": 62,
    "start_time": "2024-05-24T04:57:07.154Z"
   },
   {
    "duration": 1326,
    "start_time": "2024-05-24T04:57:07.231Z"
   },
   {
    "duration": 1652,
    "start_time": "2024-05-24T05:09:02.573Z"
   },
   {
    "duration": 49,
    "start_time": "2024-05-24T05:09:04.235Z"
   },
   {
    "duration": 6,
    "start_time": "2024-05-24T05:09:04.288Z"
   },
   {
    "duration": 34,
    "start_time": "2024-05-24T05:09:04.297Z"
   },
   {
    "duration": 9,
    "start_time": "2024-05-24T05:09:04.336Z"
   },
   {
    "duration": 13,
    "start_time": "2024-05-24T05:09:04.353Z"
   },
   {
    "duration": 9,
    "start_time": "2024-05-24T05:09:04.371Z"
   },
   {
    "duration": 10,
    "start_time": "2024-05-24T05:09:04.385Z"
   },
   {
    "duration": 37,
    "start_time": "2024-05-24T05:09:04.399Z"
   },
   {
    "duration": 21,
    "start_time": "2024-05-24T05:09:04.439Z"
   },
   {
    "duration": 355,
    "start_time": "2024-05-24T05:09:04.464Z"
   },
   {
    "duration": 18,
    "start_time": "2024-05-24T05:09:04.824Z"
   },
   {
    "duration": 22,
    "start_time": "2024-05-24T05:09:04.856Z"
   },
   {
    "duration": 7,
    "start_time": "2024-05-24T05:09:04.887Z"
   },
   {
    "duration": 13,
    "start_time": "2024-05-24T05:09:04.898Z"
   },
   {
    "duration": 54,
    "start_time": "2024-05-24T05:09:04.915Z"
   },
   {
    "duration": 8,
    "start_time": "2024-05-24T05:09:04.972Z"
   },
   {
    "duration": 10,
    "start_time": "2024-05-24T05:09:04.985Z"
   },
   {
    "duration": 46,
    "start_time": "2024-05-24T05:09:04.999Z"
   },
   {
    "duration": 2425,
    "start_time": "2024-05-24T05:09:05.048Z"
   },
   {
    "duration": 67,
    "start_time": "2024-05-24T05:09:07.478Z"
   },
   {
    "duration": 2506,
    "start_time": "2024-05-24T05:09:07.551Z"
   },
   {
    "duration": 22,
    "start_time": "2024-05-24T05:09:10.060Z"
   },
   {
    "duration": 15,
    "start_time": "2024-05-24T05:09:10.085Z"
   },
   {
    "duration": 1550,
    "start_time": "2024-05-24T05:09:10.103Z"
   },
   {
    "duration": 22,
    "start_time": "2024-05-24T05:09:11.666Z"
   },
   {
    "duration": 9,
    "start_time": "2024-05-24T05:09:11.692Z"
   },
   {
    "duration": 45,
    "start_time": "2024-05-24T05:09:11.704Z"
   },
   {
    "duration": 21,
    "start_time": "2024-05-24T05:09:11.766Z"
   },
   {
    "duration": 732,
    "start_time": "2024-05-24T05:09:11.791Z"
   },
   {
    "duration": 23,
    "start_time": "2024-05-24T05:09:12.526Z"
   },
   {
    "duration": 2463,
    "start_time": "2024-05-24T05:09:12.556Z"
   },
   {
    "duration": 70,
    "start_time": "2024-05-24T05:09:15.022Z"
   },
   {
    "duration": 1266,
    "start_time": "2024-05-24T05:09:15.095Z"
   },
   {
    "duration": 1410,
    "start_time": "2024-05-24T05:20:55.684Z"
   },
   {
    "duration": 41,
    "start_time": "2024-05-24T05:20:57.097Z"
   },
   {
    "duration": 6,
    "start_time": "2024-05-24T05:20:57.268Z"
   },
   {
    "duration": 10,
    "start_time": "2024-05-24T05:20:57.468Z"
   },
   {
    "duration": 10,
    "start_time": "2024-05-24T05:20:57.626Z"
   },
   {
    "duration": 8,
    "start_time": "2024-05-24T05:20:57.999Z"
   },
   {
    "duration": 7,
    "start_time": "2024-05-24T05:20:58.183Z"
   },
   {
    "duration": 7,
    "start_time": "2024-05-24T05:20:58.917Z"
   },
   {
    "duration": 7,
    "start_time": "2024-05-24T05:20:59.099Z"
   },
   {
    "duration": 13,
    "start_time": "2024-05-24T05:20:59.442Z"
   },
   {
    "duration": 273,
    "start_time": "2024-05-24T05:21:00.547Z"
   },
   {
    "duration": 6,
    "start_time": "2024-05-24T05:21:02.282Z"
   },
   {
    "duration": 11,
    "start_time": "2024-05-24T05:21:03.093Z"
   },
   {
    "duration": 7,
    "start_time": "2024-05-24T05:21:03.840Z"
   },
   {
    "duration": 14,
    "start_time": "2024-05-24T05:21:35.801Z"
   },
   {
    "duration": 14,
    "start_time": "2024-05-24T05:21:42.978Z"
   },
   {
    "duration": 6,
    "start_time": "2024-05-24T05:21:45.281Z"
   },
   {
    "duration": 7,
    "start_time": "2024-05-24T05:21:46.375Z"
   },
   {
    "duration": 15,
    "start_time": "2024-05-24T05:21:51.050Z"
   },
   {
    "duration": 2011,
    "start_time": "2024-05-24T05:22:09.588Z"
   },
   {
    "duration": 947,
    "start_time": "2024-05-24T05:25:21.881Z"
   },
   {
    "duration": 5,
    "start_time": "2024-05-24T05:27:46.193Z"
   },
   {
    "duration": 1064,
    "start_time": "2024-05-24T05:28:20.350Z"
   },
   {
    "duration": 6,
    "start_time": "2024-05-24T05:29:53.954Z"
   },
   {
    "duration": 467,
    "start_time": "2024-05-24T05:30:22.158Z"
   },
   {
    "duration": 13,
    "start_time": "2024-05-24T05:30:40.282Z"
   },
   {
    "duration": 1446,
    "start_time": "2024-05-24T05:30:54.925Z"
   },
   {
    "duration": 16,
    "start_time": "2024-05-24T05:31:39.563Z"
   },
   {
    "duration": 1449,
    "start_time": "2024-05-24T05:34:57.045Z"
   },
   {
    "duration": 42,
    "start_time": "2024-05-24T05:34:58.498Z"
   },
   {
    "duration": 8,
    "start_time": "2024-05-24T05:34:58.543Z"
   },
   {
    "duration": 10,
    "start_time": "2024-05-24T05:34:58.554Z"
   },
   {
    "duration": 38,
    "start_time": "2024-05-24T05:34:58.569Z"
   },
   {
    "duration": 10,
    "start_time": "2024-05-24T05:34:58.610Z"
   },
   {
    "duration": 7,
    "start_time": "2024-05-24T05:34:58.622Z"
   },
   {
    "duration": 7,
    "start_time": "2024-05-24T05:34:58.632Z"
   },
   {
    "duration": 8,
    "start_time": "2024-05-24T05:34:58.642Z"
   },
   {
    "duration": 64,
    "start_time": "2024-05-24T05:34:58.654Z"
   },
   {
    "duration": 285,
    "start_time": "2024-05-24T05:34:58.721Z"
   },
   {
    "duration": 8,
    "start_time": "2024-05-24T05:34:59.010Z"
   },
   {
    "duration": 13,
    "start_time": "2024-05-24T05:34:59.021Z"
   },
   {
    "duration": 7,
    "start_time": "2024-05-24T05:34:59.039Z"
   },
   {
    "duration": 15,
    "start_time": "2024-05-24T05:34:59.049Z"
   },
   {
    "duration": 16,
    "start_time": "2024-05-24T05:34:59.106Z"
   },
   {
    "duration": 7,
    "start_time": "2024-05-24T05:34:59.124Z"
   },
   {
    "duration": 8,
    "start_time": "2024-05-24T05:34:59.134Z"
   },
   {
    "duration": 17,
    "start_time": "2024-05-24T05:34:59.145Z"
   },
   {
    "duration": 1120,
    "start_time": "2024-05-24T05:34:59.206Z"
   },
   {
    "duration": 4,
    "start_time": "2024-05-24T05:35:00.329Z"
   },
   {
    "duration": 4,
    "start_time": "2024-05-24T05:35:00.336Z"
   },
   {
    "duration": 4,
    "start_time": "2024-05-24T05:35:00.344Z"
   },
   {
    "duration": 5,
    "start_time": "2024-05-24T05:35:00.351Z"
   },
   {
    "duration": 49,
    "start_time": "2024-05-24T05:35:00.359Z"
   },
   {
    "duration": 14,
    "start_time": "2024-05-24T05:35:00.412Z"
   },
   {
    "duration": 3,
    "start_time": "2024-05-24T05:35:00.429Z"
   },
   {
    "duration": 1540,
    "start_time": "2024-05-24T05:35:00.436Z"
   },
   {
    "duration": 1411,
    "start_time": "2024-05-24T05:36:48.065Z"
   },
   {
    "duration": 54,
    "start_time": "2024-05-24T05:36:49.480Z"
   },
   {
    "duration": 7,
    "start_time": "2024-05-24T05:36:49.537Z"
   },
   {
    "duration": 10,
    "start_time": "2024-05-24T05:36:49.547Z"
   },
   {
    "duration": 10,
    "start_time": "2024-05-24T05:36:49.563Z"
   },
   {
    "duration": 8,
    "start_time": "2024-05-24T05:36:49.607Z"
   },
   {
    "duration": 8,
    "start_time": "2024-05-24T05:36:49.618Z"
   },
   {
    "duration": 8,
    "start_time": "2024-05-24T05:36:49.629Z"
   },
   {
    "duration": 7,
    "start_time": "2024-05-24T05:36:49.641Z"
   },
   {
    "duration": 63,
    "start_time": "2024-05-24T05:36:49.652Z"
   },
   {
    "duration": 281,
    "start_time": "2024-05-24T05:36:49.718Z"
   },
   {
    "duration": 6,
    "start_time": "2024-05-24T05:36:50.005Z"
   },
   {
    "duration": 13,
    "start_time": "2024-05-24T05:36:50.014Z"
   },
   {
    "duration": 6,
    "start_time": "2024-05-24T05:36:50.034Z"
   },
   {
    "duration": 14,
    "start_time": "2024-05-24T05:36:50.043Z"
   },
   {
    "duration": 15,
    "start_time": "2024-05-24T05:36:50.105Z"
   },
   {
    "duration": 6,
    "start_time": "2024-05-24T05:36:50.123Z"
   },
   {
    "duration": 8,
    "start_time": "2024-05-24T05:36:50.133Z"
   },
   {
    "duration": 16,
    "start_time": "2024-05-24T05:36:50.144Z"
   },
   {
    "duration": 1157,
    "start_time": "2024-05-24T05:36:50.163Z"
   },
   {
    "duration": 3,
    "start_time": "2024-05-24T05:36:51.324Z"
   },
   {
    "duration": 9,
    "start_time": "2024-05-24T05:36:51.330Z"
   },
   {
    "duration": 6,
    "start_time": "2024-05-24T05:36:51.341Z"
   },
   {
    "duration": 5,
    "start_time": "2024-05-24T05:36:51.351Z"
   },
   {
    "duration": 8,
    "start_time": "2024-05-24T05:36:51.360Z"
   },
   {
    "duration": 15,
    "start_time": "2024-05-24T05:36:51.407Z"
   },
   {
    "duration": 1461,
    "start_time": "2024-05-24T05:36:51.425Z"
   },
   {
    "duration": 6,
    "start_time": "2024-05-24T05:39:49.144Z"
   },
   {
    "duration": 11,
    "start_time": "2024-05-24T05:39:52.958Z"
   },
   {
    "duration": 7,
    "start_time": "2024-05-24T05:40:05.244Z"
   },
   {
    "duration": 12,
    "start_time": "2024-05-24T05:40:14.420Z"
   },
   {
    "duration": 8,
    "start_time": "2024-05-24T05:40:14.640Z"
   },
   {
    "duration": 11,
    "start_time": "2024-05-24T05:40:19.984Z"
   },
   {
    "duration": 8,
    "start_time": "2024-05-24T05:40:20.208Z"
   },
   {
    "duration": 663,
    "start_time": "2024-05-24T05:40:33.885Z"
   },
   {
    "duration": 1470,
    "start_time": "2024-05-24T05:42:47.588Z"
   },
   {
    "duration": 51,
    "start_time": "2024-05-24T05:42:49.062Z"
   },
   {
    "duration": 6,
    "start_time": "2024-05-24T05:42:49.116Z"
   },
   {
    "duration": 11,
    "start_time": "2024-05-24T05:42:49.125Z"
   },
   {
    "duration": 10,
    "start_time": "2024-05-24T05:42:49.141Z"
   },
   {
    "duration": 52,
    "start_time": "2024-05-24T05:42:49.154Z"
   },
   {
    "duration": 7,
    "start_time": "2024-05-24T05:42:49.209Z"
   },
   {
    "duration": 7,
    "start_time": "2024-05-24T05:42:49.220Z"
   },
   {
    "duration": 8,
    "start_time": "2024-05-24T05:42:49.230Z"
   },
   {
    "duration": 15,
    "start_time": "2024-05-24T05:42:49.240Z"
   },
   {
    "duration": 321,
    "start_time": "2024-05-24T05:42:49.258Z"
   },
   {
    "duration": 6,
    "start_time": "2024-05-24T05:42:49.582Z"
   },
   {
    "duration": 27,
    "start_time": "2024-05-24T05:42:49.590Z"
   },
   {
    "duration": 6,
    "start_time": "2024-05-24T05:42:49.624Z"
   },
   {
    "duration": 14,
    "start_time": "2024-05-24T05:42:49.633Z"
   },
   {
    "duration": 15,
    "start_time": "2024-05-24T05:42:49.650Z"
   },
   {
    "duration": 43,
    "start_time": "2024-05-24T05:42:49.667Z"
   },
   {
    "duration": 8,
    "start_time": "2024-05-24T05:42:49.713Z"
   },
   {
    "duration": 19,
    "start_time": "2024-05-24T05:42:49.724Z"
   },
   {
    "duration": 1163,
    "start_time": "2024-05-24T05:42:49.747Z"
   },
   {
    "duration": 3,
    "start_time": "2024-05-24T05:42:50.914Z"
   },
   {
    "duration": 4,
    "start_time": "2024-05-24T05:42:50.921Z"
   },
   {
    "duration": 5,
    "start_time": "2024-05-24T05:42:50.929Z"
   },
   {
    "duration": 3,
    "start_time": "2024-05-24T05:42:50.938Z"
   },
   {
    "duration": 6,
    "start_time": "2024-05-24T05:42:50.945Z"
   },
   {
    "duration": 15,
    "start_time": "2024-05-24T05:42:51.005Z"
   },
   {
    "duration": 1456,
    "start_time": "2024-05-24T05:42:51.023Z"
   },
   {
    "duration": 4,
    "start_time": "2024-05-24T05:42:52.482Z"
   },
   {
    "duration": 17,
    "start_time": "2024-05-24T05:42:52.490Z"
   },
   {
    "duration": 4,
    "start_time": "2024-05-24T05:42:52.510Z"
   },
   {
    "duration": 6,
    "start_time": "2024-05-24T05:42:52.517Z"
   },
   {
    "duration": 10,
    "start_time": "2024-05-24T05:42:52.526Z"
   },
   {
    "duration": 8,
    "start_time": "2024-05-24T05:42:52.539Z"
   },
   {
    "duration": 726,
    "start_time": "2024-05-24T05:42:52.549Z"
   },
   {
    "duration": 4,
    "start_time": "2024-05-24T05:42:53.278Z"
   },
   {
    "duration": 4,
    "start_time": "2024-05-24T05:42:53.285Z"
   },
   {
    "duration": 12,
    "start_time": "2024-05-24T05:42:53.307Z"
   },
   {
    "duration": 2000,
    "start_time": "2024-05-24T05:42:53.322Z"
   },
   {
    "duration": 55,
    "start_time": "2024-05-24T05:42:55.326Z"
   },
   {
    "duration": 1509,
    "start_time": "2024-05-24T05:42:55.384Z"
   },
   {
    "duration": 3,
    "start_time": "2024-05-24T05:43:23.544Z"
   },
   {
    "duration": 7,
    "start_time": "2024-05-24T05:44:01.581Z"
   },
   {
    "duration": 1455,
    "start_time": "2024-05-24T05:48:00.497Z"
   },
   {
    "duration": 56,
    "start_time": "2024-05-24T05:48:01.956Z"
   },
   {
    "duration": 9,
    "start_time": "2024-05-24T05:48:02.015Z"
   },
   {
    "duration": 12,
    "start_time": "2024-05-24T05:48:02.028Z"
   },
   {
    "duration": 5,
    "start_time": "2024-05-24T05:48:23.565Z"
   },
   {
    "duration": 29,
    "start_time": "2024-05-24T05:48:27.813Z"
   },
   {
    "duration": 274,
    "start_time": "2024-05-24T05:49:09.457Z"
   },
   {
    "duration": 8,
    "start_time": "2024-05-24T05:49:20.605Z"
   },
   {
    "duration": 1442,
    "start_time": "2024-05-24T05:50:01.569Z"
   },
   {
    "duration": 41,
    "start_time": "2024-05-24T05:50:03.015Z"
   },
   {
    "duration": 5,
    "start_time": "2024-05-24T05:50:03.059Z"
   },
   {
    "duration": 43,
    "start_time": "2024-05-24T05:50:03.067Z"
   },
   {
    "duration": 30,
    "start_time": "2024-05-24T05:50:03.116Z"
   },
   {
    "duration": 5,
    "start_time": "2024-05-24T05:50:03.148Z"
   },
   {
    "duration": 7,
    "start_time": "2024-05-24T05:50:03.156Z"
   },
   {
    "duration": 46,
    "start_time": "2024-05-24T05:50:03.166Z"
   },
   {
    "duration": 8,
    "start_time": "2024-05-24T05:50:03.215Z"
   },
   {
    "duration": 15,
    "start_time": "2024-05-24T05:50:03.227Z"
   },
   {
    "duration": 307,
    "start_time": "2024-05-24T05:50:03.245Z"
   },
   {
    "duration": 6,
    "start_time": "2024-05-24T05:50:03.555Z"
   },
   {
    "duration": 13,
    "start_time": "2024-05-24T05:50:03.565Z"
   },
   {
    "duration": 26,
    "start_time": "2024-05-24T05:50:03.584Z"
   },
   {
    "duration": 15,
    "start_time": "2024-05-24T05:50:03.613Z"
   },
   {
    "duration": 16,
    "start_time": "2024-05-24T05:50:03.630Z"
   },
   {
    "duration": 6,
    "start_time": "2024-05-24T05:50:03.648Z"
   },
   {
    "duration": 51,
    "start_time": "2024-05-24T05:50:03.658Z"
   },
   {
    "duration": 17,
    "start_time": "2024-05-24T05:50:03.712Z"
   },
   {
    "duration": 1262,
    "start_time": "2024-05-24T05:50:03.732Z"
   },
   {
    "duration": 10,
    "start_time": "2024-05-24T05:50:04.997Z"
   },
   {
    "duration": 4,
    "start_time": "2024-05-24T05:50:05.010Z"
   },
   {
    "duration": 4,
    "start_time": "2024-05-24T05:50:05.017Z"
   },
   {
    "duration": 5,
    "start_time": "2024-05-24T05:50:05.024Z"
   },
   {
    "duration": 7,
    "start_time": "2024-05-24T05:50:05.033Z"
   },
   {
    "duration": 17,
    "start_time": "2024-05-24T05:50:05.043Z"
   },
   {
    "duration": 1653,
    "start_time": "2024-05-24T05:50:05.062Z"
   },
   {
    "duration": 3,
    "start_time": "2024-05-24T05:50:06.719Z"
   },
   {
    "duration": 5,
    "start_time": "2024-05-24T05:50:06.725Z"
   },
   {
    "duration": 3,
    "start_time": "2024-05-24T05:50:06.733Z"
   },
   {
    "duration": 7,
    "start_time": "2024-05-24T05:50:06.739Z"
   },
   {
    "duration": 11,
    "start_time": "2024-05-24T05:50:06.749Z"
   },
   {
    "duration": 7,
    "start_time": "2024-05-24T05:50:06.807Z"
   },
   {
    "duration": 707,
    "start_time": "2024-05-24T05:50:06.817Z"
   },
   {
    "duration": 4,
    "start_time": "2024-05-24T05:50:07.527Z"
   },
   {
    "duration": 4,
    "start_time": "2024-05-24T05:50:07.536Z"
   },
   {
    "duration": 25,
    "start_time": "2024-05-24T05:50:07.543Z"
   },
   {
    "duration": 2268,
    "start_time": "2024-05-24T05:50:07.571Z"
   },
   {
    "duration": 70,
    "start_time": "2024-05-24T05:50:09.842Z"
   },
   {
    "duration": 1591,
    "start_time": "2024-05-24T05:50:09.915Z"
   },
   {
    "duration": 1193,
    "start_time": "2024-05-24T05:50:23.971Z"
   },
   {
    "duration": 1408,
    "start_time": "2024-05-24T05:51:09.755Z"
   },
   {
    "duration": 49,
    "start_time": "2024-05-24T05:51:11.167Z"
   },
   {
    "duration": 5,
    "start_time": "2024-05-24T05:51:11.219Z"
   },
   {
    "duration": 12,
    "start_time": "2024-05-24T05:51:11.228Z"
   },
   {
    "duration": 29,
    "start_time": "2024-05-24T05:51:11.243Z"
   },
   {
    "duration": 6,
    "start_time": "2024-05-24T05:51:11.306Z"
   },
   {
    "duration": 8,
    "start_time": "2024-05-24T05:51:11.316Z"
   },
   {
    "duration": 8,
    "start_time": "2024-05-24T05:51:11.328Z"
   },
   {
    "duration": 7,
    "start_time": "2024-05-24T05:51:11.340Z"
   },
   {
    "duration": 59,
    "start_time": "2024-05-24T05:51:11.353Z"
   },
   {
    "duration": 287,
    "start_time": "2024-05-24T05:51:11.416Z"
   },
   {
    "duration": 6,
    "start_time": "2024-05-24T05:51:11.707Z"
   },
   {
    "duration": 12,
    "start_time": "2024-05-24T05:51:11.715Z"
   },
   {
    "duration": 6,
    "start_time": "2024-05-24T05:51:11.730Z"
   },
   {
    "duration": 15,
    "start_time": "2024-05-24T05:51:11.739Z"
   },
   {
    "duration": 56,
    "start_time": "2024-05-24T05:51:11.756Z"
   },
   {
    "duration": 7,
    "start_time": "2024-05-24T05:51:11.814Z"
   },
   {
    "duration": 8,
    "start_time": "2024-05-24T05:51:11.824Z"
   },
   {
    "duration": 16,
    "start_time": "2024-05-24T05:51:11.834Z"
   },
   {
    "duration": 1258,
    "start_time": "2024-05-24T05:51:11.854Z"
   },
   {
    "duration": 4,
    "start_time": "2024-05-24T05:51:13.115Z"
   },
   {
    "duration": 6,
    "start_time": "2024-05-24T05:51:13.121Z"
   },
   {
    "duration": 6,
    "start_time": "2024-05-24T05:51:13.129Z"
   },
   {
    "duration": 5,
    "start_time": "2024-05-24T05:51:13.137Z"
   },
   {
    "duration": 8,
    "start_time": "2024-05-24T05:51:13.146Z"
   },
   {
    "duration": 56,
    "start_time": "2024-05-24T05:51:13.157Z"
   },
   {
    "duration": 1612,
    "start_time": "2024-05-24T05:51:13.216Z"
   },
   {
    "duration": 3,
    "start_time": "2024-05-24T05:51:14.835Z"
   },
   {
    "duration": 4,
    "start_time": "2024-05-24T05:51:14.842Z"
   },
   {
    "duration": 3,
    "start_time": "2024-05-24T05:51:14.849Z"
   },
   {
    "duration": 8,
    "start_time": "2024-05-24T05:51:14.855Z"
   },
   {
    "duration": 48,
    "start_time": "2024-05-24T05:51:14.866Z"
   },
   {
    "duration": 8,
    "start_time": "2024-05-24T05:51:14.917Z"
   },
   {
    "duration": 701,
    "start_time": "2024-05-24T05:51:14.927Z"
   },
   {
    "duration": 4,
    "start_time": "2024-05-24T05:51:15.631Z"
   },
   {
    "duration": 3,
    "start_time": "2024-05-24T05:51:15.638Z"
   },
   {
    "duration": 12,
    "start_time": "2024-05-24T05:51:15.644Z"
   },
   {
    "duration": 2244,
    "start_time": "2024-05-24T05:51:15.658Z"
   },
   {
    "duration": 65,
    "start_time": "2024-05-24T05:51:17.909Z"
   },
   {
    "duration": 1265,
    "start_time": "2024-05-24T05:51:17.977Z"
   },
   {
    "duration": 24,
    "start_time": "2024-05-24T05:51:52.243Z"
   },
   {
    "duration": 23,
    "start_time": "2024-05-24T05:52:24.260Z"
   },
   {
    "duration": 12,
    "start_time": "2024-05-24T05:52:45.547Z"
   },
   {
    "duration": 6,
    "start_time": "2024-05-24T05:52:45.899Z"
   },
   {
    "duration": 1477,
    "start_time": "2024-05-24T05:53:43.701Z"
   },
   {
    "duration": 49,
    "start_time": "2024-05-24T05:53:45.182Z"
   },
   {
    "duration": 6,
    "start_time": "2024-05-24T05:53:45.234Z"
   },
   {
    "duration": 11,
    "start_time": "2024-05-24T05:53:45.244Z"
   },
   {
    "duration": 61,
    "start_time": "2024-05-24T05:53:45.259Z"
   },
   {
    "duration": 6,
    "start_time": "2024-05-24T05:53:45.323Z"
   },
   {
    "duration": 7,
    "start_time": "2024-05-24T05:53:45.332Z"
   },
   {
    "duration": 9,
    "start_time": "2024-05-24T05:53:45.342Z"
   },
   {
    "duration": 8,
    "start_time": "2024-05-24T05:53:45.354Z"
   },
   {
    "duration": 15,
    "start_time": "2024-05-24T05:53:45.407Z"
   },
   {
    "duration": 303,
    "start_time": "2024-05-24T05:53:45.425Z"
   },
   {
    "duration": 6,
    "start_time": "2024-05-24T05:53:45.731Z"
   },
   {
    "duration": 13,
    "start_time": "2024-05-24T05:53:45.740Z"
   },
   {
    "duration": 7,
    "start_time": "2024-05-24T05:53:45.760Z"
   },
   {
    "duration": 47,
    "start_time": "2024-05-24T05:53:45.770Z"
   },
   {
    "duration": 15,
    "start_time": "2024-05-24T05:53:45.820Z"
   },
   {
    "duration": 6,
    "start_time": "2024-05-24T05:53:45.838Z"
   },
   {
    "duration": 9,
    "start_time": "2024-05-24T05:53:45.847Z"
   },
   {
    "duration": 60,
    "start_time": "2024-05-24T05:53:45.858Z"
   },
   {
    "duration": 1207,
    "start_time": "2024-05-24T05:53:45.922Z"
   },
   {
    "duration": 4,
    "start_time": "2024-05-24T05:53:47.132Z"
   },
   {
    "duration": 4,
    "start_time": "2024-05-24T05:53:47.139Z"
   },
   {
    "duration": 4,
    "start_time": "2024-05-24T05:53:47.146Z"
   },
   {
    "duration": 4,
    "start_time": "2024-05-24T05:53:47.153Z"
   },
   {
    "duration": 46,
    "start_time": "2024-05-24T05:53:47.160Z"
   },
   {
    "duration": 15,
    "start_time": "2024-05-24T05:53:47.209Z"
   },
   {
    "duration": 1701,
    "start_time": "2024-05-24T05:53:47.227Z"
   },
   {
    "duration": 4,
    "start_time": "2024-05-24T05:53:48.930Z"
   },
   {
    "duration": 3,
    "start_time": "2024-05-24T05:53:48.937Z"
   },
   {
    "duration": 4,
    "start_time": "2024-05-24T05:53:48.944Z"
   },
   {
    "duration": 6,
    "start_time": "2024-05-24T05:53:48.951Z"
   },
   {
    "duration": 55,
    "start_time": "2024-05-24T05:53:48.960Z"
   },
   {
    "duration": 9,
    "start_time": "2024-05-24T05:53:49.018Z"
   },
   {
    "duration": 709,
    "start_time": "2024-05-24T05:53:49.030Z"
   },
   {
    "duration": 3,
    "start_time": "2024-05-24T05:53:49.743Z"
   },
   {
    "duration": 3,
    "start_time": "2024-05-24T05:53:49.750Z"
   },
   {
    "duration": 4,
    "start_time": "2024-05-24T05:53:49.756Z"
   },
   {
    "duration": 1146,
    "start_time": "2024-05-24T05:53:49.763Z"
   },
   {
    "duration": 0,
    "start_time": "2024-05-24T05:53:50.911Z"
   },
   {
    "duration": 0,
    "start_time": "2024-05-24T05:53:50.914Z"
   },
   {
    "duration": 1745,
    "start_time": "2024-05-24T05:54:11.888Z"
   },
   {
    "duration": 123,
    "start_time": "2024-05-24T05:54:20.461Z"
   }
  ],
  "kernelspec": {
   "display_name": "Python 3 (ipykernel)",
   "language": "python",
   "name": "python3"
  },
  "language_info": {
   "codemirror_mode": {
    "name": "ipython",
    "version": 3
   },
   "file_extension": ".py",
   "mimetype": "text/x-python",
   "name": "python",
   "nbconvert_exporter": "python",
   "pygments_lexer": "ipython3",
   "version": "3.9.19"
  },
  "toc": {
   "base_numbering": 1,
   "nav_menu": {},
   "number_sections": true,
   "sideBar": true,
   "skip_h1_title": true,
   "title_cell": "Table of Contents",
   "title_sidebar": "Contents",
   "toc_cell": false,
   "toc_position": {
    "height": "calc(100% - 180px)",
    "left": "10px",
    "top": "150px",
    "width": "231.6px"
   },
   "toc_section_display": true,
   "toc_window_display": false
  }
 },
 "nbformat": 4,
 "nbformat_minor": 2
}
