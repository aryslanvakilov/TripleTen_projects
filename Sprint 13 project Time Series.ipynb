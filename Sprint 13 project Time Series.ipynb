{
 "cells": [
  {
   "cell_type": "markdown",
   "metadata": {},
   "source": [
    "**Review**\n",
    "\n",
    "Hello Aryslan!\n",
    "\n",
    "I'm happy to review your project today.\n",
    "  \n",
    "You can find my comments in colored markdown cells:\n",
    "  \n",
    "<div class=\"alert alert-success\">\n",
    "  If everything is done successfully.\n",
    "</div>\n",
    "  \n",
    "<div class=\"alert alert-warning\">\n",
    "  If I have some (optional) suggestions, or questions to think about, or general comments.\n",
    "</div>\n",
    "  \n",
    "<div class=\"alert alert-danger\">\n",
    "  If a section requires some corrections. Work can't be accepted with red comments.\n",
    "</div>\n",
    "  \n",
    "Please don't remove my comments, as it will make further review iterations much harder for me.\n",
    "  \n",
    "Feel free to reply to my comments or ask questions using the following template:\n",
    "  \n",
    "<div class=\"alert alert-info\">\n",
    "  For your comments and questions.\n",
    "</div>\n",
    "  \n",
    "First of all, thank you for turning in the project! You did a great job! The project is accepted. Good luck on the next sprint!"
   ]
  },
  {
   "cell_type": "markdown",
   "metadata": {},
   "source": [
    "# Project description\n",
    "\n",
    "Sweet Lift Taxi company has collected historical data on taxi orders at airports. To attract more drivers during peak hours, we need to predict the amount of taxi orders for the next hour. Build a model for such a prediction.\n",
    "\n",
    "The RMSE metric on the test set should not be more than 48.\n",
    "\n",
    "## Project instructions\n",
    "\n",
    "1. Download the data and resample it by one hour.\n",
    "2. Analyze the data.\n",
    "3. Train different models with different hyperparameters. The test sample should be 10% of the initial dataset. \n",
    "4. Test the data using the test sample and provide a conclusion.\n",
    "\n",
    "## Data description\n",
    "\n",
    "The data is stored in file `taxi.csv`. The number of orders is in the '*num_orders*' column."
   ]
  },
  {
   "cell_type": "markdown",
   "metadata": {},
   "source": [
    "## Preparation"
   ]
  },
  {
   "cell_type": "code",
   "execution_count": 1,
   "metadata": {},
   "outputs": [],
   "source": [
    "import pandas as pd\n",
    "import matplotlib.pyplot as plt\n",
    "from statsmodels.tsa.seasonal import seasonal_decompose\n",
    "import numpy as np\n",
    "from sklearn.model_selection import train_test_split\n",
    "from sklearn.linear_model import LinearRegression\n",
    "from sklearn.ensemble import RandomForestRegressor\n",
    "from lightgbm import LGBMRegressor\n",
    "from catboost import CatBoostRegressor\n",
    "from sklearn.metrics import mean_absolute_error\n",
    "from statsmodels.tsa.arima.model import ARIMA\n",
    "from pmdarima import auto_arima\n",
    "from sklearn.metrics import mean_squared_error"
   ]
  },
  {
   "cell_type": "code",
   "execution_count": 2,
   "metadata": {},
   "outputs": [
    {
     "data": {
      "text/html": [
       "<div>\n",
       "<style scoped>\n",
       "    .dataframe tbody tr th:only-of-type {\n",
       "        vertical-align: middle;\n",
       "    }\n",
       "\n",
       "    .dataframe tbody tr th {\n",
       "        vertical-align: top;\n",
       "    }\n",
       "\n",
       "    .dataframe thead th {\n",
       "        text-align: right;\n",
       "    }\n",
       "</style>\n",
       "<table border=\"1\" class=\"dataframe\">\n",
       "  <thead>\n",
       "    <tr style=\"text-align: right;\">\n",
       "      <th></th>\n",
       "      <th>num_orders</th>\n",
       "    </tr>\n",
       "    <tr>\n",
       "      <th>datetime</th>\n",
       "      <th></th>\n",
       "    </tr>\n",
       "  </thead>\n",
       "  <tbody>\n",
       "    <tr>\n",
       "      <th>2018-03-01 00:00:00</th>\n",
       "      <td>9</td>\n",
       "    </tr>\n",
       "    <tr>\n",
       "      <th>2018-03-01 00:10:00</th>\n",
       "      <td>14</td>\n",
       "    </tr>\n",
       "    <tr>\n",
       "      <th>2018-03-01 00:20:00</th>\n",
       "      <td>28</td>\n",
       "    </tr>\n",
       "    <tr>\n",
       "      <th>2018-03-01 00:30:00</th>\n",
       "      <td>20</td>\n",
       "    </tr>\n",
       "    <tr>\n",
       "      <th>2018-03-01 00:40:00</th>\n",
       "      <td>32</td>\n",
       "    </tr>\n",
       "  </tbody>\n",
       "</table>\n",
       "</div>"
      ],
      "text/plain": [
       "                     num_orders\n",
       "datetime                       \n",
       "2018-03-01 00:00:00           9\n",
       "2018-03-01 00:10:00          14\n",
       "2018-03-01 00:20:00          28\n",
       "2018-03-01 00:30:00          20\n",
       "2018-03-01 00:40:00          32"
      ]
     },
     "execution_count": 2,
     "metadata": {},
     "output_type": "execute_result"
    }
   ],
   "source": [
    "data = pd.read_csv('/datasets/taxi.csv',index_col=[0], parse_dates=[0])\n",
    "data.head()"
   ]
  },
  {
   "cell_type": "code",
   "execution_count": 3,
   "metadata": {},
   "outputs": [
    {
     "data": {
      "text/plain": [
       "num_orders    0\n",
       "dtype: int64"
      ]
     },
     "execution_count": 3,
     "metadata": {},
     "output_type": "execute_result"
    }
   ],
   "source": [
    "data.isnull().sum()"
   ]
  },
  {
   "cell_type": "code",
   "execution_count": 4,
   "metadata": {},
   "outputs": [
    {
     "data": {
      "text/plain": [
       "(26496, 1)"
      ]
     },
     "execution_count": 4,
     "metadata": {},
     "output_type": "execute_result"
    }
   ],
   "source": [
    "data.shape"
   ]
  },
  {
   "cell_type": "code",
   "execution_count": 5,
   "metadata": {},
   "outputs": [
    {
     "name": "stdout",
     "output_type": "stream",
     "text": [
      "<class 'pandas.core.frame.DataFrame'>\n",
      "DatetimeIndex: 26496 entries, 2018-03-01 00:00:00 to 2018-08-31 23:50:00\n",
      "Data columns (total 1 columns):\n",
      " #   Column      Non-Null Count  Dtype\n",
      "---  ------      --------------  -----\n",
      " 0   num_orders  26496 non-null  int64\n",
      "dtypes: int64(1)\n",
      "memory usage: 414.0 KB\n"
     ]
    }
   ],
   "source": [
    "data.info()"
   ]
  },
  {
   "cell_type": "code",
   "execution_count": 6,
   "metadata": {},
   "outputs": [
    {
     "data": {
      "text/plain": [
       "num_orders\n",
       "9             1373\n",
       "11            1365\n",
       "12            1317\n",
       "10            1316\n",
       "8             1253\n",
       "              ... \n",
       "94               1\n",
       "95               1\n",
       "98               1\n",
       "99               1\n",
       "81               1\n",
       "Length: 81, dtype: int64"
      ]
     },
     "execution_count": 6,
     "metadata": {},
     "output_type": "execute_result"
    }
   ],
   "source": [
    "data.value_counts()"
   ]
  },
  {
   "cell_type": "code",
   "execution_count": 7,
   "metadata": {},
   "outputs": [
    {
     "data": {
      "text/plain": [
       "datetime\n",
       "2018-03-01 00:00:00    False\n",
       "2018-03-01 00:10:00    False\n",
       "2018-03-01 00:20:00    False\n",
       "2018-03-01 00:30:00    False\n",
       "2018-03-01 00:40:00    False\n",
       "                       ...  \n",
       "2018-08-31 23:10:00     True\n",
       "2018-08-31 23:20:00     True\n",
       "2018-08-31 23:30:00     True\n",
       "2018-08-31 23:40:00     True\n",
       "2018-08-31 23:50:00     True\n",
       "Length: 26496, dtype: bool"
      ]
     },
     "execution_count": 7,
     "metadata": {},
     "output_type": "execute_result"
    }
   ],
   "source": [
    "data.duplicated()"
   ]
  },
  {
   "cell_type": "code",
   "execution_count": 8,
   "metadata": {},
   "outputs": [
    {
     "data": {
      "text/html": [
       "<div>\n",
       "<style scoped>\n",
       "    .dataframe tbody tr th:only-of-type {\n",
       "        vertical-align: middle;\n",
       "    }\n",
       "\n",
       "    .dataframe tbody tr th {\n",
       "        vertical-align: top;\n",
       "    }\n",
       "\n",
       "    .dataframe thead th {\n",
       "        text-align: right;\n",
       "    }\n",
       "</style>\n",
       "<table border=\"1\" class=\"dataframe\">\n",
       "  <thead>\n",
       "    <tr style=\"text-align: right;\">\n",
       "      <th></th>\n",
       "      <th>num_orders</th>\n",
       "    </tr>\n",
       "    <tr>\n",
       "      <th>datetime</th>\n",
       "      <th></th>\n",
       "    </tr>\n",
       "  </thead>\n",
       "  <tbody>\n",
       "    <tr>\n",
       "      <th>2018-03-01 00:00:00</th>\n",
       "      <td>9</td>\n",
       "    </tr>\n",
       "    <tr>\n",
       "      <th>2018-03-01 00:10:00</th>\n",
       "      <td>14</td>\n",
       "    </tr>\n",
       "    <tr>\n",
       "      <th>2018-03-01 00:20:00</th>\n",
       "      <td>28</td>\n",
       "    </tr>\n",
       "    <tr>\n",
       "      <th>2018-03-01 00:30:00</th>\n",
       "      <td>20</td>\n",
       "    </tr>\n",
       "    <tr>\n",
       "      <th>2018-03-01 00:40:00</th>\n",
       "      <td>32</td>\n",
       "    </tr>\n",
       "  </tbody>\n",
       "</table>\n",
       "</div>"
      ],
      "text/plain": [
       "                     num_orders\n",
       "datetime                       \n",
       "2018-03-01 00:00:00           9\n",
       "2018-03-01 00:10:00          14\n",
       "2018-03-01 00:20:00          28\n",
       "2018-03-01 00:30:00          20\n",
       "2018-03-01 00:40:00          32"
      ]
     },
     "execution_count": 8,
     "metadata": {},
     "output_type": "execute_result"
    }
   ],
   "source": [
    "data = data.dropna()\n",
    "data.head()"
   ]
  },
  {
   "cell_type": "code",
   "execution_count": 9,
   "metadata": {},
   "outputs": [
    {
     "data": {
      "text/html": [
       "<div>\n",
       "<style scoped>\n",
       "    .dataframe tbody tr th:only-of-type {\n",
       "        vertical-align: middle;\n",
       "    }\n",
       "\n",
       "    .dataframe tbody tr th {\n",
       "        vertical-align: top;\n",
       "    }\n",
       "\n",
       "    .dataframe thead th {\n",
       "        text-align: right;\n",
       "    }\n",
       "</style>\n",
       "<table border=\"1\" class=\"dataframe\">\n",
       "  <thead>\n",
       "    <tr style=\"text-align: right;\">\n",
       "      <th></th>\n",
       "      <th>num_orders</th>\n",
       "    </tr>\n",
       "    <tr>\n",
       "      <th>datetime</th>\n",
       "      <th></th>\n",
       "    </tr>\n",
       "  </thead>\n",
       "  <tbody>\n",
       "    <tr>\n",
       "      <th>2018-03-01 00:00:00</th>\n",
       "      <td>124</td>\n",
       "    </tr>\n",
       "    <tr>\n",
       "      <th>2018-03-01 01:00:00</th>\n",
       "      <td>85</td>\n",
       "    </tr>\n",
       "    <tr>\n",
       "      <th>2018-03-01 02:00:00</th>\n",
       "      <td>71</td>\n",
       "    </tr>\n",
       "    <tr>\n",
       "      <th>2018-03-01 03:00:00</th>\n",
       "      <td>66</td>\n",
       "    </tr>\n",
       "    <tr>\n",
       "      <th>2018-03-01 04:00:00</th>\n",
       "      <td>43</td>\n",
       "    </tr>\n",
       "  </tbody>\n",
       "</table>\n",
       "</div>"
      ],
      "text/plain": [
       "                     num_orders\n",
       "datetime                       \n",
       "2018-03-01 00:00:00         124\n",
       "2018-03-01 01:00:00          85\n",
       "2018-03-01 02:00:00          71\n",
       "2018-03-01 03:00:00          66\n",
       "2018-03-01 04:00:00          43"
      ]
     },
     "execution_count": 9,
     "metadata": {},
     "output_type": "execute_result"
    }
   ],
   "source": [
    "data = data.resample('H').sum()\n",
    "data.head()"
   ]
  },
  {
   "cell_type": "markdown",
   "metadata": {},
   "source": [
    "<div class=\"alert alert-success\">\n",
    "<b>Reviewer's comment</b>\n",
    "\n",
    "The data was resampled correctly\n",
    "\n",
    "</div>"
   ]
  },
  {
   "cell_type": "code",
   "execution_count": 10,
   "metadata": {},
   "outputs": [],
   "source": [
    "data.sort_index(inplace=True)"
   ]
  },
  {
   "cell_type": "code",
   "execution_count": 11,
   "metadata": {},
   "outputs": [],
   "source": [
    "#data = data['2018-03':'2018-09'].resample('H').sum()\n",
    "#data.head()"
   ]
  },
  {
   "cell_type": "markdown",
   "metadata": {},
   "source": [
    "## Analysis"
   ]
  },
  {
   "cell_type": "code",
   "execution_count": 12,
   "metadata": {},
   "outputs": [
    {
     "data": {
      "text/plain": [
       "<AxesSubplot:xlabel='datetime'>"
      ]
     },
     "execution_count": 12,
     "metadata": {},
     "output_type": "execute_result"
    },
    {
     "data": {
      "image/png": "[encoded data removed]",
      "text/plain": [
       "<Figure size 640x480 with 1 Axes>"
      ]
     },
     "metadata": {},
     "output_type": "display_data"
    }
   ],
   "source": [
    "data.plot()"
   ]
  },
  {
   "cell_type": "markdown",
   "metadata": {},
   "source": [
    "- Trend"
   ]
  },
  {
   "cell_type": "code",
   "execution_count": 13,
   "metadata": {},
   "outputs": [
    {
     "data": {
      "image/png": "[encoded data removed]",
      "text/plain": [
       "<Figure size 800x1000 with 1 Axes>"
      ]
     },
     "metadata": {},
     "output_type": "display_data"
    }
   ],
   "source": [
    "decomposed = seasonal_decompose(data)\n",
    "\n",
    "plt.figure(figsize=(8, 10))\n",
    "plt.subplot(311)\n",
    "decomposed.trend.plot(ax=plt.gca())\n",
    "\n",
    "plt.title('Trend')\n",
    "plt.show()"
   ]
  },
  {
   "cell_type": "markdown",
   "metadata": {},
   "source": [
    "- Seasonal component"
   ]
  },
  {
   "cell_type": "code",
   "execution_count": 14,
   "metadata": {},
   "outputs": [
    {
     "data": {
      "image/png": "[encoded data removed]",
      "text/plain": [
       "<Figure size 800x1000 with 1 Axes>"
      ]
     },
     "metadata": {},
     "output_type": "display_data"
    }
   ],
   "source": [
    "plt.figure(figsize=(8, 10))\n",
    "plt.subplot(312)\n",
    "decomposed.seasonal.plot(ax=plt.gca())\n",
    "\n",
    "plt.title('Seasonality')\n",
    "plt.show()"
   ]
  },
  {
   "cell_type": "markdown",
   "metadata": {},
   "source": [
    "<div class=\"alert alert-warning\">\n",
    "<b>Reviewer's comment</b>\n",
    "\n",
    "I would suggest looking at a smaller slice of `decomposed.seasonal` to better see the seasonal pattern\n",
    "\n",
    "</div>"
   ]
  },
  {
   "cell_type": "markdown",
   "metadata": {},
   "source": [
    "- Residuals"
   ]
  },
  {
   "cell_type": "code",
   "execution_count": 15,
   "metadata": {},
   "outputs": [
    {
     "data": {
      "image/png": "[encoded data removed]",
      "text/plain": [
       "<Figure size 800x1200 with 1 Axes>"
      ]
     },
     "metadata": {},
     "output_type": "display_data"
    }
   ],
   "source": [
    "plt.figure(figsize=(8, 12))\n",
    "plt.subplot(313)\n",
    "decomposed.resid.plot(ax=plt.gca())\n",
    "\n",
    "plt.title('Residuals')\n",
    "plt.show()"
   ]
  },
  {
   "cell_type": "markdown",
   "metadata": {},
   "source": [
    "<div class=\"alert alert-warning\">\n",
    "<b>Reviewer's comment</b>\n",
    "\n",
    "Great, you did a seasonal decomposition and plotted the data. Would be nice to add some conclusions here\n",
    "\n",
    "</div>"
   ]
  },
  {
   "cell_type": "markdown",
   "metadata": {},
   "source": [
    "## Training"
   ]
  },
  {
   "cell_type": "markdown",
   "metadata": {},
   "source": [
    "- Creating more fearures"
   ]
  },
  {
   "cell_type": "code",
   "execution_count": 16,
   "metadata": {},
   "outputs": [
    {
     "data": {
      "text/html": [
       "<div>\n",
       "<style scoped>\n",
       "    .dataframe tbody tr th:only-of-type {\n",
       "        vertical-align: middle;\n",
       "    }\n",
       "\n",
       "    .dataframe tbody tr th {\n",
       "        vertical-align: top;\n",
       "    }\n",
       "\n",
       "    .dataframe thead th {\n",
       "        text-align: right;\n",
       "    }\n",
       "</style>\n",
       "<table border=\"1\" class=\"dataframe\">\n",
       "  <thead>\n",
       "    <tr style=\"text-align: right;\">\n",
       "      <th></th>\n",
       "      <th>num_orders</th>\n",
       "      <th>hour</th>\n",
       "      <th>day</th>\n",
       "      <th>month</th>\n",
       "      <th>dayofweek_</th>\n",
       "      <th>lag_1</th>\n",
       "      <th>lag_2</th>\n",
       "      <th>lag_3</th>\n",
       "      <th>lag_4</th>\n",
       "      <th>rolling_mean</th>\n",
       "    </tr>\n",
       "    <tr>\n",
       "      <th>datetime</th>\n",
       "      <th></th>\n",
       "      <th></th>\n",
       "      <th></th>\n",
       "      <th></th>\n",
       "      <th></th>\n",
       "      <th></th>\n",
       "      <th></th>\n",
       "      <th></th>\n",
       "      <th></th>\n",
       "      <th></th>\n",
       "    </tr>\n",
       "  </thead>\n",
       "  <tbody>\n",
       "    <tr>\n",
       "      <th>2018-03-01 10:00:00</th>\n",
       "      <td>64</td>\n",
       "      <td>10</td>\n",
       "      <td>1</td>\n",
       "      <td>3</td>\n",
       "      <td>3</td>\n",
       "      <td>69.0</td>\n",
       "      <td>34.0</td>\n",
       "      <td>15.0</td>\n",
       "      <td>12.0</td>\n",
       "      <td>52.5</td>\n",
       "    </tr>\n",
       "    <tr>\n",
       "      <th>2018-03-01 11:00:00</th>\n",
       "      <td>96</td>\n",
       "      <td>11</td>\n",
       "      <td>1</td>\n",
       "      <td>3</td>\n",
       "      <td>3</td>\n",
       "      <td>64.0</td>\n",
       "      <td>69.0</td>\n",
       "      <td>34.0</td>\n",
       "      <td>15.0</td>\n",
       "      <td>46.5</td>\n",
       "    </tr>\n",
       "    <tr>\n",
       "      <th>2018-03-01 12:00:00</th>\n",
       "      <td>30</td>\n",
       "      <td>12</td>\n",
       "      <td>1</td>\n",
       "      <td>3</td>\n",
       "      <td>3</td>\n",
       "      <td>96.0</td>\n",
       "      <td>64.0</td>\n",
       "      <td>69.0</td>\n",
       "      <td>34.0</td>\n",
       "      <td>47.6</td>\n",
       "    </tr>\n",
       "    <tr>\n",
       "      <th>2018-03-01 13:00:00</th>\n",
       "      <td>32</td>\n",
       "      <td>13</td>\n",
       "      <td>1</td>\n",
       "      <td>3</td>\n",
       "      <td>3</td>\n",
       "      <td>30.0</td>\n",
       "      <td>96.0</td>\n",
       "      <td>64.0</td>\n",
       "      <td>69.0</td>\n",
       "      <td>43.5</td>\n",
       "    </tr>\n",
       "    <tr>\n",
       "      <th>2018-03-01 14:00:00</th>\n",
       "      <td>48</td>\n",
       "      <td>14</td>\n",
       "      <td>1</td>\n",
       "      <td>3</td>\n",
       "      <td>3</td>\n",
       "      <td>32.0</td>\n",
       "      <td>30.0</td>\n",
       "      <td>96.0</td>\n",
       "      <td>64.0</td>\n",
       "      <td>40.1</td>\n",
       "    </tr>\n",
       "  </tbody>\n",
       "</table>\n",
       "</div>"
      ],
      "text/plain": [
       "                     num_orders  hour  day  month  dayofweek_  lag_1  lag_2  \\\n",
       "datetime                                                                      \n",
       "2018-03-01 10:00:00          64    10    1      3           3   69.0   34.0   \n",
       "2018-03-01 11:00:00          96    11    1      3           3   64.0   69.0   \n",
       "2018-03-01 12:00:00          30    12    1      3           3   96.0   64.0   \n",
       "2018-03-01 13:00:00          32    13    1      3           3   30.0   96.0   \n",
       "2018-03-01 14:00:00          48    14    1      3           3   32.0   30.0   \n",
       "\n",
       "                     lag_3  lag_4  rolling_mean  \n",
       "datetime                                         \n",
       "2018-03-01 10:00:00   15.0   12.0          52.5  \n",
       "2018-03-01 11:00:00   34.0   15.0          46.5  \n",
       "2018-03-01 12:00:00   69.0   34.0          47.6  \n",
       "2018-03-01 13:00:00   64.0   69.0          43.5  \n",
       "2018-03-01 14:00:00   96.0   64.0          40.1  "
      ]
     },
     "execution_count": 16,
     "metadata": {},
     "output_type": "execute_result"
    }
   ],
   "source": [
    "def make_features(data, max_lag=4, rolling_mean_size=10):\n",
    "    data['hour'] = data.index.hour\n",
    "    data['day'] = data.index.day\n",
    "    data['month'] = data.index.month\n",
    "    data['dayofweek_'] = data.index.dayofweek\n",
    "    \n",
    "    for lag in range(1, max_lag +1):\n",
    "        data['lag_{}'.format(lag)] = data['num_orders'].shift(lag)\n",
    "\n",
    "    data['rolling_mean'] = data['num_orders'].shift().rolling(rolling_mean_size).mean()\n",
    "\n",
    "make_features(data)\n",
    "data = data.dropna()\n",
    "\n",
    "data.shape\n",
    "data.head()"
   ]
  },
  {
   "cell_type": "markdown",
   "metadata": {},
   "source": [
    "<div class=\"alert alert-success\">\n",
    "<b>Reviewer's comment</b>\n",
    "\n",
    "Feature engineering looks good: there are calendar features, lag features and a shifted rolling mean\n",
    "\n",
    "</div>"
   ]
  },
  {
   "cell_type": "markdown",
   "metadata": {},
   "source": [
    "- Split data into training and test sets"
   ]
  },
  {
   "cell_type": "code",
   "execution_count": 17,
   "metadata": {},
   "outputs": [
    {
     "name": "stdout",
     "output_type": "stream",
     "text": [
      "2018-03-01 10:00:00 2018-06-26 20:00:00\n",
      "(2819, 10)\n",
      "2018-06-26 21:00:00 2018-07-26 05:00:00\n",
      "(705, 10)\n",
      "2018-07-26 06:00:00 2018-08-31 23:00:00\n",
      "(882, 10)\n"
     ]
    }
   ],
   "source": [
    "train_valid, test = train_test_split(data, shuffle=False, test_size=0.2)\n",
    "train, valid = train_test_split(train_valid, shuffle=False, test_size=0.2)\n",
    "\n",
    "#train.shape, test.shape, valid.shape\n",
    "print(train.index.min(), train.index.max())\n",
    "print(train.shape)\n",
    "print(valid.index.min(), valid.index.max())\n",
    "print(valid.shape)\n",
    "print(test.index.min(), test.index.max())\n",
    "print(test.shape)"
   ]
  },
  {
   "cell_type": "markdown",
   "metadata": {},
   "source": [
    "<div class=\"alert alert-success\">\n",
    "<b>Reviewer's comment</b>\n",
    "\n",
    "The data was split without shuffling\n",
    "\n",
    "</div>"
   ]
  },
  {
   "cell_type": "code",
   "execution_count": 18,
   "metadata": {},
   "outputs": [],
   "source": [
    "features_train = train.drop(['num_orders'], axis=1)\n",
    "target_train = train['num_orders']\n",
    "features_valid = valid.drop(['num_orders'], axis=1)\n",
    "target_valid = valid['num_orders']\n",
    "features_test = test.drop(['num_orders'], axis=1)\n",
    "target_test = test['num_orders']\n"
   ]
  },
  {
   "cell_type": "code",
   "execution_count": 19,
   "metadata": {},
   "outputs": [
    {
     "name": "stdout",
     "output_type": "stream",
     "text": [
      "Mean value: 124.87868480725623\n",
      "RMSE prev: 53.39093403130062\n",
      "RMSE mean: 78.35778076256989\n"
     ]
    }
   ],
   "source": [
    "def rmse(true, pred):\n",
    "    return mean_squared_error(true, pred)**0.5\n",
    "\n",
    "print('Mean value:', test['num_orders'].mean())\n",
    "pred_previous = test.shift()\n",
    "pred_previous.iloc[0] = train.iloc[-1]\n",
    "print('RMSE prev:', rmse(test['num_orders'], pred_previous['num_orders']))\n",
    "\n",
    "pred_mean = np.ones(test['num_orders'].shape) * train['num_orders'].mean()\n",
    "print('RMSE mean:', rmse(test['num_orders'], pred_mean))"
   ]
  },
  {
   "cell_type": "markdown",
   "metadata": {},
   "source": [
    "<div class=\"alert alert-success\">\n",
    "<b>Reviewer's comment</b>\n",
    "\n",
    "Good simple baselines!\n",
    "\n",
    "</div>"
   ]
  },
  {
   "cell_type": "markdown",
   "metadata": {},
   "source": [
    "- LinearRegression"
   ]
  },
  {
   "cell_type": "code",
   "execution_count": 20,
   "metadata": {},
   "outputs": [
    {
     "name": "stdout",
     "output_type": "stream",
     "text": [
      "RMSE train: 27.725425293815523\n",
      "RMSE valid: 34.01633927041437\n",
      "\n"
     ]
    }
   ],
   "source": [
    "model = LinearRegression()\n",
    "model.fit(features_train, target_train)\n",
    "\n",
    "pred_train = model.predict(features_train)\n",
    "pred_valid = model.predict(features_valid)\n",
    "\n",
    "print(\"RMSE train:\", rmse(target_train, pred_train))\n",
    "print(\"RMSE valid:\", rmse(target_valid, pred_valid))\n",
    "print()"
   ]
  },
  {
   "cell_type": "markdown",
   "metadata": {},
   "source": [
    "- Random Forest Regressor"
   ]
  },
  {
   "cell_type": "code",
   "execution_count": 21,
   "metadata": {},
   "outputs": [
    {
     "name": "stdout",
     "output_type": "stream",
     "text": [
      "RMSE train: 7.502024919126438\n",
      "RMSE valid: 27.392126420944265\n"
     ]
    }
   ],
   "source": [
    "model = RandomForestRegressor(n_estimators=500)\n",
    "model.fit(features_train, target_train)\n",
    "\n",
    "pred_train = model.predict(features_train)\n",
    "pred_valid = model.predict(features_valid)\n",
    "\n",
    "print('RMSE train:', rmse(target_train, pred_train))\n",
    "print('RMSE valid:', rmse(target_valid, pred_valid))"
   ]
  },
  {
   "cell_type": "markdown",
   "metadata": {},
   "source": [
    "- Light GBM Regressor"
   ]
  },
  {
   "cell_type": "code",
   "execution_count": 22,
   "metadata": {},
   "outputs": [
    {
     "name": "stderr",
     "output_type": "stream",
     "text": [
      "/opt/conda/envs/python3/lib/python3.9/site-packages/lightgbm/engine.py:177: UserWarning: Found `num_iterations` in params. Will use it instead of argument\n",
      "  _log_warning(f\"Found `{alias}` in params. Will use it instead of argument\")\n"
     ]
    },
    {
     "name": "stdout",
     "output_type": "stream",
     "text": [
      "[1]\tvalid_0's rmse: 44.8468\n",
      "[2]\tvalid_0's rmse: 44.4016\n",
      "[3]\tvalid_0's rmse: 44.004\n",
      "[4]\tvalid_0's rmse: 43.568\n",
      "[5]\tvalid_0's rmse: 43.1728\n",
      "[6]\tvalid_0's rmse: 42.7872\n",
      "[7]\tvalid_0's rmse: 42.4149\n",
      "[8]\tvalid_0's rmse: 42.0224\n",
      "[9]\tvalid_0's rmse: 41.6747\n",
      "[10]\tvalid_0's rmse: 41.3389\n",
      "[11]\tvalid_0's rmse: 40.9688\n",
      "[12]\tvalid_0's rmse: 40.6676\n",
      "[13]\tvalid_0's rmse: 40.3235\n",
      "[14]\tvalid_0's rmse: 39.9594\n",
      "[15]\tvalid_0's rmse: 39.6421\n",
      "[16]\tvalid_0's rmse: 39.3423\n",
      "[17]\tvalid_0's rmse: 39.0536\n",
      "[18]\tvalid_0's rmse: 38.7423\n",
      "[19]\tvalid_0's rmse: 38.4413\n",
      "[20]\tvalid_0's rmse: 38.1662\n",
      "[21]\tvalid_0's rmse: 37.899\n",
      "[22]\tvalid_0's rmse: 37.6258\n",
      "[23]\tvalid_0's rmse: 37.3842\n",
      "[24]\tvalid_0's rmse: 37.1599\n",
      "[25]\tvalid_0's rmse: 36.9212\n",
      "[26]\tvalid_0's rmse: 36.6642\n",
      "[27]\tvalid_0's rmse: 36.4286\n",
      "[28]\tvalid_0's rmse: 36.2219\n",
      "[29]\tvalid_0's rmse: 36.0323\n",
      "[30]\tvalid_0's rmse: 35.8264\n",
      "[31]\tvalid_0's rmse: 35.6282\n",
      "[32]\tvalid_0's rmse: 35.4513\n",
      "[33]\tvalid_0's rmse: 35.2577\n",
      "[34]\tvalid_0's rmse: 35.0784\n",
      "[35]\tvalid_0's rmse: 34.9005\n",
      "[36]\tvalid_0's rmse: 34.7287\n",
      "[37]\tvalid_0's rmse: 34.5622\n",
      "[38]\tvalid_0's rmse: 34.3888\n",
      "[39]\tvalid_0's rmse: 34.2276\n",
      "[40]\tvalid_0's rmse: 34.0862\n",
      "[41]\tvalid_0's rmse: 33.9073\n",
      "[42]\tvalid_0's rmse: 33.7649\n",
      "[43]\tvalid_0's rmse: 33.6072\n",
      "[44]\tvalid_0's rmse: 33.4583\n",
      "[45]\tvalid_0's rmse: 33.3285\n",
      "[46]\tvalid_0's rmse: 33.1744\n",
      "[47]\tvalid_0's rmse: 33.0284\n",
      "[48]\tvalid_0's rmse: 32.9097\n",
      "[49]\tvalid_0's rmse: 32.7809\n",
      "[50]\tvalid_0's rmse: 32.6386\n",
      "[51]\tvalid_0's rmse: 32.4772\n",
      "[52]\tvalid_0's rmse: 32.3773\n",
      "[53]\tvalid_0's rmse: 32.2505\n",
      "[54]\tvalid_0's rmse: 32.0964\n",
      "[55]\tvalid_0's rmse: 31.9677\n",
      "[56]\tvalid_0's rmse: 31.859\n",
      "[57]\tvalid_0's rmse: 31.7394\n",
      "[58]\tvalid_0's rmse: 31.6372\n",
      "[59]\tvalid_0's rmse: 31.5111\n",
      "[60]\tvalid_0's rmse: 31.387\n",
      "[61]\tvalid_0's rmse: 31.2772\n",
      "[62]\tvalid_0's rmse: 31.1703\n",
      "[63]\tvalid_0's rmse: 31.0821\n",
      "[64]\tvalid_0's rmse: 31.0001\n",
      "[65]\tvalid_0's rmse: 30.8835\n",
      "[66]\tvalid_0's rmse: 30.7829\n",
      "[67]\tvalid_0's rmse: 30.7037\n",
      "[68]\tvalid_0's rmse: 30.6384\n",
      "[69]\tvalid_0's rmse: 30.5083\n",
      "[70]\tvalid_0's rmse: 30.4443\n",
      "[71]\tvalid_0's rmse: 30.3638\n",
      "[72]\tvalid_0's rmse: 30.2493\n",
      "[73]\tvalid_0's rmse: 30.1934\n",
      "[74]\tvalid_0's rmse: 30.1264\n",
      "[75]\tvalid_0's rmse: 30.0521\n",
      "[76]\tvalid_0's rmse: 29.9909\n",
      "[77]\tvalid_0's rmse: 29.9232\n",
      "[78]\tvalid_0's rmse: 29.836\n",
      "[79]\tvalid_0's rmse: 29.7681\n",
      "[80]\tvalid_0's rmse: 29.7193\n",
      "[81]\tvalid_0's rmse: 29.6375\n",
      "[82]\tvalid_0's rmse: 29.5767\n",
      "[83]\tvalid_0's rmse: 29.5338\n",
      "[84]\tvalid_0's rmse: 29.4582\n",
      "[85]\tvalid_0's rmse: 29.4114\n",
      "[86]\tvalid_0's rmse: 29.3569\n",
      "[87]\tvalid_0's rmse: 29.3089\n",
      "[88]\tvalid_0's rmse: 29.294\n",
      "[89]\tvalid_0's rmse: 29.2649\n",
      "[90]\tvalid_0's rmse: 29.1877\n",
      "[91]\tvalid_0's rmse: 29.1677\n",
      "[92]\tvalid_0's rmse: 29.149\n",
      "[93]\tvalid_0's rmse: 29.1183\n",
      "[94]\tvalid_0's rmse: 29.0523\n",
      "[95]\tvalid_0's rmse: 29.0176\n",
      "[96]\tvalid_0's rmse: 28.9841\n",
      "[97]\tvalid_0's rmse: 28.9501\n",
      "[98]\tvalid_0's rmse: 28.9168\n",
      "[99]\tvalid_0's rmse: 28.8774\n",
      "[100]\tvalid_0's rmse: 28.8552\n",
      "[101]\tvalid_0's rmse: 28.8293\n",
      "[102]\tvalid_0's rmse: 28.8076\n",
      "[103]\tvalid_0's rmse: 28.7733\n",
      "[104]\tvalid_0's rmse: 28.7319\n",
      "[105]\tvalid_0's rmse: 28.6967\n",
      "[106]\tvalid_0's rmse: 28.6643\n",
      "[107]\tvalid_0's rmse: 28.6237\n",
      "[108]\tvalid_0's rmse: 28.5895\n",
      "[109]\tvalid_0's rmse: 28.5617\n",
      "[110]\tvalid_0's rmse: 28.5443\n",
      "[111]\tvalid_0's rmse: 28.5135\n",
      "[112]\tvalid_0's rmse: 28.4834\n",
      "[113]\tvalid_0's rmse: 28.4539\n",
      "[114]\tvalid_0's rmse: 28.3936\n",
      "[115]\tvalid_0's rmse: 28.3355\n",
      "[116]\tvalid_0's rmse: 28.3137\n",
      "[117]\tvalid_0's rmse: 28.2521\n",
      "[118]\tvalid_0's rmse: 28.2161\n",
      "[119]\tvalid_0's rmse: 28.1945\n",
      "[120]\tvalid_0's rmse: 28.1535\n",
      "[121]\tvalid_0's rmse: 28.1235\n",
      "[122]\tvalid_0's rmse: 28.0906\n",
      "[123]\tvalid_0's rmse: 28.0495\n",
      "[124]\tvalid_0's rmse: 28.0113\n",
      "[125]\tvalid_0's rmse: 27.9898\n",
      "[126]\tvalid_0's rmse: 27.9545\n",
      "[127]\tvalid_0's rmse: 27.9554\n",
      "[128]\tvalid_0's rmse: 27.9256\n",
      "[129]\tvalid_0's rmse: 27.9096\n",
      "[130]\tvalid_0's rmse: 27.885\n",
      "[131]\tvalid_0's rmse: 27.8682\n",
      "[132]\tvalid_0's rmse: 27.8447\n",
      "[133]\tvalid_0's rmse: 27.8236\n",
      "[134]\tvalid_0's rmse: 27.81\n",
      "[135]\tvalid_0's rmse: 27.7905\n",
      "[136]\tvalid_0's rmse: 27.7679\n",
      "[137]\tvalid_0's rmse: 27.7554\n",
      "[138]\tvalid_0's rmse: 27.741\n",
      "[139]\tvalid_0's rmse: 27.7248\n",
      "[140]\tvalid_0's rmse: 27.7108\n",
      "[141]\tvalid_0's rmse: 27.6866\n",
      "[142]\tvalid_0's rmse: 27.6739\n",
      "[143]\tvalid_0's rmse: 27.6591\n",
      "[144]\tvalid_0's rmse: 27.639\n",
      "[145]\tvalid_0's rmse: 27.6155\n",
      "[146]\tvalid_0's rmse: 27.5965\n",
      "[147]\tvalid_0's rmse: 27.5804\n",
      "[148]\tvalid_0's rmse: 27.5636\n",
      "[149]\tvalid_0's rmse: 27.5471\n",
      "[150]\tvalid_0's rmse: 27.5366\n",
      "[151]\tvalid_0's rmse: 27.5169\n",
      "[152]\tvalid_0's rmse: 27.4965\n",
      "[153]\tvalid_0's rmse: 27.4807\n",
      "[154]\tvalid_0's rmse: 27.4719\n",
      "[155]\tvalid_0's rmse: 27.4607\n",
      "[156]\tvalid_0's rmse: 27.4548\n",
      "[157]\tvalid_0's rmse: 27.4471\n",
      "[158]\tvalid_0's rmse: 27.4445\n",
      "[159]\tvalid_0's rmse: 27.4412\n",
      "[160]\tvalid_0's rmse: 27.4197\n",
      "[161]\tvalid_0's rmse: 27.4145\n",
      "[162]\tvalid_0's rmse: 27.4017\n",
      "[163]\tvalid_0's rmse: 27.392\n",
      "[164]\tvalid_0's rmse: 27.3761\n",
      "[165]\tvalid_0's rmse: 27.3634\n",
      "[166]\tvalid_0's rmse: 27.349\n",
      "[167]\tvalid_0's rmse: 27.3372\n",
      "[168]\tvalid_0's rmse: 27.3385\n",
      "[169]\tvalid_0's rmse: 27.3257\n",
      "[170]\tvalid_0's rmse: 27.3201\n",
      "[171]\tvalid_0's rmse: 27.3032\n",
      "[172]\tvalid_0's rmse: 27.3034\n",
      "[173]\tvalid_0's rmse: 27.2963\n",
      "[174]\tvalid_0's rmse: 27.284\n",
      "[175]\tvalid_0's rmse: 27.2813\n",
      "[176]\tvalid_0's rmse: 27.2718\n",
      "[177]\tvalid_0's rmse: 27.2664\n",
      "[178]\tvalid_0's rmse: 27.2524\n",
      "[179]\tvalid_0's rmse: 27.248\n",
      "[180]\tvalid_0's rmse: 27.2405\n",
      "[181]\tvalid_0's rmse: 27.2311\n",
      "[182]\tvalid_0's rmse: 27.2247\n",
      "[183]\tvalid_0's rmse: 27.2077\n",
      "[184]\tvalid_0's rmse: 27.208\n",
      "[185]\tvalid_0's rmse: 27.19\n",
      "[186]\tvalid_0's rmse: 27.1951\n",
      "[187]\tvalid_0's rmse: 27.1738\n",
      "[188]\tvalid_0's rmse: 27.1772\n",
      "[189]\tvalid_0's rmse: 27.1471\n",
      "[190]\tvalid_0's rmse: 27.1504\n",
      "[191]\tvalid_0's rmse: 27.1451\n",
      "[192]\tvalid_0's rmse: 27.1451\n",
      "[193]\tvalid_0's rmse: 27.1396\n",
      "[194]\tvalid_0's rmse: 27.1212\n",
      "[195]\tvalid_0's rmse: 27.1269\n",
      "[196]\tvalid_0's rmse: 27.1088\n",
      "[197]\tvalid_0's rmse: 27.1019\n",
      "[198]\tvalid_0's rmse: 27.0901\n",
      "[199]\tvalid_0's rmse: 27.0887\n",
      "[200]\tvalid_0's rmse: 27.0709\n",
      "[201]\tvalid_0's rmse: 27.0631\n",
      "[202]\tvalid_0's rmse: 27.0549\n",
      "[203]\tvalid_0's rmse: 27.0474\n",
      "[204]\tvalid_0's rmse: 27.0508\n",
      "[205]\tvalid_0's rmse: 27.0417\n",
      "[206]\tvalid_0's rmse: 27.0134\n",
      "[207]\tvalid_0's rmse: 26.9996\n",
      "[208]\tvalid_0's rmse: 26.997\n",
      "[209]\tvalid_0's rmse: 26.9875\n",
      "[210]\tvalid_0's rmse: 26.9827\n",
      "[211]\tvalid_0's rmse: 26.9672\n",
      "[212]\tvalid_0's rmse: 26.9714\n",
      "[213]\tvalid_0's rmse: 26.9708\n",
      "[214]\tvalid_0's rmse: 26.9688\n",
      "[215]\tvalid_0's rmse: 26.9686\n",
      "[216]\tvalid_0's rmse: 26.967\n",
      "[217]\tvalid_0's rmse: 26.9711\n",
      "[218]\tvalid_0's rmse: 26.9682\n",
      "[219]\tvalid_0's rmse: 26.9785\n",
      "[220]\tvalid_0's rmse: 26.9824\n",
      "[221]\tvalid_0's rmse: 26.9805\n",
      "[222]\tvalid_0's rmse: 26.9844\n",
      "[223]\tvalid_0's rmse: 26.9854\n",
      "[224]\tvalid_0's rmse: 26.9838\n",
      "[225]\tvalid_0's rmse: 26.9841\n",
      "[226]\tvalid_0's rmse: 26.9853\n",
      "[227]\tvalid_0's rmse: 26.9896\n",
      "[228]\tvalid_0's rmse: 26.9906\n",
      "[229]\tvalid_0's rmse: 26.9851\n",
      "[230]\tvalid_0's rmse: 26.9938\n",
      "[231]\tvalid_0's rmse: 26.9942\n",
      "[232]\tvalid_0's rmse: 26.9905\n",
      "[233]\tvalid_0's rmse: 26.9876\n",
      "[234]\tvalid_0's rmse: 26.99\n",
      "[235]\tvalid_0's rmse: 26.9871\n",
      "[236]\tvalid_0's rmse: 26.9833\n",
      "[237]\tvalid_0's rmse: 26.9826\n",
      "[238]\tvalid_0's rmse: 26.9748\n",
      "[239]\tvalid_0's rmse: 26.9767\n",
      "[240]\tvalid_0's rmse: 26.9742\n",
      "[241]\tvalid_0's rmse: 26.9712\n",
      "[242]\tvalid_0's rmse: 26.973\n",
      "[243]\tvalid_0's rmse: 26.9715\n",
      "[244]\tvalid_0's rmse: 26.9592\n",
      "[245]\tvalid_0's rmse: 26.9593\n",
      "[246]\tvalid_0's rmse: 26.9451\n",
      "[247]\tvalid_0's rmse: 26.9298\n",
      "[248]\tvalid_0's rmse: 26.9288\n",
      "[249]\tvalid_0's rmse: 26.9283\n",
      "[250]\tvalid_0's rmse: 26.9152\n",
      "[251]\tvalid_0's rmse: 26.9182\n",
      "[252]\tvalid_0's rmse: 26.9087\n",
      "[253]\tvalid_0's rmse: 26.9049\n",
      "[254]\tvalid_0's rmse: 26.8962\n",
      "[255]\tvalid_0's rmse: 26.892\n",
      "[256]\tvalid_0's rmse: 26.8995\n",
      "[257]\tvalid_0's rmse: 26.9011\n",
      "[258]\tvalid_0's rmse: 26.9028\n",
      "[259]\tvalid_0's rmse: 26.907\n",
      "[260]\tvalid_0's rmse: 26.9078\n",
      "[261]\tvalid_0's rmse: 26.9103\n",
      "[262]\tvalid_0's rmse: 26.9137\n",
      "[263]\tvalid_0's rmse: 26.9097\n",
      "[264]\tvalid_0's rmse: 26.8992\n",
      "[265]\tvalid_0's rmse: 26.9019\n",
      "[266]\tvalid_0's rmse: 26.9029\n",
      "[267]\tvalid_0's rmse: 26.8999\n",
      "[268]\tvalid_0's rmse: 26.8993\n",
      "[269]\tvalid_0's rmse: 26.8984\n",
      "[270]\tvalid_0's rmse: 26.8966\n",
      "[271]\tvalid_0's rmse: 26.8961\n",
      "[272]\tvalid_0's rmse: 26.8822\n",
      "[273]\tvalid_0's rmse: 26.8786\n",
      "[274]\tvalid_0's rmse: 26.8783\n",
      "[275]\tvalid_0's rmse: 26.8828\n",
      "[276]\tvalid_0's rmse: 26.8826\n",
      "[277]\tvalid_0's rmse: 26.8803\n",
      "[278]\tvalid_0's rmse: 26.8829\n"
     ]
    },
    {
     "name": "stdout",
     "output_type": "stream",
     "text": [
      "[279]\tvalid_0's rmse: 26.882\n",
      "[280]\tvalid_0's rmse: 26.8738\n",
      "[281]\tvalid_0's rmse: 26.8723\n",
      "[282]\tvalid_0's rmse: 26.8764\n",
      "[283]\tvalid_0's rmse: 26.877\n",
      "[284]\tvalid_0's rmse: 26.8745\n",
      "[285]\tvalid_0's rmse: 26.8808\n",
      "[286]\tvalid_0's rmse: 26.8832\n",
      "[287]\tvalid_0's rmse: 26.8876\n",
      "[288]\tvalid_0's rmse: 26.8813\n",
      "[289]\tvalid_0's rmse: 26.886\n",
      "[290]\tvalid_0's rmse: 26.8891\n",
      "[291]\tvalid_0's rmse: 26.8882\n",
      "[292]\tvalid_0's rmse: 26.8879\n",
      "[293]\tvalid_0's rmse: 26.8814\n",
      "[294]\tvalid_0's rmse: 26.883\n",
      "[295]\tvalid_0's rmse: 26.8831\n",
      "[296]\tvalid_0's rmse: 26.8865\n",
      "[297]\tvalid_0's rmse: 26.8909\n",
      "[298]\tvalid_0's rmse: 26.8911\n",
      "[299]\tvalid_0's rmse: 26.8814\n",
      "[300]\tvalid_0's rmse: 26.8813\n",
      "[301]\tvalid_0's rmse: 26.8728\n",
      "[302]\tvalid_0's rmse: 26.8776\n",
      "[303]\tvalid_0's rmse: 26.8739\n",
      "[304]\tvalid_0's rmse: 26.8756\n",
      "[305]\tvalid_0's rmse: 26.8816\n",
      "[306]\tvalid_0's rmse: 26.8848\n",
      "[307]\tvalid_0's rmse: 26.8842\n",
      "[308]\tvalid_0's rmse: 26.8755\n",
      "[309]\tvalid_0's rmse: 26.8728\n",
      "[310]\tvalid_0's rmse: 26.8648\n",
      "[311]\tvalid_0's rmse: 26.8668\n",
      "[312]\tvalid_0's rmse: 26.8687\n",
      "[313]\tvalid_0's rmse: 26.8601\n",
      "[314]\tvalid_0's rmse: 26.8615\n",
      "[315]\tvalid_0's rmse: 26.8628\n",
      "[316]\tvalid_0's rmse: 26.8558\n",
      "[317]\tvalid_0's rmse: 26.854\n",
      "[318]\tvalid_0's rmse: 26.8551\n",
      "[319]\tvalid_0's rmse: 26.8517\n",
      "[320]\tvalid_0's rmse: 26.8575\n",
      "[321]\tvalid_0's rmse: 26.8559\n",
      "[322]\tvalid_0's rmse: 26.8601\n",
      "[323]\tvalid_0's rmse: 26.8589\n",
      "[324]\tvalid_0's rmse: 26.8581\n",
      "[325]\tvalid_0's rmse: 26.8608\n",
      "[326]\tvalid_0's rmse: 26.852\n",
      "[327]\tvalid_0's rmse: 26.852\n",
      "[328]\tvalid_0's rmse: 26.857\n",
      "[329]\tvalid_0's rmse: 26.8619\n",
      "[330]\tvalid_0's rmse: 26.8618\n",
      "[331]\tvalid_0's rmse: 26.8641\n",
      "[332]\tvalid_0's rmse: 26.8675\n",
      "[333]\tvalid_0's rmse: 26.8727\n",
      "[334]\tvalid_0's rmse: 26.8701\n",
      "[335]\tvalid_0's rmse: 26.8682\n",
      "[336]\tvalid_0's rmse: 26.8732\n",
      "[337]\tvalid_0's rmse: 26.8697\n",
      "[338]\tvalid_0's rmse: 26.8738\n",
      "[339]\tvalid_0's rmse: 26.8722\n",
      "[340]\tvalid_0's rmse: 26.8715\n",
      "[341]\tvalid_0's rmse: 26.8756\n",
      "[342]\tvalid_0's rmse: 26.8789\n",
      "[343]\tvalid_0's rmse: 26.8777\n",
      "[344]\tvalid_0's rmse: 26.8737\n",
      "[345]\tvalid_0's rmse: 26.8761\n",
      "[346]\tvalid_0's rmse: 26.8688\n",
      "[347]\tvalid_0's rmse: 26.8672\n",
      "[348]\tvalid_0's rmse: 26.8677\n",
      "[349]\tvalid_0's rmse: 26.8666\n",
      "[350]\tvalid_0's rmse: 26.8678\n",
      "[351]\tvalid_0's rmse: 26.8667\n",
      "[352]\tvalid_0's rmse: 26.8711\n",
      "[353]\tvalid_0's rmse: 26.8782\n",
      "[354]\tvalid_0's rmse: 26.8792\n",
      "[355]\tvalid_0's rmse: 26.8801\n",
      "[356]\tvalid_0's rmse: 26.8864\n",
      "[357]\tvalid_0's rmse: 26.895\n",
      "[358]\tvalid_0's rmse: 26.8954\n",
      "[359]\tvalid_0's rmse: 26.8949\n",
      "[360]\tvalid_0's rmse: 26.8956\n",
      "[361]\tvalid_0's rmse: 26.8986\n",
      "[362]\tvalid_0's rmse: 26.8979\n",
      "[363]\tvalid_0's rmse: 26.894\n",
      "[364]\tvalid_0's rmse: 26.8948\n",
      "[365]\tvalid_0's rmse: 26.8935\n",
      "[366]\tvalid_0's rmse: 26.8956\n",
      "[367]\tvalid_0's rmse: 26.8961\n",
      "[368]\tvalid_0's rmse: 26.8954\n",
      "[369]\tvalid_0's rmse: 26.8967\n",
      "[370]\tvalid_0's rmse: 26.8999\n",
      "[371]\tvalid_0's rmse: 26.9047\n",
      "[372]\tvalid_0's rmse: 26.9009\n",
      "[373]\tvalid_0's rmse: 26.8999\n",
      "[374]\tvalid_0's rmse: 26.9051\n",
      "[375]\tvalid_0's rmse: 26.9004\n",
      "[376]\tvalid_0's rmse: 26.8983\n",
      "[377]\tvalid_0's rmse: 26.9048\n",
      "[378]\tvalid_0's rmse: 26.9076\n",
      "[379]\tvalid_0's rmse: 26.908\n",
      "[380]\tvalid_0's rmse: 26.9109\n",
      "[381]\tvalid_0's rmse: 26.915\n",
      "[382]\tvalid_0's rmse: 26.9153\n",
      "[383]\tvalid_0's rmse: 26.9201\n",
      "[384]\tvalid_0's rmse: 26.9182\n",
      "[385]\tvalid_0's rmse: 26.9164\n",
      "[386]\tvalid_0's rmse: 26.9173\n",
      "[387]\tvalid_0's rmse: 26.9163\n",
      "[388]\tvalid_0's rmse: 26.9154\n",
      "[389]\tvalid_0's rmse: 26.9229\n",
      "[390]\tvalid_0's rmse: 26.9241\n",
      "[391]\tvalid_0's rmse: 26.9255\n",
      "[392]\tvalid_0's rmse: 26.9257\n",
      "[393]\tvalid_0's rmse: 26.9263\n",
      "[394]\tvalid_0's rmse: 26.928\n",
      "[395]\tvalid_0's rmse: 26.9261\n",
      "[396]\tvalid_0's rmse: 26.9261\n",
      "[397]\tvalid_0's rmse: 26.9252\n",
      "[398]\tvalid_0's rmse: 26.9217\n",
      "[399]\tvalid_0's rmse: 26.9217\n",
      "[400]\tvalid_0's rmse: 26.9319\n",
      "[401]\tvalid_0's rmse: 26.9327\n",
      "[402]\tvalid_0's rmse: 26.9305\n",
      "[403]\tvalid_0's rmse: 26.9316\n",
      "[404]\tvalid_0's rmse: 26.934\n",
      "[405]\tvalid_0's rmse: 26.9357\n",
      "[406]\tvalid_0's rmse: 26.9339\n",
      "[407]\tvalid_0's rmse: 26.9321\n",
      "[408]\tvalid_0's rmse: 26.9353\n",
      "[409]\tvalid_0's rmse: 26.9386\n",
      "[410]\tvalid_0's rmse: 26.9464\n",
      "[411]\tvalid_0's rmse: 26.9437\n",
      "[412]\tvalid_0's rmse: 26.9414\n",
      "[413]\tvalid_0's rmse: 26.943\n",
      "[414]\tvalid_0's rmse: 26.945\n",
      "[415]\tvalid_0's rmse: 26.9463\n",
      "[416]\tvalid_0's rmse: 26.947\n",
      "[417]\tvalid_0's rmse: 26.9486\n",
      "[418]\tvalid_0's rmse: 26.9534\n",
      "[419]\tvalid_0's rmse: 26.9526\n",
      "[420]\tvalid_0's rmse: 26.9543\n",
      "[421]\tvalid_0's rmse: 26.9536\n",
      "[422]\tvalid_0's rmse: 26.9544\n",
      "[423]\tvalid_0's rmse: 26.9507\n",
      "[424]\tvalid_0's rmse: 26.9544\n",
      "[425]\tvalid_0's rmse: 26.9617\n",
      "[426]\tvalid_0's rmse: 26.9609\n",
      "[427]\tvalid_0's rmse: 26.9572\n",
      "[428]\tvalid_0's rmse: 26.954\n",
      "[429]\tvalid_0's rmse: 26.953\n",
      "[430]\tvalid_0's rmse: 26.9582\n",
      "[431]\tvalid_0's rmse: 26.9536\n",
      "[432]\tvalid_0's rmse: 26.9535\n",
      "[433]\tvalid_0's rmse: 26.9516\n",
      "[434]\tvalid_0's rmse: 26.9515\n",
      "[435]\tvalid_0's rmse: 26.9542\n",
      "[436]\tvalid_0's rmse: 26.9524\n",
      "[437]\tvalid_0's rmse: 26.9573\n",
      "[438]\tvalid_0's rmse: 26.9612\n",
      "[439]\tvalid_0's rmse: 26.96\n",
      "[440]\tvalid_0's rmse: 26.9586\n",
      "[441]\tvalid_0's rmse: 26.9627\n",
      "[442]\tvalid_0's rmse: 26.9612\n",
      "[443]\tvalid_0's rmse: 26.9654\n",
      "[444]\tvalid_0's rmse: 26.9652\n",
      "[445]\tvalid_0's rmse: 26.9669\n",
      "[446]\tvalid_0's rmse: 26.9634\n",
      "[447]\tvalid_0's rmse: 26.9654\n",
      "[448]\tvalid_0's rmse: 26.9691\n",
      "[449]\tvalid_0's rmse: 26.9705\n",
      "[450]\tvalid_0's rmse: 26.9742\n",
      "[451]\tvalid_0's rmse: 26.9777\n",
      "[452]\tvalid_0's rmse: 26.983\n",
      "[453]\tvalid_0's rmse: 26.9798\n",
      "[454]\tvalid_0's rmse: 26.982\n",
      "[455]\tvalid_0's rmse: 26.9821\n",
      "[456]\tvalid_0's rmse: 26.9812\n",
      "[457]\tvalid_0's rmse: 26.9794\n",
      "[458]\tvalid_0's rmse: 26.9799\n",
      "[459]\tvalid_0's rmse: 26.9794\n",
      "[460]\tvalid_0's rmse: 26.9858\n",
      "[461]\tvalid_0's rmse: 26.9902\n",
      "[462]\tvalid_0's rmse: 26.9874\n",
      "[463]\tvalid_0's rmse: 26.9867\n",
      "[464]\tvalid_0's rmse: 26.9881\n",
      "[465]\tvalid_0's rmse: 26.9816\n",
      "[466]\tvalid_0's rmse: 26.9783\n",
      "[467]\tvalid_0's rmse: 26.9857\n",
      "[468]\tvalid_0's rmse: 26.9889\n",
      "[469]\tvalid_0's rmse: 26.99\n",
      "[470]\tvalid_0's rmse: 26.9944\n",
      "[471]\tvalid_0's rmse: 26.9929\n",
      "[472]\tvalid_0's rmse: 26.993\n",
      "[473]\tvalid_0's rmse: 26.9966\n",
      "[474]\tvalid_0's rmse: 27.0008\n",
      "[475]\tvalid_0's rmse: 27.0012\n",
      "[476]\tvalid_0's rmse: 26.999\n",
      "[477]\tvalid_0's rmse: 27.0031\n",
      "[478]\tvalid_0's rmse: 27.0056\n",
      "[479]\tvalid_0's rmse: 27.0117\n",
      "[480]\tvalid_0's rmse: 27.0137\n",
      "[481]\tvalid_0's rmse: 27.0161\n",
      "[482]\tvalid_0's rmse: 27.0158\n",
      "[483]\tvalid_0's rmse: 27.0176\n",
      "[484]\tvalid_0's rmse: 27.0196\n",
      "[485]\tvalid_0's rmse: 27.0184\n",
      "[486]\tvalid_0's rmse: 27.0248\n",
      "[487]\tvalid_0's rmse: 27.028\n",
      "[488]\tvalid_0's rmse: 27.0284\n",
      "[489]\tvalid_0's rmse: 27.0334\n",
      "[490]\tvalid_0's rmse: 27.0383\n",
      "[491]\tvalid_0's rmse: 27.0434\n",
      "[492]\tvalid_0's rmse: 27.0444\n",
      "[493]\tvalid_0's rmse: 27.0447\n",
      "[494]\tvalid_0's rmse: 27.0454\n",
      "[495]\tvalid_0's rmse: 27.054\n",
      "[496]\tvalid_0's rmse: 27.0512\n",
      "[497]\tvalid_0's rmse: 27.0505\n",
      "[498]\tvalid_0's rmse: 27.0516\n",
      "[499]\tvalid_0's rmse: 27.0522\n",
      "[500]\tvalid_0's rmse: 27.0541\n",
      "[501]\tvalid_0's rmse: 27.063\n",
      "[502]\tvalid_0's rmse: 27.0624\n",
      "[503]\tvalid_0's rmse: 27.0684\n",
      "[504]\tvalid_0's rmse: 27.0679\n",
      "[505]\tvalid_0's rmse: 27.0672\n",
      "[506]\tvalid_0's rmse: 27.0672\n",
      "[507]\tvalid_0's rmse: 27.0711\n",
      "[508]\tvalid_0's rmse: 27.0703\n",
      "[509]\tvalid_0's rmse: 27.0715\n",
      "[510]\tvalid_0's rmse: 27.0713\n",
      "[511]\tvalid_0's rmse: 27.0726\n",
      "[512]\tvalid_0's rmse: 27.078\n",
      "[513]\tvalid_0's rmse: 27.076\n",
      "[514]\tvalid_0's rmse: 27.0762\n",
      "[515]\tvalid_0's rmse: 27.0813\n",
      "[516]\tvalid_0's rmse: 27.084\n",
      "[517]\tvalid_0's rmse: 27.0878\n",
      "[518]\tvalid_0's rmse: 27.086\n",
      "[519]\tvalid_0's rmse: 27.082\n",
      "[520]\tvalid_0's rmse: 27.0833\n",
      "[521]\tvalid_0's rmse: 27.0789\n",
      "[522]\tvalid_0's rmse: 27.0861\n",
      "[523]\tvalid_0's rmse: 27.0886\n",
      "[524]\tvalid_0's rmse: 27.0899\n",
      "[525]\tvalid_0's rmse: 27.0941\n",
      "[526]\tvalid_0's rmse: 27.0941\n",
      "[527]\tvalid_0's rmse: 27.0955\n",
      "[528]\tvalid_0's rmse: 27.0954\n",
      "[529]\tvalid_0's rmse: 27.0964\n",
      "[530]\tvalid_0's rmse: 27.098\n",
      "[531]\tvalid_0's rmse: 27.0952\n",
      "[532]\tvalid_0's rmse: 27.0947\n",
      "[533]\tvalid_0's rmse: 27.0968\n",
      "[534]\tvalid_0's rmse: 27.0966\n",
      "[535]\tvalid_0's rmse: 27.0992\n",
      "[536]\tvalid_0's rmse: 27.1027\n",
      "[537]\tvalid_0's rmse: 27.1044\n",
      "[538]\tvalid_0's rmse: 27.1026\n",
      "[539]\tvalid_0's rmse: 27.1015\n",
      "[540]\tvalid_0's rmse: 27.1034\n",
      "[541]\tvalid_0's rmse: 27.1022\n",
      "[542]\tvalid_0's rmse: 27.1053\n",
      "[543]\tvalid_0's rmse: 27.108\n",
      "[544]\tvalid_0's rmse: 27.1115\n",
      "[545]\tvalid_0's rmse: 27.1083\n",
      "[546]\tvalid_0's rmse: 27.1103\n",
      "[547]\tvalid_0's rmse: 27.1099\n",
      "[548]\tvalid_0's rmse: 27.1072\n",
      "[549]\tvalid_0's rmse: 27.1035\n",
      "[550]\tvalid_0's rmse: 27.1066\n",
      "[551]\tvalid_0's rmse: 27.1087\n",
      "[552]\tvalid_0's rmse: 27.1118\n",
      "[553]\tvalid_0's rmse: 27.1156\n",
      "[554]\tvalid_0's rmse: 27.114\n",
      "[555]\tvalid_0's rmse: 27.1166\n",
      "[556]\tvalid_0's rmse: 27.1195\n",
      "[557]\tvalid_0's rmse: 27.1214\n",
      "[558]\tvalid_0's rmse: 27.1212\n",
      "[559]\tvalid_0's rmse: 27.1248\n",
      "[560]\tvalid_0's rmse: 27.1249\n",
      "[561]\tvalid_0's rmse: 27.1241\n",
      "[562]\tvalid_0's rmse: 27.1268\n",
      "[563]\tvalid_0's rmse: 27.1264\n",
      "[564]\tvalid_0's rmse: 27.1279\n",
      "[565]\tvalid_0's rmse: 27.1332\n",
      "[566]\tvalid_0's rmse: 27.1335\n",
      "[567]\tvalid_0's rmse: 27.1295\n",
      "[568]\tvalid_0's rmse: 27.1304\n",
      "[569]\tvalid_0's rmse: 27.1273\n",
      "[570]\tvalid_0's rmse: 27.127\n",
      "[571]\tvalid_0's rmse: 27.1303\n",
      "[572]\tvalid_0's rmse: 27.1285\n",
      "[573]\tvalid_0's rmse: 27.1289\n",
      "[574]\tvalid_0's rmse: 27.1266\n",
      "[575]\tvalid_0's rmse: 27.1263\n",
      "[576]\tvalid_0's rmse: 27.1255\n",
      "[577]\tvalid_0's rmse: 27.1223\n",
      "[578]\tvalid_0's rmse: 27.1231\n",
      "[579]\tvalid_0's rmse: 27.1231\n",
      "[580]\tvalid_0's rmse: 27.1196\n",
      "[581]\tvalid_0's rmse: 27.1215\n",
      "[582]\tvalid_0's rmse: 27.1222\n",
      "[583]\tvalid_0's rmse: 27.1193\n",
      "[584]\tvalid_0's rmse: 27.1192\n",
      "[585]\tvalid_0's rmse: 27.1175\n",
      "[586]\tvalid_0's rmse: 27.1142\n",
      "[587]\tvalid_0's rmse: 27.1136\n",
      "[588]\tvalid_0's rmse: 27.1091\n",
      "[589]\tvalid_0's rmse: 27.1099\n",
      "[590]\tvalid_0's rmse: 27.1064\n",
      "[591]\tvalid_0's rmse: 27.1038\n",
      "[592]\tvalid_0's rmse: 27.1037\n",
      "[593]\tvalid_0's rmse: 27.1039\n",
      "[594]\tvalid_0's rmse: 27.1072\n",
      "[595]\tvalid_0's rmse: 27.1082\n",
      "[596]\tvalid_0's rmse: 27.1086\n",
      "[597]\tvalid_0's rmse: 27.1079\n",
      "[598]\tvalid_0's rmse: 27.1046\n",
      "[599]\tvalid_0's rmse: 27.1053\n",
      "[600]\tvalid_0's rmse: 27.1026\n",
      "[601]\tvalid_0's rmse: 27.1032\n",
      "[602]\tvalid_0's rmse: 27.104\n",
      "[603]\tvalid_0's rmse: 27.1039\n",
      "[604]\tvalid_0's rmse: 27.1065\n"
     ]
    },
    {
     "name": "stdout",
     "output_type": "stream",
     "text": [
      "[605]\tvalid_0's rmse: 27.1056\n",
      "[606]\tvalid_0's rmse: 27.1044\n",
      "[607]\tvalid_0's rmse: 27.0998\n",
      "[608]\tvalid_0's rmse: 27.1004\n",
      "[609]\tvalid_0's rmse: 27.0997\n",
      "[610]\tvalid_0's rmse: 27.1026\n",
      "[611]\tvalid_0's rmse: 27.1019\n",
      "[612]\tvalid_0's rmse: 27.1025\n",
      "[613]\tvalid_0's rmse: 27.0999\n",
      "[614]\tvalid_0's rmse: 27.1013\n",
      "[615]\tvalid_0's rmse: 27.1008\n",
      "[616]\tvalid_0's rmse: 27.0982\n",
      "[617]\tvalid_0's rmse: 27.0972\n",
      "[618]\tvalid_0's rmse: 27.0973\n",
      "[619]\tvalid_0's rmse: 27.1045\n",
      "[620]\tvalid_0's rmse: 27.1069\n",
      "[621]\tvalid_0's rmse: 27.1007\n",
      "[622]\tvalid_0's rmse: 27.1023\n",
      "[623]\tvalid_0's rmse: 27.1003\n",
      "[624]\tvalid_0's rmse: 27.0984\n",
      "[625]\tvalid_0's rmse: 27.1018\n",
      "[626]\tvalid_0's rmse: 27.1027\n",
      "[627]\tvalid_0's rmse: 27.1088\n",
      "[628]\tvalid_0's rmse: 27.1046\n",
      "[629]\tvalid_0's rmse: 27.1047\n",
      "[630]\tvalid_0's rmse: 27.1035\n",
      "[631]\tvalid_0's rmse: 27.1063\n",
      "[632]\tvalid_0's rmse: 27.1025\n",
      "[633]\tvalid_0's rmse: 27.1022\n",
      "[634]\tvalid_0's rmse: 27.1081\n",
      "[635]\tvalid_0's rmse: 27.1053\n",
      "[636]\tvalid_0's rmse: 27.1027\n",
      "[637]\tvalid_0's rmse: 27.1015\n",
      "[638]\tvalid_0's rmse: 27.1024\n",
      "[639]\tvalid_0's rmse: 27.1026\n",
      "[640]\tvalid_0's rmse: 27.1019\n",
      "[641]\tvalid_0's rmse: 27.1057\n",
      "[642]\tvalid_0's rmse: 27.108\n",
      "[643]\tvalid_0's rmse: 27.1083\n",
      "[644]\tvalid_0's rmse: 27.1088\n",
      "[645]\tvalid_0's rmse: 27.1137\n",
      "[646]\tvalid_0's rmse: 27.116\n",
      "[647]\tvalid_0's rmse: 27.1148\n",
      "[648]\tvalid_0's rmse: 27.1159\n",
      "[649]\tvalid_0's rmse: 27.1176\n",
      "[650]\tvalid_0's rmse: 27.1198\n",
      "[651]\tvalid_0's rmse: 27.1182\n",
      "[652]\tvalid_0's rmse: 27.118\n",
      "[653]\tvalid_0's rmse: 27.1222\n",
      "[654]\tvalid_0's rmse: 27.1227\n",
      "[655]\tvalid_0's rmse: 27.1239\n",
      "[656]\tvalid_0's rmse: 27.1243\n",
      "[657]\tvalid_0's rmse: 27.1251\n",
      "[658]\tvalid_0's rmse: 27.124\n",
      "[659]\tvalid_0's rmse: 27.1236\n",
      "[660]\tvalid_0's rmse: 27.1296\n",
      "[661]\tvalid_0's rmse: 27.1307\n",
      "[662]\tvalid_0's rmse: 27.1313\n",
      "[663]\tvalid_0's rmse: 27.1324\n",
      "[664]\tvalid_0's rmse: 27.1327\n",
      "[665]\tvalid_0's rmse: 27.1331\n",
      "[666]\tvalid_0's rmse: 27.1333\n",
      "[667]\tvalid_0's rmse: 27.1317\n",
      "[668]\tvalid_0's rmse: 27.134\n",
      "[669]\tvalid_0's rmse: 27.1373\n",
      "[670]\tvalid_0's rmse: 27.1379\n",
      "[671]\tvalid_0's rmse: 27.1367\n",
      "[672]\tvalid_0's rmse: 27.136\n",
      "[673]\tvalid_0's rmse: 27.1351\n",
      "[674]\tvalid_0's rmse: 27.1347\n",
      "[675]\tvalid_0's rmse: 27.1382\n",
      "[676]\tvalid_0's rmse: 27.1387\n",
      "[677]\tvalid_0's rmse: 27.1373\n",
      "[678]\tvalid_0's rmse: 27.1362\n",
      "[679]\tvalid_0's rmse: 27.1341\n",
      "[680]\tvalid_0's rmse: 27.1389\n",
      "[681]\tvalid_0's rmse: 27.1443\n",
      "[682]\tvalid_0's rmse: 27.1435\n",
      "[683]\tvalid_0's rmse: 27.1427\n",
      "[684]\tvalid_0's rmse: 27.1478\n",
      "[685]\tvalid_0's rmse: 27.1443\n",
      "[686]\tvalid_0's rmse: 27.1433\n",
      "[687]\tvalid_0's rmse: 27.1422\n",
      "[688]\tvalid_0's rmse: 27.1419\n",
      "[689]\tvalid_0's rmse: 27.1448\n",
      "[690]\tvalid_0's rmse: 27.1449\n",
      "[691]\tvalid_0's rmse: 27.1452\n",
      "[692]\tvalid_0's rmse: 27.1433\n",
      "[693]\tvalid_0's rmse: 27.1396\n",
      "[694]\tvalid_0's rmse: 27.1385\n",
      "[695]\tvalid_0's rmse: 27.137\n",
      "[696]\tvalid_0's rmse: 27.1373\n",
      "[697]\tvalid_0's rmse: 27.1384\n",
      "[698]\tvalid_0's rmse: 27.139\n",
      "[699]\tvalid_0's rmse: 27.1414\n",
      "[700]\tvalid_0's rmse: 27.1404\n",
      "[701]\tvalid_0's rmse: 27.1388\n",
      "[702]\tvalid_0's rmse: 27.1411\n",
      "[703]\tvalid_0's rmse: 27.1417\n",
      "[704]\tvalid_0's rmse: 27.1408\n",
      "[705]\tvalid_0's rmse: 27.1409\n",
      "[706]\tvalid_0's rmse: 27.1379\n",
      "[707]\tvalid_0's rmse: 27.1404\n",
      "[708]\tvalid_0's rmse: 27.1349\n",
      "[709]\tvalid_0's rmse: 27.1382\n",
      "[710]\tvalid_0's rmse: 27.1372\n",
      "[711]\tvalid_0's rmse: 27.1408\n",
      "[712]\tvalid_0's rmse: 27.1385\n",
      "[713]\tvalid_0's rmse: 27.1403\n",
      "[714]\tvalid_0's rmse: 27.1362\n",
      "[715]\tvalid_0's rmse: 27.1312\n",
      "[716]\tvalid_0's rmse: 27.132\n",
      "[717]\tvalid_0's rmse: 27.1332\n",
      "[718]\tvalid_0's rmse: 27.1351\n",
      "[719]\tvalid_0's rmse: 27.1361\n",
      "[720]\tvalid_0's rmse: 27.1381\n",
      "[721]\tvalid_0's rmse: 27.1358\n",
      "[722]\tvalid_0's rmse: 27.1366\n",
      "[723]\tvalid_0's rmse: 27.1379\n",
      "[724]\tvalid_0's rmse: 27.1366\n",
      "[725]\tvalid_0's rmse: 27.1348\n",
      "[726]\tvalid_0's rmse: 27.1373\n",
      "[727]\tvalid_0's rmse: 27.1375\n",
      "[728]\tvalid_0's rmse: 27.1357\n",
      "[729]\tvalid_0's rmse: 27.1357\n",
      "[730]\tvalid_0's rmse: 27.1367\n",
      "[731]\tvalid_0's rmse: 27.1371\n",
      "[732]\tvalid_0's rmse: 27.1385\n",
      "[733]\tvalid_0's rmse: 27.14\n",
      "[734]\tvalid_0's rmse: 27.139\n",
      "[735]\tvalid_0's rmse: 27.139\n",
      "[736]\tvalid_0's rmse: 27.1399\n",
      "[737]\tvalid_0's rmse: 27.1385\n",
      "[738]\tvalid_0's rmse: 27.1396\n",
      "[739]\tvalid_0's rmse: 27.1398\n",
      "[740]\tvalid_0's rmse: 27.1411\n",
      "[741]\tvalid_0's rmse: 27.1422\n",
      "[742]\tvalid_0's rmse: 27.1429\n",
      "[743]\tvalid_0's rmse: 27.1428\n",
      "[744]\tvalid_0's rmse: 27.1428\n",
      "[745]\tvalid_0's rmse: 27.1432\n",
      "[746]\tvalid_0's rmse: 27.1483\n",
      "[747]\tvalid_0's rmse: 27.1487\n",
      "[748]\tvalid_0's rmse: 27.1475\n",
      "[749]\tvalid_0's rmse: 27.149\n",
      "[750]\tvalid_0's rmse: 27.1498\n",
      "[751]\tvalid_0's rmse: 27.1524\n",
      "[752]\tvalid_0's rmse: 27.1552\n",
      "[753]\tvalid_0's rmse: 27.1491\n",
      "[754]\tvalid_0's rmse: 27.15\n",
      "[755]\tvalid_0's rmse: 27.1488\n",
      "[756]\tvalid_0's rmse: 27.1478\n",
      "[757]\tvalid_0's rmse: 27.1475\n",
      "[758]\tvalid_0's rmse: 27.1496\n",
      "[759]\tvalid_0's rmse: 27.1499\n",
      "[760]\tvalid_0's rmse: 27.15\n",
      "[761]\tvalid_0's rmse: 27.1508\n",
      "[762]\tvalid_0's rmse: 27.1511\n",
      "[763]\tvalid_0's rmse: 27.1533\n",
      "[764]\tvalid_0's rmse: 27.1509\n",
      "[765]\tvalid_0's rmse: 27.15\n",
      "[766]\tvalid_0's rmse: 27.1515\n",
      "[767]\tvalid_0's rmse: 27.1536\n",
      "[768]\tvalid_0's rmse: 27.1514\n",
      "[769]\tvalid_0's rmse: 27.1537\n",
      "[770]\tvalid_0's rmse: 27.1534\n",
      "[771]\tvalid_0's rmse: 27.1578\n",
      "[772]\tvalid_0's rmse: 27.158\n",
      "[773]\tvalid_0's rmse: 27.1578\n",
      "[774]\tvalid_0's rmse: 27.1615\n",
      "[775]\tvalid_0's rmse: 27.1607\n",
      "[776]\tvalid_0's rmse: 27.1628\n",
      "[777]\tvalid_0's rmse: 27.1633\n",
      "[778]\tvalid_0's rmse: 27.1641\n",
      "[779]\tvalid_0's rmse: 27.1613\n",
      "[780]\tvalid_0's rmse: 27.1605\n",
      "[781]\tvalid_0's rmse: 27.163\n",
      "[782]\tvalid_0's rmse: 27.1616\n",
      "[783]\tvalid_0's rmse: 27.1601\n",
      "[784]\tvalid_0's rmse: 27.1635\n",
      "[785]\tvalid_0's rmse: 27.1638\n",
      "[786]\tvalid_0's rmse: 27.1585\n",
      "[787]\tvalid_0's rmse: 27.1579\n",
      "[788]\tvalid_0's rmse: 27.1573\n",
      "[789]\tvalid_0's rmse: 27.1576\n",
      "[790]\tvalid_0's rmse: 27.1517\n",
      "[791]\tvalid_0's rmse: 27.1512\n",
      "[792]\tvalid_0's rmse: 27.1499\n",
      "[793]\tvalid_0's rmse: 27.1503\n",
      "[794]\tvalid_0's rmse: 27.1546\n",
      "[795]\tvalid_0's rmse: 27.1493\n",
      "[796]\tvalid_0's rmse: 27.1522\n",
      "[797]\tvalid_0's rmse: 27.1553\n",
      "[798]\tvalid_0's rmse: 27.1572\n",
      "[799]\tvalid_0's rmse: 27.1574\n",
      "[800]\tvalid_0's rmse: 27.1602\n",
      "[801]\tvalid_0's rmse: 27.1598\n",
      "[802]\tvalid_0's rmse: 27.1596\n",
      "[803]\tvalid_0's rmse: 27.1593\n",
      "[804]\tvalid_0's rmse: 27.1551\n",
      "[805]\tvalid_0's rmse: 27.1553\n",
      "[806]\tvalid_0's rmse: 27.1557\n",
      "[807]\tvalid_0's rmse: 27.156\n",
      "[808]\tvalid_0's rmse: 27.1564\n",
      "[809]\tvalid_0's rmse: 27.1568\n",
      "[810]\tvalid_0's rmse: 27.1576\n",
      "[811]\tvalid_0's rmse: 27.1534\n",
      "[812]\tvalid_0's rmse: 27.1551\n",
      "[813]\tvalid_0's rmse: 27.1527\n",
      "[814]\tvalid_0's rmse: 27.1583\n",
      "[815]\tvalid_0's rmse: 27.1569\n",
      "[816]\tvalid_0's rmse: 27.1579\n",
      "[817]\tvalid_0's rmse: 27.1571\n",
      "[818]\tvalid_0's rmse: 27.1599\n",
      "[819]\tvalid_0's rmse: 27.159\n",
      "[820]\tvalid_0's rmse: 27.1586\n",
      "[821]\tvalid_0's rmse: 27.1591\n",
      "[822]\tvalid_0's rmse: 27.1627\n",
      "[823]\tvalid_0's rmse: 27.1611\n",
      "[824]\tvalid_0's rmse: 27.1617\n",
      "[825]\tvalid_0's rmse: 27.1616\n",
      "[826]\tvalid_0's rmse: 27.1654\n",
      "[827]\tvalid_0's rmse: 27.1678\n",
      "[828]\tvalid_0's rmse: 27.167\n",
      "[829]\tvalid_0's rmse: 27.1717\n",
      "[830]\tvalid_0's rmse: 27.1712\n",
      "[831]\tvalid_0's rmse: 27.1707\n",
      "[832]\tvalid_0's rmse: 27.1708\n",
      "[833]\tvalid_0's rmse: 27.1707\n",
      "[834]\tvalid_0's rmse: 27.17\n",
      "[835]\tvalid_0's rmse: 27.1686\n",
      "[836]\tvalid_0's rmse: 27.1706\n",
      "[837]\tvalid_0's rmse: 27.1715\n",
      "[838]\tvalid_0's rmse: 27.1732\n",
      "[839]\tvalid_0's rmse: 27.1686\n",
      "[840]\tvalid_0's rmse: 27.1714\n",
      "[841]\tvalid_0's rmse: 27.1749\n",
      "[842]\tvalid_0's rmse: 27.1776\n",
      "[843]\tvalid_0's rmse: 27.1773\n",
      "[844]\tvalid_0's rmse: 27.1745\n",
      "[845]\tvalid_0's rmse: 27.1792\n",
      "[846]\tvalid_0's rmse: 27.1811\n",
      "[847]\tvalid_0's rmse: 27.1822\n",
      "[848]\tvalid_0's rmse: 27.1823\n",
      "[849]\tvalid_0's rmse: 27.1828\n",
      "[850]\tvalid_0's rmse: 27.1795\n",
      "[851]\tvalid_0's rmse: 27.1756\n",
      "[852]\tvalid_0's rmse: 27.1794\n",
      "[853]\tvalid_0's rmse: 27.1842\n",
      "[854]\tvalid_0's rmse: 27.1818\n",
      "[855]\tvalid_0's rmse: 27.1834\n",
      "[856]\tvalid_0's rmse: 27.1826\n",
      "[857]\tvalid_0's rmse: 27.183\n",
      "[858]\tvalid_0's rmse: 27.1873\n",
      "[859]\tvalid_0's rmse: 27.1845\n",
      "[860]\tvalid_0's rmse: 27.1874\n",
      "[861]\tvalid_0's rmse: 27.1898\n",
      "[862]\tvalid_0's rmse: 27.1888\n",
      "[863]\tvalid_0's rmse: 27.1932\n",
      "[864]\tvalid_0's rmse: 27.193\n",
      "[865]\tvalid_0's rmse: 27.1948\n",
      "[866]\tvalid_0's rmse: 27.1941\n",
      "[867]\tvalid_0's rmse: 27.1933\n",
      "[868]\tvalid_0's rmse: 27.1966\n",
      "[869]\tvalid_0's rmse: 27.2001\n",
      "[870]\tvalid_0's rmse: 27.2036\n",
      "[871]\tvalid_0's rmse: 27.2038\n",
      "[872]\tvalid_0's rmse: 27.2039\n",
      "[873]\tvalid_0's rmse: 27.2004\n",
      "[874]\tvalid_0's rmse: 27.2002\n",
      "[875]\tvalid_0's rmse: 27.2017\n",
      "[876]\tvalid_0's rmse: 27.2025\n",
      "[877]\tvalid_0's rmse: 27.2021\n",
      "[878]\tvalid_0's rmse: 27.2052\n",
      "[879]\tvalid_0's rmse: 27.2044\n",
      "[880]\tvalid_0's rmse: 27.2055\n",
      "[881]\tvalid_0's rmse: 27.2042\n",
      "[882]\tvalid_0's rmse: 27.2038\n",
      "[883]\tvalid_0's rmse: 27.2035\n",
      "[884]\tvalid_0's rmse: 27.2046\n",
      "[885]\tvalid_0's rmse: 27.205\n",
      "[886]\tvalid_0's rmse: 27.2073\n",
      "[887]\tvalid_0's rmse: 27.2067\n",
      "[888]\tvalid_0's rmse: 27.2085\n",
      "[889]\tvalid_0's rmse: 27.2103\n",
      "[890]\tvalid_0's rmse: 27.2134\n",
      "[891]\tvalid_0's rmse: 27.2138\n",
      "[892]\tvalid_0's rmse: 27.2129\n",
      "[893]\tvalid_0's rmse: 27.2126\n",
      "[894]\tvalid_0's rmse: 27.2146\n",
      "[895]\tvalid_0's rmse: 27.217\n",
      "[896]\tvalid_0's rmse: 27.2172\n",
      "[897]\tvalid_0's rmse: 27.2143\n",
      "[898]\tvalid_0's rmse: 27.2142\n",
      "[899]\tvalid_0's rmse: 27.2143\n",
      "[900]\tvalid_0's rmse: 27.216\n",
      "[901]\tvalid_0's rmse: 27.2147\n",
      "[902]\tvalid_0's rmse: 27.2122\n"
     ]
    },
    {
     "name": "stdout",
     "output_type": "stream",
     "text": [
      "[903]\tvalid_0's rmse: 27.2113\n",
      "[904]\tvalid_0's rmse: 27.2116\n",
      "[905]\tvalid_0's rmse: 27.2122\n",
      "[906]\tvalid_0's rmse: 27.2132\n",
      "[907]\tvalid_0's rmse: 27.2148\n",
      "[908]\tvalid_0's rmse: 27.2153\n",
      "[909]\tvalid_0's rmse: 27.2166\n",
      "[910]\tvalid_0's rmse: 27.217\n",
      "[911]\tvalid_0's rmse: 27.2167\n",
      "[912]\tvalid_0's rmse: 27.2173\n",
      "[913]\tvalid_0's rmse: 27.2168\n",
      "[914]\tvalid_0's rmse: 27.2168\n",
      "[915]\tvalid_0's rmse: 27.2208\n",
      "[916]\tvalid_0's rmse: 27.2166\n",
      "[917]\tvalid_0's rmse: 27.2167\n",
      "[918]\tvalid_0's rmse: 27.2162\n",
      "[919]\tvalid_0's rmse: 27.2148\n",
      "[920]\tvalid_0's rmse: 27.2139\n",
      "[921]\tvalid_0's rmse: 27.214\n",
      "[922]\tvalid_0's rmse: 27.2165\n",
      "[923]\tvalid_0's rmse: 27.2124\n",
      "[924]\tvalid_0's rmse: 27.2148\n",
      "[925]\tvalid_0's rmse: 27.2137\n",
      "[926]\tvalid_0's rmse: 27.2138\n",
      "[927]\tvalid_0's rmse: 27.2168\n",
      "[928]\tvalid_0's rmse: 27.2137\n",
      "[929]\tvalid_0's rmse: 27.2112\n",
      "[930]\tvalid_0's rmse: 27.211\n",
      "[931]\tvalid_0's rmse: 27.21\n",
      "[932]\tvalid_0's rmse: 27.2094\n",
      "[933]\tvalid_0's rmse: 27.2095\n",
      "[934]\tvalid_0's rmse: 27.2086\n",
      "[935]\tvalid_0's rmse: 27.2056\n",
      "[936]\tvalid_0's rmse: 27.2027\n",
      "[937]\tvalid_0's rmse: 27.2016\n",
      "[938]\tvalid_0's rmse: 27.1992\n",
      "[939]\tvalid_0's rmse: 27.2\n",
      "[940]\tvalid_0's rmse: 27.203\n",
      "[941]\tvalid_0's rmse: 27.2026\n",
      "[942]\tvalid_0's rmse: 27.2031\n",
      "[943]\tvalid_0's rmse: 27.2008\n",
      "[944]\tvalid_0's rmse: 27.2005\n",
      "[945]\tvalid_0's rmse: 27.1991\n",
      "[946]\tvalid_0's rmse: 27.199\n",
      "[947]\tvalid_0's rmse: 27.1987\n",
      "[948]\tvalid_0's rmse: 27.199\n",
      "[949]\tvalid_0's rmse: 27.2033\n",
      "[950]\tvalid_0's rmse: 27.2038\n",
      "[951]\tvalid_0's rmse: 27.204\n",
      "[952]\tvalid_0's rmse: 27.2042\n",
      "[953]\tvalid_0's rmse: 27.2046\n",
      "[954]\tvalid_0's rmse: 27.2047\n",
      "[955]\tvalid_0's rmse: 27.2045\n",
      "[956]\tvalid_0's rmse: 27.2098\n",
      "[957]\tvalid_0's rmse: 27.2123\n",
      "[958]\tvalid_0's rmse: 27.2132\n",
      "[959]\tvalid_0's rmse: 27.2135\n",
      "[960]\tvalid_0's rmse: 27.2145\n",
      "[961]\tvalid_0's rmse: 27.217\n",
      "[962]\tvalid_0's rmse: 27.2152\n",
      "[963]\tvalid_0's rmse: 27.2146\n",
      "[964]\tvalid_0's rmse: 27.2169\n",
      "[965]\tvalid_0's rmse: 27.2178\n",
      "[966]\tvalid_0's rmse: 27.2208\n",
      "[967]\tvalid_0's rmse: 27.2192\n",
      "[968]\tvalid_0's rmse: 27.2193\n",
      "[969]\tvalid_0's rmse: 27.2216\n",
      "[970]\tvalid_0's rmse: 27.221\n",
      "[971]\tvalid_0's rmse: 27.2211\n",
      "[972]\tvalid_0's rmse: 27.2222\n",
      "[973]\tvalid_0's rmse: 27.2234\n",
      "[974]\tvalid_0's rmse: 27.2233\n",
      "[975]\tvalid_0's rmse: 27.2234\n",
      "[976]\tvalid_0's rmse: 27.225\n",
      "[977]\tvalid_0's rmse: 27.2228\n",
      "[978]\tvalid_0's rmse: 27.2262\n",
      "[979]\tvalid_0's rmse: 27.2278\n",
      "[980]\tvalid_0's rmse: 27.2267\n",
      "[981]\tvalid_0's rmse: 27.2297\n",
      "[982]\tvalid_0's rmse: 27.2296\n",
      "[983]\tvalid_0's rmse: 27.2321\n",
      "[984]\tvalid_0's rmse: 27.232\n",
      "[985]\tvalid_0's rmse: 27.2321\n",
      "[986]\tvalid_0's rmse: 27.2322\n",
      "[987]\tvalid_0's rmse: 27.233\n",
      "[988]\tvalid_0's rmse: 27.2317\n",
      "[989]\tvalid_0's rmse: 27.2316\n",
      "[990]\tvalid_0's rmse: 27.2316\n",
      "[991]\tvalid_0's rmse: 27.2318\n",
      "[992]\tvalid_0's rmse: 27.2319\n",
      "[993]\tvalid_0's rmse: 27.2323\n",
      "[994]\tvalid_0's rmse: 27.2317\n",
      "[995]\tvalid_0's rmse: 27.2338\n",
      "[996]\tvalid_0's rmse: 27.2334\n",
      "[997]\tvalid_0's rmse: 27.2305\n",
      "[998]\tvalid_0's rmse: 27.2309\n",
      "[999]\tvalid_0's rmse: 27.2304\n",
      "[1000]\tvalid_0's rmse: 27.2308\n",
      "[1001]\tvalid_0's rmse: 27.2325\n",
      "[1002]\tvalid_0's rmse: 27.2328\n",
      "[1003]\tvalid_0's rmse: 27.2332\n",
      "[1004]\tvalid_0's rmse: 27.2328\n",
      "[1005]\tvalid_0's rmse: 27.2361\n",
      "[1006]\tvalid_0's rmse: 27.2356\n",
      "[1007]\tvalid_0's rmse: 27.2378\n",
      "[1008]\tvalid_0's rmse: 27.2378\n",
      "[1009]\tvalid_0's rmse: 27.2378\n",
      "[1010]\tvalid_0's rmse: 27.2379\n",
      "[1011]\tvalid_0's rmse: 27.2373\n",
      "[1012]\tvalid_0's rmse: 27.2374\n",
      "[1013]\tvalid_0's rmse: 27.2366\n",
      "[1014]\tvalid_0's rmse: 27.2361\n",
      "[1015]\tvalid_0's rmse: 27.237\n",
      "[1016]\tvalid_0's rmse: 27.2384\n",
      "[1017]\tvalid_0's rmse: 27.239\n",
      "[1018]\tvalid_0's rmse: 27.2412\n",
      "[1019]\tvalid_0's rmse: 27.2415\n",
      "[1020]\tvalid_0's rmse: 27.2478\n",
      "[1021]\tvalid_0's rmse: 27.2499\n",
      "[1022]\tvalid_0's rmse: 27.2501\n",
      "[1023]\tvalid_0's rmse: 27.2469\n",
      "[1024]\tvalid_0's rmse: 27.2459\n",
      "[1025]\tvalid_0's rmse: 27.2449\n",
      "[1026]\tvalid_0's rmse: 27.2491\n",
      "[1027]\tvalid_0's rmse: 27.2507\n",
      "[1028]\tvalid_0's rmse: 27.253\n",
      "[1029]\tvalid_0's rmse: 27.2538\n",
      "[1030]\tvalid_0's rmse: 27.2554\n",
      "[1031]\tvalid_0's rmse: 27.2567\n",
      "[1032]\tvalid_0's rmse: 27.258\n",
      "[1033]\tvalid_0's rmse: 27.2581\n",
      "[1034]\tvalid_0's rmse: 27.261\n",
      "[1035]\tvalid_0's rmse: 27.2611\n",
      "[1036]\tvalid_0's rmse: 27.2622\n",
      "[1037]\tvalid_0's rmse: 27.2597\n",
      "[1038]\tvalid_0's rmse: 27.2588\n",
      "[1039]\tvalid_0's rmse: 27.2639\n",
      "[1040]\tvalid_0's rmse: 27.2659\n",
      "[1041]\tvalid_0's rmse: 27.2602\n",
      "[1042]\tvalid_0's rmse: 27.2599\n",
      "[1043]\tvalid_0's rmse: 27.2624\n",
      "[1044]\tvalid_0's rmse: 27.2625\n",
      "[1045]\tvalid_0's rmse: 27.2625\n",
      "[1046]\tvalid_0's rmse: 27.2632\n",
      "[1047]\tvalid_0's rmse: 27.2605\n",
      "[1048]\tvalid_0's rmse: 27.2627\n",
      "[1049]\tvalid_0's rmse: 27.2635\n",
      "[1050]\tvalid_0's rmse: 27.2613\n",
      "[1051]\tvalid_0's rmse: 27.2614\n",
      "[1052]\tvalid_0's rmse: 27.2629\n",
      "[1053]\tvalid_0's rmse: 27.2633\n",
      "[1054]\tvalid_0's rmse: 27.2638\n",
      "[1055]\tvalid_0's rmse: 27.2691\n",
      "[1056]\tvalid_0's rmse: 27.2661\n",
      "[1057]\tvalid_0's rmse: 27.2669\n",
      "[1058]\tvalid_0's rmse: 27.2719\n",
      "[1059]\tvalid_0's rmse: 27.2711\n",
      "[1060]\tvalid_0's rmse: 27.2722\n",
      "[1061]\tvalid_0's rmse: 27.2718\n",
      "[1062]\tvalid_0's rmse: 27.2719\n",
      "[1063]\tvalid_0's rmse: 27.2735\n",
      "[1064]\tvalid_0's rmse: 27.2748\n",
      "[1065]\tvalid_0's rmse: 27.2766\n",
      "[1066]\tvalid_0's rmse: 27.2811\n",
      "[1067]\tvalid_0's rmse: 27.2872\n",
      "[1068]\tvalid_0's rmse: 27.2866\n",
      "[1069]\tvalid_0's rmse: 27.2872\n",
      "[1070]\tvalid_0's rmse: 27.2843\n",
      "[1071]\tvalid_0's rmse: 27.2888\n",
      "[1072]\tvalid_0's rmse: 27.2933\n",
      "[1073]\tvalid_0's rmse: 27.2928\n",
      "[1074]\tvalid_0's rmse: 27.2965\n",
      "[1075]\tvalid_0's rmse: 27.3005\n",
      "[1076]\tvalid_0's rmse: 27.3068\n",
      "[1077]\tvalid_0's rmse: 27.3062\n",
      "[1078]\tvalid_0's rmse: 27.3023\n",
      "[1079]\tvalid_0's rmse: 27.3035\n",
      "[1080]\tvalid_0's rmse: 27.3045\n",
      "[1081]\tvalid_0's rmse: 27.3024\n",
      "[1082]\tvalid_0's rmse: 27.3035\n",
      "[1083]\tvalid_0's rmse: 27.3044\n",
      "[1084]\tvalid_0's rmse: 27.3096\n",
      "[1085]\tvalid_0's rmse: 27.3157\n",
      "[1086]\tvalid_0's rmse: 27.3151\n",
      "[1087]\tvalid_0's rmse: 27.3139\n",
      "[1088]\tvalid_0's rmse: 27.3164\n",
      "[1089]\tvalid_0's rmse: 27.3151\n",
      "[1090]\tvalid_0's rmse: 27.3182\n",
      "[1091]\tvalid_0's rmse: 27.3206\n",
      "[1092]\tvalid_0's rmse: 27.3222\n",
      "[1093]\tvalid_0's rmse: 27.3226\n",
      "[1094]\tvalid_0's rmse: 27.3229\n",
      "[1095]\tvalid_0's rmse: 27.3229\n",
      "[1096]\tvalid_0's rmse: 27.324\n",
      "[1097]\tvalid_0's rmse: 27.3238\n",
      "[1098]\tvalid_0's rmse: 27.3228\n",
      "[1099]\tvalid_0's rmse: 27.325\n",
      "[1100]\tvalid_0's rmse: 27.3241\n",
      "[1101]\tvalid_0's rmse: 27.3254\n",
      "[1102]\tvalid_0's rmse: 27.3258\n",
      "[1103]\tvalid_0's rmse: 27.3251\n",
      "[1104]\tvalid_0's rmse: 27.3283\n",
      "[1105]\tvalid_0's rmse: 27.3286\n",
      "[1106]\tvalid_0's rmse: 27.3294\n",
      "[1107]\tvalid_0's rmse: 27.3321\n",
      "[1108]\tvalid_0's rmse: 27.3364\n",
      "[1109]\tvalid_0's rmse: 27.3363\n",
      "[1110]\tvalid_0's rmse: 27.3398\n",
      "[1111]\tvalid_0's rmse: 27.3403\n",
      "[1112]\tvalid_0's rmse: 27.3415\n",
      "[1113]\tvalid_0's rmse: 27.339\n",
      "[1114]\tvalid_0's rmse: 27.3426\n",
      "[1115]\tvalid_0's rmse: 27.3468\n",
      "[1116]\tvalid_0's rmse: 27.3467\n",
      "[1117]\tvalid_0's rmse: 27.3509\n",
      "[1118]\tvalid_0's rmse: 27.3531\n",
      "[1119]\tvalid_0's rmse: 27.3557\n",
      "[1120]\tvalid_0's rmse: 27.3586\n",
      "[1121]\tvalid_0's rmse: 27.362\n",
      "[1122]\tvalid_0's rmse: 27.3646\n",
      "[1123]\tvalid_0's rmse: 27.3628\n",
      "[1124]\tvalid_0's rmse: 27.3609\n",
      "[1125]\tvalid_0's rmse: 27.3606\n",
      "[1126]\tvalid_0's rmse: 27.3623\n",
      "[1127]\tvalid_0's rmse: 27.3657\n",
      "[1128]\tvalid_0's rmse: 27.366\n",
      "[1129]\tvalid_0's rmse: 27.3666\n",
      "[1130]\tvalid_0's rmse: 27.3679\n",
      "[1131]\tvalid_0's rmse: 27.368\n",
      "[1132]\tvalid_0's rmse: 27.3694\n",
      "[1133]\tvalid_0's rmse: 27.3691\n",
      "[1134]\tvalid_0's rmse: 27.3713\n",
      "[1135]\tvalid_0's rmse: 27.3734\n",
      "[1136]\tvalid_0's rmse: 27.3731\n",
      "[1137]\tvalid_0's rmse: 27.3746\n",
      "[1138]\tvalid_0's rmse: 27.3766\n",
      "[1139]\tvalid_0's rmse: 27.3784\n",
      "[1140]\tvalid_0's rmse: 27.3809\n",
      "[1141]\tvalid_0's rmse: 27.3833\n",
      "[1142]\tvalid_0's rmse: 27.3858\n",
      "[1143]\tvalid_0's rmse: 27.3895\n",
      "[1144]\tvalid_0's rmse: 27.3855\n",
      "[1145]\tvalid_0's rmse: 27.3867\n",
      "[1146]\tvalid_0's rmse: 27.3872\n",
      "[1147]\tvalid_0's rmse: 27.3906\n",
      "[1148]\tvalid_0's rmse: 27.3947\n",
      "[1149]\tvalid_0's rmse: 27.3962\n",
      "[1150]\tvalid_0's rmse: 27.3938\n",
      "[1151]\tvalid_0's rmse: 27.3978\n",
      "[1152]\tvalid_0's rmse: 27.4011\n",
      "[1153]\tvalid_0's rmse: 27.4005\n",
      "[1154]\tvalid_0's rmse: 27.4003\n",
      "[1155]\tvalid_0's rmse: 27.4\n",
      "[1156]\tvalid_0's rmse: 27.4021\n",
      "[1157]\tvalid_0's rmse: 27.4029\n",
      "[1158]\tvalid_0's rmse: 27.4005\n",
      "[1159]\tvalid_0's rmse: 27.4003\n",
      "[1160]\tvalid_0's rmse: 27.4019\n",
      "[1161]\tvalid_0's rmse: 27.4028\n",
      "[1162]\tvalid_0's rmse: 27.4008\n",
      "[1163]\tvalid_0's rmse: 27.4045\n",
      "[1164]\tvalid_0's rmse: 27.4092\n",
      "[1165]\tvalid_0's rmse: 27.4115\n",
      "[1166]\tvalid_0's rmse: 27.4115\n",
      "[1167]\tvalid_0's rmse: 27.4115\n",
      "[1168]\tvalid_0's rmse: 27.41\n",
      "[1169]\tvalid_0's rmse: 27.4103\n",
      "[1170]\tvalid_0's rmse: 27.4128\n",
      "[1171]\tvalid_0's rmse: 27.4139\n",
      "[1172]\tvalid_0's rmse: 27.4114\n",
      "[1173]\tvalid_0's rmse: 27.4133\n",
      "[1174]\tvalid_0's rmse: 27.4144\n",
      "[1175]\tvalid_0's rmse: 27.412\n",
      "[1176]\tvalid_0's rmse: 27.4134\n",
      "[1177]\tvalid_0's rmse: 27.4152\n",
      "[1178]\tvalid_0's rmse: 27.415\n",
      "[1179]\tvalid_0's rmse: 27.4157\n",
      "[1180]\tvalid_0's rmse: 27.4156\n",
      "[1181]\tvalid_0's rmse: 27.4176\n",
      "[1182]\tvalid_0's rmse: 27.4188\n",
      "[1183]\tvalid_0's rmse: 27.421\n",
      "[1184]\tvalid_0's rmse: 27.4214\n",
      "[1185]\tvalid_0's rmse: 27.4247\n",
      "[1186]\tvalid_0's rmse: 27.4262\n",
      "[1187]\tvalid_0's rmse: 27.43\n",
      "[1188]\tvalid_0's rmse: 27.4311\n",
      "[1189]\tvalid_0's rmse: 27.4331\n",
      "[1190]\tvalid_0's rmse: 27.4325\n",
      "[1191]\tvalid_0's rmse: 27.432\n",
      "[1192]\tvalid_0's rmse: 27.4323\n",
      "[1193]\tvalid_0's rmse: 27.4351\n",
      "[1194]\tvalid_0's rmse: 27.4358\n",
      "[1195]\tvalid_0's rmse: 27.4359\n",
      "[1196]\tvalid_0's rmse: 27.438\n",
      "[1197]\tvalid_0's rmse: 27.4379\n",
      "[1198]\tvalid_0's rmse: 27.4408\n",
      "[1199]\tvalid_0's rmse: 27.4405\n",
      "[1200]\tvalid_0's rmse: 27.4405\n",
      "[1201]\tvalid_0's rmse: 27.4429\n",
      "[1202]\tvalid_0's rmse: 27.4457\n",
      "[1203]\tvalid_0's rmse: 27.4468\n",
      "[1204]\tvalid_0's rmse: 27.4494\n",
      "[1205]\tvalid_0's rmse: 27.4515\n",
      "[1206]\tvalid_0's rmse: 27.4531\n",
      "[1207]\tvalid_0's rmse: 27.4549\n",
      "[1208]\tvalid_0's rmse: 27.4538\n",
      "[1209]\tvalid_0's rmse: 27.4551\n",
      "[1210]\tvalid_0's rmse: 27.4567\n",
      "[1211]\tvalid_0's rmse: 27.4562\n",
      "[1212]\tvalid_0's rmse: 27.4575\n",
      "[1213]\tvalid_0's rmse: 27.4579\n",
      "[1214]\tvalid_0's rmse: 27.4594\n",
      "[1215]\tvalid_0's rmse: 27.4587\n",
      "[1216]\tvalid_0's rmse: 27.4596\n",
      "[1217]\tvalid_0's rmse: 27.4596\n",
      "[1218]\tvalid_0's rmse: 27.4616\n",
      "[1219]\tvalid_0's rmse: 27.4594\n",
      "[1220]\tvalid_0's rmse: 27.4603\n",
      "[1221]\tvalid_0's rmse: 27.4615\n",
      "[1222]\tvalid_0's rmse: 27.4609\n",
      "[1223]\tvalid_0's rmse: 27.4636\n",
      "[1224]\tvalid_0's rmse: 27.4657\n"
     ]
    },
    {
     "name": "stdout",
     "output_type": "stream",
     "text": [
      "[1225]\tvalid_0's rmse: 27.4686\n",
      "[1226]\tvalid_0's rmse: 27.4684\n",
      "[1227]\tvalid_0's rmse: 27.4672\n",
      "[1228]\tvalid_0's rmse: 27.4686\n",
      "[1229]\tvalid_0's rmse: 27.4699\n",
      "[1230]\tvalid_0's rmse: 27.4683\n",
      "[1231]\tvalid_0's rmse: 27.466\n",
      "[1232]\tvalid_0's rmse: 27.4674\n",
      "[1233]\tvalid_0's rmse: 27.4692\n",
      "[1234]\tvalid_0's rmse: 27.467\n",
      "[1235]\tvalid_0's rmse: 27.4692\n",
      "[1236]\tvalid_0's rmse: 27.4714\n",
      "[1237]\tvalid_0's rmse: 27.4711\n",
      "[1238]\tvalid_0's rmse: 27.4731\n",
      "[1239]\tvalid_0's rmse: 27.4737\n",
      "[1240]\tvalid_0's rmse: 27.4714\n",
      "[1241]\tvalid_0's rmse: 27.4721\n",
      "[1242]\tvalid_0's rmse: 27.471\n",
      "[1243]\tvalid_0's rmse: 27.4705\n",
      "[1244]\tvalid_0's rmse: 27.4714\n",
      "[1245]\tvalid_0's rmse: 27.4694\n",
      "[1246]\tvalid_0's rmse: 27.4704\n",
      "[1247]\tvalid_0's rmse: 27.4717\n",
      "[1248]\tvalid_0's rmse: 27.4706\n",
      "[1249]\tvalid_0's rmse: 27.4721\n",
      "[1250]\tvalid_0's rmse: 27.4718\n",
      "[1251]\tvalid_0's rmse: 27.4739\n",
      "[1252]\tvalid_0's rmse: 27.4754\n",
      "[1253]\tvalid_0's rmse: 27.4748\n",
      "[1254]\tvalid_0's rmse: 27.4711\n",
      "[1255]\tvalid_0's rmse: 27.4753\n",
      "[1256]\tvalid_0's rmse: 27.4776\n",
      "[1257]\tvalid_0's rmse: 27.4797\n",
      "[1258]\tvalid_0's rmse: 27.4804\n",
      "[1259]\tvalid_0's rmse: 27.4832\n",
      "[1260]\tvalid_0's rmse: 27.4817\n",
      "[1261]\tvalid_0's rmse: 27.4823\n",
      "[1262]\tvalid_0's rmse: 27.4825\n",
      "[1263]\tvalid_0's rmse: 27.4831\n",
      "[1264]\tvalid_0's rmse: 27.4831\n",
      "[1265]\tvalid_0's rmse: 27.4837\n",
      "[1266]\tvalid_0's rmse: 27.4861\n",
      "[1267]\tvalid_0's rmse: 27.4848\n",
      "[1268]\tvalid_0's rmse: 27.4892\n",
      "[1269]\tvalid_0's rmse: 27.492\n",
      "[1270]\tvalid_0's rmse: 27.4919\n",
      "[1271]\tvalid_0's rmse: 27.4915\n",
      "[1272]\tvalid_0's rmse: 27.4922\n",
      "[1273]\tvalid_0's rmse: 27.4923\n",
      "[1274]\tvalid_0's rmse: 27.4938\n",
      "[1275]\tvalid_0's rmse: 27.494\n",
      "[1276]\tvalid_0's rmse: 27.494\n",
      "[1277]\tvalid_0's rmse: 27.4937\n",
      "[1278]\tvalid_0's rmse: 27.4948\n",
      "[1279]\tvalid_0's rmse: 27.4992\n",
      "[1280]\tvalid_0's rmse: 27.4992\n",
      "[1281]\tvalid_0's rmse: 27.4999\n",
      "[1282]\tvalid_0's rmse: 27.499\n",
      "[1283]\tvalid_0's rmse: 27.5006\n",
      "[1284]\tvalid_0's rmse: 27.5013\n",
      "[1285]\tvalid_0's rmse: 27.5024\n",
      "[1286]\tvalid_0's rmse: 27.5043\n",
      "[1287]\tvalid_0's rmse: 27.5075\n",
      "[1288]\tvalid_0's rmse: 27.5078\n",
      "[1289]\tvalid_0's rmse: 27.5077\n",
      "[1290]\tvalid_0's rmse: 27.5085\n",
      "[1291]\tvalid_0's rmse: 27.5096\n",
      "[1292]\tvalid_0's rmse: 27.51\n",
      "[1293]\tvalid_0's rmse: 27.5095\n",
      "[1294]\tvalid_0's rmse: 27.5135\n",
      "[1295]\tvalid_0's rmse: 27.5141\n",
      "[1296]\tvalid_0's rmse: 27.5104\n",
      "[1297]\tvalid_0's rmse: 27.5112\n",
      "[1298]\tvalid_0's rmse: 27.5148\n",
      "[1299]\tvalid_0's rmse: 27.5144\n",
      "[1300]\tvalid_0's rmse: 27.5152\n",
      "[1301]\tvalid_0's rmse: 27.5164\n",
      "[1302]\tvalid_0's rmse: 27.5169\n",
      "[1303]\tvalid_0's rmse: 27.5194\n",
      "[1304]\tvalid_0's rmse: 27.5207\n",
      "[1305]\tvalid_0's rmse: 27.5182\n",
      "[1306]\tvalid_0's rmse: 27.5184\n",
      "[1307]\tvalid_0's rmse: 27.5179\n",
      "[1308]\tvalid_0's rmse: 27.5195\n",
      "[1309]\tvalid_0's rmse: 27.5201\n",
      "[1310]\tvalid_0's rmse: 27.5194\n",
      "[1311]\tvalid_0's rmse: 27.5211\n",
      "[1312]\tvalid_0's rmse: 27.522\n",
      "[1313]\tvalid_0's rmse: 27.5221\n",
      "[1314]\tvalid_0's rmse: 27.522\n",
      "[1315]\tvalid_0's rmse: 27.5221\n",
      "[1316]\tvalid_0's rmse: 27.5225\n",
      "[1317]\tvalid_0's rmse: 27.523\n",
      "[1318]\tvalid_0's rmse: 27.5234\n",
      "[1319]\tvalid_0's rmse: 27.5215\n",
      "[1320]\tvalid_0's rmse: 27.5216\n",
      "[1321]\tvalid_0's rmse: 27.5217\n",
      "[1322]\tvalid_0's rmse: 27.5226\n",
      "[1323]\tvalid_0's rmse: 27.5222\n",
      "[1324]\tvalid_0's rmse: 27.5229\n",
      "[1325]\tvalid_0's rmse: 27.5216\n",
      "[1326]\tvalid_0's rmse: 27.5198\n",
      "[1327]\tvalid_0's rmse: 27.5214\n",
      "[1328]\tvalid_0's rmse: 27.5225\n",
      "[1329]\tvalid_0's rmse: 27.5225\n",
      "[1330]\tvalid_0's rmse: 27.5225\n",
      "[1331]\tvalid_0's rmse: 27.523\n",
      "[1332]\tvalid_0's rmse: 27.5225\n",
      "[1333]\tvalid_0's rmse: 27.5205\n",
      "[1334]\tvalid_0's rmse: 27.5205\n",
      "[1335]\tvalid_0's rmse: 27.522\n",
      "[1336]\tvalid_0's rmse: 27.5232\n",
      "[1337]\tvalid_0's rmse: 27.5249\n",
      "[1338]\tvalid_0's rmse: 27.5267\n",
      "[1339]\tvalid_0's rmse: 27.5263\n",
      "[1340]\tvalid_0's rmse: 27.5239\n",
      "[1341]\tvalid_0's rmse: 27.5229\n",
      "[1342]\tvalid_0's rmse: 27.5247\n",
      "[1343]\tvalid_0's rmse: 27.5284\n",
      "[1344]\tvalid_0's rmse: 27.5284\n",
      "[1345]\tvalid_0's rmse: 27.5279\n",
      "[1346]\tvalid_0's rmse: 27.5259\n",
      "[1347]\tvalid_0's rmse: 27.5269\n",
      "[1348]\tvalid_0's rmse: 27.5272\n",
      "[1349]\tvalid_0's rmse: 27.5245\n",
      "[1350]\tvalid_0's rmse: 27.5244\n",
      "[1351]\tvalid_0's rmse: 27.524\n",
      "[1352]\tvalid_0's rmse: 27.5245\n",
      "[1353]\tvalid_0's rmse: 27.5288\n",
      "[1354]\tvalid_0's rmse: 27.5289\n",
      "[1355]\tvalid_0's rmse: 27.5301\n",
      "[1356]\tvalid_0's rmse: 27.5275\n",
      "[1357]\tvalid_0's rmse: 27.5276\n",
      "[1358]\tvalid_0's rmse: 27.5277\n",
      "[1359]\tvalid_0's rmse: 27.5281\n",
      "[1360]\tvalid_0's rmse: 27.5285\n",
      "[1361]\tvalid_0's rmse: 27.5308\n",
      "[1362]\tvalid_0's rmse: 27.5285\n",
      "[1363]\tvalid_0's rmse: 27.5288\n",
      "[1364]\tvalid_0's rmse: 27.5285\n",
      "[1365]\tvalid_0's rmse: 27.5284\n",
      "[1366]\tvalid_0's rmse: 27.5288\n",
      "[1367]\tvalid_0's rmse: 27.528\n",
      "[1368]\tvalid_0's rmse: 27.5256\n",
      "[1369]\tvalid_0's rmse: 27.5253\n",
      "[1370]\tvalid_0's rmse: 27.527\n",
      "[1371]\tvalid_0's rmse: 27.5276\n",
      "[1372]\tvalid_0's rmse: 27.5276\n",
      "[1373]\tvalid_0's rmse: 27.5285\n",
      "[1374]\tvalid_0's rmse: 27.5299\n",
      "[1375]\tvalid_0's rmse: 27.5298\n",
      "[1376]\tvalid_0's rmse: 27.5294\n",
      "[1377]\tvalid_0's rmse: 27.529\n",
      "[1378]\tvalid_0's rmse: 27.5299\n",
      "[1379]\tvalid_0's rmse: 27.5305\n",
      "[1380]\tvalid_0's rmse: 27.5299\n",
      "[1381]\tvalid_0's rmse: 27.5327\n",
      "[1382]\tvalid_0's rmse: 27.5304\n",
      "[1383]\tvalid_0's rmse: 27.5326\n",
      "[1384]\tvalid_0's rmse: 27.5331\n",
      "[1385]\tvalid_0's rmse: 27.5366\n",
      "[1386]\tvalid_0's rmse: 27.5366\n",
      "[1387]\tvalid_0's rmse: 27.538\n",
      "[1388]\tvalid_0's rmse: 27.5373\n",
      "[1389]\tvalid_0's rmse: 27.5387\n",
      "[1390]\tvalid_0's rmse: 27.5375\n",
      "[1391]\tvalid_0's rmse: 27.5396\n",
      "[1392]\tvalid_0's rmse: 27.5422\n",
      "[1393]\tvalid_0's rmse: 27.5446\n",
      "[1394]\tvalid_0's rmse: 27.5464\n",
      "[1395]\tvalid_0's rmse: 27.5472\n",
      "[1396]\tvalid_0's rmse: 27.5459\n",
      "[1397]\tvalid_0's rmse: 27.5476\n",
      "[1398]\tvalid_0's rmse: 27.5466\n",
      "[1399]\tvalid_0's rmse: 27.5475\n",
      "[1400]\tvalid_0's rmse: 27.5462\n",
      "[1401]\tvalid_0's rmse: 27.5477\n",
      "[1402]\tvalid_0's rmse: 27.5482\n",
      "[1403]\tvalid_0's rmse: 27.5477\n",
      "[1404]\tvalid_0's rmse: 27.5475\n",
      "[1405]\tvalid_0's rmse: 27.547\n",
      "[1406]\tvalid_0's rmse: 27.5461\n",
      "[1407]\tvalid_0's rmse: 27.5463\n",
      "[1408]\tvalid_0's rmse: 27.5471\n",
      "[1409]\tvalid_0's rmse: 27.5475\n",
      "[1410]\tvalid_0's rmse: 27.5477\n",
      "[1411]\tvalid_0's rmse: 27.549\n",
      "[1412]\tvalid_0's rmse: 27.5522\n",
      "[1413]\tvalid_0's rmse: 27.5555\n",
      "[1414]\tvalid_0's rmse: 27.5535\n",
      "[1415]\tvalid_0's rmse: 27.5538\n",
      "[1416]\tvalid_0's rmse: 27.5553\n",
      "[1417]\tvalid_0's rmse: 27.5576\n",
      "[1418]\tvalid_0's rmse: 27.5569\n",
      "[1419]\tvalid_0's rmse: 27.5601\n",
      "[1420]\tvalid_0's rmse: 27.5601\n",
      "[1421]\tvalid_0's rmse: 27.5641\n",
      "[1422]\tvalid_0's rmse: 27.5664\n",
      "[1423]\tvalid_0's rmse: 27.5691\n",
      "[1424]\tvalid_0's rmse: 27.5693\n",
      "[1425]\tvalid_0's rmse: 27.5702\n",
      "[1426]\tvalid_0's rmse: 27.5743\n",
      "[1427]\tvalid_0's rmse: 27.5733\n",
      "[1428]\tvalid_0's rmse: 27.5744\n",
      "[1429]\tvalid_0's rmse: 27.5767\n",
      "[1430]\tvalid_0's rmse: 27.5766\n",
      "[1431]\tvalid_0's rmse: 27.5798\n",
      "[1432]\tvalid_0's rmse: 27.5797\n",
      "[1433]\tvalid_0's rmse: 27.5789\n",
      "[1434]\tvalid_0's rmse: 27.5779\n",
      "[1435]\tvalid_0's rmse: 27.5772\n",
      "[1436]\tvalid_0's rmse: 27.5815\n",
      "[1437]\tvalid_0's rmse: 27.5792\n",
      "[1438]\tvalid_0's rmse: 27.582\n",
      "[1439]\tvalid_0's rmse: 27.5838\n",
      "[1440]\tvalid_0's rmse: 27.585\n",
      "[1441]\tvalid_0's rmse: 27.586\n",
      "[1442]\tvalid_0's rmse: 27.5876\n",
      "[1443]\tvalid_0's rmse: 27.5888\n",
      "[1444]\tvalid_0's rmse: 27.5883\n",
      "[1445]\tvalid_0's rmse: 27.5895\n",
      "[1446]\tvalid_0's rmse: 27.5905\n",
      "[1447]\tvalid_0's rmse: 27.5898\n",
      "[1448]\tvalid_0's rmse: 27.5904\n",
      "[1449]\tvalid_0's rmse: 27.5904\n",
      "[1450]\tvalid_0's rmse: 27.5908\n",
      "[1451]\tvalid_0's rmse: 27.5931\n",
      "[1452]\tvalid_0's rmse: 27.5953\n",
      "[1453]\tvalid_0's rmse: 27.595\n",
      "[1454]\tvalid_0's rmse: 27.5943\n",
      "[1455]\tvalid_0's rmse: 27.5931\n",
      "[1456]\tvalid_0's rmse: 27.5943\n",
      "[1457]\tvalid_0's rmse: 27.5933\n",
      "[1458]\tvalid_0's rmse: 27.5919\n",
      "[1459]\tvalid_0's rmse: 27.5914\n",
      "[1460]\tvalid_0's rmse: 27.5906\n",
      "[1461]\tvalid_0's rmse: 27.5919\n",
      "[1462]\tvalid_0's rmse: 27.5932\n",
      "[1463]\tvalid_0's rmse: 27.5915\n",
      "[1464]\tvalid_0's rmse: 27.5913\n",
      "[1465]\tvalid_0's rmse: 27.5911\n",
      "[1466]\tvalid_0's rmse: 27.5924\n",
      "[1467]\tvalid_0's rmse: 27.5933\n",
      "[1468]\tvalid_0's rmse: 27.5935\n",
      "[1469]\tvalid_0's rmse: 27.5958\n",
      "[1470]\tvalid_0's rmse: 27.595\n",
      "[1471]\tvalid_0's rmse: 27.5954\n",
      "[1472]\tvalid_0's rmse: 27.5942\n",
      "[1473]\tvalid_0's rmse: 27.5928\n",
      "[1474]\tvalid_0's rmse: 27.5932\n",
      "[1475]\tvalid_0's rmse: 27.5982\n",
      "[1476]\tvalid_0's rmse: 27.5989\n",
      "[1477]\tvalid_0's rmse: 27.6002\n",
      "[1478]\tvalid_0's rmse: 27.5999\n",
      "[1479]\tvalid_0's rmse: 27.6021\n",
      "[1480]\tvalid_0's rmse: 27.6019\n",
      "[1481]\tvalid_0's rmse: 27.6025\n",
      "[1482]\tvalid_0's rmse: 27.6013\n",
      "[1483]\tvalid_0's rmse: 27.6028\n",
      "[1484]\tvalid_0's rmse: 27.6048\n",
      "[1485]\tvalid_0's rmse: 27.6045\n",
      "[1486]\tvalid_0's rmse: 27.6048\n",
      "[1487]\tvalid_0's rmse: 27.6066\n",
      "[1488]\tvalid_0's rmse: 27.6063\n",
      "[1489]\tvalid_0's rmse: 27.608\n",
      "[1490]\tvalid_0's rmse: 27.6076\n"
     ]
    },
    {
     "name": "stdout",
     "output_type": "stream",
     "text": [
      "[1491]\tvalid_0's rmse: 27.6064\n",
      "[1492]\tvalid_0's rmse: 27.6066\n",
      "[1493]\tvalid_0's rmse: 27.6089\n",
      "[1494]\tvalid_0's rmse: 27.6092\n",
      "[1495]\tvalid_0's rmse: 27.6124\n",
      "[1496]\tvalid_0's rmse: 27.6128\n",
      "[1497]\tvalid_0's rmse: 27.6116\n",
      "[1498]\tvalid_0's rmse: 27.6125\n",
      "[1499]\tvalid_0's rmse: 27.6148\n",
      "[1500]\tvalid_0's rmse: 27.6154\n",
      "[1501]\tvalid_0's rmse: 27.6169\n",
      "[1502]\tvalid_0's rmse: 27.6164\n",
      "[1503]\tvalid_0's rmse: 27.6168\n",
      "[1504]\tvalid_0's rmse: 27.6181\n",
      "[1505]\tvalid_0's rmse: 27.6178\n",
      "[1506]\tvalid_0's rmse: 27.6172\n",
      "[1507]\tvalid_0's rmse: 27.617\n",
      "[1508]\tvalid_0's rmse: 27.6168\n",
      "[1509]\tvalid_0's rmse: 27.617\n",
      "[1510]\tvalid_0's rmse: 27.6175\n",
      "[1511]\tvalid_0's rmse: 27.6182\n",
      "[1512]\tvalid_0's rmse: 27.6191\n",
      "[1513]\tvalid_0's rmse: 27.6189\n",
      "[1514]\tvalid_0's rmse: 27.6202\n",
      "[1515]\tvalid_0's rmse: 27.6192\n",
      "[1516]\tvalid_0's rmse: 27.62\n",
      "[1517]\tvalid_0's rmse: 27.6222\n",
      "[1518]\tvalid_0's rmse: 27.6198\n",
      "[1519]\tvalid_0's rmse: 27.6194\n",
      "[1520]\tvalid_0's rmse: 27.6217\n",
      "[1521]\tvalid_0's rmse: 27.6235\n",
      "[1522]\tvalid_0's rmse: 27.6228\n",
      "[1523]\tvalid_0's rmse: 27.6255\n",
      "[1524]\tvalid_0's rmse: 27.6258\n",
      "[1525]\tvalid_0's rmse: 27.6285\n",
      "[1526]\tvalid_0's rmse: 27.6288\n",
      "[1527]\tvalid_0's rmse: 27.6287\n",
      "[1528]\tvalid_0's rmse: 27.6262\n",
      "[1529]\tvalid_0's rmse: 27.6289\n",
      "[1530]\tvalid_0's rmse: 27.6276\n",
      "[1531]\tvalid_0's rmse: 27.6287\n",
      "[1532]\tvalid_0's rmse: 27.6282\n",
      "[1533]\tvalid_0's rmse: 27.6292\n",
      "[1534]\tvalid_0's rmse: 27.6283\n",
      "[1535]\tvalid_0's rmse: 27.6271\n",
      "[1536]\tvalid_0's rmse: 27.6299\n",
      "[1537]\tvalid_0's rmse: 27.6323\n",
      "[1538]\tvalid_0's rmse: 27.6318\n",
      "[1539]\tvalid_0's rmse: 27.634\n",
      "[1540]\tvalid_0's rmse: 27.6334\n",
      "[1541]\tvalid_0's rmse: 27.634\n",
      "[1542]\tvalid_0's rmse: 27.6333\n",
      "[1543]\tvalid_0's rmse: 27.6343\n",
      "[1544]\tvalid_0's rmse: 27.6342\n",
      "[1545]\tvalid_0's rmse: 27.6342\n",
      "[1546]\tvalid_0's rmse: 27.6352\n",
      "[1547]\tvalid_0's rmse: 27.6373\n",
      "[1548]\tvalid_0's rmse: 27.6365\n",
      "[1549]\tvalid_0's rmse: 27.6384\n",
      "[1550]\tvalid_0's rmse: 27.6412\n",
      "[1551]\tvalid_0's rmse: 27.6408\n",
      "[1552]\tvalid_0's rmse: 27.6415\n",
      "[1553]\tvalid_0's rmse: 27.6443\n",
      "[1554]\tvalid_0's rmse: 27.6435\n",
      "[1555]\tvalid_0's rmse: 27.6416\n",
      "[1556]\tvalid_0's rmse: 27.6421\n",
      "[1557]\tvalid_0's rmse: 27.6419\n",
      "[1558]\tvalid_0's rmse: 27.6422\n",
      "[1559]\tvalid_0's rmse: 27.6422\n",
      "[1560]\tvalid_0's rmse: 27.6405\n",
      "[1561]\tvalid_0's rmse: 27.6409\n",
      "[1562]\tvalid_0's rmse: 27.6391\n",
      "[1563]\tvalid_0's rmse: 27.6417\n",
      "[1564]\tvalid_0's rmse: 27.6421\n",
      "[1565]\tvalid_0's rmse: 27.6453\n",
      "[1566]\tvalid_0's rmse: 27.6432\n",
      "[1567]\tvalid_0's rmse: 27.6464\n",
      "[1568]\tvalid_0's rmse: 27.6467\n",
      "[1569]\tvalid_0's rmse: 27.6454\n",
      "[1570]\tvalid_0's rmse: 27.6434\n",
      "[1571]\tvalid_0's rmse: 27.6447\n",
      "[1572]\tvalid_0's rmse: 27.6441\n",
      "[1573]\tvalid_0's rmse: 27.645\n",
      "[1574]\tvalid_0's rmse: 27.6456\n",
      "[1575]\tvalid_0's rmse: 27.6465\n",
      "[1576]\tvalid_0's rmse: 27.6477\n",
      "[1577]\tvalid_0's rmse: 27.6468\n",
      "[1578]\tvalid_0's rmse: 27.6475\n",
      "[1579]\tvalid_0's rmse: 27.6484\n",
      "[1580]\tvalid_0's rmse: 27.6497\n",
      "[1581]\tvalid_0's rmse: 27.65\n",
      "[1582]\tvalid_0's rmse: 27.6497\n",
      "[1583]\tvalid_0's rmse: 27.6493\n",
      "[1584]\tvalid_0's rmse: 27.6483\n",
      "[1585]\tvalid_0's rmse: 27.6498\n",
      "[1586]\tvalid_0's rmse: 27.6509\n",
      "[1587]\tvalid_0's rmse: 27.652\n",
      "[1588]\tvalid_0's rmse: 27.6528\n",
      "[1589]\tvalid_0's rmse: 27.655\n",
      "[1590]\tvalid_0's rmse: 27.6571\n",
      "[1591]\tvalid_0's rmse: 27.6582\n",
      "[1592]\tvalid_0's rmse: 27.6587\n",
      "[1593]\tvalid_0's rmse: 27.6589\n",
      "[1594]\tvalid_0's rmse: 27.6618\n",
      "[1595]\tvalid_0's rmse: 27.6659\n",
      "[1596]\tvalid_0's rmse: 27.6672\n",
      "[1597]\tvalid_0's rmse: 27.6679\n",
      "[1598]\tvalid_0's rmse: 27.668\n",
      "[1599]\tvalid_0's rmse: 27.67\n",
      "[1600]\tvalid_0's rmse: 27.6694\n",
      "[1601]\tvalid_0's rmse: 27.6707\n",
      "[1602]\tvalid_0's rmse: 27.6714\n",
      "[1603]\tvalid_0's rmse: 27.6739\n",
      "[1604]\tvalid_0's rmse: 27.6757\n",
      "[1605]\tvalid_0's rmse: 27.6773\n",
      "[1606]\tvalid_0's rmse: 27.6774\n",
      "[1607]\tvalid_0's rmse: 27.6788\n",
      "[1608]\tvalid_0's rmse: 27.6826\n",
      "[1609]\tvalid_0's rmse: 27.6825\n",
      "[1610]\tvalid_0's rmse: 27.6822\n",
      "[1611]\tvalid_0's rmse: 27.6816\n",
      "[1612]\tvalid_0's rmse: 27.6828\n",
      "[1613]\tvalid_0's rmse: 27.6824\n",
      "[1614]\tvalid_0's rmse: 27.6861\n",
      "[1615]\tvalid_0's rmse: 27.687\n",
      "[1616]\tvalid_0's rmse: 27.6873\n",
      "[1617]\tvalid_0's rmse: 27.688\n",
      "[1618]\tvalid_0's rmse: 27.6873\n",
      "[1619]\tvalid_0's rmse: 27.6899\n",
      "[1620]\tvalid_0's rmse: 27.6905\n",
      "[1621]\tvalid_0's rmse: 27.6923\n",
      "[1622]\tvalid_0's rmse: 27.6933\n",
      "[1623]\tvalid_0's rmse: 27.6934\n",
      "[1624]\tvalid_0's rmse: 27.6949\n",
      "[1625]\tvalid_0's rmse: 27.6961\n",
      "[1626]\tvalid_0's rmse: 27.6964\n",
      "[1627]\tvalid_0's rmse: 27.6969\n",
      "[1628]\tvalid_0's rmse: 27.6981\n",
      "[1629]\tvalid_0's rmse: 27.7002\n",
      "[1630]\tvalid_0's rmse: 27.701\n",
      "[1631]\tvalid_0's rmse: 27.7013\n",
      "[1632]\tvalid_0's rmse: 27.7015\n",
      "[1633]\tvalid_0's rmse: 27.7024\n",
      "[1634]\tvalid_0's rmse: 27.7022\n",
      "[1635]\tvalid_0's rmse: 27.7031\n",
      "[1636]\tvalid_0's rmse: 27.7015\n",
      "[1637]\tvalid_0's rmse: 27.7011\n",
      "[1638]\tvalid_0's rmse: 27.7023\n",
      "[1639]\tvalid_0's rmse: 27.7039\n",
      "[1640]\tvalid_0's rmse: 27.7055\n",
      "[1641]\tvalid_0's rmse: 27.7069\n",
      "[1642]\tvalid_0's rmse: 27.7063\n",
      "[1643]\tvalid_0's rmse: 27.7067\n",
      "[1644]\tvalid_0's rmse: 27.7049\n",
      "[1645]\tvalid_0's rmse: 27.7043\n",
      "[1646]\tvalid_0's rmse: 27.7038\n",
      "[1647]\tvalid_0's rmse: 27.7046\n",
      "[1648]\tvalid_0's rmse: 27.7044\n",
      "[1649]\tvalid_0's rmse: 27.7048\n",
      "[1650]\tvalid_0's rmse: 27.7043\n",
      "[1651]\tvalid_0's rmse: 27.7021\n",
      "[1652]\tvalid_0's rmse: 27.7033\n",
      "[1653]\tvalid_0's rmse: 27.703\n",
      "[1654]\tvalid_0's rmse: 27.7021\n",
      "[1655]\tvalid_0's rmse: 27.7028\n",
      "[1656]\tvalid_0's rmse: 27.703\n",
      "[1657]\tvalid_0's rmse: 27.7038\n",
      "[1658]\tvalid_0's rmse: 27.7061\n",
      "[1659]\tvalid_0's rmse: 27.7072\n",
      "[1660]\tvalid_0's rmse: 27.7093\n",
      "[1661]\tvalid_0's rmse: 27.7109\n",
      "[1662]\tvalid_0's rmse: 27.712\n",
      "[1663]\tvalid_0's rmse: 27.7132\n",
      "[1664]\tvalid_0's rmse: 27.7131\n",
      "[1665]\tvalid_0's rmse: 27.7141\n",
      "[1666]\tvalid_0's rmse: 27.7158\n",
      "[1667]\tvalid_0's rmse: 27.7184\n",
      "[1668]\tvalid_0's rmse: 27.7199\n",
      "[1669]\tvalid_0's rmse: 27.721\n",
      "[1670]\tvalid_0's rmse: 27.723\n",
      "[1671]\tvalid_0's rmse: 27.7237\n",
      "[1672]\tvalid_0's rmse: 27.7257\n",
      "[1673]\tvalid_0's rmse: 27.7273\n",
      "[1674]\tvalid_0's rmse: 27.7272\n",
      "[1675]\tvalid_0's rmse: 27.7293\n",
      "[1676]\tvalid_0's rmse: 27.7335\n",
      "[1677]\tvalid_0's rmse: 27.7345\n",
      "[1678]\tvalid_0's rmse: 27.737\n",
      "[1679]\tvalid_0's rmse: 27.7364\n",
      "[1680]\tvalid_0's rmse: 27.7364\n",
      "[1681]\tvalid_0's rmse: 27.7381\n",
      "[1682]\tvalid_0's rmse: 27.7363\n",
      "[1683]\tvalid_0's rmse: 27.7356\n",
      "[1684]\tvalid_0's rmse: 27.7366\n",
      "[1685]\tvalid_0's rmse: 27.7372\n",
      "[1686]\tvalid_0's rmse: 27.7369\n",
      "[1687]\tvalid_0's rmse: 27.7378\n",
      "[1688]\tvalid_0's rmse: 27.7377\n",
      "[1689]\tvalid_0's rmse: 27.737\n",
      "[1690]\tvalid_0's rmse: 27.7379\n",
      "[1691]\tvalid_0's rmse: 27.7371\n",
      "[1692]\tvalid_0's rmse: 27.739\n",
      "[1693]\tvalid_0's rmse: 27.7378\n",
      "[1694]\tvalid_0's rmse: 27.7355\n",
      "[1695]\tvalid_0's rmse: 27.7347\n",
      "[1696]\tvalid_0's rmse: 27.7369\n",
      "[1697]\tvalid_0's rmse: 27.7364\n",
      "[1698]\tvalid_0's rmse: 27.7361\n",
      "[1699]\tvalid_0's rmse: 27.7377\n",
      "[1700]\tvalid_0's rmse: 27.7369\n",
      "[1701]\tvalid_0's rmse: 27.7386\n",
      "[1702]\tvalid_0's rmse: 27.7394\n",
      "[1703]\tvalid_0's rmse: 27.7404\n",
      "[1704]\tvalid_0's rmse: 27.7417\n",
      "[1705]\tvalid_0's rmse: 27.7461\n",
      "[1706]\tvalid_0's rmse: 27.7475\n",
      "[1707]\tvalid_0's rmse: 27.7496\n",
      "[1708]\tvalid_0's rmse: 27.7494\n",
      "[1709]\tvalid_0's rmse: 27.7531\n",
      "[1710]\tvalid_0's rmse: 27.7534\n",
      "[1711]\tvalid_0's rmse: 27.7512\n",
      "[1712]\tvalid_0's rmse: 27.7486\n",
      "[1713]\tvalid_0's rmse: 27.7461\n",
      "[1714]\tvalid_0's rmse: 27.7451\n",
      "[1715]\tvalid_0's rmse: 27.7446\n",
      "[1716]\tvalid_0's rmse: 27.7433\n",
      "[1717]\tvalid_0's rmse: 27.7429\n",
      "[1718]\tvalid_0's rmse: 27.7444\n",
      "[1719]\tvalid_0's rmse: 27.7441\n",
      "[1720]\tvalid_0's rmse: 27.7439\n",
      "[1721]\tvalid_0's rmse: 27.7453\n",
      "[1722]\tvalid_0's rmse: 27.744\n",
      "[1723]\tvalid_0's rmse: 27.7428\n",
      "[1724]\tvalid_0's rmse: 27.7427\n",
      "[1725]\tvalid_0's rmse: 27.7426\n",
      "[1726]\tvalid_0's rmse: 27.7434\n",
      "[1727]\tvalid_0's rmse: 27.7425\n",
      "[1728]\tvalid_0's rmse: 27.7443\n",
      "[1729]\tvalid_0's rmse: 27.7449\n",
      "[1730]\tvalid_0's rmse: 27.7453\n",
      "[1731]\tvalid_0's rmse: 27.7468\n",
      "[1732]\tvalid_0's rmse: 27.7494\n",
      "[1733]\tvalid_0's rmse: 27.7503\n",
      "[1734]\tvalid_0's rmse: 27.7519\n",
      "[1735]\tvalid_0's rmse: 27.7524\n",
      "[1736]\tvalid_0's rmse: 27.7517\n",
      "[1737]\tvalid_0's rmse: 27.7503\n",
      "[1738]\tvalid_0's rmse: 27.7503\n",
      "[1739]\tvalid_0's rmse: 27.7503\n",
      "[1740]\tvalid_0's rmse: 27.7505\n",
      "[1741]\tvalid_0's rmse: 27.7529\n",
      "[1742]\tvalid_0's rmse: 27.7539\n",
      "[1743]\tvalid_0's rmse: 27.7518\n",
      "[1744]\tvalid_0's rmse: 27.7514\n",
      "[1745]\tvalid_0's rmse: 27.7535\n",
      "[1746]\tvalid_0's rmse: 27.7568\n",
      "[1747]\tvalid_0's rmse: 27.7549\n",
      "[1748]\tvalid_0's rmse: 27.7538\n",
      "[1749]\tvalid_0's rmse: 27.7542\n",
      "[1750]\tvalid_0's rmse: 27.7555\n",
      "[1751]\tvalid_0's rmse: 27.7558\n",
      "[1752]\tvalid_0's rmse: 27.7594\n",
      "[1753]\tvalid_0's rmse: 27.7617\n",
      "[1754]\tvalid_0's rmse: 27.7605\n",
      "[1755]\tvalid_0's rmse: 27.7607\n",
      "[1756]\tvalid_0's rmse: 27.761\n",
      "[1757]\tvalid_0's rmse: 27.7617\n",
      "[1758]\tvalid_0's rmse: 27.7651\n",
      "[1759]\tvalid_0's rmse: 27.7667\n",
      "[1760]\tvalid_0's rmse: 27.7687\n",
      "[1761]\tvalid_0's rmse: 27.7705\n",
      "[1762]\tvalid_0's rmse: 27.7707\n",
      "[1763]\tvalid_0's rmse: 27.7706\n",
      "[1764]\tvalid_0's rmse: 27.7718\n",
      "[1765]\tvalid_0's rmse: 27.7718\n",
      "[1766]\tvalid_0's rmse: 27.7721\n",
      "[1767]\tvalid_0's rmse: 27.772\n",
      "[1768]\tvalid_0's rmse: 27.7728\n",
      "[1769]\tvalid_0's rmse: 27.7743\n",
      "[1770]\tvalid_0's rmse: 27.7746\n",
      "[1771]\tvalid_0's rmse: 27.7744\n",
      "[1772]\tvalid_0's rmse: 27.7742\n",
      "[1773]\tvalid_0's rmse: 27.774\n",
      "[1774]\tvalid_0's rmse: 27.7742\n",
      "[1775]\tvalid_0's rmse: 27.7741\n",
      "[1776]\tvalid_0's rmse: 27.7732\n",
      "[1777]\tvalid_0's rmse: 27.7745\n",
      "[1778]\tvalid_0's rmse: 27.7745\n",
      "[1779]\tvalid_0's rmse: 27.7752\n",
      "[1780]\tvalid_0's rmse: 27.7779\n",
      "[1781]\tvalid_0's rmse: 27.7811\n",
      "[1782]\tvalid_0's rmse: 27.7815\n",
      "[1783]\tvalid_0's rmse: 27.7813\n",
      "[1784]\tvalid_0's rmse: 27.781\n",
      "[1785]\tvalid_0's rmse: 27.7807\n",
      "[1786]\tvalid_0's rmse: 27.7799\n",
      "[1787]\tvalid_0's rmse: 27.7799\n",
      "[1788]\tvalid_0's rmse: 27.7799\n",
      "[1789]\tvalid_0's rmse: 27.7807\n",
      "[1790]\tvalid_0's rmse: 27.7815\n",
      "[1791]\tvalid_0's rmse: 27.7841\n",
      "[1792]\tvalid_0's rmse: 27.7829\n",
      "[1793]\tvalid_0's rmse: 27.7829\n",
      "[1794]\tvalid_0's rmse: 27.7824\n",
      "[1795]\tvalid_0's rmse: 27.7823\n",
      "[1796]\tvalid_0's rmse: 27.7829\n",
      "[1797]\tvalid_0's rmse: 27.783\n",
      "[1798]\tvalid_0's rmse: 27.7833\n",
      "[1799]\tvalid_0's rmse: 27.7842\n",
      "[1800]\tvalid_0's rmse: 27.7827\n",
      "[1801]\tvalid_0's rmse: 27.783\n",
      "[1802]\tvalid_0's rmse: 27.7845\n",
      "[1803]\tvalid_0's rmse: 27.7846\n",
      "[1804]\tvalid_0's rmse: 27.7858\n"
     ]
    },
    {
     "name": "stdout",
     "output_type": "stream",
     "text": [
      "[1805]\tvalid_0's rmse: 27.7856\n",
      "[1806]\tvalid_0's rmse: 27.7865\n",
      "[1807]\tvalid_0's rmse: 27.7867\n",
      "[1808]\tvalid_0's rmse: 27.7871\n",
      "[1809]\tvalid_0's rmse: 27.7905\n",
      "[1810]\tvalid_0's rmse: 27.7905\n",
      "[1811]\tvalid_0's rmse: 27.7914\n",
      "[1812]\tvalid_0's rmse: 27.791\n",
      "[1813]\tvalid_0's rmse: 27.7924\n",
      "[1814]\tvalid_0's rmse: 27.7923\n",
      "[1815]\tvalid_0's rmse: 27.7938\n",
      "[1816]\tvalid_0's rmse: 27.7934\n",
      "[1817]\tvalid_0's rmse: 27.7934\n",
      "[1818]\tvalid_0's rmse: 27.795\n",
      "[1819]\tvalid_0's rmse: 27.7946\n",
      "[1820]\tvalid_0's rmse: 27.7939\n",
      "[1821]\tvalid_0's rmse: 27.7966\n",
      "[1822]\tvalid_0's rmse: 27.7973\n",
      "[1823]\tvalid_0's rmse: 27.7978\n",
      "[1824]\tvalid_0's rmse: 27.797\n",
      "[1825]\tvalid_0's rmse: 27.7975\n",
      "[1826]\tvalid_0's rmse: 27.7963\n",
      "[1827]\tvalid_0's rmse: 27.7966\n",
      "[1828]\tvalid_0's rmse: 27.7965\n",
      "[1829]\tvalid_0's rmse: 27.7965\n",
      "[1830]\tvalid_0's rmse: 27.797\n",
      "[1831]\tvalid_0's rmse: 27.7972\n",
      "[1832]\tvalid_0's rmse: 27.7968\n",
      "[1833]\tvalid_0's rmse: 27.7957\n",
      "[1834]\tvalid_0's rmse: 27.7959\n",
      "[1835]\tvalid_0's rmse: 27.7953\n",
      "[1836]\tvalid_0's rmse: 27.7946\n",
      "[1837]\tvalid_0's rmse: 27.7944\n",
      "[1838]\tvalid_0's rmse: 27.7936\n",
      "[1839]\tvalid_0's rmse: 27.7926\n",
      "[1840]\tvalid_0's rmse: 27.7935\n",
      "[1841]\tvalid_0's rmse: 27.7932\n",
      "[1842]\tvalid_0's rmse: 27.7923\n",
      "[1843]\tvalid_0's rmse: 27.7935\n",
      "[1844]\tvalid_0's rmse: 27.7928\n",
      "[1845]\tvalid_0's rmse: 27.7899\n",
      "[1846]\tvalid_0's rmse: 27.7901\n",
      "[1847]\tvalid_0's rmse: 27.7908\n",
      "[1848]\tvalid_0's rmse: 27.7902\n",
      "[1849]\tvalid_0's rmse: 27.7902\n",
      "[1850]\tvalid_0's rmse: 27.7893\n",
      "[1851]\tvalid_0's rmse: 27.7889\n",
      "[1852]\tvalid_0's rmse: 27.7893\n",
      "[1853]\tvalid_0's rmse: 27.7863\n",
      "[1854]\tvalid_0's rmse: 27.786\n",
      "[1855]\tvalid_0's rmse: 27.789\n",
      "[1856]\tvalid_0's rmse: 27.7887\n",
      "[1857]\tvalid_0's rmse: 27.7885\n",
      "[1858]\tvalid_0's rmse: 27.7898\n",
      "[1859]\tvalid_0's rmse: 27.79\n",
      "[1860]\tvalid_0's rmse: 27.7868\n",
      "[1861]\tvalid_0's rmse: 27.7859\n",
      "[1862]\tvalid_0's rmse: 27.7858\n",
      "[1863]\tvalid_0's rmse: 27.786\n",
      "[1864]\tvalid_0's rmse: 27.7869\n",
      "[1865]\tvalid_0's rmse: 27.7876\n",
      "[1866]\tvalid_0's rmse: 27.7873\n",
      "[1867]\tvalid_0's rmse: 27.7874\n",
      "[1868]\tvalid_0's rmse: 27.7892\n",
      "[1869]\tvalid_0's rmse: 27.7881\n",
      "[1870]\tvalid_0's rmse: 27.7879\n",
      "[1871]\tvalid_0's rmse: 27.7899\n",
      "[1872]\tvalid_0's rmse: 27.7925\n",
      "[1873]\tvalid_0's rmse: 27.7925\n",
      "[1874]\tvalid_0's rmse: 27.793\n",
      "[1875]\tvalid_0's rmse: 27.7932\n",
      "[1876]\tvalid_0's rmse: 27.7931\n",
      "[1877]\tvalid_0's rmse: 27.7932\n",
      "[1878]\tvalid_0's rmse: 27.7934\n",
      "[1879]\tvalid_0's rmse: 27.794\n",
      "[1880]\tvalid_0's rmse: 27.7953\n",
      "[1881]\tvalid_0's rmse: 27.7944\n",
      "[1882]\tvalid_0's rmse: 27.7946\n",
      "[1883]\tvalid_0's rmse: 27.7967\n",
      "[1884]\tvalid_0's rmse: 27.7979\n",
      "[1885]\tvalid_0's rmse: 27.7986\n",
      "[1886]\tvalid_0's rmse: 27.7984\n",
      "[1887]\tvalid_0's rmse: 27.7984\n",
      "[1888]\tvalid_0's rmse: 27.7992\n",
      "[1889]\tvalid_0's rmse: 27.7978\n",
      "[1890]\tvalid_0's rmse: 27.7993\n",
      "[1891]\tvalid_0's rmse: 27.7983\n",
      "[1892]\tvalid_0's rmse: 27.7978\n",
      "[1893]\tvalid_0's rmse: 27.7999\n",
      "[1894]\tvalid_0's rmse: 27.8007\n",
      "[1895]\tvalid_0's rmse: 27.8016\n",
      "[1896]\tvalid_0's rmse: 27.8\n",
      "[1897]\tvalid_0's rmse: 27.8009\n",
      "[1898]\tvalid_0's rmse: 27.803\n",
      "[1899]\tvalid_0's rmse: 27.8038\n",
      "[1900]\tvalid_0's rmse: 27.8049\n",
      "[1901]\tvalid_0's rmse: 27.8054\n",
      "[1902]\tvalid_0's rmse: 27.8061\n",
      "[1903]\tvalid_0's rmse: 27.8073\n",
      "[1904]\tvalid_0's rmse: 27.8074\n",
      "[1905]\tvalid_0's rmse: 27.808\n",
      "[1906]\tvalid_0's rmse: 27.8081\n",
      "[1907]\tvalid_0's rmse: 27.8102\n",
      "[1908]\tvalid_0's rmse: 27.8105\n",
      "[1909]\tvalid_0's rmse: 27.8101\n",
      "[1910]\tvalid_0's rmse: 27.8102\n",
      "[1911]\tvalid_0's rmse: 27.8107\n",
      "[1912]\tvalid_0's rmse: 27.8114\n",
      "[1913]\tvalid_0's rmse: 27.8136\n",
      "[1914]\tvalid_0's rmse: 27.8147\n",
      "[1915]\tvalid_0's rmse: 27.8158\n",
      "[1916]\tvalid_0's rmse: 27.8157\n",
      "[1917]\tvalid_0's rmse: 27.8169\n",
      "[1918]\tvalid_0's rmse: 27.8169\n",
      "[1919]\tvalid_0's rmse: 27.816\n",
      "[1920]\tvalid_0's rmse: 27.8159\n",
      "[1921]\tvalid_0's rmse: 27.8176\n",
      "[1922]\tvalid_0's rmse: 27.8176\n",
      "[1923]\tvalid_0's rmse: 27.8184\n",
      "[1924]\tvalid_0's rmse: 27.8214\n",
      "[1925]\tvalid_0's rmse: 27.8226\n",
      "[1926]\tvalid_0's rmse: 27.8225\n",
      "[1927]\tvalid_0's rmse: 27.8234\n",
      "[1928]\tvalid_0's rmse: 27.822\n",
      "[1929]\tvalid_0's rmse: 27.8228\n",
      "[1930]\tvalid_0's rmse: 27.8217\n",
      "[1931]\tvalid_0's rmse: 27.8226\n",
      "[1932]\tvalid_0's rmse: 27.824\n",
      "[1933]\tvalid_0's rmse: 27.8241\n",
      "[1934]\tvalid_0's rmse: 27.8246\n",
      "[1935]\tvalid_0's rmse: 27.8259\n",
      "[1936]\tvalid_0's rmse: 27.8279\n",
      "[1937]\tvalid_0's rmse: 27.8276\n",
      "[1938]\tvalid_0's rmse: 27.8272\n",
      "[1939]\tvalid_0's rmse: 27.8276\n",
      "[1940]\tvalid_0's rmse: 27.8289\n",
      "[1941]\tvalid_0's rmse: 27.8297\n",
      "[1942]\tvalid_0's rmse: 27.831\n",
      "[1943]\tvalid_0's rmse: 27.8324\n",
      "[1944]\tvalid_0's rmse: 27.8322\n",
      "[1945]\tvalid_0's rmse: 27.8312\n",
      "[1946]\tvalid_0's rmse: 27.8339\n",
      "[1947]\tvalid_0's rmse: 27.8335\n",
      "[1948]\tvalid_0's rmse: 27.8343\n",
      "[1949]\tvalid_0's rmse: 27.8351\n",
      "[1950]\tvalid_0's rmse: 27.8356\n",
      "[1951]\tvalid_0's rmse: 27.8359\n",
      "[1952]\tvalid_0's rmse: 27.8368\n",
      "[1953]\tvalid_0's rmse: 27.8372\n",
      "[1954]\tvalid_0's rmse: 27.8377\n",
      "[1955]\tvalid_0's rmse: 27.8381\n",
      "[1956]\tvalid_0's rmse: 27.8384\n",
      "[1957]\tvalid_0's rmse: 27.8389\n",
      "[1958]\tvalid_0's rmse: 27.8415\n",
      "[1959]\tvalid_0's rmse: 27.8399\n",
      "[1960]\tvalid_0's rmse: 27.8408\n",
      "[1961]\tvalid_0's rmse: 27.8429\n",
      "[1962]\tvalid_0's rmse: 27.8434\n",
      "[1963]\tvalid_0's rmse: 27.845\n",
      "[1964]\tvalid_0's rmse: 27.8455\n",
      "[1965]\tvalid_0's rmse: 27.8456\n",
      "[1966]\tvalid_0's rmse: 27.8448\n",
      "[1967]\tvalid_0's rmse: 27.8455\n",
      "[1968]\tvalid_0's rmse: 27.8442\n",
      "[1969]\tvalid_0's rmse: 27.8437\n",
      "[1970]\tvalid_0's rmse: 27.8445\n",
      "[1971]\tvalid_0's rmse: 27.8454\n",
      "[1972]\tvalid_0's rmse: 27.8459\n",
      "[1973]\tvalid_0's rmse: 27.8456\n",
      "[1974]\tvalid_0's rmse: 27.8464\n",
      "[1975]\tvalid_0's rmse: 27.8473\n",
      "[1976]\tvalid_0's rmse: 27.847\n",
      "[1977]\tvalid_0's rmse: 27.8481\n",
      "[1978]\tvalid_0's rmse: 27.8478\n",
      "[1979]\tvalid_0's rmse: 27.8482\n",
      "[1980]\tvalid_0's rmse: 27.8492\n",
      "[1981]\tvalid_0's rmse: 27.8488\n",
      "[1982]\tvalid_0's rmse: 27.8487\n",
      "[1983]\tvalid_0's rmse: 27.8494\n",
      "[1984]\tvalid_0's rmse: 27.8494\n",
      "[1985]\tvalid_0's rmse: 27.8506\n",
      "[1986]\tvalid_0's rmse: 27.8516\n",
      "[1987]\tvalid_0's rmse: 27.8502\n",
      "[1988]\tvalid_0's rmse: 27.8497\n",
      "[1989]\tvalid_0's rmse: 27.8506\n",
      "[1990]\tvalid_0's rmse: 27.8502\n",
      "[1991]\tvalid_0's rmse: 27.8505\n",
      "[1992]\tvalid_0's rmse: 27.8508\n",
      "[1993]\tvalid_0's rmse: 27.8504\n",
      "[1994]\tvalid_0's rmse: 27.8526\n",
      "[1995]\tvalid_0's rmse: 27.8529\n",
      "[1996]\tvalid_0's rmse: 27.8533\n",
      "[1997]\tvalid_0's rmse: 27.8528\n",
      "[1998]\tvalid_0's rmse: 27.8524\n",
      "[1999]\tvalid_0's rmse: 27.8523\n",
      "[2000]\tvalid_0's rmse: 27.8543\n",
      "RMSE train: 5.733029962224457\n",
      "RMSE valid: 27.85434217173589\n"
     ]
    }
   ],
   "source": [
    "model = LGBMRegressor(learning_rate=0.02, num_iterations=2000, objective='rmse')\n",
    "model.fit(features_train, target_train, eval_set=(features_valid, target_valid))\n",
    "\n",
    "pred_train = model.predict(features_train)\n",
    "pred_valid = model.predict(features_valid)\n",
    "\n",
    "print('RMSE train:', rmse(target_train, pred_train))\n",
    "print('RMSE valid:', rmse(target_valid, pred_valid))"
   ]
  },
  {
   "cell_type": "markdown",
   "metadata": {},
   "source": [
    "- Cat Boost Regressor"
   ]
  },
  {
   "cell_type": "code",
   "execution_count": 23,
   "metadata": {
    "scrolled": true
   },
   "outputs": [
    {
     "name": "stdout",
     "output_type": "stream",
     "text": [
      "0:\tlearn: 33.1723975\ttest: 44.8559031\tbest: 44.8559031 (0)\ttotal: 48.6ms\tremaining: 1m 37s\n",
      "100:\tlearn: 22.4955970\ttest: 31.2757660\tbest: 31.2757660 (100)\ttotal: 285ms\tremaining: 5.35s\n",
      "200:\tlearn: 20.4015646\ttest: 28.6588921\tbest: 28.6588921 (200)\ttotal: 514ms\tremaining: 4.6s\n",
      "300:\tlearn: 19.2260066\ttest: 27.6153029\tbest: 27.6153029 (300)\ttotal: 728ms\tremaining: 4.11s\n",
      "400:\tlearn: 18.4198714\ttest: 27.2355216\tbest: 27.2355216 (400)\ttotal: 944ms\tremaining: 3.76s\n",
      "500:\tlearn: 17.7057075\ttest: 26.9482212\tbest: 26.9482212 (500)\ttotal: 1.16s\tremaining: 3.47s\n",
      "600:\tlearn: 17.0442797\ttest: 26.7271017\tbest: 26.7271017 (600)\ttotal: 1.38s\tremaining: 3.21s\n",
      "700:\tlearn: 16.4998474\ttest: 26.5935699\tbest: 26.5935699 (700)\ttotal: 1.59s\tremaining: 2.95s\n",
      "800:\tlearn: 16.0104107\ttest: 26.5488269\tbest: 26.5488269 (800)\ttotal: 1.8s\tremaining: 2.7s\n",
      "900:\tlearn: 15.5309181\ttest: 26.5105139\tbest: 26.5105139 (900)\ttotal: 2.02s\tremaining: 2.47s\n",
      "1000:\tlearn: 15.0900776\ttest: 26.4737236\tbest: 26.4737236 (1000)\ttotal: 2.23s\tremaining: 2.23s\n",
      "1100:\tlearn: 14.7095222\ttest: 26.4375367\tbest: 26.4375367 (1100)\ttotal: 2.46s\tremaining: 2.01s\n",
      "1200:\tlearn: 14.3218553\ttest: 26.4132560\tbest: 26.4132560 (1200)\ttotal: 2.68s\tremaining: 1.78s\n",
      "1300:\tlearn: 13.9701472\ttest: 26.3928003\tbest: 26.3928003 (1300)\ttotal: 2.9s\tremaining: 1.56s\n",
      "1400:\tlearn: 13.6827599\ttest: 26.4008551\tbest: 26.3928003 (1300)\ttotal: 3.12s\tremaining: 1.33s\n",
      "1500:\tlearn: 13.3387954\ttest: 26.3793563\tbest: 26.3793563 (1500)\ttotal: 3.33s\tremaining: 1.11s\n",
      "1600:\tlearn: 13.0552351\ttest: 26.3694335\tbest: 26.3694335 (1600)\ttotal: 3.56s\tremaining: 888ms\n",
      "1700:\tlearn: 12.7725990\ttest: 26.3701404\tbest: 26.3694335 (1600)\ttotal: 3.77s\tremaining: 664ms\n",
      "1800:\tlearn: 12.5382435\ttest: 26.3617809\tbest: 26.3617809 (1800)\ttotal: 3.98s\tremaining: 440ms\n",
      "1900:\tlearn: 12.2814257\ttest: 26.3601212\tbest: 26.3601212 (1900)\ttotal: 4.2s\tremaining: 219ms\n",
      "1999:\tlearn: 12.0405550\ttest: 26.3671122\tbest: 26.3601212 (1900)\ttotal: 4.42s\tremaining: 0us\n",
      "\n",
      "bestTest = 26.36012123\n",
      "bestIteration = 1900\n",
      "\n",
      "Shrink model to first 1901 iterations.\n",
      "RMSE train: 12.281425740859268\n",
      "RMSE valid: 26.360121232735516\n"
     ]
    }
   ],
   "source": [
    "model = CatBoostRegressor(learning_rate=0.02, iterations=2000, metric_period=100, loss_function='RMSE')\n",
    "model.fit(features_train, target_train, eval_set=(features_valid, target_valid))\n",
    "\n",
    "pred_train = model.predict(features_train)\n",
    "pred_valid = model.predict(features_valid)\n",
    "\n",
    "print('RMSE train:', rmse(target_train, pred_train))\n",
    "print('RMSE valid:', rmse(target_valid, pred_valid))"
   ]
  },
  {
   "cell_type": "markdown",
   "metadata": {},
   "source": [
    "<div class=\"alert alert-warning\">\n",
    "<b>Reviewer's comment</b>\n",
    "\n",
    "Great, you tried a couple of different models, would be nice to add some hyperparameter tuning though\n",
    "\n",
    "</div>"
   ]
  },
  {
   "cell_type": "markdown",
   "metadata": {},
   "source": [
    "## Testing"
   ]
  },
  {
   "cell_type": "code",
   "execution_count": 24,
   "metadata": {},
   "outputs": [],
   "source": [
    "features_train_valid = train_valid.drop(['num_orders'], axis=1)\n",
    "target_train_valid = train_valid['num_orders']"
   ]
  },
  {
   "cell_type": "markdown",
   "metadata": {},
   "source": [
    "- Linear Regression"
   ]
  },
  {
   "cell_type": "code",
   "execution_count": 25,
   "metadata": {},
   "outputs": [
    {
     "name": "stdout",
     "output_type": "stream",
     "text": [
      "RMSE train: 29.00605150551128\n",
      "RMSE test: 47.825899473035484\n"
     ]
    }
   ],
   "source": [
    "model = LinearRegression()\n",
    "model.fit(features_train_valid, target_train_valid)\n",
    "\n",
    "pred_train = model.predict(features_train_valid)\n",
    "print(\"RMSE train:\", rmse(target_train_valid, pred_train))\n",
    "\n",
    "pred_test = model.predict(features_test)\n",
    "print(\"RMSE test:\", rmse(target_test, pred_test))"
   ]
  },
  {
   "cell_type": "markdown",
   "metadata": {},
   "source": [
    "- Random Forest"
   ]
  },
  {
   "cell_type": "code",
   "execution_count": 26,
   "metadata": {},
   "outputs": [
    {
     "name": "stdout",
     "output_type": "stream",
     "text": [
      "RMSE train: 7.706364473425574\n",
      "RMSE test: 44.878150019268034\n"
     ]
    }
   ],
   "source": [
    "model = RandomForestRegressor(n_estimators=500)\n",
    "model.fit(features_train_valid, target_train_valid)\n",
    "\n",
    "pred_train = model.predict(features_train_valid)\n",
    "print(\"RMSE train:\", rmse(target_train_valid, pred_train))\n",
    "\n",
    "pred_test = model.predict(features_test)\n",
    "print(\"RMSE test:\", rmse(target_test, pred_test))"
   ]
  },
  {
   "cell_type": "markdown",
   "metadata": {},
   "source": [
    "- Cat Boost "
   ]
  },
  {
   "cell_type": "code",
   "execution_count": 27,
   "metadata": {},
   "outputs": [
    {
     "name": "stdout",
     "output_type": "stream",
     "text": [
      "RMSE train: 13.515723598799198\n",
      "RMSE test: 45.44059093209576\n"
     ]
    }
   ],
   "source": [
    "model = CatBoostRegressor(learning_rate=0.02, iterations=2000, loss_function='RMSE', verbose=False)\n",
    "model.fit(features_train_valid, target_train_valid)\n",
    "\n",
    "pred_train = model.predict(features_train_valid)\n",
    "print('RMSE train:', rmse(target_train_valid, pred_train))\n",
    "\n",
    "pred_test = model.predict(features_test)\n",
    "print('RMSE test:', rmse(target_test, pred_test))"
   ]
  },
  {
   "cell_type": "markdown",
   "metadata": {},
   "source": [
    "Conclusion "
   ]
  },
  {
   "cell_type": "markdown",
   "metadata": {},
   "source": [
    "1. The quality between train and test not significantly\n",
    "2. Linear Regression model is the best\n",
    "3. RMSE for the test set for all models not more than 48"
   ]
  },
  {
   "cell_type": "markdown",
   "metadata": {},
   "source": [
    "<div class=\"alert alert-success\">\n",
    "<b>Reviewer's comment</b>\n",
    "\n",
    "The final models were evaluated on the test set\n",
    "\n",
    "</div>"
   ]
  },
  {
   "cell_type": "markdown",
   "metadata": {},
   "source": [
    "# Review checklist"
   ]
  },
  {
   "cell_type": "markdown",
   "metadata": {},
   "source": [
    "- [x]  Jupyter Notebook is open\n",
    "- [x]  The code is error-free\n",
    "- [x]  The cells with the code have been arranged in order of execution\n",
    "- [x]  The data has been downloaded and prepared\n",
    "- [x]  The data has been analyzed\n",
    "- [x]  The model has been trained and hyperparameters have been selected\n",
    "- [x]  The models have been evaluated. Conclusion has been provided\n",
    "- [x] *RMSE* for the test set is not more than 48"
   ]
  },
  {
   "cell_type": "code",
   "execution_count": null,
   "metadata": {},
   "outputs": [],
   "source": []
  }
 ],
 "metadata": {
  "ExecuteTimeLog": [
   {
    "duration": 459,
    "start_time": "2024-06-22T01:57:32.258Z"
   },
   {
    "duration": 48,
    "start_time": "2024-06-22T01:58:31.782Z"
   },
   {
    "duration": 421,
    "start_time": "2024-06-25T18:07:28.383Z"
   },
   {
    "duration": 44,
    "start_time": "2024-06-25T18:07:28.807Z"
   },
   {
    "duration": 986,
    "start_time": "2024-06-25T18:10:54.185Z"
   },
   {
    "duration": 53,
    "start_time": "2024-06-25T18:12:41.020Z"
   },
   {
    "duration": 37,
    "start_time": "2024-06-25T18:14:52.933Z"
   },
   {
    "duration": 15,
    "start_time": "2024-06-25T18:14:56.377Z"
   },
   {
    "duration": 18,
    "start_time": "2024-06-25T18:17:48.733Z"
   },
   {
    "duration": 9,
    "start_time": "2024-06-25T18:18:07.317Z"
   },
   {
    "duration": 21,
    "start_time": "2024-06-25T18:19:30.481Z"
   },
   {
    "duration": 21,
    "start_time": "2024-06-25T18:20:03.951Z"
   },
   {
    "duration": 447,
    "start_time": "2024-06-25T18:20:35.095Z"
   },
   {
    "duration": 44,
    "start_time": "2024-06-25T18:20:35.546Z"
   },
   {
    "duration": 37,
    "start_time": "2024-06-25T18:20:35.594Z"
   },
   {
    "duration": 13,
    "start_time": "2024-06-25T18:20:35.635Z"
   },
   {
    "duration": 384,
    "start_time": "2024-06-25T18:20:35.651Z"
   },
   {
    "duration": 308,
    "start_time": "2024-06-25T18:49:50.336Z"
   },
   {
    "duration": 428,
    "start_time": "2024-06-25T18:50:00.299Z"
   },
   {
    "duration": 54,
    "start_time": "2024-06-25T18:50:00.732Z"
   },
   {
    "duration": 11,
    "start_time": "2024-06-25T18:50:00.789Z"
   },
   {
    "duration": 37,
    "start_time": "2024-06-25T18:50:00.803Z"
   },
   {
    "duration": 5,
    "start_time": "2024-06-25T18:56:34.418Z"
   },
   {
    "duration": 12,
    "start_time": "2024-06-25T18:56:47.225Z"
   },
   {
    "duration": 4136,
    "start_time": "2024-06-25T18:59:04.062Z"
   },
   {
    "duration": 4,
    "start_time": "2024-06-25T19:06:16.149Z"
   },
   {
    "duration": 574,
    "start_time": "2024-06-25T19:09:58.505Z"
   },
   {
    "duration": 441,
    "start_time": "2024-06-25T19:14:05.993Z"
   },
   {
    "duration": 24,
    "start_time": "2024-06-25T19:14:15.342Z"
   },
   {
    "duration": 3,
    "start_time": "2024-06-25T19:14:48.585Z"
   },
   {
    "duration": 43,
    "start_time": "2024-06-25T19:15:11.483Z"
   },
   {
    "duration": 3,
    "start_time": "2024-06-25T19:16:05.452Z"
   },
   {
    "duration": 43,
    "start_time": "2024-06-25T19:16:07.881Z"
   },
   {
    "duration": 24,
    "start_time": "2024-06-25T19:21:47.802Z"
   },
   {
    "duration": 390,
    "start_time": "2024-06-25T19:21:52.751Z"
   },
   {
    "duration": 9,
    "start_time": "2024-06-25T19:22:35.875Z"
   },
   {
    "duration": 100,
    "start_time": "2024-06-25T19:22:50.364Z"
   },
   {
    "duration": 17,
    "start_time": "2024-06-25T19:22:56.712Z"
   },
   {
    "duration": 20,
    "start_time": "2024-06-25T19:23:11.147Z"
   },
   {
    "duration": 427,
    "start_time": "2024-06-25T19:23:13.358Z"
   },
   {
    "duration": 5,
    "start_time": "2024-06-25T19:23:18.251Z"
   },
   {
    "duration": 10,
    "start_time": "2024-06-25T19:23:19.462Z"
   },
   {
    "duration": 445,
    "start_time": "2024-06-25T19:23:30.780Z"
   },
   {
    "duration": 309,
    "start_time": "2024-06-25T19:24:07.094Z"
   },
   {
    "duration": 306,
    "start_time": "2024-06-25T19:24:27.209Z"
   },
   {
    "duration": 271,
    "start_time": "2024-06-25T19:26:11.080Z"
   },
   {
    "duration": 28,
    "start_time": "2024-06-25T19:27:14.911Z"
   },
   {
    "duration": 385,
    "start_time": "2024-06-25T19:27:22.857Z"
   },
   {
    "duration": 7,
    "start_time": "2024-06-25T19:29:51.902Z"
   },
   {
    "duration": 305,
    "start_time": "2024-06-25T19:30:03.168Z"
   },
   {
    "duration": 4,
    "start_time": "2024-06-25T19:31:19.056Z"
   },
   {
    "duration": 26,
    "start_time": "2024-06-25T19:33:39.840Z"
   },
   {
    "duration": 28,
    "start_time": "2024-06-25T19:35:04.350Z"
   },
   {
    "duration": 24,
    "start_time": "2024-06-25T19:35:14.787Z"
   },
   {
    "duration": 31,
    "start_time": "2024-06-25T19:39:08.032Z"
   },
   {
    "duration": 23,
    "start_time": "2024-06-25T19:39:38.217Z"
   },
   {
    "duration": 4893,
    "start_time": "2024-06-26T01:18:48.152Z"
   },
   {
    "duration": 58,
    "start_time": "2024-06-26T01:18:53.048Z"
   },
   {
    "duration": 14,
    "start_time": "2024-06-26T01:18:53.108Z"
   },
   {
    "duration": 11,
    "start_time": "2024-06-26T01:18:53.126Z"
   },
   {
    "duration": 19,
    "start_time": "2024-06-26T01:18:53.140Z"
   },
   {
    "duration": 364,
    "start_time": "2024-06-26T01:18:53.161Z"
   },
   {
    "duration": 358,
    "start_time": "2024-06-26T01:18:53.528Z"
   },
   {
    "duration": 5,
    "start_time": "2024-06-26T01:18:53.889Z"
   },
   {
    "duration": 532,
    "start_time": "2024-06-26T01:18:53.897Z"
   },
   {
    "duration": 0,
    "start_time": "2024-06-26T01:18:54.432Z"
   },
   {
    "duration": 0,
    "start_time": "2024-06-26T01:18:54.434Z"
   },
   {
    "duration": 1142,
    "start_time": "2024-06-26T01:19:45.859Z"
   },
   {
    "duration": 54,
    "start_time": "2024-06-26T01:19:47.004Z"
   },
   {
    "duration": 10,
    "start_time": "2024-06-26T01:19:47.060Z"
   },
   {
    "duration": 12,
    "start_time": "2024-06-26T01:19:47.073Z"
   },
   {
    "duration": 46,
    "start_time": "2024-06-26T01:19:47.090Z"
   },
   {
    "duration": 347,
    "start_time": "2024-06-26T01:19:47.139Z"
   },
   {
    "duration": 4,
    "start_time": "2024-06-26T01:19:47.489Z"
   },
   {
    "duration": 4,
    "start_time": "2024-06-26T01:19:47.496Z"
   },
   {
    "duration": 341,
    "start_time": "2024-06-26T01:19:47.503Z"
   },
   {
    "duration": 390,
    "start_time": "2024-06-26T01:19:47.847Z"
   },
   {
    "duration": 301,
    "start_time": "2024-06-26T01:19:48.241Z"
   },
   {
    "duration": 14,
    "start_time": "2024-06-26T01:21:26.373Z"
   },
   {
    "duration": 312,
    "start_time": "2024-06-26T01:21:41.069Z"
   },
   {
    "duration": 4,
    "start_time": "2024-06-26T01:22:04.371Z"
   },
   {
    "duration": 41,
    "start_time": "2024-06-26T01:22:06.059Z"
   },
   {
    "duration": 807,
    "start_time": "2024-06-26T01:22:16.577Z"
   },
   {
    "duration": 9,
    "start_time": "2024-06-26T01:22:45.429Z"
   },
   {
    "duration": 11,
    "start_time": "2024-06-26T01:22:52.665Z"
   },
   {
    "duration": 246,
    "start_time": "2024-06-26T01:23:10.460Z"
   },
   {
    "duration": 10,
    "start_time": "2024-06-26T01:23:25.349Z"
   },
   {
    "duration": 14,
    "start_time": "2024-06-26T01:23:26.131Z"
   },
   {
    "duration": 391,
    "start_time": "2024-06-26T01:23:29.964Z"
   },
   {
    "duration": 17,
    "start_time": "2024-06-26T01:23:55.266Z"
   },
   {
    "duration": 296,
    "start_time": "2024-06-26T01:23:59.182Z"
   },
   {
    "duration": 4,
    "start_time": "2024-06-26T01:24:07.291Z"
   },
   {
    "duration": 291,
    "start_time": "2024-06-26T01:24:08.087Z"
   },
   {
    "duration": 322,
    "start_time": "2024-06-26T01:24:15.273Z"
   },
   {
    "duration": 283,
    "start_time": "2024-06-26T01:24:18.887Z"
   },
   {
    "duration": 1208,
    "start_time": "2024-06-26T01:26:28.496Z"
   },
   {
    "duration": 48,
    "start_time": "2024-06-26T01:26:29.709Z"
   },
   {
    "duration": 11,
    "start_time": "2024-06-26T01:26:29.760Z"
   },
   {
    "duration": 3,
    "start_time": "2024-06-26T01:26:29.774Z"
   },
   {
    "duration": 45,
    "start_time": "2024-06-26T01:26:29.782Z"
   },
   {
    "duration": 393,
    "start_time": "2024-06-26T01:26:29.830Z"
   },
   {
    "duration": 22,
    "start_time": "2024-06-26T01:26:30.228Z"
   },
   {
    "duration": 372,
    "start_time": "2024-06-26T01:26:30.253Z"
   },
   {
    "duration": 8,
    "start_time": "2024-06-26T01:26:30.628Z"
   },
   {
    "duration": 415,
    "start_time": "2024-06-26T01:26:30.639Z"
   },
   {
    "duration": 377,
    "start_time": "2024-06-26T01:26:31.057Z"
   },
   {
    "duration": 338,
    "start_time": "2024-06-26T01:26:31.438Z"
   },
   {
    "duration": 7,
    "start_time": "2024-06-26T01:35:37.194Z"
   },
   {
    "duration": 4,
    "start_time": "2024-06-26T01:35:55.633Z"
   },
   {
    "duration": 15,
    "start_time": "2024-06-26T01:36:23.453Z"
   },
   {
    "duration": 13,
    "start_time": "2024-06-26T01:36:53.668Z"
   },
   {
    "duration": 9,
    "start_time": "2024-06-26T01:37:05.037Z"
   },
   {
    "duration": 3,
    "start_time": "2024-06-26T01:37:05.382Z"
   },
   {
    "duration": 13,
    "start_time": "2024-06-26T01:37:09.327Z"
   },
   {
    "duration": 15,
    "start_time": "2024-06-26T01:37:10.931Z"
   },
   {
    "duration": 340,
    "start_time": "2024-06-26T01:37:13.752Z"
   },
   {
    "duration": 4,
    "start_time": "2024-06-26T01:37:17.356Z"
   },
   {
    "duration": 310,
    "start_time": "2024-06-26T01:37:18.690Z"
   },
   {
    "duration": 397,
    "start_time": "2024-06-26T01:37:22.256Z"
   },
   {
    "duration": 332,
    "start_time": "2024-06-26T01:37:25.508Z"
   },
   {
    "duration": 396,
    "start_time": "2024-06-26T01:39:32.806Z"
   },
   {
    "duration": 222,
    "start_time": "2024-06-26T01:43:09.935Z"
   },
   {
    "duration": 6,
    "start_time": "2024-06-26T01:43:14.555Z"
   },
   {
    "duration": 8,
    "start_time": "2024-06-26T01:43:39.094Z"
   },
   {
    "duration": 8,
    "start_time": "2024-06-26T01:48:26.202Z"
   },
   {
    "duration": 26,
    "start_time": "2024-06-26T01:49:37.246Z"
   },
   {
    "duration": 11,
    "start_time": "2024-06-26T01:49:43.077Z"
   },
   {
    "duration": 5041,
    "start_time": "2024-06-26T19:01:10.649Z"
   },
   {
    "duration": 52,
    "start_time": "2024-06-26T19:01:15.693Z"
   },
   {
    "duration": 8,
    "start_time": "2024-06-26T19:01:15.750Z"
   },
   {
    "duration": 5,
    "start_time": "2024-06-26T19:01:15.762Z"
   },
   {
    "duration": 15,
    "start_time": "2024-06-26T19:01:15.771Z"
   },
   {
    "duration": 45,
    "start_time": "2024-06-26T19:01:15.789Z"
   },
   {
    "duration": 10,
    "start_time": "2024-06-26T19:01:15.836Z"
   },
   {
    "duration": 3,
    "start_time": "2024-06-26T19:01:15.849Z"
   },
   {
    "duration": 16,
    "start_time": "2024-06-26T19:01:15.856Z"
   },
   {
    "duration": 15,
    "start_time": "2024-06-26T19:01:15.922Z"
   },
   {
    "duration": 372,
    "start_time": "2024-06-26T19:01:15.939Z"
   },
   {
    "duration": 9,
    "start_time": "2024-06-26T19:01:16.314Z"
   },
   {
    "duration": 426,
    "start_time": "2024-06-26T19:01:16.327Z"
   },
   {
    "duration": 335,
    "start_time": "2024-06-26T19:01:16.756Z"
   },
   {
    "duration": 335,
    "start_time": "2024-06-26T19:01:17.094Z"
   },
   {
    "duration": 8,
    "start_time": "2024-06-26T19:01:17.433Z"
   },
   {
    "duration": 8,
    "start_time": "2024-06-26T19:14:08.458Z"
   },
   {
    "duration": 67,
    "start_time": "2024-06-26T19:39:26.684Z"
   },
   {
    "duration": 244,
    "start_time": "2024-06-26T19:49:56.026Z"
   },
   {
    "duration": 1690,
    "start_time": "2024-06-26T19:51:02.566Z"
   },
   {
    "duration": 43,
    "start_time": "2024-06-26T19:51:04.260Z"
   },
   {
    "duration": 22,
    "start_time": "2024-06-26T19:51:04.306Z"
   },
   {
    "duration": 5,
    "start_time": "2024-06-26T19:51:04.331Z"
   },
   {
    "duration": 14,
    "start_time": "2024-06-26T19:51:04.341Z"
   },
   {
    "duration": 12,
    "start_time": "2024-06-26T19:51:04.358Z"
   },
   {
    "duration": 56,
    "start_time": "2024-06-26T19:51:04.373Z"
   },
   {
    "duration": 4,
    "start_time": "2024-06-26T19:51:04.432Z"
   },
   {
    "duration": 17,
    "start_time": "2024-06-26T19:51:04.439Z"
   },
   {
    "duration": 16,
    "start_time": "2024-06-26T19:51:04.459Z"
   },
   {
    "duration": 409,
    "start_time": "2024-06-26T19:51:04.478Z"
   },
   {
    "duration": 4,
    "start_time": "2024-06-26T19:51:04.890Z"
   },
   {
    "duration": 337,
    "start_time": "2024-06-26T19:51:04.897Z"
   },
   {
    "duration": 340,
    "start_time": "2024-06-26T19:51:05.239Z"
   },
   {
    "duration": 421,
    "start_time": "2024-06-26T19:51:05.582Z"
   },
   {
    "duration": 20,
    "start_time": "2024-06-26T19:51:06.006Z"
   },
   {
    "duration": 322,
    "start_time": "2024-06-26T20:01:04.778Z"
   },
   {
    "duration": 1977,
    "start_time": "2024-06-26T20:02:02.905Z"
   },
   {
    "duration": 1832,
    "start_time": "2024-06-26T20:02:19.554Z"
   },
   {
    "duration": 54,
    "start_time": "2024-06-26T20:02:21.391Z"
   },
   {
    "duration": 8,
    "start_time": "2024-06-26T20:02:21.449Z"
   },
   {
    "duration": 6,
    "start_time": "2024-06-26T20:02:21.461Z"
   },
   {
    "duration": 14,
    "start_time": "2024-06-26T20:02:21.472Z"
   },
   {
    "duration": 13,
    "start_time": "2024-06-26T20:02:21.524Z"
   },
   {
    "duration": 10,
    "start_time": "2024-06-26T20:02:21.540Z"
   },
   {
    "duration": 3,
    "start_time": "2024-06-26T20:02:21.553Z"
   },
   {
    "duration": 16,
    "start_time": "2024-06-26T20:02:21.559Z"
   },
   {
    "duration": 58,
    "start_time": "2024-06-26T20:02:21.578Z"
   },
   {
    "duration": 384,
    "start_time": "2024-06-26T20:02:21.639Z"
   },
   {
    "duration": 4,
    "start_time": "2024-06-26T20:02:22.026Z"
   },
   {
    "duration": 332,
    "start_time": "2024-06-26T20:02:22.033Z"
   },
   {
    "duration": 356,
    "start_time": "2024-06-26T20:02:22.370Z"
   },
   {
    "duration": 410,
    "start_time": "2024-06-26T20:02:22.729Z"
   },
   {
    "duration": 11,
    "start_time": "2024-06-26T20:02:23.141Z"
   },
   {
    "duration": 7,
    "start_time": "2024-06-26T20:02:23.154Z"
   },
   {
    "duration": 1,
    "start_time": "2024-06-26T20:02:23.164Z"
   },
   {
    "duration": 0,
    "start_time": "2024-06-26T20:02:23.166Z"
   },
   {
    "duration": 818,
    "start_time": "2024-06-26T20:02:52.219Z"
   },
   {
    "duration": 806,
    "start_time": "2024-06-26T20:03:18.017Z"
   },
   {
    "duration": 1723,
    "start_time": "2024-06-26T20:05:34.803Z"
   },
   {
    "duration": 43,
    "start_time": "2024-06-26T20:05:36.529Z"
   },
   {
    "duration": 8,
    "start_time": "2024-06-26T20:05:36.575Z"
   },
   {
    "duration": 34,
    "start_time": "2024-06-26T20:05:36.589Z"
   },
   {
    "duration": 14,
    "start_time": "2024-06-26T20:05:36.627Z"
   },
   {
    "duration": 11,
    "start_time": "2024-06-26T20:05:36.644Z"
   },
   {
    "duration": 11,
    "start_time": "2024-06-26T20:05:36.659Z"
   },
   {
    "duration": 50,
    "start_time": "2024-06-26T20:05:36.673Z"
   },
   {
    "duration": 16,
    "start_time": "2024-06-26T20:05:36.726Z"
   },
   {
    "duration": 16,
    "start_time": "2024-06-26T20:05:36.748Z"
   },
   {
    "duration": 400,
    "start_time": "2024-06-26T20:05:36.767Z"
   },
   {
    "duration": 4,
    "start_time": "2024-06-26T20:05:37.170Z"
   },
   {
    "duration": 347,
    "start_time": "2024-06-26T20:05:37.178Z"
   },
   {
    "duration": 347,
    "start_time": "2024-06-26T20:05:37.528Z"
   },
   {
    "duration": 417,
    "start_time": "2024-06-26T20:05:37.879Z"
   },
   {
    "duration": 23,
    "start_time": "2024-06-26T20:05:38.299Z"
   },
   {
    "duration": 803,
    "start_time": "2024-06-26T20:05:38.325Z"
   },
   {
    "duration": 5388,
    "start_time": "2024-06-26T20:52:41.611Z"
   },
   {
    "duration": 56,
    "start_time": "2024-06-26T20:52:47.003Z"
   },
   {
    "duration": 8,
    "start_time": "2024-06-26T20:52:47.061Z"
   },
   {
    "duration": 6,
    "start_time": "2024-06-26T20:52:47.074Z"
   },
   {
    "duration": 42,
    "start_time": "2024-06-26T20:52:47.082Z"
   },
   {
    "duration": 14,
    "start_time": "2024-06-26T20:52:47.129Z"
   },
   {
    "duration": 12,
    "start_time": "2024-06-26T20:52:47.146Z"
   },
   {
    "duration": 4,
    "start_time": "2024-06-26T20:52:47.161Z"
   },
   {
    "duration": 65,
    "start_time": "2024-06-26T20:52:47.169Z"
   },
   {
    "duration": 16,
    "start_time": "2024-06-26T20:52:47.239Z"
   },
   {
    "duration": 396,
    "start_time": "2024-06-26T20:52:47.258Z"
   },
   {
    "duration": 4,
    "start_time": "2024-06-26T20:52:47.657Z"
   },
   {
    "duration": 346,
    "start_time": "2024-06-26T20:52:47.664Z"
   },
   {
    "duration": 348,
    "start_time": "2024-06-26T20:52:48.013Z"
   },
   {
    "duration": 342,
    "start_time": "2024-06-26T20:52:48.364Z"
   },
   {
    "duration": 19,
    "start_time": "2024-06-26T20:52:48.709Z"
   },
   {
    "duration": 820,
    "start_time": "2024-06-26T20:52:48.731Z"
   },
   {
    "duration": 148697,
    "start_time": "2024-06-26T20:52:49.555Z"
   },
   {
    "duration": 0,
    "start_time": "2024-06-26T20:55:18.257Z"
   },
   {
    "duration": 4,
    "start_time": "2024-06-26T20:55:19.473Z"
   },
   {
    "duration": 761,
    "start_time": "2024-06-26T20:55:25.766Z"
   },
   {
    "duration": 3,
    "start_time": "2024-06-26T20:57:31.372Z"
   },
   {
    "duration": 5885,
    "start_time": "2024-06-26T22:06:42.183Z"
   },
   {
    "duration": 54,
    "start_time": "2024-06-26T22:06:48.072Z"
   },
   {
    "duration": 9,
    "start_time": "2024-06-26T22:06:48.129Z"
   },
   {
    "duration": 7,
    "start_time": "2024-06-26T22:06:48.142Z"
   },
   {
    "duration": 45,
    "start_time": "2024-06-26T22:06:48.152Z"
   },
   {
    "duration": 11,
    "start_time": "2024-06-26T22:06:48.200Z"
   },
   {
    "duration": 10,
    "start_time": "2024-06-26T22:06:48.214Z"
   },
   {
    "duration": 4,
    "start_time": "2024-06-26T22:06:48.227Z"
   },
   {
    "duration": 66,
    "start_time": "2024-06-26T22:06:48.234Z"
   },
   {
    "duration": 16,
    "start_time": "2024-06-26T22:06:48.306Z"
   },
   {
    "duration": 383,
    "start_time": "2024-06-26T22:06:48.325Z"
   },
   {
    "duration": 4,
    "start_time": "2024-06-26T22:06:48.711Z"
   },
   {
    "duration": 362,
    "start_time": "2024-06-26T22:06:48.719Z"
   },
   {
    "duration": 347,
    "start_time": "2024-06-26T22:06:49.092Z"
   },
   {
    "duration": 348,
    "start_time": "2024-06-26T22:06:49.443Z"
   },
   {
    "duration": 13,
    "start_time": "2024-06-26T22:06:49.794Z"
   },
   {
    "duration": 4,
    "start_time": "2024-06-26T22:06:49.811Z"
   },
   {
    "duration": 1002,
    "start_time": "2024-06-26T22:06:49.819Z"
   },
   {
    "duration": 3,
    "start_time": "2024-06-26T22:06:50.825Z"
   },
   {
    "duration": 11,
    "start_time": "2024-06-26T22:19:28.592Z"
   },
   {
    "duration": 1710,
    "start_time": "2024-06-26T22:19:51.495Z"
   },
   {
    "duration": 42,
    "start_time": "2024-06-26T22:19:53.208Z"
   },
   {
    "duration": 8,
    "start_time": "2024-06-26T22:19:53.253Z"
   },
   {
    "duration": 34,
    "start_time": "2024-06-26T22:19:53.265Z"
   },
   {
    "duration": 16,
    "start_time": "2024-06-26T22:19:53.305Z"
   },
   {
    "duration": 17,
    "start_time": "2024-06-26T22:19:53.324Z"
   },
   {
    "duration": 51,
    "start_time": "2024-06-26T22:19:53.344Z"
   },
   {
    "duration": 18,
    "start_time": "2024-06-26T22:19:53.398Z"
   },
   {
    "duration": 16,
    "start_time": "2024-06-26T22:19:53.419Z"
   },
   {
    "duration": 17,
    "start_time": "2024-06-26T22:19:53.438Z"
   },
   {
    "duration": 382,
    "start_time": "2024-06-26T22:19:53.491Z"
   },
   {
    "duration": 14,
    "start_time": "2024-06-26T22:19:53.876Z"
   },
   {
    "duration": 322,
    "start_time": "2024-06-26T22:19:53.894Z"
   },
   {
    "duration": 352,
    "start_time": "2024-06-26T22:19:54.222Z"
   },
   {
    "duration": 424,
    "start_time": "2024-06-26T22:19:54.577Z"
   },
   {
    "duration": 11,
    "start_time": "2024-06-26T22:19:55.003Z"
   },
   {
    "duration": 4,
    "start_time": "2024-06-26T22:19:55.017Z"
   },
   {
    "duration": 800,
    "start_time": "2024-06-26T22:19:55.024Z"
   },
   {
    "duration": 4,
    "start_time": "2024-06-26T22:19:55.827Z"
   },
   {
    "duration": 462,
    "start_time": "2024-06-26T22:23:12.909Z"
   },
   {
    "duration": 24,
    "start_time": "2024-06-26T22:23:16.978Z"
   },
   {
    "duration": 4,
    "start_time": "2024-06-26T22:23:28.702Z"
   },
   {
    "duration": 10,
    "start_time": "2024-06-26T22:23:30.615Z"
   },
   {
    "duration": 9,
    "start_time": "2024-06-26T22:23:50.310Z"
   },
   {
    "duration": 763,
    "start_time": "2024-06-26T22:28:21.472Z"
   },
   {
    "duration": 30,
    "start_time": "2024-06-26T22:35:18.016Z"
   },
   {
    "duration": 11,
    "start_time": "2024-06-26T22:35:31.153Z"
   },
   {
    "duration": 25,
    "start_time": "2024-06-26T22:35:32.657Z"
   },
   {
    "duration": 9,
    "start_time": "2024-06-26T22:35:41.526Z"
   },
   {
    "duration": 333,
    "start_time": "2024-06-26T22:35:43.621Z"
   },
   {
    "duration": 5,
    "start_time": "2024-06-26T22:39:16.274Z"
   },
   {
    "duration": 1818,
    "start_time": "2024-06-26T23:19:24.655Z"
   },
   {
    "duration": 50,
    "start_time": "2024-06-26T23:19:26.477Z"
   },
   {
    "duration": 10,
    "start_time": "2024-06-26T23:19:26.530Z"
   },
   {
    "duration": 8,
    "start_time": "2024-06-26T23:19:26.543Z"
   },
   {
    "duration": 43,
    "start_time": "2024-06-26T23:19:26.557Z"
   },
   {
    "duration": 14,
    "start_time": "2024-06-26T23:19:26.603Z"
   },
   {
    "duration": 9,
    "start_time": "2024-06-26T23:19:26.620Z"
   },
   {
    "duration": 14,
    "start_time": "2024-06-26T23:19:26.632Z"
   },
   {
    "duration": 18,
    "start_time": "2024-06-26T23:19:26.692Z"
   },
   {
    "duration": 4,
    "start_time": "2024-06-26T23:19:26.714Z"
   },
   {
    "duration": 4,
    "start_time": "2024-06-26T23:19:26.722Z"
   },
   {
    "duration": 445,
    "start_time": "2024-06-26T23:19:26.730Z"
   },
   {
    "duration": 344,
    "start_time": "2024-06-26T23:19:27.189Z"
   },
   {
    "duration": 351,
    "start_time": "2024-06-26T23:19:27.539Z"
   },
   {
    "duration": 443,
    "start_time": "2024-06-26T23:19:27.893Z"
   },
   {
    "duration": 7,
    "start_time": "2024-06-26T23:19:28.341Z"
   },
   {
    "duration": 0,
    "start_time": "2024-06-26T23:19:28.352Z"
   },
   {
    "duration": 0,
    "start_time": "2024-06-26T23:19:28.360Z"
   },
   {
    "duration": 0,
    "start_time": "2024-06-26T23:19:28.361Z"
   },
   {
    "duration": 0,
    "start_time": "2024-06-26T23:19:28.363Z"
   },
   {
    "duration": 0,
    "start_time": "2024-06-26T23:19:28.364Z"
   },
   {
    "duration": 9,
    "start_time": "2024-06-26T23:31:54.442Z"
   },
   {
    "duration": 5465,
    "start_time": "2024-06-27T00:33:53.379Z"
   },
   {
    "duration": 55,
    "start_time": "2024-06-27T00:33:58.848Z"
   },
   {
    "duration": 8,
    "start_time": "2024-06-27T00:33:58.906Z"
   },
   {
    "duration": 6,
    "start_time": "2024-06-27T00:33:58.919Z"
   },
   {
    "duration": 15,
    "start_time": "2024-06-27T00:33:58.934Z"
   },
   {
    "duration": 15,
    "start_time": "2024-06-27T00:33:58.953Z"
   },
   {
    "duration": 10,
    "start_time": "2024-06-27T00:33:58.971Z"
   },
   {
    "duration": 53,
    "start_time": "2024-06-27T00:33:58.983Z"
   },
   {
    "duration": 19,
    "start_time": "2024-06-27T00:33:59.039Z"
   },
   {
    "duration": 4,
    "start_time": "2024-06-27T00:33:59.063Z"
   },
   {
    "duration": 4,
    "start_time": "2024-06-27T00:33:59.070Z"
   },
   {
    "duration": 419,
    "start_time": "2024-06-27T00:33:59.077Z"
   },
   {
    "duration": 333,
    "start_time": "2024-06-27T00:33:59.500Z"
   },
   {
    "duration": 359,
    "start_time": "2024-06-27T00:33:59.835Z"
   },
   {
    "duration": 368,
    "start_time": "2024-06-27T00:34:00.197Z"
   },
   {
    "duration": 8,
    "start_time": "2024-06-27T00:34:00.568Z"
   },
   {
    "duration": 0,
    "start_time": "2024-06-27T00:34:00.579Z"
   },
   {
    "duration": 0,
    "start_time": "2024-06-27T00:34:00.581Z"
   },
   {
    "duration": 0,
    "start_time": "2024-06-27T00:34:00.584Z"
   },
   {
    "duration": 0,
    "start_time": "2024-06-27T00:34:00.587Z"
   },
   {
    "duration": 0,
    "start_time": "2024-06-27T00:34:00.589Z"
   },
   {
    "duration": 0,
    "start_time": "2024-06-27T00:34:00.591Z"
   },
   {
    "duration": 14,
    "start_time": "2024-06-27T00:34:15.053Z"
   },
   {
    "duration": 9,
    "start_time": "2024-06-27T01:07:19.457Z"
   },
   {
    "duration": 544,
    "start_time": "2024-06-27T01:07:34.179Z"
   },
   {
    "duration": 35,
    "start_time": "2024-06-27T01:08:22.866Z"
   },
   {
    "duration": 10,
    "start_time": "2024-06-27T01:12:53.162Z"
   },
   {
    "duration": 10,
    "start_time": "2024-06-27T01:13:30.358Z"
   },
   {
    "duration": 36,
    "start_time": "2024-06-27T01:14:51.614Z"
   },
   {
    "duration": 12,
    "start_time": "2024-06-27T01:15:08.129Z"
   },
   {
    "duration": 12,
    "start_time": "2024-06-27T01:16:21.397Z"
   },
   {
    "duration": 14,
    "start_time": "2024-06-27T01:16:51.137Z"
   },
   {
    "duration": 11,
    "start_time": "2024-06-27T01:17:37.327Z"
   },
   {
    "duration": 27,
    "start_time": "2024-06-27T01:29:58.889Z"
   },
   {
    "duration": 29,
    "start_time": "2024-06-27T01:30:06.974Z"
   },
   {
    "duration": 9,
    "start_time": "2024-06-27T01:31:00.325Z"
   },
   {
    "duration": 40,
    "start_time": "2024-06-27T01:31:02.889Z"
   },
   {
    "duration": 5,
    "start_time": "2024-06-27T01:31:28.031Z"
   },
   {
    "duration": 34,
    "start_time": "2024-06-27T01:31:33.161Z"
   },
   {
    "duration": 5284,
    "start_time": "2024-06-27T19:01:55.965Z"
   },
   {
    "duration": 56,
    "start_time": "2024-06-27T19:02:01.253Z"
   },
   {
    "duration": 7,
    "start_time": "2024-06-27T19:02:01.312Z"
   },
   {
    "duration": 9,
    "start_time": "2024-06-27T19:02:01.323Z"
   },
   {
    "duration": 13,
    "start_time": "2024-06-27T19:02:01.337Z"
   },
   {
    "duration": 12,
    "start_time": "2024-06-27T19:02:01.353Z"
   },
   {
    "duration": 9,
    "start_time": "2024-06-27T19:02:01.368Z"
   },
   {
    "duration": 62,
    "start_time": "2024-06-27T19:02:01.380Z"
   },
   {
    "duration": 110,
    "start_time": "2024-06-27T19:02:01.444Z"
   },
   {
    "duration": 3,
    "start_time": "2024-06-27T19:02:01.558Z"
   },
   {
    "duration": 5,
    "start_time": "2024-06-27T19:02:01.564Z"
   },
   {
    "duration": 408,
    "start_time": "2024-06-27T19:02:01.571Z"
   },
   {
    "duration": 348,
    "start_time": "2024-06-27T19:02:01.982Z"
   },
   {
    "duration": 345,
    "start_time": "2024-06-27T19:02:02.337Z"
   },
   {
    "duration": 351,
    "start_time": "2024-06-27T19:02:02.685Z"
   },
   {
    "duration": 41,
    "start_time": "2024-06-27T19:02:03.040Z"
   },
   {
    "duration": 11,
    "start_time": "2024-06-27T19:02:03.084Z"
   },
   {
    "duration": 38,
    "start_time": "2024-06-27T19:02:03.098Z"
   },
   {
    "duration": 656,
    "start_time": "2024-06-27T19:02:03.139Z"
   },
   {
    "duration": 0,
    "start_time": "2024-06-27T19:02:03.798Z"
   },
   {
    "duration": 0,
    "start_time": "2024-06-27T19:02:03.800Z"
   },
   {
    "duration": 14,
    "start_time": "2024-06-27T19:17:53.832Z"
   },
   {
    "duration": 297,
    "start_time": "2024-06-27T19:18:06.334Z"
   },
   {
    "duration": 16,
    "start_time": "2024-06-27T19:29:28.933Z"
   },
   {
    "duration": 160,
    "start_time": "2024-06-27T19:29:31.072Z"
   },
   {
    "duration": 33,
    "start_time": "2024-06-27T19:44:48.954Z"
   },
   {
    "duration": 62,
    "start_time": "2024-06-27T19:46:18.346Z"
   },
   {
    "duration": 80,
    "start_time": "2024-06-27T19:46:26.357Z"
   },
   {
    "duration": 15,
    "start_time": "2024-06-27T19:46:47.180Z"
   },
   {
    "duration": 96,
    "start_time": "2024-06-27T19:47:29.283Z"
   },
   {
    "duration": 8296,
    "start_time": "2024-06-27T19:53:36.302Z"
   },
   {
    "duration": 162,
    "start_time": "2024-06-27T19:57:42.481Z"
   },
   {
    "duration": 5509,
    "start_time": "2024-06-27T21:01:44.171Z"
   },
   {
    "duration": 54,
    "start_time": "2024-06-27T21:01:49.683Z"
   },
   {
    "duration": 10,
    "start_time": "2024-06-27T21:01:49.740Z"
   },
   {
    "duration": 7,
    "start_time": "2024-06-27T21:01:49.755Z"
   },
   {
    "duration": 49,
    "start_time": "2024-06-27T21:01:49.765Z"
   },
   {
    "duration": 11,
    "start_time": "2024-06-27T21:01:49.817Z"
   },
   {
    "duration": 10,
    "start_time": "2024-06-27T21:01:49.831Z"
   },
   {
    "duration": 14,
    "start_time": "2024-06-27T21:01:49.844Z"
   },
   {
    "duration": 64,
    "start_time": "2024-06-27T21:01:49.862Z"
   },
   {
    "duration": 4,
    "start_time": "2024-06-27T21:01:49.931Z"
   },
   {
    "duration": 3,
    "start_time": "2024-06-27T21:01:49.938Z"
   },
   {
    "duration": 393,
    "start_time": "2024-06-27T21:01:49.946Z"
   },
   {
    "duration": 340,
    "start_time": "2024-06-27T21:01:50.342Z"
   },
   {
    "duration": 348,
    "start_time": "2024-06-27T21:01:50.685Z"
   },
   {
    "duration": 344,
    "start_time": "2024-06-27T21:01:51.036Z"
   },
   {
    "duration": 48,
    "start_time": "2024-06-27T21:01:51.383Z"
   },
   {
    "duration": 10,
    "start_time": "2024-06-27T21:01:51.434Z"
   },
   {
    "duration": 11,
    "start_time": "2024-06-27T21:01:51.446Z"
   },
   {
    "duration": 52,
    "start_time": "2024-06-27T21:01:51.461Z"
   },
   {
    "duration": 848,
    "start_time": "2024-06-27T21:01:51.516Z"
   },
   {
    "duration": 0,
    "start_time": "2024-06-27T21:01:52.369Z"
   },
   {
    "duration": 0,
    "start_time": "2024-06-27T21:01:52.372Z"
   },
   {
    "duration": 0,
    "start_time": "2024-06-27T21:01:52.375Z"
   },
   {
    "duration": 193,
    "start_time": "2024-06-27T21:09:01.677Z"
   },
   {
    "duration": 24,
    "start_time": "2024-06-27T21:11:16.371Z"
   },
   {
    "duration": 5492,
    "start_time": "2024-06-27T23:22:11.759Z"
   },
   {
    "duration": 55,
    "start_time": "2024-06-27T23:22:17.255Z"
   },
   {
    "duration": 8,
    "start_time": "2024-06-27T23:22:17.313Z"
   },
   {
    "duration": 7,
    "start_time": "2024-06-27T23:22:17.324Z"
   },
   {
    "duration": 13,
    "start_time": "2024-06-27T23:22:17.337Z"
   },
   {
    "duration": 53,
    "start_time": "2024-06-27T23:22:17.353Z"
   },
   {
    "duration": 10,
    "start_time": "2024-06-27T23:22:17.408Z"
   },
   {
    "duration": 14,
    "start_time": "2024-06-27T23:22:17.421Z"
   },
   {
    "duration": 16,
    "start_time": "2024-06-27T23:22:17.437Z"
   },
   {
    "duration": 4,
    "start_time": "2024-06-27T23:22:17.501Z"
   },
   {
    "duration": 3,
    "start_time": "2024-06-27T23:22:17.508Z"
   },
   {
    "duration": 387,
    "start_time": "2024-06-27T23:22:17.515Z"
   },
   {
    "duration": 368,
    "start_time": "2024-06-27T23:22:17.906Z"
   },
   {
    "duration": 348,
    "start_time": "2024-06-27T23:22:18.281Z"
   },
   {
    "duration": 343,
    "start_time": "2024-06-27T23:22:18.632Z"
   },
   {
    "duration": 47,
    "start_time": "2024-06-27T23:22:18.978Z"
   },
   {
    "duration": 11,
    "start_time": "2024-06-27T23:22:19.028Z"
   },
   {
    "duration": 10,
    "start_time": "2024-06-27T23:22:19.042Z"
   },
   {
    "duration": 47,
    "start_time": "2024-06-27T23:22:19.055Z"
   },
   {
    "duration": 95,
    "start_time": "2024-06-27T23:22:19.106Z"
   },
   {
    "duration": 9684,
    "start_time": "2024-06-27T23:22:19.204Z"
   },
   {
    "duration": 0,
    "start_time": "2024-06-27T23:22:28.891Z"
   },
   {
    "duration": 0,
    "start_time": "2024-06-27T23:22:28.902Z"
   },
   {
    "duration": 8483,
    "start_time": "2024-06-27T23:23:00.737Z"
   },
   {
    "duration": 63,
    "start_time": "2024-06-27T23:27:14.361Z"
   },
   {
    "duration": 6,
    "start_time": "2024-06-27T23:27:40.577Z"
   },
   {
    "duration": 8289,
    "start_time": "2024-06-27T23:31:31.019Z"
   },
   {
    "duration": 9,
    "start_time": "2024-06-27T23:31:42.814Z"
   },
   {
    "duration": 8481,
    "start_time": "2024-06-27T23:32:05.231Z"
   },
   {
    "duration": 5476,
    "start_time": "2024-06-28T00:11:42.677Z"
   },
   {
    "duration": 61,
    "start_time": "2024-06-28T00:11:48.157Z"
   },
   {
    "duration": 10,
    "start_time": "2024-06-28T00:11:48.221Z"
   },
   {
    "duration": 7,
    "start_time": "2024-06-28T00:11:48.235Z"
   },
   {
    "duration": 15,
    "start_time": "2024-06-28T00:11:48.245Z"
   },
   {
    "duration": 55,
    "start_time": "2024-06-28T00:11:48.264Z"
   },
   {
    "duration": 9,
    "start_time": "2024-06-28T00:11:48.322Z"
   },
   {
    "duration": 15,
    "start_time": "2024-06-28T00:11:48.334Z"
   },
   {
    "duration": 18,
    "start_time": "2024-06-28T00:11:48.352Z"
   },
   {
    "duration": 5,
    "start_time": "2024-06-28T00:11:48.411Z"
   },
   {
    "duration": 3,
    "start_time": "2024-06-28T00:11:48.420Z"
   },
   {
    "duration": 381,
    "start_time": "2024-06-28T00:11:48.427Z"
   },
   {
    "duration": 326,
    "start_time": "2024-06-28T00:11:48.813Z"
   },
   {
    "duration": 344,
    "start_time": "2024-06-28T00:11:49.143Z"
   },
   {
    "duration": 416,
    "start_time": "2024-06-28T00:11:49.489Z"
   },
   {
    "duration": 35,
    "start_time": "2024-06-28T00:11:49.908Z"
   },
   {
    "duration": 15,
    "start_time": "2024-06-28T00:11:49.947Z"
   },
   {
    "duration": 8,
    "start_time": "2024-06-28T00:11:49.965Z"
   },
   {
    "duration": 14,
    "start_time": "2024-06-28T00:11:50.013Z"
   },
   {
    "duration": 81,
    "start_time": "2024-06-28T00:11:50.031Z"
   },
   {
    "duration": 8484,
    "start_time": "2024-06-28T00:11:50.115Z"
   },
   {
    "duration": 8624,
    "start_time": "2024-06-28T00:11:58.611Z"
   },
   {
    "duration": 713,
    "start_time": "2024-06-28T00:12:07.238Z"
   },
   {
    "duration": 0,
    "start_time": "2024-06-28T00:12:07.954Z"
   },
   {
    "duration": 126,
    "start_time": "2024-06-28T00:17:20.435Z"
   },
   {
    "duration": 5073,
    "start_time": "2024-06-28T00:19:10.175Z"
   },
   {
    "duration": 6,
    "start_time": "2024-06-28T00:28:38.321Z"
   },
   {
    "duration": 56,
    "start_time": "2024-06-28T00:32:45.475Z"
   },
   {
    "duration": 24,
    "start_time": "2024-06-28T00:33:31.768Z"
   },
   {
    "duration": 10417,
    "start_time": "2024-06-28T00:37:27.722Z"
   },
   {
    "duration": 9,
    "start_time": "2024-06-28T00:38:42.036Z"
   },
   {
    "duration": 6,
    "start_time": "2024-06-28T00:38:45.985Z"
   },
   {
    "duration": 8,
    "start_time": "2024-06-28T00:46:14.693Z"
   },
   {
    "duration": 6769,
    "start_time": "2024-06-28T00:46:23.855Z"
   },
   {
    "duration": 5176,
    "start_time": "2024-06-28T00:47:29.641Z"
   },
   {
    "duration": 2099,
    "start_time": "2024-06-28T01:01:21.146Z"
   },
   {
    "duration": 45,
    "start_time": "2024-06-28T01:01:23.250Z"
   },
   {
    "duration": 21,
    "start_time": "2024-06-28T01:01:23.298Z"
   },
   {
    "duration": 11,
    "start_time": "2024-06-28T01:01:23.324Z"
   },
   {
    "duration": 21,
    "start_time": "2024-06-28T01:01:23.339Z"
   },
   {
    "duration": 13,
    "start_time": "2024-06-28T01:01:23.365Z"
   },
   {
    "duration": 12,
    "start_time": "2024-06-28T01:01:23.414Z"
   },
   {
    "duration": 17,
    "start_time": "2024-06-28T01:01:23.430Z"
   },
   {
    "duration": 19,
    "start_time": "2024-06-28T01:01:23.451Z"
   },
   {
    "duration": 36,
    "start_time": "2024-06-28T01:01:23.477Z"
   },
   {
    "duration": 3,
    "start_time": "2024-06-28T01:01:23.517Z"
   },
   {
    "duration": 425,
    "start_time": "2024-06-28T01:01:23.523Z"
   },
   {
    "duration": 500,
    "start_time": "2024-06-28T01:01:23.951Z"
   },
   {
    "duration": 421,
    "start_time": "2024-06-28T01:01:24.454Z"
   },
   {
    "duration": 380,
    "start_time": "2024-06-28T01:01:24.878Z"
   },
   {
    "duration": 54,
    "start_time": "2024-06-28T01:01:25.269Z"
   },
   {
    "duration": 14,
    "start_time": "2024-06-28T01:01:25.326Z"
   },
   {
    "duration": 19,
    "start_time": "2024-06-28T01:01:25.343Z"
   },
   {
    "duration": 48,
    "start_time": "2024-06-28T01:01:25.365Z"
   },
   {
    "duration": 113,
    "start_time": "2024-06-28T01:01:25.417Z"
   },
   {
    "duration": 8973,
    "start_time": "2024-06-28T01:01:25.545Z"
   },
   {
    "duration": 155192,
    "start_time": "2024-06-28T01:01:34.522Z"
   },
   {
    "duration": 4726,
    "start_time": "2024-06-28T01:04:09.717Z"
   },
   {
    "duration": 5,
    "start_time": "2024-06-28T01:04:14.446Z"
   },
   {
    "duration": 54,
    "start_time": "2024-06-28T01:04:14.457Z"
   },
   {
    "duration": 10567,
    "start_time": "2024-06-28T01:04:14.516Z"
   },
   {
    "duration": 5089,
    "start_time": "2024-06-28T01:04:25.087Z"
   },
   {
    "duration": 5704,
    "start_time": "2024-07-11T21:33:26.924Z"
   },
   {
    "duration": 71,
    "start_time": "2024-07-11T21:33:32.632Z"
   },
   {
    "duration": 9,
    "start_time": "2024-07-11T21:33:32.706Z"
   },
   {
    "duration": 6,
    "start_time": "2024-07-11T21:33:32.720Z"
   },
   {
    "duration": 43,
    "start_time": "2024-07-11T21:33:32.729Z"
   },
   {
    "duration": 12,
    "start_time": "2024-07-11T21:33:32.775Z"
   },
   {
    "duration": 10,
    "start_time": "2024-07-11T21:33:32.791Z"
   },
   {
    "duration": 14,
    "start_time": "2024-07-11T21:33:32.804Z"
   },
   {
    "duration": 58,
    "start_time": "2024-07-11T21:33:32.821Z"
   },
   {
    "duration": 4,
    "start_time": "2024-07-11T21:33:32.885Z"
   },
   {
    "duration": 3,
    "start_time": "2024-07-11T21:33:32.892Z"
   },
   {
    "duration": 398,
    "start_time": "2024-07-11T21:33:32.898Z"
   },
   {
    "duration": 327,
    "start_time": "2024-07-11T21:33:33.299Z"
   },
   {
    "duration": 456,
    "start_time": "2024-07-11T21:33:33.629Z"
   },
   {
    "duration": 341,
    "start_time": "2024-07-11T21:33:34.088Z"
   },
   {
    "duration": 56,
    "start_time": "2024-07-11T21:33:34.432Z"
   },
   {
    "duration": 13,
    "start_time": "2024-07-11T21:33:34.493Z"
   },
   {
    "duration": 10,
    "start_time": "2024-07-11T21:33:34.510Z"
   },
   {
    "duration": 44,
    "start_time": "2024-07-11T21:33:34.524Z"
   },
   {
    "duration": 21,
    "start_time": "2024-07-11T21:33:34.571Z"
   },
   {
    "duration": 8657,
    "start_time": "2024-07-11T21:33:34.594Z"
   },
   {
    "duration": 235937,
    "start_time": "2024-07-11T21:33:43.254Z"
   },
   {
    "duration": 4830,
    "start_time": "2024-07-11T21:37:39.194Z"
   },
   {
    "duration": 7,
    "start_time": "2024-07-11T21:37:44.027Z"
   },
   {
    "duration": 34,
    "start_time": "2024-07-11T21:37:44.038Z"
   },
   {
    "duration": 10473,
    "start_time": "2024-07-11T21:37:44.075Z"
   },
   {
    "duration": 4980,
    "start_time": "2024-07-11T21:37:54.550Z"
   }
  ],
  "kernelspec": {
   "display_name": "Python 3 (ipykernel)",
   "language": "python",
   "name": "python3"
  },
  "language_info": {
   "codemirror_mode": {
    "name": "ipython",
    "version": 3
   },
   "file_extension": ".py",
   "mimetype": "text/x-python",
   "name": "python",
   "nbconvert_exporter": "python",
   "pygments_lexer": "ipython3",
   "version": "3.9.19"
  },
  "toc": {
   "base_numbering": 1,
   "nav_menu": {},
   "number_sections": true,
   "sideBar": true,
   "skip_h1_title": true,
   "title_cell": "Table of Contents",
   "title_sidebar": "Contents",
   "toc_cell": false,
   "toc_position": {},
   "toc_section_display": true,
   "toc_window_display": false
  }
 },
 "nbformat": 4,
 "nbformat_minor": 2
}
