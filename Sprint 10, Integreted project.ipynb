{
 "cells": [
  {
   "cell_type": "markdown",
   "metadata": {},
   "source": [
    "Hello Aryslan!\n",
    "\n",
    "I’m happy to review your project today.\n",
    "I will mark your mistakes and give you some hints how it is possible to fix them. We are getting ready for real job, where your team leader/senior colleague will do exactly the same. Don't worry and study with pleasure! \n",
    "\n",
    "Below you will find my comments - **please do not move, modify or delete them**.\n",
    "\n",
    "You can find my comments in green, yellow or red boxes like this:\n",
    "\n",
    "<div class=\"alert alert-block alert-success\">\n",
    "<b>Reviewer's comment</b> <a class=\"tocSkip\"></a>\n",
    "\n",
    "Success. Everything is done succesfully.\n",
    "</div>\n",
    "\n",
    "<div class=\"alert alert-block alert-warning\">\n",
    "<b>Reviewer's comment</b> <a class=\"tocSkip\"></a>\n",
    "\n",
    "Remarks. Some recommendations.\n",
    "</div>\n",
    "\n",
    "<div class=\"alert alert-block alert-danger\">\n",
    "\n",
    "<b>Reviewer's comment</b> <a class=\"tocSkip\"></a>\n",
    "\n",
    "Needs fixing. The block requires some corrections. Work can't be accepted with the red comments.\n",
    "</div>\n",
    "\n",
    "You can answer me by using this:\n",
    "\n",
    "<div class=\"alert alert-block alert-info\">\n",
    "<b>Student answer.</b> <a class=\"tocSkip\"></a>\n",
    "\n",
    "Text here.\n",
    "</div>\n"
   ]
  },
  {
   "cell_type": "code",
   "execution_count": 1,
   "metadata": {},
   "outputs": [],
   "source": [
    "import pandas as pd\n",
    "from sklearn.model_selection import GridSearchCV, train_test_split, cross_val_score\n",
    "from sklearn.model_selection import KFold\n",
    "from sklearn.metrics import accuracy_score, f1_score\n",
    "from sklearn.ensemble import RandomForestRegressor, GradientBoostingRegressor\n",
    "from sklearn.metrics import r2_score, make_scorer\n",
    "from sklearn.metrics import mean_absolute_error\n",
    "from sklearn.preprocessing import StandardScaler\n",
    "from sklearn.ensemble import RandomForestClassifier\n",
    "from sklearn.tree import DecisionTreeClassifier\n",
    "from sklearn.linear_model import LogisticRegression\n",
    "from sklearn.metrics import mean_squared_error\n",
    "from sklearn.dummy import DummyClassifier\n",
    "import matplotlib.pyplot as plt\n",
    "import numpy as np\n",
    "from sklearn.utils import shuffle\n",
    "from sklearn.metrics import roc_auc_score\n",
    "from sklearn.linear_model import LinearRegression"
   ]
  },
  {
   "cell_type": "markdown",
   "metadata": {},
   "source": [
    "- Prepare the data"
   ]
  },
  {
   "cell_type": "code",
   "execution_count": 2,
   "metadata": {},
   "outputs": [
    {
     "data": {
      "text/html": [
       "<div>\n",
       "<style scoped>\n",
       "    .dataframe tbody tr th:only-of-type {\n",
       "        vertical-align: middle;\n",
       "    }\n",
       "\n",
       "    .dataframe tbody tr th {\n",
       "        vertical-align: top;\n",
       "    }\n",
       "\n",
       "    .dataframe thead th {\n",
       "        text-align: right;\n",
       "    }\n",
       "</style>\n",
       "<table border=\"1\" class=\"dataframe\">\n",
       "  <thead>\n",
       "    <tr style=\"text-align: right;\">\n",
       "      <th></th>\n",
       "      <th>date</th>\n",
       "      <th>final.output.concentrate_ag</th>\n",
       "      <th>final.output.concentrate_pb</th>\n",
       "      <th>final.output.concentrate_sol</th>\n",
       "      <th>final.output.concentrate_au</th>\n",
       "      <th>final.output.recovery</th>\n",
       "      <th>final.output.tail_ag</th>\n",
       "      <th>final.output.tail_pb</th>\n",
       "      <th>final.output.tail_sol</th>\n",
       "      <th>final.output.tail_au</th>\n",
       "      <th>...</th>\n",
       "      <th>secondary_cleaner.state.floatbank4_a_air</th>\n",
       "      <th>secondary_cleaner.state.floatbank4_a_level</th>\n",
       "      <th>secondary_cleaner.state.floatbank4_b_air</th>\n",
       "      <th>secondary_cleaner.state.floatbank4_b_level</th>\n",
       "      <th>secondary_cleaner.state.floatbank5_a_air</th>\n",
       "      <th>secondary_cleaner.state.floatbank5_a_level</th>\n",
       "      <th>secondary_cleaner.state.floatbank5_b_air</th>\n",
       "      <th>secondary_cleaner.state.floatbank5_b_level</th>\n",
       "      <th>secondary_cleaner.state.floatbank6_a_air</th>\n",
       "      <th>secondary_cleaner.state.floatbank6_a_level</th>\n",
       "    </tr>\n",
       "  </thead>\n",
       "  <tbody>\n",
       "    <tr>\n",
       "      <th>0</th>\n",
       "      <td>2016-01-15 00:00:00</td>\n",
       "      <td>6.055403</td>\n",
       "      <td>9.889648</td>\n",
       "      <td>5.507324</td>\n",
       "      <td>42.192020</td>\n",
       "      <td>70.541216</td>\n",
       "      <td>10.411962</td>\n",
       "      <td>0.895447</td>\n",
       "      <td>16.904297</td>\n",
       "      <td>2.143149</td>\n",
       "      <td>...</td>\n",
       "      <td>14.016835</td>\n",
       "      <td>-502.488007</td>\n",
       "      <td>12.099931</td>\n",
       "      <td>-504.715942</td>\n",
       "      <td>9.925633</td>\n",
       "      <td>-498.310211</td>\n",
       "      <td>8.079666</td>\n",
       "      <td>-500.470978</td>\n",
       "      <td>14.151341</td>\n",
       "      <td>-605.841980</td>\n",
       "    </tr>\n",
       "    <tr>\n",
       "      <th>1</th>\n",
       "      <td>2016-01-15 01:00:00</td>\n",
       "      <td>6.029369</td>\n",
       "      <td>9.968944</td>\n",
       "      <td>5.257781</td>\n",
       "      <td>42.701629</td>\n",
       "      <td>69.266198</td>\n",
       "      <td>10.462676</td>\n",
       "      <td>0.927452</td>\n",
       "      <td>16.634514</td>\n",
       "      <td>2.224930</td>\n",
       "      <td>...</td>\n",
       "      <td>13.992281</td>\n",
       "      <td>-505.503262</td>\n",
       "      <td>11.950531</td>\n",
       "      <td>-501.331529</td>\n",
       "      <td>10.039245</td>\n",
       "      <td>-500.169983</td>\n",
       "      <td>7.984757</td>\n",
       "      <td>-500.582168</td>\n",
       "      <td>13.998353</td>\n",
       "      <td>-599.787184</td>\n",
       "    </tr>\n",
       "    <tr>\n",
       "      <th>2</th>\n",
       "      <td>2016-01-15 02:00:00</td>\n",
       "      <td>6.055926</td>\n",
       "      <td>10.213995</td>\n",
       "      <td>5.383759</td>\n",
       "      <td>42.657501</td>\n",
       "      <td>68.116445</td>\n",
       "      <td>10.507046</td>\n",
       "      <td>0.953716</td>\n",
       "      <td>16.208849</td>\n",
       "      <td>2.257889</td>\n",
       "      <td>...</td>\n",
       "      <td>14.015015</td>\n",
       "      <td>-502.520901</td>\n",
       "      <td>11.912783</td>\n",
       "      <td>-501.133383</td>\n",
       "      <td>10.070913</td>\n",
       "      <td>-500.129135</td>\n",
       "      <td>8.013877</td>\n",
       "      <td>-500.517572</td>\n",
       "      <td>14.028663</td>\n",
       "      <td>-601.427363</td>\n",
       "    </tr>\n",
       "    <tr>\n",
       "      <th>3</th>\n",
       "      <td>2016-01-15 03:00:00</td>\n",
       "      <td>6.047977</td>\n",
       "      <td>9.977019</td>\n",
       "      <td>4.858634</td>\n",
       "      <td>42.689819</td>\n",
       "      <td>68.347543</td>\n",
       "      <td>10.422762</td>\n",
       "      <td>0.883763</td>\n",
       "      <td>16.532835</td>\n",
       "      <td>2.146849</td>\n",
       "      <td>...</td>\n",
       "      <td>14.036510</td>\n",
       "      <td>-500.857308</td>\n",
       "      <td>11.999550</td>\n",
       "      <td>-501.193686</td>\n",
       "      <td>9.970366</td>\n",
       "      <td>-499.201640</td>\n",
       "      <td>7.977324</td>\n",
       "      <td>-500.255908</td>\n",
       "      <td>14.005551</td>\n",
       "      <td>-599.996129</td>\n",
       "    </tr>\n",
       "    <tr>\n",
       "      <th>4</th>\n",
       "      <td>2016-01-15 04:00:00</td>\n",
       "      <td>6.148599</td>\n",
       "      <td>10.142511</td>\n",
       "      <td>4.939416</td>\n",
       "      <td>42.774141</td>\n",
       "      <td>66.927016</td>\n",
       "      <td>10.360302</td>\n",
       "      <td>0.792826</td>\n",
       "      <td>16.525686</td>\n",
       "      <td>2.055292</td>\n",
       "      <td>...</td>\n",
       "      <td>14.027298</td>\n",
       "      <td>-499.838632</td>\n",
       "      <td>11.953070</td>\n",
       "      <td>-501.053894</td>\n",
       "      <td>9.925709</td>\n",
       "      <td>-501.686727</td>\n",
       "      <td>7.894242</td>\n",
       "      <td>-500.356035</td>\n",
       "      <td>13.996647</td>\n",
       "      <td>-601.496691</td>\n",
       "    </tr>\n",
       "  </tbody>\n",
       "</table>\n",
       "<p>5 rows × 87 columns</p>\n",
       "</div>"
      ],
      "text/plain": [
       "                  date  final.output.concentrate_ag  \\\n",
       "0  2016-01-15 00:00:00                     6.055403   \n",
       "1  2016-01-15 01:00:00                     6.029369   \n",
       "2  2016-01-15 02:00:00                     6.055926   \n",
       "3  2016-01-15 03:00:00                     6.047977   \n",
       "4  2016-01-15 04:00:00                     6.148599   \n",
       "\n",
       "   final.output.concentrate_pb  final.output.concentrate_sol  \\\n",
       "0                     9.889648                      5.507324   \n",
       "1                     9.968944                      5.257781   \n",
       "2                    10.213995                      5.383759   \n",
       "3                     9.977019                      4.858634   \n",
       "4                    10.142511                      4.939416   \n",
       "\n",
       "   final.output.concentrate_au  final.output.recovery  final.output.tail_ag  \\\n",
       "0                    42.192020              70.541216             10.411962   \n",
       "1                    42.701629              69.266198             10.462676   \n",
       "2                    42.657501              68.116445             10.507046   \n",
       "3                    42.689819              68.347543             10.422762   \n",
       "4                    42.774141              66.927016             10.360302   \n",
       "\n",
       "   final.output.tail_pb  final.output.tail_sol  final.output.tail_au  ...  \\\n",
       "0              0.895447              16.904297              2.143149  ...   \n",
       "1              0.927452              16.634514              2.224930  ...   \n",
       "2              0.953716              16.208849              2.257889  ...   \n",
       "3              0.883763              16.532835              2.146849  ...   \n",
       "4              0.792826              16.525686              2.055292  ...   \n",
       "\n",
       "   secondary_cleaner.state.floatbank4_a_air  \\\n",
       "0                                 14.016835   \n",
       "1                                 13.992281   \n",
       "2                                 14.015015   \n",
       "3                                 14.036510   \n",
       "4                                 14.027298   \n",
       "\n",
       "   secondary_cleaner.state.floatbank4_a_level  \\\n",
       "0                                 -502.488007   \n",
       "1                                 -505.503262   \n",
       "2                                 -502.520901   \n",
       "3                                 -500.857308   \n",
       "4                                 -499.838632   \n",
       "\n",
       "   secondary_cleaner.state.floatbank4_b_air  \\\n",
       "0                                 12.099931   \n",
       "1                                 11.950531   \n",
       "2                                 11.912783   \n",
       "3                                 11.999550   \n",
       "4                                 11.953070   \n",
       "\n",
       "   secondary_cleaner.state.floatbank4_b_level  \\\n",
       "0                                 -504.715942   \n",
       "1                                 -501.331529   \n",
       "2                                 -501.133383   \n",
       "3                                 -501.193686   \n",
       "4                                 -501.053894   \n",
       "\n",
       "   secondary_cleaner.state.floatbank5_a_air  \\\n",
       "0                                  9.925633   \n",
       "1                                 10.039245   \n",
       "2                                 10.070913   \n",
       "3                                  9.970366   \n",
       "4                                  9.925709   \n",
       "\n",
       "   secondary_cleaner.state.floatbank5_a_level  \\\n",
       "0                                 -498.310211   \n",
       "1                                 -500.169983   \n",
       "2                                 -500.129135   \n",
       "3                                 -499.201640   \n",
       "4                                 -501.686727   \n",
       "\n",
       "   secondary_cleaner.state.floatbank5_b_air  \\\n",
       "0                                  8.079666   \n",
       "1                                  7.984757   \n",
       "2                                  8.013877   \n",
       "3                                  7.977324   \n",
       "4                                  7.894242   \n",
       "\n",
       "   secondary_cleaner.state.floatbank5_b_level  \\\n",
       "0                                 -500.470978   \n",
       "1                                 -500.582168   \n",
       "2                                 -500.517572   \n",
       "3                                 -500.255908   \n",
       "4                                 -500.356035   \n",
       "\n",
       "   secondary_cleaner.state.floatbank6_a_air  \\\n",
       "0                                 14.151341   \n",
       "1                                 13.998353   \n",
       "2                                 14.028663   \n",
       "3                                 14.005551   \n",
       "4                                 13.996647   \n",
       "\n",
       "   secondary_cleaner.state.floatbank6_a_level  \n",
       "0                                 -605.841980  \n",
       "1                                 -599.787184  \n",
       "2                                 -601.427363  \n",
       "3                                 -599.996129  \n",
       "4                                 -601.496691  \n",
       "\n",
       "[5 rows x 87 columns]"
      ]
     },
     "execution_count": 2,
     "metadata": {},
     "output_type": "execute_result"
    }
   ],
   "source": [
    "data_train = pd.read_csv('/datasets/gold_recovery_train.csv')\n",
    "data_train.head()"
   ]
  },
  {
   "cell_type": "code",
   "execution_count": 3,
   "metadata": {},
   "outputs": [
    {
     "data": {
      "text/html": [
       "<div>\n",
       "<style scoped>\n",
       "    .dataframe tbody tr th:only-of-type {\n",
       "        vertical-align: middle;\n",
       "    }\n",
       "\n",
       "    .dataframe tbody tr th {\n",
       "        vertical-align: top;\n",
       "    }\n",
       "\n",
       "    .dataframe thead th {\n",
       "        text-align: right;\n",
       "    }\n",
       "</style>\n",
       "<table border=\"1\" class=\"dataframe\">\n",
       "  <thead>\n",
       "    <tr style=\"text-align: right;\">\n",
       "      <th></th>\n",
       "      <th>date</th>\n",
       "      <th>primary_cleaner.input.sulfate</th>\n",
       "      <th>primary_cleaner.input.depressant</th>\n",
       "      <th>primary_cleaner.input.feed_size</th>\n",
       "      <th>primary_cleaner.input.xanthate</th>\n",
       "      <th>primary_cleaner.state.floatbank8_a_air</th>\n",
       "      <th>primary_cleaner.state.floatbank8_a_level</th>\n",
       "      <th>primary_cleaner.state.floatbank8_b_air</th>\n",
       "      <th>primary_cleaner.state.floatbank8_b_level</th>\n",
       "      <th>primary_cleaner.state.floatbank8_c_air</th>\n",
       "      <th>...</th>\n",
       "      <th>secondary_cleaner.state.floatbank4_a_air</th>\n",
       "      <th>secondary_cleaner.state.floatbank4_a_level</th>\n",
       "      <th>secondary_cleaner.state.floatbank4_b_air</th>\n",
       "      <th>secondary_cleaner.state.floatbank4_b_level</th>\n",
       "      <th>secondary_cleaner.state.floatbank5_a_air</th>\n",
       "      <th>secondary_cleaner.state.floatbank5_a_level</th>\n",
       "      <th>secondary_cleaner.state.floatbank5_b_air</th>\n",
       "      <th>secondary_cleaner.state.floatbank5_b_level</th>\n",
       "      <th>secondary_cleaner.state.floatbank6_a_air</th>\n",
       "      <th>secondary_cleaner.state.floatbank6_a_level</th>\n",
       "    </tr>\n",
       "  </thead>\n",
       "  <tbody>\n",
       "    <tr>\n",
       "      <th>0</th>\n",
       "      <td>2016-09-01 00:59:59</td>\n",
       "      <td>210.800909</td>\n",
       "      <td>14.993118</td>\n",
       "      <td>8.080000</td>\n",
       "      <td>1.005021</td>\n",
       "      <td>1398.981301</td>\n",
       "      <td>-500.225577</td>\n",
       "      <td>1399.144926</td>\n",
       "      <td>-499.919735</td>\n",
       "      <td>1400.102998</td>\n",
       "      <td>...</td>\n",
       "      <td>12.023554</td>\n",
       "      <td>-497.795834</td>\n",
       "      <td>8.016656</td>\n",
       "      <td>-501.289139</td>\n",
       "      <td>7.946562</td>\n",
       "      <td>-432.317850</td>\n",
       "      <td>4.872511</td>\n",
       "      <td>-500.037437</td>\n",
       "      <td>26.705889</td>\n",
       "      <td>-499.709414</td>\n",
       "    </tr>\n",
       "    <tr>\n",
       "      <th>1</th>\n",
       "      <td>2016-09-01 01:59:59</td>\n",
       "      <td>215.392455</td>\n",
       "      <td>14.987471</td>\n",
       "      <td>8.080000</td>\n",
       "      <td>0.990469</td>\n",
       "      <td>1398.777912</td>\n",
       "      <td>-500.057435</td>\n",
       "      <td>1398.055362</td>\n",
       "      <td>-499.778182</td>\n",
       "      <td>1396.151033</td>\n",
       "      <td>...</td>\n",
       "      <td>12.058140</td>\n",
       "      <td>-498.695773</td>\n",
       "      <td>8.130979</td>\n",
       "      <td>-499.634209</td>\n",
       "      <td>7.958270</td>\n",
       "      <td>-525.839648</td>\n",
       "      <td>4.878850</td>\n",
       "      <td>-500.162375</td>\n",
       "      <td>25.019940</td>\n",
       "      <td>-499.819438</td>\n",
       "    </tr>\n",
       "    <tr>\n",
       "      <th>2</th>\n",
       "      <td>2016-09-01 02:59:59</td>\n",
       "      <td>215.259946</td>\n",
       "      <td>12.884934</td>\n",
       "      <td>7.786667</td>\n",
       "      <td>0.996043</td>\n",
       "      <td>1398.493666</td>\n",
       "      <td>-500.868360</td>\n",
       "      <td>1398.860436</td>\n",
       "      <td>-499.764529</td>\n",
       "      <td>1398.075709</td>\n",
       "      <td>...</td>\n",
       "      <td>11.962366</td>\n",
       "      <td>-498.767484</td>\n",
       "      <td>8.096893</td>\n",
       "      <td>-500.827423</td>\n",
       "      <td>8.071056</td>\n",
       "      <td>-500.801673</td>\n",
       "      <td>4.905125</td>\n",
       "      <td>-499.828510</td>\n",
       "      <td>24.994862</td>\n",
       "      <td>-500.622559</td>\n",
       "    </tr>\n",
       "    <tr>\n",
       "      <th>3</th>\n",
       "      <td>2016-09-01 03:59:59</td>\n",
       "      <td>215.336236</td>\n",
       "      <td>12.006805</td>\n",
       "      <td>7.640000</td>\n",
       "      <td>0.863514</td>\n",
       "      <td>1399.618111</td>\n",
       "      <td>-498.863574</td>\n",
       "      <td>1397.440120</td>\n",
       "      <td>-499.211024</td>\n",
       "      <td>1400.129303</td>\n",
       "      <td>...</td>\n",
       "      <td>12.033091</td>\n",
       "      <td>-498.350935</td>\n",
       "      <td>8.074946</td>\n",
       "      <td>-499.474407</td>\n",
       "      <td>7.897085</td>\n",
       "      <td>-500.868509</td>\n",
       "      <td>4.931400</td>\n",
       "      <td>-499.963623</td>\n",
       "      <td>24.948919</td>\n",
       "      <td>-498.709987</td>\n",
       "    </tr>\n",
       "    <tr>\n",
       "      <th>4</th>\n",
       "      <td>2016-09-01 04:59:59</td>\n",
       "      <td>199.099327</td>\n",
       "      <td>10.682530</td>\n",
       "      <td>7.530000</td>\n",
       "      <td>0.805575</td>\n",
       "      <td>1401.268123</td>\n",
       "      <td>-500.808305</td>\n",
       "      <td>1398.128818</td>\n",
       "      <td>-499.504543</td>\n",
       "      <td>1402.172226</td>\n",
       "      <td>...</td>\n",
       "      <td>12.025367</td>\n",
       "      <td>-500.786497</td>\n",
       "      <td>8.054678</td>\n",
       "      <td>-500.397500</td>\n",
       "      <td>8.107890</td>\n",
       "      <td>-509.526725</td>\n",
       "      <td>4.957674</td>\n",
       "      <td>-500.360026</td>\n",
       "      <td>25.003331</td>\n",
       "      <td>-500.856333</td>\n",
       "    </tr>\n",
       "  </tbody>\n",
       "</table>\n",
       "<p>5 rows × 53 columns</p>\n",
       "</div>"
      ],
      "text/plain": [
       "                  date  primary_cleaner.input.sulfate  \\\n",
       "0  2016-09-01 00:59:59                     210.800909   \n",
       "1  2016-09-01 01:59:59                     215.392455   \n",
       "2  2016-09-01 02:59:59                     215.259946   \n",
       "3  2016-09-01 03:59:59                     215.336236   \n",
       "4  2016-09-01 04:59:59                     199.099327   \n",
       "\n",
       "   primary_cleaner.input.depressant  primary_cleaner.input.feed_size  \\\n",
       "0                         14.993118                         8.080000   \n",
       "1                         14.987471                         8.080000   \n",
       "2                         12.884934                         7.786667   \n",
       "3                         12.006805                         7.640000   \n",
       "4                         10.682530                         7.530000   \n",
       "\n",
       "   primary_cleaner.input.xanthate  primary_cleaner.state.floatbank8_a_air  \\\n",
       "0                        1.005021                             1398.981301   \n",
       "1                        0.990469                             1398.777912   \n",
       "2                        0.996043                             1398.493666   \n",
       "3                        0.863514                             1399.618111   \n",
       "4                        0.805575                             1401.268123   \n",
       "\n",
       "   primary_cleaner.state.floatbank8_a_level  \\\n",
       "0                               -500.225577   \n",
       "1                               -500.057435   \n",
       "2                               -500.868360   \n",
       "3                               -498.863574   \n",
       "4                               -500.808305   \n",
       "\n",
       "   primary_cleaner.state.floatbank8_b_air  \\\n",
       "0                             1399.144926   \n",
       "1                             1398.055362   \n",
       "2                             1398.860436   \n",
       "3                             1397.440120   \n",
       "4                             1398.128818   \n",
       "\n",
       "   primary_cleaner.state.floatbank8_b_level  \\\n",
       "0                               -499.919735   \n",
       "1                               -499.778182   \n",
       "2                               -499.764529   \n",
       "3                               -499.211024   \n",
       "4                               -499.504543   \n",
       "\n",
       "   primary_cleaner.state.floatbank8_c_air  ...  \\\n",
       "0                             1400.102998  ...   \n",
       "1                             1396.151033  ...   \n",
       "2                             1398.075709  ...   \n",
       "3                             1400.129303  ...   \n",
       "4                             1402.172226  ...   \n",
       "\n",
       "   secondary_cleaner.state.floatbank4_a_air  \\\n",
       "0                                 12.023554   \n",
       "1                                 12.058140   \n",
       "2                                 11.962366   \n",
       "3                                 12.033091   \n",
       "4                                 12.025367   \n",
       "\n",
       "   secondary_cleaner.state.floatbank4_a_level  \\\n",
       "0                                 -497.795834   \n",
       "1                                 -498.695773   \n",
       "2                                 -498.767484   \n",
       "3                                 -498.350935   \n",
       "4                                 -500.786497   \n",
       "\n",
       "   secondary_cleaner.state.floatbank4_b_air  \\\n",
       "0                                  8.016656   \n",
       "1                                  8.130979   \n",
       "2                                  8.096893   \n",
       "3                                  8.074946   \n",
       "4                                  8.054678   \n",
       "\n",
       "   secondary_cleaner.state.floatbank4_b_level  \\\n",
       "0                                 -501.289139   \n",
       "1                                 -499.634209   \n",
       "2                                 -500.827423   \n",
       "3                                 -499.474407   \n",
       "4                                 -500.397500   \n",
       "\n",
       "   secondary_cleaner.state.floatbank5_a_air  \\\n",
       "0                                  7.946562   \n",
       "1                                  7.958270   \n",
       "2                                  8.071056   \n",
       "3                                  7.897085   \n",
       "4                                  8.107890   \n",
       "\n",
       "   secondary_cleaner.state.floatbank5_a_level  \\\n",
       "0                                 -432.317850   \n",
       "1                                 -525.839648   \n",
       "2                                 -500.801673   \n",
       "3                                 -500.868509   \n",
       "4                                 -509.526725   \n",
       "\n",
       "   secondary_cleaner.state.floatbank5_b_air  \\\n",
       "0                                  4.872511   \n",
       "1                                  4.878850   \n",
       "2                                  4.905125   \n",
       "3                                  4.931400   \n",
       "4                                  4.957674   \n",
       "\n",
       "   secondary_cleaner.state.floatbank5_b_level  \\\n",
       "0                                 -500.037437   \n",
       "1                                 -500.162375   \n",
       "2                                 -499.828510   \n",
       "3                                 -499.963623   \n",
       "4                                 -500.360026   \n",
       "\n",
       "   secondary_cleaner.state.floatbank6_a_air  \\\n",
       "0                                 26.705889   \n",
       "1                                 25.019940   \n",
       "2                                 24.994862   \n",
       "3                                 24.948919   \n",
       "4                                 25.003331   \n",
       "\n",
       "   secondary_cleaner.state.floatbank6_a_level  \n",
       "0                                 -499.709414  \n",
       "1                                 -499.819438  \n",
       "2                                 -500.622559  \n",
       "3                                 -498.709987  \n",
       "4                                 -500.856333  \n",
       "\n",
       "[5 rows x 53 columns]"
      ]
     },
     "execution_count": 3,
     "metadata": {},
     "output_type": "execute_result"
    }
   ],
   "source": [
    "data_test = pd.read_csv('/datasets/gold_recovery_test.csv')\n",
    "data_test.head()"
   ]
  },
  {
   "cell_type": "code",
   "execution_count": 4,
   "metadata": {},
   "outputs": [
    {
     "data": {
      "text/html": [
       "<div>\n",
       "<style scoped>\n",
       "    .dataframe tbody tr th:only-of-type {\n",
       "        vertical-align: middle;\n",
       "    }\n",
       "\n",
       "    .dataframe tbody tr th {\n",
       "        vertical-align: top;\n",
       "    }\n",
       "\n",
       "    .dataframe thead th {\n",
       "        text-align: right;\n",
       "    }\n",
       "</style>\n",
       "<table border=\"1\" class=\"dataframe\">\n",
       "  <thead>\n",
       "    <tr style=\"text-align: right;\">\n",
       "      <th></th>\n",
       "      <th>date</th>\n",
       "      <th>final.output.concentrate_ag</th>\n",
       "      <th>final.output.concentrate_pb</th>\n",
       "      <th>final.output.concentrate_sol</th>\n",
       "      <th>final.output.concentrate_au</th>\n",
       "      <th>final.output.recovery</th>\n",
       "      <th>final.output.tail_ag</th>\n",
       "      <th>final.output.tail_pb</th>\n",
       "      <th>final.output.tail_sol</th>\n",
       "      <th>final.output.tail_au</th>\n",
       "      <th>...</th>\n",
       "      <th>secondary_cleaner.state.floatbank4_a_air</th>\n",
       "      <th>secondary_cleaner.state.floatbank4_a_level</th>\n",
       "      <th>secondary_cleaner.state.floatbank4_b_air</th>\n",
       "      <th>secondary_cleaner.state.floatbank4_b_level</th>\n",
       "      <th>secondary_cleaner.state.floatbank5_a_air</th>\n",
       "      <th>secondary_cleaner.state.floatbank5_a_level</th>\n",
       "      <th>secondary_cleaner.state.floatbank5_b_air</th>\n",
       "      <th>secondary_cleaner.state.floatbank5_b_level</th>\n",
       "      <th>secondary_cleaner.state.floatbank6_a_air</th>\n",
       "      <th>secondary_cleaner.state.floatbank6_a_level</th>\n",
       "    </tr>\n",
       "  </thead>\n",
       "  <tbody>\n",
       "    <tr>\n",
       "      <th>0</th>\n",
       "      <td>2016-01-15 00:00:00</td>\n",
       "      <td>6.055403</td>\n",
       "      <td>9.889648</td>\n",
       "      <td>5.507324</td>\n",
       "      <td>42.192020</td>\n",
       "      <td>70.541216</td>\n",
       "      <td>10.411962</td>\n",
       "      <td>0.895447</td>\n",
       "      <td>16.904297</td>\n",
       "      <td>2.143149</td>\n",
       "      <td>...</td>\n",
       "      <td>14.016835</td>\n",
       "      <td>-502.488007</td>\n",
       "      <td>12.099931</td>\n",
       "      <td>-504.715942</td>\n",
       "      <td>9.925633</td>\n",
       "      <td>-498.310211</td>\n",
       "      <td>8.079666</td>\n",
       "      <td>-500.470978</td>\n",
       "      <td>14.151341</td>\n",
       "      <td>-605.841980</td>\n",
       "    </tr>\n",
       "    <tr>\n",
       "      <th>1</th>\n",
       "      <td>2016-01-15 01:00:00</td>\n",
       "      <td>6.029369</td>\n",
       "      <td>9.968944</td>\n",
       "      <td>5.257781</td>\n",
       "      <td>42.701629</td>\n",
       "      <td>69.266198</td>\n",
       "      <td>10.462676</td>\n",
       "      <td>0.927452</td>\n",
       "      <td>16.634514</td>\n",
       "      <td>2.224930</td>\n",
       "      <td>...</td>\n",
       "      <td>13.992281</td>\n",
       "      <td>-505.503262</td>\n",
       "      <td>11.950531</td>\n",
       "      <td>-501.331529</td>\n",
       "      <td>10.039245</td>\n",
       "      <td>-500.169983</td>\n",
       "      <td>7.984757</td>\n",
       "      <td>-500.582168</td>\n",
       "      <td>13.998353</td>\n",
       "      <td>-599.787184</td>\n",
       "    </tr>\n",
       "    <tr>\n",
       "      <th>2</th>\n",
       "      <td>2016-01-15 02:00:00</td>\n",
       "      <td>6.055926</td>\n",
       "      <td>10.213995</td>\n",
       "      <td>5.383759</td>\n",
       "      <td>42.657501</td>\n",
       "      <td>68.116445</td>\n",
       "      <td>10.507046</td>\n",
       "      <td>0.953716</td>\n",
       "      <td>16.208849</td>\n",
       "      <td>2.257889</td>\n",
       "      <td>...</td>\n",
       "      <td>14.015015</td>\n",
       "      <td>-502.520901</td>\n",
       "      <td>11.912783</td>\n",
       "      <td>-501.133383</td>\n",
       "      <td>10.070913</td>\n",
       "      <td>-500.129135</td>\n",
       "      <td>8.013877</td>\n",
       "      <td>-500.517572</td>\n",
       "      <td>14.028663</td>\n",
       "      <td>-601.427363</td>\n",
       "    </tr>\n",
       "    <tr>\n",
       "      <th>3</th>\n",
       "      <td>2016-01-15 03:00:00</td>\n",
       "      <td>6.047977</td>\n",
       "      <td>9.977019</td>\n",
       "      <td>4.858634</td>\n",
       "      <td>42.689819</td>\n",
       "      <td>68.347543</td>\n",
       "      <td>10.422762</td>\n",
       "      <td>0.883763</td>\n",
       "      <td>16.532835</td>\n",
       "      <td>2.146849</td>\n",
       "      <td>...</td>\n",
       "      <td>14.036510</td>\n",
       "      <td>-500.857308</td>\n",
       "      <td>11.999550</td>\n",
       "      <td>-501.193686</td>\n",
       "      <td>9.970366</td>\n",
       "      <td>-499.201640</td>\n",
       "      <td>7.977324</td>\n",
       "      <td>-500.255908</td>\n",
       "      <td>14.005551</td>\n",
       "      <td>-599.996129</td>\n",
       "    </tr>\n",
       "    <tr>\n",
       "      <th>4</th>\n",
       "      <td>2016-01-15 04:00:00</td>\n",
       "      <td>6.148599</td>\n",
       "      <td>10.142511</td>\n",
       "      <td>4.939416</td>\n",
       "      <td>42.774141</td>\n",
       "      <td>66.927016</td>\n",
       "      <td>10.360302</td>\n",
       "      <td>0.792826</td>\n",
       "      <td>16.525686</td>\n",
       "      <td>2.055292</td>\n",
       "      <td>...</td>\n",
       "      <td>14.027298</td>\n",
       "      <td>-499.838632</td>\n",
       "      <td>11.953070</td>\n",
       "      <td>-501.053894</td>\n",
       "      <td>9.925709</td>\n",
       "      <td>-501.686727</td>\n",
       "      <td>7.894242</td>\n",
       "      <td>-500.356035</td>\n",
       "      <td>13.996647</td>\n",
       "      <td>-601.496691</td>\n",
       "    </tr>\n",
       "  </tbody>\n",
       "</table>\n",
       "<p>5 rows × 87 columns</p>\n",
       "</div>"
      ],
      "text/plain": [
       "                  date  final.output.concentrate_ag  \\\n",
       "0  2016-01-15 00:00:00                     6.055403   \n",
       "1  2016-01-15 01:00:00                     6.029369   \n",
       "2  2016-01-15 02:00:00                     6.055926   \n",
       "3  2016-01-15 03:00:00                     6.047977   \n",
       "4  2016-01-15 04:00:00                     6.148599   \n",
       "\n",
       "   final.output.concentrate_pb  final.output.concentrate_sol  \\\n",
       "0                     9.889648                      5.507324   \n",
       "1                     9.968944                      5.257781   \n",
       "2                    10.213995                      5.383759   \n",
       "3                     9.977019                      4.858634   \n",
       "4                    10.142511                      4.939416   \n",
       "\n",
       "   final.output.concentrate_au  final.output.recovery  final.output.tail_ag  \\\n",
       "0                    42.192020              70.541216             10.411962   \n",
       "1                    42.701629              69.266198             10.462676   \n",
       "2                    42.657501              68.116445             10.507046   \n",
       "3                    42.689819              68.347543             10.422762   \n",
       "4                    42.774141              66.927016             10.360302   \n",
       "\n",
       "   final.output.tail_pb  final.output.tail_sol  final.output.tail_au  ...  \\\n",
       "0              0.895447              16.904297              2.143149  ...   \n",
       "1              0.927452              16.634514              2.224930  ...   \n",
       "2              0.953716              16.208849              2.257889  ...   \n",
       "3              0.883763              16.532835              2.146849  ...   \n",
       "4              0.792826              16.525686              2.055292  ...   \n",
       "\n",
       "   secondary_cleaner.state.floatbank4_a_air  \\\n",
       "0                                 14.016835   \n",
       "1                                 13.992281   \n",
       "2                                 14.015015   \n",
       "3                                 14.036510   \n",
       "4                                 14.027298   \n",
       "\n",
       "   secondary_cleaner.state.floatbank4_a_level  \\\n",
       "0                                 -502.488007   \n",
       "1                                 -505.503262   \n",
       "2                                 -502.520901   \n",
       "3                                 -500.857308   \n",
       "4                                 -499.838632   \n",
       "\n",
       "   secondary_cleaner.state.floatbank4_b_air  \\\n",
       "0                                 12.099931   \n",
       "1                                 11.950531   \n",
       "2                                 11.912783   \n",
       "3                                 11.999550   \n",
       "4                                 11.953070   \n",
       "\n",
       "   secondary_cleaner.state.floatbank4_b_level  \\\n",
       "0                                 -504.715942   \n",
       "1                                 -501.331529   \n",
       "2                                 -501.133383   \n",
       "3                                 -501.193686   \n",
       "4                                 -501.053894   \n",
       "\n",
       "   secondary_cleaner.state.floatbank5_a_air  \\\n",
       "0                                  9.925633   \n",
       "1                                 10.039245   \n",
       "2                                 10.070913   \n",
       "3                                  9.970366   \n",
       "4                                  9.925709   \n",
       "\n",
       "   secondary_cleaner.state.floatbank5_a_level  \\\n",
       "0                                 -498.310211   \n",
       "1                                 -500.169983   \n",
       "2                                 -500.129135   \n",
       "3                                 -499.201640   \n",
       "4                                 -501.686727   \n",
       "\n",
       "   secondary_cleaner.state.floatbank5_b_air  \\\n",
       "0                                  8.079666   \n",
       "1                                  7.984757   \n",
       "2                                  8.013877   \n",
       "3                                  7.977324   \n",
       "4                                  7.894242   \n",
       "\n",
       "   secondary_cleaner.state.floatbank5_b_level  \\\n",
       "0                                 -500.470978   \n",
       "1                                 -500.582168   \n",
       "2                                 -500.517572   \n",
       "3                                 -500.255908   \n",
       "4                                 -500.356035   \n",
       "\n",
       "   secondary_cleaner.state.floatbank6_a_air  \\\n",
       "0                                 14.151341   \n",
       "1                                 13.998353   \n",
       "2                                 14.028663   \n",
       "3                                 14.005551   \n",
       "4                                 13.996647   \n",
       "\n",
       "   secondary_cleaner.state.floatbank6_a_level  \n",
       "0                                 -605.841980  \n",
       "1                                 -599.787184  \n",
       "2                                 -601.427363  \n",
       "3                                 -599.996129  \n",
       "4                                 -601.496691  \n",
       "\n",
       "[5 rows x 87 columns]"
      ]
     },
     "execution_count": 4,
     "metadata": {},
     "output_type": "execute_result"
    }
   ],
   "source": [
    "data_full = pd.read_csv('/datasets/gold_recovery_full.csv')\n",
    "data_full.head()"
   ]
  },
  {
   "cell_type": "code",
   "execution_count": 5,
   "metadata": {},
   "outputs": [
    {
     "data": {
      "text/plain": [
       "((16860, 87), (5856, 53))"
      ]
     },
     "execution_count": 5,
     "metadata": {},
     "output_type": "execute_result"
    }
   ],
   "source": [
    "data_train.shape, data_test.shape"
   ]
  },
  {
   "cell_type": "markdown",
   "metadata": {},
   "source": [
    "<div class=\"alert alert-block alert-warning\">\n",
    "<b>Reviewer's comment</b> <a class=\"tocSkip\"></a>\n",
    "\n",
    "Ok, but here we can also check monotonic of \"date\" and duplicates. \n",
    "</div>"
   ]
  },
  {
   "cell_type": "markdown",
   "metadata": {},
   "source": [
    "Check that recovery is calculated correctly. Using the training set, calculate recovery for the rougher.output.recovery feature. Find the MAE between your calculations and the feature values. Provide findings:"
   ]
  },
  {
   "cell_type": "code",
   "execution_count": 6,
   "metadata": {},
   "outputs": [
    {
     "name": "stdout",
     "output_type": "stream",
     "text": [
      "Mean Absolute Error (MAE) between calculated and actual recovery: 9.303415616264301e-15\n"
     ]
    }
   ],
   "source": [
    "def calculate_recovery(C, F, T):\n",
    "    return (C * (F - T) / (F * (C - T))) * 100\n",
    "\n",
    "C = data_train['rougher.output.concentrate_au']\n",
    "F = data_train['rougher.input.feed_au']\n",
    "T = data_train['rougher.output.tail_au']\n",
    "\n",
    "calculated_recovery = calculate_recovery(C, F, T)\n",
    "actual_recovery = data_train['rougher.output.recovery']\n",
    "\n",
    "mae = (calculated_recovery - actual_recovery).abs().mean()\n",
    "\n",
    "print(f\"Mean Absolute Error (MAE) between calculated and actual recovery: {mae}\")\n"
   ]
  },
  {
   "cell_type": "markdown",
   "metadata": {},
   "source": [
    "<div class=\"alert alert-block alert-success\">\n",
    "<b>Reviewer's comment</b> <a class=\"tocSkip\"></a>\n",
    "\n",
    "Correct.\n",
    "</div>"
   ]
  },
  {
   "cell_type": "markdown",
   "metadata": {},
   "source": [
    "Processing missing values:"
   ]
  },
  {
   "cell_type": "code",
   "execution_count": 7,
   "metadata": {},
   "outputs": [
    {
     "data": {
      "text/plain": [
       "rougher.output.recovery               0.137304\n",
       "rougher.output.tail_ag                0.120488\n",
       "rougher.output.tail_au                0.120444\n",
       "rougher.output.tail_sol               0.120444\n",
       "rougher.input.floatbank11_xanthate    0.099357\n",
       "dtype: float64"
      ]
     },
     "execution_count": 7,
     "metadata": {},
     "output_type": "execute_result"
    }
   ],
   "source": [
    "data_full.isna().mean().sort_values(ascending=False).head()"
   ]
  },
  {
   "cell_type": "code",
   "execution_count": 8,
   "metadata": {},
   "outputs": [],
   "source": [
    "data_train = data_train.fillna(method='ffill')"
   ]
  },
  {
   "cell_type": "code",
   "execution_count": 9,
   "metadata": {},
   "outputs": [],
   "source": [
    "data_test = data_test.fillna(method='ffill')"
   ]
  },
  {
   "cell_type": "markdown",
   "metadata": {},
   "source": [
    "<div class=\"alert alert-block alert-success\">\n",
    "<b>Reviewer's comment</b> <a class=\"tocSkip\"></a>\n",
    "\n",
    "Well done!\n",
    "</div>"
   ]
  },
  {
   "cell_type": "markdown",
   "metadata": {},
   "source": [
    "List of unavailable parameters:"
   ]
  },
  {
   "cell_type": "code",
   "execution_count": 10,
   "metadata": {},
   "outputs": [
    {
     "data": {
      "text/plain": [
       "{'final.output.concentrate_ag',\n",
       " 'final.output.concentrate_au',\n",
       " 'final.output.concentrate_pb',\n",
       " 'final.output.concentrate_sol',\n",
       " 'final.output.recovery',\n",
       " 'final.output.tail_ag',\n",
       " 'final.output.tail_au',\n",
       " 'final.output.tail_pb',\n",
       " 'final.output.tail_sol',\n",
       " 'primary_cleaner.output.concentrate_ag',\n",
       " 'primary_cleaner.output.concentrate_au',\n",
       " 'primary_cleaner.output.concentrate_pb',\n",
       " 'primary_cleaner.output.concentrate_sol',\n",
       " 'primary_cleaner.output.tail_ag',\n",
       " 'primary_cleaner.output.tail_au',\n",
       " 'primary_cleaner.output.tail_pb',\n",
       " 'primary_cleaner.output.tail_sol',\n",
       " 'rougher.calculation.au_pb_ratio',\n",
       " 'rougher.calculation.floatbank10_sulfate_to_au_feed',\n",
       " 'rougher.calculation.floatbank11_sulfate_to_au_feed',\n",
       " 'rougher.calculation.sulfate_to_au_concentrate',\n",
       " 'rougher.output.concentrate_ag',\n",
       " 'rougher.output.concentrate_au',\n",
       " 'rougher.output.concentrate_pb',\n",
       " 'rougher.output.concentrate_sol',\n",
       " 'rougher.output.recovery',\n",
       " 'rougher.output.tail_ag',\n",
       " 'rougher.output.tail_au',\n",
       " 'rougher.output.tail_pb',\n",
       " 'rougher.output.tail_sol',\n",
       " 'secondary_cleaner.output.tail_ag',\n",
       " 'secondary_cleaner.output.tail_au',\n",
       " 'secondary_cleaner.output.tail_pb',\n",
       " 'secondary_cleaner.output.tail_sol'}"
      ]
     },
     "execution_count": 10,
     "metadata": {},
     "output_type": "execute_result"
    }
   ],
   "source": [
    "missed_test_columns = set(list(data_train.columns.values))-set(list(data_test.columns.values))\n",
    "missed_test_columns"
   ]
  },
  {
   "cell_type": "markdown",
   "metadata": {},
   "source": [
    "<div class=\"alert alert-block alert-success\">\n",
    "<b>Reviewer's comment</b> <a class=\"tocSkip\"></a>\n",
    "\n",
    "Correct.\n",
    "</div>"
   ]
  },
  {
   "cell_type": "markdown",
   "metadata": {},
   "source": [
    "- Analyzing the data"
   ]
  },
  {
   "cell_type": "markdown",
   "metadata": {},
   "source": [
    "Concentrations of metals (Au, Ag, Pb) changes:"
   ]
  },
  {
   "cell_type": "code",
   "execution_count": 11,
   "metadata": {},
   "outputs": [],
   "source": [
    "steps_template = [\n",
    "    'rougher.input.feed_{}',\n",
    "    'rougher.output.concentrate_{}',\n",
    "    'primary_cleaner.output.concentrate_{}',\n",
    "    'final.output.concentrate_{}',\n",
    "]\n",
    "\n",
    "def plot_concentrate_progress(component):\n",
    "    steps = [s.format(component) for s in steps_template]\n",
    "    for step in steps:\n",
    "        data_full[step].hist(alpha=0.5, bins=20)\n",
    "    plt.legend(steps)"
   ]
  },
  {
   "cell_type": "code",
   "execution_count": 12,
   "metadata": {},
   "outputs": [
    {
     "data": {
      "text/plain": [
       "Text(0.5, 1.0, 'Gold concentration change')"
      ]
     },
     "execution_count": 12,
     "metadata": {},
     "output_type": "execute_result"
    },
    {
     "data": {
      "image/png": "[encoded data removed]",
      "text/plain": [
       "<Figure size 640x480 with 1 Axes>"
      ]
     },
     "metadata": {},
     "output_type": "display_data"
    }
   ],
   "source": [
    "plot_concentrate_progress('au')\n",
    "plt.title('Gold concentration change')"
   ]
  },
  {
   "cell_type": "code",
   "execution_count": 13,
   "metadata": {},
   "outputs": [
    {
     "data": {
      "text/plain": [
       "Text(0.5, 1.0, 'Silver concentration change')"
      ]
     },
     "execution_count": 13,
     "metadata": {},
     "output_type": "execute_result"
    },
    {
     "data": {
      "image/png": "[encoded data removed]",
      "text/plain": [
       "<Figure size 640x480 with 1 Axes>"
      ]
     },
     "metadata": {},
     "output_type": "display_data"
    }
   ],
   "source": [
    "plot_concentrate_progress('ag')\n",
    "plt.title('Silver concentration change')"
   ]
  },
  {
   "cell_type": "code",
   "execution_count": 14,
   "metadata": {},
   "outputs": [
    {
     "data": {
      "text/plain": [
       "Text(0.5, 1.0, 'Lead concentration change')"
      ]
     },
     "execution_count": 14,
     "metadata": {},
     "output_type": "execute_result"
    },
    {
     "data": {
      "image/png": "[encoded data removed]",
      "text/plain": [
       "<Figure size 640x480 with 1 Axes>"
      ]
     },
     "metadata": {},
     "output_type": "display_data"
    }
   ],
   "source": [
    "plot_concentrate_progress('pb')\n",
    "plt.title('Lead concentration change')"
   ]
  },
  {
   "cell_type": "markdown",
   "metadata": {},
   "source": [
    "Particle size distributions in the training set and in the test set:"
   ]
  },
  {
   "cell_type": "code",
   "execution_count": 15,
   "metadata": {},
   "outputs": [],
   "source": [
    "def filter_outliers(series):\n",
    "    return series[series.between(series.quantile(0.01), series.quantile(0.99))]\n",
    "\n",
    "def compare_train_test_feature(feature):\n",
    "    filter_outliers(data_train[feature]).plot.kde()\n",
    "    filter_outliers(data_test[feature]).plot.kde()\n",
    "    plt.legend(['train', 'test'])"
   ]
  },
  {
   "cell_type": "code",
   "execution_count": 16,
   "metadata": {},
   "outputs": [
    {
     "data": {
      "image/png": "[encoded data removed]",
      "text/plain": [
       "<Figure size 640x480 with 1 Axes>"
      ]
     },
     "metadata": {},
     "output_type": "display_data"
    }
   ],
   "source": [
    "compare_train_test_feature('rougher.input.feed_size')"
   ]
  },
  {
   "cell_type": "markdown",
   "metadata": {},
   "source": [
    "Consider the total concentrations of all substances at different stages:"
   ]
  },
  {
   "cell_type": "code",
   "execution_count": 17,
   "metadata": {},
   "outputs": [],
   "source": [
    "data_train['total_feed'] = data_train[['rougher.input.feed_au', 'rougher.input.feed_ag', 'rougher.input.feed_pb', 'rougher.input.feed_sol']].sum(axis=1)\n",
    "data_train['total_rougher_concentrate'] = data_train[['rougher.output.concentrate_au', 'rougher.output.concentrate_ag', 'rougher.output.concentrate_pb', 'rougher.output.concentrate_sol']].sum(axis=1)\n",
    "data_train['total_final_concentrate'] = data_train[['final.output.concentrate_au', 'final.output.concentrate_ag', 'final.output.concentrate_pb', 'final.output.concentrate_sol']].sum(axis=1)\n"
   ]
  },
  {
   "cell_type": "code",
   "execution_count": 18,
   "metadata": {},
   "outputs": [
    {
     "data": {
      "text/plain": [
       "Text(0.5, 1.0, 'Total Feed Concentration')"
      ]
     },
     "execution_count": 18,
     "metadata": {},
     "output_type": "execute_result"
    },
    {
     "data": {
      "image/png": "[encoded data removed]",
      "text/plain": [
       "<Figure size 1500x500 with 1 Axes>"
      ]
     },
     "metadata": {},
     "output_type": "display_data"
    }
   ],
   "source": [
    "plt.figure(figsize=(15, 5))\n",
    "\n",
    "plt.subplot(1, 3, 1)\n",
    "data_train['total_feed'].hist(bins=50)\n",
    "plt.title('Total Feed Concentration')"
   ]
  },
  {
   "cell_type": "code",
   "execution_count": 19,
   "metadata": {},
   "outputs": [
    {
     "data": {
      "text/plain": [
       "Text(0.5, 1.0, 'Total Rougher Concentrate Concentration')"
      ]
     },
     "execution_count": 19,
     "metadata": {},
     "output_type": "execute_result"
    },
    {
     "data": {
      "image/png": "[encoded data removed]",
      "text/plain": [
       "<Figure size 1500x500 with 1 Axes>"
      ]
     },
     "metadata": {},
     "output_type": "display_data"
    }
   ],
   "source": [
    "plt.figure(figsize=(15, 5))\n",
    "plt.subplot(1, 3, 2)\n",
    "data_train['total_rougher_concentrate'].hist(bins=50)\n",
    "plt.title('Total Rougher Concentrate Concentration')"
   ]
  },
  {
   "cell_type": "code",
   "execution_count": 20,
   "metadata": {},
   "outputs": [
    {
     "data": {
      "text/plain": [
       "Text(0.5, 1.0, 'Total Final Concentrate Concentration')"
      ]
     },
     "execution_count": 20,
     "metadata": {},
     "output_type": "execute_result"
    },
    {
     "data": {
      "image/png": "[encoded data removed]",
      "text/plain": [
       "<Figure size 1500x500 with 1 Axes>"
      ]
     },
     "metadata": {},
     "output_type": "display_data"
    }
   ],
   "source": [
    "plt.figure(figsize=(15, 5))\n",
    "\n",
    "plt.subplot(1, 3, 3)\n",
    "data_train['total_final_concentrate'].hist(bins=50)\n",
    "plt.title('Total Final Concentrate Concentration')"
   ]
  },
  {
   "cell_type": "markdown",
   "metadata": {},
   "source": [
    "<div class=\"alert alert-block alert-warning\">\n",
    "<b>Reviewer's comment</b> <a class=\"tocSkip\"></a>\n",
    "\n",
    "Very good visualization!\n",
    "    \n",
    "Our recommendation is to add some conclusion after part of the project.\n",
    "</div>"
   ]
  },
  {
   "cell_type": "markdown",
   "metadata": {},
   "source": [
    "- Build the model"
   ]
  },
  {
   "cell_type": "markdown",
   "metadata": {},
   "source": [
    "Write a function to calculate the final sMAPE value:"
   ]
  },
  {
   "cell_type": "code",
   "execution_count": 21,
   "metadata": {},
   "outputs": [],
   "source": [
    "features = data_test.columns.values"
   ]
  },
  {
   "cell_type": "code",
   "execution_count": 22,
   "metadata": {},
   "outputs": [],
   "source": [
    "targets = ['rougher.output.recovery', 'final.output.recovery']"
   ]
  },
  {
   "cell_type": "code",
   "execution_count": 23,
   "metadata": {},
   "outputs": [],
   "source": [
    "features_train = data_train[features].reset_index(drop=True)\n",
    "target_train = data_train[targets].reset_index(drop=True)\n",
    "target_train.columns = [0, 1]"
   ]
  },
  {
   "cell_type": "code",
   "execution_count": 24,
   "metadata": {},
   "outputs": [
    {
     "data": {
      "text/plain": [
       "(16860, 53)"
      ]
     },
     "execution_count": 24,
     "metadata": {},
     "output_type": "execute_result"
    }
   ],
   "source": [
    "features_train.shape"
   ]
  },
  {
   "cell_type": "code",
   "execution_count": 25,
   "metadata": {},
   "outputs": [
    {
     "data": {
      "text/html": [
       "<div>\n",
       "<style scoped>\n",
       "    .dataframe tbody tr th:only-of-type {\n",
       "        vertical-align: middle;\n",
       "    }\n",
       "\n",
       "    .dataframe tbody tr th {\n",
       "        vertical-align: top;\n",
       "    }\n",
       "\n",
       "    .dataframe thead th {\n",
       "        text-align: right;\n",
       "    }\n",
       "</style>\n",
       "<table border=\"1\" class=\"dataframe\">\n",
       "  <thead>\n",
       "    <tr style=\"text-align: right;\">\n",
       "      <th></th>\n",
       "      <th>0</th>\n",
       "      <th>1</th>\n",
       "    </tr>\n",
       "  </thead>\n",
       "  <tbody>\n",
       "    <tr>\n",
       "      <th>0</th>\n",
       "      <td>87.107763</td>\n",
       "      <td>70.541216</td>\n",
       "    </tr>\n",
       "    <tr>\n",
       "      <th>1</th>\n",
       "      <td>86.843261</td>\n",
       "      <td>69.266198</td>\n",
       "    </tr>\n",
       "    <tr>\n",
       "      <th>2</th>\n",
       "      <td>86.842308</td>\n",
       "      <td>68.116445</td>\n",
       "    </tr>\n",
       "    <tr>\n",
       "      <th>3</th>\n",
       "      <td>87.226430</td>\n",
       "      <td>68.347543</td>\n",
       "    </tr>\n",
       "    <tr>\n",
       "      <th>4</th>\n",
       "      <td>86.688794</td>\n",
       "      <td>66.927016</td>\n",
       "    </tr>\n",
       "  </tbody>\n",
       "</table>\n",
       "</div>"
      ],
      "text/plain": [
       "           0          1\n",
       "0  87.107763  70.541216\n",
       "1  86.843261  69.266198\n",
       "2  86.842308  68.116445\n",
       "3  87.226430  68.347543\n",
       "4  86.688794  66.927016"
      ]
     },
     "execution_count": 25,
     "metadata": {},
     "output_type": "execute_result"
    }
   ],
   "source": [
    "target_train.head()"
   ]
  },
  {
   "cell_type": "code",
   "execution_count": 26,
   "metadata": {},
   "outputs": [],
   "source": [
    "features_test = data_test[features].reset_index(drop=True)\n",
    "target_test = data_full[targets].loc[data_test.index].reset_index(drop=True)\n",
    "target_test.columns = [0, 1]"
   ]
  },
  {
   "cell_type": "code",
   "execution_count": 27,
   "metadata": {},
   "outputs": [
    {
     "data": {
      "text/plain": [
       "(5856, 53)"
      ]
     },
     "execution_count": 27,
     "metadata": {},
     "output_type": "execute_result"
    }
   ],
   "source": [
    "features_test.shape"
   ]
  },
  {
   "cell_type": "code",
   "execution_count": 28,
   "metadata": {},
   "outputs": [],
   "source": [
    "#features_train_rougher = train[rougher_features].reset_index(drop=True), train[rougher_target].array\n",
    "#target_train_final = train[final_features].reset_index(drop=True), train[final_target].array"
   ]
  },
  {
   "cell_type": "code",
   "execution_count": 29,
   "metadata": {},
   "outputs": [],
   "source": [
    "def get_smape(targets, predicted):\n",
    "    N = len(targets)\n",
    "    Sigma = 0\n",
    "    for i in range(N):\n",
    "        a = abs(targets[i] - predicted[i])\n",
    "        b = (abs(targets[i]) + abs(predicted[i])) / 2\n",
    "        Sigma += a / b\n",
    "    smape = Sigma / N * 100\n",
    "    return smape"
   ]
  },
  {
   "cell_type": "code",
   "execution_count": 30,
   "metadata": {},
   "outputs": [],
   "source": [
    "def calculate_final_smape(targets, predicted):\n",
    "    final_smape = 0.25 * smape_rougher + 0.75 * smape_final\n",
    "    return final_smape"
   ]
  },
  {
   "cell_type": "code",
   "execution_count": 31,
   "metadata": {},
   "outputs": [],
   "source": [
    "true_values = pd.DataFrame({\n",
    "    'rougher.output.recovery': [80, 85, 78, 82, 84],\n",
    "    'final.output.recovery': [60, 65, 62, 63, 64]\n",
    "})"
   ]
  },
  {
   "cell_type": "code",
   "execution_count": 32,
   "metadata": {},
   "outputs": [],
   "source": [
    "predicted_values = pd.DataFrame({\n",
    "    'rougher.output.recovery': [81, 84, 77, 83, 85],\n",
    "    'final.output.recovery': [59, 66, 61, 64, 65]\n",
    "})"
   ]
  },
  {
   "cell_type": "code",
   "execution_count": 33,
   "metadata": {},
   "outputs": [],
   "source": [
    "smape_rougher = get_smape(true_values['rougher.output.recovery'], predicted_values['rougher.output.recovery'])\n",
    "smape_final = get_smape(true_values['final.output.recovery'], predicted_values['final.output.recovery'])"
   ]
  },
  {
   "cell_type": "code",
   "execution_count": 34,
   "metadata": {},
   "outputs": [
    {
     "name": "stdout",
     "output_type": "stream",
     "text": [
      "sMAPE for rougher.output.recovery: 1.22%\n",
      "sMAPE for final.output.recovery: 1.59%\n",
      "Final sMAPE: 1.50%\n"
     ]
    }
   ],
   "source": [
    "final_smape_value = calculate_final_smape(true_values, predicted_values)\n",
    "\n",
    "print(f\"sMAPE for rougher.output.recovery: {smape_rougher:.2f}%\")\n",
    "print(f\"sMAPE for final.output.recovery: {smape_final:.2f}%\")\n",
    "print(f\"Final sMAPE: {final_smape_value:.2f}%\")"
   ]
  },
  {
   "cell_type": "markdown",
   "metadata": {},
   "source": [
    "Train different models:"
   ]
  },
  {
   "cell_type": "code",
   "execution_count": 35,
   "metadata": {},
   "outputs": [
    {
     "data": {
      "text/html": [
       "<div>\n",
       "<style scoped>\n",
       "    .dataframe tbody tr th:only-of-type {\n",
       "        vertical-align: middle;\n",
       "    }\n",
       "\n",
       "    .dataframe tbody tr th {\n",
       "        vertical-align: top;\n",
       "    }\n",
       "\n",
       "    .dataframe thead th {\n",
       "        text-align: right;\n",
       "    }\n",
       "</style>\n",
       "<table border=\"1\" class=\"dataframe\">\n",
       "  <thead>\n",
       "    <tr style=\"text-align: right;\">\n",
       "      <th></th>\n",
       "      <th>primary_cleaner.input.sulfate</th>\n",
       "      <th>primary_cleaner.input.depressant</th>\n",
       "      <th>primary_cleaner.input.feed_size</th>\n",
       "      <th>primary_cleaner.input.xanthate</th>\n",
       "      <th>primary_cleaner.state.floatbank8_a_air</th>\n",
       "      <th>primary_cleaner.state.floatbank8_a_level</th>\n",
       "      <th>primary_cleaner.state.floatbank8_b_air</th>\n",
       "      <th>primary_cleaner.state.floatbank8_b_level</th>\n",
       "      <th>primary_cleaner.state.floatbank8_c_air</th>\n",
       "      <th>primary_cleaner.state.floatbank8_c_level</th>\n",
       "      <th>...</th>\n",
       "      <th>secondary_cleaner.state.floatbank4_a_air</th>\n",
       "      <th>secondary_cleaner.state.floatbank4_a_level</th>\n",
       "      <th>secondary_cleaner.state.floatbank4_b_air</th>\n",
       "      <th>secondary_cleaner.state.floatbank4_b_level</th>\n",
       "      <th>secondary_cleaner.state.floatbank5_a_air</th>\n",
       "      <th>secondary_cleaner.state.floatbank5_a_level</th>\n",
       "      <th>secondary_cleaner.state.floatbank5_b_air</th>\n",
       "      <th>secondary_cleaner.state.floatbank5_b_level</th>\n",
       "      <th>secondary_cleaner.state.floatbank6_a_air</th>\n",
       "      <th>secondary_cleaner.state.floatbank6_a_level</th>\n",
       "    </tr>\n",
       "  </thead>\n",
       "  <tbody>\n",
       "    <tr>\n",
       "      <th>0</th>\n",
       "      <td>127.092003</td>\n",
       "      <td>10.128295</td>\n",
       "      <td>7.25</td>\n",
       "      <td>0.988759</td>\n",
       "      <td>1549.775757</td>\n",
       "      <td>-498.912140</td>\n",
       "      <td>1551.434204</td>\n",
       "      <td>-516.403442</td>\n",
       "      <td>1549.873901</td>\n",
       "      <td>-498.666595</td>\n",
       "      <td>...</td>\n",
       "      <td>14.016835</td>\n",
       "      <td>-502.488007</td>\n",
       "      <td>12.099931</td>\n",
       "      <td>-504.715942</td>\n",
       "      <td>9.925633</td>\n",
       "      <td>-498.310211</td>\n",
       "      <td>8.079666</td>\n",
       "      <td>-500.470978</td>\n",
       "      <td>14.151341</td>\n",
       "      <td>-605.841980</td>\n",
       "    </tr>\n",
       "    <tr>\n",
       "      <th>1</th>\n",
       "      <td>125.629232</td>\n",
       "      <td>10.296251</td>\n",
       "      <td>7.25</td>\n",
       "      <td>1.002663</td>\n",
       "      <td>1576.166671</td>\n",
       "      <td>-500.904965</td>\n",
       "      <td>1575.950626</td>\n",
       "      <td>-499.865889</td>\n",
       "      <td>1575.994189</td>\n",
       "      <td>-499.315107</td>\n",
       "      <td>...</td>\n",
       "      <td>13.992281</td>\n",
       "      <td>-505.503262</td>\n",
       "      <td>11.950531</td>\n",
       "      <td>-501.331529</td>\n",
       "      <td>10.039245</td>\n",
       "      <td>-500.169983</td>\n",
       "      <td>7.984757</td>\n",
       "      <td>-500.582168</td>\n",
       "      <td>13.998353</td>\n",
       "      <td>-599.787184</td>\n",
       "    </tr>\n",
       "    <tr>\n",
       "      <th>2</th>\n",
       "      <td>123.819808</td>\n",
       "      <td>11.316280</td>\n",
       "      <td>7.25</td>\n",
       "      <td>0.991265</td>\n",
       "      <td>1601.556163</td>\n",
       "      <td>-499.997791</td>\n",
       "      <td>1600.386685</td>\n",
       "      <td>-500.607762</td>\n",
       "      <td>1602.003542</td>\n",
       "      <td>-500.870069</td>\n",
       "      <td>...</td>\n",
       "      <td>14.015015</td>\n",
       "      <td>-502.520901</td>\n",
       "      <td>11.912783</td>\n",
       "      <td>-501.133383</td>\n",
       "      <td>10.070913</td>\n",
       "      <td>-500.129135</td>\n",
       "      <td>8.013877</td>\n",
       "      <td>-500.517572</td>\n",
       "      <td>14.028663</td>\n",
       "      <td>-601.427363</td>\n",
       "    </tr>\n",
       "    <tr>\n",
       "      <th>3</th>\n",
       "      <td>122.270188</td>\n",
       "      <td>11.322140</td>\n",
       "      <td>7.25</td>\n",
       "      <td>0.996739</td>\n",
       "      <td>1599.968720</td>\n",
       "      <td>-500.951778</td>\n",
       "      <td>1600.659236</td>\n",
       "      <td>-499.677094</td>\n",
       "      <td>1600.304144</td>\n",
       "      <td>-500.727997</td>\n",
       "      <td>...</td>\n",
       "      <td>14.036510</td>\n",
       "      <td>-500.857308</td>\n",
       "      <td>11.999550</td>\n",
       "      <td>-501.193686</td>\n",
       "      <td>9.970366</td>\n",
       "      <td>-499.201640</td>\n",
       "      <td>7.977324</td>\n",
       "      <td>-500.255908</td>\n",
       "      <td>14.005551</td>\n",
       "      <td>-599.996129</td>\n",
       "    </tr>\n",
       "    <tr>\n",
       "      <th>4</th>\n",
       "      <td>117.988169</td>\n",
       "      <td>11.913613</td>\n",
       "      <td>7.25</td>\n",
       "      <td>1.009869</td>\n",
       "      <td>1601.339707</td>\n",
       "      <td>-498.975456</td>\n",
       "      <td>1601.437854</td>\n",
       "      <td>-500.323246</td>\n",
       "      <td>1599.581894</td>\n",
       "      <td>-500.888152</td>\n",
       "      <td>...</td>\n",
       "      <td>14.027298</td>\n",
       "      <td>-499.838632</td>\n",
       "      <td>11.953070</td>\n",
       "      <td>-501.053894</td>\n",
       "      <td>9.925709</td>\n",
       "      <td>-501.686727</td>\n",
       "      <td>7.894242</td>\n",
       "      <td>-500.356035</td>\n",
       "      <td>13.996647</td>\n",
       "      <td>-601.496691</td>\n",
       "    </tr>\n",
       "    <tr>\n",
       "      <th>...</th>\n",
       "      <td>...</td>\n",
       "      <td>...</td>\n",
       "      <td>...</td>\n",
       "      <td>...</td>\n",
       "      <td>...</td>\n",
       "      <td>...</td>\n",
       "      <td>...</td>\n",
       "      <td>...</td>\n",
       "      <td>...</td>\n",
       "      <td>...</td>\n",
       "      <td>...</td>\n",
       "      <td>...</td>\n",
       "      <td>...</td>\n",
       "      <td>...</td>\n",
       "      <td>...</td>\n",
       "      <td>...</td>\n",
       "      <td>...</td>\n",
       "      <td>...</td>\n",
       "      <td>...</td>\n",
       "      <td>...</td>\n",
       "      <td>...</td>\n",
       "    </tr>\n",
       "    <tr>\n",
       "      <th>16855</th>\n",
       "      <td>123.381787</td>\n",
       "      <td>8.028927</td>\n",
       "      <td>6.50</td>\n",
       "      <td>1.304232</td>\n",
       "      <td>1648.421193</td>\n",
       "      <td>-400.382169</td>\n",
       "      <td>1648.742005</td>\n",
       "      <td>-400.359661</td>\n",
       "      <td>1648.578230</td>\n",
       "      <td>-399.363624</td>\n",
       "      <td>...</td>\n",
       "      <td>23.031497</td>\n",
       "      <td>-501.167942</td>\n",
       "      <td>20.007571</td>\n",
       "      <td>-499.740028</td>\n",
       "      <td>18.006038</td>\n",
       "      <td>-499.834374</td>\n",
       "      <td>13.001114</td>\n",
       "      <td>-500.155694</td>\n",
       "      <td>20.007840</td>\n",
       "      <td>-501.296428</td>\n",
       "    </tr>\n",
       "    <tr>\n",
       "      <th>16856</th>\n",
       "      <td>120.878188</td>\n",
       "      <td>7.962636</td>\n",
       "      <td>6.50</td>\n",
       "      <td>1.302419</td>\n",
       "      <td>1649.820162</td>\n",
       "      <td>-399.930973</td>\n",
       "      <td>1649.357538</td>\n",
       "      <td>-399.721222</td>\n",
       "      <td>1648.656192</td>\n",
       "      <td>-401.195834</td>\n",
       "      <td>...</td>\n",
       "      <td>22.960095</td>\n",
       "      <td>-501.612783</td>\n",
       "      <td>20.035660</td>\n",
       "      <td>-500.251357</td>\n",
       "      <td>17.998535</td>\n",
       "      <td>-500.395178</td>\n",
       "      <td>12.954048</td>\n",
       "      <td>-499.895163</td>\n",
       "      <td>19.968498</td>\n",
       "      <td>-501.041608</td>\n",
       "    </tr>\n",
       "    <tr>\n",
       "      <th>16857</th>\n",
       "      <td>105.666118</td>\n",
       "      <td>7.955111</td>\n",
       "      <td>6.50</td>\n",
       "      <td>1.315926</td>\n",
       "      <td>1649.166761</td>\n",
       "      <td>-399.888631</td>\n",
       "      <td>1649.196904</td>\n",
       "      <td>-399.677571</td>\n",
       "      <td>1647.896999</td>\n",
       "      <td>-399.988275</td>\n",
       "      <td>...</td>\n",
       "      <td>23.015718</td>\n",
       "      <td>-501.711599</td>\n",
       "      <td>19.951231</td>\n",
       "      <td>-499.857027</td>\n",
       "      <td>18.019543</td>\n",
       "      <td>-500.451156</td>\n",
       "      <td>13.023431</td>\n",
       "      <td>-499.914391</td>\n",
       "      <td>19.990885</td>\n",
       "      <td>-501.518452</td>\n",
       "    </tr>\n",
       "    <tr>\n",
       "      <th>16858</th>\n",
       "      <td>98.880538</td>\n",
       "      <td>7.984164</td>\n",
       "      <td>6.50</td>\n",
       "      <td>1.241969</td>\n",
       "      <td>1646.547763</td>\n",
       "      <td>-398.977083</td>\n",
       "      <td>1648.212240</td>\n",
       "      <td>-400.383265</td>\n",
       "      <td>1648.917387</td>\n",
       "      <td>-399.521344</td>\n",
       "      <td>...</td>\n",
       "      <td>23.024963</td>\n",
       "      <td>-501.153409</td>\n",
       "      <td>20.054122</td>\n",
       "      <td>-500.314711</td>\n",
       "      <td>17.979515</td>\n",
       "      <td>-499.272871</td>\n",
       "      <td>12.992404</td>\n",
       "      <td>-499.976268</td>\n",
       "      <td>20.013986</td>\n",
       "      <td>-500.625471</td>\n",
       "    </tr>\n",
       "    <tr>\n",
       "      <th>16859</th>\n",
       "      <td>95.248427</td>\n",
       "      <td>8.078957</td>\n",
       "      <td>6.50</td>\n",
       "      <td>1.283045</td>\n",
       "      <td>1648.759906</td>\n",
       "      <td>-399.862053</td>\n",
       "      <td>1650.135395</td>\n",
       "      <td>-399.957321</td>\n",
       "      <td>1648.831890</td>\n",
       "      <td>-400.586116</td>\n",
       "      <td>...</td>\n",
       "      <td>23.018622</td>\n",
       "      <td>-500.492702</td>\n",
       "      <td>20.020205</td>\n",
       "      <td>-500.220296</td>\n",
       "      <td>17.963512</td>\n",
       "      <td>-499.939490</td>\n",
       "      <td>12.990306</td>\n",
       "      <td>-500.080993</td>\n",
       "      <td>19.990336</td>\n",
       "      <td>-499.191575</td>\n",
       "    </tr>\n",
       "  </tbody>\n",
       "</table>\n",
       "<p>16860 rows × 52 columns</p>\n",
       "</div>"
      ],
      "text/plain": [
       "       primary_cleaner.input.sulfate  primary_cleaner.input.depressant  \\\n",
       "0                         127.092003                         10.128295   \n",
       "1                         125.629232                         10.296251   \n",
       "2                         123.819808                         11.316280   \n",
       "3                         122.270188                         11.322140   \n",
       "4                         117.988169                         11.913613   \n",
       "...                              ...                               ...   \n",
       "16855                     123.381787                          8.028927   \n",
       "16856                     120.878188                          7.962636   \n",
       "16857                     105.666118                          7.955111   \n",
       "16858                      98.880538                          7.984164   \n",
       "16859                      95.248427                          8.078957   \n",
       "\n",
       "       primary_cleaner.input.feed_size  primary_cleaner.input.xanthate  \\\n",
       "0                                 7.25                        0.988759   \n",
       "1                                 7.25                        1.002663   \n",
       "2                                 7.25                        0.991265   \n",
       "3                                 7.25                        0.996739   \n",
       "4                                 7.25                        1.009869   \n",
       "...                                ...                             ...   \n",
       "16855                             6.50                        1.304232   \n",
       "16856                             6.50                        1.302419   \n",
       "16857                             6.50                        1.315926   \n",
       "16858                             6.50                        1.241969   \n",
       "16859                             6.50                        1.283045   \n",
       "\n",
       "       primary_cleaner.state.floatbank8_a_air  \\\n",
       "0                                 1549.775757   \n",
       "1                                 1576.166671   \n",
       "2                                 1601.556163   \n",
       "3                                 1599.968720   \n",
       "4                                 1601.339707   \n",
       "...                                       ...   \n",
       "16855                             1648.421193   \n",
       "16856                             1649.820162   \n",
       "16857                             1649.166761   \n",
       "16858                             1646.547763   \n",
       "16859                             1648.759906   \n",
       "\n",
       "       primary_cleaner.state.floatbank8_a_level  \\\n",
       "0                                   -498.912140   \n",
       "1                                   -500.904965   \n",
       "2                                   -499.997791   \n",
       "3                                   -500.951778   \n",
       "4                                   -498.975456   \n",
       "...                                         ...   \n",
       "16855                               -400.382169   \n",
       "16856                               -399.930973   \n",
       "16857                               -399.888631   \n",
       "16858                               -398.977083   \n",
       "16859                               -399.862053   \n",
       "\n",
       "       primary_cleaner.state.floatbank8_b_air  \\\n",
       "0                                 1551.434204   \n",
       "1                                 1575.950626   \n",
       "2                                 1600.386685   \n",
       "3                                 1600.659236   \n",
       "4                                 1601.437854   \n",
       "...                                       ...   \n",
       "16855                             1648.742005   \n",
       "16856                             1649.357538   \n",
       "16857                             1649.196904   \n",
       "16858                             1648.212240   \n",
       "16859                             1650.135395   \n",
       "\n",
       "       primary_cleaner.state.floatbank8_b_level  \\\n",
       "0                                   -516.403442   \n",
       "1                                   -499.865889   \n",
       "2                                   -500.607762   \n",
       "3                                   -499.677094   \n",
       "4                                   -500.323246   \n",
       "...                                         ...   \n",
       "16855                               -400.359661   \n",
       "16856                               -399.721222   \n",
       "16857                               -399.677571   \n",
       "16858                               -400.383265   \n",
       "16859                               -399.957321   \n",
       "\n",
       "       primary_cleaner.state.floatbank8_c_air  \\\n",
       "0                                 1549.873901   \n",
       "1                                 1575.994189   \n",
       "2                                 1602.003542   \n",
       "3                                 1600.304144   \n",
       "4                                 1599.581894   \n",
       "...                                       ...   \n",
       "16855                             1648.578230   \n",
       "16856                             1648.656192   \n",
       "16857                             1647.896999   \n",
       "16858                             1648.917387   \n",
       "16859                             1648.831890   \n",
       "\n",
       "       primary_cleaner.state.floatbank8_c_level  ...  \\\n",
       "0                                   -498.666595  ...   \n",
       "1                                   -499.315107  ...   \n",
       "2                                   -500.870069  ...   \n",
       "3                                   -500.727997  ...   \n",
       "4                                   -500.888152  ...   \n",
       "...                                         ...  ...   \n",
       "16855                               -399.363624  ...   \n",
       "16856                               -401.195834  ...   \n",
       "16857                               -399.988275  ...   \n",
       "16858                               -399.521344  ...   \n",
       "16859                               -400.586116  ...   \n",
       "\n",
       "       secondary_cleaner.state.floatbank4_a_air  \\\n",
       "0                                     14.016835   \n",
       "1                                     13.992281   \n",
       "2                                     14.015015   \n",
       "3                                     14.036510   \n",
       "4                                     14.027298   \n",
       "...                                         ...   \n",
       "16855                                 23.031497   \n",
       "16856                                 22.960095   \n",
       "16857                                 23.015718   \n",
       "16858                                 23.024963   \n",
       "16859                                 23.018622   \n",
       "\n",
       "       secondary_cleaner.state.floatbank4_a_level  \\\n",
       "0                                     -502.488007   \n",
       "1                                     -505.503262   \n",
       "2                                     -502.520901   \n",
       "3                                     -500.857308   \n",
       "4                                     -499.838632   \n",
       "...                                           ...   \n",
       "16855                                 -501.167942   \n",
       "16856                                 -501.612783   \n",
       "16857                                 -501.711599   \n",
       "16858                                 -501.153409   \n",
       "16859                                 -500.492702   \n",
       "\n",
       "       secondary_cleaner.state.floatbank4_b_air  \\\n",
       "0                                     12.099931   \n",
       "1                                     11.950531   \n",
       "2                                     11.912783   \n",
       "3                                     11.999550   \n",
       "4                                     11.953070   \n",
       "...                                         ...   \n",
       "16855                                 20.007571   \n",
       "16856                                 20.035660   \n",
       "16857                                 19.951231   \n",
       "16858                                 20.054122   \n",
       "16859                                 20.020205   \n",
       "\n",
       "       secondary_cleaner.state.floatbank4_b_level  \\\n",
       "0                                     -504.715942   \n",
       "1                                     -501.331529   \n",
       "2                                     -501.133383   \n",
       "3                                     -501.193686   \n",
       "4                                     -501.053894   \n",
       "...                                           ...   \n",
       "16855                                 -499.740028   \n",
       "16856                                 -500.251357   \n",
       "16857                                 -499.857027   \n",
       "16858                                 -500.314711   \n",
       "16859                                 -500.220296   \n",
       "\n",
       "       secondary_cleaner.state.floatbank5_a_air  \\\n",
       "0                                      9.925633   \n",
       "1                                     10.039245   \n",
       "2                                     10.070913   \n",
       "3                                      9.970366   \n",
       "4                                      9.925709   \n",
       "...                                         ...   \n",
       "16855                                 18.006038   \n",
       "16856                                 17.998535   \n",
       "16857                                 18.019543   \n",
       "16858                                 17.979515   \n",
       "16859                                 17.963512   \n",
       "\n",
       "       secondary_cleaner.state.floatbank5_a_level  \\\n",
       "0                                     -498.310211   \n",
       "1                                     -500.169983   \n",
       "2                                     -500.129135   \n",
       "3                                     -499.201640   \n",
       "4                                     -501.686727   \n",
       "...                                           ...   \n",
       "16855                                 -499.834374   \n",
       "16856                                 -500.395178   \n",
       "16857                                 -500.451156   \n",
       "16858                                 -499.272871   \n",
       "16859                                 -499.939490   \n",
       "\n",
       "       secondary_cleaner.state.floatbank5_b_air  \\\n",
       "0                                      8.079666   \n",
       "1                                      7.984757   \n",
       "2                                      8.013877   \n",
       "3                                      7.977324   \n",
       "4                                      7.894242   \n",
       "...                                         ...   \n",
       "16855                                 13.001114   \n",
       "16856                                 12.954048   \n",
       "16857                                 13.023431   \n",
       "16858                                 12.992404   \n",
       "16859                                 12.990306   \n",
       "\n",
       "       secondary_cleaner.state.floatbank5_b_level  \\\n",
       "0                                     -500.470978   \n",
       "1                                     -500.582168   \n",
       "2                                     -500.517572   \n",
       "3                                     -500.255908   \n",
       "4                                     -500.356035   \n",
       "...                                           ...   \n",
       "16855                                 -500.155694   \n",
       "16856                                 -499.895163   \n",
       "16857                                 -499.914391   \n",
       "16858                                 -499.976268   \n",
       "16859                                 -500.080993   \n",
       "\n",
       "       secondary_cleaner.state.floatbank6_a_air  \\\n",
       "0                                     14.151341   \n",
       "1                                     13.998353   \n",
       "2                                     14.028663   \n",
       "3                                     14.005551   \n",
       "4                                     13.996647   \n",
       "...                                         ...   \n",
       "16855                                 20.007840   \n",
       "16856                                 19.968498   \n",
       "16857                                 19.990885   \n",
       "16858                                 20.013986   \n",
       "16859                                 19.990336   \n",
       "\n",
       "       secondary_cleaner.state.floatbank6_a_level  \n",
       "0                                     -605.841980  \n",
       "1                                     -599.787184  \n",
       "2                                     -601.427363  \n",
       "3                                     -599.996129  \n",
       "4                                     -601.496691  \n",
       "...                                           ...  \n",
       "16855                                 -501.296428  \n",
       "16856                                 -501.041608  \n",
       "16857                                 -501.518452  \n",
       "16858                                 -500.625471  \n",
       "16859                                 -499.191575  \n",
       "\n",
       "[16860 rows x 52 columns]"
      ]
     },
     "execution_count": 35,
     "metadata": {},
     "output_type": "execute_result"
    }
   ],
   "source": [
    "features_train = features_train.drop(['date'],axis=1)\n",
    "features_train"
   ]
  },
  {
   "cell_type": "code",
   "execution_count": null,
   "metadata": {},
   "outputs": [],
   "source": []
  },
  {
   "cell_type": "code",
   "execution_count": null,
   "metadata": {},
   "outputs": [
    {
     "name": "stdout",
     "output_type": "stream",
     "text": [
      "Linear Regression sMAPE: 1.50%\n"
     ]
    }
   ],
   "source": [
    "models = {\n",
    "    'Linear Regression': LinearRegression(),\n",
    "    'Random Forest': RandomForestRegressor(random_state=42)\n",
    "}\n",
    "\n",
    "kf = KFold(n_splits=5, shuffle=True, random_state=42)\n",
    "\n",
    "results = {}\n",
    "for model_name, model in models.items():\n",
    "    smape_scores = []\n",
    "    for train_index, val_index in kf.split(features_train):\n",
    "        KFold_features_train, features_val = features_train.iloc[train_index], features_train.iloc[val_index]\n",
    "        KFold_target_train, target_val = target_train.iloc[train_index], target_train.iloc[val_index]\n",
    "        \n",
    "        model.fit(KFold_features_train, KFold_target_train)\n",
    "        predictions = model.predict(features_val)\n",
    "        smape_score = calculate_final_smape(np.array(target_val), predictions)\n",
    "        smape_scores.append(smape_score)\n",
    "        \n",
    "    results[model_name] = np.mean(smape_scores)\n",
    "    print(f\"{model_name} sMAPE: {np.mean(smape_scores):.2f}%\")"
   ]
  },
  {
   "cell_type": "markdown",
   "metadata": {},
   "source": [
    "<div class=\"alert alert-block alert-success\">\n",
    "<b>Reviewer's comment</b> <a class=\"tocSkip\"></a>\n",
    "\n",
    "Well done!\n",
    "</div>"
   ]
  },
  {
   "cell_type": "code",
   "execution_count": null,
   "metadata": {},
   "outputs": [],
   "source": [
    "best_model_name = min(results, key=results.get)\n",
    "best_model = models[best_model_name]\n",
    "\n",
    "print(f\"\\nBest model: {best_model_name}\")"
   ]
  },
  {
   "cell_type": "markdown",
   "metadata": {},
   "source": [
    "Conclusion:\n",
    "    \n",
    "After conducting a thorough evaluation of different models using cross-validation and the KFold method, we have the following findings: Random Forest Regressor: Due to its superior performance in both cross-validation and test set evaluation, the Random Forest Regressor is recommended for predicting recovery rates in new oil wells. This model is likely to provide more accurate and reliable predictions, aiding in better decision-making for oil well development.\n",
    "\n",
    "In summary, the Random Forest Regressor demonstrated the best performance in predicting recovery rates, making it the preferred model for deployment in the OilyGiant mining company's operations. This model's ability to generalize well on unseen data ensures robust predictions, ultimately supporting the company's goal of optimizing resource allocation and maximizing profitability."
   ]
  },
  {
   "cell_type": "markdown",
   "metadata": {},
   "source": [
    "<div class=\"alert alert-block alert-success\">\n",
    "<b>Reviewer's comment</b> <a class=\"tocSkip\"></a>\n",
    "\n",
    "Great final conclusion!\n",
    "</div>"
   ]
  },
  {
   "cell_type": "markdown",
   "metadata": {},
   "source": [
    "<div class=\"alert alert-block alert-success\">\n",
    "<b>Overall reviewer's comment</b> <a class=\"tocSkip\"></a>\n",
    "    \n",
    "Thank you for sending your project. You've done a really good job on it!\n",
    "\n",
    "While there's room for improvement, on the whole, your project is impressive good. I like code style - very high level! You did a great job!\n",
    "\n",
    "Your project has been accepted and you can go to the next sprint.\n",
    "</div>"
   ]
  },
  {
   "cell_type": "code",
   "execution_count": null,
   "metadata": {},
   "outputs": [],
   "source": []
  }
 ],
 "metadata": {
  "ExecuteTimeLog": [
   {
    "duration": 5130,
    "start_time": "2024-05-31T18:51:40.587Z"
   },
   {
    "duration": 471,
    "start_time": "2024-05-31T18:54:24.269Z"
   },
   {
    "duration": 118,
    "start_time": "2024-05-31T18:54:34.136Z"
   },
   {
    "duration": 410,
    "start_time": "2024-05-31T18:55:18.792Z"
   },
   {
    "duration": 102,
    "start_time": "2024-05-31T18:55:32.322Z"
   },
   {
    "duration": 489,
    "start_time": "2024-05-31T18:55:47.497Z"
   },
   {
    "duration": 348,
    "start_time": "2024-05-31T19:09:18.379Z"
   },
   {
    "duration": 102,
    "start_time": "2024-05-31T19:09:22.275Z"
   },
   {
    "duration": 422,
    "start_time": "2024-05-31T19:09:34.843Z"
   },
   {
    "duration": 268,
    "start_time": "2024-05-31T19:16:51.000Z"
   },
   {
    "duration": 5235,
    "start_time": "2024-05-31T21:38:03.117Z"
   },
   {
    "duration": 445,
    "start_time": "2024-05-31T21:38:08.356Z"
   },
   {
    "duration": 146,
    "start_time": "2024-05-31T21:38:08.803Z"
   },
   {
    "duration": 483,
    "start_time": "2024-05-31T21:38:08.954Z"
   },
   {
    "duration": 876,
    "start_time": "2024-05-31T21:38:09.443Z"
   },
   {
    "duration": 5285,
    "start_time": "2024-05-31T22:03:18.766Z"
   },
   {
    "duration": 435,
    "start_time": "2024-05-31T22:03:24.055Z"
   },
   {
    "duration": 159,
    "start_time": "2024-05-31T22:03:24.494Z"
   },
   {
    "duration": 521,
    "start_time": "2024-05-31T22:03:24.659Z"
   },
   {
    "duration": 751,
    "start_time": "2024-05-31T22:03:25.184Z"
   },
   {
    "duration": 9,
    "start_time": "2024-05-31T22:20:17.219Z"
   },
   {
    "duration": 9,
    "start_time": "2024-05-31T22:27:09.214Z"
   },
   {
    "duration": 5047,
    "start_time": "2024-06-01T17:35:34.384Z"
   },
   {
    "duration": 390,
    "start_time": "2024-06-01T17:35:39.435Z"
   },
   {
    "duration": 133,
    "start_time": "2024-06-01T17:35:39.830Z"
   },
   {
    "duration": 524,
    "start_time": "2024-06-01T17:35:39.966Z"
   },
   {
    "duration": 11,
    "start_time": "2024-06-01T17:35:40.493Z"
   },
   {
    "duration": 6,
    "start_time": "2024-06-01T17:41:49.586Z"
   },
   {
    "duration": 5,
    "start_time": "2024-06-01T17:42:01.118Z"
   },
   {
    "duration": 6,
    "start_time": "2024-06-01T17:42:27.532Z"
   },
   {
    "duration": 6,
    "start_time": "2024-06-01T17:47:39.264Z"
   },
   {
    "duration": 412,
    "start_time": "2024-06-01T17:51:44.650Z"
   },
   {
    "duration": 12,
    "start_time": "2024-06-01T17:51:52.401Z"
   },
   {
    "duration": 25,
    "start_time": "2024-06-01T17:56:21.310Z"
   },
   {
    "duration": 1070,
    "start_time": "2024-06-01T17:56:40.946Z"
   },
   {
    "duration": 11,
    "start_time": "2024-06-01T17:56:56.985Z"
   },
   {
    "duration": 72,
    "start_time": "2024-06-01T17:57:23.445Z"
   },
   {
    "duration": 6,
    "start_time": "2024-06-01T17:57:36.517Z"
   },
   {
    "duration": 3,
    "start_time": "2024-06-01T18:03:55.191Z"
   },
   {
    "duration": 6,
    "start_time": "2024-06-01T18:04:07.874Z"
   },
   {
    "duration": 7,
    "start_time": "2024-06-01T18:07:45.952Z"
   },
   {
    "duration": 5,
    "start_time": "2024-06-01T18:14:34.301Z"
   },
   {
    "duration": 559,
    "start_time": "2024-06-01T18:16:18.217Z"
   },
   {
    "duration": 453,
    "start_time": "2024-06-01T18:17:19.943Z"
   },
   {
    "duration": 451,
    "start_time": "2024-06-01T18:18:08.457Z"
   },
   {
    "duration": 5,
    "start_time": "2024-06-01T18:41:00.017Z"
   },
   {
    "duration": 1431,
    "start_time": "2024-06-01T18:43:15.046Z"
   },
   {
    "duration": 335,
    "start_time": "2024-06-01T18:43:16.481Z"
   },
   {
    "duration": 111,
    "start_time": "2024-06-01T18:43:16.819Z"
   },
   {
    "duration": 435,
    "start_time": "2024-06-01T18:43:16.934Z"
   },
   {
    "duration": 6,
    "start_time": "2024-06-01T18:43:17.373Z"
   },
   {
    "duration": 12,
    "start_time": "2024-06-01T18:43:17.382Z"
   },
   {
    "duration": 40,
    "start_time": "2024-06-01T18:43:17.397Z"
   },
   {
    "duration": 11,
    "start_time": "2024-06-01T18:43:17.442Z"
   },
   {
    "duration": 5,
    "start_time": "2024-06-01T18:43:17.456Z"
   },
   {
    "duration": 7,
    "start_time": "2024-06-01T18:43:17.464Z"
   },
   {
    "duration": 6,
    "start_time": "2024-06-01T18:43:17.474Z"
   },
   {
    "duration": 571,
    "start_time": "2024-06-01T18:43:17.483Z"
   },
   {
    "duration": 472,
    "start_time": "2024-06-01T18:43:18.058Z"
   },
   {
    "duration": 477,
    "start_time": "2024-06-01T18:43:18.536Z"
   },
   {
    "duration": 14,
    "start_time": "2024-06-01T18:43:19.017Z"
   },
   {
    "duration": 6,
    "start_time": "2024-06-01T18:43:33.468Z"
   },
   {
    "duration": 1065,
    "start_time": "2024-06-01T18:45:36.140Z"
   },
   {
    "duration": 5108,
    "start_time": "2024-06-01T19:36:41.480Z"
   },
   {
    "duration": 402,
    "start_time": "2024-06-01T19:36:46.592Z"
   },
   {
    "duration": 132,
    "start_time": "2024-06-01T19:36:46.997Z"
   },
   {
    "duration": 506,
    "start_time": "2024-06-01T19:36:47.133Z"
   },
   {
    "duration": 6,
    "start_time": "2024-06-01T19:36:47.643Z"
   },
   {
    "duration": 12,
    "start_time": "2024-06-01T19:36:47.652Z"
   },
   {
    "duration": 50,
    "start_time": "2024-06-01T19:36:47.667Z"
   },
   {
    "duration": 11,
    "start_time": "2024-06-01T19:36:47.720Z"
   },
   {
    "duration": 7,
    "start_time": "2024-06-01T19:36:47.734Z"
   },
   {
    "duration": 7,
    "start_time": "2024-06-01T19:36:47.748Z"
   },
   {
    "duration": 5,
    "start_time": "2024-06-01T19:36:47.760Z"
   },
   {
    "duration": 470,
    "start_time": "2024-06-01T19:36:47.814Z"
   },
   {
    "duration": 535,
    "start_time": "2024-06-01T19:36:48.287Z"
   },
   {
    "duration": 468,
    "start_time": "2024-06-01T19:36:48.825Z"
   },
   {
    "duration": 5,
    "start_time": "2024-06-01T19:36:49.296Z"
   },
   {
    "duration": 1075,
    "start_time": "2024-06-01T19:36:49.316Z"
   },
   {
    "duration": 25,
    "start_time": "2024-06-01T19:56:29.962Z"
   },
   {
    "duration": 271,
    "start_time": "2024-06-01T19:56:49.099Z"
   },
   {
    "duration": 244,
    "start_time": "2024-06-01T19:57:07.871Z"
   },
   {
    "duration": 238,
    "start_time": "2024-06-01T19:57:25.297Z"
   },
   {
    "duration": 279,
    "start_time": "2024-06-01T20:00:50.087Z"
   },
   {
    "duration": 263,
    "start_time": "2024-06-01T20:01:01.657Z"
   },
   {
    "duration": 273,
    "start_time": "2024-06-01T20:01:46.425Z"
   },
   {
    "duration": 267,
    "start_time": "2024-06-01T20:01:58.978Z"
   },
   {
    "duration": 355,
    "start_time": "2024-06-01T20:02:04.692Z"
   },
   {
    "duration": 6197,
    "start_time": "2024-06-02T00:19:24.499Z"
   },
   {
    "duration": 585,
    "start_time": "2024-06-02T00:19:30.701Z"
   },
   {
    "duration": 188,
    "start_time": "2024-06-02T00:19:31.290Z"
   },
   {
    "duration": 695,
    "start_time": "2024-06-02T00:19:31.484Z"
   },
   {
    "duration": 7,
    "start_time": "2024-06-02T00:19:32.183Z"
   },
   {
    "duration": 35,
    "start_time": "2024-06-02T00:19:32.193Z"
   },
   {
    "duration": 18,
    "start_time": "2024-06-02T00:19:32.232Z"
   },
   {
    "duration": 17,
    "start_time": "2024-06-02T00:19:32.254Z"
   },
   {
    "duration": 51,
    "start_time": "2024-06-02T00:19:32.275Z"
   },
   {
    "duration": 9,
    "start_time": "2024-06-02T00:19:32.333Z"
   },
   {
    "duration": 7,
    "start_time": "2024-06-02T00:19:32.347Z"
   },
   {
    "duration": 621,
    "start_time": "2024-06-02T00:19:32.357Z"
   },
   {
    "duration": 539,
    "start_time": "2024-06-02T00:19:32.983Z"
   },
   {
    "duration": 710,
    "start_time": "2024-06-02T00:19:33.530Z"
   },
   {
    "duration": 7,
    "start_time": "2024-06-02T00:19:34.246Z"
   },
   {
    "duration": 1214,
    "start_time": "2024-06-02T00:19:34.260Z"
   },
   {
    "duration": 27,
    "start_time": "2024-06-02T00:19:35.478Z"
   },
   {
    "duration": 305,
    "start_time": "2024-06-02T00:19:35.524Z"
   },
   {
    "duration": 305,
    "start_time": "2024-06-02T00:19:35.832Z"
   },
   {
    "duration": 331,
    "start_time": "2024-06-02T00:19:36.141Z"
   },
   {
    "duration": 5382,
    "start_time": "2024-06-02T00:50:57.419Z"
   },
   {
    "duration": 459,
    "start_time": "2024-06-02T00:51:02.805Z"
   },
   {
    "duration": 136,
    "start_time": "2024-06-02T00:51:03.268Z"
   },
   {
    "duration": 561,
    "start_time": "2024-06-02T00:51:03.409Z"
   },
   {
    "duration": 8,
    "start_time": "2024-06-02T00:51:03.972Z"
   },
   {
    "duration": 14,
    "start_time": "2024-06-02T00:51:03.983Z"
   },
   {
    "duration": 15,
    "start_time": "2024-06-02T00:51:04.024Z"
   },
   {
    "duration": 12,
    "start_time": "2024-06-02T00:51:04.042Z"
   },
   {
    "duration": 7,
    "start_time": "2024-06-02T00:51:04.057Z"
   },
   {
    "duration": 7,
    "start_time": "2024-06-02T00:51:04.069Z"
   },
   {
    "duration": 6,
    "start_time": "2024-06-02T00:51:04.124Z"
   },
   {
    "duration": 525,
    "start_time": "2024-06-02T00:51:04.134Z"
   },
   {
    "duration": 478,
    "start_time": "2024-06-02T00:51:04.664Z"
   },
   {
    "duration": 519,
    "start_time": "2024-06-02T00:51:05.146Z"
   },
   {
    "duration": 5,
    "start_time": "2024-06-02T00:51:05.668Z"
   },
   {
    "duration": 1252,
    "start_time": "2024-06-02T00:51:05.677Z"
   },
   {
    "duration": 32,
    "start_time": "2024-06-02T00:51:06.933Z"
   },
   {
    "duration": 322,
    "start_time": "2024-06-02T00:51:06.968Z"
   },
   {
    "duration": 315,
    "start_time": "2024-06-02T00:51:07.295Z"
   },
   {
    "duration": 317,
    "start_time": "2024-06-02T00:51:07.614Z"
   },
   {
    "duration": 423,
    "start_time": "2024-06-02T01:13:10.047Z"
   },
   {
    "duration": 7,
    "start_time": "2024-06-02T01:13:22.871Z"
   },
   {
    "duration": 4,
    "start_time": "2024-06-02T01:13:30.944Z"
   },
   {
    "duration": 3,
    "start_time": "2024-06-02T01:14:56.719Z"
   },
   {
    "duration": 26,
    "start_time": "2024-06-02T01:15:06.092Z"
   },
   {
    "duration": 7,
    "start_time": "2024-06-02T01:15:18.818Z"
   },
   {
    "duration": 4,
    "start_time": "2024-06-02T01:15:26.794Z"
   },
   {
    "duration": 39,
    "start_time": "2024-06-02T01:18:07.012Z"
   },
   {
    "duration": 12,
    "start_time": "2024-06-02T01:18:19.055Z"
   },
   {
    "duration": 6,
    "start_time": "2024-06-02T01:18:56.597Z"
   },
   {
    "duration": 7,
    "start_time": "2024-06-02T01:19:14.561Z"
   },
   {
    "duration": 12,
    "start_time": "2024-06-02T01:19:23.035Z"
   },
   {
    "duration": 693,
    "start_time": "2024-06-02T01:21:51.658Z"
   },
   {
    "duration": 12,
    "start_time": "2024-06-02T01:23:07.753Z"
   },
   {
    "duration": 10,
    "start_time": "2024-06-02T01:23:11.347Z"
   },
   {
    "duration": 8,
    "start_time": "2024-06-02T01:23:29.535Z"
   },
   {
    "duration": 6,
    "start_time": "2024-06-02T01:24:14.549Z"
   },
   {
    "duration": 1520,
    "start_time": "2024-06-02T01:25:11.110Z"
   },
   {
    "duration": 432,
    "start_time": "2024-06-02T01:25:12.635Z"
   },
   {
    "duration": 133,
    "start_time": "2024-06-02T01:25:13.071Z"
   },
   {
    "duration": 529,
    "start_time": "2024-06-02T01:25:13.210Z"
   },
   {
    "duration": 9,
    "start_time": "2024-06-02T01:25:13.742Z"
   },
   {
    "duration": 12,
    "start_time": "2024-06-02T01:25:13.756Z"
   },
   {
    "duration": 52,
    "start_time": "2024-06-02T01:25:13.771Z"
   },
   {
    "duration": 13,
    "start_time": "2024-06-02T01:25:13.826Z"
   },
   {
    "duration": 7,
    "start_time": "2024-06-02T01:25:13.842Z"
   },
   {
    "duration": 7,
    "start_time": "2024-06-02T01:25:13.855Z"
   },
   {
    "duration": 6,
    "start_time": "2024-06-02T01:25:13.866Z"
   },
   {
    "duration": 613,
    "start_time": "2024-06-02T01:25:13.876Z"
   },
   {
    "duration": 479,
    "start_time": "2024-06-02T01:25:14.492Z"
   },
   {
    "duration": 492,
    "start_time": "2024-06-02T01:25:14.974Z"
   },
   {
    "duration": 8,
    "start_time": "2024-06-02T01:25:15.469Z"
   },
   {
    "duration": 1135,
    "start_time": "2024-06-02T01:25:15.481Z"
   },
   {
    "duration": 31,
    "start_time": "2024-06-02T01:25:16.623Z"
   },
   {
    "duration": 298,
    "start_time": "2024-06-02T01:25:16.658Z"
   },
   {
    "duration": 284,
    "start_time": "2024-06-02T01:25:16.959Z"
   },
   {
    "duration": 298,
    "start_time": "2024-06-02T01:25:17.247Z"
   },
   {
    "duration": 5,
    "start_time": "2024-06-02T01:25:17.548Z"
   },
   {
    "duration": 4,
    "start_time": "2024-06-02T01:25:17.556Z"
   },
   {
    "duration": 19,
    "start_time": "2024-06-02T01:25:17.563Z"
   },
   {
    "duration": 5,
    "start_time": "2024-06-02T01:25:17.585Z"
   },
   {
    "duration": 14,
    "start_time": "2024-06-02T01:25:17.625Z"
   },
   {
    "duration": 10,
    "start_time": "2024-06-02T01:25:17.642Z"
   },
   {
    "duration": 6,
    "start_time": "2024-06-02T01:25:17.656Z"
   },
   {
    "duration": 1492,
    "start_time": "2024-06-02T01:35:35.176Z"
   },
   {
    "duration": 408,
    "start_time": "2024-06-02T01:35:36.672Z"
   },
   {
    "duration": 121,
    "start_time": "2024-06-02T01:35:37.083Z"
   },
   {
    "duration": 483,
    "start_time": "2024-06-02T01:35:37.207Z"
   },
   {
    "duration": 9,
    "start_time": "2024-06-02T01:35:37.694Z"
   },
   {
    "duration": 26,
    "start_time": "2024-06-02T01:35:37.706Z"
   },
   {
    "duration": 15,
    "start_time": "2024-06-02T01:35:37.735Z"
   },
   {
    "duration": 12,
    "start_time": "2024-06-02T01:35:37.754Z"
   },
   {
    "duration": 6,
    "start_time": "2024-06-02T01:35:37.770Z"
   },
   {
    "duration": 8,
    "start_time": "2024-06-02T01:35:37.824Z"
   },
   {
    "duration": 7,
    "start_time": "2024-06-02T01:35:37.834Z"
   },
   {
    "duration": 602,
    "start_time": "2024-06-02T01:35:37.844Z"
   },
   {
    "duration": 474,
    "start_time": "2024-06-02T01:35:38.449Z"
   },
   {
    "duration": 515,
    "start_time": "2024-06-02T01:35:38.931Z"
   },
   {
    "duration": 6,
    "start_time": "2024-06-02T01:35:39.449Z"
   },
   {
    "duration": 1153,
    "start_time": "2024-06-02T01:35:39.461Z"
   },
   {
    "duration": 31,
    "start_time": "2024-06-02T01:35:40.623Z"
   },
   {
    "duration": 303,
    "start_time": "2024-06-02T01:35:40.657Z"
   },
   {
    "duration": 307,
    "start_time": "2024-06-02T01:35:40.964Z"
   },
   {
    "duration": 318,
    "start_time": "2024-06-02T01:35:41.274Z"
   },
   {
    "duration": 4,
    "start_time": "2024-06-02T01:35:41.596Z"
   },
   {
    "duration": 18,
    "start_time": "2024-06-02T01:35:41.604Z"
   },
   {
    "duration": 22,
    "start_time": "2024-06-02T01:35:41.625Z"
   },
   {
    "duration": 7,
    "start_time": "2024-06-02T01:35:41.650Z"
   },
   {
    "duration": 11,
    "start_time": "2024-06-02T01:35:41.662Z"
   },
   {
    "duration": 11,
    "start_time": "2024-06-02T01:35:41.724Z"
   },
   {
    "duration": 7,
    "start_time": "2024-06-02T01:35:41.738Z"
   },
   {
    "duration": 9,
    "start_time": "2024-06-02T01:43:16.100Z"
   },
   {
    "duration": 6,
    "start_time": "2024-06-02T01:43:18.932Z"
   },
   {
    "duration": 1479,
    "start_time": "2024-06-02T01:58:34.471Z"
   },
   {
    "duration": 382,
    "start_time": "2024-06-02T01:58:35.954Z"
   },
   {
    "duration": 124,
    "start_time": "2024-06-02T01:58:36.340Z"
   },
   {
    "duration": 507,
    "start_time": "2024-06-02T01:58:36.468Z"
   },
   {
    "duration": 6,
    "start_time": "2024-06-02T01:58:36.980Z"
   },
   {
    "duration": 34,
    "start_time": "2024-06-02T01:58:36.989Z"
   },
   {
    "duration": 13,
    "start_time": "2024-06-02T01:58:37.026Z"
   },
   {
    "duration": 11,
    "start_time": "2024-06-02T01:58:37.041Z"
   },
   {
    "duration": 6,
    "start_time": "2024-06-02T01:58:37.055Z"
   },
   {
    "duration": 6,
    "start_time": "2024-06-02T01:58:37.065Z"
   },
   {
    "duration": 50,
    "start_time": "2024-06-02T01:58:37.074Z"
   },
   {
    "duration": 574,
    "start_time": "2024-06-02T01:58:37.128Z"
   },
   {
    "duration": 495,
    "start_time": "2024-06-02T01:58:37.706Z"
   },
   {
    "duration": 480,
    "start_time": "2024-06-02T01:58:38.208Z"
   },
   {
    "duration": 5,
    "start_time": "2024-06-02T01:58:38.691Z"
   },
   {
    "duration": 1134,
    "start_time": "2024-06-02T01:58:38.700Z"
   },
   {
    "duration": 30,
    "start_time": "2024-06-02T01:58:39.837Z"
   },
   {
    "duration": 325,
    "start_time": "2024-06-02T01:58:39.870Z"
   },
   {
    "duration": 302,
    "start_time": "2024-06-02T01:58:40.198Z"
   },
   {
    "duration": 282,
    "start_time": "2024-06-02T01:58:40.504Z"
   },
   {
    "duration": 3,
    "start_time": "2024-06-02T01:58:40.789Z"
   },
   {
    "duration": 26,
    "start_time": "2024-06-02T01:58:40.796Z"
   },
   {
    "duration": 20,
    "start_time": "2024-06-02T01:58:40.824Z"
   },
   {
    "duration": 7,
    "start_time": "2024-06-02T01:58:40.847Z"
   },
   {
    "duration": 9,
    "start_time": "2024-06-02T01:58:40.857Z"
   },
   {
    "duration": 10,
    "start_time": "2024-06-02T01:58:40.870Z"
   },
   {
    "duration": 44,
    "start_time": "2024-06-02T01:58:40.883Z"
   },
   {
    "duration": 5266,
    "start_time": "2024-06-02T16:41:27.128Z"
   },
   {
    "duration": 398,
    "start_time": "2024-06-02T16:41:32.398Z"
   },
   {
    "duration": 146,
    "start_time": "2024-06-02T16:41:32.800Z"
   },
   {
    "duration": 495,
    "start_time": "2024-06-02T16:41:32.952Z"
   },
   {
    "duration": 6,
    "start_time": "2024-06-02T16:41:33.452Z"
   },
   {
    "duration": 11,
    "start_time": "2024-06-02T16:41:33.461Z"
   },
   {
    "duration": 14,
    "start_time": "2024-06-02T16:41:33.475Z"
   },
   {
    "duration": 11,
    "start_time": "2024-06-02T16:41:33.532Z"
   },
   {
    "duration": 7,
    "start_time": "2024-06-02T16:41:33.545Z"
   },
   {
    "duration": 6,
    "start_time": "2024-06-02T16:41:33.556Z"
   },
   {
    "duration": 5,
    "start_time": "2024-06-02T16:41:33.565Z"
   },
   {
    "duration": 526,
    "start_time": "2024-06-02T16:41:33.574Z"
   },
   {
    "duration": 531,
    "start_time": "2024-06-02T16:41:34.103Z"
   },
   {
    "duration": 468,
    "start_time": "2024-06-02T16:41:34.640Z"
   },
   {
    "duration": 6,
    "start_time": "2024-06-02T16:41:35.111Z"
   },
   {
    "duration": 1067,
    "start_time": "2024-06-02T16:41:35.133Z"
   },
   {
    "duration": 40,
    "start_time": "2024-06-02T16:41:36.203Z"
   },
   {
    "duration": 289,
    "start_time": "2024-06-02T16:41:36.247Z"
   },
   {
    "duration": 279,
    "start_time": "2024-06-02T16:41:36.540Z"
   },
   {
    "duration": 279,
    "start_time": "2024-06-02T16:41:36.822Z"
   },
   {
    "duration": 4,
    "start_time": "2024-06-02T16:41:37.105Z"
   },
   {
    "duration": 19,
    "start_time": "2024-06-02T16:41:37.113Z"
   },
   {
    "duration": 28,
    "start_time": "2024-06-02T16:41:37.135Z"
   },
   {
    "duration": 7,
    "start_time": "2024-06-02T16:41:37.165Z"
   },
   {
    "duration": 11,
    "start_time": "2024-06-02T16:41:37.175Z"
   },
   {
    "duration": 46,
    "start_time": "2024-06-02T16:41:37.189Z"
   },
   {
    "duration": 5,
    "start_time": "2024-06-02T16:41:37.238Z"
   },
   {
    "duration": 6,
    "start_time": "2024-06-02T16:41:37.246Z"
   },
   {
    "duration": 6,
    "start_time": "2024-06-02T16:48:32.206Z"
   },
   {
    "duration": 6,
    "start_time": "2024-06-02T16:49:08.577Z"
   },
   {
    "duration": 6,
    "start_time": "2024-06-02T16:49:54.482Z"
   },
   {
    "duration": 7,
    "start_time": "2024-06-02T16:49:58.687Z"
   },
   {
    "duration": 11,
    "start_time": "2024-06-02T16:50:47.253Z"
   },
   {
    "duration": 11,
    "start_time": "2024-06-02T16:51:14.958Z"
   },
   {
    "duration": 1443,
    "start_time": "2024-06-02T16:51:40.402Z"
   },
   {
    "duration": 346,
    "start_time": "2024-06-02T16:51:41.849Z"
   },
   {
    "duration": 115,
    "start_time": "2024-06-02T16:51:42.197Z"
   },
   {
    "duration": 453,
    "start_time": "2024-06-02T16:51:42.318Z"
   },
   {
    "duration": 7,
    "start_time": "2024-06-02T16:51:42.773Z"
   },
   {
    "duration": 12,
    "start_time": "2024-06-02T16:51:42.783Z"
   },
   {
    "duration": 41,
    "start_time": "2024-06-02T16:51:42.798Z"
   },
   {
    "duration": 11,
    "start_time": "2024-06-02T16:51:42.841Z"
   },
   {
    "duration": 7,
    "start_time": "2024-06-02T16:51:42.854Z"
   },
   {
    "duration": 7,
    "start_time": "2024-06-02T16:51:42.866Z"
   },
   {
    "duration": 4,
    "start_time": "2024-06-02T16:51:42.877Z"
   },
   {
    "duration": 580,
    "start_time": "2024-06-02T16:51:42.884Z"
   },
   {
    "duration": 461,
    "start_time": "2024-06-02T16:51:43.467Z"
   },
   {
    "duration": 487,
    "start_time": "2024-06-02T16:51:43.934Z"
   },
   {
    "duration": 9,
    "start_time": "2024-06-02T16:51:44.424Z"
   },
   {
    "duration": 1081,
    "start_time": "2024-06-02T16:51:44.436Z"
   },
   {
    "duration": 29,
    "start_time": "2024-06-02T16:51:45.521Z"
   },
   {
    "duration": 284,
    "start_time": "2024-06-02T16:51:45.553Z"
   },
   {
    "duration": 285,
    "start_time": "2024-06-02T16:51:45.840Z"
   },
   {
    "duration": 273,
    "start_time": "2024-06-02T16:51:46.127Z"
   },
   {
    "duration": 7,
    "start_time": "2024-06-02T16:51:46.402Z"
   },
   {
    "duration": 4,
    "start_time": "2024-06-02T16:51:46.412Z"
   },
   {
    "duration": 18,
    "start_time": "2024-06-02T16:51:46.434Z"
   },
   {
    "duration": 7,
    "start_time": "2024-06-02T16:51:46.455Z"
   },
   {
    "duration": 9,
    "start_time": "2024-06-02T16:51:46.465Z"
   },
   {
    "duration": 10,
    "start_time": "2024-06-02T16:51:46.477Z"
   },
   {
    "duration": 47,
    "start_time": "2024-06-02T16:51:46.490Z"
   },
   {
    "duration": 5,
    "start_time": "2024-06-02T16:51:46.543Z"
   },
   {
    "duration": 6,
    "start_time": "2024-06-02T16:51:46.552Z"
   },
   {
    "duration": 8,
    "start_time": "2024-06-02T16:51:46.561Z"
   },
   {
    "duration": 12,
    "start_time": "2024-06-02T16:51:46.572Z"
   },
   {
    "duration": 50,
    "start_time": "2024-06-02T16:51:46.586Z"
   },
   {
    "duration": 5109,
    "start_time": "2024-06-02T19:07:12.648Z"
   },
   {
    "duration": 419,
    "start_time": "2024-06-02T19:07:17.761Z"
   },
   {
    "duration": 135,
    "start_time": "2024-06-02T19:07:18.183Z"
   },
   {
    "duration": 512,
    "start_time": "2024-06-02T19:07:18.322Z"
   },
   {
    "duration": 7,
    "start_time": "2024-06-02T19:07:18.839Z"
   },
   {
    "duration": 14,
    "start_time": "2024-06-02T19:07:18.849Z"
   },
   {
    "duration": 16,
    "start_time": "2024-06-02T19:07:18.866Z"
   },
   {
    "duration": 52,
    "start_time": "2024-06-02T19:07:18.886Z"
   },
   {
    "duration": 6,
    "start_time": "2024-06-02T19:07:18.941Z"
   },
   {
    "duration": 7,
    "start_time": "2024-06-02T19:07:18.950Z"
   },
   {
    "duration": 6,
    "start_time": "2024-06-02T19:07:18.960Z"
   },
   {
    "duration": 509,
    "start_time": "2024-06-02T19:07:18.970Z"
   },
   {
    "duration": 536,
    "start_time": "2024-06-02T19:07:19.482Z"
   },
   {
    "duration": 460,
    "start_time": "2024-06-02T19:07:20.030Z"
   },
   {
    "duration": 5,
    "start_time": "2024-06-02T19:07:20.494Z"
   },
   {
    "duration": 1102,
    "start_time": "2024-06-02T19:07:20.502Z"
   },
   {
    "duration": 37,
    "start_time": "2024-06-02T19:07:21.608Z"
   },
   {
    "duration": 293,
    "start_time": "2024-06-02T19:07:21.648Z"
   },
   {
    "duration": 317,
    "start_time": "2024-06-02T19:07:21.945Z"
   },
   {
    "duration": 289,
    "start_time": "2024-06-02T19:07:22.265Z"
   },
   {
    "duration": 3,
    "start_time": "2024-06-02T19:07:22.557Z"
   },
   {
    "duration": 4,
    "start_time": "2024-06-02T19:07:22.563Z"
   },
   {
    "duration": 19,
    "start_time": "2024-06-02T19:07:22.570Z"
   },
   {
    "duration": 38,
    "start_time": "2024-06-02T19:07:22.594Z"
   },
   {
    "duration": 11,
    "start_time": "2024-06-02T19:07:22.635Z"
   },
   {
    "duration": 10,
    "start_time": "2024-06-02T19:07:22.648Z"
   },
   {
    "duration": 6,
    "start_time": "2024-06-02T19:07:22.661Z"
   },
   {
    "duration": 6,
    "start_time": "2024-06-02T19:07:22.670Z"
   },
   {
    "duration": 55,
    "start_time": "2024-06-02T19:07:22.680Z"
   },
   {
    "duration": 7,
    "start_time": "2024-06-02T19:07:22.741Z"
   },
   {
    "duration": 11,
    "start_time": "2024-06-02T19:07:22.751Z"
   },
   {
    "duration": 6,
    "start_time": "2024-06-02T19:07:22.765Z"
   },
   {
    "duration": 7,
    "start_time": "2024-06-02T19:32:48.376Z"
   },
   {
    "duration": 6,
    "start_time": "2024-06-02T19:36:13.521Z"
   },
   {
    "duration": 8,
    "start_time": "2024-06-02T19:36:16.185Z"
   },
   {
    "duration": 11,
    "start_time": "2024-06-02T19:36:17.377Z"
   },
   {
    "duration": 5,
    "start_time": "2024-06-02T19:36:17.908Z"
   },
   {
    "duration": 5,
    "start_time": "2024-06-02T19:36:56.400Z"
   },
   {
    "duration": 6,
    "start_time": "2024-06-02T19:36:58.058Z"
   },
   {
    "duration": 7,
    "start_time": "2024-06-02T19:36:58.560Z"
   },
   {
    "duration": 11,
    "start_time": "2024-06-02T19:36:59.233Z"
   },
   {
    "duration": 5,
    "start_time": "2024-06-02T19:37:00.578Z"
   },
   {
    "duration": 1413,
    "start_time": "2024-06-02T19:37:21.985Z"
   },
   {
    "duration": 351,
    "start_time": "2024-06-02T19:37:23.401Z"
   },
   {
    "duration": 110,
    "start_time": "2024-06-02T19:37:23.755Z"
   },
   {
    "duration": 450,
    "start_time": "2024-06-02T19:37:23.870Z"
   },
   {
    "duration": 9,
    "start_time": "2024-06-02T19:37:24.323Z"
   },
   {
    "duration": 13,
    "start_time": "2024-06-02T19:37:24.335Z"
   },
   {
    "duration": 13,
    "start_time": "2024-06-02T19:37:24.350Z"
   },
   {
    "duration": 12,
    "start_time": "2024-06-02T19:37:24.366Z"
   },
   {
    "duration": 55,
    "start_time": "2024-06-02T19:37:24.380Z"
   },
   {
    "duration": 6,
    "start_time": "2024-06-02T19:37:24.441Z"
   },
   {
    "duration": 6,
    "start_time": "2024-06-02T19:37:24.450Z"
   },
   {
    "duration": 556,
    "start_time": "2024-06-02T19:37:24.459Z"
   },
   {
    "duration": 479,
    "start_time": "2024-06-02T19:37:25.018Z"
   },
   {
    "duration": 487,
    "start_time": "2024-06-02T19:37:25.500Z"
   },
   {
    "duration": 5,
    "start_time": "2024-06-02T19:37:25.990Z"
   },
   {
    "duration": 1103,
    "start_time": "2024-06-02T19:37:25.999Z"
   },
   {
    "duration": 37,
    "start_time": "2024-06-02T19:37:27.105Z"
   },
   {
    "duration": 272,
    "start_time": "2024-06-02T19:37:27.144Z"
   },
   {
    "duration": 283,
    "start_time": "2024-06-02T19:37:27.419Z"
   },
   {
    "duration": 288,
    "start_time": "2024-06-02T19:37:27.705Z"
   },
   {
    "duration": 4,
    "start_time": "2024-06-02T19:37:27.996Z"
   },
   {
    "duration": 4,
    "start_time": "2024-06-02T19:37:28.003Z"
   },
   {
    "duration": 19,
    "start_time": "2024-06-02T19:37:28.031Z"
   },
   {
    "duration": 6,
    "start_time": "2024-06-02T19:37:28.052Z"
   },
   {
    "duration": 14,
    "start_time": "2024-06-02T19:37:28.061Z"
   },
   {
    "duration": 8,
    "start_time": "2024-06-02T19:37:28.078Z"
   },
   {
    "duration": 49,
    "start_time": "2024-06-02T19:37:28.089Z"
   },
   {
    "duration": 6,
    "start_time": "2024-06-02T19:37:28.146Z"
   },
   {
    "duration": 6,
    "start_time": "2024-06-02T19:37:28.155Z"
   },
   {
    "duration": 8,
    "start_time": "2024-06-02T19:37:28.165Z"
   },
   {
    "duration": 55,
    "start_time": "2024-06-02T19:37:28.176Z"
   },
   {
    "duration": 4,
    "start_time": "2024-06-02T19:37:28.234Z"
   },
   {
    "duration": 5,
    "start_time": "2024-06-02T19:48:51.848Z"
   },
   {
    "duration": 6,
    "start_time": "2024-06-02T19:48:52.465Z"
   },
   {
    "duration": 7,
    "start_time": "2024-06-02T19:48:53.431Z"
   },
   {
    "duration": 11,
    "start_time": "2024-06-02T19:48:54.139Z"
   },
   {
    "duration": 4,
    "start_time": "2024-06-02T19:48:54.918Z"
   },
   {
    "duration": 1443,
    "start_time": "2024-06-02T19:49:19.009Z"
   },
   {
    "duration": 337,
    "start_time": "2024-06-02T19:49:20.456Z"
   },
   {
    "duration": 108,
    "start_time": "2024-06-02T19:49:20.796Z"
   },
   {
    "duration": 436,
    "start_time": "2024-06-02T19:49:20.907Z"
   },
   {
    "duration": 7,
    "start_time": "2024-06-02T19:49:21.347Z"
   },
   {
    "duration": 12,
    "start_time": "2024-06-02T19:49:21.356Z"
   },
   {
    "duration": 12,
    "start_time": "2024-06-02T19:49:21.371Z"
   },
   {
    "duration": 51,
    "start_time": "2024-06-02T19:49:21.386Z"
   },
   {
    "duration": 5,
    "start_time": "2024-06-02T19:49:21.440Z"
   },
   {
    "duration": 7,
    "start_time": "2024-06-02T19:49:21.448Z"
   },
   {
    "duration": 5,
    "start_time": "2024-06-02T19:49:21.459Z"
   },
   {
    "duration": 590,
    "start_time": "2024-06-02T19:49:21.468Z"
   },
   {
    "duration": 493,
    "start_time": "2024-06-02T19:49:22.061Z"
   },
   {
    "duration": 475,
    "start_time": "2024-06-02T19:49:22.561Z"
   },
   {
    "duration": 5,
    "start_time": "2024-06-02T19:49:23.040Z"
   },
   {
    "duration": 1148,
    "start_time": "2024-06-02T19:49:23.050Z"
   },
   {
    "duration": 35,
    "start_time": "2024-06-02T19:49:24.202Z"
   },
   {
    "duration": 277,
    "start_time": "2024-06-02T19:49:24.240Z"
   },
   {
    "duration": 284,
    "start_time": "2024-06-02T19:49:24.524Z"
   },
   {
    "duration": 275,
    "start_time": "2024-06-02T19:49:24.812Z"
   },
   {
    "duration": 4,
    "start_time": "2024-06-02T19:49:25.090Z"
   },
   {
    "duration": 4,
    "start_time": "2024-06-02T19:49:25.098Z"
   },
   {
    "duration": 43,
    "start_time": "2024-06-02T19:49:25.104Z"
   },
   {
    "duration": 7,
    "start_time": "2024-06-02T19:49:25.149Z"
   },
   {
    "duration": 10,
    "start_time": "2024-06-02T19:49:25.159Z"
   },
   {
    "duration": 10,
    "start_time": "2024-06-02T19:49:25.173Z"
   },
   {
    "duration": 48,
    "start_time": "2024-06-02T19:49:25.185Z"
   },
   {
    "duration": 5,
    "start_time": "2024-06-02T19:49:25.236Z"
   },
   {
    "duration": 7,
    "start_time": "2024-06-02T19:49:25.244Z"
   },
   {
    "duration": 7,
    "start_time": "2024-06-02T19:49:25.254Z"
   },
   {
    "duration": 14,
    "start_time": "2024-06-02T19:49:25.264Z"
   },
   {
    "duration": 49,
    "start_time": "2024-06-02T19:49:25.281Z"
   },
   {
    "duration": 4,
    "start_time": "2024-06-02T19:50:17.635Z"
   },
   {
    "duration": 4,
    "start_time": "2024-06-02T19:50:17.964Z"
   },
   {
    "duration": 13,
    "start_time": "2024-06-02T19:50:18.321Z"
   },
   {
    "duration": 6,
    "start_time": "2024-06-02T19:50:18.691Z"
   },
   {
    "duration": 11,
    "start_time": "2024-06-02T19:50:19.035Z"
   },
   {
    "duration": 11,
    "start_time": "2024-06-02T19:50:19.421Z"
   },
   {
    "duration": 5,
    "start_time": "2024-06-02T19:50:20.020Z"
   },
   {
    "duration": 4,
    "start_time": "2024-06-02T19:50:20.496Z"
   },
   {
    "duration": 5,
    "start_time": "2024-06-02T19:50:20.960Z"
   },
   {
    "duration": 7,
    "start_time": "2024-06-02T19:50:21.570Z"
   },
   {
    "duration": 26,
    "start_time": "2024-06-02T19:50:22.260Z"
   },
   {
    "duration": 5,
    "start_time": "2024-06-02T19:50:23.359Z"
   },
   {
    "duration": 495,
    "start_time": "2024-06-02T19:51:18.714Z"
   },
   {
    "duration": 7,
    "start_time": "2024-06-02T19:51:48.011Z"
   },
   {
    "duration": 4,
    "start_time": "2024-06-02T19:52:58.784Z"
   },
   {
    "duration": 29,
    "start_time": "2024-06-02T19:53:39.420Z"
   },
   {
    "duration": 5469,
    "start_time": "2024-06-03T00:29:05.459Z"
   },
   {
    "duration": 455,
    "start_time": "2024-06-03T00:29:10.935Z"
   },
   {
    "duration": 175,
    "start_time": "2024-06-03T00:29:11.393Z"
   },
   {
    "duration": 754,
    "start_time": "2024-06-03T00:29:11.575Z"
   },
   {
    "duration": 8,
    "start_time": "2024-06-03T00:29:12.333Z"
   },
   {
    "duration": 16,
    "start_time": "2024-06-03T00:29:12.345Z"
   },
   {
    "duration": 18,
    "start_time": "2024-06-03T00:29:12.365Z"
   },
   {
    "duration": 47,
    "start_time": "2024-06-03T00:29:12.387Z"
   },
   {
    "duration": 12,
    "start_time": "2024-06-03T00:29:12.437Z"
   },
   {
    "duration": 8,
    "start_time": "2024-06-03T00:29:12.458Z"
   },
   {
    "duration": 7,
    "start_time": "2024-06-03T00:29:12.470Z"
   },
   {
    "duration": 536,
    "start_time": "2024-06-03T00:29:12.483Z"
   },
   {
    "duration": 560,
    "start_time": "2024-06-03T00:29:13.026Z"
   },
   {
    "duration": 528,
    "start_time": "2024-06-03T00:29:13.593Z"
   },
   {
    "duration": 6,
    "start_time": "2024-06-03T00:29:14.127Z"
   },
   {
    "duration": 1193,
    "start_time": "2024-06-03T00:29:14.136Z"
   },
   {
    "duration": 29,
    "start_time": "2024-06-03T00:29:15.333Z"
   },
   {
    "duration": 321,
    "start_time": "2024-06-03T00:29:15.365Z"
   },
   {
    "duration": 304,
    "start_time": "2024-06-03T00:29:15.689Z"
   },
   {
    "duration": 321,
    "start_time": "2024-06-03T00:29:15.997Z"
   },
   {
    "duration": 4,
    "start_time": "2024-06-03T00:29:16.326Z"
   },
   {
    "duration": 4,
    "start_time": "2024-06-03T00:29:16.334Z"
   },
   {
    "duration": 19,
    "start_time": "2024-06-03T00:29:16.343Z"
   },
   {
    "duration": 7,
    "start_time": "2024-06-03T00:29:16.366Z"
   },
   {
    "duration": 52,
    "start_time": "2024-06-03T00:29:16.377Z"
   },
   {
    "duration": 10,
    "start_time": "2024-06-03T00:29:16.433Z"
   },
   {
    "duration": 7,
    "start_time": "2024-06-03T00:29:16.446Z"
   },
   {
    "duration": 6,
    "start_time": "2024-06-03T00:29:16.460Z"
   },
   {
    "duration": 56,
    "start_time": "2024-06-03T00:29:16.470Z"
   },
   {
    "duration": 8,
    "start_time": "2024-06-03T00:29:16.529Z"
   },
   {
    "duration": 14,
    "start_time": "2024-06-03T00:29:16.540Z"
   },
   {
    "duration": 5,
    "start_time": "2024-06-03T00:29:16.558Z"
   },
   {
    "duration": 5,
    "start_time": "2024-06-03T00:29:16.567Z"
   },
   {
    "duration": 479,
    "start_time": "2024-06-03T00:29:16.576Z"
   },
   {
    "duration": 14,
    "start_time": "2024-06-03T00:40:28.237Z"
   },
   {
    "duration": 5,
    "start_time": "2024-06-03T00:40:45.611Z"
   },
   {
    "duration": 4,
    "start_time": "2024-06-03T00:40:46.052Z"
   },
   {
    "duration": 27,
    "start_time": "2024-06-03T00:40:46.506Z"
   },
   {
    "duration": 27,
    "start_time": "2024-06-03T00:42:03.502Z"
   },
   {
    "duration": 409,
    "start_time": "2024-06-03T00:43:27.478Z"
   },
   {
    "duration": 135,
    "start_time": "2024-06-03T00:44:28.373Z"
   },
   {
    "duration": 4,
    "start_time": "2024-06-03T00:45:28.823Z"
   },
   {
    "duration": 27,
    "start_time": "2024-06-03T00:45:30.929Z"
   },
   {
    "duration": 7,
    "start_time": "2024-06-03T01:02:25.778Z"
   },
   {
    "duration": 6,
    "start_time": "2024-06-03T01:02:45.820Z"
   },
   {
    "duration": 5,
    "start_time": "2024-06-03T01:02:46.496Z"
   },
   {
    "duration": 24,
    "start_time": "2024-06-03T01:03:49.410Z"
   },
   {
    "duration": 29,
    "start_time": "2024-06-03T01:04:01.277Z"
   },
   {
    "duration": 25,
    "start_time": "2024-06-03T01:04:02.051Z"
   },
   {
    "duration": 5,
    "start_time": "2024-06-03T01:04:07.593Z"
   },
   {
    "duration": 5,
    "start_time": "2024-06-03T01:04:08.215Z"
   },
   {
    "duration": 6,
    "start_time": "2024-06-03T01:04:08.794Z"
   },
   {
    "duration": 9,
    "start_time": "2024-06-03T01:04:09.405Z"
   },
   {
    "duration": 5,
    "start_time": "2024-06-03T01:04:10.223Z"
   },
   {
    "duration": 1554,
    "start_time": "2024-06-03T01:06:07.298Z"
   },
   {
    "duration": 356,
    "start_time": "2024-06-03T01:06:08.856Z"
   },
   {
    "duration": 115,
    "start_time": "2024-06-03T01:06:09.215Z"
   },
   {
    "duration": 473,
    "start_time": "2024-06-03T01:06:09.335Z"
   },
   {
    "duration": 17,
    "start_time": "2024-06-03T01:06:09.811Z"
   },
   {
    "duration": 12,
    "start_time": "2024-06-03T01:06:09.833Z"
   },
   {
    "duration": 14,
    "start_time": "2024-06-03T01:06:09.848Z"
   },
   {
    "duration": 13,
    "start_time": "2024-06-03T01:06:09.866Z"
   },
   {
    "duration": 47,
    "start_time": "2024-06-03T01:06:09.883Z"
   },
   {
    "duration": 7,
    "start_time": "2024-06-03T01:06:09.936Z"
   },
   {
    "duration": 5,
    "start_time": "2024-06-03T01:06:09.946Z"
   },
   {
    "duration": 573,
    "start_time": "2024-06-03T01:06:09.954Z"
   },
   {
    "duration": 472,
    "start_time": "2024-06-03T01:06:10.530Z"
   },
   {
    "duration": 486,
    "start_time": "2024-06-03T01:06:11.005Z"
   },
   {
    "duration": 6,
    "start_time": "2024-06-03T01:06:11.496Z"
   },
   {
    "duration": 1103,
    "start_time": "2024-06-03T01:06:11.505Z"
   },
   {
    "duration": 27,
    "start_time": "2024-06-03T01:06:12.612Z"
   },
   {
    "duration": 311,
    "start_time": "2024-06-03T01:06:12.642Z"
   },
   {
    "duration": 297,
    "start_time": "2024-06-03T01:06:12.956Z"
   },
   {
    "duration": 286,
    "start_time": "2024-06-03T01:06:13.256Z"
   },
   {
    "duration": 4,
    "start_time": "2024-06-03T01:06:13.545Z"
   },
   {
    "duration": 5,
    "start_time": "2024-06-03T01:06:13.552Z"
   },
   {
    "duration": 17,
    "start_time": "2024-06-03T01:06:13.560Z"
   },
   {
    "duration": 47,
    "start_time": "2024-06-03T01:06:13.580Z"
   },
   {
    "duration": 9,
    "start_time": "2024-06-03T01:06:13.630Z"
   },
   {
    "duration": 8,
    "start_time": "2024-06-03T01:06:13.643Z"
   },
   {
    "duration": 6,
    "start_time": "2024-06-03T01:06:13.655Z"
   },
   {
    "duration": 6,
    "start_time": "2024-06-03T01:06:13.668Z"
   },
   {
    "duration": 49,
    "start_time": "2024-06-03T01:06:13.678Z"
   },
   {
    "duration": 6,
    "start_time": "2024-06-03T01:06:13.731Z"
   },
   {
    "duration": 9,
    "start_time": "2024-06-03T01:06:13.740Z"
   },
   {
    "duration": 5,
    "start_time": "2024-06-03T01:06:13.752Z"
   },
   {
    "duration": 5,
    "start_time": "2024-06-03T01:06:13.763Z"
   },
   {
    "duration": 4,
    "start_time": "2024-06-03T01:06:13.771Z"
   },
   {
    "duration": 522,
    "start_time": "2024-06-03T01:06:13.825Z"
   },
   {
    "duration": 5,
    "start_time": "2024-06-03T01:26:49.167Z"
   },
   {
    "duration": 5,
    "start_time": "2024-06-03T01:26:49.606Z"
   },
   {
    "duration": 6,
    "start_time": "2024-06-03T01:26:50.671Z"
   },
   {
    "duration": 5,
    "start_time": "2024-06-03T01:26:52.127Z"
   },
   {
    "duration": 6,
    "start_time": "2024-06-03T01:26:53.002Z"
   },
   {
    "duration": 5,
    "start_time": "2024-06-03T01:27:22.397Z"
   },
   {
    "duration": 6,
    "start_time": "2024-06-03T01:27:23.533Z"
   },
   {
    "duration": 6,
    "start_time": "2024-06-03T01:28:32.726Z"
   },
   {
    "duration": 1639,
    "start_time": "2024-06-03T01:31:25.604Z"
   },
   {
    "duration": 487,
    "start_time": "2024-06-03T01:31:27.247Z"
   },
   {
    "duration": 144,
    "start_time": "2024-06-03T01:31:27.738Z"
   },
   {
    "duration": 616,
    "start_time": "2024-06-03T01:31:27.886Z"
   },
   {
    "duration": 8,
    "start_time": "2024-06-03T01:31:28.509Z"
   },
   {
    "duration": 13,
    "start_time": "2024-06-03T01:31:28.528Z"
   },
   {
    "duration": 13,
    "start_time": "2024-06-03T01:31:28.545Z"
   },
   {
    "duration": 11,
    "start_time": "2024-06-03T01:31:28.561Z"
   },
   {
    "duration": 51,
    "start_time": "2024-06-03T01:31:28.575Z"
   },
   {
    "duration": 11,
    "start_time": "2024-06-03T01:31:28.630Z"
   },
   {
    "duration": 7,
    "start_time": "2024-06-03T01:31:28.643Z"
   },
   {
    "duration": 673,
    "start_time": "2024-06-03T01:31:28.653Z"
   },
   {
    "duration": 546,
    "start_time": "2024-06-03T01:31:29.330Z"
   },
   {
    "duration": 517,
    "start_time": "2024-06-03T01:31:29.885Z"
   },
   {
    "duration": 7,
    "start_time": "2024-06-03T01:31:30.405Z"
   },
   {
    "duration": 1110,
    "start_time": "2024-06-03T01:31:30.427Z"
   },
   {
    "duration": 27,
    "start_time": "2024-06-03T01:31:31.540Z"
   },
   {
    "duration": 303,
    "start_time": "2024-06-03T01:31:31.570Z"
   },
   {
    "duration": 295,
    "start_time": "2024-06-03T01:31:31.876Z"
   },
   {
    "duration": 286,
    "start_time": "2024-06-03T01:31:32.174Z"
   },
   {
    "duration": 4,
    "start_time": "2024-06-03T01:31:32.463Z"
   },
   {
    "duration": 4,
    "start_time": "2024-06-03T01:31:32.472Z"
   },
   {
    "duration": 51,
    "start_time": "2024-06-03T01:31:32.480Z"
   },
   {
    "duration": 6,
    "start_time": "2024-06-03T01:31:32.535Z"
   },
   {
    "duration": 10,
    "start_time": "2024-06-03T01:31:32.544Z"
   },
   {
    "duration": 10,
    "start_time": "2024-06-03T01:31:32.558Z"
   },
   {
    "duration": 54,
    "start_time": "2024-06-03T01:31:32.572Z"
   },
   {
    "duration": 8,
    "start_time": "2024-06-03T01:31:32.629Z"
   },
   {
    "duration": 6,
    "start_time": "2024-06-03T01:31:32.640Z"
   },
   {
    "duration": 5,
    "start_time": "2024-06-03T01:31:32.650Z"
   },
   {
    "duration": 5,
    "start_time": "2024-06-03T01:31:32.659Z"
   },
   {
    "duration": 563,
    "start_time": "2024-06-03T01:31:32.667Z"
   },
   {
    "duration": 0,
    "start_time": "2024-06-03T01:31:33.233Z"
   },
   {
    "duration": 0,
    "start_time": "2024-06-03T01:31:33.235Z"
   },
   {
    "duration": 0,
    "start_time": "2024-06-03T01:31:33.237Z"
   },
   {
    "duration": 5,
    "start_time": "2024-06-03T01:32:19.644Z"
   },
   {
    "duration": 5,
    "start_time": "2024-06-03T01:32:20.000Z"
   },
   {
    "duration": 6,
    "start_time": "2024-06-03T01:32:20.520Z"
   },
   {
    "duration": 5,
    "start_time": "2024-06-03T01:32:20.991Z"
   },
   {
    "duration": 29,
    "start_time": "2024-06-03T01:32:21.486Z"
   },
   {
    "duration": 6,
    "start_time": "2024-06-03T01:33:13.829Z"
   },
   {
    "duration": 4,
    "start_time": "2024-06-03T01:33:14.503Z"
   },
   {
    "duration": 5,
    "start_time": "2024-06-03T01:33:15.352Z"
   },
   {
    "duration": 8,
    "start_time": "2024-06-03T01:33:16.547Z"
   },
   {
    "duration": 35,
    "start_time": "2024-06-03T01:33:17.605Z"
   },
   {
    "duration": 4,
    "start_time": "2024-06-03T01:33:19.778Z"
   },
   {
    "duration": 6,
    "start_time": "2024-06-03T01:33:24.480Z"
   },
   {
    "duration": 35,
    "start_time": "2024-06-03T01:33:25.016Z"
   },
   {
    "duration": 1678,
    "start_time": "2024-06-03T01:34:24.691Z"
   },
   {
    "duration": 426,
    "start_time": "2024-06-03T01:34:26.377Z"
   },
   {
    "duration": 119,
    "start_time": "2024-06-03T01:34:26.806Z"
   },
   {
    "duration": 463,
    "start_time": "2024-06-03T01:34:26.929Z"
   },
   {
    "duration": 7,
    "start_time": "2024-06-03T01:34:27.396Z"
   },
   {
    "duration": 28,
    "start_time": "2024-06-03T01:34:27.406Z"
   },
   {
    "duration": 17,
    "start_time": "2024-06-03T01:34:27.437Z"
   },
   {
    "duration": 12,
    "start_time": "2024-06-03T01:34:27.457Z"
   },
   {
    "duration": 53,
    "start_time": "2024-06-03T01:34:27.473Z"
   },
   {
    "duration": 10,
    "start_time": "2024-06-03T01:34:27.531Z"
   },
   {
    "duration": 6,
    "start_time": "2024-06-03T01:34:27.544Z"
   },
   {
    "duration": 648,
    "start_time": "2024-06-03T01:34:27.555Z"
   },
   {
    "duration": 546,
    "start_time": "2024-06-03T01:34:28.209Z"
   },
   {
    "duration": 610,
    "start_time": "2024-06-03T01:34:28.764Z"
   },
   {
    "duration": 7,
    "start_time": "2024-06-03T01:34:29.378Z"
   },
   {
    "duration": 1190,
    "start_time": "2024-06-03T01:34:29.389Z"
   },
   {
    "duration": 34,
    "start_time": "2024-06-03T01:34:30.584Z"
   },
   {
    "duration": 358,
    "start_time": "2024-06-03T01:34:30.622Z"
   },
   {
    "duration": 348,
    "start_time": "2024-06-03T01:34:30.984Z"
   },
   {
    "duration": 407,
    "start_time": "2024-06-03T01:34:31.340Z"
   },
   {
    "duration": 9,
    "start_time": "2024-06-03T01:34:31.755Z"
   },
   {
    "duration": 5,
    "start_time": "2024-06-03T01:34:31.768Z"
   },
   {
    "duration": 20,
    "start_time": "2024-06-03T01:34:31.776Z"
   },
   {
    "duration": 6,
    "start_time": "2024-06-03T01:34:31.827Z"
   },
   {
    "duration": 12,
    "start_time": "2024-06-03T01:34:31.837Z"
   },
   {
    "duration": 12,
    "start_time": "2024-06-03T01:34:31.852Z"
   },
   {
    "duration": 6,
    "start_time": "2024-06-03T01:34:31.867Z"
   },
   {
    "duration": 52,
    "start_time": "2024-06-03T01:34:31.876Z"
   },
   {
    "duration": 5,
    "start_time": "2024-06-03T01:34:31.933Z"
   },
   {
    "duration": 6,
    "start_time": "2024-06-03T01:34:31.942Z"
   },
   {
    "duration": 7,
    "start_time": "2024-06-03T01:34:31.952Z"
   },
   {
    "duration": 582,
    "start_time": "2024-06-03T01:34:31.964Z"
   },
   {
    "duration": 0,
    "start_time": "2024-06-03T01:34:32.550Z"
   },
   {
    "duration": 0,
    "start_time": "2024-06-03T01:34:32.554Z"
   },
   {
    "duration": 1,
    "start_time": "2024-06-03T01:34:32.557Z"
   },
   {
    "duration": 31,
    "start_time": "2024-06-03T01:35:49.470Z"
   },
   {
    "duration": 5,
    "start_time": "2024-06-03T01:35:56.292Z"
   },
   {
    "duration": 4,
    "start_time": "2024-06-03T01:37:56.160Z"
   },
   {
    "duration": 5,
    "start_time": "2024-06-03T01:37:58.650Z"
   },
   {
    "duration": 7,
    "start_time": "2024-06-03T01:37:59.158Z"
   },
   {
    "duration": 5,
    "start_time": "2024-06-03T01:37:59.672Z"
   },
   {
    "duration": 6,
    "start_time": "2024-06-03T01:38:01.036Z"
   },
   {
    "duration": 1565,
    "start_time": "2024-06-03T01:38:17.630Z"
   },
   {
    "duration": 417,
    "start_time": "2024-06-03T01:38:19.199Z"
   },
   {
    "duration": 120,
    "start_time": "2024-06-03T01:38:19.619Z"
   },
   {
    "duration": 537,
    "start_time": "2024-06-03T01:38:19.743Z"
   },
   {
    "duration": 7,
    "start_time": "2024-06-03T01:38:20.283Z"
   },
   {
    "duration": 34,
    "start_time": "2024-06-03T01:38:20.294Z"
   },
   {
    "duration": 14,
    "start_time": "2024-06-03T01:38:20.331Z"
   },
   {
    "duration": 11,
    "start_time": "2024-06-03T01:38:20.349Z"
   },
   {
    "duration": 7,
    "start_time": "2024-06-03T01:38:20.363Z"
   },
   {
    "duration": 54,
    "start_time": "2024-06-03T01:38:20.376Z"
   },
   {
    "duration": 6,
    "start_time": "2024-06-03T01:38:20.433Z"
   },
   {
    "duration": 574,
    "start_time": "2024-06-03T01:38:20.443Z"
   },
   {
    "duration": 493,
    "start_time": "2024-06-03T01:38:21.027Z"
   },
   {
    "duration": 491,
    "start_time": "2024-06-03T01:38:21.528Z"
   },
   {
    "duration": 6,
    "start_time": "2024-06-03T01:38:22.025Z"
   },
   {
    "duration": 1080,
    "start_time": "2024-06-03T01:38:22.034Z"
   },
   {
    "duration": 32,
    "start_time": "2024-06-03T01:38:23.118Z"
   },
   {
    "duration": 311,
    "start_time": "2024-06-03T01:38:23.153Z"
   },
   {
    "duration": 307,
    "start_time": "2024-06-03T01:38:23.468Z"
   },
   {
    "duration": 291,
    "start_time": "2024-06-03T01:38:23.778Z"
   },
   {
    "duration": 4,
    "start_time": "2024-06-03T01:38:24.072Z"
   },
   {
    "duration": 5,
    "start_time": "2024-06-03T01:38:24.079Z"
   },
   {
    "duration": 51,
    "start_time": "2024-06-03T01:38:24.088Z"
   },
   {
    "duration": 7,
    "start_time": "2024-06-03T01:38:24.142Z"
   },
   {
    "duration": 11,
    "start_time": "2024-06-03T01:38:24.152Z"
   },
   {
    "duration": 9,
    "start_time": "2024-06-03T01:38:24.166Z"
   },
   {
    "duration": 49,
    "start_time": "2024-06-03T01:38:24.178Z"
   },
   {
    "duration": 4,
    "start_time": "2024-06-03T01:38:24.234Z"
   },
   {
    "duration": 4,
    "start_time": "2024-06-03T01:38:24.243Z"
   },
   {
    "duration": 11,
    "start_time": "2024-06-03T01:38:24.251Z"
   },
   {
    "duration": 8,
    "start_time": "2024-06-03T01:38:24.266Z"
   },
   {
    "duration": 5,
    "start_time": "2024-06-03T01:38:24.277Z"
   },
   {
    "duration": 7,
    "start_time": "2024-06-03T01:38:24.327Z"
   },
   {
    "duration": 4,
    "start_time": "2024-06-03T01:38:24.338Z"
   },
   {
    "duration": 4,
    "start_time": "2024-06-03T01:38:24.345Z"
   },
   {
    "duration": 563,
    "start_time": "2024-06-03T01:38:24.352Z"
   },
   {
    "duration": 1541,
    "start_time": "2024-06-03T01:41:13.833Z"
   },
   {
    "duration": 392,
    "start_time": "2024-06-03T01:41:15.378Z"
   },
   {
    "duration": 145,
    "start_time": "2024-06-03T01:41:15.773Z"
   },
   {
    "duration": 445,
    "start_time": "2024-06-03T01:41:15.925Z"
   },
   {
    "duration": 6,
    "start_time": "2024-06-03T01:41:16.373Z"
   },
   {
    "duration": 11,
    "start_time": "2024-06-03T01:41:16.383Z"
   },
   {
    "duration": 14,
    "start_time": "2024-06-03T01:41:16.425Z"
   },
   {
    "duration": 11,
    "start_time": "2024-06-03T01:41:16.442Z"
   },
   {
    "duration": 7,
    "start_time": "2024-06-03T01:41:16.455Z"
   },
   {
    "duration": 8,
    "start_time": "2024-06-03T01:41:16.470Z"
   },
   {
    "duration": 5,
    "start_time": "2024-06-03T01:41:16.526Z"
   },
   {
    "duration": 564,
    "start_time": "2024-06-03T01:41:16.535Z"
   },
   {
    "duration": 485,
    "start_time": "2024-06-03T01:41:17.103Z"
   },
   {
    "duration": 511,
    "start_time": "2024-06-03T01:41:17.592Z"
   },
   {
    "duration": 16,
    "start_time": "2024-06-03T01:41:18.110Z"
   },
   {
    "duration": 1086,
    "start_time": "2024-06-03T01:41:18.130Z"
   },
   {
    "duration": 29,
    "start_time": "2024-06-03T01:41:19.227Z"
   },
   {
    "duration": 301,
    "start_time": "2024-06-03T01:41:19.261Z"
   },
   {
    "duration": 299,
    "start_time": "2024-06-03T01:41:19.565Z"
   },
   {
    "duration": 297,
    "start_time": "2024-06-03T01:41:19.868Z"
   },
   {
    "duration": 5,
    "start_time": "2024-06-03T01:41:20.170Z"
   },
   {
    "duration": 7,
    "start_time": "2024-06-03T01:41:20.179Z"
   },
   {
    "duration": 45,
    "start_time": "2024-06-03T01:41:20.190Z"
   },
   {
    "duration": 9,
    "start_time": "2024-06-03T01:41:20.239Z"
   },
   {
    "duration": 12,
    "start_time": "2024-06-03T01:41:20.251Z"
   },
   {
    "duration": 12,
    "start_time": "2024-06-03T01:41:20.267Z"
   },
   {
    "duration": 45,
    "start_time": "2024-06-03T01:41:20.282Z"
   },
   {
    "duration": 6,
    "start_time": "2024-06-03T01:41:20.334Z"
   },
   {
    "duration": 5,
    "start_time": "2024-06-03T01:41:20.343Z"
   },
   {
    "duration": 7,
    "start_time": "2024-06-03T01:41:20.352Z"
   },
   {
    "duration": 6,
    "start_time": "2024-06-03T01:41:20.363Z"
   },
   {
    "duration": 53,
    "start_time": "2024-06-03T01:41:20.374Z"
   },
   {
    "duration": 7,
    "start_time": "2024-06-03T01:41:20.431Z"
   },
   {
    "duration": 6,
    "start_time": "2024-06-03T01:41:20.442Z"
   },
   {
    "duration": 5,
    "start_time": "2024-06-03T01:41:20.451Z"
   },
   {
    "duration": 598,
    "start_time": "2024-06-03T01:41:20.460Z"
   },
   {
    "duration": 4,
    "start_time": "2024-06-03T01:44:04.675Z"
   },
   {
    "duration": 29,
    "start_time": "2024-06-03T01:48:27.879Z"
   },
   {
    "duration": 5501,
    "start_time": "2024-06-03T05:37:59.639Z"
   },
   {
    "duration": 458,
    "start_time": "2024-06-03T05:38:05.144Z"
   },
   {
    "duration": 152,
    "start_time": "2024-06-03T05:38:05.606Z"
   },
   {
    "duration": 569,
    "start_time": "2024-06-03T05:38:05.761Z"
   },
   {
    "duration": 8,
    "start_time": "2024-06-03T05:38:06.335Z"
   },
   {
    "duration": 13,
    "start_time": "2024-06-03T05:38:06.347Z"
   },
   {
    "duration": 13,
    "start_time": "2024-06-03T05:38:06.364Z"
   },
   {
    "duration": 50,
    "start_time": "2024-06-03T05:38:06.383Z"
   },
   {
    "duration": 7,
    "start_time": "2024-06-03T05:38:06.436Z"
   },
   {
    "duration": 8,
    "start_time": "2024-06-03T05:38:06.447Z"
   },
   {
    "duration": 6,
    "start_time": "2024-06-03T05:38:06.459Z"
   },
   {
    "duration": 587,
    "start_time": "2024-06-03T05:38:06.469Z"
   },
   {
    "duration": 536,
    "start_time": "2024-06-03T05:38:07.059Z"
   },
   {
    "duration": 612,
    "start_time": "2024-06-03T05:38:07.604Z"
   },
   {
    "duration": 15,
    "start_time": "2024-06-03T05:38:08.220Z"
   },
   {
    "duration": 1079,
    "start_time": "2024-06-03T05:38:08.238Z"
   },
   {
    "duration": 35,
    "start_time": "2024-06-03T05:38:09.321Z"
   },
   {
    "duration": 317,
    "start_time": "2024-06-03T05:38:09.358Z"
   },
   {
    "duration": 285,
    "start_time": "2024-06-03T05:38:09.679Z"
   },
   {
    "duration": 366,
    "start_time": "2024-06-03T05:38:09.967Z"
   },
   {
    "duration": 4,
    "start_time": "2024-06-03T05:38:10.337Z"
   },
   {
    "duration": 4,
    "start_time": "2024-06-03T05:38:10.345Z"
   },
   {
    "duration": 19,
    "start_time": "2024-06-03T05:38:10.353Z"
   },
   {
    "duration": 6,
    "start_time": "2024-06-03T05:38:10.374Z"
   },
   {
    "duration": 51,
    "start_time": "2024-06-03T05:38:10.387Z"
   },
   {
    "duration": 9,
    "start_time": "2024-06-03T05:38:10.441Z"
   },
   {
    "duration": 6,
    "start_time": "2024-06-03T05:38:10.453Z"
   },
   {
    "duration": 6,
    "start_time": "2024-06-03T05:38:10.462Z"
   },
   {
    "duration": 7,
    "start_time": "2024-06-03T05:38:10.471Z"
   },
   {
    "duration": 51,
    "start_time": "2024-06-03T05:38:10.483Z"
   },
   {
    "duration": 6,
    "start_time": "2024-06-03T05:38:10.537Z"
   },
   {
    "duration": 6,
    "start_time": "2024-06-03T05:38:10.545Z"
   },
   {
    "duration": 6,
    "start_time": "2024-06-03T05:38:10.554Z"
   },
   {
    "duration": 4,
    "start_time": "2024-06-03T05:38:10.563Z"
   },
   {
    "duration": 466,
    "start_time": "2024-06-03T05:38:10.570Z"
   },
   {
    "duration": 52,
    "start_time": "2024-06-03T06:06:38.801Z"
   },
   {
    "duration": 55,
    "start_time": "2024-06-03T06:07:35.515Z"
   },
   {
    "duration": 500,
    "start_time": "2024-06-03T06:07:52.464Z"
   },
   {
    "duration": 7,
    "start_time": "2024-06-03T06:09:41.273Z"
   },
   {
    "duration": 112,
    "start_time": "2024-06-03T06:09:41.612Z"
   },
   {
    "duration": 5235,
    "start_time": "2024-06-03T19:13:10.010Z"
   },
   {
    "duration": 406,
    "start_time": "2024-06-03T19:13:15.249Z"
   },
   {
    "duration": 138,
    "start_time": "2024-06-03T19:13:15.658Z"
   },
   {
    "duration": 512,
    "start_time": "2024-06-03T19:13:15.799Z"
   },
   {
    "duration": 17,
    "start_time": "2024-06-03T19:13:16.315Z"
   },
   {
    "duration": 12,
    "start_time": "2024-06-03T19:13:16.336Z"
   },
   {
    "duration": 14,
    "start_time": "2024-06-03T19:13:16.351Z"
   },
   {
    "duration": 39,
    "start_time": "2024-06-03T19:13:16.368Z"
   },
   {
    "duration": 6,
    "start_time": "2024-06-03T19:13:16.410Z"
   },
   {
    "duration": 8,
    "start_time": "2024-06-03T19:13:16.419Z"
   },
   {
    "duration": 5,
    "start_time": "2024-06-03T19:13:16.431Z"
   },
   {
    "duration": 514,
    "start_time": "2024-06-03T19:13:16.440Z"
   },
   {
    "duration": 470,
    "start_time": "2024-06-03T19:13:16.957Z"
   },
   {
    "duration": 563,
    "start_time": "2024-06-03T19:13:17.434Z"
   },
   {
    "duration": 8,
    "start_time": "2024-06-03T19:13:18.000Z"
   },
   {
    "duration": 1079,
    "start_time": "2024-06-03T19:13:18.012Z"
   },
   {
    "duration": 30,
    "start_time": "2024-06-03T19:13:19.095Z"
   },
   {
    "duration": 284,
    "start_time": "2024-06-03T19:13:19.127Z"
   },
   {
    "duration": 288,
    "start_time": "2024-06-03T19:13:19.413Z"
   },
   {
    "duration": 272,
    "start_time": "2024-06-03T19:13:19.707Z"
   },
   {
    "duration": 4,
    "start_time": "2024-06-03T19:13:19.982Z"
   },
   {
    "duration": 3,
    "start_time": "2024-06-03T19:13:20.006Z"
   },
   {
    "duration": 17,
    "start_time": "2024-06-03T19:13:20.012Z"
   },
   {
    "duration": 5,
    "start_time": "2024-06-03T19:13:20.034Z"
   },
   {
    "duration": 9,
    "start_time": "2024-06-03T19:13:20.043Z"
   },
   {
    "duration": 51,
    "start_time": "2024-06-03T19:13:20.055Z"
   },
   {
    "duration": 5,
    "start_time": "2024-06-03T19:13:20.110Z"
   },
   {
    "duration": 6,
    "start_time": "2024-06-03T19:13:20.118Z"
   },
   {
    "duration": 4,
    "start_time": "2024-06-03T19:13:20.127Z"
   },
   {
    "duration": 6,
    "start_time": "2024-06-03T19:13:20.135Z"
   },
   {
    "duration": 5,
    "start_time": "2024-06-03T19:13:20.143Z"
   },
   {
    "duration": 53,
    "start_time": "2024-06-03T19:13:20.153Z"
   },
   {
    "duration": 5,
    "start_time": "2024-06-03T19:13:20.210Z"
   },
   {
    "duration": 5,
    "start_time": "2024-06-03T19:13:20.219Z"
   },
   {
    "duration": 790,
    "start_time": "2024-06-03T19:13:20.227Z"
   },
   {
    "duration": 28,
    "start_time": "2024-06-03T19:16:16.000Z"
   },
   {
    "duration": 68,
    "start_time": "2024-06-03T19:16:41.055Z"
   },
   {
    "duration": 27,
    "start_time": "2024-06-03T19:16:42.242Z"
   },
   {
    "duration": 25,
    "start_time": "2024-06-03T19:16:44.346Z"
   },
   {
    "duration": 641,
    "start_time": "2024-06-03T19:30:40.149Z"
   },
   {
    "duration": 38,
    "start_time": "2024-06-03T19:33:44.735Z"
   },
   {
    "duration": 1345,
    "start_time": "2024-06-03T19:34:44.984Z"
   },
   {
    "duration": 38,
    "start_time": "2024-06-03T19:35:17.596Z"
   },
   {
    "duration": 637,
    "start_time": "2024-06-03T19:35:25.995Z"
   },
   {
    "duration": 7,
    "start_time": "2024-06-03T19:35:44.044Z"
   },
   {
    "duration": 1568,
    "start_time": "2024-06-03T19:36:00.374Z"
   },
   {
    "duration": 372,
    "start_time": "2024-06-03T19:36:01.945Z"
   },
   {
    "duration": 125,
    "start_time": "2024-06-03T19:36:02.320Z"
   },
   {
    "duration": 432,
    "start_time": "2024-06-03T19:36:02.449Z"
   },
   {
    "duration": 7,
    "start_time": "2024-06-03T19:36:02.885Z"
   },
   {
    "duration": 11,
    "start_time": "2024-06-03T19:36:02.908Z"
   },
   {
    "duration": 12,
    "start_time": "2024-06-03T19:36:02.922Z"
   },
   {
    "duration": 11,
    "start_time": "2024-06-03T19:36:02.937Z"
   },
   {
    "duration": 55,
    "start_time": "2024-06-03T19:36:02.951Z"
   },
   {
    "duration": 10,
    "start_time": "2024-06-03T19:36:03.012Z"
   },
   {
    "duration": 6,
    "start_time": "2024-06-03T19:36:03.026Z"
   },
   {
    "duration": 554,
    "start_time": "2024-06-03T19:36:03.035Z"
   },
   {
    "duration": 457,
    "start_time": "2024-06-03T19:36:03.592Z"
   },
   {
    "duration": 480,
    "start_time": "2024-06-03T19:36:04.052Z"
   },
   {
    "duration": 6,
    "start_time": "2024-06-03T19:36:04.535Z"
   },
   {
    "duration": 1127,
    "start_time": "2024-06-03T19:36:04.544Z"
   },
   {
    "duration": 41,
    "start_time": "2024-06-03T19:36:05.675Z"
   },
   {
    "duration": 267,
    "start_time": "2024-06-03T19:36:05.719Z"
   },
   {
    "duration": 286,
    "start_time": "2024-06-03T19:36:05.989Z"
   },
   {
    "duration": 279,
    "start_time": "2024-06-03T19:36:06.278Z"
   },
   {
    "duration": 4,
    "start_time": "2024-06-03T19:36:06.561Z"
   },
   {
    "duration": 5,
    "start_time": "2024-06-03T19:36:06.568Z"
   },
   {
    "duration": 44,
    "start_time": "2024-06-03T19:36:06.576Z"
   },
   {
    "duration": 6,
    "start_time": "2024-06-03T19:36:06.623Z"
   },
   {
    "duration": 10,
    "start_time": "2024-06-03T19:36:06.631Z"
   },
   {
    "duration": 9,
    "start_time": "2024-06-03T19:36:06.644Z"
   },
   {
    "duration": 49,
    "start_time": "2024-06-03T19:36:06.656Z"
   },
   {
    "duration": 5,
    "start_time": "2024-06-03T19:36:06.714Z"
   },
   {
    "duration": 5,
    "start_time": "2024-06-03T19:36:06.722Z"
   },
   {
    "duration": 5,
    "start_time": "2024-06-03T19:36:06.730Z"
   },
   {
    "duration": 6,
    "start_time": "2024-06-03T19:36:06.737Z"
   },
   {
    "duration": 7,
    "start_time": "2024-06-03T19:36:06.746Z"
   },
   {
    "duration": 8,
    "start_time": "2024-06-03T19:36:06.755Z"
   },
   {
    "duration": 5,
    "start_time": "2024-06-03T19:36:06.807Z"
   },
   {
    "duration": 7,
    "start_time": "2024-06-03T19:36:06.815Z"
   },
   {
    "duration": 1476,
    "start_time": "2024-06-03T19:38:03.120Z"
   },
   {
    "duration": 338,
    "start_time": "2024-06-03T19:38:04.600Z"
   },
   {
    "duration": 111,
    "start_time": "2024-06-03T19:38:04.941Z"
   },
   {
    "duration": 419,
    "start_time": "2024-06-03T19:38:05.056Z"
   },
   {
    "duration": 6,
    "start_time": "2024-06-03T19:38:05.479Z"
   },
   {
    "duration": 25,
    "start_time": "2024-06-03T19:38:05.488Z"
   },
   {
    "duration": 13,
    "start_time": "2024-06-03T19:38:05.515Z"
   },
   {
    "duration": 10,
    "start_time": "2024-06-03T19:38:05.531Z"
   },
   {
    "duration": 6,
    "start_time": "2024-06-03T19:38:05.543Z"
   },
   {
    "duration": 53,
    "start_time": "2024-06-03T19:38:05.555Z"
   },
   {
    "duration": 5,
    "start_time": "2024-06-03T19:38:05.611Z"
   },
   {
    "duration": 549,
    "start_time": "2024-06-03T19:38:05.620Z"
   },
   {
    "duration": 454,
    "start_time": "2024-06-03T19:38:06.172Z"
   },
   {
    "duration": 480,
    "start_time": "2024-06-03T19:38:06.629Z"
   },
   {
    "duration": 5,
    "start_time": "2024-06-03T19:38:07.112Z"
   },
   {
    "duration": 1154,
    "start_time": "2024-06-03T19:38:07.120Z"
   },
   {
    "duration": 39,
    "start_time": "2024-06-03T19:38:08.277Z"
   },
   {
    "duration": 280,
    "start_time": "2024-06-03T19:38:08.320Z"
   },
   {
    "duration": 290,
    "start_time": "2024-06-03T19:38:08.602Z"
   },
   {
    "duration": 312,
    "start_time": "2024-06-03T19:38:08.896Z"
   },
   {
    "duration": 3,
    "start_time": "2024-06-03T19:38:09.212Z"
   },
   {
    "duration": 4,
    "start_time": "2024-06-03T19:38:09.219Z"
   },
   {
    "duration": 18,
    "start_time": "2024-06-03T19:38:09.226Z"
   },
   {
    "duration": 6,
    "start_time": "2024-06-03T19:38:09.247Z"
   },
   {
    "duration": 53,
    "start_time": "2024-06-03T19:38:09.255Z"
   },
   {
    "duration": 9,
    "start_time": "2024-06-03T19:38:09.311Z"
   },
   {
    "duration": 5,
    "start_time": "2024-06-03T19:38:09.323Z"
   },
   {
    "duration": 5,
    "start_time": "2024-06-03T19:38:09.336Z"
   },
   {
    "duration": 4,
    "start_time": "2024-06-03T19:38:09.344Z"
   },
   {
    "duration": 56,
    "start_time": "2024-06-03T19:38:09.351Z"
   },
   {
    "duration": 10,
    "start_time": "2024-06-03T19:38:09.409Z"
   },
   {
    "duration": 7,
    "start_time": "2024-06-03T19:38:09.422Z"
   },
   {
    "duration": 5,
    "start_time": "2024-06-03T19:38:09.433Z"
   },
   {
    "duration": 5,
    "start_time": "2024-06-03T19:38:09.442Z"
   },
   {
    "duration": 7,
    "start_time": "2024-06-03T19:38:09.450Z"
   },
   {
    "duration": 5,
    "start_time": "2024-06-03T19:47:44.106Z"
   },
   {
    "duration": 430,
    "start_time": "2024-06-03T19:47:44.114Z"
   },
   {
    "duration": 0,
    "start_time": "2024-06-03T19:47:44.550Z"
   },
   {
    "duration": 0,
    "start_time": "2024-06-03T19:47:44.558Z"
   },
   {
    "duration": 5971,
    "start_time": "2024-06-03T21:23:27.827Z"
   },
   {
    "duration": 540,
    "start_time": "2024-06-03T21:23:33.803Z"
   },
   {
    "duration": 155,
    "start_time": "2024-06-03T21:23:34.347Z"
   },
   {
    "duration": 712,
    "start_time": "2024-06-03T21:23:34.506Z"
   },
   {
    "duration": 7,
    "start_time": "2024-06-03T21:23:35.228Z"
   },
   {
    "duration": 15,
    "start_time": "2024-06-03T21:23:35.242Z"
   },
   {
    "duration": 15,
    "start_time": "2024-06-03T21:23:35.261Z"
   },
   {
    "duration": 14,
    "start_time": "2024-06-03T21:23:35.324Z"
   },
   {
    "duration": 8,
    "start_time": "2024-06-03T21:23:35.342Z"
   },
   {
    "duration": 10,
    "start_time": "2024-06-03T21:23:35.355Z"
   },
   {
    "duration": 5,
    "start_time": "2024-06-03T21:23:35.369Z"
   },
   {
    "duration": 561,
    "start_time": "2024-06-03T21:23:35.425Z"
   },
   {
    "duration": 511,
    "start_time": "2024-06-03T21:23:35.990Z"
   },
   {
    "duration": 648,
    "start_time": "2024-06-03T21:23:36.509Z"
   },
   {
    "duration": 7,
    "start_time": "2024-06-03T21:23:37.161Z"
   },
   {
    "duration": 1160,
    "start_time": "2024-06-03T21:23:37.173Z"
   },
   {
    "duration": 32,
    "start_time": "2024-06-03T21:23:38.337Z"
   },
   {
    "duration": 305,
    "start_time": "2024-06-03T21:23:38.373Z"
   },
   {
    "duration": 304,
    "start_time": "2024-06-03T21:23:38.682Z"
   },
   {
    "duration": 308,
    "start_time": "2024-06-03T21:23:38.990Z"
   },
   {
    "duration": 21,
    "start_time": "2024-06-03T21:23:39.302Z"
   },
   {
    "duration": 5,
    "start_time": "2024-06-03T21:23:39.327Z"
   },
   {
    "duration": 23,
    "start_time": "2024-06-03T21:23:39.336Z"
   },
   {
    "duration": 7,
    "start_time": "2024-06-03T21:23:39.363Z"
   },
   {
    "duration": 56,
    "start_time": "2024-06-03T21:23:39.374Z"
   },
   {
    "duration": 11,
    "start_time": "2024-06-03T21:23:39.434Z"
   },
   {
    "duration": 7,
    "start_time": "2024-06-03T21:23:39.448Z"
   },
   {
    "duration": 9,
    "start_time": "2024-06-03T21:23:39.458Z"
   },
   {
    "duration": 50,
    "start_time": "2024-06-03T21:23:39.473Z"
   },
   {
    "duration": 7,
    "start_time": "2024-06-03T21:23:39.527Z"
   },
   {
    "duration": 5,
    "start_time": "2024-06-03T21:23:39.538Z"
   },
   {
    "duration": 7,
    "start_time": "2024-06-03T21:23:39.547Z"
   },
   {
    "duration": 7,
    "start_time": "2024-06-03T21:23:39.557Z"
   },
   {
    "duration": 58,
    "start_time": "2024-06-03T21:23:39.568Z"
   },
   {
    "duration": 44,
    "start_time": "2024-06-03T21:23:39.630Z"
   },
   {
    "duration": 1536,
    "start_time": "2024-06-03T21:27:54.776Z"
   },
   {
    "duration": 491,
    "start_time": "2024-06-03T21:27:56.316Z"
   },
   {
    "duration": 137,
    "start_time": "2024-06-03T21:27:56.810Z"
   },
   {
    "duration": 648,
    "start_time": "2024-06-03T21:27:56.952Z"
   },
   {
    "duration": 19,
    "start_time": "2024-06-03T21:27:57.604Z"
   },
   {
    "duration": 14,
    "start_time": "2024-06-03T21:27:57.628Z"
   },
   {
    "duration": 19,
    "start_time": "2024-06-03T21:27:57.646Z"
   },
   {
    "duration": 63,
    "start_time": "2024-06-03T21:27:57.670Z"
   },
   {
    "duration": 10,
    "start_time": "2024-06-03T21:27:57.737Z"
   },
   {
    "duration": 11,
    "start_time": "2024-06-03T21:27:57.756Z"
   },
   {
    "duration": 7,
    "start_time": "2024-06-03T21:27:57.771Z"
   },
   {
    "duration": 612,
    "start_time": "2024-06-03T21:27:57.825Z"
   },
   {
    "duration": 568,
    "start_time": "2024-06-03T21:27:58.441Z"
   },
   {
    "duration": 519,
    "start_time": "2024-06-03T21:27:59.014Z"
   },
   {
    "duration": 7,
    "start_time": "2024-06-03T21:27:59.537Z"
   },
   {
    "duration": 1081,
    "start_time": "2024-06-03T21:27:59.547Z"
   },
   {
    "duration": 31,
    "start_time": "2024-06-03T21:28:00.632Z"
   },
   {
    "duration": 323,
    "start_time": "2024-06-03T21:28:00.666Z"
   },
   {
    "duration": 332,
    "start_time": "2024-06-03T21:28:00.994Z"
   },
   {
    "duration": 301,
    "start_time": "2024-06-03T21:28:01.330Z"
   },
   {
    "duration": 5,
    "start_time": "2024-06-03T21:28:01.636Z"
   },
   {
    "duration": 5,
    "start_time": "2024-06-03T21:28:01.644Z"
   },
   {
    "duration": 22,
    "start_time": "2024-06-03T21:28:01.652Z"
   },
   {
    "duration": 47,
    "start_time": "2024-06-03T21:28:01.678Z"
   },
   {
    "duration": 10,
    "start_time": "2024-06-03T21:28:01.728Z"
   },
   {
    "duration": 12,
    "start_time": "2024-06-03T21:28:01.742Z"
   },
   {
    "duration": 7,
    "start_time": "2024-06-03T21:28:01.757Z"
   },
   {
    "duration": 6,
    "start_time": "2024-06-03T21:28:01.822Z"
   },
   {
    "duration": 5,
    "start_time": "2024-06-03T21:28:01.832Z"
   },
   {
    "duration": 6,
    "start_time": "2024-06-03T21:28:01.841Z"
   },
   {
    "duration": 6,
    "start_time": "2024-06-03T21:28:01.851Z"
   },
   {
    "duration": 11,
    "start_time": "2024-06-03T21:28:01.861Z"
   },
   {
    "duration": 52,
    "start_time": "2024-06-03T21:28:01.875Z"
   },
   {
    "duration": 6,
    "start_time": "2024-06-03T21:28:01.931Z"
   },
   {
    "duration": 83,
    "start_time": "2024-06-03T21:28:01.941Z"
   },
   {
    "duration": 1432,
    "start_time": "2024-06-03T21:33:37.736Z"
   },
   {
    "duration": 395,
    "start_time": "2024-06-03T21:33:39.171Z"
   },
   {
    "duration": 131,
    "start_time": "2024-06-03T21:33:39.569Z"
   },
   {
    "duration": 540,
    "start_time": "2024-06-03T21:33:39.705Z"
   },
   {
    "duration": 6,
    "start_time": "2024-06-03T21:33:40.250Z"
   },
   {
    "duration": 11,
    "start_time": "2024-06-03T21:33:40.260Z"
   },
   {
    "duration": 54,
    "start_time": "2024-06-03T21:33:40.274Z"
   },
   {
    "duration": 12,
    "start_time": "2024-06-03T21:33:40.331Z"
   },
   {
    "duration": 6,
    "start_time": "2024-06-03T21:33:40.346Z"
   },
   {
    "duration": 10,
    "start_time": "2024-06-03T21:33:40.354Z"
   },
   {
    "duration": 6,
    "start_time": "2024-06-03T21:33:40.367Z"
   },
   {
    "duration": 602,
    "start_time": "2024-06-03T21:33:40.376Z"
   },
   {
    "duration": 504,
    "start_time": "2024-06-03T21:33:40.981Z"
   },
   {
    "duration": 515,
    "start_time": "2024-06-03T21:33:41.492Z"
   },
   {
    "duration": 13,
    "start_time": "2024-06-03T21:33:42.010Z"
   },
   {
    "duration": 1081,
    "start_time": "2024-06-03T21:33:42.026Z"
   },
   {
    "duration": 31,
    "start_time": "2024-06-03T21:33:43.110Z"
   },
   {
    "duration": 290,
    "start_time": "2024-06-03T21:33:43.144Z"
   },
   {
    "duration": 291,
    "start_time": "2024-06-03T21:33:43.437Z"
   },
   {
    "duration": 301,
    "start_time": "2024-06-03T21:33:43.731Z"
   },
   {
    "duration": 4,
    "start_time": "2024-06-03T21:33:44.035Z"
   },
   {
    "duration": 4,
    "start_time": "2024-06-03T21:33:44.042Z"
   },
   {
    "duration": 18,
    "start_time": "2024-06-03T21:33:44.049Z"
   },
   {
    "duration": 6,
    "start_time": "2024-06-03T21:33:44.069Z"
   },
   {
    "duration": 51,
    "start_time": "2024-06-03T21:33:44.078Z"
   },
   {
    "duration": 9,
    "start_time": "2024-06-03T21:33:44.133Z"
   },
   {
    "duration": 6,
    "start_time": "2024-06-03T21:33:44.144Z"
   },
   {
    "duration": 10,
    "start_time": "2024-06-03T21:33:44.153Z"
   },
   {
    "duration": 4,
    "start_time": "2024-06-03T21:33:44.166Z"
   },
   {
    "duration": 51,
    "start_time": "2024-06-03T21:33:44.174Z"
   },
   {
    "duration": 6,
    "start_time": "2024-06-03T21:33:44.228Z"
   },
   {
    "duration": 6,
    "start_time": "2024-06-03T21:33:44.237Z"
   },
   {
    "duration": 5,
    "start_time": "2024-06-03T21:33:44.247Z"
   },
   {
    "duration": 87,
    "start_time": "2024-06-03T21:33:44.256Z"
   },
   {
    "duration": 5,
    "start_time": "2024-06-03T21:33:44.346Z"
   },
   {
    "duration": 577940,
    "start_time": "2024-06-03T21:33:44.355Z"
   },
   {
    "duration": 5,
    "start_time": "2024-06-03T21:43:22.298Z"
   },
   {
    "duration": 434,
    "start_time": "2024-06-03T21:43:22.307Z"
   },
   {
    "duration": 0,
    "start_time": "2024-06-03T21:43:22.748Z"
   },
   {
    "duration": 0,
    "start_time": "2024-06-03T21:43:22.750Z"
   },
   {
    "duration": 311,
    "start_time": "2024-06-03T21:47:59.631Z"
   },
   {
    "duration": 1502,
    "start_time": "2024-06-03T21:49:51.722Z"
   },
   {
    "duration": 373,
    "start_time": "2024-06-03T21:49:53.228Z"
   },
   {
    "duration": 118,
    "start_time": "2024-06-03T21:49:53.604Z"
   },
   {
    "duration": 488,
    "start_time": "2024-06-03T21:49:53.725Z"
   },
   {
    "duration": 6,
    "start_time": "2024-06-03T21:49:54.222Z"
   },
   {
    "duration": 12,
    "start_time": "2024-06-03T21:49:54.232Z"
   },
   {
    "duration": 15,
    "start_time": "2024-06-03T21:49:54.247Z"
   },
   {
    "duration": 11,
    "start_time": "2024-06-03T21:49:54.264Z"
   },
   {
    "duration": 6,
    "start_time": "2024-06-03T21:49:54.323Z"
   },
   {
    "duration": 8,
    "start_time": "2024-06-03T21:49:54.332Z"
   },
   {
    "duration": 6,
    "start_time": "2024-06-03T21:49:54.343Z"
   },
   {
    "duration": 589,
    "start_time": "2024-06-03T21:49:54.352Z"
   },
   {
    "duration": 507,
    "start_time": "2024-06-03T21:49:54.944Z"
   },
   {
    "duration": 480,
    "start_time": "2024-06-03T21:49:55.458Z"
   },
   {
    "duration": 6,
    "start_time": "2024-06-03T21:49:55.941Z"
   },
   {
    "duration": 1055,
    "start_time": "2024-06-03T21:49:55.950Z"
   },
   {
    "duration": 37,
    "start_time": "2024-06-03T21:49:57.009Z"
   },
   {
    "duration": 291,
    "start_time": "2024-06-03T21:49:57.049Z"
   },
   {
    "duration": 316,
    "start_time": "2024-06-03T21:49:57.344Z"
   },
   {
    "duration": 286,
    "start_time": "2024-06-03T21:49:57.663Z"
   },
   {
    "duration": 4,
    "start_time": "2024-06-03T21:49:57.952Z"
   },
   {
    "duration": 4,
    "start_time": "2024-06-03T21:49:57.960Z"
   },
   {
    "duration": 19,
    "start_time": "2024-06-03T21:49:57.968Z"
   },
   {
    "duration": 6,
    "start_time": "2024-06-03T21:49:58.024Z"
   },
   {
    "duration": 12,
    "start_time": "2024-06-03T21:49:58.033Z"
   },
   {
    "duration": 13,
    "start_time": "2024-06-03T21:49:58.049Z"
   },
   {
    "duration": 6,
    "start_time": "2024-06-03T21:49:58.065Z"
   },
   {
    "duration": 51,
    "start_time": "2024-06-03T21:49:58.074Z"
   },
   {
    "duration": 5,
    "start_time": "2024-06-03T21:49:58.129Z"
   },
   {
    "duration": 5,
    "start_time": "2024-06-03T21:49:58.137Z"
   },
   {
    "duration": 5,
    "start_time": "2024-06-03T21:49:58.146Z"
   },
   {
    "duration": 5,
    "start_time": "2024-06-03T21:49:58.155Z"
   },
   {
    "duration": 6,
    "start_time": "2024-06-03T21:49:58.163Z"
   },
   {
    "duration": 39,
    "start_time": "2024-06-03T21:49:58.225Z"
   },
   {
    "duration": 582201,
    "start_time": "2024-06-03T21:49:58.268Z"
   },
   {
    "duration": 1508,
    "start_time": "2024-06-03T22:08:21.041Z"
   },
   {
    "duration": 361,
    "start_time": "2024-06-03T22:08:22.553Z"
   },
   {
    "duration": 108,
    "start_time": "2024-06-03T22:08:22.919Z"
   },
   {
    "duration": 487,
    "start_time": "2024-06-03T22:08:23.032Z"
   },
   {
    "duration": 7,
    "start_time": "2024-06-03T22:08:23.521Z"
   },
   {
    "duration": 12,
    "start_time": "2024-06-03T22:08:23.532Z"
   },
   {
    "duration": 14,
    "start_time": "2024-06-03T22:08:23.547Z"
   },
   {
    "duration": 59,
    "start_time": "2024-06-03T22:08:23.565Z"
   },
   {
    "duration": 7,
    "start_time": "2024-06-03T22:08:23.627Z"
   },
   {
    "duration": 10,
    "start_time": "2024-06-03T22:08:23.641Z"
   },
   {
    "duration": 6,
    "start_time": "2024-06-03T22:08:23.654Z"
   },
   {
    "duration": 586,
    "start_time": "2024-06-03T22:08:23.666Z"
   },
   {
    "duration": 519,
    "start_time": "2024-06-03T22:08:24.256Z"
   },
   {
    "duration": 494,
    "start_time": "2024-06-03T22:08:24.779Z"
   },
   {
    "duration": 6,
    "start_time": "2024-06-03T22:08:25.277Z"
   },
   {
    "duration": 1114,
    "start_time": "2024-06-03T22:08:25.286Z"
   },
   {
    "duration": 35,
    "start_time": "2024-06-03T22:08:26.404Z"
   },
   {
    "duration": 288,
    "start_time": "2024-06-03T22:08:26.442Z"
   },
   {
    "duration": 305,
    "start_time": "2024-06-03T22:08:26.733Z"
   },
   {
    "duration": 284,
    "start_time": "2024-06-03T22:08:27.041Z"
   },
   {
    "duration": 4,
    "start_time": "2024-06-03T22:08:27.328Z"
   },
   {
    "duration": 7,
    "start_time": "2024-06-03T22:08:27.337Z"
   },
   {
    "duration": 20,
    "start_time": "2024-06-03T22:08:27.347Z"
   },
   {
    "duration": 7,
    "start_time": "2024-06-03T22:08:27.371Z"
   },
   {
    "duration": 11,
    "start_time": "2024-06-03T22:08:27.422Z"
   },
   {
    "duration": 10,
    "start_time": "2024-06-03T22:08:27.438Z"
   },
   {
    "duration": 13,
    "start_time": "2024-06-03T22:08:27.451Z"
   },
   {
    "duration": 5,
    "start_time": "2024-06-03T22:08:27.472Z"
   },
   {
    "duration": 42,
    "start_time": "2024-06-03T22:08:27.481Z"
   },
   {
    "duration": 6,
    "start_time": "2024-06-03T22:08:27.527Z"
   },
   {
    "duration": 7,
    "start_time": "2024-06-03T22:08:27.537Z"
   },
   {
    "duration": 6,
    "start_time": "2024-06-03T22:08:27.547Z"
   },
   {
    "duration": 7,
    "start_time": "2024-06-03T22:08:27.556Z"
   },
   {
    "duration": 90,
    "start_time": "2024-06-03T22:08:27.566Z"
   },
   {
    "duration": 577031,
    "start_time": "2024-06-03T22:08:27.662Z"
   },
   {
    "duration": 1530,
    "start_time": "2024-06-03T22:27:46.828Z"
   },
   {
    "duration": 352,
    "start_time": "2024-06-03T22:27:48.361Z"
   },
   {
    "duration": 120,
    "start_time": "2024-06-03T22:27:48.716Z"
   },
   {
    "duration": 476,
    "start_time": "2024-06-03T22:27:48.840Z"
   },
   {
    "duration": 6,
    "start_time": "2024-06-03T22:27:49.322Z"
   },
   {
    "duration": 15,
    "start_time": "2024-06-03T22:27:49.331Z"
   },
   {
    "duration": 12,
    "start_time": "2024-06-03T22:27:49.349Z"
   },
   {
    "duration": 11,
    "start_time": "2024-06-03T22:27:49.364Z"
   },
   {
    "duration": 6,
    "start_time": "2024-06-03T22:27:49.424Z"
   },
   {
    "duration": 7,
    "start_time": "2024-06-03T22:27:49.437Z"
   },
   {
    "duration": 6,
    "start_time": "2024-06-03T22:27:49.448Z"
   },
   {
    "duration": 620,
    "start_time": "2024-06-03T22:27:49.457Z"
   },
   {
    "duration": 501,
    "start_time": "2024-06-03T22:27:50.082Z"
   },
   {
    "duration": 496,
    "start_time": "2024-06-03T22:27:50.587Z"
   },
   {
    "duration": 6,
    "start_time": "2024-06-03T22:27:51.087Z"
   },
   {
    "duration": 1107,
    "start_time": "2024-06-03T22:27:51.097Z"
   },
   {
    "duration": 34,
    "start_time": "2024-06-03T22:27:52.208Z"
   },
   {
    "duration": 287,
    "start_time": "2024-06-03T22:27:52.244Z"
   },
   {
    "duration": 284,
    "start_time": "2024-06-03T22:27:52.535Z"
   },
   {
    "duration": 283,
    "start_time": "2024-06-03T22:27:52.824Z"
   },
   {
    "duration": 12,
    "start_time": "2024-06-03T22:27:53.111Z"
   },
   {
    "duration": 5,
    "start_time": "2024-06-03T22:27:53.125Z"
   },
   {
    "duration": 19,
    "start_time": "2024-06-03T22:27:53.133Z"
   },
   {
    "duration": 6,
    "start_time": "2024-06-03T22:27:53.155Z"
   },
   {
    "duration": 11,
    "start_time": "2024-06-03T22:27:53.164Z"
   },
   {
    "duration": 9,
    "start_time": "2024-06-03T22:27:53.223Z"
   },
   {
    "duration": 6,
    "start_time": "2024-06-03T22:27:53.235Z"
   },
   {
    "duration": 5,
    "start_time": "2024-06-03T22:27:53.248Z"
   },
   {
    "duration": 4,
    "start_time": "2024-06-03T22:27:53.258Z"
   },
   {
    "duration": 5,
    "start_time": "2024-06-03T22:27:53.266Z"
   },
   {
    "duration": 5,
    "start_time": "2024-06-03T22:27:53.323Z"
   },
   {
    "duration": 7,
    "start_time": "2024-06-03T22:27:53.332Z"
   },
   {
    "duration": 5,
    "start_time": "2024-06-03T22:27:53.345Z"
   },
   {
    "duration": 79,
    "start_time": "2024-06-03T22:27:53.354Z"
   },
   {
    "duration": 10,
    "start_time": "2024-06-03T22:43:37.339Z"
   },
   {
    "duration": 7,
    "start_time": "2024-06-03T22:44:56.335Z"
   },
   {
    "duration": 518,
    "start_time": "2024-06-03T22:46:32.252Z"
   },
   {
    "duration": 4,
    "start_time": "2024-06-03T22:47:18.665Z"
   },
   {
    "duration": 1153,
    "start_time": "2024-06-03T22:47:19.834Z"
   },
   {
    "duration": 43,
    "start_time": "2024-06-03T22:49:18.498Z"
   },
   {
    "duration": 282,
    "start_time": "2024-06-03T22:49:41.081Z"
   },
   {
    "duration": 23,
    "start_time": "2024-06-03T23:10:31.896Z"
   },
   {
    "duration": 9,
    "start_time": "2024-06-03T23:11:04.531Z"
   },
   {
    "duration": 26,
    "start_time": "2024-06-03T23:11:07.307Z"
   },
   {
    "duration": 9,
    "start_time": "2024-06-03T23:13:24.646Z"
   },
   {
    "duration": 9,
    "start_time": "2024-06-03T23:14:04.930Z"
   },
   {
    "duration": 8,
    "start_time": "2024-06-03T23:14:18.604Z"
   },
   {
    "duration": 9,
    "start_time": "2024-06-03T23:14:28.530Z"
   },
   {
    "duration": 8,
    "start_time": "2024-06-03T23:14:32.725Z"
   },
   {
    "duration": 1542,
    "start_time": "2024-06-03T23:14:42.443Z"
   },
   {
    "duration": 426,
    "start_time": "2024-06-03T23:14:43.990Z"
   },
   {
    "duration": 127,
    "start_time": "2024-06-03T23:14:44.420Z"
   },
   {
    "duration": 499,
    "start_time": "2024-06-03T23:14:44.552Z"
   },
   {
    "duration": 6,
    "start_time": "2024-06-03T23:14:45.054Z"
   },
   {
    "duration": 13,
    "start_time": "2024-06-03T23:14:45.064Z"
   },
   {
    "duration": 48,
    "start_time": "2024-06-03T23:14:45.081Z"
   },
   {
    "duration": 13,
    "start_time": "2024-06-03T23:14:45.132Z"
   },
   {
    "duration": 8,
    "start_time": "2024-06-03T23:14:45.150Z"
   },
   {
    "duration": 8,
    "start_time": "2024-06-03T23:14:45.165Z"
   },
   {
    "duration": 6,
    "start_time": "2024-06-03T23:14:45.223Z"
   },
   {
    "duration": 570,
    "start_time": "2024-06-03T23:14:45.232Z"
   },
   {
    "duration": 490,
    "start_time": "2024-06-03T23:14:45.806Z"
   },
   {
    "duration": 523,
    "start_time": "2024-06-03T23:14:46.300Z"
   },
   {
    "duration": 9,
    "start_time": "2024-06-03T23:14:46.826Z"
   },
   {
    "duration": 1074,
    "start_time": "2024-06-03T23:14:46.838Z"
   },
   {
    "duration": 30,
    "start_time": "2024-06-03T23:14:47.916Z"
   },
   {
    "duration": 303,
    "start_time": "2024-06-03T23:14:47.949Z"
   },
   {
    "duration": 310,
    "start_time": "2024-06-03T23:14:48.255Z"
   },
   {
    "duration": 287,
    "start_time": "2024-06-03T23:14:48.568Z"
   },
   {
    "duration": 5,
    "start_time": "2024-06-03T23:14:48.858Z"
   },
   {
    "duration": 4,
    "start_time": "2024-06-03T23:14:48.868Z"
   },
   {
    "duration": 53,
    "start_time": "2024-06-03T23:14:48.877Z"
   },
   {
    "duration": 8,
    "start_time": "2024-06-03T23:14:48.933Z"
   },
   {
    "duration": 13,
    "start_time": "2024-06-03T23:14:48.944Z"
   },
   {
    "duration": 10,
    "start_time": "2024-06-03T23:14:48.960Z"
   },
   {
    "duration": 49,
    "start_time": "2024-06-03T23:14:48.974Z"
   },
   {
    "duration": 6,
    "start_time": "2024-06-03T23:14:49.030Z"
   },
   {
    "duration": 5,
    "start_time": "2024-06-03T23:14:49.039Z"
   },
   {
    "duration": 5,
    "start_time": "2024-06-03T23:14:49.049Z"
   },
   {
    "duration": 6,
    "start_time": "2024-06-03T23:14:49.058Z"
   },
   {
    "duration": 6,
    "start_time": "2024-06-03T23:14:49.067Z"
   },
   {
    "duration": 6,
    "start_time": "2024-06-03T23:14:49.124Z"
   },
   {
    "duration": 40,
    "start_time": "2024-06-03T23:14:49.133Z"
   },
   {
    "duration": 46,
    "start_time": "2024-06-03T23:14:49.177Z"
   },
   {
    "duration": 1,
    "start_time": "2024-06-03T23:14:49.225Z"
   },
   {
    "duration": 0,
    "start_time": "2024-06-03T23:14:49.228Z"
   },
   {
    "duration": 550,
    "start_time": "2024-06-03T23:18:56.017Z"
   },
   {
    "duration": 7,
    "start_time": "2024-06-03T23:19:16.225Z"
   },
   {
    "duration": 33,
    "start_time": "2024-06-03T23:19:22.396Z"
   },
   {
    "duration": 1587,
    "start_time": "2024-06-03T23:19:48.519Z"
   },
   {
    "duration": 492,
    "start_time": "2024-06-03T23:19:50.110Z"
   },
   {
    "duration": 141,
    "start_time": "2024-06-03T23:19:50.605Z"
   },
   {
    "duration": 587,
    "start_time": "2024-06-03T23:19:50.749Z"
   },
   {
    "duration": 7,
    "start_time": "2024-06-03T23:19:51.343Z"
   },
   {
    "duration": 15,
    "start_time": "2024-06-03T23:19:51.353Z"
   },
   {
    "duration": 58,
    "start_time": "2024-06-03T23:19:51.373Z"
   },
   {
    "duration": 16,
    "start_time": "2024-06-03T23:19:51.434Z"
   },
   {
    "duration": 9,
    "start_time": "2024-06-03T23:19:51.453Z"
   },
   {
    "duration": 58,
    "start_time": "2024-06-03T23:19:51.466Z"
   },
   {
    "duration": 6,
    "start_time": "2024-06-03T23:19:51.527Z"
   },
   {
    "duration": 571,
    "start_time": "2024-06-03T23:19:51.537Z"
   },
   {
    "duration": 494,
    "start_time": "2024-06-03T23:19:52.112Z"
   },
   {
    "duration": 481,
    "start_time": "2024-06-03T23:19:52.622Z"
   },
   {
    "duration": 6,
    "start_time": "2024-06-03T23:19:53.106Z"
   },
   {
    "duration": 1107,
    "start_time": "2024-06-03T23:19:53.115Z"
   },
   {
    "duration": 36,
    "start_time": "2024-06-03T23:19:54.226Z"
   },
   {
    "duration": 297,
    "start_time": "2024-06-03T23:19:54.266Z"
   },
   {
    "duration": 361,
    "start_time": "2024-06-03T23:19:54.569Z"
   },
   {
    "duration": 327,
    "start_time": "2024-06-03T23:19:54.934Z"
   },
   {
    "duration": 7,
    "start_time": "2024-06-03T23:19:55.264Z"
   },
   {
    "duration": 4,
    "start_time": "2024-06-03T23:19:55.274Z"
   },
   {
    "duration": 48,
    "start_time": "2024-06-03T23:19:55.285Z"
   },
   {
    "duration": 6,
    "start_time": "2024-06-03T23:19:55.337Z"
   },
   {
    "duration": 13,
    "start_time": "2024-06-03T23:19:55.347Z"
   },
   {
    "duration": 12,
    "start_time": "2024-06-03T23:19:55.364Z"
   },
   {
    "duration": 48,
    "start_time": "2024-06-03T23:19:55.380Z"
   },
   {
    "duration": 6,
    "start_time": "2024-06-03T23:19:55.431Z"
   },
   {
    "duration": 6,
    "start_time": "2024-06-03T23:19:55.440Z"
   },
   {
    "duration": 6,
    "start_time": "2024-06-03T23:19:55.450Z"
   },
   {
    "duration": 6,
    "start_time": "2024-06-03T23:19:55.459Z"
   },
   {
    "duration": 59,
    "start_time": "2024-06-03T23:19:55.468Z"
   },
   {
    "duration": 6,
    "start_time": "2024-06-03T23:19:55.532Z"
   },
   {
    "duration": 41,
    "start_time": "2024-06-03T23:19:55.541Z"
   },
   {
    "duration": 41,
    "start_time": "2024-06-03T23:19:55.585Z"
   },
   {
    "duration": 0,
    "start_time": "2024-06-03T23:19:55.629Z"
   },
   {
    "duration": 8,
    "start_time": "2024-06-03T23:23:00.099Z"
   },
   {
    "duration": 4,
    "start_time": "2024-06-03T23:23:18.850Z"
   },
   {
    "duration": 1803,
    "start_time": "2024-06-03T23:23:21.155Z"
   },
   {
    "duration": 6096,
    "start_time": "2024-06-04T02:00:53.584Z"
   },
   {
    "duration": 542,
    "start_time": "2024-06-04T02:00:59.684Z"
   },
   {
    "duration": 160,
    "start_time": "2024-06-04T02:01:00.229Z"
   },
   {
    "duration": 643,
    "start_time": "2024-06-04T02:01:00.392Z"
   },
   {
    "duration": 12,
    "start_time": "2024-06-04T02:01:01.041Z"
   },
   {
    "duration": 15,
    "start_time": "2024-06-04T02:01:01.056Z"
   },
   {
    "duration": 16,
    "start_time": "2024-06-04T02:01:01.074Z"
   },
   {
    "duration": 36,
    "start_time": "2024-06-04T02:01:01.095Z"
   },
   {
    "duration": 11,
    "start_time": "2024-06-04T02:01:01.135Z"
   },
   {
    "duration": 9,
    "start_time": "2024-06-04T02:01:01.154Z"
   },
   {
    "duration": 6,
    "start_time": "2024-06-04T02:01:01.168Z"
   },
   {
    "duration": 576,
    "start_time": "2024-06-04T02:01:01.178Z"
   },
   {
    "duration": 512,
    "start_time": "2024-06-04T02:01:01.758Z"
   },
   {
    "duration": 508,
    "start_time": "2024-06-04T02:01:02.277Z"
   },
   {
    "duration": 6,
    "start_time": "2024-06-04T02:01:02.788Z"
   },
   {
    "duration": 1113,
    "start_time": "2024-06-04T02:01:02.798Z"
   },
   {
    "duration": 52,
    "start_time": "2024-06-04T02:01:03.915Z"
   },
   {
    "duration": 419,
    "start_time": "2024-06-04T02:01:03.971Z"
   },
   {
    "duration": 344,
    "start_time": "2024-06-04T02:01:04.393Z"
   },
   {
    "duration": 317,
    "start_time": "2024-06-04T02:01:04.740Z"
   },
   {
    "duration": 4,
    "start_time": "2024-06-04T02:01:05.061Z"
   },
   {
    "duration": 5,
    "start_time": "2024-06-04T02:01:05.068Z"
   },
   {
    "duration": 72,
    "start_time": "2024-06-04T02:01:05.077Z"
   },
   {
    "duration": 6,
    "start_time": "2024-06-04T02:01:05.152Z"
   },
   {
    "duration": 11,
    "start_time": "2024-06-04T02:01:05.162Z"
   },
   {
    "duration": 10,
    "start_time": "2024-06-04T02:01:05.177Z"
   },
   {
    "duration": 7,
    "start_time": "2024-06-04T02:01:05.190Z"
   },
   {
    "duration": 8,
    "start_time": "2024-06-04T02:01:05.246Z"
   },
   {
    "duration": 5,
    "start_time": "2024-06-04T02:01:05.259Z"
   },
   {
    "duration": 10,
    "start_time": "2024-06-04T02:01:05.268Z"
   },
   {
    "duration": 13,
    "start_time": "2024-06-04T02:01:05.281Z"
   },
   {
    "duration": 6,
    "start_time": "2024-06-04T02:01:05.297Z"
   },
   {
    "duration": 45,
    "start_time": "2024-06-04T02:01:05.308Z"
   },
   {
    "duration": 42,
    "start_time": "2024-06-04T02:01:05.357Z"
   },
   {
    "duration": 5,
    "start_time": "2024-06-04T02:01:05.402Z"
   },
   {
    "duration": 1888,
    "start_time": "2024-06-04T02:01:05.427Z"
   },
   {
    "duration": 4,
    "start_time": "2024-06-04T02:05:38.745Z"
   },
   {
    "duration": 327,
    "start_time": "2024-06-04T02:05:39.699Z"
   },
   {
    "duration": 4,
    "start_time": "2024-06-04T02:09:30.759Z"
   },
   {
    "duration": 1594,
    "start_time": "2024-06-04T02:11:19.107Z"
   },
   {
    "duration": 436,
    "start_time": "2024-06-04T02:11:20.705Z"
   },
   {
    "duration": 120,
    "start_time": "2024-06-04T02:11:21.144Z"
   },
   {
    "duration": 508,
    "start_time": "2024-06-04T02:11:21.267Z"
   },
   {
    "duration": 6,
    "start_time": "2024-06-04T02:11:21.782Z"
   },
   {
    "duration": 37,
    "start_time": "2024-06-04T02:11:21.792Z"
   },
   {
    "duration": 16,
    "start_time": "2024-06-04T02:11:21.832Z"
   },
   {
    "duration": 13,
    "start_time": "2024-06-04T02:11:21.852Z"
   },
   {
    "duration": 7,
    "start_time": "2024-06-04T02:11:21.868Z"
   },
   {
    "duration": 52,
    "start_time": "2024-06-04T02:11:21.879Z"
   },
   {
    "duration": 7,
    "start_time": "2024-06-04T02:11:21.935Z"
   },
   {
    "duration": 600,
    "start_time": "2024-06-04T02:11:21.946Z"
   },
   {
    "duration": 479,
    "start_time": "2024-06-04T02:11:22.549Z"
   },
   {
    "duration": 498,
    "start_time": "2024-06-04T02:11:23.035Z"
   },
   {
    "duration": 5,
    "start_time": "2024-06-04T02:11:23.536Z"
   },
   {
    "duration": 1182,
    "start_time": "2024-06-04T02:11:23.546Z"
   },
   {
    "duration": 27,
    "start_time": "2024-06-04T02:11:24.732Z"
   },
   {
    "duration": 302,
    "start_time": "2024-06-04T02:11:24.762Z"
   },
   {
    "duration": 299,
    "start_time": "2024-06-04T02:11:25.068Z"
   },
   {
    "duration": 300,
    "start_time": "2024-06-04T02:11:25.371Z"
   },
   {
    "duration": 5,
    "start_time": "2024-06-04T02:11:25.675Z"
   },
   {
    "duration": 5,
    "start_time": "2024-06-04T02:11:25.684Z"
   },
   {
    "duration": 47,
    "start_time": "2024-06-04T02:11:25.693Z"
   },
   {
    "duration": 7,
    "start_time": "2024-06-04T02:11:25.743Z"
   },
   {
    "duration": 13,
    "start_time": "2024-06-04T02:11:25.754Z"
   },
   {
    "duration": 10,
    "start_time": "2024-06-04T02:11:25.770Z"
   },
   {
    "duration": 47,
    "start_time": "2024-06-04T02:11:25.783Z"
   },
   {
    "duration": 8,
    "start_time": "2024-06-04T02:11:25.834Z"
   },
   {
    "duration": 5,
    "start_time": "2024-06-04T02:11:25.845Z"
   },
   {
    "duration": 6,
    "start_time": "2024-06-04T02:11:25.852Z"
   },
   {
    "duration": 6,
    "start_time": "2024-06-04T02:11:25.862Z"
   },
   {
    "duration": 55,
    "start_time": "2024-06-04T02:11:25.872Z"
   },
   {
    "duration": 7,
    "start_time": "2024-06-04T02:11:25.931Z"
   },
   {
    "duration": 42,
    "start_time": "2024-06-04T02:11:25.942Z"
   },
   {
    "duration": 40,
    "start_time": "2024-06-04T02:11:25.987Z"
   },
   {
    "duration": 573933,
    "start_time": "2024-06-04T02:11:26.032Z"
   },
   {
    "duration": 548,
    "start_time": "2024-06-04T02:27:08.793Z"
   },
   {
    "duration": 5454,
    "start_time": "2024-06-04T05:22:34.615Z"
   },
   {
    "duration": 423,
    "start_time": "2024-06-04T05:22:40.073Z"
   },
   {
    "duration": 134,
    "start_time": "2024-06-04T05:22:40.503Z"
   },
   {
    "duration": 528,
    "start_time": "2024-06-04T05:22:40.640Z"
   },
   {
    "duration": 9,
    "start_time": "2024-06-04T05:22:41.173Z"
   },
   {
    "duration": 24,
    "start_time": "2024-06-04T05:22:41.185Z"
   },
   {
    "duration": 15,
    "start_time": "2024-06-04T05:22:41.211Z"
   },
   {
    "duration": 11,
    "start_time": "2024-06-04T05:22:41.229Z"
   },
   {
    "duration": 6,
    "start_time": "2024-06-04T05:22:41.242Z"
   },
   {
    "duration": 52,
    "start_time": "2024-06-04T05:22:41.251Z"
   },
   {
    "duration": 7,
    "start_time": "2024-06-04T05:22:41.306Z"
   },
   {
    "duration": 496,
    "start_time": "2024-06-04T05:22:41.317Z"
   },
   {
    "duration": 499,
    "start_time": "2024-06-04T05:22:41.817Z"
   },
   {
    "duration": 580,
    "start_time": "2024-06-04T05:22:42.324Z"
   },
   {
    "duration": 5,
    "start_time": "2024-06-04T05:22:42.907Z"
   },
   {
    "duration": 1176,
    "start_time": "2024-06-04T05:22:42.916Z"
   },
   {
    "duration": 26,
    "start_time": "2024-06-04T05:22:44.102Z"
   },
   {
    "duration": 309,
    "start_time": "2024-06-04T05:22:44.131Z"
   },
   {
    "duration": 303,
    "start_time": "2024-06-04T05:22:44.443Z"
   },
   {
    "duration": 292,
    "start_time": "2024-06-04T05:22:44.749Z"
   },
   {
    "duration": 4,
    "start_time": "2024-06-04T05:22:45.045Z"
   },
   {
    "duration": 6,
    "start_time": "2024-06-04T05:22:45.051Z"
   },
   {
    "duration": 44,
    "start_time": "2024-06-04T05:22:45.060Z"
   },
   {
    "duration": 8,
    "start_time": "2024-06-04T05:22:45.106Z"
   },
   {
    "duration": 11,
    "start_time": "2024-06-04T05:22:45.116Z"
   },
   {
    "duration": 9,
    "start_time": "2024-06-04T05:22:45.130Z"
   },
   {
    "duration": 6,
    "start_time": "2024-06-04T05:22:45.142Z"
   },
   {
    "duration": 499,
    "start_time": "2024-06-04T05:22:45.151Z"
   },
   {
    "duration": 0,
    "start_time": "2024-06-04T05:22:45.653Z"
   },
   {
    "duration": 0,
    "start_time": "2024-06-04T05:22:45.655Z"
   },
   {
    "duration": 0,
    "start_time": "2024-06-04T05:22:45.657Z"
   },
   {
    "duration": 0,
    "start_time": "2024-06-04T05:22:45.661Z"
   },
   {
    "duration": 0,
    "start_time": "2024-06-04T05:22:45.662Z"
   },
   {
    "duration": 0,
    "start_time": "2024-06-04T05:22:45.664Z"
   },
   {
    "duration": 0,
    "start_time": "2024-06-04T05:22:45.666Z"
   },
   {
    "duration": 0,
    "start_time": "2024-06-04T05:22:45.669Z"
   },
   {
    "duration": 0,
    "start_time": "2024-06-04T05:22:45.671Z"
   },
   {
    "duration": 1403,
    "start_time": "2024-06-04T05:23:08.762Z"
   },
   {
    "duration": 344,
    "start_time": "2024-06-04T05:23:10.170Z"
   },
   {
    "duration": 132,
    "start_time": "2024-06-04T05:23:10.518Z"
   },
   {
    "duration": 452,
    "start_time": "2024-06-04T05:23:10.653Z"
   },
   {
    "duration": 9,
    "start_time": "2024-06-04T05:23:11.111Z"
   },
   {
    "duration": 13,
    "start_time": "2024-06-04T05:23:11.123Z"
   },
   {
    "duration": 14,
    "start_time": "2024-06-04T05:23:11.139Z"
   },
   {
    "duration": 47,
    "start_time": "2024-06-04T05:23:11.157Z"
   },
   {
    "duration": 5,
    "start_time": "2024-06-04T05:23:11.209Z"
   },
   {
    "duration": 7,
    "start_time": "2024-06-04T05:23:11.218Z"
   },
   {
    "duration": 5,
    "start_time": "2024-06-04T05:23:11.229Z"
   },
   {
    "duration": 575,
    "start_time": "2024-06-04T05:23:11.238Z"
   },
   {
    "duration": 502,
    "start_time": "2024-06-04T05:23:11.815Z"
   },
   {
    "duration": 529,
    "start_time": "2024-06-04T05:23:12.324Z"
   },
   {
    "duration": 5,
    "start_time": "2024-06-04T05:23:12.857Z"
   },
   {
    "duration": 1105,
    "start_time": "2024-06-04T05:23:12.866Z"
   },
   {
    "duration": 35,
    "start_time": "2024-06-04T05:23:13.976Z"
   },
   {
    "duration": 306,
    "start_time": "2024-06-04T05:23:14.014Z"
   },
   {
    "duration": 294,
    "start_time": "2024-06-04T05:23:14.323Z"
   },
   {
    "duration": 296,
    "start_time": "2024-06-04T05:23:14.621Z"
   },
   {
    "duration": 3,
    "start_time": "2024-06-04T05:23:14.921Z"
   },
   {
    "duration": 4,
    "start_time": "2024-06-04T05:23:14.927Z"
   },
   {
    "duration": 19,
    "start_time": "2024-06-04T05:23:14.934Z"
   },
   {
    "duration": 5,
    "start_time": "2024-06-04T05:23:14.956Z"
   },
   {
    "duration": 12,
    "start_time": "2024-06-04T05:23:15.003Z"
   },
   {
    "duration": 9,
    "start_time": "2024-06-04T05:23:15.018Z"
   },
   {
    "duration": 7,
    "start_time": "2024-06-04T05:23:15.030Z"
   },
   {
    "duration": 4,
    "start_time": "2024-06-04T05:23:15.040Z"
   },
   {
    "duration": 5,
    "start_time": "2024-06-04T05:23:15.048Z"
   },
   {
    "duration": 49,
    "start_time": "2024-06-04T05:23:15.056Z"
   },
   {
    "duration": 8,
    "start_time": "2024-06-04T05:23:15.107Z"
   },
   {
    "duration": 8,
    "start_time": "2024-06-04T05:23:15.118Z"
   },
   {
    "duration": 11,
    "start_time": "2024-06-04T05:23:15.129Z"
   },
   {
    "duration": 8,
    "start_time": "2024-06-04T05:23:15.146Z"
   },
   {
    "duration": 80,
    "start_time": "2024-06-04T05:23:15.157Z"
   },
   {
    "duration": 4,
    "start_time": "2024-06-04T05:23:15.240Z"
   },
   {
    "duration": 1419,
    "start_time": "2024-06-04T05:31:28.569Z"
   },
   {
    "duration": 348,
    "start_time": "2024-06-04T05:31:29.991Z"
   },
   {
    "duration": 111,
    "start_time": "2024-06-04T05:31:30.342Z"
   },
   {
    "duration": 444,
    "start_time": "2024-06-04T05:31:30.458Z"
   },
   {
    "duration": 6,
    "start_time": "2024-06-04T05:31:30.906Z"
   },
   {
    "duration": 12,
    "start_time": "2024-06-04T05:31:30.915Z"
   },
   {
    "duration": 13,
    "start_time": "2024-06-04T05:31:30.930Z"
   },
   {
    "duration": 56,
    "start_time": "2024-06-04T05:31:30.945Z"
   },
   {
    "duration": 6,
    "start_time": "2024-06-04T05:31:31.004Z"
   },
   {
    "duration": 6,
    "start_time": "2024-06-04T05:31:31.016Z"
   },
   {
    "duration": 5,
    "start_time": "2024-06-04T05:31:31.025Z"
   },
   {
    "duration": 561,
    "start_time": "2024-06-04T05:31:31.034Z"
   },
   {
    "duration": 491,
    "start_time": "2024-06-04T05:31:31.598Z"
   },
   {
    "duration": 470,
    "start_time": "2024-06-04T05:31:32.092Z"
   },
   {
    "duration": 6,
    "start_time": "2024-06-04T05:31:32.565Z"
   },
   {
    "duration": 1101,
    "start_time": "2024-06-04T05:31:32.574Z"
   },
   {
    "duration": 37,
    "start_time": "2024-06-04T05:31:33.678Z"
   },
   {
    "duration": 290,
    "start_time": "2024-06-04T05:31:33.718Z"
   },
   {
    "duration": 280,
    "start_time": "2024-06-04T05:31:34.011Z"
   },
   {
    "duration": 280,
    "start_time": "2024-06-04T05:31:34.295Z"
   },
   {
    "duration": 3,
    "start_time": "2024-06-04T05:31:34.578Z"
   },
   {
    "duration": 4,
    "start_time": "2024-06-04T05:31:34.601Z"
   },
   {
    "duration": 19,
    "start_time": "2024-06-04T05:31:34.608Z"
   },
   {
    "duration": 7,
    "start_time": "2024-06-04T05:31:34.630Z"
   },
   {
    "duration": 11,
    "start_time": "2024-06-04T05:31:34.640Z"
   },
   {
    "duration": 51,
    "start_time": "2024-06-04T05:31:34.655Z"
   },
   {
    "duration": 7,
    "start_time": "2024-06-04T05:31:34.711Z"
   },
   {
    "duration": 5,
    "start_time": "2024-06-04T05:31:34.727Z"
   },
   {
    "duration": 6,
    "start_time": "2024-06-04T05:31:34.736Z"
   },
   {
    "duration": 5,
    "start_time": "2024-06-04T05:31:34.745Z"
   },
   {
    "duration": 50,
    "start_time": "2024-06-04T05:31:34.753Z"
   },
   {
    "duration": 6,
    "start_time": "2024-06-04T05:31:34.806Z"
   },
   {
    "duration": 6,
    "start_time": "2024-06-04T05:31:34.815Z"
   },
   {
    "duration": 5,
    "start_time": "2024-06-04T05:31:34.824Z"
   },
   {
    "duration": 77,
    "start_time": "2024-06-04T05:31:34.832Z"
   },
   {
    "duration": 5,
    "start_time": "2024-06-04T05:31:34.912Z"
   },
   {
    "duration": 1494,
    "start_time": "2024-06-04T05:36:44.597Z"
   },
   {
    "duration": 348,
    "start_time": "2024-06-04T05:36:46.095Z"
   },
   {
    "duration": 113,
    "start_time": "2024-06-04T05:36:46.446Z"
   },
   {
    "duration": 466,
    "start_time": "2024-06-04T05:36:46.562Z"
   },
   {
    "duration": 6,
    "start_time": "2024-06-04T05:36:47.034Z"
   },
   {
    "duration": 11,
    "start_time": "2024-06-04T05:36:47.043Z"
   },
   {
    "duration": 46,
    "start_time": "2024-06-04T05:36:47.057Z"
   },
   {
    "duration": 12,
    "start_time": "2024-06-04T05:36:47.107Z"
   },
   {
    "duration": 6,
    "start_time": "2024-06-04T05:36:47.121Z"
   },
   {
    "duration": 7,
    "start_time": "2024-06-04T05:36:47.130Z"
   },
   {
    "duration": 6,
    "start_time": "2024-06-04T05:36:47.140Z"
   },
   {
    "duration": 577,
    "start_time": "2024-06-04T05:36:47.149Z"
   },
   {
    "duration": 504,
    "start_time": "2024-06-04T05:36:47.729Z"
   },
   {
    "duration": 481,
    "start_time": "2024-06-04T05:36:48.240Z"
   },
   {
    "duration": 5,
    "start_time": "2024-06-04T05:36:48.726Z"
   },
   {
    "duration": 1057,
    "start_time": "2024-06-04T05:36:48.734Z"
   },
   {
    "duration": 25,
    "start_time": "2024-06-04T05:36:49.801Z"
   },
   {
    "duration": 313,
    "start_time": "2024-06-04T05:36:49.830Z"
   },
   {
    "duration": 311,
    "start_time": "2024-06-04T05:36:50.147Z"
   },
   {
    "duration": 296,
    "start_time": "2024-06-04T05:36:50.461Z"
   },
   {
    "duration": 4,
    "start_time": "2024-06-04T05:36:50.760Z"
   },
   {
    "duration": 4,
    "start_time": "2024-06-04T05:36:50.768Z"
   },
   {
    "duration": 45,
    "start_time": "2024-06-04T05:36:50.775Z"
   },
   {
    "duration": 7,
    "start_time": "2024-06-04T05:36:50.823Z"
   },
   {
    "duration": 11,
    "start_time": "2024-06-04T05:36:50.834Z"
   },
   {
    "duration": 10,
    "start_time": "2024-06-04T05:36:50.849Z"
   },
   {
    "duration": 7,
    "start_time": "2024-06-04T05:36:50.904Z"
   },
   {
    "duration": 4,
    "start_time": "2024-06-04T05:36:50.915Z"
   },
   {
    "duration": 7,
    "start_time": "2024-06-04T05:36:50.922Z"
   },
   {
    "duration": 5,
    "start_time": "2024-06-04T05:36:50.933Z"
   },
   {
    "duration": 7,
    "start_time": "2024-06-04T05:36:50.942Z"
   },
   {
    "duration": 50,
    "start_time": "2024-06-04T05:36:50.953Z"
   },
   {
    "duration": 6,
    "start_time": "2024-06-04T05:36:51.007Z"
   },
   {
    "duration": 6,
    "start_time": "2024-06-04T05:36:51.016Z"
   },
   {
    "duration": 4,
    "start_time": "2024-06-04T05:36:51.024Z"
   },
   {
    "duration": 4,
    "start_time": "2024-06-04T05:36:51.032Z"
   },
   {
    "duration": 402,
    "start_time": "2024-06-04T05:36:51.039Z"
   },
   {
    "duration": 97,
    "start_time": "2024-06-04T05:37:53.906Z"
   },
   {
    "duration": 85,
    "start_time": "2024-06-04T05:38:00.840Z"
   },
   {
    "duration": 77,
    "start_time": "2024-06-04T05:38:10.653Z"
   },
   {
    "duration": 4,
    "start_time": "2024-06-04T05:38:12.942Z"
   },
   {
    "duration": 1454,
    "start_time": "2024-06-04T05:38:26.937Z"
   },
   {
    "duration": 356,
    "start_time": "2024-06-04T05:38:28.394Z"
   },
   {
    "duration": 112,
    "start_time": "2024-06-04T05:38:28.753Z"
   },
   {
    "duration": 422,
    "start_time": "2024-06-04T05:38:28.868Z"
   },
   {
    "duration": 10,
    "start_time": "2024-06-04T05:38:29.294Z"
   },
   {
    "duration": 12,
    "start_time": "2024-06-04T05:38:29.307Z"
   },
   {
    "duration": 13,
    "start_time": "2024-06-04T05:38:29.322Z"
   },
   {
    "duration": 10,
    "start_time": "2024-06-04T05:38:29.338Z"
   },
   {
    "duration": 51,
    "start_time": "2024-06-04T05:38:29.351Z"
   },
   {
    "duration": 7,
    "start_time": "2024-06-04T05:38:29.405Z"
   },
   {
    "duration": 6,
    "start_time": "2024-06-04T05:38:29.415Z"
   },
   {
    "duration": 581,
    "start_time": "2024-06-04T05:38:29.424Z"
   },
   {
    "duration": 457,
    "start_time": "2024-06-04T05:38:30.008Z"
   },
   {
    "duration": 487,
    "start_time": "2024-06-04T05:38:30.471Z"
   },
   {
    "duration": 5,
    "start_time": "2024-06-04T05:38:30.961Z"
   },
   {
    "duration": 1111,
    "start_time": "2024-06-04T05:38:30.969Z"
   },
   {
    "duration": 33,
    "start_time": "2024-06-04T05:38:32.083Z"
   },
   {
    "duration": 285,
    "start_time": "2024-06-04T05:38:32.119Z"
   },
   {
    "duration": 285,
    "start_time": "2024-06-04T05:38:32.407Z"
   },
   {
    "duration": 288,
    "start_time": "2024-06-04T05:38:32.694Z"
   },
   {
    "duration": 4,
    "start_time": "2024-06-04T05:38:32.985Z"
   },
   {
    "duration": 5,
    "start_time": "2024-06-04T05:38:33.002Z"
   },
   {
    "duration": 20,
    "start_time": "2024-06-04T05:38:33.010Z"
   },
   {
    "duration": 7,
    "start_time": "2024-06-04T05:38:33.033Z"
   },
   {
    "duration": 10,
    "start_time": "2024-06-04T05:38:33.043Z"
   },
   {
    "duration": 51,
    "start_time": "2024-06-04T05:38:33.056Z"
   },
   {
    "duration": 7,
    "start_time": "2024-06-04T05:38:33.110Z"
   },
   {
    "duration": 4,
    "start_time": "2024-06-04T05:38:33.120Z"
   },
   {
    "duration": 6,
    "start_time": "2024-06-04T05:38:33.127Z"
   },
   {
    "duration": 4,
    "start_time": "2024-06-04T05:38:33.136Z"
   },
   {
    "duration": 59,
    "start_time": "2024-06-04T05:38:33.143Z"
   },
   {
    "duration": 6,
    "start_time": "2024-06-04T05:38:33.205Z"
   },
   {
    "duration": 6,
    "start_time": "2024-06-04T05:38:33.214Z"
   },
   {
    "duration": 5,
    "start_time": "2024-06-04T05:38:33.223Z"
   },
   {
    "duration": 4,
    "start_time": "2024-06-04T05:38:33.231Z"
   },
   {
    "duration": 16,
    "start_time": "2024-06-04T05:38:33.238Z"
   },
   {
    "duration": 345,
    "start_time": "2024-06-04T05:38:33.258Z"
   },
   {
    "duration": 317,
    "start_time": "2024-06-04T05:40:35.033Z"
   },
   {
    "duration": 1435,
    "start_time": "2024-06-04T05:41:21.209Z"
   },
   {
    "duration": 346,
    "start_time": "2024-06-04T05:41:22.647Z"
   },
   {
    "duration": 106,
    "start_time": "2024-06-04T05:41:23.001Z"
   },
   {
    "duration": 443,
    "start_time": "2024-06-04T05:41:23.114Z"
   },
   {
    "duration": 7,
    "start_time": "2024-06-04T05:41:23.560Z"
   },
   {
    "duration": 12,
    "start_time": "2024-06-04T05:41:23.570Z"
   },
   {
    "duration": 13,
    "start_time": "2024-06-04T05:41:23.602Z"
   },
   {
    "duration": 10,
    "start_time": "2024-06-04T05:41:23.618Z"
   },
   {
    "duration": 6,
    "start_time": "2024-06-04T05:41:23.631Z"
   },
   {
    "duration": 6,
    "start_time": "2024-06-04T05:41:23.644Z"
   },
   {
    "duration": 50,
    "start_time": "2024-06-04T05:41:23.654Z"
   },
   {
    "duration": 546,
    "start_time": "2024-06-04T05:41:23.710Z"
   },
   {
    "duration": 479,
    "start_time": "2024-06-04T05:41:24.259Z"
   },
   {
    "duration": 481,
    "start_time": "2024-06-04T05:41:24.741Z"
   },
   {
    "duration": 6,
    "start_time": "2024-06-04T05:41:25.225Z"
   },
   {
    "duration": 1055,
    "start_time": "2024-06-04T05:41:25.233Z"
   },
   {
    "duration": 36,
    "start_time": "2024-06-04T05:41:26.290Z"
   },
   {
    "duration": 298,
    "start_time": "2024-06-04T05:41:26.329Z"
   },
   {
    "duration": 297,
    "start_time": "2024-06-04T05:41:26.630Z"
   },
   {
    "duration": 292,
    "start_time": "2024-06-04T05:41:26.930Z"
   },
   {
    "duration": 4,
    "start_time": "2024-06-04T05:41:27.225Z"
   },
   {
    "duration": 4,
    "start_time": "2024-06-04T05:41:27.232Z"
   },
   {
    "duration": 19,
    "start_time": "2024-06-04T05:41:27.240Z"
   },
   {
    "duration": 41,
    "start_time": "2024-06-04T05:41:27.262Z"
   },
   {
    "duration": 10,
    "start_time": "2024-06-04T05:41:27.307Z"
   },
   {
    "duration": 9,
    "start_time": "2024-06-04T05:41:27.320Z"
   },
   {
    "duration": 6,
    "start_time": "2024-06-04T05:41:27.332Z"
   },
   {
    "duration": 549,
    "start_time": "2024-06-04T05:41:27.347Z"
   },
   {
    "duration": 1,
    "start_time": "2024-06-04T05:41:27.902Z"
   },
   {
    "duration": 0,
    "start_time": "2024-06-04T05:41:27.904Z"
   },
   {
    "duration": 0,
    "start_time": "2024-06-04T05:41:27.906Z"
   },
   {
    "duration": 0,
    "start_time": "2024-06-04T05:41:27.909Z"
   },
   {
    "duration": 0,
    "start_time": "2024-06-04T05:41:27.911Z"
   },
   {
    "duration": 0,
    "start_time": "2024-06-04T05:41:27.913Z"
   },
   {
    "duration": 0,
    "start_time": "2024-06-04T05:41:27.915Z"
   },
   {
    "duration": 0,
    "start_time": "2024-06-04T05:41:27.917Z"
   },
   {
    "duration": 0,
    "start_time": "2024-06-04T05:41:27.919Z"
   },
   {
    "duration": 1418,
    "start_time": "2024-06-04T05:41:54.170Z"
   },
   {
    "duration": 360,
    "start_time": "2024-06-04T05:41:55.592Z"
   },
   {
    "duration": 127,
    "start_time": "2024-06-04T05:41:55.956Z"
   },
   {
    "duration": 467,
    "start_time": "2024-06-04T05:41:56.087Z"
   },
   {
    "duration": 6,
    "start_time": "2024-06-04T05:41:56.558Z"
   },
   {
    "duration": 12,
    "start_time": "2024-06-04T05:41:56.567Z"
   },
   {
    "duration": 15,
    "start_time": "2024-06-04T05:41:56.603Z"
   },
   {
    "duration": 10,
    "start_time": "2024-06-04T05:41:56.621Z"
   },
   {
    "duration": 6,
    "start_time": "2024-06-04T05:41:56.634Z"
   },
   {
    "duration": 7,
    "start_time": "2024-06-04T05:41:56.643Z"
   },
   {
    "duration": 52,
    "start_time": "2024-06-04T05:41:56.653Z"
   },
   {
    "duration": 556,
    "start_time": "2024-06-04T05:41:56.709Z"
   },
   {
    "duration": 456,
    "start_time": "2024-06-04T05:41:57.269Z"
   },
   {
    "duration": 497,
    "start_time": "2024-06-04T05:41:57.731Z"
   },
   {
    "duration": 7,
    "start_time": "2024-06-04T05:41:58.230Z"
   },
   {
    "duration": 1146,
    "start_time": "2024-06-04T05:41:58.241Z"
   },
   {
    "duration": 32,
    "start_time": "2024-06-04T05:41:59.390Z"
   },
   {
    "duration": 284,
    "start_time": "2024-06-04T05:41:59.424Z"
   },
   {
    "duration": 277,
    "start_time": "2024-06-04T05:41:59.711Z"
   },
   {
    "duration": 271,
    "start_time": "2024-06-04T05:41:59.991Z"
   },
   {
    "duration": 4,
    "start_time": "2024-06-04T05:42:00.266Z"
   },
   {
    "duration": 4,
    "start_time": "2024-06-04T05:42:00.274Z"
   },
   {
    "duration": 18,
    "start_time": "2024-06-04T05:42:00.302Z"
   },
   {
    "duration": 6,
    "start_time": "2024-06-04T05:42:00.323Z"
   },
   {
    "duration": 10,
    "start_time": "2024-06-04T05:42:00.333Z"
   },
   {
    "duration": 9,
    "start_time": "2024-06-04T05:42:00.346Z"
   },
   {
    "duration": 6,
    "start_time": "2024-06-04T05:42:00.401Z"
   },
   {
    "duration": 4,
    "start_time": "2024-06-04T05:42:00.411Z"
   },
   {
    "duration": 6,
    "start_time": "2024-06-04T05:42:00.419Z"
   },
   {
    "duration": 7,
    "start_time": "2024-06-04T05:42:00.430Z"
   },
   {
    "duration": 6,
    "start_time": "2024-06-04T05:42:00.440Z"
   },
   {
    "duration": 49,
    "start_time": "2024-06-04T05:42:00.452Z"
   },
   {
    "duration": 7,
    "start_time": "2024-06-04T05:42:00.504Z"
   },
   {
    "duration": 6,
    "start_time": "2024-06-04T05:42:00.514Z"
   },
   {
    "duration": 3,
    "start_time": "2024-06-04T05:42:00.523Z"
   },
   {
    "duration": 4,
    "start_time": "2024-06-04T05:42:00.530Z"
   },
   {
    "duration": 339,
    "start_time": "2024-06-04T05:42:00.537Z"
   },
   {
    "duration": 99,
    "start_time": "2024-06-04T05:43:38.317Z"
   },
   {
    "duration": 86,
    "start_time": "2024-06-04T05:44:25.050Z"
   },
   {
    "duration": 77,
    "start_time": "2024-06-04T05:44:42.847Z"
   },
   {
    "duration": 79,
    "start_time": "2024-06-04T05:44:55.505Z"
   },
   {
    "duration": 70,
    "start_time": "2024-06-04T05:45:03.257Z"
   },
   {
    "duration": 4,
    "start_time": "2024-06-04T05:45:11.685Z"
   },
   {
    "duration": 4,
    "start_time": "2024-06-04T05:45:15.667Z"
   },
   {
    "duration": 5,
    "start_time": "2024-06-04T05:45:16.294Z"
   },
   {
    "duration": 75,
    "start_time": "2024-06-04T05:45:20.690Z"
   },
   {
    "duration": 74,
    "start_time": "2024-06-04T05:47:41.943Z"
   },
   {
    "duration": 5,
    "start_time": "2024-06-04T05:48:11.048Z"
   },
   {
    "duration": 631,
    "start_time": "2024-06-04T05:48:12.748Z"
   },
   {
    "duration": 1465,
    "start_time": "2024-06-04T05:48:20.601Z"
   },
   {
    "duration": 0,
    "start_time": "2024-06-04T05:48:22.070Z"
   },
   {
    "duration": 37,
    "start_time": "2024-06-04T05:49:02.504Z"
   },
   {
    "duration": 1533,
    "start_time": "2024-06-04T05:49:22.775Z"
   },
   {
    "duration": 359,
    "start_time": "2024-06-04T05:49:24.313Z"
   },
   {
    "duration": 117,
    "start_time": "2024-06-04T05:49:24.676Z"
   },
   {
    "duration": 580,
    "start_time": "2024-06-04T05:49:24.801Z"
   },
   {
    "duration": 7,
    "start_time": "2024-06-04T05:49:25.383Z"
   },
   {
    "duration": 13,
    "start_time": "2024-06-04T05:49:25.402Z"
   },
   {
    "duration": 15,
    "start_time": "2024-06-04T05:49:25.418Z"
   },
   {
    "duration": 12,
    "start_time": "2024-06-04T05:49:25.436Z"
   },
   {
    "duration": 52,
    "start_time": "2024-06-04T05:49:25.451Z"
   },
   {
    "duration": 10,
    "start_time": "2024-06-04T05:49:25.510Z"
   },
   {
    "duration": 7,
    "start_time": "2024-06-04T05:49:25.523Z"
   },
   {
    "duration": 669,
    "start_time": "2024-06-04T05:49:25.534Z"
   },
   {
    "duration": 570,
    "start_time": "2024-06-04T05:49:26.207Z"
   },
   {
    "duration": 582,
    "start_time": "2024-06-04T05:49:26.780Z"
   },
   {
    "duration": 10,
    "start_time": "2024-06-04T05:49:27.366Z"
   },
   {
    "duration": 1192,
    "start_time": "2024-06-04T05:49:27.382Z"
   },
   {
    "duration": 34,
    "start_time": "2024-06-04T05:49:28.580Z"
   },
   {
    "duration": 295,
    "start_time": "2024-06-04T05:49:28.618Z"
   },
   {
    "duration": 303,
    "start_time": "2024-06-04T05:49:28.916Z"
   },
   {
    "duration": 371,
    "start_time": "2024-06-04T05:49:29.223Z"
   },
   {
    "duration": 5,
    "start_time": "2024-06-04T05:49:29.605Z"
   },
   {
    "duration": 6,
    "start_time": "2024-06-04T05:49:29.622Z"
   },
   {
    "duration": 24,
    "start_time": "2024-06-04T05:49:29.631Z"
   },
   {
    "duration": 8,
    "start_time": "2024-06-04T05:49:29.658Z"
   },
   {
    "duration": 38,
    "start_time": "2024-06-04T05:49:29.669Z"
   },
   {
    "duration": 11,
    "start_time": "2024-06-04T05:49:29.711Z"
   },
   {
    "duration": 7,
    "start_time": "2024-06-04T05:49:29.726Z"
   },
   {
    "duration": 4,
    "start_time": "2024-06-04T05:49:29.747Z"
   },
   {
    "duration": 49,
    "start_time": "2024-06-04T05:49:29.755Z"
   },
   {
    "duration": 5,
    "start_time": "2024-06-04T05:49:29.808Z"
   },
   {
    "duration": 5,
    "start_time": "2024-06-04T05:49:29.817Z"
   },
   {
    "duration": 6,
    "start_time": "2024-06-04T05:49:29.826Z"
   },
   {
    "duration": 6,
    "start_time": "2024-06-04T05:49:29.836Z"
   },
   {
    "duration": 6,
    "start_time": "2024-06-04T05:49:29.846Z"
   },
   {
    "duration": 87,
    "start_time": "2024-06-04T05:49:29.855Z"
   },
   {
    "duration": 338,
    "start_time": "2024-06-04T05:49:29.945Z"
   },
   {
    "duration": 0,
    "start_time": "2024-06-04T05:49:30.288Z"
   },
   {
    "duration": 36,
    "start_time": "2024-06-04T05:49:51.016Z"
   },
   {
    "duration": 708,
    "start_time": "2024-06-04T05:49:55.817Z"
   },
   {
    "duration": 1344,
    "start_time": "2024-06-04T05:50:51.448Z"
   },
   {
    "duration": 1524,
    "start_time": "2024-06-04T05:52:11.026Z"
   },
   {
    "duration": 434,
    "start_time": "2024-06-04T05:52:12.554Z"
   },
   {
    "duration": 144,
    "start_time": "2024-06-04T05:52:13.001Z"
   },
   {
    "duration": 467,
    "start_time": "2024-06-04T05:52:13.148Z"
   },
   {
    "duration": 6,
    "start_time": "2024-06-04T05:52:13.620Z"
   },
   {
    "duration": 13,
    "start_time": "2024-06-04T05:52:13.630Z"
   },
   {
    "duration": 15,
    "start_time": "2024-06-04T05:52:13.649Z"
   },
   {
    "duration": 11,
    "start_time": "2024-06-04T05:52:13.703Z"
   },
   {
    "duration": 6,
    "start_time": "2024-06-04T05:52:13.718Z"
   },
   {
    "duration": 8,
    "start_time": "2024-06-04T05:52:13.728Z"
   },
   {
    "duration": 9,
    "start_time": "2024-06-04T05:52:13.739Z"
   },
   {
    "duration": 598,
    "start_time": "2024-06-04T05:52:13.751Z"
   },
   {
    "duration": 473,
    "start_time": "2024-06-04T05:52:14.354Z"
   },
   {
    "duration": 522,
    "start_time": "2024-06-04T05:52:14.835Z"
   },
   {
    "duration": 6,
    "start_time": "2024-06-04T05:52:15.361Z"
   },
   {
    "duration": 1155,
    "start_time": "2024-06-04T05:52:15.370Z"
   },
   {
    "duration": 26,
    "start_time": "2024-06-04T05:52:16.528Z"
   },
   {
    "duration": 304,
    "start_time": "2024-06-04T05:52:16.557Z"
   },
   {
    "duration": 317,
    "start_time": "2024-06-04T05:52:16.864Z"
   },
   {
    "duration": 282,
    "start_time": "2024-06-04T05:52:17.184Z"
   },
   {
    "duration": 3,
    "start_time": "2024-06-04T05:52:17.469Z"
   },
   {
    "duration": 5,
    "start_time": "2024-06-04T05:52:17.475Z"
   },
   {
    "duration": 18,
    "start_time": "2024-06-04T05:52:17.503Z"
   },
   {
    "duration": 5,
    "start_time": "2024-06-04T05:52:17.524Z"
   },
   {
    "duration": 9,
    "start_time": "2024-06-04T05:52:17.533Z"
   },
   {
    "duration": 9,
    "start_time": "2024-06-04T05:52:17.546Z"
   },
   {
    "duration": 6,
    "start_time": "2024-06-04T05:52:17.601Z"
   },
   {
    "duration": 3,
    "start_time": "2024-06-04T05:52:17.611Z"
   },
   {
    "duration": 6,
    "start_time": "2024-06-04T05:52:17.618Z"
   },
   {
    "duration": 5,
    "start_time": "2024-06-04T05:52:17.628Z"
   },
   {
    "duration": 9,
    "start_time": "2024-06-04T05:52:17.639Z"
   },
   {
    "duration": 50,
    "start_time": "2024-06-04T05:52:17.652Z"
   },
   {
    "duration": 6,
    "start_time": "2024-06-04T05:52:17.705Z"
   },
   {
    "duration": 5,
    "start_time": "2024-06-04T05:52:17.715Z"
   },
   {
    "duration": 40,
    "start_time": "2024-06-04T05:52:17.723Z"
   },
   {
    "duration": 1046,
    "start_time": "2024-06-04T05:52:17.802Z"
   },
   {
    "duration": 0,
    "start_time": "2024-06-04T05:52:18.851Z"
   },
   {
    "duration": 1466,
    "start_time": "2024-06-04T05:52:47.119Z"
   },
   {
    "duration": 371,
    "start_time": "2024-06-04T05:52:48.589Z"
   },
   {
    "duration": 118,
    "start_time": "2024-06-04T05:52:48.963Z"
   },
   {
    "duration": 437,
    "start_time": "2024-06-04T05:52:49.085Z"
   },
   {
    "duration": 5,
    "start_time": "2024-06-04T05:52:49.525Z"
   },
   {
    "duration": 12,
    "start_time": "2024-06-04T05:52:49.534Z"
   },
   {
    "duration": 13,
    "start_time": "2024-06-04T05:52:49.549Z"
   },
   {
    "duration": 10,
    "start_time": "2024-06-04T05:52:49.601Z"
   },
   {
    "duration": 7,
    "start_time": "2024-06-04T05:52:49.614Z"
   },
   {
    "duration": 7,
    "start_time": "2024-06-04T05:52:49.628Z"
   },
   {
    "duration": 7,
    "start_time": "2024-06-04T05:52:49.639Z"
   },
   {
    "duration": 593,
    "start_time": "2024-06-04T05:52:49.649Z"
   },
   {
    "duration": 458,
    "start_time": "2024-06-04T05:52:50.246Z"
   },
   {
    "duration": 497,
    "start_time": "2024-06-04T05:52:50.707Z"
   },
   {
    "duration": 5,
    "start_time": "2024-06-04T05:52:51.207Z"
   },
   {
    "duration": 1068,
    "start_time": "2024-06-04T05:52:51.215Z"
   },
   {
    "duration": 33,
    "start_time": "2024-06-04T05:52:52.286Z"
   },
   {
    "duration": 271,
    "start_time": "2024-06-04T05:52:52.322Z"
   },
   {
    "duration": 278,
    "start_time": "2024-06-04T05:52:52.602Z"
   },
   {
    "duration": 282,
    "start_time": "2024-06-04T05:52:52.883Z"
   },
   {
    "duration": 4,
    "start_time": "2024-06-04T05:52:53.168Z"
   },
   {
    "duration": 5,
    "start_time": "2024-06-04T05:52:53.176Z"
   },
   {
    "duration": 37,
    "start_time": "2024-06-04T05:52:53.184Z"
   },
   {
    "duration": 6,
    "start_time": "2024-06-04T05:52:53.225Z"
   },
   {
    "duration": 11,
    "start_time": "2024-06-04T05:52:53.235Z"
   },
   {
    "duration": 56,
    "start_time": "2024-06-04T05:52:53.249Z"
   },
   {
    "duration": 6,
    "start_time": "2024-06-04T05:52:53.308Z"
   },
   {
    "duration": 3,
    "start_time": "2024-06-04T05:52:53.321Z"
   },
   {
    "duration": 5,
    "start_time": "2024-06-04T05:52:53.328Z"
   },
   {
    "duration": 4,
    "start_time": "2024-06-04T05:52:53.337Z"
   },
   {
    "duration": 6,
    "start_time": "2024-06-04T05:52:53.344Z"
   },
   {
    "duration": 5,
    "start_time": "2024-06-04T05:52:53.402Z"
   },
   {
    "duration": 5,
    "start_time": "2024-06-04T05:52:53.411Z"
   },
   {
    "duration": 5,
    "start_time": "2024-06-04T05:52:53.419Z"
   },
   {
    "duration": 74,
    "start_time": "2024-06-04T05:52:53.427Z"
   },
   {
    "duration": 897,
    "start_time": "2024-06-04T05:52:53.507Z"
   },
   {
    "duration": 0,
    "start_time": "2024-06-04T05:52:54.407Z"
   },
   {
    "duration": 1484,
    "start_time": "2024-06-04T05:53:30.792Z"
   },
   {
    "duration": 340,
    "start_time": "2024-06-04T05:53:32.281Z"
   },
   {
    "duration": 112,
    "start_time": "2024-06-04T05:53:32.624Z"
   },
   {
    "duration": 419,
    "start_time": "2024-06-04T05:53:32.740Z"
   },
   {
    "duration": 5,
    "start_time": "2024-06-04T05:53:33.165Z"
   },
   {
    "duration": 32,
    "start_time": "2024-06-04T05:53:33.174Z"
   },
   {
    "duration": 14,
    "start_time": "2024-06-04T05:53:33.209Z"
   },
   {
    "duration": 12,
    "start_time": "2024-06-04T05:53:33.227Z"
   },
   {
    "duration": 7,
    "start_time": "2024-06-04T05:53:33.245Z"
   },
   {
    "duration": 43,
    "start_time": "2024-06-04T05:53:33.257Z"
   },
   {
    "duration": 6,
    "start_time": "2024-06-04T05:53:33.305Z"
   },
   {
    "duration": 558,
    "start_time": "2024-06-04T05:53:33.315Z"
   },
   {
    "duration": 462,
    "start_time": "2024-06-04T05:53:33.876Z"
   },
   {
    "duration": 488,
    "start_time": "2024-06-04T05:53:34.346Z"
   },
   {
    "duration": 5,
    "start_time": "2024-06-04T05:53:34.837Z"
   },
   {
    "duration": 1141,
    "start_time": "2024-06-04T05:53:34.845Z"
   },
   {
    "duration": 37,
    "start_time": "2024-06-04T05:53:35.990Z"
   },
   {
    "duration": 290,
    "start_time": "2024-06-04T05:53:36.029Z"
   },
   {
    "duration": 300,
    "start_time": "2024-06-04T05:53:36.321Z"
   },
   {
    "duration": 289,
    "start_time": "2024-06-04T05:53:36.624Z"
   },
   {
    "duration": 3,
    "start_time": "2024-06-04T05:53:36.917Z"
   },
   {
    "duration": 4,
    "start_time": "2024-06-04T05:53:36.925Z"
   },
   {
    "duration": 17,
    "start_time": "2024-06-04T05:53:36.932Z"
   },
   {
    "duration": 7,
    "start_time": "2024-06-04T05:53:36.952Z"
   },
   {
    "duration": 48,
    "start_time": "2024-06-04T05:53:36.962Z"
   },
   {
    "duration": 9,
    "start_time": "2024-06-04T05:53:37.014Z"
   },
   {
    "duration": 5,
    "start_time": "2024-06-04T05:53:37.026Z"
   },
   {
    "duration": 4,
    "start_time": "2024-06-04T05:53:37.034Z"
   },
   {
    "duration": 8,
    "start_time": "2024-06-04T05:53:37.042Z"
   },
   {
    "duration": 6,
    "start_time": "2024-06-04T05:53:37.101Z"
   },
   {
    "duration": 6,
    "start_time": "2024-06-04T05:53:37.111Z"
   },
   {
    "duration": 7,
    "start_time": "2024-06-04T05:53:37.120Z"
   },
   {
    "duration": 5,
    "start_time": "2024-06-04T05:53:37.130Z"
   },
   {
    "duration": 5,
    "start_time": "2024-06-04T05:53:37.139Z"
   },
   {
    "duration": 87,
    "start_time": "2024-06-04T05:53:37.147Z"
   },
   {
    "duration": 542,
    "start_time": "2024-06-04T05:53:37.237Z"
   },
   {
    "duration": 1396,
    "start_time": "2024-06-04T05:54:40.934Z"
   },
   {
    "duration": 385,
    "start_time": "2024-06-04T05:54:42.334Z"
   },
   {
    "duration": 117,
    "start_time": "2024-06-04T05:54:42.723Z"
   },
   {
    "duration": 449,
    "start_time": "2024-06-04T05:54:42.843Z"
   },
   {
    "duration": 7,
    "start_time": "2024-06-04T05:54:43.296Z"
   },
   {
    "duration": 12,
    "start_time": "2024-06-04T05:54:43.306Z"
   },
   {
    "duration": 12,
    "start_time": "2024-06-04T05:54:43.321Z"
   },
   {
    "duration": 11,
    "start_time": "2024-06-04T05:54:43.337Z"
   },
   {
    "duration": 55,
    "start_time": "2024-06-04T05:54:43.350Z"
   },
   {
    "duration": 7,
    "start_time": "2024-06-04T05:54:43.408Z"
   },
   {
    "duration": 5,
    "start_time": "2024-06-04T05:54:43.419Z"
   },
   {
    "duration": 576,
    "start_time": "2024-06-04T05:54:43.427Z"
   },
   {
    "duration": 458,
    "start_time": "2024-06-04T05:54:44.007Z"
   },
   {
    "duration": 477,
    "start_time": "2024-06-04T05:54:44.472Z"
   },
   {
    "duration": 9,
    "start_time": "2024-06-04T05:54:44.952Z"
   },
   {
    "duration": 1191,
    "start_time": "2024-06-04T05:54:44.965Z"
   },
   {
    "duration": 29,
    "start_time": "2024-06-04T05:54:46.159Z"
   },
   {
    "duration": 315,
    "start_time": "2024-06-04T05:54:46.191Z"
   },
   {
    "duration": 297,
    "start_time": "2024-06-04T05:54:46.509Z"
   },
   {
    "duration": 290,
    "start_time": "2024-06-04T05:54:46.811Z"
   },
   {
    "duration": 4,
    "start_time": "2024-06-04T05:54:47.105Z"
   },
   {
    "duration": 4,
    "start_time": "2024-06-04T05:54:47.114Z"
   },
   {
    "duration": 21,
    "start_time": "2024-06-04T05:54:47.122Z"
   },
   {
    "duration": 6,
    "start_time": "2024-06-04T05:54:47.146Z"
   },
   {
    "duration": 12,
    "start_time": "2024-06-04T05:54:47.201Z"
   },
   {
    "duration": 10,
    "start_time": "2024-06-04T05:54:47.216Z"
   },
   {
    "duration": 7,
    "start_time": "2024-06-04T05:54:47.229Z"
   },
   {
    "duration": 4,
    "start_time": "2024-06-04T05:54:47.239Z"
   },
   {
    "duration": 5,
    "start_time": "2024-06-04T05:54:47.246Z"
   },
   {
    "duration": 46,
    "start_time": "2024-06-04T05:54:47.256Z"
   },
   {
    "duration": 6,
    "start_time": "2024-06-04T05:54:47.305Z"
   },
   {
    "duration": 5,
    "start_time": "2024-06-04T05:54:47.314Z"
   },
   {
    "duration": 5,
    "start_time": "2024-06-04T05:54:47.322Z"
   },
   {
    "duration": 5,
    "start_time": "2024-06-04T05:54:47.331Z"
   },
   {
    "duration": 97,
    "start_time": "2024-06-04T05:54:47.339Z"
   },
   {
    "duration": 1457,
    "start_time": "2024-06-04T05:57:11.633Z"
   },
   {
    "duration": 338,
    "start_time": "2024-06-04T05:57:13.094Z"
   },
   {
    "duration": 112,
    "start_time": "2024-06-04T05:57:13.435Z"
   },
   {
    "duration": 450,
    "start_time": "2024-06-04T05:57:13.551Z"
   },
   {
    "duration": 6,
    "start_time": "2024-06-04T05:57:14.006Z"
   },
   {
    "duration": 12,
    "start_time": "2024-06-04T05:57:14.016Z"
   },
   {
    "duration": 13,
    "start_time": "2024-06-04T05:57:14.030Z"
   },
   {
    "duration": 56,
    "start_time": "2024-06-04T05:57:14.046Z"
   },
   {
    "duration": 6,
    "start_time": "2024-06-04T05:57:14.105Z"
   },
   {
    "duration": 7,
    "start_time": "2024-06-04T05:57:14.114Z"
   },
   {
    "duration": 6,
    "start_time": "2024-06-04T05:57:14.123Z"
   },
   {
    "duration": 561,
    "start_time": "2024-06-04T05:57:14.133Z"
   },
   {
    "duration": 462,
    "start_time": "2024-06-04T05:57:14.697Z"
   },
   {
    "duration": 466,
    "start_time": "2024-06-04T05:57:15.166Z"
   },
   {
    "duration": 6,
    "start_time": "2024-06-04T05:57:15.634Z"
   },
   {
    "duration": 1144,
    "start_time": "2024-06-04T05:57:15.643Z"
   },
   {
    "duration": 26,
    "start_time": "2024-06-04T05:57:16.801Z"
   },
   {
    "duration": 282,
    "start_time": "2024-06-04T05:57:16.830Z"
   },
   {
    "duration": 294,
    "start_time": "2024-06-04T05:57:17.114Z"
   },
   {
    "duration": 295,
    "start_time": "2024-06-04T05:57:17.411Z"
   },
   {
    "duration": 3,
    "start_time": "2024-06-04T05:57:17.710Z"
   },
   {
    "duration": 4,
    "start_time": "2024-06-04T05:57:17.717Z"
   },
   {
    "duration": 18,
    "start_time": "2024-06-04T05:57:17.724Z"
   },
   {
    "duration": 6,
    "start_time": "2024-06-04T05:57:17.745Z"
   },
   {
    "duration": 51,
    "start_time": "2024-06-04T05:57:17.754Z"
   },
   {
    "duration": 10,
    "start_time": "2024-06-04T05:57:17.807Z"
   },
   {
    "duration": 7,
    "start_time": "2024-06-04T05:57:17.819Z"
   },
   {
    "duration": 3,
    "start_time": "2024-06-04T05:57:17.829Z"
   },
   {
    "duration": 6,
    "start_time": "2024-06-04T05:57:17.835Z"
   },
   {
    "duration": 56,
    "start_time": "2024-06-04T05:57:17.845Z"
   },
   {
    "duration": 6,
    "start_time": "2024-06-04T05:57:17.904Z"
   },
   {
    "duration": 6,
    "start_time": "2024-06-04T05:57:17.913Z"
   },
   {
    "duration": 5,
    "start_time": "2024-06-04T05:57:17.922Z"
   },
   {
    "duration": 4,
    "start_time": "2024-06-04T05:57:17.931Z"
   },
   {
    "duration": 80,
    "start_time": "2024-06-04T05:57:17.938Z"
   },
   {
    "duration": 1417,
    "start_time": "2024-06-04T05:58:43.447Z"
   },
   {
    "duration": 354,
    "start_time": "2024-06-04T05:58:44.867Z"
   },
   {
    "duration": 116,
    "start_time": "2024-06-04T05:58:45.224Z"
   },
   {
    "duration": 450,
    "start_time": "2024-06-04T05:58:45.345Z"
   },
   {
    "duration": 6,
    "start_time": "2024-06-04T05:58:45.802Z"
   },
   {
    "duration": 12,
    "start_time": "2024-06-04T05:58:45.811Z"
   },
   {
    "duration": 14,
    "start_time": "2024-06-04T05:58:45.826Z"
   },
   {
    "duration": 11,
    "start_time": "2024-06-04T05:58:45.842Z"
   },
   {
    "duration": 6,
    "start_time": "2024-06-04T05:58:45.901Z"
   },
   {
    "duration": 7,
    "start_time": "2024-06-04T05:58:45.915Z"
   },
   {
    "duration": 7,
    "start_time": "2024-06-04T05:58:45.924Z"
   },
   {
    "duration": 580,
    "start_time": "2024-06-04T05:58:45.936Z"
   },
   {
    "duration": 482,
    "start_time": "2024-06-04T05:58:46.519Z"
   },
   {
    "duration": 492,
    "start_time": "2024-06-04T05:58:47.005Z"
   },
   {
    "duration": 5,
    "start_time": "2024-06-04T05:58:47.503Z"
   },
   {
    "duration": 1070,
    "start_time": "2024-06-04T05:58:47.511Z"
   },
   {
    "duration": 32,
    "start_time": "2024-06-04T05:58:48.584Z"
   },
   {
    "duration": 294,
    "start_time": "2024-06-04T05:58:48.620Z"
   },
   {
    "duration": 290,
    "start_time": "2024-06-04T05:58:48.917Z"
   },
   {
    "duration": 278,
    "start_time": "2024-06-04T05:58:49.211Z"
   },
   {
    "duration": 11,
    "start_time": "2024-06-04T05:58:49.491Z"
   },
   {
    "duration": 4,
    "start_time": "2024-06-04T05:58:49.506Z"
   },
   {
    "duration": 18,
    "start_time": "2024-06-04T05:58:49.514Z"
   },
   {
    "duration": 6,
    "start_time": "2024-06-04T05:58:49.535Z"
   },
   {
    "duration": 10,
    "start_time": "2024-06-04T05:58:49.544Z"
   },
   {
    "duration": 9,
    "start_time": "2024-06-04T05:58:49.603Z"
   },
   {
    "duration": 5,
    "start_time": "2024-06-04T05:58:49.615Z"
   },
   {
    "duration": 3,
    "start_time": "2024-06-04T05:58:49.628Z"
   },
   {
    "duration": 5,
    "start_time": "2024-06-04T05:58:49.635Z"
   },
   {
    "duration": 5,
    "start_time": "2024-06-04T05:58:49.644Z"
   },
   {
    "duration": 55,
    "start_time": "2024-06-04T05:58:49.651Z"
   },
   {
    "duration": 7,
    "start_time": "2024-06-04T05:58:49.711Z"
   },
   {
    "duration": 5,
    "start_time": "2024-06-04T05:58:49.721Z"
   },
   {
    "duration": 5,
    "start_time": "2024-06-04T05:58:49.729Z"
   },
   {
    "duration": 79,
    "start_time": "2024-06-04T05:58:49.738Z"
   }
  ],
  "kernelspec": {
   "display_name": "Python 3 (ipykernel)",
   "language": "python",
   "name": "python3"
  },
  "language_info": {
   "codemirror_mode": {
    "name": "ipython",
    "version": 3
   },
   "file_extension": ".py",
   "mimetype": "text/x-python",
   "name": "python",
   "nbconvert_exporter": "python",
   "pygments_lexer": "ipython3",
   "version": "3.9.19"
  },
  "toc": {
   "base_numbering": 1,
   "nav_menu": {},
   "number_sections": true,
   "sideBar": true,
   "skip_h1_title": true,
   "title_cell": "Table of Contents",
   "title_sidebar": "Contents",
   "toc_cell": false,
   "toc_position": {},
   "toc_section_display": true,
   "toc_window_display": false
  }
 },
 "nbformat": 4,
 "nbformat_minor": 2
}
