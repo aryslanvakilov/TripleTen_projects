{
 "cells": [
  {
   "cell_type": "markdown",
   "metadata": {},
   "source": [
    "Rusty Bargain used car sales service is developing an app to attract new customers. In that app, you can quickly find out the market value of your car. You have access to historical data: technical specifications, trim versions, and prices. You need to build the model to determine the value. \n",
    "\n",
    "Rusty Bargain is interested in:\n",
    "\n",
    "- the quality of the prediction;\n",
    "- the speed of the prediction;\n",
    "- the time required for training"
   ]
  },
  {
   "cell_type": "markdown",
   "metadata": {},
   "source": [
    "## Data preparation"
   ]
  },
  {
   "cell_type": "code",
   "execution_count": 1,
   "metadata": {},
   "outputs": [],
   "source": [
    "import pandas as pd\n",
    "from sklearn.metrics import accuracy_score, f1_score\n",
    "from sklearn.ensemble import RandomForestRegressor, GradientBoostingRegressor\n",
    "from sklearn.metrics import mean_absolute_error\n",
    "from sklearn.ensemble import RandomForestRegressor\n",
    "from sklearn.tree import DecisionTreeRegressor\n",
    "from sklearn.linear_model import LogisticRegression\n",
    "from sklearn.metrics import mean_squared_error, r2_score\n",
    "from sklearn.dummy import DummyClassifier\n",
    "from sklearn.model_selection import train_test_split\n",
    "import matplotlib.pyplot as plt\n",
    "import numpy as np\n",
    "from sklearn.metrics import roc_auc_score\n",
    "from sklearn.linear_model import LinearRegression\n",
    "from sklearn.preprocessing import StandardScaler"
   ]
  },
  {
   "cell_type": "code",
   "execution_count": 2,
   "metadata": {},
   "outputs": [
    {
     "data": {
      "text/html": [
       "<div>\n",
       "<style scoped>\n",
       "    .dataframe tbody tr th:only-of-type {\n",
       "        vertical-align: middle;\n",
       "    }\n",
       "\n",
       "    .dataframe tbody tr th {\n",
       "        vertical-align: top;\n",
       "    }\n",
       "\n",
       "    .dataframe thead th {\n",
       "        text-align: right;\n",
       "    }\n",
       "</style>\n",
       "<table border=\"1\" class=\"dataframe\">\n",
       "  <thead>\n",
       "    <tr style=\"text-align: right;\">\n",
       "      <th></th>\n",
       "      <th>DateCrawled</th>\n",
       "      <th>Price</th>\n",
       "      <th>VehicleType</th>\n",
       "      <th>RegistrationYear</th>\n",
       "      <th>Gearbox</th>\n",
       "      <th>Power</th>\n",
       "      <th>Model</th>\n",
       "      <th>Mileage</th>\n",
       "      <th>RegistrationMonth</th>\n",
       "      <th>FuelType</th>\n",
       "      <th>Brand</th>\n",
       "      <th>NotRepaired</th>\n",
       "      <th>DateCreated</th>\n",
       "      <th>NumberOfPictures</th>\n",
       "      <th>PostalCode</th>\n",
       "      <th>LastSeen</th>\n",
       "    </tr>\n",
       "  </thead>\n",
       "  <tbody>\n",
       "    <tr>\n",
       "      <th>0</th>\n",
       "      <td>24/03/2016 11:52</td>\n",
       "      <td>480</td>\n",
       "      <td>NaN</td>\n",
       "      <td>1993</td>\n",
       "      <td>manual</td>\n",
       "      <td>0</td>\n",
       "      <td>golf</td>\n",
       "      <td>150000</td>\n",
       "      <td>0</td>\n",
       "      <td>petrol</td>\n",
       "      <td>volkswagen</td>\n",
       "      <td>NaN</td>\n",
       "      <td>24/03/2016 00:00</td>\n",
       "      <td>0</td>\n",
       "      <td>70435</td>\n",
       "      <td>07/04/2016 03:16</td>\n",
       "    </tr>\n",
       "    <tr>\n",
       "      <th>1</th>\n",
       "      <td>24/03/2016 10:58</td>\n",
       "      <td>18300</td>\n",
       "      <td>coupe</td>\n",
       "      <td>2011</td>\n",
       "      <td>manual</td>\n",
       "      <td>190</td>\n",
       "      <td>NaN</td>\n",
       "      <td>125000</td>\n",
       "      <td>5</td>\n",
       "      <td>gasoline</td>\n",
       "      <td>audi</td>\n",
       "      <td>yes</td>\n",
       "      <td>24/03/2016 00:00</td>\n",
       "      <td>0</td>\n",
       "      <td>66954</td>\n",
       "      <td>07/04/2016 01:46</td>\n",
       "    </tr>\n",
       "    <tr>\n",
       "      <th>2</th>\n",
       "      <td>14/03/2016 12:52</td>\n",
       "      <td>9800</td>\n",
       "      <td>suv</td>\n",
       "      <td>2004</td>\n",
       "      <td>auto</td>\n",
       "      <td>163</td>\n",
       "      <td>grand</td>\n",
       "      <td>125000</td>\n",
       "      <td>8</td>\n",
       "      <td>gasoline</td>\n",
       "      <td>jeep</td>\n",
       "      <td>NaN</td>\n",
       "      <td>14/03/2016 00:00</td>\n",
       "      <td>0</td>\n",
       "      <td>90480</td>\n",
       "      <td>05/04/2016 12:47</td>\n",
       "    </tr>\n",
       "    <tr>\n",
       "      <th>3</th>\n",
       "      <td>17/03/2016 16:54</td>\n",
       "      <td>1500</td>\n",
       "      <td>small</td>\n",
       "      <td>2001</td>\n",
       "      <td>manual</td>\n",
       "      <td>75</td>\n",
       "      <td>golf</td>\n",
       "      <td>150000</td>\n",
       "      <td>6</td>\n",
       "      <td>petrol</td>\n",
       "      <td>volkswagen</td>\n",
       "      <td>no</td>\n",
       "      <td>17/03/2016 00:00</td>\n",
       "      <td>0</td>\n",
       "      <td>91074</td>\n",
       "      <td>17/03/2016 17:40</td>\n",
       "    </tr>\n",
       "    <tr>\n",
       "      <th>4</th>\n",
       "      <td>31/03/2016 17:25</td>\n",
       "      <td>3600</td>\n",
       "      <td>small</td>\n",
       "      <td>2008</td>\n",
       "      <td>manual</td>\n",
       "      <td>69</td>\n",
       "      <td>fabia</td>\n",
       "      <td>90000</td>\n",
       "      <td>7</td>\n",
       "      <td>gasoline</td>\n",
       "      <td>skoda</td>\n",
       "      <td>no</td>\n",
       "      <td>31/03/2016 00:00</td>\n",
       "      <td>0</td>\n",
       "      <td>60437</td>\n",
       "      <td>06/04/2016 10:17</td>\n",
       "    </tr>\n",
       "  </tbody>\n",
       "</table>\n",
       "</div>"
      ],
      "text/plain": [
       "        DateCrawled  Price VehicleType  RegistrationYear Gearbox  Power  \\\n",
       "0  24/03/2016 11:52    480         NaN              1993  manual      0   \n",
       "1  24/03/2016 10:58  18300       coupe              2011  manual    190   \n",
       "2  14/03/2016 12:52   9800         suv              2004    auto    163   \n",
       "3  17/03/2016 16:54   1500       small              2001  manual     75   \n",
       "4  31/03/2016 17:25   3600       small              2008  manual     69   \n",
       "\n",
       "   Model  Mileage  RegistrationMonth  FuelType       Brand NotRepaired  \\\n",
       "0   golf   150000                  0    petrol  volkswagen         NaN   \n",
       "1    NaN   125000                  5  gasoline        audi         yes   \n",
       "2  grand   125000                  8  gasoline        jeep         NaN   \n",
       "3   golf   150000                  6    petrol  volkswagen          no   \n",
       "4  fabia    90000                  7  gasoline       skoda          no   \n",
       "\n",
       "        DateCreated  NumberOfPictures  PostalCode          LastSeen  \n",
       "0  24/03/2016 00:00                 0       70435  07/04/2016 03:16  \n",
       "1  24/03/2016 00:00                 0       66954  07/04/2016 01:46  \n",
       "2  14/03/2016 00:00                 0       90480  05/04/2016 12:47  \n",
       "3  17/03/2016 00:00                 0       91074  17/03/2016 17:40  \n",
       "4  31/03/2016 00:00                 0       60437  06/04/2016 10:17  "
      ]
     },
     "execution_count": 2,
     "metadata": {},
     "output_type": "execute_result"
    }
   ],
   "source": [
    "df = pd.read_csv('/datasets/car_data.csv')\n",
    "df.head()"
   ]
  },
  {
   "cell_type": "code",
   "execution_count": 3,
   "metadata": {},
   "outputs": [
    {
     "data": {
      "text/plain": [
       "DateCrawled          object\n",
       "Price                 int64\n",
       "VehicleType          object\n",
       "RegistrationYear      int64\n",
       "Gearbox              object\n",
       "Power                 int64\n",
       "Model                object\n",
       "Mileage               int64\n",
       "RegistrationMonth     int64\n",
       "FuelType             object\n",
       "Brand                object\n",
       "NotRepaired          object\n",
       "DateCreated          object\n",
       "NumberOfPictures      int64\n",
       "PostalCode            int64\n",
       "LastSeen             object\n",
       "dtype: object"
      ]
     },
     "execution_count": 3,
     "metadata": {},
     "output_type": "execute_result"
    }
   ],
   "source": [
    "df.dtypes"
   ]
  },
  {
   "cell_type": "code",
   "execution_count": 4,
   "metadata": {},
   "outputs": [],
   "source": [
    "features = df.drop(columns=['Price' ])\n",
    "target = df['Price']"
   ]
  },
  {
   "cell_type": "code",
   "execution_count": 5,
   "metadata": {},
   "outputs": [],
   "source": [
    "categorical_features = ['VehicleType', 'Gearbox', 'Model', 'FuelType', 'Brand', 'NotRepaired']\n",
    "numeric_features = ['RegistrationYear', 'Power', 'Mileage', 'RegistrationMonth', 'NumberOfPictures', 'PostalCode']"
   ]
  },
  {
   "cell_type": "code",
   "execution_count": 13,
   "metadata": {
    "scrolled": false
   },
   "outputs": [
    {
     "data": {
      "text/html": [
       "<div>\n",
       "<style scoped>\n",
       "    .dataframe tbody tr th:only-of-type {\n",
       "        vertical-align: middle;\n",
       "    }\n",
       "\n",
       "    .dataframe tbody tr th {\n",
       "        vertical-align: top;\n",
       "    }\n",
       "\n",
       "    .dataframe thead th {\n",
       "        text-align: right;\n",
       "    }\n",
       "</style>\n",
       "<table border=\"1\" class=\"dataframe\">\n",
       "  <thead>\n",
       "    <tr style=\"text-align: right;\">\n",
       "      <th></th>\n",
       "      <th>VehicleType_convertible</th>\n",
       "      <th>VehicleType_coupe</th>\n",
       "      <th>VehicleType_other</th>\n",
       "      <th>VehicleType_sedan</th>\n",
       "      <th>VehicleType_small</th>\n",
       "      <th>VehicleType_suv</th>\n",
       "      <th>VehicleType_wagon</th>\n",
       "      <th>Gearbox_manual</th>\n",
       "      <th>Model_145</th>\n",
       "      <th>Model_147</th>\n",
       "      <th>...</th>\n",
       "      <th>Brand_skoda</th>\n",
       "      <th>Brand_smart</th>\n",
       "      <th>Brand_sonstige_autos</th>\n",
       "      <th>Brand_subaru</th>\n",
       "      <th>Brand_suzuki</th>\n",
       "      <th>Brand_toyota</th>\n",
       "      <th>Brand_trabant</th>\n",
       "      <th>Brand_volkswagen</th>\n",
       "      <th>Brand_volvo</th>\n",
       "      <th>NotRepaired_yes</th>\n",
       "    </tr>\n",
       "  </thead>\n",
       "  <tbody>\n",
       "    <tr>\n",
       "      <th>0</th>\n",
       "      <td>0</td>\n",
       "      <td>0</td>\n",
       "      <td>0</td>\n",
       "      <td>0</td>\n",
       "      <td>0</td>\n",
       "      <td>0</td>\n",
       "      <td>0</td>\n",
       "      <td>1</td>\n",
       "      <td>0</td>\n",
       "      <td>0</td>\n",
       "      <td>...</td>\n",
       "      <td>0</td>\n",
       "      <td>0</td>\n",
       "      <td>0</td>\n",
       "      <td>0</td>\n",
       "      <td>0</td>\n",
       "      <td>0</td>\n",
       "      <td>0</td>\n",
       "      <td>1</td>\n",
       "      <td>0</td>\n",
       "      <td>0</td>\n",
       "    </tr>\n",
       "    <tr>\n",
       "      <th>1</th>\n",
       "      <td>0</td>\n",
       "      <td>1</td>\n",
       "      <td>0</td>\n",
       "      <td>0</td>\n",
       "      <td>0</td>\n",
       "      <td>0</td>\n",
       "      <td>0</td>\n",
       "      <td>1</td>\n",
       "      <td>0</td>\n",
       "      <td>0</td>\n",
       "      <td>...</td>\n",
       "      <td>0</td>\n",
       "      <td>0</td>\n",
       "      <td>0</td>\n",
       "      <td>0</td>\n",
       "      <td>0</td>\n",
       "      <td>0</td>\n",
       "      <td>0</td>\n",
       "      <td>0</td>\n",
       "      <td>0</td>\n",
       "      <td>1</td>\n",
       "    </tr>\n",
       "    <tr>\n",
       "      <th>2</th>\n",
       "      <td>0</td>\n",
       "      <td>0</td>\n",
       "      <td>0</td>\n",
       "      <td>0</td>\n",
       "      <td>0</td>\n",
       "      <td>1</td>\n",
       "      <td>0</td>\n",
       "      <td>0</td>\n",
       "      <td>0</td>\n",
       "      <td>0</td>\n",
       "      <td>...</td>\n",
       "      <td>0</td>\n",
       "      <td>0</td>\n",
       "      <td>0</td>\n",
       "      <td>0</td>\n",
       "      <td>0</td>\n",
       "      <td>0</td>\n",
       "      <td>0</td>\n",
       "      <td>0</td>\n",
       "      <td>0</td>\n",
       "      <td>0</td>\n",
       "    </tr>\n",
       "    <tr>\n",
       "      <th>3</th>\n",
       "      <td>0</td>\n",
       "      <td>0</td>\n",
       "      <td>0</td>\n",
       "      <td>0</td>\n",
       "      <td>1</td>\n",
       "      <td>0</td>\n",
       "      <td>0</td>\n",
       "      <td>1</td>\n",
       "      <td>0</td>\n",
       "      <td>0</td>\n",
       "      <td>...</td>\n",
       "      <td>0</td>\n",
       "      <td>0</td>\n",
       "      <td>0</td>\n",
       "      <td>0</td>\n",
       "      <td>0</td>\n",
       "      <td>0</td>\n",
       "      <td>0</td>\n",
       "      <td>1</td>\n",
       "      <td>0</td>\n",
       "      <td>0</td>\n",
       "    </tr>\n",
       "    <tr>\n",
       "      <th>4</th>\n",
       "      <td>0</td>\n",
       "      <td>0</td>\n",
       "      <td>0</td>\n",
       "      <td>0</td>\n",
       "      <td>1</td>\n",
       "      <td>0</td>\n",
       "      <td>0</td>\n",
       "      <td>1</td>\n",
       "      <td>0</td>\n",
       "      <td>0</td>\n",
       "      <td>...</td>\n",
       "      <td>1</td>\n",
       "      <td>0</td>\n",
       "      <td>0</td>\n",
       "      <td>0</td>\n",
       "      <td>0</td>\n",
       "      <td>0</td>\n",
       "      <td>0</td>\n",
       "      <td>0</td>\n",
       "      <td>0</td>\n",
       "      <td>0</td>\n",
       "    </tr>\n",
       "    <tr>\n",
       "      <th>...</th>\n",
       "      <td>...</td>\n",
       "      <td>...</td>\n",
       "      <td>...</td>\n",
       "      <td>...</td>\n",
       "      <td>...</td>\n",
       "      <td>...</td>\n",
       "      <td>...</td>\n",
       "      <td>...</td>\n",
       "      <td>...</td>\n",
       "      <td>...</td>\n",
       "      <td>...</td>\n",
       "      <td>...</td>\n",
       "      <td>...</td>\n",
       "      <td>...</td>\n",
       "      <td>...</td>\n",
       "      <td>...</td>\n",
       "      <td>...</td>\n",
       "      <td>...</td>\n",
       "      <td>...</td>\n",
       "      <td>...</td>\n",
       "      <td>...</td>\n",
       "    </tr>\n",
       "    <tr>\n",
       "      <th>354364</th>\n",
       "      <td>0</td>\n",
       "      <td>0</td>\n",
       "      <td>0</td>\n",
       "      <td>0</td>\n",
       "      <td>0</td>\n",
       "      <td>0</td>\n",
       "      <td>0</td>\n",
       "      <td>1</td>\n",
       "      <td>0</td>\n",
       "      <td>0</td>\n",
       "      <td>...</td>\n",
       "      <td>0</td>\n",
       "      <td>0</td>\n",
       "      <td>0</td>\n",
       "      <td>0</td>\n",
       "      <td>0</td>\n",
       "      <td>0</td>\n",
       "      <td>0</td>\n",
       "      <td>0</td>\n",
       "      <td>0</td>\n",
       "      <td>1</td>\n",
       "    </tr>\n",
       "    <tr>\n",
       "      <th>354365</th>\n",
       "      <td>0</td>\n",
       "      <td>0</td>\n",
       "      <td>0</td>\n",
       "      <td>0</td>\n",
       "      <td>0</td>\n",
       "      <td>0</td>\n",
       "      <td>0</td>\n",
       "      <td>0</td>\n",
       "      <td>0</td>\n",
       "      <td>0</td>\n",
       "      <td>...</td>\n",
       "      <td>0</td>\n",
       "      <td>0</td>\n",
       "      <td>1</td>\n",
       "      <td>0</td>\n",
       "      <td>0</td>\n",
       "      <td>0</td>\n",
       "      <td>0</td>\n",
       "      <td>0</td>\n",
       "      <td>0</td>\n",
       "      <td>0</td>\n",
       "    </tr>\n",
       "    <tr>\n",
       "      <th>354366</th>\n",
       "      <td>1</td>\n",
       "      <td>0</td>\n",
       "      <td>0</td>\n",
       "      <td>0</td>\n",
       "      <td>0</td>\n",
       "      <td>0</td>\n",
       "      <td>0</td>\n",
       "      <td>0</td>\n",
       "      <td>0</td>\n",
       "      <td>0</td>\n",
       "      <td>...</td>\n",
       "      <td>0</td>\n",
       "      <td>1</td>\n",
       "      <td>0</td>\n",
       "      <td>0</td>\n",
       "      <td>0</td>\n",
       "      <td>0</td>\n",
       "      <td>0</td>\n",
       "      <td>0</td>\n",
       "      <td>0</td>\n",
       "      <td>0</td>\n",
       "    </tr>\n",
       "    <tr>\n",
       "      <th>354367</th>\n",
       "      <td>0</td>\n",
       "      <td>0</td>\n",
       "      <td>0</td>\n",
       "      <td>0</td>\n",
       "      <td>0</td>\n",
       "      <td>0</td>\n",
       "      <td>0</td>\n",
       "      <td>1</td>\n",
       "      <td>0</td>\n",
       "      <td>0</td>\n",
       "      <td>...</td>\n",
       "      <td>0</td>\n",
       "      <td>0</td>\n",
       "      <td>0</td>\n",
       "      <td>0</td>\n",
       "      <td>0</td>\n",
       "      <td>0</td>\n",
       "      <td>0</td>\n",
       "      <td>1</td>\n",
       "      <td>0</td>\n",
       "      <td>0</td>\n",
       "    </tr>\n",
       "    <tr>\n",
       "      <th>354368</th>\n",
       "      <td>0</td>\n",
       "      <td>0</td>\n",
       "      <td>0</td>\n",
       "      <td>0</td>\n",
       "      <td>0</td>\n",
       "      <td>0</td>\n",
       "      <td>1</td>\n",
       "      <td>1</td>\n",
       "      <td>0</td>\n",
       "      <td>0</td>\n",
       "      <td>...</td>\n",
       "      <td>0</td>\n",
       "      <td>0</td>\n",
       "      <td>0</td>\n",
       "      <td>0</td>\n",
       "      <td>0</td>\n",
       "      <td>0</td>\n",
       "      <td>0</td>\n",
       "      <td>1</td>\n",
       "      <td>0</td>\n",
       "      <td>0</td>\n",
       "    </tr>\n",
       "  </tbody>\n",
       "</table>\n",
       "<p>354369 rows × 303 columns</p>\n",
       "</div>"
      ],
      "text/plain": [
       "        VehicleType_convertible  VehicleType_coupe  VehicleType_other  \\\n",
       "0                             0                  0                  0   \n",
       "1                             0                  1                  0   \n",
       "2                             0                  0                  0   \n",
       "3                             0                  0                  0   \n",
       "4                             0                  0                  0   \n",
       "...                         ...                ...                ...   \n",
       "354364                        0                  0                  0   \n",
       "354365                        0                  0                  0   \n",
       "354366                        1                  0                  0   \n",
       "354367                        0                  0                  0   \n",
       "354368                        0                  0                  0   \n",
       "\n",
       "        VehicleType_sedan  VehicleType_small  VehicleType_suv  \\\n",
       "0                       0                  0                0   \n",
       "1                       0                  0                0   \n",
       "2                       0                  0                1   \n",
       "3                       0                  1                0   \n",
       "4                       0                  1                0   \n",
       "...                   ...                ...              ...   \n",
       "354364                  0                  0                0   \n",
       "354365                  0                  0                0   \n",
       "354366                  0                  0                0   \n",
       "354367                  0                  0                0   \n",
       "354368                  0                  0                0   \n",
       "\n",
       "        VehicleType_wagon  Gearbox_manual  Model_145  Model_147  ...  \\\n",
       "0                       0               1          0          0  ...   \n",
       "1                       0               1          0          0  ...   \n",
       "2                       0               0          0          0  ...   \n",
       "3                       0               1          0          0  ...   \n",
       "4                       0               1          0          0  ...   \n",
       "...                   ...             ...        ...        ...  ...   \n",
       "354364                  0               1          0          0  ...   \n",
       "354365                  0               0          0          0  ...   \n",
       "354366                  0               0          0          0  ...   \n",
       "354367                  0               1          0          0  ...   \n",
       "354368                  1               1          0          0  ...   \n",
       "\n",
       "        Brand_skoda  Brand_smart  Brand_sonstige_autos  Brand_subaru  \\\n",
       "0                 0            0                     0             0   \n",
       "1                 0            0                     0             0   \n",
       "2                 0            0                     0             0   \n",
       "3                 0            0                     0             0   \n",
       "4                 1            0                     0             0   \n",
       "...             ...          ...                   ...           ...   \n",
       "354364            0            0                     0             0   \n",
       "354365            0            0                     1             0   \n",
       "354366            0            1                     0             0   \n",
       "354367            0            0                     0             0   \n",
       "354368            0            0                     0             0   \n",
       "\n",
       "        Brand_suzuki  Brand_toyota  Brand_trabant  Brand_volkswagen  \\\n",
       "0                  0             0              0                 1   \n",
       "1                  0             0              0                 0   \n",
       "2                  0             0              0                 0   \n",
       "3                  0             0              0                 1   \n",
       "4                  0             0              0                 0   \n",
       "...              ...           ...            ...               ...   \n",
       "354364             0             0              0                 0   \n",
       "354365             0             0              0                 0   \n",
       "354366             0             0              0                 0   \n",
       "354367             0             0              0                 1   \n",
       "354368             0             0              0                 1   \n",
       "\n",
       "        Brand_volvo  NotRepaired_yes  \n",
       "0                 0                0  \n",
       "1                 0                1  \n",
       "2                 0                0  \n",
       "3                 0                0  \n",
       "4                 0                0  \n",
       "...             ...              ...  \n",
       "354364            0                1  \n",
       "354365            0                0  \n",
       "354366            0                0  \n",
       "354367            0                0  \n",
       "354368            0                0  \n",
       "\n",
       "[354369 rows x 303 columns]"
      ]
     },
     "execution_count": 13,
     "metadata": {},
     "output_type": "execute_result"
    }
   ],
   "source": [
    "df_dummies = pd.get_dummies(features[categorical_features], drop_first=True)\n",
    "df_dummies"
   ]
  },
  {
   "cell_type": "code",
   "execution_count": 7,
   "metadata": {},
   "outputs": [],
   "source": [
    "#df_ohe = df.drop(['Model', 'Brand'], axis=1)\n",
    "#df_ohe = pd.get_dummies(df_ohe)"
   ]
  },
  {
   "cell_type": "code",
   "execution_count": 8,
   "metadata": {},
   "outputs": [
    {
     "ename": "NameError",
     "evalue": "name 'get' is not defined",
     "output_type": "error",
     "traceback": [
      "\u001b[0;31m---------------------------------------------------------------------------\u001b[0m",
      "\u001b[0;31mNameError\u001b[0m                                 Traceback (most recent call last)",
      "Cell \u001b[0;32mIn[8], line 1\u001b[0m\n\u001b[0;32m----> 1\u001b[0m \u001b[43mget\u001b[49m\u001b[38;5;241m.\u001b[39mdummies()\n",
      "\u001b[0;31mNameError\u001b[0m: name 'get' is not defined"
     ]
    }
   ],
   "source": []
  },
  {
   "cell_type": "code",
   "execution_count": 14,
   "metadata": {},
   "outputs": [],
   "source": [
    "features_prep = pd.concat([\n",
    "    features[numeric_features],\n",
    "    df_dummies\n",
    "], axis=1)"
   ]
  },
  {
   "cell_type": "code",
   "execution_count": null,
   "metadata": {},
   "outputs": [],
   "source": [
    "#scaler = StandardScaler()\n",
    "#features_scaled = scaler.fit_transform(features_prep)"
   ]
  },
  {
   "cell_type": "code",
   "execution_count": 15,
   "metadata": {},
   "outputs": [
    {
     "data": {
      "text/html": [
       "<div>\n",
       "<style scoped>\n",
       "    .dataframe tbody tr th:only-of-type {\n",
       "        vertical-align: middle;\n",
       "    }\n",
       "\n",
       "    .dataframe tbody tr th {\n",
       "        vertical-align: top;\n",
       "    }\n",
       "\n",
       "    .dataframe thead th {\n",
       "        text-align: right;\n",
       "    }\n",
       "</style>\n",
       "<table border=\"1\" class=\"dataframe\">\n",
       "  <thead>\n",
       "    <tr style=\"text-align: right;\">\n",
       "      <th></th>\n",
       "      <th>RegistrationYear</th>\n",
       "      <th>Power</th>\n",
       "      <th>Mileage</th>\n",
       "      <th>RegistrationMonth</th>\n",
       "      <th>NumberOfPictures</th>\n",
       "      <th>PostalCode</th>\n",
       "      <th>VehicleType_convertible</th>\n",
       "      <th>VehicleType_coupe</th>\n",
       "      <th>VehicleType_other</th>\n",
       "      <th>VehicleType_sedan</th>\n",
       "      <th>...</th>\n",
       "      <th>Brand_skoda</th>\n",
       "      <th>Brand_smart</th>\n",
       "      <th>Brand_sonstige_autos</th>\n",
       "      <th>Brand_subaru</th>\n",
       "      <th>Brand_suzuki</th>\n",
       "      <th>Brand_toyota</th>\n",
       "      <th>Brand_trabant</th>\n",
       "      <th>Brand_volkswagen</th>\n",
       "      <th>Brand_volvo</th>\n",
       "      <th>NotRepaired_yes</th>\n",
       "    </tr>\n",
       "  </thead>\n",
       "  <tbody>\n",
       "    <tr>\n",
       "      <th>0</th>\n",
       "      <td>1993</td>\n",
       "      <td>0</td>\n",
       "      <td>150000</td>\n",
       "      <td>0</td>\n",
       "      <td>0</td>\n",
       "      <td>70435</td>\n",
       "      <td>0</td>\n",
       "      <td>0</td>\n",
       "      <td>0</td>\n",
       "      <td>0</td>\n",
       "      <td>...</td>\n",
       "      <td>0</td>\n",
       "      <td>0</td>\n",
       "      <td>0</td>\n",
       "      <td>0</td>\n",
       "      <td>0</td>\n",
       "      <td>0</td>\n",
       "      <td>0</td>\n",
       "      <td>1</td>\n",
       "      <td>0</td>\n",
       "      <td>0</td>\n",
       "    </tr>\n",
       "    <tr>\n",
       "      <th>1</th>\n",
       "      <td>2011</td>\n",
       "      <td>190</td>\n",
       "      <td>125000</td>\n",
       "      <td>5</td>\n",
       "      <td>0</td>\n",
       "      <td>66954</td>\n",
       "      <td>0</td>\n",
       "      <td>1</td>\n",
       "      <td>0</td>\n",
       "      <td>0</td>\n",
       "      <td>...</td>\n",
       "      <td>0</td>\n",
       "      <td>0</td>\n",
       "      <td>0</td>\n",
       "      <td>0</td>\n",
       "      <td>0</td>\n",
       "      <td>0</td>\n",
       "      <td>0</td>\n",
       "      <td>0</td>\n",
       "      <td>0</td>\n",
       "      <td>1</td>\n",
       "    </tr>\n",
       "    <tr>\n",
       "      <th>2</th>\n",
       "      <td>2004</td>\n",
       "      <td>163</td>\n",
       "      <td>125000</td>\n",
       "      <td>8</td>\n",
       "      <td>0</td>\n",
       "      <td>90480</td>\n",
       "      <td>0</td>\n",
       "      <td>0</td>\n",
       "      <td>0</td>\n",
       "      <td>0</td>\n",
       "      <td>...</td>\n",
       "      <td>0</td>\n",
       "      <td>0</td>\n",
       "      <td>0</td>\n",
       "      <td>0</td>\n",
       "      <td>0</td>\n",
       "      <td>0</td>\n",
       "      <td>0</td>\n",
       "      <td>0</td>\n",
       "      <td>0</td>\n",
       "      <td>0</td>\n",
       "    </tr>\n",
       "    <tr>\n",
       "      <th>3</th>\n",
       "      <td>2001</td>\n",
       "      <td>75</td>\n",
       "      <td>150000</td>\n",
       "      <td>6</td>\n",
       "      <td>0</td>\n",
       "      <td>91074</td>\n",
       "      <td>0</td>\n",
       "      <td>0</td>\n",
       "      <td>0</td>\n",
       "      <td>0</td>\n",
       "      <td>...</td>\n",
       "      <td>0</td>\n",
       "      <td>0</td>\n",
       "      <td>0</td>\n",
       "      <td>0</td>\n",
       "      <td>0</td>\n",
       "      <td>0</td>\n",
       "      <td>0</td>\n",
       "      <td>1</td>\n",
       "      <td>0</td>\n",
       "      <td>0</td>\n",
       "    </tr>\n",
       "    <tr>\n",
       "      <th>4</th>\n",
       "      <td>2008</td>\n",
       "      <td>69</td>\n",
       "      <td>90000</td>\n",
       "      <td>7</td>\n",
       "      <td>0</td>\n",
       "      <td>60437</td>\n",
       "      <td>0</td>\n",
       "      <td>0</td>\n",
       "      <td>0</td>\n",
       "      <td>0</td>\n",
       "      <td>...</td>\n",
       "      <td>1</td>\n",
       "      <td>0</td>\n",
       "      <td>0</td>\n",
       "      <td>0</td>\n",
       "      <td>0</td>\n",
       "      <td>0</td>\n",
       "      <td>0</td>\n",
       "      <td>0</td>\n",
       "      <td>0</td>\n",
       "      <td>0</td>\n",
       "    </tr>\n",
       "    <tr>\n",
       "      <th>...</th>\n",
       "      <td>...</td>\n",
       "      <td>...</td>\n",
       "      <td>...</td>\n",
       "      <td>...</td>\n",
       "      <td>...</td>\n",
       "      <td>...</td>\n",
       "      <td>...</td>\n",
       "      <td>...</td>\n",
       "      <td>...</td>\n",
       "      <td>...</td>\n",
       "      <td>...</td>\n",
       "      <td>...</td>\n",
       "      <td>...</td>\n",
       "      <td>...</td>\n",
       "      <td>...</td>\n",
       "      <td>...</td>\n",
       "      <td>...</td>\n",
       "      <td>...</td>\n",
       "      <td>...</td>\n",
       "      <td>...</td>\n",
       "      <td>...</td>\n",
       "    </tr>\n",
       "    <tr>\n",
       "      <th>354364</th>\n",
       "      <td>2005</td>\n",
       "      <td>0</td>\n",
       "      <td>150000</td>\n",
       "      <td>7</td>\n",
       "      <td>0</td>\n",
       "      <td>2694</td>\n",
       "      <td>0</td>\n",
       "      <td>0</td>\n",
       "      <td>0</td>\n",
       "      <td>0</td>\n",
       "      <td>...</td>\n",
       "      <td>0</td>\n",
       "      <td>0</td>\n",
       "      <td>0</td>\n",
       "      <td>0</td>\n",
       "      <td>0</td>\n",
       "      <td>0</td>\n",
       "      <td>0</td>\n",
       "      <td>0</td>\n",
       "      <td>0</td>\n",
       "      <td>1</td>\n",
       "    </tr>\n",
       "    <tr>\n",
       "      <th>354365</th>\n",
       "      <td>2005</td>\n",
       "      <td>0</td>\n",
       "      <td>20000</td>\n",
       "      <td>1</td>\n",
       "      <td>0</td>\n",
       "      <td>39576</td>\n",
       "      <td>0</td>\n",
       "      <td>0</td>\n",
       "      <td>0</td>\n",
       "      <td>0</td>\n",
       "      <td>...</td>\n",
       "      <td>0</td>\n",
       "      <td>0</td>\n",
       "      <td>1</td>\n",
       "      <td>0</td>\n",
       "      <td>0</td>\n",
       "      <td>0</td>\n",
       "      <td>0</td>\n",
       "      <td>0</td>\n",
       "      <td>0</td>\n",
       "      <td>0</td>\n",
       "    </tr>\n",
       "    <tr>\n",
       "      <th>354366</th>\n",
       "      <td>2000</td>\n",
       "      <td>101</td>\n",
       "      <td>125000</td>\n",
       "      <td>3</td>\n",
       "      <td>0</td>\n",
       "      <td>26135</td>\n",
       "      <td>1</td>\n",
       "      <td>0</td>\n",
       "      <td>0</td>\n",
       "      <td>0</td>\n",
       "      <td>...</td>\n",
       "      <td>0</td>\n",
       "      <td>1</td>\n",
       "      <td>0</td>\n",
       "      <td>0</td>\n",
       "      <td>0</td>\n",
       "      <td>0</td>\n",
       "      <td>0</td>\n",
       "      <td>0</td>\n",
       "      <td>0</td>\n",
       "      <td>0</td>\n",
       "    </tr>\n",
       "    <tr>\n",
       "      <th>354367</th>\n",
       "      <td>1996</td>\n",
       "      <td>102</td>\n",
       "      <td>150000</td>\n",
       "      <td>3</td>\n",
       "      <td>0</td>\n",
       "      <td>87439</td>\n",
       "      <td>0</td>\n",
       "      <td>0</td>\n",
       "      <td>0</td>\n",
       "      <td>0</td>\n",
       "      <td>...</td>\n",
       "      <td>0</td>\n",
       "      <td>0</td>\n",
       "      <td>0</td>\n",
       "      <td>0</td>\n",
       "      <td>0</td>\n",
       "      <td>0</td>\n",
       "      <td>0</td>\n",
       "      <td>1</td>\n",
       "      <td>0</td>\n",
       "      <td>0</td>\n",
       "    </tr>\n",
       "    <tr>\n",
       "      <th>354368</th>\n",
       "      <td>2002</td>\n",
       "      <td>100</td>\n",
       "      <td>150000</td>\n",
       "      <td>6</td>\n",
       "      <td>0</td>\n",
       "      <td>40764</td>\n",
       "      <td>0</td>\n",
       "      <td>0</td>\n",
       "      <td>0</td>\n",
       "      <td>0</td>\n",
       "      <td>...</td>\n",
       "      <td>0</td>\n",
       "      <td>0</td>\n",
       "      <td>0</td>\n",
       "      <td>0</td>\n",
       "      <td>0</td>\n",
       "      <td>0</td>\n",
       "      <td>0</td>\n",
       "      <td>1</td>\n",
       "      <td>0</td>\n",
       "      <td>0</td>\n",
       "    </tr>\n",
       "  </tbody>\n",
       "</table>\n",
       "<p>354369 rows × 309 columns</p>\n",
       "</div>"
      ],
      "text/plain": [
       "        RegistrationYear  Power  Mileage  RegistrationMonth  NumberOfPictures  \\\n",
       "0                   1993      0   150000                  0                 0   \n",
       "1                   2011    190   125000                  5                 0   \n",
       "2                   2004    163   125000                  8                 0   \n",
       "3                   2001     75   150000                  6                 0   \n",
       "4                   2008     69    90000                  7                 0   \n",
       "...                  ...    ...      ...                ...               ...   \n",
       "354364              2005      0   150000                  7                 0   \n",
       "354365              2005      0    20000                  1                 0   \n",
       "354366              2000    101   125000                  3                 0   \n",
       "354367              1996    102   150000                  3                 0   \n",
       "354368              2002    100   150000                  6                 0   \n",
       "\n",
       "        PostalCode  VehicleType_convertible  VehicleType_coupe  \\\n",
       "0            70435                        0                  0   \n",
       "1            66954                        0                  1   \n",
       "2            90480                        0                  0   \n",
       "3            91074                        0                  0   \n",
       "4            60437                        0                  0   \n",
       "...            ...                      ...                ...   \n",
       "354364        2694                        0                  0   \n",
       "354365       39576                        0                  0   \n",
       "354366       26135                        1                  0   \n",
       "354367       87439                        0                  0   \n",
       "354368       40764                        0                  0   \n",
       "\n",
       "        VehicleType_other  VehicleType_sedan  ...  Brand_skoda  Brand_smart  \\\n",
       "0                       0                  0  ...            0            0   \n",
       "1                       0                  0  ...            0            0   \n",
       "2                       0                  0  ...            0            0   \n",
       "3                       0                  0  ...            0            0   \n",
       "4                       0                  0  ...            1            0   \n",
       "...                   ...                ...  ...          ...          ...   \n",
       "354364                  0                  0  ...            0            0   \n",
       "354365                  0                  0  ...            0            0   \n",
       "354366                  0                  0  ...            0            1   \n",
       "354367                  0                  0  ...            0            0   \n",
       "354368                  0                  0  ...            0            0   \n",
       "\n",
       "        Brand_sonstige_autos  Brand_subaru  Brand_suzuki  Brand_toyota  \\\n",
       "0                          0             0             0             0   \n",
       "1                          0             0             0             0   \n",
       "2                          0             0             0             0   \n",
       "3                          0             0             0             0   \n",
       "4                          0             0             0             0   \n",
       "...                      ...           ...           ...           ...   \n",
       "354364                     0             0             0             0   \n",
       "354365                     1             0             0             0   \n",
       "354366                     0             0             0             0   \n",
       "354367                     0             0             0             0   \n",
       "354368                     0             0             0             0   \n",
       "\n",
       "        Brand_trabant  Brand_volkswagen  Brand_volvo  NotRepaired_yes  \n",
       "0                   0                 1            0                0  \n",
       "1                   0                 0            0                1  \n",
       "2                   0                 0            0                0  \n",
       "3                   0                 1            0                0  \n",
       "4                   0                 0            0                0  \n",
       "...               ...               ...          ...              ...  \n",
       "354364              0                 0            0                1  \n",
       "354365              0                 0            0                0  \n",
       "354366              0                 0            0                0  \n",
       "354367              0                 1            0                0  \n",
       "354368              0                 1            0                0  \n",
       "\n",
       "[354369 rows x 309 columns]"
      ]
     },
     "execution_count": 15,
     "metadata": {},
     "output_type": "execute_result"
    }
   ],
   "source": [
    "features_prep"
   ]
  },
  {
   "cell_type": "code",
   "execution_count": null,
   "metadata": {},
   "outputs": [],
   "source": []
  },
  {
   "cell_type": "code",
   "execution_count": null,
   "metadata": {},
   "outputs": [],
   "source": []
  },
  {
   "cell_type": "code",
   "execution_count": null,
   "metadata": {},
   "outputs": [],
   "source": []
  },
  {
   "cell_type": "markdown",
   "metadata": {},
   "source": [
    "## Model training"
   ]
  },
  {
   "cell_type": "code",
   "execution_count": null,
   "metadata": {},
   "outputs": [],
   "source": []
  },
  {
   "cell_type": "code",
   "execution_count": 17,
   "metadata": {},
   "outputs": [
    {
     "data": {
      "text/plain": [
       "((248058, 309), (248058,))"
      ]
     },
     "execution_count": 17,
     "metadata": {},
     "output_type": "execute_result"
    }
   ],
   "source": [
    "features_train, features_test, target_train, target_test = train_test_split(\n",
    "    features_prep, target, test_size=0.3, random_state=12345)\n",
    "\n",
    "features_train.shape, target_train.shape"
   ]
  },
  {
   "cell_type": "code",
   "execution_count": null,
   "metadata": {},
   "outputs": [],
   "source": []
  },
  {
   "cell_type": "code",
   "execution_count": null,
   "metadata": {},
   "outputs": [],
   "source": [
    "model = LinearRegression()\n",
    "model.fit(features_train, target_train)\n",
    "target_pred_lr = model.predict(features_test)\n",
    "\n",
    "rmse_lr = mean_squared_error(target_test, target_pred_lr, squared=False)\n",
    "r2_lr = r2_score(target_test, target_pred_lr)\n",
    "\n",
    "print(f\"Linear Regression - RMSE: {rmse_lr}, R^2: {r2_lr}\")"
   ]
  },
  {
   "cell_type": "code",
   "execution_count": null,
   "metadata": {},
   "outputs": [],
   "source": [
    "model_dt = DecisionTreeRegressor(random_state=12345)\n",
    "model_dt.fit(features_train, target_train)\n",
    "target_pred_dt = model_dt.predict(features_test)\n",
    "\n",
    "rmse_dt = mean_squared_error(target_test, target_pred_dt, squared=False)\n",
    "r2_dt = r2_score(target_test, target_pred_dt)\n",
    "\n",
    "print(f\"Decision Tree - RMSE: {rmse_dt}, R^2: {r2_dt}\")"
   ]
  },
  {
   "cell_type": "code",
   "execution_count": null,
   "metadata": {},
   "outputs": [],
   "source": [
    "model_rf = RandomForestRegressor(n_estimators=100, random_state=12345)\n",
    "model_rf.fit(features_train, target_train)\n",
    "target_pred_rf = model_rf.predict(features_test)\n",
    "\n",
    "rmse_rf = mean_squared_error(target_test, target_pred_rf, squared=False)\n",
    "r2_rf = r2_score(target_test, target_pred_rf)\n",
    "\n",
    "print(f\"Random Forest - RMSE: {rmse_rf}, R^2: {r2_rf}\")"
   ]
  },
  {
   "cell_type": "markdown",
   "metadata": {},
   "source": [
    "## Model analysis"
   ]
  },
  {
   "cell_type": "code",
   "execution_count": null,
   "metadata": {},
   "outputs": [],
   "source": []
  },
  {
   "cell_type": "markdown",
   "metadata": {},
   "source": [
    "# Checklist"
   ]
  },
  {
   "cell_type": "markdown",
   "metadata": {},
   "source": [
    "Type 'x' to check. Then press Shift+Enter."
   ]
  },
  {
   "cell_type": "markdown",
   "metadata": {},
   "source": [
    "- [x]  Jupyter Notebook is open\n",
    "- [ ]  Code is error free\n",
    "- [ ]  The cells with the code have been arranged in order of execution\n",
    "- [ ]  The data has been downloaded and prepared\n",
    "- [ ]  The models have been trained\n",
    "- [ ]  The analysis of speed and quality of the models has been performed"
   ]
  },
  {
   "cell_type": "code",
   "execution_count": null,
   "metadata": {},
   "outputs": [],
   "source": []
  }
 ],
 "metadata": {
  "ExecuteTimeLog": [
   {
    "duration": 5239,
    "start_time": "2024-06-13T01:23:14.699Z"
   },
   {
    "duration": 779,
    "start_time": "2024-06-13T01:24:23.203Z"
   },
   {
    "duration": 5176,
    "start_time": "2024-06-13T17:05:48.498Z"
   },
   {
    "duration": 822,
    "start_time": "2024-06-13T17:05:53.677Z"
   },
   {
    "duration": 5392,
    "start_time": "2024-06-13T18:05:39.829Z"
   },
   {
    "duration": 899,
    "start_time": "2024-06-13T18:05:45.225Z"
   },
   {
    "duration": 826,
    "start_time": "2024-06-13T18:36:06.210Z"
   },
   {
    "duration": 1405,
    "start_time": "2024-06-13T18:36:39.440Z"
   },
   {
    "duration": 757,
    "start_time": "2024-06-13T18:36:40.850Z"
   },
   {
    "duration": 1775,
    "start_time": "2024-06-13T18:39:19.180Z"
   },
   {
    "duration": 43,
    "start_time": "2024-06-13T18:39:49.057Z"
   },
   {
    "duration": 32,
    "start_time": "2024-06-13T18:40:00.581Z"
   },
   {
    "duration": 7,
    "start_time": "2024-06-13T18:40:09.536Z"
   },
   {
    "duration": 27,
    "start_time": "2024-06-13T18:41:41.098Z"
   },
   {
    "duration": 6,
    "start_time": "2024-06-13T18:42:38.136Z"
   },
   {
    "duration": 169,
    "start_time": "2024-06-13T18:42:41.626Z"
   },
   {
    "duration": 186,
    "start_time": "2024-06-13T18:44:44.111Z"
   },
   {
    "duration": 24,
    "start_time": "2024-06-13T18:49:10.404Z"
   },
   {
    "duration": 5,
    "start_time": "2024-06-13T18:49:54.694Z"
   },
   {
    "duration": 185,
    "start_time": "2024-06-13T18:50:00.154Z"
   },
   {
    "duration": 6,
    "start_time": "2024-06-13T18:54:21.239Z"
   },
   {
    "duration": 168,
    "start_time": "2024-06-13T18:58:45.395Z"
   },
   {
    "duration": 20,
    "start_time": "2024-06-13T18:59:33.896Z"
   },
   {
    "duration": 21,
    "start_time": "2024-06-13T18:59:39.173Z"
   },
   {
    "duration": 24,
    "start_time": "2024-06-13T19:00:03.009Z"
   },
   {
    "duration": 200,
    "start_time": "2024-06-13T19:19:11.821Z"
   },
   {
    "duration": 157,
    "start_time": "2024-06-13T19:20:27.303Z"
   },
   {
    "duration": 1439,
    "start_time": "2024-06-13T19:20:37.634Z"
   },
   {
    "duration": 751,
    "start_time": "2024-06-13T19:20:39.077Z"
   },
   {
    "duration": 44,
    "start_time": "2024-06-13T19:20:39.831Z"
   },
   {
    "duration": 188,
    "start_time": "2024-06-13T19:20:39.878Z"
   },
   {
    "duration": 376,
    "start_time": "2024-06-13T19:20:40.070Z"
   },
   {
    "duration": 0,
    "start_time": "2024-06-13T19:20:40.449Z"
   },
   {
    "duration": 0,
    "start_time": "2024-06-13T19:20:40.452Z"
   },
   {
    "duration": 175,
    "start_time": "2024-06-13T19:36:00.886Z"
   },
   {
    "duration": 170,
    "start_time": "2024-06-13T19:55:48.520Z"
   },
   {
    "duration": 176,
    "start_time": "2024-06-13T19:58:06.694Z"
   },
   {
    "duration": 5305,
    "start_time": "2024-06-13T23:18:03.674Z"
   },
   {
    "duration": 868,
    "start_time": "2024-06-13T23:18:08.983Z"
   },
   {
    "duration": 55,
    "start_time": "2024-06-13T23:18:09.854Z"
   },
   {
    "duration": 221,
    "start_time": "2024-06-13T23:18:09.916Z"
   },
   {
    "duration": 380,
    "start_time": "2024-06-13T23:18:10.141Z"
   },
   {
    "duration": 0,
    "start_time": "2024-06-13T23:18:10.529Z"
   },
   {
    "duration": 0,
    "start_time": "2024-06-13T23:18:10.530Z"
   },
   {
    "duration": 5039,
    "start_time": "2024-06-14T00:16:50.073Z"
   },
   {
    "duration": 789,
    "start_time": "2024-06-14T00:16:55.115Z"
   },
   {
    "duration": 45,
    "start_time": "2024-06-14T00:16:55.913Z"
   },
   {
    "duration": 212,
    "start_time": "2024-06-14T00:16:55.961Z"
   },
   {
    "duration": 375,
    "start_time": "2024-06-14T00:16:56.177Z"
   },
   {
    "duration": 0,
    "start_time": "2024-06-14T00:16:56.555Z"
   },
   {
    "duration": 1,
    "start_time": "2024-06-14T00:16:56.556Z"
   },
   {
    "duration": 1045,
    "start_time": "2024-06-14T00:29:46.250Z"
   },
   {
    "duration": 170,
    "start_time": "2024-06-14T00:31:27.751Z"
   },
   {
    "duration": 55,
    "start_time": "2024-06-14T00:53:36.773Z"
   },
   {
    "duration": 30,
    "start_time": "2024-06-14T00:59:02.288Z"
   },
   {
    "duration": 7,
    "start_time": "2024-06-14T00:59:51.275Z"
   },
   {
    "duration": 30,
    "start_time": "2024-06-14T00:59:56.699Z"
   },
   {
    "duration": 8,
    "start_time": "2024-06-14T01:00:15.567Z"
   },
   {
    "duration": 30,
    "start_time": "2024-06-14T01:00:21.224Z"
   },
   {
    "duration": 9,
    "start_time": "2024-06-14T01:00:51.218Z"
   },
   {
    "duration": 724,
    "start_time": "2024-06-14T01:00:55.310Z"
   },
   {
    "duration": 7,
    "start_time": "2024-06-14T01:00:56.037Z"
   },
   {
    "duration": 43,
    "start_time": "2024-06-14T01:01:03.744Z"
   },
   {
    "duration": 181,
    "start_time": "2024-06-14T01:01:04.716Z"
   },
   {
    "duration": 181,
    "start_time": "2024-06-14T01:01:07.347Z"
   },
   {
    "duration": 179,
    "start_time": "2024-06-14T01:01:17.461Z"
   },
   {
    "duration": 308,
    "start_time": "2024-06-14T02:14:07.537Z"
   },
   {
    "duration": 30,
    "start_time": "2024-06-14T02:14:13.894Z"
   },
   {
    "duration": 21,
    "start_time": "2024-06-14T02:14:14.086Z"
   },
   {
    "duration": 5053,
    "start_time": "2024-06-14T02:14:25.358Z"
   },
   {
    "duration": 796,
    "start_time": "2024-06-14T02:14:30.415Z"
   },
   {
    "duration": 7,
    "start_time": "2024-06-14T02:14:31.214Z"
   },
   {
    "duration": 44,
    "start_time": "2024-06-14T02:14:31.226Z"
   },
   {
    "duration": 216,
    "start_time": "2024-06-14T02:14:31.272Z"
   },
   {
    "duration": 369,
    "start_time": "2024-06-14T02:14:31.491Z"
   },
   {
    "duration": 0,
    "start_time": "2024-06-14T02:14:31.863Z"
   },
   {
    "duration": 0,
    "start_time": "2024-06-14T02:14:31.865Z"
   },
   {
    "duration": 41,
    "start_time": "2024-06-14T02:15:10.704Z"
   },
   {
    "duration": 20,
    "start_time": "2024-06-14T02:24:50.996Z"
   },
   {
    "duration": 7,
    "start_time": "2024-06-14T02:25:03.698Z"
   },
   {
    "duration": 4,
    "start_time": "2024-06-14T02:29:09.567Z"
   },
   {
    "duration": 4,
    "start_time": "2024-06-14T02:29:24.028Z"
   },
   {
    "duration": 5,
    "start_time": "2024-06-14T02:29:35.361Z"
   },
   {
    "duration": 291,
    "start_time": "2024-06-14T02:30:05.525Z"
   },
   {
    "duration": 4,
    "start_time": "2024-06-14T02:30:50.887Z"
   },
   {
    "duration": 4,
    "start_time": "2024-06-14T02:30:51.950Z"
   },
   {
    "duration": 1468,
    "start_time": "2024-06-14T02:30:53.028Z"
   },
   {
    "duration": 25,
    "start_time": "2024-06-14T02:31:35.722Z"
   },
   {
    "duration": 5139,
    "start_time": "2024-06-14T05:42:13.671Z"
   },
   {
    "duration": 797,
    "start_time": "2024-06-14T05:42:18.814Z"
   },
   {
    "duration": 8,
    "start_time": "2024-06-14T05:42:19.614Z"
   },
   {
    "duration": 43,
    "start_time": "2024-06-14T05:42:19.628Z"
   },
   {
    "duration": 4,
    "start_time": "2024-06-14T05:42:19.701Z"
   },
   {
    "duration": 5,
    "start_time": "2024-06-14T05:42:19.708Z"
   },
   {
    "duration": 5,
    "start_time": "2024-06-14T05:42:19.716Z"
   },
   {
    "duration": 5,
    "start_time": "2024-06-14T05:42:19.723Z"
   },
   {
    "duration": 1495,
    "start_time": "2024-06-14T05:42:19.732Z"
   },
   {
    "duration": 423,
    "start_time": "2024-06-14T05:42:21.232Z"
   },
   {
    "duration": 0,
    "start_time": "2024-06-14T05:42:21.657Z"
   },
   {
    "duration": 0,
    "start_time": "2024-06-14T05:42:21.659Z"
   },
   {
    "duration": 0,
    "start_time": "2024-06-14T05:42:21.662Z"
   },
   {
    "duration": 0,
    "start_time": "2024-06-14T05:42:21.664Z"
   },
   {
    "duration": 25,
    "start_time": "2024-06-14T05:42:40.363Z"
   },
   {
    "duration": 23,
    "start_time": "2024-06-14T05:42:46.778Z"
   },
   {
    "duration": 45,
    "start_time": "2024-06-14T05:45:31.816Z"
   },
   {
    "duration": 17,
    "start_time": "2024-06-14T05:45:42.978Z"
   },
   {
    "duration": 309,
    "start_time": "2024-06-14T05:49:55.271Z"
   },
   {
    "duration": 0,
    "start_time": "2024-06-14T05:49:55.583Z"
   },
   {
    "duration": 22,
    "start_time": "2024-06-14T05:50:05.316Z"
   },
   {
    "duration": 21,
    "start_time": "2024-06-14T05:50:05.657Z"
   },
   {
    "duration": 30,
    "start_time": "2024-06-14T05:50:06.038Z"
   },
   {
    "duration": 3,
    "start_time": "2024-06-14T05:50:07.587Z"
   },
   {
    "duration": 1763,
    "start_time": "2024-06-14T05:50:11.686Z"
   },
   {
    "duration": 890,
    "start_time": "2024-06-14T05:50:13.453Z"
   },
   {
    "duration": 9,
    "start_time": "2024-06-14T05:50:16.255Z"
   },
   {
    "duration": 46,
    "start_time": "2024-06-14T05:50:18.045Z"
   },
   {
    "duration": 4,
    "start_time": "2024-06-14T05:50:19.815Z"
   },
   {
    "duration": 344,
    "start_time": "2024-06-14T05:51:26.445Z"
   },
   {
    "duration": 1489,
    "start_time": "2024-06-14T05:51:50.093Z"
   },
   {
    "duration": 826,
    "start_time": "2024-06-14T05:51:51.586Z"
   },
   {
    "duration": 8,
    "start_time": "2024-06-14T05:51:52.415Z"
   },
   {
    "duration": 47,
    "start_time": "2024-06-14T05:51:52.426Z"
   },
   {
    "duration": 4,
    "start_time": "2024-06-14T05:51:52.502Z"
   },
   {
    "duration": 782,
    "start_time": "2024-06-14T05:51:52.509Z"
   },
   {
    "duration": 27,
    "start_time": "2024-06-14T05:51:53.306Z"
   },
   {
    "duration": 4,
    "start_time": "2024-06-14T05:51:53.337Z"
   },
   {
    "duration": 4,
    "start_time": "2024-06-14T05:51:53.345Z"
   },
   {
    "duration": 4,
    "start_time": "2024-06-14T05:51:53.352Z"
   },
   {
    "duration": 1709,
    "start_time": "2024-06-14T05:51:53.359Z"
   },
   {
    "duration": 502,
    "start_time": "2024-06-14T05:51:55.071Z"
   },
   {
    "duration": 0,
    "start_time": "2024-06-14T05:51:55.577Z"
   },
   {
    "duration": 0,
    "start_time": "2024-06-14T05:51:55.579Z"
   },
   {
    "duration": 0,
    "start_time": "2024-06-14T05:51:55.582Z"
   },
   {
    "duration": 0,
    "start_time": "2024-06-14T05:51:55.584Z"
   },
   {
    "duration": 0,
    "start_time": "2024-06-14T05:51:55.601Z"
   },
   {
    "duration": 5,
    "start_time": "2024-06-14T05:52:44.570Z"
   },
   {
    "duration": 4,
    "start_time": "2024-06-14T05:56:20.931Z"
   },
   {
    "duration": 28,
    "start_time": "2024-06-14T05:56:50.919Z"
   },
   {
    "duration": 713,
    "start_time": "2024-06-14T05:57:00.692Z"
   },
   {
    "duration": 316,
    "start_time": "2024-06-14T05:58:56.423Z"
   },
   {
    "duration": 1453,
    "start_time": "2024-06-14T05:59:07.737Z"
   },
   {
    "duration": 780,
    "start_time": "2024-06-14T05:59:09.194Z"
   },
   {
    "duration": 9,
    "start_time": "2024-06-14T05:59:09.977Z"
   },
   {
    "duration": 34,
    "start_time": "2024-06-14T05:59:10.003Z"
   },
   {
    "duration": 4,
    "start_time": "2024-06-14T05:59:10.042Z"
   },
   {
    "duration": 778,
    "start_time": "2024-06-14T05:59:10.049Z"
   },
   {
    "duration": 699,
    "start_time": "2024-06-14T05:59:10.830Z"
   },
   {
    "duration": 137,
    "start_time": "2024-06-14T05:59:11.532Z"
   },
   {
    "duration": 5,
    "start_time": "2024-06-14T05:59:11.672Z"
   },
   {
    "duration": 21,
    "start_time": "2024-06-14T05:59:11.680Z"
   },
   {
    "duration": 4,
    "start_time": "2024-06-14T05:59:11.706Z"
   },
   {
    "duration": 1494,
    "start_time": "2024-06-14T05:59:11.714Z"
   },
   {
    "duration": 478,
    "start_time": "2024-06-14T05:59:13.211Z"
   },
   {
    "duration": 0,
    "start_time": "2024-06-14T05:59:13.703Z"
   },
   {
    "duration": 0,
    "start_time": "2024-06-14T05:59:13.705Z"
   },
   {
    "duration": 0,
    "start_time": "2024-06-14T05:59:13.707Z"
   },
   {
    "duration": 0,
    "start_time": "2024-06-14T05:59:13.710Z"
   },
   {
    "duration": 0,
    "start_time": "2024-06-14T05:59:13.713Z"
   },
   {
    "duration": 5270,
    "start_time": "2024-06-14T15:38:58.043Z"
   },
   {
    "duration": 880,
    "start_time": "2024-06-14T15:39:03.322Z"
   },
   {
    "duration": 19,
    "start_time": "2024-06-14T15:39:04.206Z"
   },
   {
    "duration": 42,
    "start_time": "2024-06-14T15:39:04.230Z"
   },
   {
    "duration": 5,
    "start_time": "2024-06-14T15:39:04.275Z"
   },
   {
    "duration": 840,
    "start_time": "2024-06-14T15:39:04.284Z"
   },
   {
    "duration": 739,
    "start_time": "2024-06-14T15:39:05.128Z"
   },
   {
    "duration": 151,
    "start_time": "2024-06-14T15:39:05.871Z"
   },
   {
    "duration": 7,
    "start_time": "2024-06-14T15:39:06.025Z"
   },
   {
    "duration": 0,
    "start_time": "2024-06-14T15:39:06.036Z"
   },
   {
    "duration": 0,
    "start_time": "2024-06-14T15:39:06.038Z"
   },
   {
    "duration": 0,
    "start_time": "2024-06-14T15:39:06.041Z"
   },
   {
    "duration": 0,
    "start_time": "2024-06-14T15:39:06.043Z"
   },
   {
    "duration": 19,
    "start_time": "2024-06-14T15:49:04.459Z"
   },
   {
    "duration": 35,
    "start_time": "2024-06-14T15:50:26.675Z"
   },
   {
    "duration": 767,
    "start_time": "2024-06-14T15:53:42.855Z"
   },
   {
    "duration": 98,
    "start_time": "2024-06-14T15:53:44.963Z"
   },
   {
    "duration": 4,
    "start_time": "2024-06-14T15:54:39.261Z"
   },
   {
    "duration": 515,
    "start_time": "2024-06-14T15:55:21.119Z"
   },
   {
    "duration": 1534,
    "start_time": "2024-06-14T15:55:50.507Z"
   },
   {
    "duration": 856,
    "start_time": "2024-06-14T15:55:52.045Z"
   },
   {
    "duration": 16,
    "start_time": "2024-06-14T15:55:52.907Z"
   },
   {
    "duration": 47,
    "start_time": "2024-06-14T15:55:52.927Z"
   },
   {
    "duration": 4,
    "start_time": "2024-06-14T15:55:52.977Z"
   },
   {
    "duration": 830,
    "start_time": "2024-06-14T15:55:52.984Z"
   },
   {
    "duration": 761,
    "start_time": "2024-06-14T15:55:53.826Z"
   },
   {
    "duration": 107,
    "start_time": "2024-06-14T15:55:54.591Z"
   },
   {
    "duration": 327,
    "start_time": "2024-06-14T15:56:27.264Z"
   },
   {
    "duration": 1582,
    "start_time": "2024-06-14T15:57:36.434Z"
   },
   {
    "duration": 149,
    "start_time": "2024-06-14T15:57:43.829Z"
   },
   {
    "duration": 24,
    "start_time": "2024-06-14T15:57:50.280Z"
   },
   {
    "duration": 27,
    "start_time": "2024-06-14T15:58:07.735Z"
   },
   {
    "duration": 1543,
    "start_time": "2024-06-14T15:58:20.831Z"
   },
   {
    "duration": 866,
    "start_time": "2024-06-14T15:58:22.377Z"
   },
   {
    "duration": 8,
    "start_time": "2024-06-14T15:58:23.246Z"
   },
   {
    "duration": 65,
    "start_time": "2024-06-14T15:58:23.258Z"
   },
   {
    "duration": 4,
    "start_time": "2024-06-14T15:58:23.328Z"
   },
   {
    "duration": 831,
    "start_time": "2024-06-14T15:58:23.336Z"
   },
   {
    "duration": 822,
    "start_time": "2024-06-14T15:58:24.170Z"
   },
   {
    "duration": 127,
    "start_time": "2024-06-14T15:58:24.996Z"
   },
   {
    "duration": 708,
    "start_time": "2024-06-14T15:58:25.126Z"
   },
   {
    "duration": 0,
    "start_time": "2024-06-14T15:58:25.838Z"
   },
   {
    "duration": 0,
    "start_time": "2024-06-14T15:58:25.840Z"
   },
   {
    "duration": 0,
    "start_time": "2024-06-14T15:58:25.842Z"
   },
   {
    "duration": 0,
    "start_time": "2024-06-14T15:58:25.844Z"
   },
   {
    "duration": 319,
    "start_time": "2024-06-14T16:23:07.931Z"
   },
   {
    "duration": 22,
    "start_time": "2024-06-14T16:23:14.091Z"
   },
   {
    "duration": 1465,
    "start_time": "2024-06-14T16:23:24.759Z"
   },
   {
    "duration": 864,
    "start_time": "2024-06-14T16:23:26.227Z"
   },
   {
    "duration": 8,
    "start_time": "2024-06-14T16:23:27.094Z"
   },
   {
    "duration": 52,
    "start_time": "2024-06-14T16:23:27.124Z"
   },
   {
    "duration": 5,
    "start_time": "2024-06-14T16:23:27.179Z"
   },
   {
    "duration": 827,
    "start_time": "2024-06-14T16:23:27.187Z"
   },
   {
    "duration": 753,
    "start_time": "2024-06-14T16:23:28.017Z"
   },
   {
    "duration": 114,
    "start_time": "2024-06-14T16:23:28.772Z"
   },
   {
    "duration": 1521,
    "start_time": "2024-06-14T17:10:44.430Z"
   },
   {
    "duration": 834,
    "start_time": "2024-06-14T17:10:45.954Z"
   },
   {
    "duration": 8,
    "start_time": "2024-06-14T17:10:46.791Z"
   },
   {
    "duration": 60,
    "start_time": "2024-06-14T17:10:46.803Z"
   },
   {
    "duration": 4,
    "start_time": "2024-06-14T17:10:46.870Z"
   },
   {
    "duration": 827,
    "start_time": "2024-06-14T17:10:46.878Z"
   },
   {
    "duration": 761,
    "start_time": "2024-06-14T17:10:47.710Z"
   },
   {
    "duration": 109,
    "start_time": "2024-06-14T17:10:48.474Z"
   },
   {
    "duration": 318,
    "start_time": "2024-06-14T17:11:45.425Z"
   },
   {
    "duration": 1542,
    "start_time": "2024-06-14T17:12:03.501Z"
   },
   {
    "duration": 825,
    "start_time": "2024-06-14T17:12:05.047Z"
   },
   {
    "duration": 8,
    "start_time": "2024-06-14T17:12:05.876Z"
   },
   {
    "duration": 62,
    "start_time": "2024-06-14T17:12:05.888Z"
   },
   {
    "duration": 4,
    "start_time": "2024-06-14T17:12:05.955Z"
   },
   {
    "duration": 847,
    "start_time": "2024-06-14T17:12:05.962Z"
   },
   {
    "duration": 761,
    "start_time": "2024-06-14T17:12:06.814Z"
   },
   {
    "duration": 113,
    "start_time": "2024-06-14T17:12:07.578Z"
   },
   {
    "duration": 316,
    "start_time": "2024-06-14T17:13:02.230Z"
   },
   {
    "duration": 1504,
    "start_time": "2024-06-14T17:13:26.668Z"
   },
   {
    "duration": 839,
    "start_time": "2024-06-14T17:13:28.177Z"
   },
   {
    "duration": 8,
    "start_time": "2024-06-14T17:13:29.024Z"
   },
   {
    "duration": 44,
    "start_time": "2024-06-14T17:13:29.036Z"
   },
   {
    "duration": 4,
    "start_time": "2024-06-14T17:13:29.085Z"
   },
   {
    "duration": 864,
    "start_time": "2024-06-14T17:13:29.092Z"
   },
   {
    "duration": 764,
    "start_time": "2024-06-14T17:13:29.959Z"
   },
   {
    "duration": 109,
    "start_time": "2024-06-14T17:13:30.727Z"
   },
   {
    "duration": 3,
    "start_time": "2024-06-14T17:13:30.840Z"
   },
   {
    "duration": 526,
    "start_time": "2024-06-14T17:13:30.847Z"
   },
   {
    "duration": 0,
    "start_time": "2024-06-14T17:13:31.376Z"
   },
   {
    "duration": 0,
    "start_time": "2024-06-14T17:13:31.378Z"
   },
   {
    "duration": 0,
    "start_time": "2024-06-14T17:13:31.381Z"
   },
   {
    "duration": 23,
    "start_time": "2024-06-14T17:17:07.085Z"
   },
   {
    "duration": 52,
    "start_time": "2024-06-14T17:17:24.677Z"
   },
   {
    "duration": 41,
    "start_time": "2024-06-14T17:54:44.444Z"
   },
   {
    "duration": 47,
    "start_time": "2024-06-14T17:54:46.928Z"
   },
   {
    "duration": 329,
    "start_time": "2024-06-14T17:55:25.725Z"
   },
   {
    "duration": 1728,
    "start_time": "2024-06-14T17:55:39.212Z"
   },
   {
    "duration": 885,
    "start_time": "2024-06-14T17:55:40.944Z"
   },
   {
    "duration": 9,
    "start_time": "2024-06-14T17:55:41.833Z"
   },
   {
    "duration": 47,
    "start_time": "2024-06-14T17:55:41.848Z"
   },
   {
    "duration": 30,
    "start_time": "2024-06-14T17:55:41.897Z"
   },
   {
    "duration": 856,
    "start_time": "2024-06-14T17:55:41.931Z"
   },
   {
    "duration": 1544,
    "start_time": "2024-06-14T17:56:16.971Z"
   },
   {
    "duration": 885,
    "start_time": "2024-06-14T17:56:18.519Z"
   },
   {
    "duration": 16,
    "start_time": "2024-06-14T17:56:19.407Z"
   },
   {
    "duration": 49,
    "start_time": "2024-06-14T17:56:19.426Z"
   },
   {
    "duration": 5,
    "start_time": "2024-06-14T17:56:19.481Z"
   },
   {
    "duration": 33,
    "start_time": "2024-06-14T17:56:19.490Z"
   },
   {
    "duration": 1585,
    "start_time": "2024-06-14T17:57:26.999Z"
   },
   {
    "duration": 898,
    "start_time": "2024-06-14T17:57:28.589Z"
   },
   {
    "duration": 8,
    "start_time": "2024-06-14T17:57:29.491Z"
   },
   {
    "duration": 20,
    "start_time": "2024-06-14T17:57:29.503Z"
   },
   {
    "duration": 4,
    "start_time": "2024-06-14T17:57:29.529Z"
   },
   {
    "duration": 4,
    "start_time": "2024-06-14T17:57:29.539Z"
   },
   {
    "duration": 1552,
    "start_time": "2024-06-14T18:01:05.850Z"
   },
   {
    "duration": 847,
    "start_time": "2024-06-14T18:01:07.407Z"
   },
   {
    "duration": 9,
    "start_time": "2024-06-14T18:01:08.257Z"
   },
   {
    "duration": 75,
    "start_time": "2024-06-14T18:01:08.269Z"
   },
   {
    "duration": 6,
    "start_time": "2024-06-14T18:01:08.349Z"
   },
   {
    "duration": 4,
    "start_time": "2024-06-14T18:01:08.358Z"
   },
   {
    "duration": 336,
    "start_time": "2024-06-14T18:01:31.191Z"
   },
   {
    "duration": 1590,
    "start_time": "2024-06-14T18:01:42.701Z"
   },
   {
    "duration": 870,
    "start_time": "2024-06-14T18:01:44.294Z"
   },
   {
    "duration": 10,
    "start_time": "2024-06-14T18:01:45.167Z"
   },
   {
    "duration": 68,
    "start_time": "2024-06-14T18:01:45.181Z"
   },
   {
    "duration": 5,
    "start_time": "2024-06-14T18:01:45.252Z"
   },
   {
    "duration": 4,
    "start_time": "2024-06-14T18:01:45.261Z"
   },
   {
    "duration": 313,
    "start_time": "2024-06-15T05:06:10.478Z"
   },
   {
    "duration": 5356,
    "start_time": "2024-06-15T05:06:19.314Z"
   },
   {
    "duration": 922,
    "start_time": "2024-06-15T05:06:24.675Z"
   },
   {
    "duration": 8,
    "start_time": "2024-06-15T05:06:25.601Z"
   },
   {
    "duration": 59,
    "start_time": "2024-06-15T05:06:25.614Z"
   },
   {
    "duration": 4,
    "start_time": "2024-06-15T05:06:25.676Z"
   },
   {
    "duration": 3,
    "start_time": "2024-06-15T05:06:25.684Z"
   },
   {
    "duration": 333,
    "start_time": "2024-06-15T05:07:13.965Z"
   },
   {
    "duration": 1661,
    "start_time": "2024-06-15T05:07:24.524Z"
   },
   {
    "duration": 892,
    "start_time": "2024-06-15T05:07:26.189Z"
   },
   {
    "duration": 8,
    "start_time": "2024-06-15T05:07:27.084Z"
   },
   {
    "duration": 70,
    "start_time": "2024-06-15T05:07:27.096Z"
   },
   {
    "duration": 4,
    "start_time": "2024-06-15T05:07:27.168Z"
   },
   {
    "duration": 825,
    "start_time": "2024-06-15T05:07:27.175Z"
   },
   {
    "duration": 1453,
    "start_time": "2024-06-15T05:07:50.377Z"
   },
   {
    "duration": 784,
    "start_time": "2024-06-15T05:07:51.834Z"
   },
   {
    "duration": 12,
    "start_time": "2024-06-15T05:07:52.622Z"
   },
   {
    "duration": 45,
    "start_time": "2024-06-15T05:07:52.640Z"
   },
   {
    "duration": 4,
    "start_time": "2024-06-15T05:07:52.689Z"
   },
   {
    "duration": 791,
    "start_time": "2024-06-15T05:07:52.696Z"
   },
   {
    "duration": 3,
    "start_time": "2024-06-15T05:07:53.490Z"
   },
   {
    "duration": 512,
    "start_time": "2024-06-15T05:07:53.496Z"
   },
   {
    "duration": 0,
    "start_time": "2024-06-15T05:07:54.012Z"
   },
   {
    "duration": 0,
    "start_time": "2024-06-15T05:07:54.013Z"
   },
   {
    "duration": 0,
    "start_time": "2024-06-15T05:07:54.015Z"
   },
   {
    "duration": 0,
    "start_time": "2024-06-15T05:07:54.033Z"
   },
   {
    "duration": 0,
    "start_time": "2024-06-15T05:07:54.034Z"
   },
   {
    "duration": 0,
    "start_time": "2024-06-15T05:07:54.036Z"
   },
   {
    "duration": 5,
    "start_time": "2024-06-15T05:20:00.801Z"
   },
   {
    "duration": 316,
    "start_time": "2024-06-15T05:20:02.810Z"
   },
   {
    "duration": 1441,
    "start_time": "2024-06-15T05:20:10.863Z"
   },
   {
    "duration": 801,
    "start_time": "2024-06-15T05:20:12.308Z"
   },
   {
    "duration": 8,
    "start_time": "2024-06-15T05:20:13.112Z"
   },
   {
    "duration": 55,
    "start_time": "2024-06-15T05:20:13.123Z"
   },
   {
    "duration": 5,
    "start_time": "2024-06-15T05:20:13.181Z"
   },
   {
    "duration": 801,
    "start_time": "2024-06-15T05:20:13.189Z"
   },
   {
    "duration": 3,
    "start_time": "2024-06-15T05:20:13.993Z"
   },
   {
    "duration": 520,
    "start_time": "2024-06-15T05:20:14.000Z"
   },
   {
    "duration": 0,
    "start_time": "2024-06-15T05:20:14.523Z"
   },
   {
    "duration": 0,
    "start_time": "2024-06-15T05:20:14.525Z"
   },
   {
    "duration": 0,
    "start_time": "2024-06-15T05:20:14.526Z"
   },
   {
    "duration": 0,
    "start_time": "2024-06-15T05:20:14.527Z"
   },
   {
    "duration": 0,
    "start_time": "2024-06-15T05:20:14.532Z"
   },
   {
    "duration": 0,
    "start_time": "2024-06-15T05:20:14.534Z"
   },
   {
    "duration": 764,
    "start_time": "2024-06-15T05:24:12.618Z"
   },
   {
    "duration": 1492,
    "start_time": "2024-06-15T05:24:28.522Z"
   },
   {
    "duration": 757,
    "start_time": "2024-06-15T05:24:30.018Z"
   },
   {
    "duration": 8,
    "start_time": "2024-06-15T05:24:30.777Z"
   },
   {
    "duration": 61,
    "start_time": "2024-06-15T05:24:30.790Z"
   },
   {
    "duration": 4,
    "start_time": "2024-06-15T05:24:30.854Z"
   },
   {
    "duration": 840,
    "start_time": "2024-06-15T05:24:30.862Z"
   },
   {
    "duration": 4,
    "start_time": "2024-06-15T05:24:31.705Z"
   },
   {
    "duration": 612,
    "start_time": "2024-06-15T05:24:31.712Z"
   },
   {
    "duration": 0,
    "start_time": "2024-06-15T05:24:32.333Z"
   },
   {
    "duration": 0,
    "start_time": "2024-06-15T05:24:32.335Z"
   },
   {
    "duration": 0,
    "start_time": "2024-06-15T05:24:32.340Z"
   },
   {
    "duration": 0,
    "start_time": "2024-06-15T05:24:32.342Z"
   },
   {
    "duration": 0,
    "start_time": "2024-06-15T05:24:32.345Z"
   },
   {
    "duration": 0,
    "start_time": "2024-06-15T05:24:32.346Z"
   },
   {
    "duration": 1,
    "start_time": "2024-06-15T05:24:32.354Z"
   },
   {
    "duration": 768,
    "start_time": "2024-06-15T05:26:45.235Z"
   },
   {
    "duration": 29,
    "start_time": "2024-06-15T05:29:00.403Z"
   },
   {
    "duration": 693,
    "start_time": "2024-06-15T05:29:27.519Z"
   },
   {
    "duration": 703,
    "start_time": "2024-06-15T05:29:38.389Z"
   },
   {
    "duration": 755,
    "start_time": "2024-06-15T05:30:00.194Z"
   },
   {
    "duration": 80,
    "start_time": "2024-06-15T05:30:14.762Z"
   },
   {
    "duration": 42,
    "start_time": "2024-06-15T05:30:25.361Z"
   },
   {
    "duration": 26,
    "start_time": "2024-06-15T05:30:37.829Z"
   },
   {
    "duration": 933,
    "start_time": "2024-06-15T05:30:58.771Z"
   }
  ],
  "kernelspec": {
   "display_name": "Python 3 (ipykernel)",
   "language": "python",
   "name": "python3"
  },
  "language_info": {
   "codemirror_mode": {
    "name": "ipython",
    "version": 3
   },
   "file_extension": ".py",
   "mimetype": "text/x-python",
   "name": "python",
   "nbconvert_exporter": "python",
   "pygments_lexer": "ipython3",
   "version": "3.9.19"
  },
  "toc": {
   "base_numbering": 1,
   "nav_menu": {},
   "number_sections": true,
   "sideBar": true,
   "skip_h1_title": true,
   "title_cell": "Table of Contents",
   "title_sidebar": "Contents",
   "toc_cell": false,
   "toc_position": {},
   "toc_section_display": true,
   "toc_window_display": false
  }
 },
 "nbformat": 4,
 "nbformat_minor": 2
}
